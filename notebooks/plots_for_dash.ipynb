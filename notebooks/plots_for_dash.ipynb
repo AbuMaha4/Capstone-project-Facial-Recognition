{
 "cells": [
  {
   "cell_type": "code",
   "execution_count": 9,
   "metadata": {},
   "outputs": [],
   "source": [
    "import plotly.express as px\n",
    "import plotly.graph_objs as go\n",
    "from plotly.subplots import make_subplots\n",
    "import pandas as pd\n"
   ]
  },
  {
   "cell_type": "code",
   "execution_count": 2,
   "metadata": {},
   "outputs": [
    {
     "name": "stderr",
     "output_type": "stream",
     "text": [
      "2023-03-27 15:46:05.034548: W tensorflow/tsl/platform/profile_utils/cpu_utils.cc:128] Failed to get CPU frequency: 0 Hz\n",
      "2023-03-27 15:46:05.213621: I tensorflow/core/grappler/optimizers/custom_graph_optimizer_registry.cc:114] Plugin optimizer for device_type GPU is enabled.\n"
     ]
    },
    {
     "name": "stdout",
     "output_type": "stream",
     "text": [
      "1/1 [==============================] - 0s 401ms/step\n",
      "1/1 [==============================] - 0s 16ms/step\n",
      "1/1 [==============================] - 0s 14ms/step\n",
      "1/1 [==============================] - 0s 14ms/step\n",
      "1/1 [==============================] - 0s 16ms/step\n",
      "1/1 [==============================] - 0s 15ms/step\n",
      "1/1 [==============================] - 0s 17ms/step\n",
      "1/1 [==============================] - 0s 17ms/step\n",
      "1/1 [==============================] - 0s 16ms/step\n",
      "1/1 [==============================] - 0s 17ms/step\n",
      "1/1 [==============================] - 0s 15ms/step\n",
      "1/1 [==============================] - 0s 15ms/step\n",
      "1/1 [==============================] - 0s 13ms/step\n",
      "1/1 [==============================] - 0s 14ms/step\n",
      "1/1 [==============================] - 0s 14ms/step\n",
      "1/1 [==============================] - 0s 14ms/step\n",
      "1/1 [==============================] - 0s 17ms/step\n",
      "1/1 [==============================] - 0s 14ms/step\n",
      "1/1 [==============================] - 0s 15ms/step\n",
      "1/1 [==============================] - 0s 14ms/step\n",
      "1/1 [==============================] - 0s 15ms/step\n",
      "1/1 [==============================] - 0s 18ms/step\n",
      "1/1 [==============================] - 0s 15ms/step\n",
      "1/1 [==============================] - 0s 14ms/step\n",
      "1/1 [==============================] - 0s 14ms/step\n",
      "1/1 [==============================] - 0s 16ms/step\n",
      "1/1 [==============================] - 0s 18ms/step\n",
      "1/1 [==============================] - 0s 14ms/step\n",
      "1/1 [==============================] - 0s 15ms/step\n",
      "1/1 [==============================] - 0s 16ms/step\n",
      "1/1 [==============================] - 0s 15ms/step\n",
      "1/1 [==============================] - 0s 14ms/step\n",
      "1/1 [==============================] - 0s 42ms/step\n",
      "1/1 [==============================] - 0s 14ms/step\n",
      "1/1 [==============================] - 0s 18ms/step\n",
      "1/1 [==============================] - 0s 14ms/step\n",
      "1/1 [==============================] - 0s 14ms/step\n",
      "1/1 [==============================] - 0s 14ms/step\n",
      "1/1 [==============================] - 0s 14ms/step\n",
      "1/1 [==============================] - 0s 14ms/step\n",
      "1/1 [==============================] - 0s 15ms/step\n",
      "1/1 [==============================] - 0s 13ms/step\n",
      "1/1 [==============================] - 0s 22ms/step\n",
      "1/1 [==============================] - 0s 15ms/step\n",
      "1/1 [==============================] - 0s 14ms/step\n",
      "1/1 [==============================] - 0s 15ms/step\n",
      "1/1 [==============================] - 0s 16ms/step\n",
      "1/1 [==============================] - 0s 14ms/step\n",
      "1/1 [==============================] - 0s 14ms/step\n",
      "1/1 [==============================] - 0s 15ms/step\n",
      "1/1 [==============================] - 0s 14ms/step\n",
      "1/1 [==============================] - 0s 14ms/step\n",
      "1/1 [==============================] - 0s 14ms/step\n",
      "1/1 [==============================] - 0s 14ms/step\n",
      "1/1 [==============================] - 0s 14ms/step\n",
      "1/1 [==============================] - 0s 14ms/step\n",
      "1/1 [==============================] - 0s 14ms/step\n",
      "1/1 [==============================] - 0s 14ms/step\n",
      "1/1 [==============================] - 0s 14ms/step\n",
      "1/1 [==============================] - 0s 14ms/step\n",
      "1/1 [==============================] - 0s 26ms/step\n",
      "1/1 [==============================] - 0s 16ms/step\n",
      "1/1 [==============================] - 0s 14ms/step\n",
      "1/1 [==============================] - 0s 14ms/step\n",
      "1/1 [==============================] - 0s 14ms/step\n",
      "1/1 [==============================] - 0s 14ms/step\n",
      "1/1 [==============================] - 0s 14ms/step\n",
      "1/1 [==============================] - 0s 15ms/step\n",
      "1/1 [==============================] - 0s 14ms/step\n",
      "1/1 [==============================] - 0s 16ms/step\n",
      "1/1 [==============================] - 0s 14ms/step\n",
      "1/1 [==============================] - 0s 15ms/step\n",
      "1/1 [==============================] - 0s 14ms/step\n",
      "1/1 [==============================] - 0s 14ms/step\n",
      "1/1 [==============================] - 0s 14ms/step\n",
      "1/1 [==============================] - 0s 14ms/step\n",
      "1/1 [==============================] - 0s 14ms/step\n",
      "1/1 [==============================] - 0s 15ms/step\n",
      "1/1 [==============================] - 0s 14ms/step\n",
      "1/1 [==============================] - 0s 14ms/step\n",
      "1/1 [==============================] - 0s 14ms/step\n",
      "1/1 [==============================] - 0s 14ms/step\n",
      "1/1 [==============================] - 0s 14ms/step\n",
      "1/1 [==============================] - 0s 14ms/step\n",
      "1/1 [==============================] - 0s 14ms/step\n",
      "1/1 [==============================] - 0s 14ms/step\n",
      "1/1 [==============================] - 0s 14ms/step\n",
      "1/1 [==============================] - 0s 15ms/step\n",
      "1/1 [==============================] - 0s 14ms/step\n",
      "1/1 [==============================] - 0s 15ms/step\n",
      "1/1 [==============================] - 0s 16ms/step\n",
      "1/1 [==============================] - 0s 16ms/step\n",
      "1/1 [==============================] - 0s 14ms/step\n",
      "1/1 [==============================] - 0s 14ms/step\n",
      "1/1 [==============================] - 0s 14ms/step\n",
      "1/1 [==============================] - 0s 15ms/step\n",
      "1/1 [==============================] - 0s 14ms/step\n",
      "1/1 [==============================] - 0s 14ms/step\n",
      "1/1 [==============================] - 0s 14ms/step\n",
      "1/1 [==============================] - 0s 13ms/step\n",
      "1/1 [==============================] - 0s 14ms/step\n",
      "1/1 [==============================] - 0s 14ms/step\n",
      "1/1 [==============================] - 0s 14ms/step\n",
      "1/1 [==============================] - 0s 14ms/step\n",
      "1/1 [==============================] - 0s 15ms/step\n",
      "1/1 [==============================] - 0s 14ms/step\n"
     ]
    }
   ],
   "source": [
    "import neuralxpresso2 as nx\n",
    "YT_LINK = \"https://www.youtube.com/watch?v=m70UInZKJjU\"\n",
    "cb_palette = ['#CA3435', '#ff7f00', '#9370DB', '#40E0D0', '#1f77b4', '#9467bd', '#7f7f7f']\n",
    "\n",
    "\n",
    "npx = nx.NeuralXpressoSession(yt_link=YT_LINK)\n",
    "result = npx.run_analysis()"
   ]
  },
  {
   "cell_type": "code",
   "execution_count": 7,
   "metadata": {},
   "outputs": [
    {
     "data": {
      "text/html": [
       "<div>\n",
       "<style scoped>\n",
       "    .dataframe tbody tr th:only-of-type {\n",
       "        vertical-align: middle;\n",
       "    }\n",
       "\n",
       "    .dataframe tbody tr th {\n",
       "        vertical-align: top;\n",
       "    }\n",
       "\n",
       "    .dataframe thead th {\n",
       "        text-align: right;\n",
       "    }\n",
       "</style>\n",
       "<table border=\"1\" class=\"dataframe\">\n",
       "  <thead>\n",
       "    <tr style=\"text-align: right;\">\n",
       "      <th></th>\n",
       "      <th>person_ID</th>\n",
       "      <th>appearances</th>\n",
       "      <th>Angry</th>\n",
       "      <th>Disgust</th>\n",
       "      <th>Fear</th>\n",
       "      <th>Happy</th>\n",
       "      <th>Sad</th>\n",
       "      <th>Surprise</th>\n",
       "      <th>Neutral</th>\n",
       "    </tr>\n",
       "  </thead>\n",
       "  <tbody>\n",
       "    <tr>\n",
       "      <th>0</th>\n",
       "      <td>1</td>\n",
       "      <td>49</td>\n",
       "      <td>0.139440</td>\n",
       "      <td>0.022268</td>\n",
       "      <td>0.106683</td>\n",
       "      <td>0.250476</td>\n",
       "      <td>0.070885</td>\n",
       "      <td>0.226807</td>\n",
       "      <td>0.183441</td>\n",
       "    </tr>\n",
       "    <tr>\n",
       "      <th>1</th>\n",
       "      <td>2</td>\n",
       "      <td>48</td>\n",
       "      <td>0.066614</td>\n",
       "      <td>0.021204</td>\n",
       "      <td>0.137152</td>\n",
       "      <td>0.433164</td>\n",
       "      <td>0.044026</td>\n",
       "      <td>0.025478</td>\n",
       "      <td>0.272362</td>\n",
       "    </tr>\n",
       "    <tr>\n",
       "      <th>2</th>\n",
       "      <td>3</td>\n",
       "      <td>1</td>\n",
       "      <td>0.144567</td>\n",
       "      <td>0.016766</td>\n",
       "      <td>0.222988</td>\n",
       "      <td>0.184438</td>\n",
       "      <td>0.278748</td>\n",
       "      <td>0.013806</td>\n",
       "      <td>0.138688</td>\n",
       "    </tr>\n",
       "    <tr>\n",
       "      <th>3</th>\n",
       "      <td>4</td>\n",
       "      <td>7</td>\n",
       "      <td>0.049333</td>\n",
       "      <td>0.007716</td>\n",
       "      <td>0.033447</td>\n",
       "      <td>0.685559</td>\n",
       "      <td>0.069034</td>\n",
       "      <td>0.037845</td>\n",
       "      <td>0.117066</td>\n",
       "    </tr>\n",
       "    <tr>\n",
       "      <th>4</th>\n",
       "      <td>5</td>\n",
       "      <td>1</td>\n",
       "      <td>0.103874</td>\n",
       "      <td>0.007410</td>\n",
       "      <td>0.176604</td>\n",
       "      <td>0.432577</td>\n",
       "      <td>0.039263</td>\n",
       "      <td>0.018609</td>\n",
       "      <td>0.221663</td>\n",
       "    </tr>\n",
       "  </tbody>\n",
       "</table>\n",
       "</div>"
      ],
      "text/plain": [
       "   person_ID  appearances     Angry   Disgust      Fear     Happy       Sad  \\\n",
       "0          1           49  0.139440  0.022268  0.106683  0.250476  0.070885   \n",
       "1          2           48  0.066614  0.021204  0.137152  0.433164  0.044026   \n",
       "2          3            1  0.144567  0.016766  0.222988  0.184438  0.278748   \n",
       "3          4            7  0.049333  0.007716  0.033447  0.685559  0.069034   \n",
       "4          5            1  0.103874  0.007410  0.176604  0.432577  0.039263   \n",
       "\n",
       "   Surprise   Neutral  \n",
       "0  0.226807  0.183441  \n",
       "1  0.025478  0.272362  \n",
       "2  0.013806  0.138688  \n",
       "3  0.037845  0.117066  \n",
       "4  0.018609  0.221663  "
      ]
     },
     "execution_count": 7,
     "metadata": {},
     "output_type": "execute_result"
    }
   ],
   "source": [
    "df_character = result['character_overview']\n",
    "df_character"
   ]
  },
  {
   "cell_type": "code",
   "execution_count": 64,
   "metadata": {},
   "outputs": [
    {
     "data": {
      "text/html": [
       "<div>\n",
       "<style scoped>\n",
       "    .dataframe tbody tr th:only-of-type {\n",
       "        vertical-align: middle;\n",
       "    }\n",
       "\n",
       "    .dataframe tbody tr th {\n",
       "        vertical-align: top;\n",
       "    }\n",
       "\n",
       "    .dataframe thead th {\n",
       "        text-align: right;\n",
       "    }\n",
       "</style>\n",
       "<table border=\"1\" class=\"dataframe\">\n",
       "  <thead>\n",
       "    <tr style=\"text-align: right;\">\n",
       "      <th></th>\n",
       "      <th>frame</th>\n",
       "      <th>person_ID</th>\n",
       "      <th>emotion</th>\n",
       "      <th>probability</th>\n",
       "    </tr>\n",
       "  </thead>\n",
       "  <tbody>\n",
       "    <tr>\n",
       "      <th>0</th>\n",
       "      <td>0</td>\n",
       "      <td>1</td>\n",
       "      <td>Angry</td>\n",
       "      <td>0.048646</td>\n",
       "    </tr>\n",
       "    <tr>\n",
       "      <th>1</th>\n",
       "      <td>0</td>\n",
       "      <td>2</td>\n",
       "      <td>Angry</td>\n",
       "      <td>0.184672</td>\n",
       "    </tr>\n",
       "    <tr>\n",
       "      <th>2</th>\n",
       "      <td>1</td>\n",
       "      <td>2</td>\n",
       "      <td>Angry</td>\n",
       "      <td>0.022843</td>\n",
       "    </tr>\n",
       "    <tr>\n",
       "      <th>3</th>\n",
       "      <td>1</td>\n",
       "      <td>1</td>\n",
       "      <td>Angry</td>\n",
       "      <td>0.287634</td>\n",
       "    </tr>\n",
       "    <tr>\n",
       "      <th>4</th>\n",
       "      <td>2</td>\n",
       "      <td>1</td>\n",
       "      <td>Angry</td>\n",
       "      <td>0.131788</td>\n",
       "    </tr>\n",
       "    <tr>\n",
       "      <th>...</th>\n",
       "      <td>...</td>\n",
       "      <td>...</td>\n",
       "      <td>...</td>\n",
       "      <td>...</td>\n",
       "    </tr>\n",
       "    <tr>\n",
       "      <th>737</th>\n",
       "      <td>53</td>\n",
       "      <td>2</td>\n",
       "      <td>Neutral</td>\n",
       "      <td>0.271489</td>\n",
       "    </tr>\n",
       "    <tr>\n",
       "      <th>738</th>\n",
       "      <td>54</td>\n",
       "      <td>4</td>\n",
       "      <td>Neutral</td>\n",
       "      <td>0.043647</td>\n",
       "    </tr>\n",
       "    <tr>\n",
       "      <th>739</th>\n",
       "      <td>54</td>\n",
       "      <td>2</td>\n",
       "      <td>Neutral</td>\n",
       "      <td>0.265225</td>\n",
       "    </tr>\n",
       "    <tr>\n",
       "      <th>740</th>\n",
       "      <td>55</td>\n",
       "      <td>2</td>\n",
       "      <td>Neutral</td>\n",
       "      <td>0.131432</td>\n",
       "    </tr>\n",
       "    <tr>\n",
       "      <th>741</th>\n",
       "      <td>55</td>\n",
       "      <td>4</td>\n",
       "      <td>Neutral</td>\n",
       "      <td>0.050166</td>\n",
       "    </tr>\n",
       "  </tbody>\n",
       "</table>\n",
       "<p>742 rows × 4 columns</p>\n",
       "</div>"
      ],
      "text/plain": [
       "     frame  person_ID  emotion  probability\n",
       "0        0          1    Angry     0.048646\n",
       "1        0          2    Angry     0.184672\n",
       "2        1          2    Angry     0.022843\n",
       "3        1          1    Angry     0.287634\n",
       "4        2          1    Angry     0.131788\n",
       "..     ...        ...      ...          ...\n",
       "737     53          2  Neutral     0.271489\n",
       "738     54          4  Neutral     0.043647\n",
       "739     54          2  Neutral     0.265225\n",
       "740     55          2  Neutral     0.131432\n",
       "741     55          4  Neutral     0.050166\n",
       "\n",
       "[742 rows x 4 columns]"
      ]
     },
     "execution_count": 64,
     "metadata": {},
     "output_type": "execute_result"
    }
   ],
   "source": [
    "df_video = result['video_overview']\n",
    "df_video"
   ]
  },
  {
   "cell_type": "code",
   "execution_count": 96,
   "metadata": {},
   "outputs": [],
   "source": [
    "def get_df_single_person(df_video, ID):\n",
    "    df_single_person = df_video[df_video['person_ID'] == ID]\n",
    "    df_single_person['moving_avg'] = df_single_person['probability'].rolling(window=10, center=True).mean()\n",
    "    return df_single_person\n",
    "\n"
   ]
  },
  {
   "cell_type": "code",
   "execution_count": 179,
   "metadata": {},
   "outputs": [],
   "source": [
    "\n",
    "def get_emotion_landscape(df_single_person):\n",
    "    # Create the plot \n",
    "    fig = px.area(df_single_person, x=\"frame\", y=\"moving_avg\", color=\"emotion\",\n",
    "                color_discrete_sequence=cb_palette, hover_data={\"text\": df_single_person['emotion']})\n",
    "\n",
    "    # Update the layout \n",
    "    fig.update_layout(\n",
    "        title={\n",
    "            'text': '<b>Probability of emotion per frame</b>',\n",
    "            'font': {'size': 24, 'color': 'black'},\n",
    "            'x': 0.5, #center header\n",
    "            'y': 0.95 #center header\n",
    "        },\n",
    "        xaxis_title='Frames',\n",
    "        yaxis_title='Probability',\n",
    "        legend_title='Emotion',\n",
    "        font=dict(family='Arial', size=14),\n",
    "        margin=dict(l=50, r=50, t=100, b=50),\n",
    "        plot_bgcolor='white',\n",
    "        xaxis=dict(dtick=1)  #set the x-axis step \n",
    "    )\n",
    "\n",
    "    # Update the legend with customizations\n",
    "    fig.update_traces(\n",
    "        hovertemplate='<br>'.join([\n",
    "            'Emotion: %{fullData.name}',\n",
    "            'Frame: %{x:.2f} ',\n",
    "            'Probability: %{y:.2f}'\n",
    "        ]),\n",
    "        hoverlabel=dict(bgcolor='white', font_size=14),\n",
    "        line=dict(width=2),\n",
    "        showlegend=True,\n",
    "        stackgroup='one',\n",
    "        hoverinfo='all'\n",
    "    )\n",
    "\n",
    "    return fig\n"
   ]
  },
  {
   "cell_type": "code",
   "execution_count": 180,
   "metadata": {},
   "outputs": [
    {
     "name": "stderr",
     "output_type": "stream",
     "text": [
      "/var/folders/f3/dnfpyp3918b33k59tvpmpcl40000gn/T/ipykernel_79056/1087280200.py:3: SettingWithCopyWarning:\n",
      "\n",
      "\n",
      "A value is trying to be set on a copy of a slice from a DataFrame.\n",
      "Try using .loc[row_indexer,col_indexer] = value instead\n",
      "\n",
      "See the caveats in the documentation: https://pandas.pydata.org/pandas-docs/stable/user_guide/indexing.html#returning-a-view-versus-a-copy\n",
      "\n"
     ]
    }
   ],
   "source": [
    "df_single_person = get_df_single_person(df_video, ID=1)"
   ]
  },
  {
   "cell_type": "code",
   "execution_count": 181,
   "metadata": {},
   "outputs": [],
   "source": [
    "# Define a function that returns the emotion with the highest probability for a given row\n",
    "def get_max_emotion(row):\n",
    "    return row['emotion'][np.argmax(row['probability'])]\n",
    "\n",
    "def get_df_radar(df_single_person):\n",
    "    # Apply the function to each row of the DataFrame\n",
    "    max_prob_rows = df_single_person.groupby('frame')['probability'].idxmax().reset_index()\n",
    "    max_prob_df = df_single_person.loc[max_prob_rows['probability']]\n",
    "    emotions_counts = max_prob_df['emotion'].value_counts().reset_index()\n",
    "    return df_radar\n"
   ]
  },
  {
   "cell_type": "code",
   "execution_count": 183,
   "metadata": {},
   "outputs": [],
   "source": [
    "# Define the color palette\n",
    "cb_palette = ['#40E0D0', '#ff7f00', '#9370DB', '#CA3435', '#1f77b4', '#9467bd', '#7f7f7f']\n",
    "\n",
    "def get_radar_plot(df_radar):\n",
    "    # create the plot\n",
    "    fig = go.Figure(data=go.Scatterpolar(\n",
    "        r=df_radar['emotion'].tolist(),\n",
    "        theta=df_radar['index'].tolist(),\n",
    "        fill='toself',\n",
    "        name='',\n",
    "        line_color=cb_palette[0],\n",
    "        fillcolor=cb_palette[0],\n",
    "        hovertemplate='%{theta}: %{r}'\n",
    "    ))\n",
    "\n",
    "    fig.update_layout(\n",
    "        polar=dict(\n",
    "            radialaxis=dict(\n",
    "                visible=True,\n",
    "                range=[0, max(df_radar['emotion'])],\n",
    "                showticklabels=False,\n",
    "                showgrid=False,\n",
    "                ticks=''\n",
    "            ),\n",
    "            angularaxis=dict(\n",
    "                tickfont=dict(size=14),\n",
    "                rotation=90,\n",
    "                direction='clockwise'\n",
    "            )\n",
    "        ),\n",
    "        showlegend=False,\n",
    "        height=400,\n",
    "        margin=dict(t=80, b=50, l=50, r=50),\n",
    "        font=dict(size=16)\n",
    "    )\n",
    "\n",
    "    fig.update_layout(\n",
    "        title={\n",
    "            'text': \"<span style='font-size: 24px'>Prevalence Of Feelings During The Video</span>\",\n",
    "            'y':0.95,\n",
    "            'x':0.5,\n",
    "            'xanchor': 'center',\n",
    "            'yanchor': 'top'\n",
    "        },\n",
    "        paper_bgcolor='white',\n",
    "        plot_bgcolor='white',\n",
    "    )\n",
    "\n",
    "    return fig\n",
    "\n"
   ]
  },
  {
   "cell_type": "code",
   "execution_count": 186,
   "metadata": {},
   "outputs": [
    {
     "name": "stderr",
     "output_type": "stream",
     "text": [
      "/var/folders/f3/dnfpyp3918b33k59tvpmpcl40000gn/T/ipykernel_79056/1087280200.py:3: SettingWithCopyWarning:\n",
      "\n",
      "\n",
      "A value is trying to be set on a copy of a slice from a DataFrame.\n",
      "Try using .loc[row_indexer,col_indexer] = value instead\n",
      "\n",
      "See the caveats in the documentation: https://pandas.pydata.org/pandas-docs/stable/user_guide/indexing.html#returning-a-view-versus-a-copy\n",
      "\n"
     ]
    },
    {
     "data": {
      "application/vnd.plotly.v1+json": {
       "config": {
        "plotlyServerURL": "https://plot.ly"
       },
       "data": [
        {
         "hovertemplate": "x: %{x}<br>y: %{y}<br>color: [%{z[0]}, %{z[1]}, %{z[2]}]<extra></extra>",
         "name": "0",
         "source": "data:image/png;base64,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",
         "type": "image",
         "xaxis": "x",
         "yaxis": "y"
        },
        {
         "customdata": [
          [
           "Angry"
          ],
          [
           "Angry"
          ],
          [
           "Angry"
          ],
          [
           "Angry"
          ],
          [
           "Angry"
          ],
          [
           "Angry"
          ],
          [
           "Angry"
          ],
          [
           "Angry"
          ],
          [
           "Angry"
          ],
          [
           "Angry"
          ],
          [
           "Angry"
          ],
          [
           "Angry"
          ],
          [
           "Angry"
          ],
          [
           "Angry"
          ],
          [
           "Angry"
          ],
          [
           "Angry"
          ],
          [
           "Angry"
          ],
          [
           "Angry"
          ],
          [
           "Angry"
          ],
          [
           "Angry"
          ],
          [
           "Angry"
          ],
          [
           "Angry"
          ],
          [
           "Angry"
          ],
          [
           "Angry"
          ],
          [
           "Angry"
          ],
          [
           "Angry"
          ],
          [
           "Angry"
          ],
          [
           "Angry"
          ],
          [
           "Angry"
          ],
          [
           "Angry"
          ],
          [
           "Angry"
          ],
          [
           "Angry"
          ],
          [
           "Angry"
          ],
          [
           "Angry"
          ],
          [
           "Angry"
          ],
          [
           "Angry"
          ],
          [
           "Angry"
          ],
          [
           "Angry"
          ],
          [
           "Angry"
          ],
          [
           "Angry"
          ],
          [
           "Angry"
          ],
          [
           "Angry"
          ],
          [
           "Angry"
          ],
          [
           "Angry"
          ],
          [
           "Angry"
          ],
          [
           "Angry"
          ],
          [
           "Angry"
          ],
          [
           "Angry"
          ],
          [
           "Angry"
          ]
         ],
         "fillpattern": {
          "shape": ""
         },
         "hoverinfo": "all",
         "hoverlabel": {
          "bgcolor": "white",
          "font": {
           "size": 14
          }
         },
         "hovertemplate": "Emotion: %{fullData.name}<br>Frame: %{x:.2f} <br>Probability: %{y:.2f}",
         "legendgroup": "Angry",
         "line": {
          "color": "#40E0D0",
          "width": 2
         },
         "marker": {
          "symbol": "circle"
         },
         "mode": "lines",
         "name": "Angry",
         "orientation": "v",
         "showlegend": true,
         "stackgroup": "one",
         "type": "scatter",
         "x": [
          0,
          1,
          2,
          3,
          4,
          5,
          6,
          7,
          8,
          9,
          10,
          11,
          12,
          13,
          14,
          15,
          16,
          17,
          18,
          19,
          20,
          21,
          22,
          23,
          24,
          25,
          26,
          27,
          28,
          29,
          31,
          32,
          33,
          35,
          37,
          38,
          39,
          40,
          41,
          43,
          44,
          45,
          46,
          47,
          48,
          49,
          50,
          52,
          53
         ],
         "xaxis": "x2",
         "y": [
          null,
          null,
          null,
          null,
          null,
          0.1272072944790125,
          0.13872507587075233,
          0.14373160675168037,
          0.13424635156989098,
          0.12903806641697885,
          0.13025784268975257,
          0.12209198772907257,
          0.12305185869336129,
          0.14202491641044618,
          0.13431388102471828,
          0.13494984172284602,
          0.14113783799111843,
          0.1290186818689108,
          0.12532929982626229,
          0.11920007611261099,
          0.10698365415082663,
          0.14747031847582548,
          0.19359442810164182,
          0.17978106806622235,
          0.17741298297987668,
          0.17560261743710726,
          0.16884376215384692,
          0.15417689266250817,
          0.16213690428994595,
          0.1716421850025654,
          0.1704679012298584,
          0.1205198478884995,
          0.09574784459546208,
          0.09348384039476514,
          0.09755124347284436,
          0.10414209747686982,
          0.12054992699995637,
          0.12674711355939508,
          0.127573645953089,
          0.12403966942802072,
          0.1369690232910216,
          0.14876715056598186,
          0.1447009038180113,
          0.15478708781301975,
          0.15320603214204312,
          0.14257416306063533,
          0.11124933511018753,
          0.09856734410859644,
          0.09165584542788566
         ],
         "yaxis": "y2"
        },
        {
         "customdata": [
          [
           "Disgust"
          ],
          [
           "Disgust"
          ],
          [
           "Disgust"
          ],
          [
           "Disgust"
          ],
          [
           "Disgust"
          ],
          [
           "Disgust"
          ],
          [
           "Disgust"
          ],
          [
           "Disgust"
          ],
          [
           "Disgust"
          ],
          [
           "Disgust"
          ],
          [
           "Disgust"
          ],
          [
           "Disgust"
          ],
          [
           "Disgust"
          ],
          [
           "Disgust"
          ],
          [
           "Disgust"
          ],
          [
           "Disgust"
          ],
          [
           "Disgust"
          ],
          [
           "Disgust"
          ],
          [
           "Disgust"
          ],
          [
           "Disgust"
          ],
          [
           "Disgust"
          ],
          [
           "Disgust"
          ],
          [
           "Disgust"
          ],
          [
           "Disgust"
          ],
          [
           "Disgust"
          ],
          [
           "Disgust"
          ],
          [
           "Disgust"
          ],
          [
           "Disgust"
          ],
          [
           "Disgust"
          ],
          [
           "Disgust"
          ],
          [
           "Disgust"
          ],
          [
           "Disgust"
          ],
          [
           "Disgust"
          ],
          [
           "Disgust"
          ],
          [
           "Disgust"
          ],
          [
           "Disgust"
          ],
          [
           "Disgust"
          ],
          [
           "Disgust"
          ],
          [
           "Disgust"
          ],
          [
           "Disgust"
          ],
          [
           "Disgust"
          ],
          [
           "Disgust"
          ],
          [
           "Disgust"
          ],
          [
           "Disgust"
          ],
          [
           "Disgust"
          ],
          [
           "Disgust"
          ],
          [
           "Disgust"
          ],
          [
           "Disgust"
          ],
          [
           "Disgust"
          ]
         ],
         "fillpattern": {
          "shape": ""
         },
         "hoverinfo": "all",
         "hoverlabel": {
          "bgcolor": "white",
          "font": {
           "size": 14
          }
         },
         "hovertemplate": "Emotion: %{fullData.name}<br>Frame: %{x:.2f} <br>Probability: %{y:.2f}",
         "legendgroup": "Disgust",
         "line": {
          "color": "#ff7f00",
          "width": 2
         },
         "marker": {
          "symbol": "circle"
         },
         "mode": "lines",
         "name": "Disgust",
         "orientation": "v",
         "showlegend": true,
         "stackgroup": "one",
         "type": "scatter",
         "x": [
          0,
          1,
          2,
          3,
          4,
          5,
          6,
          7,
          8,
          9,
          10,
          11,
          12,
          13,
          14,
          15,
          16,
          17,
          18,
          19,
          20,
          21,
          22,
          23,
          24,
          25,
          26,
          27,
          28,
          29,
          31,
          32,
          33,
          35,
          37,
          38,
          39,
          40,
          41,
          43,
          44,
          45,
          46,
          47,
          48,
          49,
          50,
          52,
          53
         ],
         "xaxis": "x2",
         "y": [
          0.08613842087797821,
          0.06932337447069585,
          0.05773378103040159,
          0.02768287139479071,
          0.033118421607650814,
          0.029441737360320984,
          0.04139133996795863,
          0.040555563051020725,
          0.04007722786918748,
          0.03826907365291845,
          0.03967242375656497,
          0.04121664189442527,
          0.041020269176806325,
          0.041581339968251994,
          0.02110781904484611,
          0.02105630451987963,
          0.007957182559766806,
          0.008021917086443864,
          0.008001123431313317,
          0.008000465026998426,
          0.0060687286415486595,
          0.0036315655204816723,
          0.003125865581387188,
          0.008404804357269313,
          0.007683202919724863,
          0.01128706044255523,
          0.011487811779079492,
          0.011513894608651754,
          0.011724117380799726,
          0.011709667864488437,
          0.01741338044521399,
          0.01730240064789541,
          0.017384832847164945,
          0.012174001085804775,
          0.015833445149473845,
          0.012752500711940229,
          0.012913894536904991,
          0.014505063195247202,
          0.028443939692806453,
          0.03059116145595908,
          0.03096197573468089,
          0.03436317231971771,
          0.03460914269089699,
          0.03908192552626133,
          0.03538149726809934,
          0.04953887007432058,
          0.06409864482702687,
          0.06849933416815475,
          0.06237542257877067
         ],
         "yaxis": "y2"
        },
        {
         "customdata": [
          [
           "Fear"
          ],
          [
           "Fear"
          ],
          [
           "Fear"
          ],
          [
           "Fear"
          ],
          [
           "Fear"
          ],
          [
           "Fear"
          ],
          [
           "Fear"
          ],
          [
           "Fear"
          ],
          [
           "Fear"
          ],
          [
           "Fear"
          ],
          [
           "Fear"
          ],
          [
           "Fear"
          ],
          [
           "Fear"
          ],
          [
           "Fear"
          ],
          [
           "Fear"
          ],
          [
           "Fear"
          ],
          [
           "Fear"
          ],
          [
           "Fear"
          ],
          [
           "Fear"
          ],
          [
           "Fear"
          ],
          [
           "Fear"
          ],
          [
           "Fear"
          ],
          [
           "Fear"
          ],
          [
           "Fear"
          ],
          [
           "Fear"
          ],
          [
           "Fear"
          ],
          [
           "Fear"
          ],
          [
           "Fear"
          ],
          [
           "Fear"
          ],
          [
           "Fear"
          ],
          [
           "Fear"
          ],
          [
           "Fear"
          ],
          [
           "Fear"
          ],
          [
           "Fear"
          ],
          [
           "Fear"
          ],
          [
           "Fear"
          ],
          [
           "Fear"
          ],
          [
           "Fear"
          ],
          [
           "Fear"
          ],
          [
           "Fear"
          ],
          [
           "Fear"
          ],
          [
           "Fear"
          ],
          [
           "Fear"
          ],
          [
           "Fear"
          ],
          [
           "Fear"
          ],
          [
           "Fear"
          ],
          [
           "Fear"
          ],
          [
           "Fear"
          ],
          [
           "Fear"
          ]
         ],
         "fillpattern": {
          "shape": ""
         },
         "hoverinfo": "all",
         "hoverlabel": {
          "bgcolor": "white",
          "font": {
           "size": 14
          }
         },
         "hovertemplate": "Emotion: %{fullData.name}<br>Frame: %{x:.2f} <br>Probability: %{y:.2f}",
         "legendgroup": "Fear",
         "line": {
          "color": "#9370DB",
          "width": 2
         },
         "marker": {
          "symbol": "circle"
         },
         "mode": "lines",
         "name": "Fear",
         "orientation": "v",
         "showlegend": true,
         "stackgroup": "one",
         "type": "scatter",
         "x": [
          0,
          1,
          2,
          3,
          4,
          5,
          6,
          7,
          8,
          9,
          10,
          11,
          12,
          13,
          14,
          15,
          16,
          17,
          18,
          19,
          20,
          21,
          22,
          23,
          24,
          25,
          26,
          27,
          28,
          29,
          31,
          32,
          33,
          35,
          37,
          38,
          39,
          40,
          41,
          43,
          44,
          45,
          46,
          47,
          48,
          49,
          50,
          52,
          53
         ],
         "xaxis": "x2",
         "y": [
          0.06977103819372132,
          0.07484777589561417,
          0.09550235104979947,
          0.1303487824392505,
          0.1312898611766286,
          0.13819025047123432,
          0.13432068638503553,
          0.12309137880802154,
          0.11808906374499202,
          0.11441398290917278,
          0.1093321300111711,
          0.1023811555467546,
          0.08257673336192965,
          0.05097586130723357,
          0.08793284362182022,
          0.09169834172353149,
          0.08903958043083549,
          0.08850384457036853,
          0.08736572110756242,
          0.08306292458692041,
          0.08214733763852564,
          0.08367642029443231,
          0.08270666427233664,
          0.10479108258405176,
          0.08728203042664973,
          0.08187264106491057,
          0.07822447433391062,
          0.08126235394993273,
          0.08207432219351177,
          0.08560150694102049,
          0.08992127496749162,
          0.0843340817373246,
          0.10081111523322761,
          0.07656295052729548,
          0.05691136620007455,
          0.06538568898104131,
          0.10799220553599298,
          0.11630534804426133,
          0.1286248430144042,
          0.14601810234598817,
          0.1474696825724095,
          0.17548491675406694,
          0.1577627256512642,
          0.16386423092335461,
          0.15935024460777641,
          0.15167402802035213,
          0.10545696336776018,
          0.09833132568746805,
          0.10057565663009882
         ],
         "yaxis": "y2"
        },
        {
         "customdata": [
          [
           "Happy"
          ],
          [
           "Happy"
          ],
          [
           "Happy"
          ],
          [
           "Happy"
          ],
          [
           "Happy"
          ],
          [
           "Happy"
          ],
          [
           "Happy"
          ],
          [
           "Happy"
          ],
          [
           "Happy"
          ],
          [
           "Happy"
          ],
          [
           "Happy"
          ],
          [
           "Happy"
          ],
          [
           "Happy"
          ],
          [
           "Happy"
          ],
          [
           "Happy"
          ],
          [
           "Happy"
          ],
          [
           "Happy"
          ],
          [
           "Happy"
          ],
          [
           "Happy"
          ],
          [
           "Happy"
          ],
          [
           "Happy"
          ],
          [
           "Happy"
          ],
          [
           "Happy"
          ],
          [
           "Happy"
          ],
          [
           "Happy"
          ],
          [
           "Happy"
          ],
          [
           "Happy"
          ],
          [
           "Happy"
          ],
          [
           "Happy"
          ],
          [
           "Happy"
          ],
          [
           "Happy"
          ],
          [
           "Happy"
          ],
          [
           "Happy"
          ],
          [
           "Happy"
          ],
          [
           "Happy"
          ],
          [
           "Happy"
          ],
          [
           "Happy"
          ],
          [
           "Happy"
          ],
          [
           "Happy"
          ],
          [
           "Happy"
          ],
          [
           "Happy"
          ],
          [
           "Happy"
          ],
          [
           "Happy"
          ],
          [
           "Happy"
          ],
          [
           "Happy"
          ],
          [
           "Happy"
          ],
          [
           "Happy"
          ],
          [
           "Happy"
          ],
          [
           "Happy"
          ]
         ],
         "fillpattern": {
          "shape": ""
         },
         "hoverinfo": "all",
         "hoverlabel": {
          "bgcolor": "white",
          "font": {
           "size": 14
          }
         },
         "hovertemplate": "Emotion: %{fullData.name}<br>Frame: %{x:.2f} <br>Probability: %{y:.2f}",
         "legendgroup": "Happy",
         "line": {
          "color": "#CA3435",
          "width": 2
         },
         "marker": {
          "symbol": "circle"
         },
         "mode": "lines",
         "name": "Happy",
         "orientation": "v",
         "showlegend": true,
         "stackgroup": "one",
         "type": "scatter",
         "x": [
          0,
          1,
          2,
          3,
          4,
          5,
          6,
          7,
          8,
          9,
          10,
          11,
          12,
          13,
          14,
          15,
          16,
          17,
          18,
          19,
          20,
          21,
          22,
          23,
          24,
          25,
          26,
          27,
          28,
          29,
          31,
          32,
          33,
          35,
          37,
          38,
          39,
          40,
          41,
          43,
          44,
          45,
          46,
          47,
          48,
          49,
          50,
          52,
          53
         ],
         "xaxis": "x2",
         "y": [
          0.08473098073154688,
          0.07645618366077542,
          0.04908735444769263,
          0.053453839663416144,
          0.07330186003819109,
          0.07296176366508007,
          0.0878260962665081,
          0.08921292098239064,
          0.17048676507547497,
          0.18403024869039655,
          0.19117502244189383,
          0.1974654095247388,
          0.1985957669094205,
          0.19294145945459604,
          0.16544731558533385,
          0.17828546875389292,
          0.20217535906704143,
          0.24316856191726402,
          0.2544069878873415,
          0.321856146317441,
          0.38426100463839247,
          0.39433891178341585,
          0.40534304288448764,
          0.40464930477319283,
          0.4192047912394628,
          0.4083165138727054,
          0.39764018652495,
          0.36127223444636913,
          0.33528567624744027,
          0.3101403780048713,
          0.31123576236423106,
          0.37357347828801724,
          0.3716933034127578,
          0.4303583536297083,
          0.4174935732036829,
          0.41981912702322005,
          0.39178885966539384,
          0.39178612381219863,
          0.3193513442762196,
          0.24827888557920233,
          0.1785584310651757,
          0.10700504804262892,
          0.12687034184345974,
          0.06891404666239395,
          0.15341886259848253,
          0.18979012422496452,
          0.18958091341191902,
          0.188641895132605,
          0.19604301160434262
         ],
         "yaxis": "y2"
        },
        {
         "customdata": [
          [
           "Sad"
          ],
          [
           "Sad"
          ],
          [
           "Sad"
          ],
          [
           "Sad"
          ],
          [
           "Sad"
          ],
          [
           "Sad"
          ],
          [
           "Sad"
          ],
          [
           "Sad"
          ],
          [
           "Sad"
          ],
          [
           "Sad"
          ],
          [
           "Sad"
          ],
          [
           "Sad"
          ],
          [
           "Sad"
          ],
          [
           "Sad"
          ],
          [
           "Sad"
          ],
          [
           "Sad"
          ],
          [
           "Sad"
          ],
          [
           "Sad"
          ],
          [
           "Sad"
          ],
          [
           "Sad"
          ],
          [
           "Sad"
          ],
          [
           "Sad"
          ],
          [
           "Sad"
          ],
          [
           "Sad"
          ],
          [
           "Sad"
          ],
          [
           "Sad"
          ],
          [
           "Sad"
          ],
          [
           "Sad"
          ],
          [
           "Sad"
          ],
          [
           "Sad"
          ],
          [
           "Sad"
          ],
          [
           "Sad"
          ],
          [
           "Sad"
          ],
          [
           "Sad"
          ],
          [
           "Sad"
          ],
          [
           "Sad"
          ],
          [
           "Sad"
          ],
          [
           "Sad"
          ],
          [
           "Sad"
          ],
          [
           "Sad"
          ],
          [
           "Sad"
          ],
          [
           "Sad"
          ],
          [
           "Sad"
          ],
          [
           "Sad"
          ],
          [
           "Sad"
          ],
          [
           "Sad"
          ],
          [
           "Sad"
          ],
          [
           "Sad"
          ],
          [
           "Sad"
          ]
         ],
         "fillpattern": {
          "shape": ""
         },
         "hoverinfo": "all",
         "hoverlabel": {
          "bgcolor": "white",
          "font": {
           "size": 14
          }
         },
         "hovertemplate": "Emotion: %{fullData.name}<br>Frame: %{x:.2f} <br>Probability: %{y:.2f}",
         "legendgroup": "Sad",
         "line": {
          "color": "#1f77b4",
          "width": 2
         },
         "marker": {
          "symbol": "circle"
         },
         "mode": "lines",
         "name": "Sad",
         "orientation": "v",
         "showlegend": true,
         "stackgroup": "one",
         "type": "scatter",
         "x": [
          0,
          1,
          2,
          3,
          4,
          5,
          6,
          7,
          8,
          9,
          10,
          11,
          12,
          13,
          14,
          15,
          16,
          17,
          18,
          19,
          20,
          21,
          22,
          23,
          24,
          25,
          26,
          27,
          28,
          29,
          31,
          32,
          33,
          35,
          37,
          38,
          39,
          40,
          41,
          43,
          44,
          45,
          46,
          47,
          48,
          49,
          50,
          52,
          53
         ],
         "xaxis": "x2",
         "y": [
          0.202213644515723,
          0.20433064280077815,
          0.2028276096098125,
          0.1722361550666392,
          0.1733469532802701,
          0.0878717688843608,
          0.05062335040420294,
          0.04864180590957403,
          0.04437813311815262,
          0.04066439457237721,
          0.04770800657570362,
          0.04459807388484478,
          0.04195942543447018,
          0.04564813207834959,
          0.058810521848499775,
          0.07714448031038046,
          0.07556583043187856,
          0.07895061280578375,
          0.0769698575126995,
          0.07183915711818827,
          0.06374570019422662,
          0.06770498119174136,
          0.07024566642819537,
          0.07951397038875711,
          0.06457646773076249,
          0.051326033704640395,
          0.053392547973157886,
          0.05004433193123532,
          0.053880261490121484,
          0.06226629004813731,
          0.05895106648094952,
          0.050007234513759616,
          0.06737584620714188,
          0.05720817819237709,
          0.05883994321338833,
          0.05780366989783943,
          0.05429930626414716,
          0.05327646522782743,
          0.08587946384213865,
          0.08516677781008183,
          0.08992685372941196,
          0.09588783457875252,
          0.07510246858000755,
          0.07607639618217946,
          0.07810154650360346,
          0.07368347020819783,
          0.07336975391954184,
          0.10392921436578036,
          0.09404013026505709
         ],
         "yaxis": "y2"
        },
        {
         "customdata": [
          [
           "Surprise"
          ],
          [
           "Surprise"
          ],
          [
           "Surprise"
          ],
          [
           "Surprise"
          ],
          [
           "Surprise"
          ],
          [
           "Surprise"
          ],
          [
           "Surprise"
          ],
          [
           "Surprise"
          ],
          [
           "Surprise"
          ],
          [
           "Surprise"
          ],
          [
           "Surprise"
          ],
          [
           "Surprise"
          ],
          [
           "Surprise"
          ],
          [
           "Surprise"
          ],
          [
           "Surprise"
          ],
          [
           "Surprise"
          ],
          [
           "Surprise"
          ],
          [
           "Surprise"
          ],
          [
           "Surprise"
          ],
          [
           "Surprise"
          ],
          [
           "Surprise"
          ],
          [
           "Surprise"
          ],
          [
           "Surprise"
          ],
          [
           "Surprise"
          ],
          [
           "Surprise"
          ],
          [
           "Surprise"
          ],
          [
           "Surprise"
          ],
          [
           "Surprise"
          ],
          [
           "Surprise"
          ],
          [
           "Surprise"
          ],
          [
           "Surprise"
          ],
          [
           "Surprise"
          ],
          [
           "Surprise"
          ],
          [
           "Surprise"
          ],
          [
           "Surprise"
          ],
          [
           "Surprise"
          ],
          [
           "Surprise"
          ],
          [
           "Surprise"
          ],
          [
           "Surprise"
          ],
          [
           "Surprise"
          ],
          [
           "Surprise"
          ],
          [
           "Surprise"
          ],
          [
           "Surprise"
          ],
          [
           "Surprise"
          ],
          [
           "Surprise"
          ],
          [
           "Surprise"
          ],
          [
           "Surprise"
          ],
          [
           "Surprise"
          ],
          [
           "Surprise"
          ]
         ],
         "fillpattern": {
          "shape": ""
         },
         "hoverinfo": "all",
         "hoverlabel": {
          "bgcolor": "white",
          "font": {
           "size": 14
          }
         },
         "hovertemplate": "Emotion: %{fullData.name}<br>Frame: %{x:.2f} <br>Probability: %{y:.2f}",
         "legendgroup": "Surprise",
         "line": {
          "color": "#9467bd",
          "width": 2
         },
         "marker": {
          "symbol": "circle"
         },
         "mode": "lines",
         "name": "Surprise",
         "orientation": "v",
         "showlegend": true,
         "stackgroup": "one",
         "type": "scatter",
         "x": [
          0,
          1,
          2,
          3,
          4,
          5,
          6,
          7,
          8,
          9,
          10,
          11,
          12,
          13,
          14,
          15,
          16,
          17,
          18,
          19,
          20,
          21,
          22,
          23,
          24,
          25,
          26,
          27,
          28,
          29,
          31,
          32,
          33,
          35,
          37,
          38,
          39,
          40,
          41,
          43,
          44,
          45,
          46,
          47,
          48,
          49,
          50,
          52,
          53
         ],
         "xaxis": "x2",
         "y": [
          0.1027175473049283,
          0.12596379537135363,
          0.16624613869935273,
          0.21543657947331668,
          0.2303321434184909,
          0.2856554565951228,
          0.2981540779583156,
          0.30077372267842295,
          0.2674022678635083,
          0.25478597622131927,
          0.2577370737097226,
          0.28016086559509856,
          0.2934694830677472,
          0.28088645081734287,
          0.29067608158802616,
          0.23291904976358638,
          0.22179296942194923,
          0.22044901432236658,
          0.22032001877378207,
          0.20645216272387187,
          0.18752046131703537,
          0.13801353496673982,
          0.07949071421462577,
          0.0764044900162844,
          0.10180166854697745,
          0.15932862644258422,
          0.1699087923130719,
          0.18044064172718208,
          0.18093549069017173,
          0.18159175124019383,
          0.1836674300953746,
          0.19803477339446546,
          0.20356287276372315,
          0.1679818163625896,
          0.18666076166555284,
          0.1724294255487621,
          0.17139541236683725,
          0.21263451157137753,
          0.21356845092959703,
          0.2725473239086568,
          0.30471923081204294,
          0.32381980000063776,
          0.31906160051003096,
          0.37832692014053465,
          0.30585585087537764,
          0.2915670409798622,
          0.3271548949182034,
          0.30582440122961996,
          0.33178184265270827
         ],
         "yaxis": "y2"
        },
        {
         "customdata": [
          [
           "Neutral"
          ],
          [
           "Neutral"
          ],
          [
           "Neutral"
          ],
          [
           "Neutral"
          ],
          [
           "Neutral"
          ],
          [
           "Neutral"
          ],
          [
           "Neutral"
          ],
          [
           "Neutral"
          ],
          [
           "Neutral"
          ],
          [
           "Neutral"
          ],
          [
           "Neutral"
          ],
          [
           "Neutral"
          ],
          [
           "Neutral"
          ],
          [
           "Neutral"
          ],
          [
           "Neutral"
          ],
          [
           "Neutral"
          ],
          [
           "Neutral"
          ],
          [
           "Neutral"
          ],
          [
           "Neutral"
          ],
          [
           "Neutral"
          ],
          [
           "Neutral"
          ],
          [
           "Neutral"
          ],
          [
           "Neutral"
          ],
          [
           "Neutral"
          ],
          [
           "Neutral"
          ],
          [
           "Neutral"
          ],
          [
           "Neutral"
          ],
          [
           "Neutral"
          ],
          [
           "Neutral"
          ],
          [
           "Neutral"
          ],
          [
           "Neutral"
          ],
          [
           "Neutral"
          ],
          [
           "Neutral"
          ],
          [
           "Neutral"
          ],
          [
           "Neutral"
          ],
          [
           "Neutral"
          ],
          [
           "Neutral"
          ],
          [
           "Neutral"
          ],
          [
           "Neutral"
          ],
          [
           "Neutral"
          ],
          [
           "Neutral"
          ],
          [
           "Neutral"
          ],
          [
           "Neutral"
          ],
          [
           "Neutral"
          ],
          [
           "Neutral"
          ],
          [
           "Neutral"
          ],
          [
           "Neutral"
          ],
          [
           "Neutral"
          ],
          [
           "Neutral"
          ]
         ],
         "fillpattern": {
          "shape": ""
         },
         "hoverinfo": "all",
         "hoverlabel": {
          "bgcolor": "white",
          "font": {
           "size": 14
          }
         },
         "hovertemplate": "Emotion: %{fullData.name}<br>Frame: %{x:.2f} <br>Probability: %{y:.2f}",
         "legendgroup": "Neutral",
         "line": {
          "color": "#7f7f7f",
          "width": 2
         },
         "marker": {
          "symbol": "circle"
         },
         "mode": "lines",
         "name": "Neutral",
         "orientation": "v",
         "showlegend": true,
         "stackgroup": "one",
         "type": "scatter",
         "x": [
          0,
          1,
          2,
          3,
          4,
          5,
          6,
          7,
          8,
          9,
          10,
          11,
          12,
          13,
          14,
          15,
          16,
          17,
          18,
          19,
          20,
          21,
          22,
          23,
          24,
          25,
          26,
          27,
          28,
          29,
          31,
          32,
          33,
          35,
          37,
          38,
          39,
          40,
          41,
          43,
          44,
          45,
          46,
          47,
          48,
          49,
          50,
          52,
          53
         ],
         "xaxis": "x2",
         "y": [
          0.31635717684403064,
          0.3112195306457579,
          0.28333159247413275,
          0.28318113898858427,
          0.2345069653354585,
          0.2586717393249273,
          0.24895938746631147,
          0.25399302057921885,
          0.22532021068036556,
          0.23879828713834286,
          0.22411752305924892,
          0.212085884436965,
          0.21932648308575153,
          0.24594185054302214,
          0.2417115516960621,
          0.2639465369284153,
          0.26233125403523444,
          0.23188739344477655,
          0.22760701239167247,
          0.18958908621279988,
          0.16927313137857708,
          0.16516429115145,
          0.1654936485370854,
          0.1464553170284489,
          0.14203888628690037,
          0.1122665152332047,
          0.12050243619887624,
          0.16128965769021306,
          0.17396323550492526,
          0.177048235014081,
          0.1683432059828192,
          0.1562282043043524,
          0.1434241993818432,
          0.16223086253739893,
          0.16670968071557582,
          0.1676675094757229,
          0.1410604186821729,
          0.08474539150483906,
          0.09655833621509373,
          0.09335810118354856,
          0.11139481328427792,
          0.11467208713293076,
          0.14189282096922398,
          0.11894941367208958,
          0.1146859809756279,
          null,
          null,
          null,
          null
         ],
         "yaxis": "y2"
        }
       ],
       "layout": {
        "template": {
         "data": {
          "bar": [
           {
            "error_x": {
             "color": "#2a3f5f"
            },
            "error_y": {
             "color": "#2a3f5f"
            },
            "marker": {
             "line": {
              "color": "#E5ECF6",
              "width": 0.5
             },
             "pattern": {
              "fillmode": "overlay",
              "size": 10,
              "solidity": 0.2
             }
            },
            "type": "bar"
           }
          ],
          "barpolar": [
           {
            "marker": {
             "line": {
              "color": "#E5ECF6",
              "width": 0.5
             },
             "pattern": {
              "fillmode": "overlay",
              "size": 10,
              "solidity": 0.2
             }
            },
            "type": "barpolar"
           }
          ],
          "carpet": [
           {
            "aaxis": {
             "endlinecolor": "#2a3f5f",
             "gridcolor": "white",
             "linecolor": "white",
             "minorgridcolor": "white",
             "startlinecolor": "#2a3f5f"
            },
            "baxis": {
             "endlinecolor": "#2a3f5f",
             "gridcolor": "white",
             "linecolor": "white",
             "minorgridcolor": "white",
             "startlinecolor": "#2a3f5f"
            },
            "type": "carpet"
           }
          ],
          "choropleth": [
           {
            "colorbar": {
             "outlinewidth": 0,
             "ticks": ""
            },
            "type": "choropleth"
           }
          ],
          "contour": [
           {
            "colorbar": {
             "outlinewidth": 0,
             "ticks": ""
            },
            "colorscale": [
             [
              0,
              "#0d0887"
             ],
             [
              0.1111111111111111,
              "#46039f"
             ],
             [
              0.2222222222222222,
              "#7201a8"
             ],
             [
              0.3333333333333333,
              "#9c179e"
             ],
             [
              0.4444444444444444,
              "#bd3786"
             ],
             [
              0.5555555555555556,
              "#d8576b"
             ],
             [
              0.6666666666666666,
              "#ed7953"
             ],
             [
              0.7777777777777778,
              "#fb9f3a"
             ],
             [
              0.8888888888888888,
              "#fdca26"
             ],
             [
              1,
              "#f0f921"
             ]
            ],
            "type": "contour"
           }
          ],
          "contourcarpet": [
           {
            "colorbar": {
             "outlinewidth": 0,
             "ticks": ""
            },
            "type": "contourcarpet"
           }
          ],
          "heatmap": [
           {
            "colorbar": {
             "outlinewidth": 0,
             "ticks": ""
            },
            "colorscale": [
             [
              0,
              "#0d0887"
             ],
             [
              0.1111111111111111,
              "#46039f"
             ],
             [
              0.2222222222222222,
              "#7201a8"
             ],
             [
              0.3333333333333333,
              "#9c179e"
             ],
             [
              0.4444444444444444,
              "#bd3786"
             ],
             [
              0.5555555555555556,
              "#d8576b"
             ],
             [
              0.6666666666666666,
              "#ed7953"
             ],
             [
              0.7777777777777778,
              "#fb9f3a"
             ],
             [
              0.8888888888888888,
              "#fdca26"
             ],
             [
              1,
              "#f0f921"
             ]
            ],
            "type": "heatmap"
           }
          ],
          "heatmapgl": [
           {
            "colorbar": {
             "outlinewidth": 0,
             "ticks": ""
            },
            "colorscale": [
             [
              0,
              "#0d0887"
             ],
             [
              0.1111111111111111,
              "#46039f"
             ],
             [
              0.2222222222222222,
              "#7201a8"
             ],
             [
              0.3333333333333333,
              "#9c179e"
             ],
             [
              0.4444444444444444,
              "#bd3786"
             ],
             [
              0.5555555555555556,
              "#d8576b"
             ],
             [
              0.6666666666666666,
              "#ed7953"
             ],
             [
              0.7777777777777778,
              "#fb9f3a"
             ],
             [
              0.8888888888888888,
              "#fdca26"
             ],
             [
              1,
              "#f0f921"
             ]
            ],
            "type": "heatmapgl"
           }
          ],
          "histogram": [
           {
            "marker": {
             "pattern": {
              "fillmode": "overlay",
              "size": 10,
              "solidity": 0.2
             }
            },
            "type": "histogram"
           }
          ],
          "histogram2d": [
           {
            "colorbar": {
             "outlinewidth": 0,
             "ticks": ""
            },
            "colorscale": [
             [
              0,
              "#0d0887"
             ],
             [
              0.1111111111111111,
              "#46039f"
             ],
             [
              0.2222222222222222,
              "#7201a8"
             ],
             [
              0.3333333333333333,
              "#9c179e"
             ],
             [
              0.4444444444444444,
              "#bd3786"
             ],
             [
              0.5555555555555556,
              "#d8576b"
             ],
             [
              0.6666666666666666,
              "#ed7953"
             ],
             [
              0.7777777777777778,
              "#fb9f3a"
             ],
             [
              0.8888888888888888,
              "#fdca26"
             ],
             [
              1,
              "#f0f921"
             ]
            ],
            "type": "histogram2d"
           }
          ],
          "histogram2dcontour": [
           {
            "colorbar": {
             "outlinewidth": 0,
             "ticks": ""
            },
            "colorscale": [
             [
              0,
              "#0d0887"
             ],
             [
              0.1111111111111111,
              "#46039f"
             ],
             [
              0.2222222222222222,
              "#7201a8"
             ],
             [
              0.3333333333333333,
              "#9c179e"
             ],
             [
              0.4444444444444444,
              "#bd3786"
             ],
             [
              0.5555555555555556,
              "#d8576b"
             ],
             [
              0.6666666666666666,
              "#ed7953"
             ],
             [
              0.7777777777777778,
              "#fb9f3a"
             ],
             [
              0.8888888888888888,
              "#fdca26"
             ],
             [
              1,
              "#f0f921"
             ]
            ],
            "type": "histogram2dcontour"
           }
          ],
          "mesh3d": [
           {
            "colorbar": {
             "outlinewidth": 0,
             "ticks": ""
            },
            "type": "mesh3d"
           }
          ],
          "parcoords": [
           {
            "line": {
             "colorbar": {
              "outlinewidth": 0,
              "ticks": ""
             }
            },
            "type": "parcoords"
           }
          ],
          "pie": [
           {
            "automargin": true,
            "type": "pie"
           }
          ],
          "scatter": [
           {
            "fillpattern": {
             "fillmode": "overlay",
             "size": 10,
             "solidity": 0.2
            },
            "type": "scatter"
           }
          ],
          "scatter3d": [
           {
            "line": {
             "colorbar": {
              "outlinewidth": 0,
              "ticks": ""
             }
            },
            "marker": {
             "colorbar": {
              "outlinewidth": 0,
              "ticks": ""
             }
            },
            "type": "scatter3d"
           }
          ],
          "scattercarpet": [
           {
            "marker": {
             "colorbar": {
              "outlinewidth": 0,
              "ticks": ""
             }
            },
            "type": "scattercarpet"
           }
          ],
          "scattergeo": [
           {
            "marker": {
             "colorbar": {
              "outlinewidth": 0,
              "ticks": ""
             }
            },
            "type": "scattergeo"
           }
          ],
          "scattergl": [
           {
            "marker": {
             "colorbar": {
              "outlinewidth": 0,
              "ticks": ""
             }
            },
            "type": "scattergl"
           }
          ],
          "scattermapbox": [
           {
            "marker": {
             "colorbar": {
              "outlinewidth": 0,
              "ticks": ""
             }
            },
            "type": "scattermapbox"
           }
          ],
          "scatterpolar": [
           {
            "marker": {
             "colorbar": {
              "outlinewidth": 0,
              "ticks": ""
             }
            },
            "type": "scatterpolar"
           }
          ],
          "scatterpolargl": [
           {
            "marker": {
             "colorbar": {
              "outlinewidth": 0,
              "ticks": ""
             }
            },
            "type": "scatterpolargl"
           }
          ],
          "scatterternary": [
           {
            "marker": {
             "colorbar": {
              "outlinewidth": 0,
              "ticks": ""
             }
            },
            "type": "scatterternary"
           }
          ],
          "surface": [
           {
            "colorbar": {
             "outlinewidth": 0,
             "ticks": ""
            },
            "colorscale": [
             [
              0,
              "#0d0887"
             ],
             [
              0.1111111111111111,
              "#46039f"
             ],
             [
              0.2222222222222222,
              "#7201a8"
             ],
             [
              0.3333333333333333,
              "#9c179e"
             ],
             [
              0.4444444444444444,
              "#bd3786"
             ],
             [
              0.5555555555555556,
              "#d8576b"
             ],
             [
              0.6666666666666666,
              "#ed7953"
             ],
             [
              0.7777777777777778,
              "#fb9f3a"
             ],
             [
              0.8888888888888888,
              "#fdca26"
             ],
             [
              1,
              "#f0f921"
             ]
            ],
            "type": "surface"
           }
          ],
          "table": [
           {
            "cells": {
             "fill": {
              "color": "#EBF0F8"
             },
             "line": {
              "color": "white"
             }
            },
            "header": {
             "fill": {
              "color": "#C8D4E3"
             },
             "line": {
              "color": "white"
             }
            },
            "type": "table"
           }
          ]
         },
         "layout": {
          "annotationdefaults": {
           "arrowcolor": "#2a3f5f",
           "arrowhead": 0,
           "arrowwidth": 1
          },
          "autotypenumbers": "strict",
          "coloraxis": {
           "colorbar": {
            "outlinewidth": 0,
            "ticks": ""
           }
          },
          "colorscale": {
           "diverging": [
            [
             0,
             "#8e0152"
            ],
            [
             0.1,
             "#c51b7d"
            ],
            [
             0.2,
             "#de77ae"
            ],
            [
             0.3,
             "#f1b6da"
            ],
            [
             0.4,
             "#fde0ef"
            ],
            [
             0.5,
             "#f7f7f7"
            ],
            [
             0.6,
             "#e6f5d0"
            ],
            [
             0.7,
             "#b8e186"
            ],
            [
             0.8,
             "#7fbc41"
            ],
            [
             0.9,
             "#4d9221"
            ],
            [
             1,
             "#276419"
            ]
           ],
           "sequential": [
            [
             0,
             "#0d0887"
            ],
            [
             0.1111111111111111,
             "#46039f"
            ],
            [
             0.2222222222222222,
             "#7201a8"
            ],
            [
             0.3333333333333333,
             "#9c179e"
            ],
            [
             0.4444444444444444,
             "#bd3786"
            ],
            [
             0.5555555555555556,
             "#d8576b"
            ],
            [
             0.6666666666666666,
             "#ed7953"
            ],
            [
             0.7777777777777778,
             "#fb9f3a"
            ],
            [
             0.8888888888888888,
             "#fdca26"
            ],
            [
             1,
             "#f0f921"
            ]
           ],
           "sequentialminus": [
            [
             0,
             "#0d0887"
            ],
            [
             0.1111111111111111,
             "#46039f"
            ],
            [
             0.2222222222222222,
             "#7201a8"
            ],
            [
             0.3333333333333333,
             "#9c179e"
            ],
            [
             0.4444444444444444,
             "#bd3786"
            ],
            [
             0.5555555555555556,
             "#d8576b"
            ],
            [
             0.6666666666666666,
             "#ed7953"
            ],
            [
             0.7777777777777778,
             "#fb9f3a"
            ],
            [
             0.8888888888888888,
             "#fdca26"
            ],
            [
             1,
             "#f0f921"
            ]
           ]
          },
          "colorway": [
           "#636efa",
           "#EF553B",
           "#00cc96",
           "#ab63fa",
           "#FFA15A",
           "#19d3f3",
           "#FF6692",
           "#B6E880",
           "#FF97FF",
           "#FECB52"
          ],
          "font": {
           "color": "#2a3f5f"
          },
          "geo": {
           "bgcolor": "white",
           "lakecolor": "white",
           "landcolor": "#E5ECF6",
           "showlakes": true,
           "showland": true,
           "subunitcolor": "white"
          },
          "hoverlabel": {
           "align": "left"
          },
          "hovermode": "closest",
          "mapbox": {
           "style": "light"
          },
          "paper_bgcolor": "white",
          "plot_bgcolor": "#E5ECF6",
          "polar": {
           "angularaxis": {
            "gridcolor": "white",
            "linecolor": "white",
            "ticks": ""
           },
           "bgcolor": "#E5ECF6",
           "radialaxis": {
            "gridcolor": "white",
            "linecolor": "white",
            "ticks": ""
           }
          },
          "scene": {
           "xaxis": {
            "backgroundcolor": "#E5ECF6",
            "gridcolor": "white",
            "gridwidth": 2,
            "linecolor": "white",
            "showbackground": true,
            "ticks": "",
            "zerolinecolor": "white"
           },
           "yaxis": {
            "backgroundcolor": "#E5ECF6",
            "gridcolor": "white",
            "gridwidth": 2,
            "linecolor": "white",
            "showbackground": true,
            "ticks": "",
            "zerolinecolor": "white"
           },
           "zaxis": {
            "backgroundcolor": "#E5ECF6",
            "gridcolor": "white",
            "gridwidth": 2,
            "linecolor": "white",
            "showbackground": true,
            "ticks": "",
            "zerolinecolor": "white"
           }
          },
          "shapedefaults": {
           "line": {
            "color": "#2a3f5f"
           }
          },
          "ternary": {
           "aaxis": {
            "gridcolor": "white",
            "linecolor": "white",
            "ticks": ""
           },
           "baxis": {
            "gridcolor": "white",
            "linecolor": "white",
            "ticks": ""
           },
           "bgcolor": "#E5ECF6",
           "caxis": {
            "gridcolor": "white",
            "linecolor": "white",
            "ticks": ""
           }
          },
          "title": {
           "x": 0.05
          },
          "xaxis": {
           "automargin": true,
           "gridcolor": "white",
           "linecolor": "white",
           "ticks": "",
           "title": {
            "standoff": 15
           },
           "zerolinecolor": "white",
           "zerolinewidth": 2
          },
          "yaxis": {
           "automargin": true,
           "gridcolor": "white",
           "linecolor": "white",
           "ticks": "",
           "title": {
            "standoff": 15
           },
           "zerolinecolor": "white",
           "zerolinewidth": 2
          }
         }
        },
        "title": {
         "text": "Two Graphs and an Image Side by Side"
        },
        "xaxis": {
         "anchor": "y",
         "domain": [
          0,
          0.17333333333333334
         ]
        },
        "xaxis2": {
         "anchor": "y2",
         "domain": [
          0.24,
          0.76
         ]
        },
        "xaxis3": {
         "anchor": "y3",
         "domain": [
          0.8266666666666667,
          1
         ]
        },
        "yaxis": {
         "anchor": "x",
         "domain": [
          0,
          1
         ]
        },
        "yaxis2": {
         "anchor": "x2",
         "domain": [
          0,
          1
         ]
        },
        "yaxis3": {
         "anchor": "x3",
         "domain": [
          0,
          1
         ]
        }
       }
      }
     },
     "metadata": {},
     "output_type": "display_data"
    }
   ],
   "source": [
    "df_single_person = get_df_single_person(df_video, ID=1)\n",
    "df_radar = get_df_radar(df_single_person)\n",
    "\n",
    "# Create two traces and an image\n",
    "image_array = result['portraits'][1]\n",
    "fig_area = get_emotion_landscape(df_single_person)\n",
    "#fig_radar = get_df_radar(df_radar)\n",
    "\n",
    "\n",
    "# Create a 3x1 grid of subplots with custom column widths\n",
    "fig = make_subplots(rows=1, cols=3, column_widths=[0.2, 0.6, 0.2])\n",
    "\n",
    "# Add trace1, trace2, and the image to their respective subplots\n",
    "fig.add_trace(px.imshow(image_array).data[0], row=1, col=1)\n",
    "for i in range(7):\n",
    "    fig.add_trace(fig_area.data[i], row=1, col=2)\n",
    "#fig.add_trace(fig_radar, row=1, col=3)\n",
    "\n",
    "fig.add_trace\n",
    "\n",
    "# Update layout\n",
    "fig.update_layout(title='Two Graphs and an Image Side by Side')\n",
    "\n",
    "# Show the figure\n",
    "fig.show()"
   ]
  }
 ],
 "metadata": {
  "kernelspec": {
   "display_name": ".venv",
   "language": "python",
   "name": "python3"
  },
  "language_info": {
   "codemirror_mode": {
    "name": "ipython",
    "version": 3
   },
   "file_extension": ".py",
   "mimetype": "text/x-python",
   "name": "python",
   "nbconvert_exporter": "python",
   "pygments_lexer": "ipython3",
   "version": "3.9.8"
  },
  "orig_nbformat": 4
 },
 "nbformat": 4,
 "nbformat_minor": 2
}
