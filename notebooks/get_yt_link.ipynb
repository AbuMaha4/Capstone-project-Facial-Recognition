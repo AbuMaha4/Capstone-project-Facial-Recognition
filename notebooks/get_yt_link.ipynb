{
 "cells": [
  {
   "cell_type": "code",
   "execution_count": 1,
   "metadata": {},
   "outputs": [],
   "source": [
    "import cv2\n",
    "import io\n",
    "import os\n",
    "import requests\n",
    "from pytube import YouTube\n",
    "\n",
    "# Load the YouTube video\n",
    "yt = YouTube(\"https://www.youtube.com/watch?v=dQw4w9WgXcQ\")\n",
    "\n",
    "# Get the video's stream with the highest resolution\n",
    "stream = yt.streams.get_highest_resolution()\n",
    "\n",
    "# Download the stream and save it to a temporary file\n",
    "response = requests.get(stream.url, stream=True)\n",
    "with open(\"temp.mp4\", \"wb\") as f:\n",
    "    for chunk in response.iter_content(chunk_size=4096):\n",
    "        f.write(chunk)\n",
    "\n",
    "# Use OpenCV to read the video file as a series of frames\n",
    "vidcap = cv2.VideoCapture(\"temp.mp4\")\n",
    "count = 0  # Initialize the count variable\n",
    "success, image = vidcap.read()\n",
    "while success:\n",
    "    #  save it as a file\n",
    "    cv2.imwrite(\"frame%d.jpg\" % count, image)\n",
    "    count += 1  # Increment the count variable\n",
    "    success, image = vidcap.read()\n",
    "\n",
    "# Delete the temporary file\n",
    "os.remove(\"temp.mp4\")\n"
   ]
  }
 ],
 "metadata": {
  "kernelspec": {
   "display_name": ".venv",
   "language": "python",
   "name": "python3"
  },
  "language_info": {
   "codemirror_mode": {
    "name": "ipython",
    "version": 3
   },
   "file_extension": ".py",
   "mimetype": "text/x-python",
   "name": "python",
   "nbconvert_exporter": "python",
   "pygments_lexer": "ipython3",
   "version": "3.9.8"
  },
  "orig_nbformat": 4,
  "vscode": {
   "interpreter": {
    "hash": "829ce4e3a03ee43d6a336c21c581268bf07ef5a513e83e9b4b07a20c07a5be87"
   }
  }
 },
 "nbformat": 4,
 "nbformat_minor": 2
}
