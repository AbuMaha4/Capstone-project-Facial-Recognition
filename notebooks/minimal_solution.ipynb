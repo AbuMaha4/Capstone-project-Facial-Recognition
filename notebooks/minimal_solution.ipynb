{
 "cells": [
  {
   "cell_type": "code",
   "execution_count": 37,
   "metadata": {},
   "outputs": [],
   "source": [
    "import datetime\n",
    "import os\n",
    "import cv2\n",
    "import numpy as np\n",
    "from facenet_pytorch import MTCNN\n",
    "from matplotlib import pyplot as plt\n",
    "from keras.models import load_model"
   ]
  },
  {
   "cell_type": "code",
   "execution_count": 38,
   "metadata": {},
   "outputs": [
    {
     "name": "stdout",
     "output_type": "stream",
     "text": [
      "519 images put into list_of_images\n",
      "358 faces found and put into list_of_faces\n",
      "In 187 frames there was no face found (36.03%).\n",
      "Maximum number of faces found in one frame: 2.\n"
     ]
    }
   ],
   "source": [
    "# Create a folder with the current date and time for debugging purposes\n",
    "folder_name = datetime.datetime.now().strftime(\"%Y-%m-%d_%H-%M-%S\")\n",
    "folder_path = os.path.join(os.getcwd(), \"faces_export\", folder_name)\n",
    "os.makedirs(folder_path, exist_ok=True)\n",
    "\n",
    "# Initialize Objects\n",
    "face_detector = MTCNN(keep_all=True, post_process=False, margin=20)\n",
    "video = cv2.VideoCapture(\"/Users/ben/neuefische/capstone/ai-with-python-series/07. Emotion Recognition using Live Video/content/Baseball Training.mp4\")\n",
    "\n",
    "# Initialize Emotion Detection Model\n",
    "emotion_classifier = load_model(\"../models/emotion_model.hdf5\", compile=False)\n",
    "emotion_classifier.make_predict_function()\n",
    "input_face_size = emotion_classifier.input_shape[1:3]\n",
    "\n",
    "# For now: use list\n",
    "list_of_images = []\n",
    "list_of_faces_coloured = []\n",
    "list_of_faces_grey_scaled = []\n",
    "frames_without_faces_counter = 0\n",
    "max_number_of_faces_in_frame = 0\n",
    "\n",
    "skip_frames = 1\n",
    "frame_count = 0\n",
    "while True:\n",
    "\n",
    "    # Read the next frame from the video\n",
    "    ret, frame = video.read()\n",
    "\n",
    "    # Check if the frame was successfully read\n",
    "    if not ret:\n",
    "        break\n",
    "\n",
    "    # Increment the frame count and skip frames if necessary\n",
    "    frame_count += 1\n",
    "    if frame_count % skip_frames != 0:\n",
    "        continue\n",
    "\n",
    "    # Leads to much better results in face detection - maybe later compare quantitatively\n",
    "    frame = cv2.cvtColor(frame, cv2.COLOR_BGR2RGB)\n",
    "\n",
    "    # for now:\n",
    "    list_of_images.append(frame)\n",
    "\n",
    "    faces = face_detector(frame)\n",
    "\n",
    "    # Check if any faces were found\n",
    "    if faces is None:\n",
    "        frames_without_faces_counter += 1\n",
    "        continue\n",
    "\n",
    "    amount_of_faces = faces.size(0)\n",
    "\n",
    "    if amount_of_faces > max_number_of_faces_in_frame:\n",
    "        max_number_of_faces_in_frame = amount_of_faces\n",
    "\n",
    "    for i in range(amount_of_faces):\n",
    "        # Extract the i-th image from the tensor\n",
    "        face = faces[i]\n",
    "\n",
    "        # Save the extracted face as a PNG file in the folder\n",
    "        face_filename = f\"face_{frame_count}_{i}.png\"\n",
    "        face_filepath = os.path.join(folder_path, face_filename)\n",
    "        cv2.imwrite(face_filepath, cv2.cvtColor(face.permute(1, 2, 0).numpy(), cv2.COLOR_RGB2BGR))\n",
    "\n",
    "        # for now:\n",
    "        list_of_faces_coloured.append(face)\n",
    "\n",
    "        grey_face = cv2.cvtColor(face.permute(1, 2, 0).numpy(), cv2.COLOR_BGR2GRAY)\n",
    "\n",
    "        try:\n",
    "            grey_face = cv2.resize(grey_face, input_face_size)\n",
    "        except Exception as e:\n",
    "            print(\"{} resize failed: {}\".format(grey_face.shape, e))\n",
    "            continue\n",
    "\n",
    "        list_of_faces_grey_scaled.append(grey_face)       \n",
    "\n",
    "# Release the video and close the window\n",
    "video.release()\n",
    "\n",
    "print(f'{len(list_of_images)} images put into list_of_images')\n",
    "print(f'{len(list_of_faces)} faces found and put into list_of_faces')\n",
    "print(f'In {frames_without_faces_counter} frames there was no face found ({round(100*frames_without_faces_counter/len(list_of_images),2)}%).')\n",
    "print(f'Maximum number of faces found in one frame: {max_number_of_faces_in_frame}.')\n",
    "\n",
    "emotions = emotion_classifier(np.array(list_of_faces_grey_scaled))"
   ]
  },
  {
   "cell_type": "code",
   "execution_count": 36,
   "metadata": {},
   "outputs": [
    {
     "data": {
      "text/plain": [
       "<tf.Tensor: shape=(7,), dtype=float32, numpy=array([1., 0., 0., 0., 0., 0., 0.], dtype=float32)>"
      ]
     },
     "execution_count": 36,
     "metadata": {},
     "output_type": "execute_result"
    }
   ],
   "source": [
    "emotions[110]"
   ]
  },
  {
   "cell_type": "code",
   "execution_count": null,
   "metadata": {},
   "outputs": [],
   "source": [
    "emotion_categories= {\n",
    "            0: \"angry\",\n",
    "            1: \"disgust\",\n",
    "            2: \"fear\",\n",
    "            3: \"happy\",\n",
    "            4: \"sad\",\n",
    "            5: \"surprise\",\n",
    "            6: \"neutral\",\n",
    "        }"
   ]
  },
  {
   "cell_type": "code",
   "execution_count": 22,
   "metadata": {},
   "outputs": [
    {
     "data": {
      "image/png": "[encoded data removed]",
      "text/plain": [
       "<Figure size 640x480 with 1 Axes>"
      ]
     },
     "metadata": {},
     "output_type": "display_data"
    }
   ],
   "source": [
    "# Display the first image in the results list\n",
    "plt.imshow(results[66], cmap='gray')\n",
    "plt.show()"
   ]
  },
  {
   "attachments": {},
   "cell_type": "markdown",
   "metadata": {},
   "source": [
    "Old / not yet used"
   ]
  },
  {
   "cell_type": "code",
   "execution_count": 19,
   "metadata": {},
   "outputs": [
    {
     "ename": "ValueError",
     "evalue": "Face could not be detected. Please confirm that the picture is a face photo or consider to set enforce_detection param to False.",
     "output_type": "error",
     "traceback": [
      "\u001b[0;31m---------------------------------------------------------------------------\u001b[0m",
      "\u001b[0;31mValueError\u001b[0m                                Traceback (most recent call last)",
      "Cell \u001b[0;32mIn[19], line 24\u001b[0m\n\u001b[1;32m     22\u001b[0m \u001b[39mfor\u001b[39;00m (x, y, w, h) \u001b[39min\u001b[39;00m faces:\n\u001b[1;32m     23\u001b[0m     face_img \u001b[39m=\u001b[39m frame[y:y\u001b[39m+\u001b[39mh, x:x\u001b[39m+\u001b[39mw]\n\u001b[0;32m---> 24\u001b[0m     emotion_preds \u001b[39m=\u001b[39m DeepFace\u001b[39m.\u001b[39;49manalyze(face_img, actions\u001b[39m=\u001b[39;49m[\u001b[39m\"\u001b[39;49m\u001b[39memotion\u001b[39;49m\u001b[39m\"\u001b[39;49m])\n\u001b[1;32m     25\u001b[0m     emotion_dict \u001b[39m=\u001b[39m emotion_preds[\u001b[39m\"\u001b[39m\u001b[39memotion\u001b[39m\u001b[39m\"\u001b[39m]\n\u001b[1;32m     27\u001b[0m     \u001b[39m# Add the timestamp and emotion probabilities to the dataframe\u001b[39;00m\n",
      "File \u001b[0;32m~/Neue_Fische/NeuralXpresso/.venv/lib/python3.9/site-packages/deepface/DeepFace.py:313\u001b[0m, in \u001b[0;36manalyze\u001b[0;34m(img_path, actions, enforce_detection, detector_backend, align, silent)\u001b[0m\n\u001b[1;32m    310\u001b[0m \u001b[39m# ---------------------------------\u001b[39;00m\n\u001b[1;32m    311\u001b[0m resp_objects \u001b[39m=\u001b[39m []\n\u001b[0;32m--> 313\u001b[0m img_objs \u001b[39m=\u001b[39m functions\u001b[39m.\u001b[39;49mextract_faces(\n\u001b[1;32m    314\u001b[0m     img\u001b[39m=\u001b[39;49mimg_path,\n\u001b[1;32m    315\u001b[0m     target_size\u001b[39m=\u001b[39;49m(\u001b[39m224\u001b[39;49m, \u001b[39m224\u001b[39;49m),\n\u001b[1;32m    316\u001b[0m     detector_backend\u001b[39m=\u001b[39;49mdetector_backend,\n\u001b[1;32m    317\u001b[0m     grayscale\u001b[39m=\u001b[39;49m\u001b[39mFalse\u001b[39;49;00m,\n\u001b[1;32m    318\u001b[0m     enforce_detection\u001b[39m=\u001b[39;49menforce_detection,\n\u001b[1;32m    319\u001b[0m     align\u001b[39m=\u001b[39;49malign,\n\u001b[1;32m    320\u001b[0m )\n\u001b[1;32m    322\u001b[0m \u001b[39mfor\u001b[39;00m img_content, img_region, _ \u001b[39min\u001b[39;00m img_objs:\n\u001b[1;32m    323\u001b[0m     \u001b[39mif\u001b[39;00m img_content\u001b[39m.\u001b[39mshape[\u001b[39m0\u001b[39m] \u001b[39m>\u001b[39m \u001b[39m0\u001b[39m \u001b[39mand\u001b[39;00m img_content\u001b[39m.\u001b[39mshape[\u001b[39m1\u001b[39m] \u001b[39m>\u001b[39m \u001b[39m0\u001b[39m:\n",
      "File \u001b[0;32m~/Neue_Fische/NeuralXpresso/.venv/lib/python3.9/site-packages/deepface/commons/functions.py:115\u001b[0m, in \u001b[0;36mextract_faces\u001b[0;34m(img, target_size, detector_backend, grayscale, enforce_detection, align)\u001b[0m\n\u001b[1;32m    113\u001b[0m \u001b[39m# in case of no face found\u001b[39;00m\n\u001b[1;32m    114\u001b[0m \u001b[39mif\u001b[39;00m \u001b[39mlen\u001b[39m(face_objs) \u001b[39m==\u001b[39m \u001b[39m0\u001b[39m \u001b[39mand\u001b[39;00m enforce_detection \u001b[39mis\u001b[39;00m \u001b[39mTrue\u001b[39;00m:\n\u001b[0;32m--> 115\u001b[0m     \u001b[39mraise\u001b[39;00m \u001b[39mValueError\u001b[39;00m(\n\u001b[1;32m    116\u001b[0m         \u001b[39m\"\u001b[39m\u001b[39mFace could not be detected. Please confirm that the picture is a face photo \u001b[39m\u001b[39m\"\u001b[39m\n\u001b[1;32m    117\u001b[0m         \u001b[39m+\u001b[39m \u001b[39m\"\u001b[39m\u001b[39mor consider to set enforce_detection param to False.\u001b[39m\u001b[39m\"\u001b[39m\n\u001b[1;32m    118\u001b[0m     )\n\u001b[1;32m    120\u001b[0m \u001b[39mif\u001b[39;00m \u001b[39mlen\u001b[39m(face_objs) \u001b[39m==\u001b[39m \u001b[39m0\u001b[39m \u001b[39mand\u001b[39;00m enforce_detection \u001b[39mis\u001b[39;00m \u001b[39mFalse\u001b[39;00m:\n\u001b[1;32m    121\u001b[0m     face_objs \u001b[39m=\u001b[39m [(img, img_region, \u001b[39m0\u001b[39m)]\n",
      "\u001b[0;31mValueError\u001b[0m: Face could not be detected. Please confirm that the picture is a face photo or consider to set enforce_detection param to False."
     ]
    }
   ],
   "source": [
    "\n",
    "    \n",
    "    # Loop through each detected face and perform emotion detection\n",
    "    for (x, y, w, h) in faces:\n",
    "        face_img = frame[y:y+h, x:x+w]\n",
    "        emotion_preds = DeepFace.analyze(face_img, actions=[\"emotion\"])\n",
    "        emotion_dict = emotion_preds[\"emotion\"]\n",
    "\n",
    "        #labels for plotting on video\n",
    "        emotion_label = max(emotion_preds[\"emotion\"].items(), key=lambda x: x[1])  # get the label with the highest probability\n",
    "        cv2.putText(frame, emotion_label[0], (x, y-10), cv2.FONT_HERSHEY_SIMPLEX, 0.9, (0, 255, 0), 2)\n",
    "        cv2.rectangle(frame, (x, y), (x+w, y+h), (0, 255, 0), 2)\n",
    "        \n",
    "        # Add the timestamp and emotion probabilities to the dataframe\n",
    "        timestamp = frame_count / video.get(cv2.CAP_PROP_FPS)\n",
    "        row = {'timestamp': timestamp, 'emotion': emotion_dict}\n",
    "        df = df.append(row, ignore_index=True)\n",
    "        \n",
    "        # Draw a rectangle around the face and display the dominant emotion\n",
    "        emotion_label = max(emotion_dict.items(), key=lambda x: x[1])[0]\n",
    "        cv2.putText(frame, emotion_label, (x, y-10), cv2.FONT_HERSHEY_SIMPLEX, 0.9, (0, 255, 0), 2)\n",
    "        cv2.rectangle(frame, (x, y), (x+w, y+h), (0, 255, 0), 2)\n",
    "    \n",
    "    # Show the frame with the detected faces and emotions\n",
    "    cv2.imshow(\"Emotion Detection\", frame)\n",
    "    if cv2.waitKey(1) == ord(\"q\"):\n",
    "        break\n",
    "\n",
    "# Release the video and close the window\n",
    "video.release()\n",
    "cv2.destroyAllWindows()\n",
    "\n",
    "# Print the dataframe\n",
    "print(df)"
   ]
  }
 ],
 "metadata": {
  "kernelspec": {
   "display_name": ".venv",
   "language": "python",
   "name": "python3"
  },
  "language_info": {
   "codemirror_mode": {
    "name": "ipython",
    "version": 3
   },
   "file_extension": ".py",
   "mimetype": "text/x-python",
   "name": "python",
   "nbconvert_exporter": "python",
   "pygments_lexer": "ipython3",
   "version": "3.9.8"
  },
  "orig_nbformat": 4,
  "vscode": {
   "interpreter": {
    "hash": "292d9171ab7c5408b6324c6043caf24aa9a11213294e6785916c17bd69f18dee"
   }
  }
 },
 "nbformat": 4,
 "nbformat_minor": 2
}
