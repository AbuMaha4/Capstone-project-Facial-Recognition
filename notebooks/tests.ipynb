{
 "cells": [
  {
   "cell_type": "code",
   "execution_count": 1,
   "metadata": {},
   "outputs": [
    {
     "name": "stdout",
     "output_type": "stream",
     "text": [
      "Metal device set to: Apple M1\n",
      "\n",
      "systemMemory: 16.00 GB\n",
      "maxCacheSize: 5.33 GB\n",
      "\n"
     ]
    },
    {
     "name": "stderr",
     "output_type": "stream",
     "text": [
      "2024-06-12 16:50:22.544963: I tensorflow/core/common_runtime/pluggable_device/pluggable_device_factory.cc:303] Could not identify NUMA node of platform GPU ID 0, defaulting to 0. Your kernel may not have been built with NUMA support.\n",
      "2024-06-12 16:50:22.544983: I tensorflow/core/common_runtime/pluggable_device/pluggable_device_factory.cc:269] Created TensorFlow device (/job:localhost/replica:0/task:0/device:GPU:0 with 0 MB memory) -> physical PluggableDevice (device: 0, name: METAL, pci bus id: <undefined>)\n"
     ]
    },
    {
     "name": "stdout",
     "output_type": "stream",
     "text": [
      "1/1 [==============================] - 0s 354ms/step\n"
     ]
    },
    {
     "name": "stderr",
     "output_type": "stream",
     "text": [
      "2024-06-12 16:50:24.295243: I tensorflow/core/grappler/optimizers/custom_graph_optimizer_registry.cc:114] Plugin optimizer for device_type GPU is enabled.\n"
     ]
    },
    {
     "name": "stdout",
     "output_type": "stream",
     "text": [
      "1/1 [==============================] - 0s 12ms/step\n",
      "1/1 [==============================] - 0s 13ms/step\n",
      "1/1 [==============================] - 0s 13ms/step\n",
      "1/1 [==============================] - 0s 13ms/step\n",
      "1/1 [==============================] - 0s 12ms/step\n",
      "1/1 [==============================] - 0s 12ms/step\n",
      "1/1 [==============================] - 0s 12ms/step\n",
      "1/1 [==============================] - 0s 12ms/step\n",
      "1/1 [==============================] - 0s 12ms/step\n",
      "1/1 [==============================] - 0s 12ms/step\n",
      "1/1 [==============================] - 0s 14ms/step\n",
      "1/1 [==============================] - 0s 12ms/step\n",
      "1/1 [==============================] - 0s 12ms/step\n",
      "1/1 [==============================] - 0s 13ms/step\n",
      "1/1 [==============================] - 0s 13ms/step\n",
      "1/1 [==============================] - 0s 12ms/step\n",
      "1/1 [==============================] - 0s 12ms/step\n",
      "1/1 [==============================] - 0s 12ms/step\n",
      "1/1 [==============================] - 0s 13ms/step\n",
      "1/1 [==============================] - 0s 13ms/step\n",
      "1/1 [==============================] - 0s 12ms/step\n",
      "1/1 [==============================] - 0s 13ms/step\n",
      "1/1 [==============================] - 0s 12ms/step\n",
      "1/1 [==============================] - 0s 14ms/step\n",
      "1/1 [==============================] - 0s 12ms/step\n",
      "1/1 [==============================] - 0s 13ms/step\n",
      "1/1 [==============================] - 0s 15ms/step\n",
      "1/1 [==============================] - 0s 12ms/step\n",
      "1/1 [==============================] - 0s 13ms/step\n",
      "1/1 [==============================] - 0s 13ms/step\n",
      "1/1 [==============================] - 0s 12ms/step\n",
      "1/1 [==============================] - 0s 13ms/step\n",
      "1/1 [==============================] - 0s 13ms/step\n",
      "1/1 [==============================] - 0s 12ms/step\n",
      "1/1 [==============================] - 0s 12ms/step\n",
      "1/1 [==============================] - 0s 12ms/step\n",
      "1/1 [==============================] - 0s 12ms/step\n",
      "1/1 [==============================] - 0s 12ms/step\n",
      "1/1 [==============================] - 0s 12ms/step\n",
      "1/1 [==============================] - 0s 12ms/step\n",
      "1/1 [==============================] - 0s 12ms/step\n",
      "1/1 [==============================] - 0s 12ms/step\n",
      "1/1 [==============================] - 0s 12ms/step\n",
      "1/1 [==============================] - 0s 12ms/step\n",
      "1/1 [==============================] - 0s 13ms/step\n",
      "1/1 [==============================] - 0s 12ms/step\n",
      "1/1 [==============================] - 0s 12ms/step\n",
      "1/1 [==============================] - 0s 12ms/step\n",
      "1/1 [==============================] - 0s 12ms/step\n",
      "1/1 [==============================] - 0s 12ms/step\n",
      "1/1 [==============================] - 0s 12ms/step\n",
      "1/1 [==============================] - 0s 12ms/step\n",
      "1/1 [==============================] - 0s 13ms/step\n"
     ]
    }
   ],
   "source": [
    "import neuralxpresso as nx\n",
    "import plots as plots\n",
    "from plotly.subplots import make_subplots\n",
    "YT_LINK = 'https://www.youtube.com/watch?v=2ka4Rpq9KCw&ab_channel=Blinderskin'\n",
    "nx_session = nx.NeuralXpressoSession(yt_link=YT_LINK)\n",
    "result = nx_session.run_analysis(video_output=True, skip_frames = 10)\n",
    "\n",
    "\n"
   ]
  },
  {
   "cell_type": "code",
   "execution_count": 2,
   "metadata": {},
   "outputs": [],
   "source": [
    "data = result['new_export']['main_character_data']\n"
   ]
  },
  {
   "cell_type": "code",
   "execution_count": 3,
   "metadata": {},
   "outputs": [],
   "source": [
    "import plotly.express as px"
   ]
  },
  {
   "cell_type": "code",
   "execution_count": 12,
   "metadata": {},
   "outputs": [
    {
     "name": "stdout",
     "output_type": "stream",
     "text": [
      "     frame  emotion  probability\n",
      "0        1    Angry     0.047856\n",
      "1        2    Angry     0.109812\n",
      "2        3    Angry     0.062015\n",
      "3        4    Angry     0.052232\n",
      "4        5    Angry     0.061258\n",
      "..     ...      ...          ...\n",
      "464     63  Neutral     0.330055\n",
      "465     64  Neutral     0.392290\n",
      "466     65  Neutral     0.208880\n",
      "467     66  Neutral     0.000000\n",
      "468     67  Neutral     0.000000\n",
      "\n",
      "[469 rows x 3 columns]\n",
      "     frame  emotion  probability\n",
      "0        1    Angry          0.0\n",
      "1        2    Angry          0.0\n",
      "2        3    Angry          0.0\n",
      "3        4    Angry          0.0\n",
      "4        5    Angry          0.0\n",
      "..     ...      ...          ...\n",
      "464     63  Neutral          0.0\n",
      "465     64  Neutral          0.0\n",
      "466     65  Neutral          0.0\n",
      "467     66  Neutral          0.0\n",
      "468     67  Neutral          0.0\n",
      "\n",
      "[469 rows x 3 columns]\n"
     ]
    },
    {
     "data": {
      "application/vnd.plotly.v1+json": {
       "config": {
        "plotlyServerURL": "https://plot.ly"
       },
       "data": [
        {
         "hovertemplate": "x: %{x}<br>y: %{y}<br>color: [%{z[0]}, %{z[1]}, %{z[2]}]<extra></extra>",
         "name": "0",
         "source": "data:image/png;base64,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",
         "type": "image",
         "xaxis": "x",
         "yaxis": "y"
        },
        {
         "fill": "toself",
         "hovertemplate": "%{theta}: %{r}",
         "line": {
          "color": "#ff0000"
         },
         "name": "Emotion Counts",
         "r": [
          0,
          0,
          1,
          9,
          9,
          6,
          0
         ],
         "showlegend": false,
         "subplot": "polar",
         "theta": [
          "Angry",
          "Disgust",
          "Fear",
          "Sad",
          "Neutral",
          "Happy",
          "Surprise"
         ],
         "type": "scatterpolar"
        },
        {
         "customdata": [
          [
           "Angry"
          ],
          [
           "Angry"
          ],
          [
           "Angry"
          ],
          [
           "Angry"
          ],
          [
           "Angry"
          ],
          [
           "Angry"
          ],
          [
           "Angry"
          ],
          [
           "Angry"
          ],
          [
           "Angry"
          ],
          [
           "Angry"
          ],
          [
           "Angry"
          ],
          [
           "Angry"
          ],
          [
           "Angry"
          ],
          [
           "Angry"
          ],
          [
           "Angry"
          ],
          [
           "Angry"
          ],
          [
           "Angry"
          ],
          [
           "Angry"
          ],
          [
           "Angry"
          ],
          [
           "Angry"
          ],
          [
           "Angry"
          ],
          [
           "Angry"
          ],
          [
           "Angry"
          ],
          [
           "Angry"
          ],
          [
           "Angry"
          ],
          [
           "Angry"
          ],
          [
           "Angry"
          ],
          [
           "Angry"
          ],
          [
           "Angry"
          ],
          [
           "Angry"
          ],
          [
           "Angry"
          ],
          [
           "Angry"
          ],
          [
           "Angry"
          ],
          [
           "Angry"
          ],
          [
           "Angry"
          ],
          [
           "Angry"
          ],
          [
           "Angry"
          ],
          [
           "Angry"
          ],
          [
           "Angry"
          ],
          [
           "Angry"
          ],
          [
           "Angry"
          ],
          [
           "Angry"
          ],
          [
           "Angry"
          ],
          [
           "Angry"
          ],
          [
           "Angry"
          ],
          [
           "Angry"
          ],
          [
           "Angry"
          ],
          [
           "Angry"
          ],
          [
           "Angry"
          ],
          [
           "Angry"
          ],
          [
           "Angry"
          ],
          [
           "Angry"
          ],
          [
           "Angry"
          ],
          [
           "Angry"
          ],
          [
           "Angry"
          ],
          [
           "Angry"
          ],
          [
           "Angry"
          ],
          [
           "Angry"
          ],
          [
           "Angry"
          ],
          [
           "Angry"
          ],
          [
           "Angry"
          ],
          [
           "Angry"
          ],
          [
           "Angry"
          ],
          [
           "Angry"
          ],
          [
           "Angry"
          ],
          [
           "Angry"
          ],
          [
           "Angry"
          ]
         ],
         "fillpattern": {
          "shape": ""
         },
         "hoverinfo": "all",
         "hoverlabel": {
          "bgcolor": "white",
          "font": {
           "size": 14
          }
         },
         "hovertemplate": "Emotion: %{fullData.name}<br>Frame: %{x}<br>Probability: %{y:.2f}",
         "legendgroup": "Angry",
         "line": {
          "color": "#ff0000"
         },
         "marker": {
          "symbol": "circle"
         },
         "mode": "lines",
         "name": "Angry",
         "orientation": "v",
         "showlegend": true,
         "stackgroup": "1",
         "type": "scatter",
         "x": [
          1,
          2,
          3,
          4,
          5,
          6,
          7,
          8,
          9,
          10,
          11,
          12,
          13,
          14,
          15,
          16,
          17,
          18,
          19,
          20,
          21,
          22,
          23,
          24,
          25,
          26,
          27,
          28,
          29,
          30,
          31,
          32,
          33,
          34,
          35,
          36,
          37,
          38,
          39,
          40,
          41,
          42,
          43,
          44,
          45,
          46,
          47,
          48,
          49,
          50,
          51,
          52,
          53,
          54,
          55,
          56,
          57,
          58,
          59,
          60,
          61,
          62,
          63,
          64,
          65,
          66,
          67
         ],
         "xaxis": "x2",
         "y": [
          0.04785626754164696,
          0.10981173813343048,
          0.06201528385281563,
          0.05223192647099495,
          0.06125754863023758,
          0.03427965193986893,
          0.03600937873125076,
          0.021743057295680046,
          0.031062502413988113,
          0,
          0,
          0,
          0,
          0,
          0,
          0,
          0,
          0,
          0,
          0,
          0,
          0,
          0,
          0,
          0.036207593977451324,
          0.02760746143758297,
          0.021806148812174797,
          0.07004072517156601,
          0,
          0,
          0,
          0,
          0,
          0,
          0,
          0,
          0,
          0,
          0,
          0,
          0,
          0,
          0,
          0,
          0,
          0,
          0,
          0,
          0,
          0,
          0,
          0,
          0,
          0.028188319876790047,
          0.03275329992175102,
          0.029493389651179314,
          0.026270246133208275,
          0.060676660388708115,
          0.048624008893966675,
          0.10949820280075073,
          0.06514064222574234,
          0.163319393992424,
          0.1565486490726471,
          0.1407923549413681,
          0.11563136428594589,
          0,
          0
         ],
         "yaxis": "y2"
        },
        {
         "customdata": [
          [
           "Disgust"
          ],
          [
           "Disgust"
          ],
          [
           "Disgust"
          ],
          [
           "Disgust"
          ],
          [
           "Disgust"
          ],
          [
           "Disgust"
          ],
          [
           "Disgust"
          ],
          [
           "Disgust"
          ],
          [
           "Disgust"
          ],
          [
           "Disgust"
          ],
          [
           "Disgust"
          ],
          [
           "Disgust"
          ],
          [
           "Disgust"
          ],
          [
           "Disgust"
          ],
          [
           "Disgust"
          ],
          [
           "Disgust"
          ],
          [
           "Disgust"
          ],
          [
           "Disgust"
          ],
          [
           "Disgust"
          ],
          [
           "Disgust"
          ],
          [
           "Disgust"
          ],
          [
           "Disgust"
          ],
          [
           "Disgust"
          ],
          [
           "Disgust"
          ],
          [
           "Disgust"
          ],
          [
           "Disgust"
          ],
          [
           "Disgust"
          ],
          [
           "Disgust"
          ],
          [
           "Disgust"
          ],
          [
           "Disgust"
          ],
          [
           "Disgust"
          ],
          [
           "Disgust"
          ],
          [
           "Disgust"
          ],
          [
           "Disgust"
          ],
          [
           "Disgust"
          ],
          [
           "Disgust"
          ],
          [
           "Disgust"
          ],
          [
           "Disgust"
          ],
          [
           "Disgust"
          ],
          [
           "Disgust"
          ],
          [
           "Disgust"
          ],
          [
           "Disgust"
          ],
          [
           "Disgust"
          ],
          [
           "Disgust"
          ],
          [
           "Disgust"
          ],
          [
           "Disgust"
          ],
          [
           "Disgust"
          ],
          [
           "Disgust"
          ],
          [
           "Disgust"
          ],
          [
           "Disgust"
          ],
          [
           "Disgust"
          ],
          [
           "Disgust"
          ],
          [
           "Disgust"
          ],
          [
           "Disgust"
          ],
          [
           "Disgust"
          ],
          [
           "Disgust"
          ],
          [
           "Disgust"
          ],
          [
           "Disgust"
          ],
          [
           "Disgust"
          ],
          [
           "Disgust"
          ],
          [
           "Disgust"
          ],
          [
           "Disgust"
          ],
          [
           "Disgust"
          ],
          [
           "Disgust"
          ],
          [
           "Disgust"
          ],
          [
           "Disgust"
          ],
          [
           "Disgust"
          ]
         ],
         "fillpattern": {
          "shape": ""
         },
         "hoverinfo": "all",
         "hoverlabel": {
          "bgcolor": "white",
          "font": {
           "size": 14
          }
         },
         "hovertemplate": "Emotion: %{fullData.name}<br>Frame: %{x}<br>Probability: %{y:.2f}",
         "legendgroup": "Disgust",
         "line": {
          "color": "#ffff00"
         },
         "marker": {
          "symbol": "circle"
         },
         "mode": "lines",
         "name": "Disgust",
         "orientation": "v",
         "showlegend": true,
         "stackgroup": "1",
         "type": "scatter",
         "x": [
          1,
          2,
          3,
          4,
          5,
          6,
          7,
          8,
          9,
          10,
          11,
          12,
          13,
          14,
          15,
          16,
          17,
          18,
          19,
          20,
          21,
          22,
          23,
          24,
          25,
          26,
          27,
          28,
          29,
          30,
          31,
          32,
          33,
          34,
          35,
          36,
          37,
          38,
          39,
          40,
          41,
          42,
          43,
          44,
          45,
          46,
          47,
          48,
          49,
          50,
          51,
          52,
          53,
          54,
          55,
          56,
          57,
          58,
          59,
          60,
          61,
          62,
          63,
          64,
          65,
          66,
          67
         ],
         "xaxis": "x2",
         "y": [
          0.0029321929905563593,
          0.0035642539151012897,
          0.01680462807416916,
          0.008153555914759636,
          0.002479939255863428,
          0.001987289870157838,
          0.0006154300644993782,
          0.0007806675275787711,
          0.001211638213135302,
          0,
          0,
          0,
          0,
          0,
          0,
          0,
          0,
          0,
          0,
          0,
          0,
          0,
          0,
          0,
          0.0016999865183606744,
          0.0014389120042324066,
          0.0009751014295034111,
          0.003969546873122454,
          0,
          0,
          0,
          0,
          0,
          0,
          0,
          0,
          0,
          0,
          0,
          0,
          0,
          0,
          0,
          0,
          0,
          0,
          0,
          0,
          0,
          0,
          0,
          0,
          0,
          0.00010506640683161095,
          0.00001744841028994415,
          0.000015497807908104733,
          0.00008666190842632204,
          0.00010433067654957995,
          0.0005588419153355062,
          0.0007313016685657203,
          0.0008547848556190729,
          0.0008701395126990974,
          0.0005522224819287658,
          0.00046962100896053016,
          0.004532601684331894,
          0,
          0
         ],
         "yaxis": "y2"
        },
        {
         "customdata": [
          [
           "Fear"
          ],
          [
           "Fear"
          ],
          [
           "Fear"
          ],
          [
           "Fear"
          ],
          [
           "Fear"
          ],
          [
           "Fear"
          ],
          [
           "Fear"
          ],
          [
           "Fear"
          ],
          [
           "Fear"
          ],
          [
           "Fear"
          ],
          [
           "Fear"
          ],
          [
           "Fear"
          ],
          [
           "Fear"
          ],
          [
           "Fear"
          ],
          [
           "Fear"
          ],
          [
           "Fear"
          ],
          [
           "Fear"
          ],
          [
           "Fear"
          ],
          [
           "Fear"
          ],
          [
           "Fear"
          ],
          [
           "Fear"
          ],
          [
           "Fear"
          ],
          [
           "Fear"
          ],
          [
           "Fear"
          ],
          [
           "Fear"
          ],
          [
           "Fear"
          ],
          [
           "Fear"
          ],
          [
           "Fear"
          ],
          [
           "Fear"
          ],
          [
           "Fear"
          ],
          [
           "Fear"
          ],
          [
           "Fear"
          ],
          [
           "Fear"
          ],
          [
           "Fear"
          ],
          [
           "Fear"
          ],
          [
           "Fear"
          ],
          [
           "Fear"
          ],
          [
           "Fear"
          ],
          [
           "Fear"
          ],
          [
           "Fear"
          ],
          [
           "Fear"
          ],
          [
           "Fear"
          ],
          [
           "Fear"
          ],
          [
           "Fear"
          ],
          [
           "Fear"
          ],
          [
           "Fear"
          ],
          [
           "Fear"
          ],
          [
           "Fear"
          ],
          [
           "Fear"
          ],
          [
           "Fear"
          ],
          [
           "Fear"
          ],
          [
           "Fear"
          ],
          [
           "Fear"
          ],
          [
           "Fear"
          ],
          [
           "Fear"
          ],
          [
           "Fear"
          ],
          [
           "Fear"
          ],
          [
           "Fear"
          ],
          [
           "Fear"
          ],
          [
           "Fear"
          ],
          [
           "Fear"
          ],
          [
           "Fear"
          ],
          [
           "Fear"
          ],
          [
           "Fear"
          ],
          [
           "Fear"
          ],
          [
           "Fear"
          ],
          [
           "Fear"
          ]
         ],
         "fillpattern": {
          "shape": ""
         },
         "hoverinfo": "all",
         "hoverlabel": {
          "bgcolor": "white",
          "font": {
           "size": 14
          }
         },
         "hovertemplate": "Emotion: %{fullData.name}<br>Frame: %{x}<br>Probability: %{y:.2f}",
         "legendgroup": "Fear",
         "line": {
          "color": "#ffa500"
         },
         "marker": {
          "symbol": "circle"
         },
         "mode": "lines",
         "name": "Fear",
         "orientation": "v",
         "showlegend": true,
         "stackgroup": "1",
         "type": "scatter",
         "x": [
          1,
          2,
          3,
          4,
          5,
          6,
          7,
          8,
          9,
          10,
          11,
          12,
          13,
          14,
          15,
          16,
          17,
          18,
          19,
          20,
          21,
          22,
          23,
          24,
          25,
          26,
          27,
          28,
          29,
          30,
          31,
          32,
          33,
          34,
          35,
          36,
          37,
          38,
          39,
          40,
          41,
          42,
          43,
          44,
          45,
          46,
          47,
          48,
          49,
          50,
          51,
          52,
          53,
          54,
          55,
          56,
          57,
          58,
          59,
          60,
          61,
          62,
          63,
          64,
          65,
          66,
          67
         ],
         "xaxis": "x2",
         "y": [
          0.14183346927165985,
          0.10698063671588898,
          0.13711130619049072,
          0.20271724462509155,
          0.08693064004182816,
          0.09461713582277298,
          0.09057744592428207,
          0.09095597267150879,
          0.11803732812404633,
          0,
          0,
          0,
          0,
          0,
          0,
          0,
          0,
          0,
          0,
          0,
          0,
          0,
          0,
          0,
          0.11075279116630554,
          0.09830468893051147,
          0.0956108421087265,
          0.174757719039917,
          0,
          0,
          0,
          0,
          0,
          0,
          0,
          0,
          0,
          0,
          0,
          0,
          0,
          0,
          0,
          0,
          0,
          0,
          0,
          0,
          0,
          0,
          0,
          0,
          0,
          0.03881535306572914,
          0.20756350457668304,
          0.2506958842277527,
          0.050583817064762115,
          0.23378212749958038,
          0.07002346217632294,
          0.21817442774772644,
          0.3309830129146576,
          0.13785016536712646,
          0.1723385900259018,
          0.147710382938385,
          0.06959551572799683,
          0,
          0
         ],
         "yaxis": "y2"
        },
        {
         "customdata": [
          [
           "Happy"
          ],
          [
           "Happy"
          ],
          [
           "Happy"
          ],
          [
           "Happy"
          ],
          [
           "Happy"
          ],
          [
           "Happy"
          ],
          [
           "Happy"
          ],
          [
           "Happy"
          ],
          [
           "Happy"
          ],
          [
           "Happy"
          ],
          [
           "Happy"
          ],
          [
           "Happy"
          ],
          [
           "Happy"
          ],
          [
           "Happy"
          ],
          [
           "Happy"
          ],
          [
           "Happy"
          ],
          [
           "Happy"
          ],
          [
           "Happy"
          ],
          [
           "Happy"
          ],
          [
           "Happy"
          ],
          [
           "Happy"
          ],
          [
           "Happy"
          ],
          [
           "Happy"
          ],
          [
           "Happy"
          ],
          [
           "Happy"
          ],
          [
           "Happy"
          ],
          [
           "Happy"
          ],
          [
           "Happy"
          ],
          [
           "Happy"
          ],
          [
           "Happy"
          ],
          [
           "Happy"
          ],
          [
           "Happy"
          ],
          [
           "Happy"
          ],
          [
           "Happy"
          ],
          [
           "Happy"
          ],
          [
           "Happy"
          ],
          [
           "Happy"
          ],
          [
           "Happy"
          ],
          [
           "Happy"
          ],
          [
           "Happy"
          ],
          [
           "Happy"
          ],
          [
           "Happy"
          ],
          [
           "Happy"
          ],
          [
           "Happy"
          ],
          [
           "Happy"
          ],
          [
           "Happy"
          ],
          [
           "Happy"
          ],
          [
           "Happy"
          ],
          [
           "Happy"
          ],
          [
           "Happy"
          ],
          [
           "Happy"
          ],
          [
           "Happy"
          ],
          [
           "Happy"
          ],
          [
           "Happy"
          ],
          [
           "Happy"
          ],
          [
           "Happy"
          ],
          [
           "Happy"
          ],
          [
           "Happy"
          ],
          [
           "Happy"
          ],
          [
           "Happy"
          ],
          [
           "Happy"
          ],
          [
           "Happy"
          ],
          [
           "Happy"
          ],
          [
           "Happy"
          ],
          [
           "Happy"
          ],
          [
           "Happy"
          ],
          [
           "Happy"
          ]
         ],
         "fillpattern": {
          "shape": ""
         },
         "hoverinfo": "all",
         "hoverlabel": {
          "bgcolor": "white",
          "font": {
           "size": 14
          }
         },
         "hovertemplate": "Emotion: %{fullData.name}<br>Frame: %{x}<br>Probability: %{y:.2f}",
         "legendgroup": "Happy",
         "line": {
          "color": "#008080"
         },
         "marker": {
          "symbol": "circle"
         },
         "mode": "lines",
         "name": "Happy",
         "orientation": "v",
         "showlegend": true,
         "stackgroup": "1",
         "type": "scatter",
         "x": [
          1,
          2,
          3,
          4,
          5,
          6,
          7,
          8,
          9,
          10,
          11,
          12,
          13,
          14,
          15,
          16,
          17,
          18,
          19,
          20,
          21,
          22,
          23,
          24,
          25,
          26,
          27,
          28,
          29,
          30,
          31,
          32,
          33,
          34,
          35,
          36,
          37,
          38,
          39,
          40,
          41,
          42,
          43,
          44,
          45,
          46,
          47,
          48,
          49,
          50,
          51,
          52,
          53,
          54,
          55,
          56,
          57,
          58,
          59,
          60,
          61,
          62,
          63,
          64,
          65,
          66,
          67
         ],
         "xaxis": "x2",
         "y": [
          0.250060498714447,
          0.18548941612243652,
          0.1270403116941452,
          0.19673819839954376,
          0.3017406463623047,
          0.1457713395357132,
          0.3198009729385376,
          0.4388377368450165,
          0.5896058678627014,
          0,
          0,
          0,
          0,
          0,
          0,
          0,
          0,
          0,
          0,
          0,
          0,
          0,
          0,
          0,
          0.296061635017395,
          0.4967465102672577,
          0.5703640580177307,
          0.1512921005487442,
          0,
          0,
          0,
          0,
          0,
          0,
          0,
          0,
          0,
          0,
          0,
          0,
          0,
          0,
          0,
          0,
          0,
          0,
          0,
          0,
          0,
          0,
          0,
          0,
          0,
          0.33758702874183655,
          0.1098334789276123,
          0.08184842020273209,
          0.43632906675338745,
          0.19183966517448425,
          0.3055017292499542,
          0.1307639330625534,
          0.060745272785425186,
          0.07168436050415039,
          0.08496813476085663,
          0.09038425981998444,
          0.05997403338551521,
          0,
          0
         ],
         "yaxis": "y2"
        },
        {
         "customdata": [
          [
           "Sad"
          ],
          [
           "Sad"
          ],
          [
           "Sad"
          ],
          [
           "Sad"
          ],
          [
           "Sad"
          ],
          [
           "Sad"
          ],
          [
           "Sad"
          ],
          [
           "Sad"
          ],
          [
           "Sad"
          ],
          [
           "Sad"
          ],
          [
           "Sad"
          ],
          [
           "Sad"
          ],
          [
           "Sad"
          ],
          [
           "Sad"
          ],
          [
           "Sad"
          ],
          [
           "Sad"
          ],
          [
           "Sad"
          ],
          [
           "Sad"
          ],
          [
           "Sad"
          ],
          [
           "Sad"
          ],
          [
           "Sad"
          ],
          [
           "Sad"
          ],
          [
           "Sad"
          ],
          [
           "Sad"
          ],
          [
           "Sad"
          ],
          [
           "Sad"
          ],
          [
           "Sad"
          ],
          [
           "Sad"
          ],
          [
           "Sad"
          ],
          [
           "Sad"
          ],
          [
           "Sad"
          ],
          [
           "Sad"
          ],
          [
           "Sad"
          ],
          [
           "Sad"
          ],
          [
           "Sad"
          ],
          [
           "Sad"
          ],
          [
           "Sad"
          ],
          [
           "Sad"
          ],
          [
           "Sad"
          ],
          [
           "Sad"
          ],
          [
           "Sad"
          ],
          [
           "Sad"
          ],
          [
           "Sad"
          ],
          [
           "Sad"
          ],
          [
           "Sad"
          ],
          [
           "Sad"
          ],
          [
           "Sad"
          ],
          [
           "Sad"
          ],
          [
           "Sad"
          ],
          [
           "Sad"
          ],
          [
           "Sad"
          ],
          [
           "Sad"
          ],
          [
           "Sad"
          ],
          [
           "Sad"
          ],
          [
           "Sad"
          ],
          [
           "Sad"
          ],
          [
           "Sad"
          ],
          [
           "Sad"
          ],
          [
           "Sad"
          ],
          [
           "Sad"
          ],
          [
           "Sad"
          ],
          [
           "Sad"
          ],
          [
           "Sad"
          ],
          [
           "Sad"
          ],
          [
           "Sad"
          ],
          [
           "Sad"
          ],
          [
           "Sad"
          ]
         ],
         "fillpattern": {
          "shape": ""
         },
         "hoverinfo": "all",
         "hoverlabel": {
          "bgcolor": "white",
          "font": {
           "size": 14
          }
         },
         "hovertemplate": "Emotion: %{fullData.name}<br>Frame: %{x}<br>Probability: %{y:.2f}",
         "legendgroup": "Sad",
         "line": {
          "color": "#FC00CC"
         },
         "marker": {
          "symbol": "circle"
         },
         "mode": "lines",
         "name": "Sad",
         "orientation": "v",
         "showlegend": true,
         "stackgroup": "1",
         "type": "scatter",
         "x": [
          1,
          2,
          3,
          4,
          5,
          6,
          7,
          8,
          9,
          10,
          11,
          12,
          13,
          14,
          15,
          16,
          17,
          18,
          19,
          20,
          21,
          22,
          23,
          24,
          25,
          26,
          27,
          28,
          29,
          30,
          31,
          32,
          33,
          34,
          35,
          36,
          37,
          38,
          39,
          40,
          41,
          42,
          43,
          44,
          45,
          46,
          47,
          48,
          49,
          50,
          51,
          52,
          53,
          54,
          55,
          56,
          57,
          58,
          59,
          60,
          61,
          62,
          63,
          64,
          65,
          66,
          67
         ],
         "xaxis": "x2",
         "y": [
          0.31895002722740173,
          0.48042672872543335,
          0.4360528588294983,
          0.37181296944618225,
          0.22702834010124207,
          0.5823066830635071,
          0.40538713335990906,
          0.28071460127830505,
          0.1524180918931961,
          0,
          0,
          0,
          0,
          0,
          0,
          0,
          0,
          0,
          0,
          0,
          0,
          0,
          0,
          0,
          0.3672892451286316,
          0.2544437348842621,
          0.2444285899400711,
          0.41008540987968445,
          0,
          0,
          0,
          0,
          0,
          0,
          0,
          0,
          0,
          0,
          0,
          0,
          0,
          0,
          0,
          0,
          0,
          0,
          0,
          0,
          0,
          0,
          0,
          0,
          0,
          0.23086883127689362,
          0.16750068962574005,
          0.19404320418834686,
          0.1807205080986023,
          0.1677750200033188,
          0.2664404809474945,
          0.22591674327850342,
          0.19766011834144592,
          0.22892750799655914,
          0.2024219036102295,
          0.18657658994197845,
          0.5169694423675537,
          0,
          0
         ],
         "yaxis": "y2"
        },
        {
         "customdata": [
          [
           "Surprise"
          ],
          [
           "Surprise"
          ],
          [
           "Surprise"
          ],
          [
           "Surprise"
          ],
          [
           "Surprise"
          ],
          [
           "Surprise"
          ],
          [
           "Surprise"
          ],
          [
           "Surprise"
          ],
          [
           "Surprise"
          ],
          [
           "Surprise"
          ],
          [
           "Surprise"
          ],
          [
           "Surprise"
          ],
          [
           "Surprise"
          ],
          [
           "Surprise"
          ],
          [
           "Surprise"
          ],
          [
           "Surprise"
          ],
          [
           "Surprise"
          ],
          [
           "Surprise"
          ],
          [
           "Surprise"
          ],
          [
           "Surprise"
          ],
          [
           "Surprise"
          ],
          [
           "Surprise"
          ],
          [
           "Surprise"
          ],
          [
           "Surprise"
          ],
          [
           "Surprise"
          ],
          [
           "Surprise"
          ],
          [
           "Surprise"
          ],
          [
           "Surprise"
          ],
          [
           "Surprise"
          ],
          [
           "Surprise"
          ],
          [
           "Surprise"
          ],
          [
           "Surprise"
          ],
          [
           "Surprise"
          ],
          [
           "Surprise"
          ],
          [
           "Surprise"
          ],
          [
           "Surprise"
          ],
          [
           "Surprise"
          ],
          [
           "Surprise"
          ],
          [
           "Surprise"
          ],
          [
           "Surprise"
          ],
          [
           "Surprise"
          ],
          [
           "Surprise"
          ],
          [
           "Surprise"
          ],
          [
           "Surprise"
          ],
          [
           "Surprise"
          ],
          [
           "Surprise"
          ],
          [
           "Surprise"
          ],
          [
           "Surprise"
          ],
          [
           "Surprise"
          ],
          [
           "Surprise"
          ],
          [
           "Surprise"
          ],
          [
           "Surprise"
          ],
          [
           "Surprise"
          ],
          [
           "Surprise"
          ],
          [
           "Surprise"
          ],
          [
           "Surprise"
          ],
          [
           "Surprise"
          ],
          [
           "Surprise"
          ],
          [
           "Surprise"
          ],
          [
           "Surprise"
          ],
          [
           "Surprise"
          ],
          [
           "Surprise"
          ],
          [
           "Surprise"
          ],
          [
           "Surprise"
          ],
          [
           "Surprise"
          ],
          [
           "Surprise"
          ],
          [
           "Surprise"
          ]
         ],
         "fillpattern": {
          "shape": ""
         },
         "hoverinfo": "all",
         "hoverlabel": {
          "bgcolor": "white",
          "font": {
           "size": 14
          }
         },
         "hovertemplate": "Emotion: %{fullData.name}<br>Frame: %{x}<br>Probability: %{y:.2f}",
         "legendgroup": "Surprise",
         "line": {
          "color": "#0000ff"
         },
         "marker": {
          "symbol": "circle"
         },
         "mode": "lines",
         "name": "Surprise",
         "orientation": "v",
         "showlegend": true,
         "stackgroup": "1",
         "type": "scatter",
         "x": [
          1,
          2,
          3,
          4,
          5,
          6,
          7,
          8,
          9,
          10,
          11,
          12,
          13,
          14,
          15,
          16,
          17,
          18,
          19,
          20,
          21,
          22,
          23,
          24,
          25,
          26,
          27,
          28,
          29,
          30,
          31,
          32,
          33,
          34,
          35,
          36,
          37,
          38,
          39,
          40,
          41,
          42,
          43,
          44,
          45,
          46,
          47,
          48,
          49,
          50,
          51,
          52,
          53,
          54,
          55,
          56,
          57,
          58,
          59,
          60,
          61,
          62,
          63,
          64,
          65,
          66,
          67
         ],
         "xaxis": "x2",
         "y": [
          0.031988099217414856,
          0.009467454627156258,
          0.023545509204268456,
          0.04915737360715866,
          0.013216720893979073,
          0.021675793454051018,
          0.03697368875145912,
          0.014604881405830383,
          0.02239220216870308,
          0,
          0,
          0,
          0,
          0,
          0,
          0,
          0,
          0,
          0,
          0,
          0,
          0,
          0,
          0,
          0.005780689883977175,
          0.004795410670340061,
          0.00621494697406888,
          0.014205953106284142,
          0,
          0,
          0,
          0,
          0,
          0,
          0,
          0,
          0,
          0,
          0,
          0,
          0,
          0,
          0,
          0,
          0,
          0,
          0,
          0,
          0,
          0,
          0,
          0,
          0,
          0.007924949750304222,
          0.029173674061894417,
          0.024469802156090736,
          0.012074403464794159,
          0.023334389552474022,
          0.011581246741116047,
          0.026389513164758682,
          0.10151519626379013,
          0.06310312449932098,
          0.05311586335301399,
          0.0417766310274601,
          0.024416916072368622,
          0,
          0
         ],
         "yaxis": "y2"
        },
        {
         "customdata": [
          [
           "Neutral"
          ],
          [
           "Neutral"
          ],
          [
           "Neutral"
          ],
          [
           "Neutral"
          ],
          [
           "Neutral"
          ],
          [
           "Neutral"
          ],
          [
           "Neutral"
          ],
          [
           "Neutral"
          ],
          [
           "Neutral"
          ],
          [
           "Neutral"
          ],
          [
           "Neutral"
          ],
          [
           "Neutral"
          ],
          [
           "Neutral"
          ],
          [
           "Neutral"
          ],
          [
           "Neutral"
          ],
          [
           "Neutral"
          ],
          [
           "Neutral"
          ],
          [
           "Neutral"
          ],
          [
           "Neutral"
          ],
          [
           "Neutral"
          ],
          [
           "Neutral"
          ],
          [
           "Neutral"
          ],
          [
           "Neutral"
          ],
          [
           "Neutral"
          ],
          [
           "Neutral"
          ],
          [
           "Neutral"
          ],
          [
           "Neutral"
          ],
          [
           "Neutral"
          ],
          [
           "Neutral"
          ],
          [
           "Neutral"
          ],
          [
           "Neutral"
          ],
          [
           "Neutral"
          ],
          [
           "Neutral"
          ],
          [
           "Neutral"
          ],
          [
           "Neutral"
          ],
          [
           "Neutral"
          ],
          [
           "Neutral"
          ],
          [
           "Neutral"
          ],
          [
           "Neutral"
          ],
          [
           "Neutral"
          ],
          [
           "Neutral"
          ],
          [
           "Neutral"
          ],
          [
           "Neutral"
          ],
          [
           "Neutral"
          ],
          [
           "Neutral"
          ],
          [
           "Neutral"
          ],
          [
           "Neutral"
          ],
          [
           "Neutral"
          ],
          [
           "Neutral"
          ],
          [
           "Neutral"
          ],
          [
           "Neutral"
          ],
          [
           "Neutral"
          ],
          [
           "Neutral"
          ],
          [
           "Neutral"
          ],
          [
           "Neutral"
          ],
          [
           "Neutral"
          ],
          [
           "Neutral"
          ],
          [
           "Neutral"
          ],
          [
           "Neutral"
          ],
          [
           "Neutral"
          ],
          [
           "Neutral"
          ],
          [
           "Neutral"
          ],
          [
           "Neutral"
          ],
          [
           "Neutral"
          ],
          [
           "Neutral"
          ],
          [
           "Neutral"
          ],
          [
           "Neutral"
          ]
         ],
         "fillpattern": {
          "shape": ""
         },
         "hoverinfo": "all",
         "hoverlabel": {
          "bgcolor": "white",
          "font": {
           "size": 14
          }
         },
         "hovertemplate": "Emotion: %{fullData.name}<br>Frame: %{x}<br>Probability: %{y:.2f}",
         "legendgroup": "Neutral",
         "line": {
          "color": "#00ff00"
         },
         "marker": {
          "symbol": "circle"
         },
         "mode": "lines",
         "name": "Neutral",
         "orientation": "v",
         "showlegend": true,
         "stackgroup": "1",
         "type": "scatter",
         "x": [
          1,
          2,
          3,
          4,
          5,
          6,
          7,
          8,
          9,
          10,
          11,
          12,
          13,
          14,
          15,
          16,
          17,
          18,
          19,
          20,
          21,
          22,
          23,
          24,
          25,
          26,
          27,
          28,
          29,
          30,
          31,
          32,
          33,
          34,
          35,
          36,
          37,
          38,
          39,
          40,
          41,
          42,
          43,
          44,
          45,
          46,
          47,
          48,
          49,
          50,
          51,
          52,
          53,
          54,
          55,
          56,
          57,
          58,
          59,
          60,
          61,
          62,
          63,
          64,
          65,
          66,
          67
         ],
         "xaxis": "x2",
         "y": [
          0.20637939870357513,
          0.10425978899002075,
          0.1974300593137741,
          0.11918874830007553,
          0.30734607577323914,
          0.11936210095882416,
          0.11063598096370697,
          0.15236301720142365,
          0.08527234941720963,
          0,
          0,
          0,
          0,
          0,
          0,
          0,
          0,
          0,
          0,
          0,
          0,
          0,
          0,
          0,
          0.18220806121826172,
          0.11666319519281387,
          0.06060031056404114,
          0.1756485402584076,
          0,
          0,
          0,
          0,
          0,
          0,
          0,
          0,
          0,
          0,
          0,
          0,
          0,
          0,
          0,
          0,
          0,
          0,
          0,
          0,
          0,
          0,
          0,
          0,
          0,
          0.3565104603767395,
          0.453157901763916,
          0.41943374276161194,
          0.29393523931503296,
          0.3224877417087555,
          0.2972702085971832,
          0.28852590918540955,
          0.24310100078582764,
          0.33424532413482666,
          0.33005455136299133,
          0.3922901153564453,
          0.20888008177280426,
          0,
          0
         ],
         "yaxis": "y2"
        }
       ],
       "layout": {
        "annotations": [
         {
          "font": {
           "size": 18
          },
          "showarrow": false,
          "text": "Emotion-Landscape over Frames for Character 1",
          "x": 0.13,
          "xref": "paper",
          "y": 1.17,
          "yref": "paper"
         }
        ],
        "font": {
         "size": 12
        },
        "legend": {
         "orientation": "v",
         "title": {
          "font": {
           "size": 12
          }
         },
         "traceorder": "reversed",
         "x": 1.1,
         "xanchor": "left",
         "y": 0,
         "yanchor": "bottom"
        },
        "margin": {
         "b": 50,
         "l": 50,
         "r": 50,
         "t": 80
        },
        "polar": {
         "angularaxis": {
          "direction": "clockwise",
          "rotation": 90,
          "tickfont": {
           "size": 14
          }
         },
         "domain": {
          "x": [
           0.55,
           1
          ],
          "y": [
           0.5,
           1
          ]
         },
         "radialaxis": {
          "showticklabels": false
         }
        },
        "showlegend": true,
        "template": {
         "data": {
          "bar": [
           {
            "error_x": {
             "color": "#2a3f5f"
            },
            "error_y": {
             "color": "#2a3f5f"
            },
            "marker": {
             "line": {
              "color": "#E5ECF6",
              "width": 0.5
             },
             "pattern": {
              "fillmode": "overlay",
              "size": 10,
              "solidity": 0.2
             }
            },
            "type": "bar"
           }
          ],
          "barpolar": [
           {
            "marker": {
             "line": {
              "color": "#E5ECF6",
              "width": 0.5
             },
             "pattern": {
              "fillmode": "overlay",
              "size": 10,
              "solidity": 0.2
             }
            },
            "type": "barpolar"
           }
          ],
          "carpet": [
           {
            "aaxis": {
             "endlinecolor": "#2a3f5f",
             "gridcolor": "white",
             "linecolor": "white",
             "minorgridcolor": "white",
             "startlinecolor": "#2a3f5f"
            },
            "baxis": {
             "endlinecolor": "#2a3f5f",
             "gridcolor": "white",
             "linecolor": "white",
             "minorgridcolor": "white",
             "startlinecolor": "#2a3f5f"
            },
            "type": "carpet"
           }
          ],
          "choropleth": [
           {
            "colorbar": {
             "outlinewidth": 0,
             "ticks": ""
            },
            "type": "choropleth"
           }
          ],
          "contour": [
           {
            "colorbar": {
             "outlinewidth": 0,
             "ticks": ""
            },
            "colorscale": [
             [
              0,
              "#0d0887"
             ],
             [
              0.1111111111111111,
              "#46039f"
             ],
             [
              0.2222222222222222,
              "#7201a8"
             ],
             [
              0.3333333333333333,
              "#9c179e"
             ],
             [
              0.4444444444444444,
              "#bd3786"
             ],
             [
              0.5555555555555556,
              "#d8576b"
             ],
             [
              0.6666666666666666,
              "#ed7953"
             ],
             [
              0.7777777777777778,
              "#fb9f3a"
             ],
             [
              0.8888888888888888,
              "#fdca26"
             ],
             [
              1,
              "#f0f921"
             ]
            ],
            "type": "contour"
           }
          ],
          "contourcarpet": [
           {
            "colorbar": {
             "outlinewidth": 0,
             "ticks": ""
            },
            "type": "contourcarpet"
           }
          ],
          "heatmap": [
           {
            "colorbar": {
             "outlinewidth": 0,
             "ticks": ""
            },
            "colorscale": [
             [
              0,
              "#0d0887"
             ],
             [
              0.1111111111111111,
              "#46039f"
             ],
             [
              0.2222222222222222,
              "#7201a8"
             ],
             [
              0.3333333333333333,
              "#9c179e"
             ],
             [
              0.4444444444444444,
              "#bd3786"
             ],
             [
              0.5555555555555556,
              "#d8576b"
             ],
             [
              0.6666666666666666,
              "#ed7953"
             ],
             [
              0.7777777777777778,
              "#fb9f3a"
             ],
             [
              0.8888888888888888,
              "#fdca26"
             ],
             [
              1,
              "#f0f921"
             ]
            ],
            "type": "heatmap"
           }
          ],
          "heatmapgl": [
           {
            "colorbar": {
             "outlinewidth": 0,
             "ticks": ""
            },
            "colorscale": [
             [
              0,
              "#0d0887"
             ],
             [
              0.1111111111111111,
              "#46039f"
             ],
             [
              0.2222222222222222,
              "#7201a8"
             ],
             [
              0.3333333333333333,
              "#9c179e"
             ],
             [
              0.4444444444444444,
              "#bd3786"
             ],
             [
              0.5555555555555556,
              "#d8576b"
             ],
             [
              0.6666666666666666,
              "#ed7953"
             ],
             [
              0.7777777777777778,
              "#fb9f3a"
             ],
             [
              0.8888888888888888,
              "#fdca26"
             ],
             [
              1,
              "#f0f921"
             ]
            ],
            "type": "heatmapgl"
           }
          ],
          "histogram": [
           {
            "marker": {
             "pattern": {
              "fillmode": "overlay",
              "size": 10,
              "solidity": 0.2
             }
            },
            "type": "histogram"
           }
          ],
          "histogram2d": [
           {
            "colorbar": {
             "outlinewidth": 0,
             "ticks": ""
            },
            "colorscale": [
             [
              0,
              "#0d0887"
             ],
             [
              0.1111111111111111,
              "#46039f"
             ],
             [
              0.2222222222222222,
              "#7201a8"
             ],
             [
              0.3333333333333333,
              "#9c179e"
             ],
             [
              0.4444444444444444,
              "#bd3786"
             ],
             [
              0.5555555555555556,
              "#d8576b"
             ],
             [
              0.6666666666666666,
              "#ed7953"
             ],
             [
              0.7777777777777778,
              "#fb9f3a"
             ],
             [
              0.8888888888888888,
              "#fdca26"
             ],
             [
              1,
              "#f0f921"
             ]
            ],
            "type": "histogram2d"
           }
          ],
          "histogram2dcontour": [
           {
            "colorbar": {
             "outlinewidth": 0,
             "ticks": ""
            },
            "colorscale": [
             [
              0,
              "#0d0887"
             ],
             [
              0.1111111111111111,
              "#46039f"
             ],
             [
              0.2222222222222222,
              "#7201a8"
             ],
             [
              0.3333333333333333,
              "#9c179e"
             ],
             [
              0.4444444444444444,
              "#bd3786"
             ],
             [
              0.5555555555555556,
              "#d8576b"
             ],
             [
              0.6666666666666666,
              "#ed7953"
             ],
             [
              0.7777777777777778,
              "#fb9f3a"
             ],
             [
              0.8888888888888888,
              "#fdca26"
             ],
             [
              1,
              "#f0f921"
             ]
            ],
            "type": "histogram2dcontour"
           }
          ],
          "mesh3d": [
           {
            "colorbar": {
             "outlinewidth": 0,
             "ticks": ""
            },
            "type": "mesh3d"
           }
          ],
          "parcoords": [
           {
            "line": {
             "colorbar": {
              "outlinewidth": 0,
              "ticks": ""
             }
            },
            "type": "parcoords"
           }
          ],
          "pie": [
           {
            "automargin": true,
            "type": "pie"
           }
          ],
          "scatter": [
           {
            "fillpattern": {
             "fillmode": "overlay",
             "size": 10,
             "solidity": 0.2
            },
            "type": "scatter"
           }
          ],
          "scatter3d": [
           {
            "line": {
             "colorbar": {
              "outlinewidth": 0,
              "ticks": ""
             }
            },
            "marker": {
             "colorbar": {
              "outlinewidth": 0,
              "ticks": ""
             }
            },
            "type": "scatter3d"
           }
          ],
          "scattercarpet": [
           {
            "marker": {
             "colorbar": {
              "outlinewidth": 0,
              "ticks": ""
             }
            },
            "type": "scattercarpet"
           }
          ],
          "scattergeo": [
           {
            "marker": {
             "colorbar": {
              "outlinewidth": 0,
              "ticks": ""
             }
            },
            "type": "scattergeo"
           }
          ],
          "scattergl": [
           {
            "marker": {
             "colorbar": {
              "outlinewidth": 0,
              "ticks": ""
             }
            },
            "type": "scattergl"
           }
          ],
          "scattermapbox": [
           {
            "marker": {
             "colorbar": {
              "outlinewidth": 0,
              "ticks": ""
             }
            },
            "type": "scattermapbox"
           }
          ],
          "scatterpolar": [
           {
            "marker": {
             "colorbar": {
              "outlinewidth": 0,
              "ticks": ""
             }
            },
            "type": "scatterpolar"
           }
          ],
          "scatterpolargl": [
           {
            "marker": {
             "colorbar": {
              "outlinewidth": 0,
              "ticks": ""
             }
            },
            "type": "scatterpolargl"
           }
          ],
          "scatterternary": [
           {
            "marker": {
             "colorbar": {
              "outlinewidth": 0,
              "ticks": ""
             }
            },
            "type": "scatterternary"
           }
          ],
          "surface": [
           {
            "colorbar": {
             "outlinewidth": 0,
             "ticks": ""
            },
            "colorscale": [
             [
              0,
              "#0d0887"
             ],
             [
              0.1111111111111111,
              "#46039f"
             ],
             [
              0.2222222222222222,
              "#7201a8"
             ],
             [
              0.3333333333333333,
              "#9c179e"
             ],
             [
              0.4444444444444444,
              "#bd3786"
             ],
             [
              0.5555555555555556,
              "#d8576b"
             ],
             [
              0.6666666666666666,
              "#ed7953"
             ],
             [
              0.7777777777777778,
              "#fb9f3a"
             ],
             [
              0.8888888888888888,
              "#fdca26"
             ],
             [
              1,
              "#f0f921"
             ]
            ],
            "type": "surface"
           }
          ],
          "table": [
           {
            "cells": {
             "fill": {
              "color": "#EBF0F8"
             },
             "line": {
              "color": "white"
             }
            },
            "header": {
             "fill": {
              "color": "#C8D4E3"
             },
             "line": {
              "color": "white"
             }
            },
            "type": "table"
           }
          ]
         },
         "layout": {
          "annotationdefaults": {
           "arrowcolor": "#2a3f5f",
           "arrowhead": 0,
           "arrowwidth": 1
          },
          "autotypenumbers": "strict",
          "coloraxis": {
           "colorbar": {
            "outlinewidth": 0,
            "ticks": ""
           }
          },
          "colorscale": {
           "diverging": [
            [
             0,
             "#8e0152"
            ],
            [
             0.1,
             "#c51b7d"
            ],
            [
             0.2,
             "#de77ae"
            ],
            [
             0.3,
             "#f1b6da"
            ],
            [
             0.4,
             "#fde0ef"
            ],
            [
             0.5,
             "#f7f7f7"
            ],
            [
             0.6,
             "#e6f5d0"
            ],
            [
             0.7,
             "#b8e186"
            ],
            [
             0.8,
             "#7fbc41"
            ],
            [
             0.9,
             "#4d9221"
            ],
            [
             1,
             "#276419"
            ]
           ],
           "sequential": [
            [
             0,
             "#0d0887"
            ],
            [
             0.1111111111111111,
             "#46039f"
            ],
            [
             0.2222222222222222,
             "#7201a8"
            ],
            [
             0.3333333333333333,
             "#9c179e"
            ],
            [
             0.4444444444444444,
             "#bd3786"
            ],
            [
             0.5555555555555556,
             "#d8576b"
            ],
            [
             0.6666666666666666,
             "#ed7953"
            ],
            [
             0.7777777777777778,
             "#fb9f3a"
            ],
            [
             0.8888888888888888,
             "#fdca26"
            ],
            [
             1,
             "#f0f921"
            ]
           ],
           "sequentialminus": [
            [
             0,
             "#0d0887"
            ],
            [
             0.1111111111111111,
             "#46039f"
            ],
            [
             0.2222222222222222,
             "#7201a8"
            ],
            [
             0.3333333333333333,
             "#9c179e"
            ],
            [
             0.4444444444444444,
             "#bd3786"
            ],
            [
             0.5555555555555556,
             "#d8576b"
            ],
            [
             0.6666666666666666,
             "#ed7953"
            ],
            [
             0.7777777777777778,
             "#fb9f3a"
            ],
            [
             0.8888888888888888,
             "#fdca26"
            ],
            [
             1,
             "#f0f921"
            ]
           ]
          },
          "colorway": [
           "#636efa",
           "#EF553B",
           "#00cc96",
           "#ab63fa",
           "#FFA15A",
           "#19d3f3",
           "#FF6692",
           "#B6E880",
           "#FF97FF",
           "#FECB52"
          ],
          "font": {
           "color": "#2a3f5f"
          },
          "geo": {
           "bgcolor": "white",
           "lakecolor": "white",
           "landcolor": "#E5ECF6",
           "showlakes": true,
           "showland": true,
           "subunitcolor": "white"
          },
          "hoverlabel": {
           "align": "left"
          },
          "hovermode": "closest",
          "mapbox": {
           "style": "light"
          },
          "paper_bgcolor": "white",
          "plot_bgcolor": "#E5ECF6",
          "polar": {
           "angularaxis": {
            "gridcolor": "white",
            "linecolor": "white",
            "ticks": ""
           },
           "bgcolor": "#E5ECF6",
           "radialaxis": {
            "gridcolor": "white",
            "linecolor": "white",
            "ticks": ""
           }
          },
          "scene": {
           "xaxis": {
            "backgroundcolor": "#E5ECF6",
            "gridcolor": "white",
            "gridwidth": 2,
            "linecolor": "white",
            "showbackground": true,
            "ticks": "",
            "zerolinecolor": "white"
           },
           "yaxis": {
            "backgroundcolor": "#E5ECF6",
            "gridcolor": "white",
            "gridwidth": 2,
            "linecolor": "white",
            "showbackground": true,
            "ticks": "",
            "zerolinecolor": "white"
           },
           "zaxis": {
            "backgroundcolor": "#E5ECF6",
            "gridcolor": "white",
            "gridwidth": 2,
            "linecolor": "white",
            "showbackground": true,
            "ticks": "",
            "zerolinecolor": "white"
           }
          },
          "shapedefaults": {
           "line": {
            "color": "#2a3f5f"
           }
          },
          "ternary": {
           "aaxis": {
            "gridcolor": "white",
            "linecolor": "white",
            "ticks": ""
           },
           "baxis": {
            "gridcolor": "white",
            "linecolor": "white",
            "ticks": ""
           },
           "bgcolor": "#E5ECF6",
           "caxis": {
            "gridcolor": "white",
            "linecolor": "white",
            "ticks": ""
           }
          },
          "title": {
           "x": 0.05
          },
          "xaxis": {
           "automargin": true,
           "gridcolor": "white",
           "linecolor": "white",
           "ticks": "",
           "title": {
            "standoff": 15
           },
           "zerolinecolor": "white",
           "zerolinewidth": 2
          },
          "yaxis": {
           "automargin": true,
           "gridcolor": "white",
           "linecolor": "white",
           "ticks": "",
           "title": {
            "standoff": 15
           },
           "zerolinecolor": "white",
           "zerolinewidth": 2
          }
         }
        },
        "xaxis": {
         "anchor": "y",
         "domain": [
          0,
          0.45
         ],
         "showticklabels": false,
         "visible": false,
         "zeroline": false
        },
        "xaxis2": {
         "anchor": "y2",
         "domain": [
          0,
          1
         ],
         "title": {
          "font": {
           "size": 12
          },
          "standoff": 8,
          "text": "Frame Count"
         }
        },
        "yaxis": {
         "anchor": "x",
         "domain": [
          0.575,
          1
         ],
         "showticklabels": false,
         "visible": false,
         "zeroline": false
        },
        "yaxis2": {
         "anchor": "x2",
         "domain": [
          0,
          0.425
         ],
         "dtick": 0.2,
         "tickmode": "linear",
         "title": {
          "font": {
           "size": 12
          },
          "standoff": 8,
          "text": "Emotion Probability"
         }
        }
       }
      }
     },
     "metadata": {},
     "output_type": "display_data"
    }
   ],
   "source": [
    "figures = []\n",
    "\n",
    "overview_fig = plots.get_overall_overview(result['new_export']['overview_mean'])\n",
    "\n",
    "for ID in data:\n",
    "    fig1 = plots.get_character_overview(data[ID], ID, result)\n",
    "    figures.append(fig1)\n",
    "    fig2 = plots.get_strongest_emotions_plot(data[ID])\n",
    "    figures.append(fig2)\n",
    "\n",
    "\n",
    "#plot figures\n",
    "figures[0].show()"
   ]
  },
  {
   "cell_type": "code",
   "execution_count": null,
   "metadata": {},
   "outputs": [],
   "source": [
    "def get_character_overview(df_video, ID, result):\n",
    "\n",
    "    '''\n",
    "    This stacks together:\n",
    "        1. Portrait\n",
    "        2. Timeseries for 1 character\n",
    "        3. Radar_plot for 1 character\n",
    "\n",
    "        Iteration over characters happens in app.py\n",
    "    '''\n",
    "    df_max_rows = df_video.groupby('frame')['probability'].idxmax().reset_index()\n",
    "    df_max_probs = df_video.loc[df_max_rows['probability']]\n",
    "    df_radar = plots.get_df_radar(df_video)\n",
    "\n",
    "\n",
    "    fig_radar = plots.get_radar_plot(df_radar)\n",
    "    fig_area = plots.get_emotion_landscape(df_video)\n",
    "    fig_strongest_emotion = plots.get_strongest_emotions_plot(df_max_probs)\n",
    "\n",
    "    fig = make_subplots(rows=3, cols=2, specs=[[{'type': 'image'}, {'type': 'polar'}],[{'type': 'xy', 'colspan':2},None], [{'type': 'xy', 'colspan':2},None]], horizontal_spacing=0.1, vertical_spacing=0.15)\n",
    "\n",
    "\n",
    "    # Add trace1, trace2, and the image to their respective subplots\n",
    "    image_array = result['portraits'][ID]\n",
    "    fig.add_trace(px.imshow(image_array, ).data[0], row=1, col=1)\n",
    "    fig.add_trace(fig_radar.data[0], row=1, col=2)\n",
    "\n",
    "    for i in range(7):\n",
    "        fig.add_trace(fig_area.data[i], row=2, col=1)\n",
    "\n",
    "    for i in range(7):\n",
    "        fig.add_trace(fig_strongest_emotion.data[i], row=3, col=1)\n",
    "        \n",
    "    fig.update_layout(\n",
    "            polar=dict(\n",
    "                domain=dict(y=[0.5, 1]),\n",
    "                radialaxis=dict(\n",
    "                    showticklabels=False,  \n",
    "                ),\n",
    "                angularaxis=dict(\n",
    "                    tickfont=dict(size=14),\n",
    "                    rotation=90,\n",
    "                    direction='clockwise'\n",
    "                )\n",
    "            ),\n",
    "\n",
    "            showlegend=True,\n",
    "            legend=dict(\n",
    "            x=1.1,\n",
    "            y=0,\n",
    "            xanchor='left',\n",
    "            yanchor='bottom',\n",
    "            title_font=dict(size=12),\n",
    "            orientation='v',\n",
    "            traceorder='reversed'\n",
    "            ),\n",
    "\n",
    "            margin=dict(t=80, b=50, l=50, r=50),\n",
    "            font=dict(size=12),\n",
    "\n",
    "            # Add the title above the image\n",
    "            annotations=[\n",
    "                dict(\n",
    "                    text=f'Character: {ID}',\n",
    "                    xref='x domain',\n",
    "                    yref='y domain',\n",
    "                    x=0.5,\n",
    "                    y=1.2,\n",
    "                    showarrow=False,\n",
    "                    font=dict(size=16),\n",
    "                )\n",
    "            ],\n",
    "        )\n",
    "\n",
    "\n",
    "    fig.update_xaxes(showticklabels=False, zeroline=False, visible=False, row=1, col=1)\n",
    "    fig.update_yaxes(showticklabels=False, zeroline=False, visible=False, row=1, col=1)\n",
    "\n",
    "    fig.update_xaxes(title_text=\"Frame Count\", title_font=dict(size=12), title_standoff=8, row=2, col=1)\n",
    "    fig.update_yaxes(title_text=\"Emotion Probability\", title_font=dict(size=12), title_standoff=8, tickmode='linear', dtick=0.2, row=2, col=1)\n",
    "\n",
    "    fig.update_xaxes(title_text=\"Emotion Counts\", row=1, col=3)\n",
    "    fig.update_yaxes(title_text=\"Prevalence\", row=1, col=3)\n",
    "\n",
    "\n",
    "    return fig"
   ]
  },
  {
   "cell_type": "code",
   "execution_count": null,
   "metadata": {},
   "outputs": [],
   "source": [
    "df_max_rows = df.groupby('frame')['probability'].idxmax().reset_index()\n",
    "df_max_probs = df.loc[df_max_rows['probability']]"
   ]
  },
  {
   "cell_type": "code",
   "execution_count": null,
   "metadata": {},
   "outputs": [],
   "source": [
    "def get_strongest_emotions_plot(df):\n",
    "    df_max_rows = df.groupby('frame')['probability'].idxmax().reset_index()\n",
    "    df_max_probs = df.loc[df_max_rows['probability']]\n",
    "\n",
    "    color_map = {\n",
    "    'Angry': '#ff0000',\n",
    "    'Disgust': '#ffff00',\n",
    "    'Fear': '#ffa500',\n",
    "    'Sad': '#FC00CC',\n",
    "    'Neutral': '#00ff00',\n",
    "    'Happy': '#008080',\n",
    "    'Surprise': '#0000ff'\n",
    "    } \n",
    "    emotions = ['Angry', 'Disgust', 'Fear', 'Sad', 'Neutral', 'Happy', 'Surprise']\n",
    "\n",
    "    cb_palette = [color_map[emotion] for emotion in emotions]\n",
    "    \n",
    "    fig = px.bar(df_max_probs, x='frame', y='probability', color='emotion', \n",
    "                color_discrete_sequence=cb_palette, hover_data={\"text\": df_max_probs['emotion']})\n",
    "\n",
    "    # Update the layout\n",
    "    fig.update_layout(   \n",
    "        title={\n",
    "            'text': 'Strongest Emotion per frame',\n",
    "            'font': {'size': 24, 'color': 'black'},\n",
    "            'x': 0.5,\n",
    "            'y': 0.9,\n",
    "            'yanchor': 'middle'\n",
    "        },\n",
    "        xaxis_title='Frame',\n",
    "        yaxis_title='Probability',\n",
    "        legend_title='Emotion',\n",
    "        font=dict(family='Arial', size=14),\n",
    "        margin=dict(l=50, r=50, t=100, b=50),\n",
    "        plot_bgcolor='white'\n",
    "    )\n",
    "\n",
    "    # Update the legend with customizations\n",
    "    fig.update_traces(\n",
    "        hovertemplate='<br>'.join([\n",
    "            'Emotion: %{fullData.name}',\n",
    "            'Frame: %{x}',\n",
    "            'Probability: %{y:.2f}'\n",
    "        ]),\n",
    "        hoverlabel=dict(bgcolor='white', font_size=14),\n",
    "        showlegend=True,\n",
    "        hoverinfo='all'\n",
    "    )\n",
    "\n",
    "    return fig\n"
   ]
  },
  {
   "cell_type": "code",
   "execution_count": null,
   "metadata": {},
   "outputs": [
    {
     "data": {
      "text/html": [
       "<div>\n",
       "<style scoped>\n",
       "    .dataframe tbody tr th:only-of-type {\n",
       "        vertical-align: middle;\n",
       "    }\n",
       "\n",
       "    .dataframe tbody tr th {\n",
       "        vertical-align: top;\n",
       "    }\n",
       "\n",
       "    .dataframe thead th {\n",
       "        text-align: right;\n",
       "    }\n",
       "</style>\n",
       "<table border=\"1\" class=\"dataframe\">\n",
       "  <thead>\n",
       "    <tr style=\"text-align: right;\">\n",
       "      <th></th>\n",
       "      <th>frame</th>\n",
       "      <th>emotion</th>\n",
       "      <th>probability</th>\n",
       "    </tr>\n",
       "  </thead>\n",
       "  <tbody>\n",
       "    <tr>\n",
       "      <th>0</th>\n",
       "      <td>1</td>\n",
       "      <td>Angry</td>\n",
       "      <td>0.0</td>\n",
       "    </tr>\n",
       "    <tr>\n",
       "      <th>1</th>\n",
       "      <td>2</td>\n",
       "      <td>Angry</td>\n",
       "      <td>0.0</td>\n",
       "    </tr>\n",
       "    <tr>\n",
       "      <th>2</th>\n",
       "      <td>3</td>\n",
       "      <td>Angry</td>\n",
       "      <td>0.0</td>\n",
       "    </tr>\n",
       "    <tr>\n",
       "      <th>3</th>\n",
       "      <td>4</td>\n",
       "      <td>Angry</td>\n",
       "      <td>0.0</td>\n",
       "    </tr>\n",
       "    <tr>\n",
       "      <th>4</th>\n",
       "      <td>5</td>\n",
       "      <td>Angry</td>\n",
       "      <td>0.0</td>\n",
       "    </tr>\n",
       "    <tr>\n",
       "      <th>...</th>\n",
       "      <td>...</td>\n",
       "      <td>...</td>\n",
       "      <td>...</td>\n",
       "    </tr>\n",
       "    <tr>\n",
       "      <th>464</th>\n",
       "      <td>63</td>\n",
       "      <td>Neutral</td>\n",
       "      <td>0.0</td>\n",
       "    </tr>\n",
       "    <tr>\n",
       "      <th>465</th>\n",
       "      <td>64</td>\n",
       "      <td>Neutral</td>\n",
       "      <td>0.0</td>\n",
       "    </tr>\n",
       "    <tr>\n",
       "      <th>466</th>\n",
       "      <td>65</td>\n",
       "      <td>Neutral</td>\n",
       "      <td>0.0</td>\n",
       "    </tr>\n",
       "    <tr>\n",
       "      <th>467</th>\n",
       "      <td>66</td>\n",
       "      <td>Neutral</td>\n",
       "      <td>0.0</td>\n",
       "    </tr>\n",
       "    <tr>\n",
       "      <th>468</th>\n",
       "      <td>67</td>\n",
       "      <td>Neutral</td>\n",
       "      <td>0.0</td>\n",
       "    </tr>\n",
       "  </tbody>\n",
       "</table>\n",
       "<p>469 rows × 3 columns</p>\n",
       "</div>"
      ],
      "text/plain": [
       "     frame  emotion  probability\n",
       "0        1    Angry          0.0\n",
       "1        2    Angry          0.0\n",
       "2        3    Angry          0.0\n",
       "3        4    Angry          0.0\n",
       "4        5    Angry          0.0\n",
       "..     ...      ...          ...\n",
       "464     63  Neutral          0.0\n",
       "465     64  Neutral          0.0\n",
       "466     65  Neutral          0.0\n",
       "467     66  Neutral          0.0\n",
       "468     67  Neutral          0.0\n",
       "\n",
       "[469 rows x 3 columns]"
      ]
     },
     "execution_count": 7,
     "metadata": {},
     "output_type": "execute_result"
    }
   ],
   "source": [
    "df = result['new_export']['main_character_data'][2]\n",
    "df"
   ]
  },
  {
   "cell_type": "code",
   "execution_count": null,
   "metadata": {},
   "outputs": [
    {
     "data": {
      "application/vnd.plotly.v1+json": {
       "config": {
        "plotlyServerURL": "https://plot.ly"
       },
       "data": [
        {
         "alignmentgroup": "True",
         "customdata": [
          [
           "Angry"
          ],
          [
           "Angry"
          ],
          [
           "Angry"
          ],
          [
           "Angry"
          ],
          [
           "Angry"
          ],
          [
           "Angry"
          ],
          [
           "Angry"
          ],
          [
           "Angry"
          ],
          [
           "Angry"
          ],
          [
           "Angry"
          ],
          [
           "Angry"
          ],
          [
           "Angry"
          ],
          [
           "Angry"
          ],
          [
           "Angry"
          ],
          [
           "Angry"
          ],
          [
           "Angry"
          ],
          [
           "Angry"
          ],
          [
           "Angry"
          ],
          [
           "Angry"
          ],
          [
           "Angry"
          ],
          [
           "Angry"
          ],
          [
           "Angry"
          ],
          [
           "Angry"
          ],
          [
           "Angry"
          ],
          [
           "Angry"
          ],
          [
           "Angry"
          ],
          [
           "Angry"
          ],
          [
           "Angry"
          ],
          [
           "Angry"
          ],
          [
           "Angry"
          ],
          [
           "Angry"
          ],
          [
           "Angry"
          ],
          [
           "Angry"
          ],
          [
           "Angry"
          ],
          [
           "Angry"
          ],
          [
           "Angry"
          ],
          [
           "Angry"
          ],
          [
           "Angry"
          ]
         ],
         "hoverinfo": "all",
         "hoverlabel": {
          "bgcolor": "white",
          "font": {
           "size": 14
          }
         },
         "hovertemplate": "Emotion: %{fullData.name}<br>Frame: %{x}<br>Probability: %{y:.2f}",
         "legendgroup": "Angry",
         "marker": {
          "color": "#ff0000",
          "pattern": {
           "shape": ""
          }
         },
         "name": "Angry",
         "offsetgroup": "Angry",
         "orientation": "v",
         "showlegend": true,
         "textposition": "auto",
         "type": "bar",
         "x": [
          1,
          2,
          3,
          4,
          5,
          6,
          7,
          8,
          9,
          23,
          25,
          26,
          27,
          28,
          29,
          30,
          31,
          32,
          33,
          34,
          35,
          36,
          37,
          38,
          54,
          55,
          56,
          57,
          58,
          59,
          60,
          61,
          62,
          63,
          64,
          65,
          66,
          67
         ],
         "xaxis": "x",
         "y": [
          0,
          0,
          0,
          0,
          0,
          0,
          0,
          0,
          0,
          0.31478020548820496,
          0,
          0,
          0,
          0,
          0,
          0,
          0,
          0,
          0,
          0,
          0,
          0,
          0,
          0,
          0,
          0,
          0,
          0,
          0,
          0,
          0,
          0,
          0,
          0,
          0,
          0,
          0,
          0
         ],
         "yaxis": "y"
        },
        {
         "alignmentgroup": "True",
         "customdata": [
          [
           "Neutral"
          ],
          [
           "Neutral"
          ],
          [
           "Neutral"
          ],
          [
           "Neutral"
          ],
          [
           "Neutral"
          ],
          [
           "Neutral"
          ],
          [
           "Neutral"
          ],
          [
           "Neutral"
          ],
          [
           "Neutral"
          ],
          [
           "Neutral"
          ],
          [
           "Neutral"
          ],
          [
           "Neutral"
          ],
          [
           "Neutral"
          ],
          [
           "Neutral"
          ],
          [
           "Neutral"
          ],
          [
           "Neutral"
          ],
          [
           "Neutral"
          ],
          [
           "Neutral"
          ],
          [
           "Neutral"
          ],
          [
           "Neutral"
          ],
          [
           "Neutral"
          ],
          [
           "Neutral"
          ],
          [
           "Neutral"
          ],
          [
           "Neutral"
          ],
          [
           "Neutral"
          ]
         ],
         "hoverinfo": "all",
         "hoverlabel": {
          "bgcolor": "white",
          "font": {
           "size": 14
          }
         },
         "hovertemplate": "Emotion: %{fullData.name}<br>Frame: %{x}<br>Probability: %{y:.2f}",
         "legendgroup": "Neutral",
         "marker": {
          "color": "#ffff00",
          "pattern": {
           "shape": ""
          }
         },
         "name": "Neutral",
         "offsetgroup": "Neutral",
         "orientation": "v",
         "showlegend": true,
         "textposition": "auto",
         "type": "bar",
         "x": [
          10,
          11,
          12,
          13,
          14,
          15,
          16,
          17,
          18,
          19,
          21,
          22,
          24,
          39,
          40,
          41,
          42,
          43,
          44,
          46,
          47,
          48,
          50,
          51,
          53
         ],
         "xaxis": "x",
         "y": [
          0.3124851584434509,
          0.3765369653701782,
          0.368836909532547,
          0.36113685369491577,
          0.35343679785728455,
          0.36622560024261475,
          0.4118545949459076,
          0.3116598427295685,
          0.3550436198711395,
          0.30862313508987427,
          0.26131734251976013,
          0.3319796621799469,
          0.32632961869239807,
          0.3979673385620117,
          0.5596407651901245,
          0.4422856569290161,
          0.32698071002960205,
          0.41975390911102295,
          0.43682315945625305,
          0.430711030960083,
          0.7706313133239746,
          0.5279245972633362,
          0.3321171700954437,
          0.4708143174648285,
          0.3879868984222412
         ],
         "yaxis": "y"
        },
        {
         "alignmentgroup": "True",
         "customdata": [
          [
           "Happy"
          ]
         ],
         "hoverinfo": "all",
         "hoverlabel": {
          "bgcolor": "white",
          "font": {
           "size": 14
          }
         },
         "hovertemplate": "Emotion: %{fullData.name}<br>Frame: %{x}<br>Probability: %{y:.2f}",
         "legendgroup": "Happy",
         "marker": {
          "color": "#ffa500",
          "pattern": {
           "shape": ""
          }
         },
         "name": "Happy",
         "offsetgroup": "Happy",
         "orientation": "v",
         "showlegend": true,
         "textposition": "auto",
         "type": "bar",
         "x": [
          20
         ],
         "xaxis": "x",
         "y": [
          0.39742663502693176
         ],
         "yaxis": "y"
        },
        {
         "alignmentgroup": "True",
         "customdata": [
          [
           "Sad"
          ]
         ],
         "hoverinfo": "all",
         "hoverlabel": {
          "bgcolor": "white",
          "font": {
           "size": 14
          }
         },
         "hovertemplate": "Emotion: %{fullData.name}<br>Frame: %{x}<br>Probability: %{y:.2f}",
         "legendgroup": "Sad",
         "marker": {
          "color": "#FC00CC",
          "pattern": {
           "shape": ""
          }
         },
         "name": "Sad",
         "offsetgroup": "Sad",
         "orientation": "v",
         "showlegend": true,
         "textposition": "auto",
         "type": "bar",
         "x": [
          45
         ],
         "xaxis": "x",
         "y": [
          0.35582828521728516
         ],
         "yaxis": "y"
        },
        {
         "alignmentgroup": "True",
         "customdata": [
          [
           "Fear"
          ],
          [
           "Fear"
          ]
         ],
         "hoverinfo": "all",
         "hoverlabel": {
          "bgcolor": "white",
          "font": {
           "size": 14
          }
         },
         "hovertemplate": "Emotion: %{fullData.name}<br>Frame: %{x}<br>Probability: %{y:.2f}",
         "legendgroup": "Fear",
         "marker": {
          "color": "#00ff00",
          "pattern": {
           "shape": ""
          }
         },
         "name": "Fear",
         "offsetgroup": "Fear",
         "orientation": "v",
         "showlegend": true,
         "textposition": "auto",
         "type": "bar",
         "x": [
          49,
          52
         ],
         "xaxis": "x",
         "y": [
          0.4193078875541687,
          0.3283904194831848
         ],
         "yaxis": "y"
        }
       ],
       "layout": {
        "barmode": "relative",
        "font": {
         "family": "Arial",
         "size": 14
        },
        "legend": {
         "title": {
          "text": "Emotion"
         },
         "tracegroupgap": 0
        },
        "margin": {
         "b": 50,
         "l": 50,
         "r": 50,
         "t": 100
        },
        "plot_bgcolor": "white",
        "template": {
         "data": {
          "bar": [
           {
            "error_x": {
             "color": "#2a3f5f"
            },
            "error_y": {
             "color": "#2a3f5f"
            },
            "marker": {
             "line": {
              "color": "#E5ECF6",
              "width": 0.5
             },
             "pattern": {
              "fillmode": "overlay",
              "size": 10,
              "solidity": 0.2
             }
            },
            "type": "bar"
           }
          ],
          "barpolar": [
           {
            "marker": {
             "line": {
              "color": "#E5ECF6",
              "width": 0.5
             },
             "pattern": {
              "fillmode": "overlay",
              "size": 10,
              "solidity": 0.2
             }
            },
            "type": "barpolar"
           }
          ],
          "carpet": [
           {
            "aaxis": {
             "endlinecolor": "#2a3f5f",
             "gridcolor": "white",
             "linecolor": "white",
             "minorgridcolor": "white",
             "startlinecolor": "#2a3f5f"
            },
            "baxis": {
             "endlinecolor": "#2a3f5f",
             "gridcolor": "white",
             "linecolor": "white",
             "minorgridcolor": "white",
             "startlinecolor": "#2a3f5f"
            },
            "type": "carpet"
           }
          ],
          "choropleth": [
           {
            "colorbar": {
             "outlinewidth": 0,
             "ticks": ""
            },
            "type": "choropleth"
           }
          ],
          "contour": [
           {
            "colorbar": {
             "outlinewidth": 0,
             "ticks": ""
            },
            "colorscale": [
             [
              0,
              "#0d0887"
             ],
             [
              0.1111111111111111,
              "#46039f"
             ],
             [
              0.2222222222222222,
              "#7201a8"
             ],
             [
              0.3333333333333333,
              "#9c179e"
             ],
             [
              0.4444444444444444,
              "#bd3786"
             ],
             [
              0.5555555555555556,
              "#d8576b"
             ],
             [
              0.6666666666666666,
              "#ed7953"
             ],
             [
              0.7777777777777778,
              "#fb9f3a"
             ],
             [
              0.8888888888888888,
              "#fdca26"
             ],
             [
              1,
              "#f0f921"
             ]
            ],
            "type": "contour"
           }
          ],
          "contourcarpet": [
           {
            "colorbar": {
             "outlinewidth": 0,
             "ticks": ""
            },
            "type": "contourcarpet"
           }
          ],
          "heatmap": [
           {
            "colorbar": {
             "outlinewidth": 0,
             "ticks": ""
            },
            "colorscale": [
             [
              0,
              "#0d0887"
             ],
             [
              0.1111111111111111,
              "#46039f"
             ],
             [
              0.2222222222222222,
              "#7201a8"
             ],
             [
              0.3333333333333333,
              "#9c179e"
             ],
             [
              0.4444444444444444,
              "#bd3786"
             ],
             [
              0.5555555555555556,
              "#d8576b"
             ],
             [
              0.6666666666666666,
              "#ed7953"
             ],
             [
              0.7777777777777778,
              "#fb9f3a"
             ],
             [
              0.8888888888888888,
              "#fdca26"
             ],
             [
              1,
              "#f0f921"
             ]
            ],
            "type": "heatmap"
           }
          ],
          "heatmapgl": [
           {
            "colorbar": {
             "outlinewidth": 0,
             "ticks": ""
            },
            "colorscale": [
             [
              0,
              "#0d0887"
             ],
             [
              0.1111111111111111,
              "#46039f"
             ],
             [
              0.2222222222222222,
              "#7201a8"
             ],
             [
              0.3333333333333333,
              "#9c179e"
             ],
             [
              0.4444444444444444,
              "#bd3786"
             ],
             [
              0.5555555555555556,
              "#d8576b"
             ],
             [
              0.6666666666666666,
              "#ed7953"
             ],
             [
              0.7777777777777778,
              "#fb9f3a"
             ],
             [
              0.8888888888888888,
              "#fdca26"
             ],
             [
              1,
              "#f0f921"
             ]
            ],
            "type": "heatmapgl"
           }
          ],
          "histogram": [
           {
            "marker": {
             "pattern": {
              "fillmode": "overlay",
              "size": 10,
              "solidity": 0.2
             }
            },
            "type": "histogram"
           }
          ],
          "histogram2d": [
           {
            "colorbar": {
             "outlinewidth": 0,
             "ticks": ""
            },
            "colorscale": [
             [
              0,
              "#0d0887"
             ],
             [
              0.1111111111111111,
              "#46039f"
             ],
             [
              0.2222222222222222,
              "#7201a8"
             ],
             [
              0.3333333333333333,
              "#9c179e"
             ],
             [
              0.4444444444444444,
              "#bd3786"
             ],
             [
              0.5555555555555556,
              "#d8576b"
             ],
             [
              0.6666666666666666,
              "#ed7953"
             ],
             [
              0.7777777777777778,
              "#fb9f3a"
             ],
             [
              0.8888888888888888,
              "#fdca26"
             ],
             [
              1,
              "#f0f921"
             ]
            ],
            "type": "histogram2d"
           }
          ],
          "histogram2dcontour": [
           {
            "colorbar": {
             "outlinewidth": 0,
             "ticks": ""
            },
            "colorscale": [
             [
              0,
              "#0d0887"
             ],
             [
              0.1111111111111111,
              "#46039f"
             ],
             [
              0.2222222222222222,
              "#7201a8"
             ],
             [
              0.3333333333333333,
              "#9c179e"
             ],
             [
              0.4444444444444444,
              "#bd3786"
             ],
             [
              0.5555555555555556,
              "#d8576b"
             ],
             [
              0.6666666666666666,
              "#ed7953"
             ],
             [
              0.7777777777777778,
              "#fb9f3a"
             ],
             [
              0.8888888888888888,
              "#fdca26"
             ],
             [
              1,
              "#f0f921"
             ]
            ],
            "type": "histogram2dcontour"
           }
          ],
          "mesh3d": [
           {
            "colorbar": {
             "outlinewidth": 0,
             "ticks": ""
            },
            "type": "mesh3d"
           }
          ],
          "parcoords": [
           {
            "line": {
             "colorbar": {
              "outlinewidth": 0,
              "ticks": ""
             }
            },
            "type": "parcoords"
           }
          ],
          "pie": [
           {
            "automargin": true,
            "type": "pie"
           }
          ],
          "scatter": [
           {
            "fillpattern": {
             "fillmode": "overlay",
             "size": 10,
             "solidity": 0.2
            },
            "type": "scatter"
           }
          ],
          "scatter3d": [
           {
            "line": {
             "colorbar": {
              "outlinewidth": 0,
              "ticks": ""
             }
            },
            "marker": {
             "colorbar": {
              "outlinewidth": 0,
              "ticks": ""
             }
            },
            "type": "scatter3d"
           }
          ],
          "scattercarpet": [
           {
            "marker": {
             "colorbar": {
              "outlinewidth": 0,
              "ticks": ""
             }
            },
            "type": "scattercarpet"
           }
          ],
          "scattergeo": [
           {
            "marker": {
             "colorbar": {
              "outlinewidth": 0,
              "ticks": ""
             }
            },
            "type": "scattergeo"
           }
          ],
          "scattergl": [
           {
            "marker": {
             "colorbar": {
              "outlinewidth": 0,
              "ticks": ""
             }
            },
            "type": "scattergl"
           }
          ],
          "scattermapbox": [
           {
            "marker": {
             "colorbar": {
              "outlinewidth": 0,
              "ticks": ""
             }
            },
            "type": "scattermapbox"
           }
          ],
          "scatterpolar": [
           {
            "marker": {
             "colorbar": {
              "outlinewidth": 0,
              "ticks": ""
             }
            },
            "type": "scatterpolar"
           }
          ],
          "scatterpolargl": [
           {
            "marker": {
             "colorbar": {
              "outlinewidth": 0,
              "ticks": ""
             }
            },
            "type": "scatterpolargl"
           }
          ],
          "scatterternary": [
           {
            "marker": {
             "colorbar": {
              "outlinewidth": 0,
              "ticks": ""
             }
            },
            "type": "scatterternary"
           }
          ],
          "surface": [
           {
            "colorbar": {
             "outlinewidth": 0,
             "ticks": ""
            },
            "colorscale": [
             [
              0,
              "#0d0887"
             ],
             [
              0.1111111111111111,
              "#46039f"
             ],
             [
              0.2222222222222222,
              "#7201a8"
             ],
             [
              0.3333333333333333,
              "#9c179e"
             ],
             [
              0.4444444444444444,
              "#bd3786"
             ],
             [
              0.5555555555555556,
              "#d8576b"
             ],
             [
              0.6666666666666666,
              "#ed7953"
             ],
             [
              0.7777777777777778,
              "#fb9f3a"
             ],
             [
              0.8888888888888888,
              "#fdca26"
             ],
             [
              1,
              "#f0f921"
             ]
            ],
            "type": "surface"
           }
          ],
          "table": [
           {
            "cells": {
             "fill": {
              "color": "#EBF0F8"
             },
             "line": {
              "color": "white"
             }
            },
            "header": {
             "fill": {
              "color": "#C8D4E3"
             },
             "line": {
              "color": "white"
             }
            },
            "type": "table"
           }
          ]
         },
         "layout": {
          "annotationdefaults": {
           "arrowcolor": "#2a3f5f",
           "arrowhead": 0,
           "arrowwidth": 1
          },
          "autotypenumbers": "strict",
          "coloraxis": {
           "colorbar": {
            "outlinewidth": 0,
            "ticks": ""
           }
          },
          "colorscale": {
           "diverging": [
            [
             0,
             "#8e0152"
            ],
            [
             0.1,
             "#c51b7d"
            ],
            [
             0.2,
             "#de77ae"
            ],
            [
             0.3,
             "#f1b6da"
            ],
            [
             0.4,
             "#fde0ef"
            ],
            [
             0.5,
             "#f7f7f7"
            ],
            [
             0.6,
             "#e6f5d0"
            ],
            [
             0.7,
             "#b8e186"
            ],
            [
             0.8,
             "#7fbc41"
            ],
            [
             0.9,
             "#4d9221"
            ],
            [
             1,
             "#276419"
            ]
           ],
           "sequential": [
            [
             0,
             "#0d0887"
            ],
            [
             0.1111111111111111,
             "#46039f"
            ],
            [
             0.2222222222222222,
             "#7201a8"
            ],
            [
             0.3333333333333333,
             "#9c179e"
            ],
            [
             0.4444444444444444,
             "#bd3786"
            ],
            [
             0.5555555555555556,
             "#d8576b"
            ],
            [
             0.6666666666666666,
             "#ed7953"
            ],
            [
             0.7777777777777778,
             "#fb9f3a"
            ],
            [
             0.8888888888888888,
             "#fdca26"
            ],
            [
             1,
             "#f0f921"
            ]
           ],
           "sequentialminus": [
            [
             0,
             "#0d0887"
            ],
            [
             0.1111111111111111,
             "#46039f"
            ],
            [
             0.2222222222222222,
             "#7201a8"
            ],
            [
             0.3333333333333333,
             "#9c179e"
            ],
            [
             0.4444444444444444,
             "#bd3786"
            ],
            [
             0.5555555555555556,
             "#d8576b"
            ],
            [
             0.6666666666666666,
             "#ed7953"
            ],
            [
             0.7777777777777778,
             "#fb9f3a"
            ],
            [
             0.8888888888888888,
             "#fdca26"
            ],
            [
             1,
             "#f0f921"
            ]
           ]
          },
          "colorway": [
           "#636efa",
           "#EF553B",
           "#00cc96",
           "#ab63fa",
           "#FFA15A",
           "#19d3f3",
           "#FF6692",
           "#B6E880",
           "#FF97FF",
           "#FECB52"
          ],
          "font": {
           "color": "#2a3f5f"
          },
          "geo": {
           "bgcolor": "white",
           "lakecolor": "white",
           "landcolor": "#E5ECF6",
           "showlakes": true,
           "showland": true,
           "subunitcolor": "white"
          },
          "hoverlabel": {
           "align": "left"
          },
          "hovermode": "closest",
          "mapbox": {
           "style": "light"
          },
          "paper_bgcolor": "white",
          "plot_bgcolor": "#E5ECF6",
          "polar": {
           "angularaxis": {
            "gridcolor": "white",
            "linecolor": "white",
            "ticks": ""
           },
           "bgcolor": "#E5ECF6",
           "radialaxis": {
            "gridcolor": "white",
            "linecolor": "white",
            "ticks": ""
           }
          },
          "scene": {
           "xaxis": {
            "backgroundcolor": "#E5ECF6",
            "gridcolor": "white",
            "gridwidth": 2,
            "linecolor": "white",
            "showbackground": true,
            "ticks": "",
            "zerolinecolor": "white"
           },
           "yaxis": {
            "backgroundcolor": "#E5ECF6",
            "gridcolor": "white",
            "gridwidth": 2,
            "linecolor": "white",
            "showbackground": true,
            "ticks": "",
            "zerolinecolor": "white"
           },
           "zaxis": {
            "backgroundcolor": "#E5ECF6",
            "gridcolor": "white",
            "gridwidth": 2,
            "linecolor": "white",
            "showbackground": true,
            "ticks": "",
            "zerolinecolor": "white"
           }
          },
          "shapedefaults": {
           "line": {
            "color": "#2a3f5f"
           }
          },
          "ternary": {
           "aaxis": {
            "gridcolor": "white",
            "linecolor": "white",
            "ticks": ""
           },
           "baxis": {
            "gridcolor": "white",
            "linecolor": "white",
            "ticks": ""
           },
           "bgcolor": "#E5ECF6",
           "caxis": {
            "gridcolor": "white",
            "linecolor": "white",
            "ticks": ""
           }
          },
          "title": {
           "x": 0.05
          },
          "xaxis": {
           "automargin": true,
           "gridcolor": "white",
           "linecolor": "white",
           "ticks": "",
           "title": {
            "standoff": 15
           },
           "zerolinecolor": "white",
           "zerolinewidth": 2
          },
          "yaxis": {
           "automargin": true,
           "gridcolor": "white",
           "linecolor": "white",
           "ticks": "",
           "title": {
            "standoff": 15
           },
           "zerolinecolor": "white",
           "zerolinewidth": 2
          }
         }
        },
        "title": {
         "font": {
          "color": "black",
          "size": 24
         },
         "text": "Strongest Emotion per frame",
         "x": 0.5,
         "y": 0.9,
         "yanchor": "middle"
        },
        "xaxis": {
         "anchor": "y",
         "domain": [
          0,
          1
         ],
         "title": {
          "text": "Frame"
         }
        },
        "yaxis": {
         "anchor": "x",
         "domain": [
          0,
          1
         ],
         "title": {
          "text": "Probability"
         }
        }
       }
      }
     },
     "metadata": {},
     "output_type": "display_data"
    }
   ],
   "source": [
    "fig = get_strongest_emotions_plot(df)\n",
    "fig.show()"
   ]
  },
  {
   "cell_type": "code",
   "execution_count": null,
   "metadata": {},
   "outputs": [
    {
     "ename": "KeyError",
     "evalue": "1",
     "output_type": "error",
     "traceback": [
      "\u001b[0;31m---------------------------------------------------------------------------\u001b[0m",
      "\u001b[0;31mKeyError\u001b[0m                                  Traceback (most recent call last)",
      "\u001b[1;32m/Users/mahaabu-khousa/Desktop/Projects/workspace/Private Projects/NeuralXpresso/notebooks/tests.ipynb Cell 9\u001b[0m line \u001b[0;36m1\n\u001b[0;32m----> <a href='vscode-notebook-cell:/Users/mahaabu-khousa/Desktop/Projects/workspace/Private%20Projects/NeuralXpresso/notebooks/tests.ipynb#X11sZmlsZQ%3D%3D?line=0'>1</a>\u001b[0m fig \u001b[39m=\u001b[39m plots\u001b[39m.\u001b[39;49mget_overall_overview(result[\u001b[39m'\u001b[39;49m\u001b[39mnew_export\u001b[39;49m\u001b[39m'\u001b[39;49m][\u001b[39m'\u001b[39;49m\u001b[39moverview_mean\u001b[39;49m\u001b[39m'\u001b[39;49m])\n\u001b[1;32m      <a href='vscode-notebook-cell:/Users/mahaabu-khousa/Desktop/Projects/workspace/Private%20Projects/NeuralXpresso/notebooks/tests.ipynb#X11sZmlsZQ%3D%3D?line=1'>2</a>\u001b[0m fig\n",
      "File \u001b[0;32m~/Desktop/Projects/workspace/Private Projects/NeuralXpresso/notebooks/plots.py:547\u001b[0m, in \u001b[0;36mget_overall_overview\u001b[0;34m(df_video)\u001b[0m\n\u001b[1;32m    542\u001b[0m \u001b[39m#  df_aggregated_emotion_counts = get_aggregated_emotion_counts(df_video, df_character)\u001b[39;00m\n\u001b[1;32m    544\u001b[0m   df_radar \u001b[39m=\u001b[39m get_df_radar(df_video)\n\u001b[0;32m--> 547\u001b[0m   fig_radar \u001b[39m=\u001b[39m get_radar_plot(df_radar)\n\u001b[1;32m    550\u001b[0m   fig_area \u001b[39m=\u001b[39m get_emotion_landscape(df_video)\n\u001b[1;32m    553\u001b[0m   fig \u001b[39m=\u001b[39m make_subplots(rows\u001b[39m=\u001b[39m\u001b[39m1\u001b[39m, cols\u001b[39m=\u001b[39m\u001b[39m2\u001b[39m, column_widths\u001b[39m=\u001b[39m[\u001b[39m0.7\u001b[39m, \u001b[39m0.3\u001b[39m], specs\u001b[39m=\u001b[39m[[{\u001b[39m'\u001b[39m\u001b[39mtype\u001b[39m\u001b[39m'\u001b[39m: \u001b[39m'\u001b[39m\u001b[39mxy\u001b[39m\u001b[39m'\u001b[39m}, {\u001b[39m'\u001b[39m\u001b[39mtype\u001b[39m\u001b[39m'\u001b[39m: \u001b[39m'\u001b[39m\u001b[39mpolar\u001b[39m\u001b[39m'\u001b[39m}]], horizontal_spacing\u001b[39m=\u001b[39m\u001b[39m0.1\u001b[39m, vertical_spacing\u001b[39m=\u001b[39m\u001b[39m0.2\u001b[39m)\n",
      "File \u001b[0;32m~/Desktop/Projects/workspace/Private Projects/NeuralXpresso/notebooks/plots.py:305\u001b[0m, in \u001b[0;36mget_radar_plot\u001b[0;34m(df_radar)\u001b[0m\n\u001b[1;32m    293\u001b[0m emotions \u001b[39m=\u001b[39m df_radar\u001b[39m.\u001b[39memotion\u001b[39m.\u001b[39munique()\u001b[39m.\u001b[39mtolist()\n\u001b[1;32m    295\u001b[0m color_map \u001b[39m=\u001b[39m {\n\u001b[1;32m    296\u001b[0m \u001b[39m'\u001b[39m\u001b[39mAngry\u001b[39m\u001b[39m'\u001b[39m: \u001b[39m'\u001b[39m\u001b[39m#ff0000\u001b[39m\u001b[39m'\u001b[39m,\n\u001b[1;32m    297\u001b[0m \u001b[39m'\u001b[39m\u001b[39mDisgust\u001b[39m\u001b[39m'\u001b[39m: \u001b[39m'\u001b[39m\u001b[39m#ffff00\u001b[39m\u001b[39m'\u001b[39m,\n\u001b[0;32m   (...)\u001b[0m\n\u001b[1;32m    302\u001b[0m \u001b[39m'\u001b[39m\u001b[39mSurprise\u001b[39m\u001b[39m'\u001b[39m: \u001b[39m'\u001b[39m\u001b[39m#0000ff\u001b[39m\u001b[39m'\u001b[39m\n\u001b[1;32m    303\u001b[0m } \n\u001b[0;32m--> 305\u001b[0m cb_palette \u001b[39m=\u001b[39m [color_map[emotion] \u001b[39mfor\u001b[39;00m emotion \u001b[39min\u001b[39;00m emotions]\n\u001b[1;32m    309\u001b[0m fig \u001b[39m=\u001b[39m go\u001b[39m.\u001b[39mFigure(data\u001b[39m=\u001b[39mgo\u001b[39m.\u001b[39mScatterpolar(\n\u001b[1;32m    310\u001b[0m     r\u001b[39m=\u001b[39mdf_radar[\u001b[39m'\u001b[39m\u001b[39memotion\u001b[39m\u001b[39m'\u001b[39m],\n\u001b[1;32m    311\u001b[0m     theta\u001b[39m=\u001b[39mdf_radar[\u001b[39m'\u001b[39m\u001b[39mindex\u001b[39m\u001b[39m'\u001b[39m],\n\u001b[0;32m   (...)\u001b[0m\n\u001b[1;32m    316\u001b[0m     showlegend\u001b[39m=\u001b[39m\u001b[39mFalse\u001b[39;00m\n\u001b[1;32m    317\u001b[0m ))\n\u001b[1;32m    318\u001b[0m fig\u001b[39m.\u001b[39mupdate_xaxes(title_text\u001b[39m=\u001b[39m\u001b[39m\"\u001b[39m\u001b[39mPerson\u001b[39m\u001b[39m\"\u001b[39m)\n",
      "File \u001b[0;32m~/Desktop/Projects/workspace/Private Projects/NeuralXpresso/notebooks/plots.py:305\u001b[0m, in \u001b[0;36m<listcomp>\u001b[0;34m(.0)\u001b[0m\n\u001b[1;32m    293\u001b[0m emotions \u001b[39m=\u001b[39m df_radar\u001b[39m.\u001b[39memotion\u001b[39m.\u001b[39munique()\u001b[39m.\u001b[39mtolist()\n\u001b[1;32m    295\u001b[0m color_map \u001b[39m=\u001b[39m {\n\u001b[1;32m    296\u001b[0m \u001b[39m'\u001b[39m\u001b[39mAngry\u001b[39m\u001b[39m'\u001b[39m: \u001b[39m'\u001b[39m\u001b[39m#ff0000\u001b[39m\u001b[39m'\u001b[39m,\n\u001b[1;32m    297\u001b[0m \u001b[39m'\u001b[39m\u001b[39mDisgust\u001b[39m\u001b[39m'\u001b[39m: \u001b[39m'\u001b[39m\u001b[39m#ffff00\u001b[39m\u001b[39m'\u001b[39m,\n\u001b[0;32m   (...)\u001b[0m\n\u001b[1;32m    302\u001b[0m \u001b[39m'\u001b[39m\u001b[39mSurprise\u001b[39m\u001b[39m'\u001b[39m: \u001b[39m'\u001b[39m\u001b[39m#0000ff\u001b[39m\u001b[39m'\u001b[39m\n\u001b[1;32m    303\u001b[0m } \n\u001b[0;32m--> 305\u001b[0m cb_palette \u001b[39m=\u001b[39m [color_map[emotion] \u001b[39mfor\u001b[39;00m emotion \u001b[39min\u001b[39;00m emotions]\n\u001b[1;32m    309\u001b[0m fig \u001b[39m=\u001b[39m go\u001b[39m.\u001b[39mFigure(data\u001b[39m=\u001b[39mgo\u001b[39m.\u001b[39mScatterpolar(\n\u001b[1;32m    310\u001b[0m     r\u001b[39m=\u001b[39mdf_radar[\u001b[39m'\u001b[39m\u001b[39memotion\u001b[39m\u001b[39m'\u001b[39m],\n\u001b[1;32m    311\u001b[0m     theta\u001b[39m=\u001b[39mdf_radar[\u001b[39m'\u001b[39m\u001b[39mindex\u001b[39m\u001b[39m'\u001b[39m],\n\u001b[0;32m   (...)\u001b[0m\n\u001b[1;32m    316\u001b[0m     showlegend\u001b[39m=\u001b[39m\u001b[39mFalse\u001b[39;00m\n\u001b[1;32m    317\u001b[0m ))\n\u001b[1;32m    318\u001b[0m fig\u001b[39m.\u001b[39mupdate_xaxes(title_text\u001b[39m=\u001b[39m\u001b[39m\"\u001b[39m\u001b[39mPerson\u001b[39m\u001b[39m\"\u001b[39m)\n",
      "\u001b[0;31mKeyError\u001b[0m: 1"
     ]
    }
   ],
   "source": [
    "fig = plots.get_overall_overview(result['new_export']['overview_mean'])\n",
    "fig"
   ]
  }
 ],
 "metadata": {
  "kernelspec": {
   "display_name": ".venv",
   "language": "python",
   "name": "python3"
  },
  "language_info": {
   "codemirror_mode": {
    "name": "ipython",
    "version": 3
   },
   "file_extension": ".py",
   "mimetype": "text/x-python",
   "name": "python",
   "nbconvert_exporter": "python",
   "pygments_lexer": "ipython3",
   "version": "3.8.12"
  },
  "orig_nbformat": 4
 },
 "nbformat": 4,
 "nbformat_minor": 2
}
