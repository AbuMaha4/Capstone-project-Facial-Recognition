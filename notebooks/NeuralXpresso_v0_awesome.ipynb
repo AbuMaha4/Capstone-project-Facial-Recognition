{
 "cells": [
  {
   "cell_type": "code",
   "execution_count": 7,
   "metadata": {},
   "outputs": [],
   "source": [
    "#!pip install facenet_pytorch"
   ]
  },
  {
   "cell_type": "code",
   "execution_count": 8,
   "metadata": {},
   "outputs": [],
   "source": [
    "import os           \n",
    "\n",
    "# Check if string is appropriate youtube link\n",
    "import re\n",
    "import cv2\n",
    "import numpy as np\n",
    "import pandas as pd\n",
    "from facenet_pytorch import MTCNN\n",
    "from matplotlib import pyplot as plt\n",
    "from keras.models import load_model\n",
    "from pytube import YouTube\n",
    "\n",
    "import face_recognition\n",
    "\n",
    "import seaborn as sns\n",
    "import plotly.express as px\n",
    "\n",
    "SAVE_VIDEO = True\n",
    "SHOW_PROMPT = False\n",
    "\n",
    "# DEBUG-Mode stops operations when max_emotions were detected and also prints a short summary\n",
    "DEBUG = True\n",
    "if DEBUG:\n",
    "    import time\n",
    "    debug_params = {\n",
    "        'max_emotions' : 10000\n",
    "    }\n",
    "\n",
    "FRAMES_TO_SKIP = 1\n",
    "MODEL_TYPE = \"haarcascade\"\n",
    "NUM_THREADS = 4\n",
    "THRESHOLD = 0.62\n",
    "import tempfile\n",
    "import requests\n",
    "import torch\n",
    "\n",
    "from PIL import Image\n",
    "import torchvision.transforms as T\n",
    "import torchreid\n",
    "from sklearn.metrics.pairwise import cosine_similarity\n",
    "\n",
    "import time\n",
    "from concurrent.futures import ThreadPoolExecutor\n",
    "from functools import partial"
   ]
  },
  {
   "cell_type": "code",
   "execution_count": 9,
   "metadata": {},
   "outputs": [],
   "source": [
    "\n",
    "\n",
    "def extract_person_features(frame, model, transformer, face_location):\n",
    "    x_min, x_max, y_min, y_max = face_location\n",
    "    cropped_face = frame[y_min:y_max, x_min:x_max]\n",
    "    \n",
    "    # Check if the cropped_face is empty\n",
    "    if cropped_face.size == 0:\n",
    "        return None\n",
    "\n",
    "    face_img = cv2.resize(cropped_face, (128, 256))\n",
    "    face_img_pil = Image.fromarray(face_img)\n",
    "    face_img_tensor = transformer(face_img_pil).unsqueeze(0)\n",
    "    features = model(face_img_tensor).detach().numpy()\n",
    "    return features.reshape(-1)\n",
    "\n",
    "\n",
    "\n",
    "\n",
    "def build_transformer():\n",
    "    return T.Compose([\n",
    "        T.Resize((256, 128)),\n",
    "        T.ToTensor(),\n",
    "        T.Normalize(mean=[0.485, 0.456, 0.406], std=[0.229, 0.224, 0.225])\n",
    "    ])\n",
    "\n",
    "def find_matching_person(person_features, known_people_features, threshold=THRESHOLD):\n",
    "    if len(known_people_features) == 0:\n",
    "        return None\n",
    "\n",
    "    similarities = cosine_similarity([person_features], known_people_features)[0]\n",
    "    max_similarity = np.max(similarities)\n",
    "    max_similarity_index = np.argmax(similarities)\n",
    "\n",
    "    if max_similarity > threshold:\n",
    "        return max_similarity_index\n",
    "    else:\n",
    "        return None\n",
    "    \n",
    "def get_path(kind):\n",
    "    if kind == \"youtube\":\n",
    "        #return \"https://www.youtube.com/watch?v=vtT78TfDfXU\"                   # Random video\n",
    "        return 'https://www.youtube.com/watch?v=embYkODkzcs'                 # 7 basic emotions\n",
    "        #return 'https://www.youtube.com/watch?v=m70UInZKJjU'                    # Two persons\n",
    "        #return 'https://www.youtube.com/watch?v=QRnw9f5rbN4'\n",
    "    if kind == \"local\":\n",
    "        # adjust individually\n",
    "        return '/Users/steve/Neue_Fische/face_demo/vids/Video_One_output.mp4'\n",
    "    if kind == \"error_on_purpose\":\n",
    "        return \"wrongful path\"\n",
    "    else:\n",
    "        raise ValueError(f\"Passed Argument kind must bei in ['youtube', 'local', 'error_on_purpose'] but was: {kind}\")\n",
    "\n",
    "def youtube_stream(yt_link):\n",
    "    # Load the video from YouTube\n",
    "    yt_video = YouTube(yt_link)\n",
    "    stream = yt_video.streams.get_highest_resolution()  # get the highest resolution stream\n",
    "    print(\"Title:\", yt_video.title)\n",
    "    print(\"Length:\", yt_video.length, \"seconds\")\n",
    "    print(\"Available video quality options:\")\n",
    "    resolutions = set()  # use a set to keep track of unique resolutions\n",
    "    \n",
    "    with tempfile.NamedTemporaryFile(suffix='.mp4') as f:\n",
    "        response = requests.get(stream.url)\n",
    "        f.write(response.content)\n",
    "\n",
    "        # Open the video stream in OpenCV\n",
    "        video = cv2.VideoCapture(f.name)\n",
    "\n",
    "    return video\n",
    "\n",
    "    \n",
    "\n",
    "def local_stream(local_path):\n",
    "    return cv2.VideoCapture(local_path)\n",
    "\n",
    "def get_stream(path):\n",
    "    # Check if the string is a YouTube link\n",
    "    if re.match(r'(https?://)?(www\\.)?(youtube\\.com|youtu\\.?be)/.+$', path):\n",
    "        return youtube_stream(path)\n",
    "    # Check if the string is a local path\n",
    "    elif os.path.isfile(path):\n",
    "        return local_stream(path)\n",
    "    # Check if the path is a local file path but no file is found\n",
    "    elif os.path.exists(path):\n",
    "        raise ValueError(f\"File not found at path: {path}\")\n",
    "    # If it's neither a local path nor a YouTube link, raise an error\n",
    "    else:\n",
    "        raise ValueError(\"The input string is neither a local path nor a YouTube link.\")\n",
    "    \n",
    "def load_emotion_classifier():\n",
    "    return load_model(\"../models/emotion_model.hdf5\", compile=False)\n",
    "\n",
    "def preprocess_face(face, input_face_size):\n",
    "    face = cv2.cvtColor(face, cv2.COLOR_RGB2GRAY)  # Convert the face to grayscale\n",
    "    face = cv2.resize(face, (input_face_size[1], input_face_size[0]))  # Swap width and height\n",
    "    face = face.astype('float32') / 255.0\n",
    "    face = np.expand_dims(face, axis=-1)  # Add an additional dimension for grayscale channel\n",
    "    face = np.expand_dims(face, axis=0)\n",
    "    return face\n",
    "\n",
    "\n",
    "def print_debug_report(emotions, frame_info, processing_time):\n",
    "    print(\"Emotions detected:\")\n",
    "    for emotion, probability in emotions:\n",
    "        print(f\"{emotion}: {probability:.1%}\")\n",
    "\n",
    "    print(\"\\nFrame info:\")\n",
    "    for pos_sec, frame_nr in frame_info:\n",
    "        print(f\"Second {pos_sec}, Frame {frame_nr}\")\n",
    "\n",
    "    print(f\"\\nProcessing time: {processing_time:.2f} seconds\")\n",
    "\n",
    "def initialize_face_detector(model_type):\n",
    "    if model_type == 'haarcascade':\n",
    "        return cv2.CascadeClassifier(cv2.data.haarcascades + 'haarcascade_frontalface_default.xml')\n",
    "    elif model_type == \"MTCNN\":\n",
    "        return MTCNN(keep_all=True, post_process=False, margin=20)\n",
    "    else:\n",
    "        raise ValueError(\"By now, only Haarcascade is implemented.\")\n",
    "\n",
    "def preprocess_frame_for_face_detection_haarcascade(frame):\n",
    "    return cv2.cvtColor(frame, cv2.COLOR_BGR2GRAY)\n",
    "\n",
    "def preprocess_frame_for_emotion_detection(frame):\n",
    "    return cv2.cvtColor(frame, cv2.COLOR_BGR2RGB)\n",
    "\n",
    "def normalize_boxes_mtcnn(boxes):\n",
    "    \"\"\"\n",
    "    Normalize the bounding box coordinates from MTCNN to numpy indexing format.\n",
    "    Output format: np.array(y_min, y_max, x_min, x_max)\n",
    "    \"\"\"\n",
    "    normalized_boxes = []\n",
    "    for box in boxes:\n",
    "        x_min, y_min, x_max, y_max = box.astype(int)\n",
    "        normalized_boxes.append([y_min, y_max, x_min, x_max])\n",
    "    return np.array(normalized_boxes)\n",
    "\n",
    "def normalize_boxes_cv2(boxes):\n",
    "    \"\"\"\n",
    "    Normalize the bounding box coordinates from OpenCV's format to numpy indexing format.\n",
    "    Output format: np.array(y_min, y_max, x_min, x_max)\n",
    "    \"\"\"\n",
    "    normalized_boxes = []\n",
    "    for box in boxes:\n",
    "        x, y, w, h = box\n",
    "        normalized_boxes.append([y, y+h, x, x+w])\n",
    "    return np.array(normalized_boxes)\n",
    "\n",
    "def detect_faces(frame, face_detector, model_type = 'haarcascade'):\n",
    "    if model_type == 'haarcascade':\n",
    "        frame_pp = preprocess_frame_for_face_detection_haarcascade(frame)\n",
    "        boxes =  face_detector.detectMultiScale(frame_pp, scaleFactor = 1.3, minNeighbors = 3)\n",
    "        if boxes is None:\n",
    "            return None\n",
    "        else:\n",
    "            return normalize_boxes_cv2(boxes)\n",
    "    elif model_type == \"MTCNN\":\n",
    "        # No preprocessing needed for VideoCapture Frame\n",
    "        boxes, _ = face_detector.detect(frame)\n",
    "        if boxes is None:\n",
    "            return None\n",
    "        else:\n",
    "            return normalize_boxes_mtcnn(boxes)\n",
    "        #return [(x['box'][1], x['box'][0] + x['box'][2], x['box'][1] + x['box'][3], x['box'][0]) for x in bounding_boxes]\n",
    "    #elif model_type == \"fast_MTCNN\"\n",
    "    # https://towardsdatascience.com/face-detection-using-mtcnn-a-guide-for-face-extraction-with-a-focus-on-speed-c6d59f82d49\n",
    "    else:\n",
    "        raise ValueError(\"By now, only Haarcascade is implemented.\")\n",
    "    \n",
    "def get_ordered_emotions():\n",
    "    return ['Angry', 'Disgust', 'Fear', 'Happy', 'Sad', 'Surprise', 'Neutral']\n",
    "\n",
    "def emotions_probability(frame, face_location, emotion_classifier):\n",
    "    frame_pp = preprocess_frame_for_emotion_detection(frame)\n",
    "    y_min, y_max, x_min, x_max = face_location\n",
    "    face = frame_pp[y_min:y_max, x_min:x_max]\n",
    "    face = preprocess_face(face, input_face_size=emotion_classifier.input_shape[1:3])\n",
    "    prob = emotion_classifier.predict(face)[0]  # check for underscore\n",
    "    return prob\n",
    "\n",
    "def output_video(video, filename):\n",
    "    width = int(video.get(cv2.CAP_PROP_FRAME_WIDTH))\n",
    "    height = int(video.get(cv2.CAP_PROP_FRAME_HEIGHT))\n",
    "    fps = int(video.get(cv2.CAP_PROP_FPS))\n",
    "    fourcc = cv2.VideoWriter_fourcc(*'XVID')\n",
    "    return cv2.VideoWriter(filename, fourcc, 10, (width,height))\n",
    "\n",
    "def get_overview_df(emotions, frame_info, frame_info_cols):\n",
    "    assert len(frame_info[0]) == len(frame_info_cols), \\\n",
    "        f\"Number of columns in frame_info and number of passed names in frame_info_cols is not the same: {len(frame_info[0])} != {len(frame_info_cols)}.\"\n",
    "\n",
    "    df_emotions = pd.DataFrame(emotions, columns=get_ordered_emotions())\n",
    "    df_frame_info = pd.DataFrame(frame_info, columns=frame_info_cols)\n",
    "    df_all_info = pd.concat([df_emotions, df_frame_info], axis=1)\n",
    "    return df_all_info\n",
    "\n",
    "def get_plottable_df(emotions, frame_info, frame_info_cols, ):\n",
    "\n",
    "    assert len(frame_info[0]) == len(frame_info_cols), \\\n",
    "        f\"Number of columns in frame_info and number of passed names in frame_info_cols is not the same: {len(frame_info[0])} != {len(frame_info_cols)}.\"\n",
    "\n",
    "    df_emotions = pd.DataFrame(emotions, columns=get_ordered_emotions())\n",
    "    df_frame_info = pd.DataFrame(frame_info, columns=frame_info_cols)\n",
    "    df_all_info = pd.concat([df_emotions, df_frame_info], axis=1)\n",
    "    df_plotting = pd.melt(df_all_info, id_vars=frame_info_cols, value_vars=get_ordered_emotions(), var_name='emotion', value_name='probability')\n",
    "    return df_plotting\n",
    "\n",
    "def get_user_config():\n",
    "    path = get_path('youtube')\n",
    "    frames_to_skip = 8\n",
    "    output_filename = 'outputs/Output_video.mp4'\n",
    "    return path, frames_to_skip, output_filename"
   ]
  },
  {
   "cell_type": "code",
   "execution_count": 10,
   "metadata": {},
   "outputs": [
    {
     "name": "stdout",
     "output_type": "stream",
     "text": [
      "Successfully loaded imagenet pretrained weights from \"/Users/steve/.cache/torch/checkpoints/osnet_x1_0_imagenet.pth\"\n",
      "** The following layers are discarded due to unmatched keys or layer size: ['classifier.weight', 'classifier.bias']\n",
      "Successfully loaded pretrained weights from \"osnet_x1_0_imagenet.pth\"\n",
      "** The following layers are discarded due to unmatched keys or layer size: ['classifier.weight', 'classifier.bias']\n"
     ]
    }
   ],
   "source": [
    "# Load the pre-trained person re-identification model\n",
    "model = torchreid.models.build_model(\n",
    "    name='osnet_x1_0',\n",
    "    num_classes=0,\n",
    "    loss='softmax',\n",
    "    pretrained=True\n",
    ")\n",
    "\n",
    "# Set the model to evaluation mode\n",
    "model.eval()\n",
    "\n",
    "# Load the weights of the pre-trained model\n",
    "torchreid.utils.load_pretrained_weights(model, 'osnet_x1_0_imagenet.pth')\n",
    "\n",
    "# Build a transformer for the model\n",
    "transformer = build_transformer()"
   ]
  },
  {
   "cell_type": "code",
   "execution_count": 15,
   "metadata": {},
   "outputs": [
    {
     "name": "stdout",
     "output_type": "stream",
     "text": [
      "Title: The 7 basic emotions - Do you recognise all facial expressions?\n",
      "Length: 115 seconds\n",
      "Available video quality options:\n"
     ]
    },
    {
     "name": "stderr",
     "output_type": "stream",
     "text": [
      "OpenCV: FFMPEG: tag 0x44495658/'XVID' is not supported with codec id 12 and format 'mp4 / MP4 (MPEG-4 Part 14)'\n",
      "OpenCV: FFMPEG: fallback to use tag 0x7634706d/'mp4v'\n"
     ]
    },
    {
     "name": "stdout",
     "output_type": "stream",
     "text": [
      "1/1 [==============================] - 0s 243ms/step\n"
     ]
    },
    {
     "name": "stderr",
     "output_type": "stream",
     "text": [
      "2023-03-22 14:34:08.929159: I tensorflow/core/grappler/optimizers/custom_graph_optimizer_registry.cc:114] Plugin optimizer for device_type GPU is enabled.\n"
     ]
    },
    {
     "name": "stdout",
     "output_type": "stream",
     "text": [
      "1/1 [==============================] - 0s 21ms/step\n",
      "1/1 [==============================] - 0s 15ms/step\n",
      "1/1 [==============================] - 0s 15ms/step\n",
      "1/1 [==============================] - 0s 14ms/step\n",
      "1/1 [==============================] - 0s 14ms/step\n",
      "1/1 [==============================] - 0s 16ms/step\n",
      "1/1 [==============================] - 0s 16ms/step\n",
      "1/1 [==============================] - 0s 16ms/step\n",
      "1/1 [==============================] - 0s 14ms/step\n",
      "1/1 [==============================] - 0s 17ms/step\n",
      "1/1 [==============================] - 0s 15ms/step\n",
      "1/1 [==============================] - 0s 15ms/step\n",
      "1/1 [==============================] - 0s 15ms/step\n",
      "1/1 [==============================] - 0s 25ms/step\n",
      "1/1 [==============================] - 0s 15ms/step\n",
      "1/1 [==============================] - 0s 16ms/step\n",
      "1/1 [==============================] - 0s 15ms/step\n",
      "1/1 [==============================] - 0s 14ms/step\n",
      "1/1 [==============================] - 0s 14ms/step\n"
     ]
    },
    {
     "ename": "KeyboardInterrupt",
     "evalue": "",
     "output_type": "error",
     "traceback": [
      "\u001b[0;31m---------------------------------------------------------------------------\u001b[0m",
      "\u001b[0;31mKeyboardInterrupt\u001b[0m                         Traceback (most recent call last)",
      "Cell \u001b[0;32mIn[15], line 107\u001b[0m\n\u001b[1;32m    104\u001b[0m     df_plotting \u001b[39m=\u001b[39m get_plottable_df(emotions, frame_info, frame_info_cols\u001b[39m=\u001b[39m[\u001b[39m'\u001b[39m\u001b[39mpos_sec\u001b[39m\u001b[39m'\u001b[39m, \u001b[39m'\u001b[39m\u001b[39mframe\u001b[39m\u001b[39m'\u001b[39m])\n\u001b[1;32m    106\u001b[0m \u001b[39mif\u001b[39;00m \u001b[39m__name__\u001b[39m \u001b[39m==\u001b[39m \u001b[39m\"\u001b[39m\u001b[39m__main__\u001b[39m\u001b[39m\"\u001b[39m:\n\u001b[0;32m--> 107\u001b[0m     main()\n",
      "Cell \u001b[0;32mIn[15], line 73\u001b[0m, in \u001b[0;36mmain\u001b[0;34m()\u001b[0m\n\u001b[1;32m     70\u001b[0m \u001b[39mif\u001b[39;00m current_frame_nr \u001b[39m%\u001b[39m frames_to_skip \u001b[39m!=\u001b[39m \u001b[39m0\u001b[39m:\n\u001b[1;32m     71\u001b[0m     \u001b[39mcontinue\u001b[39;00m\n\u001b[0;32m---> 73\u001b[0m processed_frame, emotions_in_frame, frame_data \u001b[39m=\u001b[39m process_frame(frame, current_frame_nr, face_detector, emotion_classifier, known_people_features, video)\n\u001b[1;32m     75\u001b[0m \u001b[39mif\u001b[39;00m emotions_in_frame:\n\u001b[1;32m     76\u001b[0m     emotions\u001b[39m.\u001b[39mextend(emotions_in_frame)\n",
      "Cell \u001b[0;32mIn[15], line 11\u001b[0m, in \u001b[0;36mprocess_frame\u001b[0;34m(frame, frame_nr, face_detector, emotion_classifier, known_people_features, video)\u001b[0m\n\u001b[1;32m      8\u001b[0m frame_data \u001b[39m=\u001b[39m []\n\u001b[1;32m     10\u001b[0m \u001b[39mfor\u001b[39;00m i, face_location \u001b[39min\u001b[39;00m \u001b[39menumerate\u001b[39m(face_locations):\n\u001b[0;32m---> 11\u001b[0m     person_features \u001b[39m=\u001b[39m extract_person_features(frame, model, transformer, face_location)\n\u001b[1;32m     13\u001b[0m     \u001b[39mif\u001b[39;00m person_features \u001b[39mis\u001b[39;00m \u001b[39mNone\u001b[39;00m:\n\u001b[1;32m     14\u001b[0m         \u001b[39mcontinue\u001b[39;00m\n",
      "Cell \u001b[0;32mIn[9], line 12\u001b[0m, in \u001b[0;36mextract_person_features\u001b[0;34m(frame, model, transformer, face_location)\u001b[0m\n\u001b[1;32m     10\u001b[0m face_img_pil \u001b[39m=\u001b[39m Image\u001b[39m.\u001b[39mfromarray(face_img)\n\u001b[1;32m     11\u001b[0m face_img_tensor \u001b[39m=\u001b[39m transformer(face_img_pil)\u001b[39m.\u001b[39munsqueeze(\u001b[39m0\u001b[39m)\n\u001b[0;32m---> 12\u001b[0m features \u001b[39m=\u001b[39m model(face_img_tensor)\u001b[39m.\u001b[39mdetach()\u001b[39m.\u001b[39mnumpy()\n\u001b[1;32m     13\u001b[0m \u001b[39mreturn\u001b[39;00m features\u001b[39m.\u001b[39mreshape(\u001b[39m-\u001b[39m\u001b[39m1\u001b[39m)\n",
      "File \u001b[0;32m~/Neue_Fische/NeuralXpresso/.venv/lib/python3.9/site-packages/torch/nn/modules/module.py:1501\u001b[0m, in \u001b[0;36mModule._call_impl\u001b[0;34m(self, *args, **kwargs)\u001b[0m\n\u001b[1;32m   1496\u001b[0m \u001b[39m# If we don't have any hooks, we want to skip the rest of the logic in\u001b[39;00m\n\u001b[1;32m   1497\u001b[0m \u001b[39m# this function, and just call forward.\u001b[39;00m\n\u001b[1;32m   1498\u001b[0m \u001b[39mif\u001b[39;00m \u001b[39mnot\u001b[39;00m (\u001b[39mself\u001b[39m\u001b[39m.\u001b[39m_backward_hooks \u001b[39mor\u001b[39;00m \u001b[39mself\u001b[39m\u001b[39m.\u001b[39m_backward_pre_hooks \u001b[39mor\u001b[39;00m \u001b[39mself\u001b[39m\u001b[39m.\u001b[39m_forward_hooks \u001b[39mor\u001b[39;00m \u001b[39mself\u001b[39m\u001b[39m.\u001b[39m_forward_pre_hooks\n\u001b[1;32m   1499\u001b[0m         \u001b[39mor\u001b[39;00m _global_backward_pre_hooks \u001b[39mor\u001b[39;00m _global_backward_hooks\n\u001b[1;32m   1500\u001b[0m         \u001b[39mor\u001b[39;00m _global_forward_hooks \u001b[39mor\u001b[39;00m _global_forward_pre_hooks):\n\u001b[0;32m-> 1501\u001b[0m     \u001b[39mreturn\u001b[39;00m forward_call(\u001b[39m*\u001b[39;49margs, \u001b[39m*\u001b[39;49m\u001b[39m*\u001b[39;49mkwargs)\n\u001b[1;32m   1502\u001b[0m \u001b[39m# Do not call functions when jit is used\u001b[39;00m\n\u001b[1;32m   1503\u001b[0m full_backward_hooks, non_full_backward_hooks \u001b[39m=\u001b[39m [], []\n",
      "File \u001b[0;32m~/Neue_Fische/NeuralXpresso/.venv/lib/python3.9/site-packages/torchreid/reid/models/osnet.py:423\u001b[0m, in \u001b[0;36mOSNet.forward\u001b[0;34m(self, x, return_featuremaps)\u001b[0m\n\u001b[1;32m    422\u001b[0m \u001b[39mdef\u001b[39;00m \u001b[39mforward\u001b[39m(\u001b[39mself\u001b[39m, x, return_featuremaps\u001b[39m=\u001b[39m\u001b[39mFalse\u001b[39;00m):\n\u001b[0;32m--> 423\u001b[0m     x \u001b[39m=\u001b[39m \u001b[39mself\u001b[39;49m\u001b[39m.\u001b[39;49mfeaturemaps(x)\n\u001b[1;32m    424\u001b[0m     \u001b[39mif\u001b[39;00m return_featuremaps:\n\u001b[1;32m    425\u001b[0m         \u001b[39mreturn\u001b[39;00m x\n",
      "File \u001b[0;32m~/Neue_Fische/NeuralXpresso/.venv/lib/python3.9/site-packages/torchreid/reid/models/osnet.py:417\u001b[0m, in \u001b[0;36mOSNet.featuremaps\u001b[0;34m(self, x)\u001b[0m\n\u001b[1;32m    415\u001b[0m x \u001b[39m=\u001b[39m \u001b[39mself\u001b[39m\u001b[39m.\u001b[39mmaxpool(x)\n\u001b[1;32m    416\u001b[0m x \u001b[39m=\u001b[39m \u001b[39mself\u001b[39m\u001b[39m.\u001b[39mconv2(x)\n\u001b[0;32m--> 417\u001b[0m x \u001b[39m=\u001b[39m \u001b[39mself\u001b[39;49m\u001b[39m.\u001b[39;49mconv3(x)\n\u001b[1;32m    418\u001b[0m x \u001b[39m=\u001b[39m \u001b[39mself\u001b[39m\u001b[39m.\u001b[39mconv4(x)\n\u001b[1;32m    419\u001b[0m x \u001b[39m=\u001b[39m \u001b[39mself\u001b[39m\u001b[39m.\u001b[39mconv5(x)\n",
      "File \u001b[0;32m~/Neue_Fische/NeuralXpresso/.venv/lib/python3.9/site-packages/torch/nn/modules/module.py:1501\u001b[0m, in \u001b[0;36mModule._call_impl\u001b[0;34m(self, *args, **kwargs)\u001b[0m\n\u001b[1;32m   1496\u001b[0m \u001b[39m# If we don't have any hooks, we want to skip the rest of the logic in\u001b[39;00m\n\u001b[1;32m   1497\u001b[0m \u001b[39m# this function, and just call forward.\u001b[39;00m\n\u001b[1;32m   1498\u001b[0m \u001b[39mif\u001b[39;00m \u001b[39mnot\u001b[39;00m (\u001b[39mself\u001b[39m\u001b[39m.\u001b[39m_backward_hooks \u001b[39mor\u001b[39;00m \u001b[39mself\u001b[39m\u001b[39m.\u001b[39m_backward_pre_hooks \u001b[39mor\u001b[39;00m \u001b[39mself\u001b[39m\u001b[39m.\u001b[39m_forward_hooks \u001b[39mor\u001b[39;00m \u001b[39mself\u001b[39m\u001b[39m.\u001b[39m_forward_pre_hooks\n\u001b[1;32m   1499\u001b[0m         \u001b[39mor\u001b[39;00m _global_backward_pre_hooks \u001b[39mor\u001b[39;00m _global_backward_hooks\n\u001b[1;32m   1500\u001b[0m         \u001b[39mor\u001b[39;00m _global_forward_hooks \u001b[39mor\u001b[39;00m _global_forward_pre_hooks):\n\u001b[0;32m-> 1501\u001b[0m     \u001b[39mreturn\u001b[39;00m forward_call(\u001b[39m*\u001b[39;49margs, \u001b[39m*\u001b[39;49m\u001b[39m*\u001b[39;49mkwargs)\n\u001b[1;32m   1502\u001b[0m \u001b[39m# Do not call functions when jit is used\u001b[39;00m\n\u001b[1;32m   1503\u001b[0m full_backward_hooks, non_full_backward_hooks \u001b[39m=\u001b[39m [], []\n",
      "File \u001b[0;32m~/Neue_Fische/NeuralXpresso/.venv/lib/python3.9/site-packages/torch/nn/modules/container.py:217\u001b[0m, in \u001b[0;36mSequential.forward\u001b[0;34m(self, input)\u001b[0m\n\u001b[1;32m    215\u001b[0m \u001b[39mdef\u001b[39;00m \u001b[39mforward\u001b[39m(\u001b[39mself\u001b[39m, \u001b[39minput\u001b[39m):\n\u001b[1;32m    216\u001b[0m     \u001b[39mfor\u001b[39;00m module \u001b[39min\u001b[39;00m \u001b[39mself\u001b[39m:\n\u001b[0;32m--> 217\u001b[0m         \u001b[39minput\u001b[39m \u001b[39m=\u001b[39m module(\u001b[39minput\u001b[39;49m)\n\u001b[1;32m    218\u001b[0m     \u001b[39mreturn\u001b[39;00m \u001b[39minput\u001b[39m\n",
      "File \u001b[0;32m~/Neue_Fische/NeuralXpresso/.venv/lib/python3.9/site-packages/torch/nn/modules/module.py:1501\u001b[0m, in \u001b[0;36mModule._call_impl\u001b[0;34m(self, *args, **kwargs)\u001b[0m\n\u001b[1;32m   1496\u001b[0m \u001b[39m# If we don't have any hooks, we want to skip the rest of the logic in\u001b[39;00m\n\u001b[1;32m   1497\u001b[0m \u001b[39m# this function, and just call forward.\u001b[39;00m\n\u001b[1;32m   1498\u001b[0m \u001b[39mif\u001b[39;00m \u001b[39mnot\u001b[39;00m (\u001b[39mself\u001b[39m\u001b[39m.\u001b[39m_backward_hooks \u001b[39mor\u001b[39;00m \u001b[39mself\u001b[39m\u001b[39m.\u001b[39m_backward_pre_hooks \u001b[39mor\u001b[39;00m \u001b[39mself\u001b[39m\u001b[39m.\u001b[39m_forward_hooks \u001b[39mor\u001b[39;00m \u001b[39mself\u001b[39m\u001b[39m.\u001b[39m_forward_pre_hooks\n\u001b[1;32m   1499\u001b[0m         \u001b[39mor\u001b[39;00m _global_backward_pre_hooks \u001b[39mor\u001b[39;00m _global_backward_hooks\n\u001b[1;32m   1500\u001b[0m         \u001b[39mor\u001b[39;00m _global_forward_hooks \u001b[39mor\u001b[39;00m _global_forward_pre_hooks):\n\u001b[0;32m-> 1501\u001b[0m     \u001b[39mreturn\u001b[39;00m forward_call(\u001b[39m*\u001b[39;49margs, \u001b[39m*\u001b[39;49m\u001b[39m*\u001b[39;49mkwargs)\n\u001b[1;32m   1502\u001b[0m \u001b[39m# Do not call functions when jit is used\u001b[39;00m\n\u001b[1;32m   1503\u001b[0m full_backward_hooks, non_full_backward_hooks \u001b[39m=\u001b[39m [], []\n",
      "File \u001b[0;32m~/Neue_Fische/NeuralXpresso/.venv/lib/python3.9/site-packages/torchreid/reid/models/osnet.py:268\u001b[0m, in \u001b[0;36mOSBlock.forward\u001b[0;34m(self, x)\u001b[0m\n\u001b[1;32m    266\u001b[0m x2b \u001b[39m=\u001b[39m \u001b[39mself\u001b[39m\u001b[39m.\u001b[39mconv2b(x1)\n\u001b[1;32m    267\u001b[0m x2c \u001b[39m=\u001b[39m \u001b[39mself\u001b[39m\u001b[39m.\u001b[39mconv2c(x1)\n\u001b[0;32m--> 268\u001b[0m x2d \u001b[39m=\u001b[39m \u001b[39mself\u001b[39;49m\u001b[39m.\u001b[39;49mconv2d(x1)\n\u001b[1;32m    269\u001b[0m x2 \u001b[39m=\u001b[39m \u001b[39mself\u001b[39m\u001b[39m.\u001b[39mgate(x2a) \u001b[39m+\u001b[39m \u001b[39mself\u001b[39m\u001b[39m.\u001b[39mgate(x2b) \u001b[39m+\u001b[39m \u001b[39mself\u001b[39m\u001b[39m.\u001b[39mgate(x2c) \u001b[39m+\u001b[39m \u001b[39mself\u001b[39m\u001b[39m.\u001b[39mgate(x2d)\n\u001b[1;32m    270\u001b[0m x3 \u001b[39m=\u001b[39m \u001b[39mself\u001b[39m\u001b[39m.\u001b[39mconv3(x2)\n",
      "File \u001b[0;32m~/Neue_Fische/NeuralXpresso/.venv/lib/python3.9/site-packages/torch/nn/modules/module.py:1501\u001b[0m, in \u001b[0;36mModule._call_impl\u001b[0;34m(self, *args, **kwargs)\u001b[0m\n\u001b[1;32m   1496\u001b[0m \u001b[39m# If we don't have any hooks, we want to skip the rest of the logic in\u001b[39;00m\n\u001b[1;32m   1497\u001b[0m \u001b[39m# this function, and just call forward.\u001b[39;00m\n\u001b[1;32m   1498\u001b[0m \u001b[39mif\u001b[39;00m \u001b[39mnot\u001b[39;00m (\u001b[39mself\u001b[39m\u001b[39m.\u001b[39m_backward_hooks \u001b[39mor\u001b[39;00m \u001b[39mself\u001b[39m\u001b[39m.\u001b[39m_backward_pre_hooks \u001b[39mor\u001b[39;00m \u001b[39mself\u001b[39m\u001b[39m.\u001b[39m_forward_hooks \u001b[39mor\u001b[39;00m \u001b[39mself\u001b[39m\u001b[39m.\u001b[39m_forward_pre_hooks\n\u001b[1;32m   1499\u001b[0m         \u001b[39mor\u001b[39;00m _global_backward_pre_hooks \u001b[39mor\u001b[39;00m _global_backward_hooks\n\u001b[1;32m   1500\u001b[0m         \u001b[39mor\u001b[39;00m _global_forward_hooks \u001b[39mor\u001b[39;00m _global_forward_pre_hooks):\n\u001b[0;32m-> 1501\u001b[0m     \u001b[39mreturn\u001b[39;00m forward_call(\u001b[39m*\u001b[39;49margs, \u001b[39m*\u001b[39;49m\u001b[39m*\u001b[39;49mkwargs)\n\u001b[1;32m   1502\u001b[0m \u001b[39m# Do not call functions when jit is used\u001b[39;00m\n\u001b[1;32m   1503\u001b[0m full_backward_hooks, non_full_backward_hooks \u001b[39m=\u001b[39m [], []\n",
      "File \u001b[0;32m~/Neue_Fische/NeuralXpresso/.venv/lib/python3.9/site-packages/torch/nn/modules/container.py:217\u001b[0m, in \u001b[0;36mSequential.forward\u001b[0;34m(self, input)\u001b[0m\n\u001b[1;32m    215\u001b[0m \u001b[39mdef\u001b[39;00m \u001b[39mforward\u001b[39m(\u001b[39mself\u001b[39m, \u001b[39minput\u001b[39m):\n\u001b[1;32m    216\u001b[0m     \u001b[39mfor\u001b[39;00m module \u001b[39min\u001b[39;00m \u001b[39mself\u001b[39m:\n\u001b[0;32m--> 217\u001b[0m         \u001b[39minput\u001b[39m \u001b[39m=\u001b[39m module(\u001b[39minput\u001b[39;49m)\n\u001b[1;32m    218\u001b[0m     \u001b[39mreturn\u001b[39;00m \u001b[39minput\u001b[39m\n",
      "File \u001b[0;32m~/Neue_Fische/NeuralXpresso/.venv/lib/python3.9/site-packages/torch/nn/modules/module.py:1501\u001b[0m, in \u001b[0;36mModule._call_impl\u001b[0;34m(self, *args, **kwargs)\u001b[0m\n\u001b[1;32m   1496\u001b[0m \u001b[39m# If we don't have any hooks, we want to skip the rest of the logic in\u001b[39;00m\n\u001b[1;32m   1497\u001b[0m \u001b[39m# this function, and just call forward.\u001b[39;00m\n\u001b[1;32m   1498\u001b[0m \u001b[39mif\u001b[39;00m \u001b[39mnot\u001b[39;00m (\u001b[39mself\u001b[39m\u001b[39m.\u001b[39m_backward_hooks \u001b[39mor\u001b[39;00m \u001b[39mself\u001b[39m\u001b[39m.\u001b[39m_backward_pre_hooks \u001b[39mor\u001b[39;00m \u001b[39mself\u001b[39m\u001b[39m.\u001b[39m_forward_hooks \u001b[39mor\u001b[39;00m \u001b[39mself\u001b[39m\u001b[39m.\u001b[39m_forward_pre_hooks\n\u001b[1;32m   1499\u001b[0m         \u001b[39mor\u001b[39;00m _global_backward_pre_hooks \u001b[39mor\u001b[39;00m _global_backward_hooks\n\u001b[1;32m   1500\u001b[0m         \u001b[39mor\u001b[39;00m _global_forward_hooks \u001b[39mor\u001b[39;00m _global_forward_pre_hooks):\n\u001b[0;32m-> 1501\u001b[0m     \u001b[39mreturn\u001b[39;00m forward_call(\u001b[39m*\u001b[39;49margs, \u001b[39m*\u001b[39;49m\u001b[39m*\u001b[39;49mkwargs)\n\u001b[1;32m   1502\u001b[0m \u001b[39m# Do not call functions when jit is used\u001b[39;00m\n\u001b[1;32m   1503\u001b[0m full_backward_hooks, non_full_backward_hooks \u001b[39m=\u001b[39m [], []\n",
      "File \u001b[0;32m~/Neue_Fische/NeuralXpresso/.venv/lib/python3.9/site-packages/torchreid/reid/models/osnet.py:153\u001b[0m, in \u001b[0;36mLightConv3x3.forward\u001b[0;34m(self, x)\u001b[0m\n\u001b[1;32m    151\u001b[0m \u001b[39mdef\u001b[39;00m \u001b[39mforward\u001b[39m(\u001b[39mself\u001b[39m, x):\n\u001b[1;32m    152\u001b[0m     x \u001b[39m=\u001b[39m \u001b[39mself\u001b[39m\u001b[39m.\u001b[39mconv1(x)\n\u001b[0;32m--> 153\u001b[0m     x \u001b[39m=\u001b[39m \u001b[39mself\u001b[39;49m\u001b[39m.\u001b[39;49mconv2(x)\n\u001b[1;32m    154\u001b[0m     x \u001b[39m=\u001b[39m \u001b[39mself\u001b[39m\u001b[39m.\u001b[39mbn(x)\n\u001b[1;32m    155\u001b[0m     x \u001b[39m=\u001b[39m \u001b[39mself\u001b[39m\u001b[39m.\u001b[39mrelu(x)\n",
      "File \u001b[0;32m~/Neue_Fische/NeuralXpresso/.venv/lib/python3.9/site-packages/torch/nn/modules/module.py:1501\u001b[0m, in \u001b[0;36mModule._call_impl\u001b[0;34m(self, *args, **kwargs)\u001b[0m\n\u001b[1;32m   1496\u001b[0m \u001b[39m# If we don't have any hooks, we want to skip the rest of the logic in\u001b[39;00m\n\u001b[1;32m   1497\u001b[0m \u001b[39m# this function, and just call forward.\u001b[39;00m\n\u001b[1;32m   1498\u001b[0m \u001b[39mif\u001b[39;00m \u001b[39mnot\u001b[39;00m (\u001b[39mself\u001b[39m\u001b[39m.\u001b[39m_backward_hooks \u001b[39mor\u001b[39;00m \u001b[39mself\u001b[39m\u001b[39m.\u001b[39m_backward_pre_hooks \u001b[39mor\u001b[39;00m \u001b[39mself\u001b[39m\u001b[39m.\u001b[39m_forward_hooks \u001b[39mor\u001b[39;00m \u001b[39mself\u001b[39m\u001b[39m.\u001b[39m_forward_pre_hooks\n\u001b[1;32m   1499\u001b[0m         \u001b[39mor\u001b[39;00m _global_backward_pre_hooks \u001b[39mor\u001b[39;00m _global_backward_hooks\n\u001b[1;32m   1500\u001b[0m         \u001b[39mor\u001b[39;00m _global_forward_hooks \u001b[39mor\u001b[39;00m _global_forward_pre_hooks):\n\u001b[0;32m-> 1501\u001b[0m     \u001b[39mreturn\u001b[39;00m forward_call(\u001b[39m*\u001b[39;49margs, \u001b[39m*\u001b[39;49m\u001b[39m*\u001b[39;49mkwargs)\n\u001b[1;32m   1502\u001b[0m \u001b[39m# Do not call functions when jit is used\u001b[39;00m\n\u001b[1;32m   1503\u001b[0m full_backward_hooks, non_full_backward_hooks \u001b[39m=\u001b[39m [], []\n",
      "File \u001b[0;32m~/Neue_Fische/NeuralXpresso/.venv/lib/python3.9/site-packages/torch/nn/modules/conv.py:463\u001b[0m, in \u001b[0;36mConv2d.forward\u001b[0;34m(self, input)\u001b[0m\n\u001b[1;32m    462\u001b[0m \u001b[39mdef\u001b[39;00m \u001b[39mforward\u001b[39m(\u001b[39mself\u001b[39m, \u001b[39minput\u001b[39m: Tensor) \u001b[39m-\u001b[39m\u001b[39m>\u001b[39m Tensor:\n\u001b[0;32m--> 463\u001b[0m     \u001b[39mreturn\u001b[39;00m \u001b[39mself\u001b[39;49m\u001b[39m.\u001b[39;49m_conv_forward(\u001b[39minput\u001b[39;49m, \u001b[39mself\u001b[39;49m\u001b[39m.\u001b[39;49mweight, \u001b[39mself\u001b[39;49m\u001b[39m.\u001b[39;49mbias)\n",
      "File \u001b[0;32m~/Neue_Fische/NeuralXpresso/.venv/lib/python3.9/site-packages/torch/nn/modules/conv.py:459\u001b[0m, in \u001b[0;36mConv2d._conv_forward\u001b[0;34m(self, input, weight, bias)\u001b[0m\n\u001b[1;32m    455\u001b[0m \u001b[39mif\u001b[39;00m \u001b[39mself\u001b[39m\u001b[39m.\u001b[39mpadding_mode \u001b[39m!=\u001b[39m \u001b[39m'\u001b[39m\u001b[39mzeros\u001b[39m\u001b[39m'\u001b[39m:\n\u001b[1;32m    456\u001b[0m     \u001b[39mreturn\u001b[39;00m F\u001b[39m.\u001b[39mconv2d(F\u001b[39m.\u001b[39mpad(\u001b[39minput\u001b[39m, \u001b[39mself\u001b[39m\u001b[39m.\u001b[39m_reversed_padding_repeated_twice, mode\u001b[39m=\u001b[39m\u001b[39mself\u001b[39m\u001b[39m.\u001b[39mpadding_mode),\n\u001b[1;32m    457\u001b[0m                     weight, bias, \u001b[39mself\u001b[39m\u001b[39m.\u001b[39mstride,\n\u001b[1;32m    458\u001b[0m                     _pair(\u001b[39m0\u001b[39m), \u001b[39mself\u001b[39m\u001b[39m.\u001b[39mdilation, \u001b[39mself\u001b[39m\u001b[39m.\u001b[39mgroups)\n\u001b[0;32m--> 459\u001b[0m \u001b[39mreturn\u001b[39;00m F\u001b[39m.\u001b[39;49mconv2d(\u001b[39minput\u001b[39;49m, weight, bias, \u001b[39mself\u001b[39;49m\u001b[39m.\u001b[39;49mstride,\n\u001b[1;32m    460\u001b[0m                 \u001b[39mself\u001b[39;49m\u001b[39m.\u001b[39;49mpadding, \u001b[39mself\u001b[39;49m\u001b[39m.\u001b[39;49mdilation, \u001b[39mself\u001b[39;49m\u001b[39m.\u001b[39;49mgroups)\n",
      "\u001b[0;31mKeyboardInterrupt\u001b[0m: "
     ]
    },
    {
     "ename": "",
     "evalue": "",
     "output_type": "error",
     "traceback": [
      "\u001b[1;31mThe Kernel crashed while executing code in the the current cell or a previous cell. Please review the code in the cell(s) to identify a possible cause of the failure. Click <a href='https://aka.ms/vscodeJupyterKernelCrash'>here</a> for more info. View Jupyter <a href='command:jupyter.viewOutput'>log</a> for further details."
     ]
    }
   ],
   "source": [
    "def process_frame(frame, frame_nr, face_detector, emotion_classifier, known_people_features, video):\n",
    "    face_locations = detect_faces(frame, face_detector, MODEL_TYPE)\n",
    "\n",
    "    if face_locations is None:\n",
    "        return frame, [], []\n",
    "\n",
    "    emotions_in_frame = []\n",
    "    frame_data = []\n",
    "\n",
    "    for i, face_location in enumerate(face_locations):\n",
    "        person_features = extract_person_features(frame, model, transformer, face_location)\n",
    "\n",
    "        if person_features is None:\n",
    "            continue\n",
    "\n",
    "        person_id = find_matching_person(person_features, known_people_features)\n",
    "\n",
    "        if person_id is None:\n",
    "            person_id = len(known_people_features) + 1\n",
    "            known_people_features.append(person_features)\n",
    "\n",
    "        prob = emotions_probability(frame, face_location, emotion_classifier)\n",
    "        max_emotion, max_prob = np.argmax(prob), np.max(prob)\n",
    "        emotion_labels = ['Angry', 'Disgust', 'Fear', 'Happy', 'Sad', 'Surprise', 'Neutral']\n",
    "        emotion_text = emotion_labels[max_emotion]\n",
    "\n",
    "        (y_min, y_max, x_min, x_max) = face_location\n",
    "        cv2.rectangle(frame, (x_min, y_min), (x_max, y_max), (0, 255, 0), 2)\n",
    "        cv2.putText(frame, f\"Prob: {max_prob:.1%}\", (x_min, y_max + 60), cv2.FONT_HERSHEY_SIMPLEX, 1, (0, 0, 255), 1)\n",
    "        cv2.putText(frame, f\"{emotion_text}\", (x_min, y_max + 30), cv2.FONT_HERSHEY_SIMPLEX, 1, (0, 0, 255), 1)\n",
    "        cv2.putText(frame, f\"Person: {person_id}\", (x_min, y_min - 30), cv2.FONT_HERSHEY_SIMPLEX, 1, (255, 0, 0), 2)\n",
    "\n",
    "        emotions_in_frame.append((emotion_text, max_prob))\n",
    "        frame_data.append((round(video.get(cv2.CAP_PROP_POS_MSEC) / 1000, 2), frame_nr))\n",
    "\n",
    "    return frame, emotions_in_frame, frame_data\n",
    "\n",
    "\n",
    "\n",
    "def main():\n",
    "    global DEBUG, SAVE_VIDEO\n",
    "    \n",
    "    if DEBUG:\n",
    "        start_time = time.time()\n",
    "    \n",
    "    path, frames_to_skip, output_filename = get_user_config()\n",
    "    \n",
    "    video = get_stream(path)\n",
    "    \n",
    "    if SAVE_VIDEO:\n",
    "        writer = output_video(video, filename=output_filename)\n",
    "\n",
    "    face_detector = initialize_face_detector(MODEL_TYPE)\n",
    "    emotion_classifier = load_emotion_classifier()\n",
    "\n",
    "    known_people_features = []\n",
    "    emotions = []\n",
    "    frame_info = []\n",
    "    frames = []\n",
    "    current_frame_nr = 0\n",
    "    \n",
    "    while True:\n",
    "        ret, frame = video.read()\n",
    "        \n",
    "        if not ret:\n",
    "            break\n",
    "\n",
    "        current_frame_nr = int(video.get(cv2.CAP_PROP_POS_FRAMES))\n",
    "\n",
    "        if current_frame_nr % frames_to_skip != 0:\n",
    "            continue\n",
    "\n",
    "        processed_frame, emotions_in_frame, frame_data = process_frame(frame, current_frame_nr, face_detector, emotion_classifier, known_people_features, video)\n",
    "\n",
    "        if emotions_in_frame:\n",
    "            emotions.extend(emotions_in_frame)\n",
    "            frame_info.extend(frame_data)\n",
    "        \n",
    "        \n",
    "        if emotions:\n",
    "            emotions.extend(emotions_in_frame)\n",
    "            frame_info.extend(frame_data)\n",
    "        \n",
    "        if DEBUG:\n",
    "            if len(emotions) > debug_params['max_emotions']:\n",
    "                break\n",
    "        \n",
    "        cv2.imshow(\"Faces found\", processed_frame)\n",
    "        k = cv2.waitKey(30) & 0xff\n",
    "        if k == 27:\n",
    "            break\n",
    "\n",
    "    video.release()\n",
    "\n",
    "    if SAVE_VIDEO:\n",
    "        writer.release()\n",
    "\n",
    "    cv2.destroyAllWindows()\n",
    "    '''\n",
    "    if DEBUG:\n",
    "        end_time = time.time()\n",
    "        print_debug_report(emotions, frame_info, end_time - start_time)\n",
    "    '''\n",
    "    df_plotting = get_plottable_df(emotions, frame_info, frame_info_cols=['pos_sec', 'frame'])\n",
    "\n",
    "if __name__ == \"__main__\":\n",
    "    main()\n",
    "\n",
    "\n",
    "\n"
   ]
  },
  {
   "cell_type": "code",
   "execution_count": null,
   "metadata": {},
   "outputs": [
    {
     "ename": "NameError",
     "evalue": "name 'frame' is not defined",
     "output_type": "error",
     "traceback": [
      "\u001b[0;31m---------------------------------------------------------------------------\u001b[0m",
      "\u001b[0;31mNameError\u001b[0m                                 Traceback (most recent call last)",
      "Cell \u001b[0;32mIn[7], line 1\u001b[0m\n\u001b[0;32m----> 1\u001b[0m frame, emotions_in_frame, frame_data \u001b[39m=\u001b[39m process_frame(frame, frame_nr, face_detector, emotion_classifier, known_people_features, video)\n",
      "\u001b[0;31mNameError\u001b[0m: name 'frame' is not defined"
     ]
    }
   ],
   "source": [
    "frame, emotions_in_frame, frame_data = process_frame(frame, frame_nr, face_detector, emotion_classifier, known_people_features, video)"
   ]
  },
  {
   "cell_type": "code",
   "execution_count": null,
   "metadata": {},
   "outputs": [
    {
     "name": "stdout",
     "output_type": "stream",
     "text": [
      "Title: The 7 basic emotions - Do you recognise all facial expressions?\n",
      "Length: 115 seconds\n",
      "Available video quality options:\n"
     ]
    },
    {
     "name": "stderr",
     "output_type": "stream",
     "text": [
      "OpenCV: FFMPEG: tag 0x44495658/'XVID' is not supported with codec id 12 and format 'mp4 / MP4 (MPEG-4 Part 14)'\n",
      "OpenCV: FFMPEG: fallback to use tag 0x7634706d/'mp4v'\n",
      "2023-03-22 11:49:11.276613: I tensorflow/core/common_runtime/pluggable_device/pluggable_device_factory.cc:306] Could not identify NUMA node of platform GPU ID 0, defaulting to 0. Your kernel may not have been built with NUMA support.\n",
      "2023-03-22 11:49:11.276996: I tensorflow/core/common_runtime/pluggable_device/pluggable_device_factory.cc:272] Created TensorFlow device (/job:localhost/replica:0/task:0/device:GPU:0 with 0 MB memory) -> physical PluggableDevice (device: 0, name: METAL, pci bus id: <undefined>)\n"
     ]
    },
    {
     "name": "stdout",
     "output_type": "stream",
     "text": [
      "Metal device set to: Apple M1\n",
      "\n",
      "systemMemory: 8.00 GB\n",
      "maxCacheSize: 2.67 GB\n",
      "\n"
     ]
    },
    {
     "ename": "ValueError",
     "evalue": "not enough values to unpack (expected 3, got 1)",
     "output_type": "error",
     "traceback": [
      "\u001b[0;31m---------------------------------------------------------------------------\u001b[0m",
      "\u001b[0;31mValueError\u001b[0m                                Traceback (most recent call last)",
      "Cell \u001b[0;32mIn[4], line 2\u001b[0m\n\u001b[1;32m      1\u001b[0m \u001b[39mif\u001b[39;00m \u001b[39m__name__\u001b[39m \u001b[39m==\u001b[39m \u001b[39m\"\u001b[39m\u001b[39m__main__\u001b[39m\u001b[39m\"\u001b[39m:\n\u001b[0;32m----> 2\u001b[0m     main()\n",
      "Cell \u001b[0;32mIn[3], line 83\u001b[0m, in \u001b[0;36mmain\u001b[0;34m()\u001b[0m\n\u001b[1;32m     80\u001b[0m process_frame_partial \u001b[39m=\u001b[39m partial(process_frame, frame_nr\u001b[39m=\u001b[39mcurrent_frame_nr, face_detector\u001b[39m=\u001b[39mface_detector, emotion_classifier\u001b[39m=\u001b[39memotion_classifier, known_people_features\u001b[39m=\u001b[39mknown_people_features)\n\u001b[1;32m     82\u001b[0m \u001b[39mwith\u001b[39;00m ThreadPoolExecutor() \u001b[39mas\u001b[39;00m executor:\n\u001b[0;32m---> 83\u001b[0m     processed_frame, emotions_in_frame, frame_data \u001b[39m=\u001b[39m executor\u001b[39m.\u001b[39mmap(process_frame_partial, [frame])\n\u001b[1;32m     85\u001b[0m \u001b[39mif\u001b[39;00m emotions_in_frame:\n\u001b[1;32m     86\u001b[0m     emotions\u001b[39m.\u001b[39mextend(emotions_in_frame)\n",
      "\u001b[0;31mValueError\u001b[0m: not enough values to unpack (expected 3, got 1)"
     ]
    }
   ],
   "source": [
    "if __name__ == \"__main__\":\n",
    "    main()"
   ]
  },
  {
   "cell_type": "code",
   "execution_count": null,
   "metadata": {},
   "outputs": [
    {
     "name": "stdout",
     "output_type": "stream",
     "text": [
      "Title: The 7 basic emotions - Do you recognise all facial expressions?\n",
      "Length: 115 seconds\n",
      "Available video quality options:\n"
     ]
    },
    {
     "name": "stderr",
     "output_type": "stream",
     "text": [
      "OpenCV: FFMPEG: tag 0x44495658/'XVID' is not supported with codec id 12 and format 'mp4 / MP4 (MPEG-4 Part 14)'\n",
      "OpenCV: FFMPEG: fallback to use tag 0x7634706d/'mp4v'\n",
      "2023-03-22 10:56:25.045867: I tensorflow/core/common_runtime/pluggable_device/pluggable_device_factory.cc:306] Could not identify NUMA node of platform GPU ID 0, defaulting to 0. Your kernel may not have been built with NUMA support.\n",
      "2023-03-22 10:56:25.046242: I tensorflow/core/common_runtime/pluggable_device/pluggable_device_factory.cc:272] Created TensorFlow device (/job:localhost/replica:0/task:0/device:GPU:0 with 0 MB memory) -> physical PluggableDevice (device: 0, name: METAL, pci bus id: <undefined>)\n"
     ]
    },
    {
     "name": "stdout",
     "output_type": "stream",
     "text": [
      "Metal device set to: Apple M1\n",
      "\n",
      "systemMemory: 8.00 GB\n",
      "maxCacheSize: 2.67 GB\n",
      "\n"
     ]
    }
   ],
   "source": [
    "# Load the pre-trained person re-identification model\n",
    "model = torchreid.models.build_model(\n",
    "    name='osnet_x1_0',\n",
    "    num_classes=0,\n",
    "    loss='softmax',\n",
    "    pretrained=True\n",
    ")\n",
    "\n",
    "# Set the model to evaluation mode\n",
    "model.eval()\n",
    "\n",
    "# Load the weights of the pre-trained model\n",
    "torchreid.utils.load_pretrained_weights(model, 'osnet_x1_0_imagenet.pth')\n",
    "\n",
    "# Build a transformer for the model\n",
    "transformer = build_transformer()\n",
    "\n",
    "\n",
    "\n",
    "\n",
    "\n",
    "\n",
    "if DEBUG: start_time = time.time()\n",
    "\n",
    "# Define video path\n",
    "path = get_path('youtube')\n",
    "\n",
    "# Set the number of frames to skip\n",
    "frames_to_skip = 8\n",
    "\n",
    "# Get Video as cv2.VideoCapture\n",
    "# Can access Youtube Video or local file\n",
    "video = get_stream(path)\n",
    "\n",
    "# Initialize writer to save the annotated video\n",
    "if SAVE_VIDEO: writer = output_video(video, filename='outputs/Output_video.mp4')\n",
    "\n",
    "# Initialize the face detection model\n",
    "#model_type = \"MTCNN\"\n",
    "model_type = \"haarcascade\"\n",
    "face_detector = initialize_face_detector(model_type)\n",
    "\n",
    "\n",
    "# Initialize the emotion detection model\n",
    "emotion_classifier = load_emotion_classifier()\n",
    "\n",
    "# Initialize lists to store emotions and frame_info\n",
    "emotions = []\n",
    "frame_info = []\n",
    "\n",
    "# Initialize counters\n",
    "frames_without_faces_counter = 0\n",
    "individual_id_counter = 0\n",
    "face_embeddings = {}\n",
    "\n",
    "\n",
    "# Initialize an empty dictionary to store detected person features and IDs\n",
    "detected_persons = {}\n",
    "known_people_features = []\n",
    "\n",
    "# Keep track of the last assigned person ID\n",
    "last_person_id = 0\n",
    "\n"
   ]
  },
  {
   "cell_type": "code",
   "execution_count": null,
   "metadata": {},
   "outputs": [],
   "source": []
  },
  {
   "cell_type": "code",
   "execution_count": null,
   "metadata": {},
   "outputs": [
    {
     "name": "stderr",
     "output_type": "stream",
     "text": [
      "2023-03-22 10:56:27.438531: W tensorflow/tsl/platform/profile_utils/cpu_utils.cc:128] Failed to get CPU frequency: 0 Hz\n",
      "2023-03-22 10:56:27.628303: I tensorflow/core/grappler/optimizers/custom_graph_optimizer_registry.cc:114] Plugin optimizer for device_type GPU is enabled.\n"
     ]
    },
    {
     "name": "stdout",
     "output_type": "stream",
     "text": [
      "1/1 [==============================] - 0s 398ms/step\n",
      "1/1 [==============================] - 0s 20ms/step\n",
      "1/1 [==============================] - 0s 14ms/step\n",
      "1/1 [==============================] - 0s 15ms/step\n",
      "1/1 [==============================] - 0s 14ms/step\n",
      "1/1 [==============================] - 0s 16ms/step\n",
      "1/1 [==============================] - 0s 16ms/step\n",
      "1/1 [==============================] - 0s 16ms/step\n",
      "1/1 [==============================] - 0s 24ms/step\n",
      "1/1 [==============================] - 0s 16ms/step\n",
      "1/1 [==============================] - 0s 15ms/step\n",
      "1/1 [==============================] - 0s 15ms/step\n",
      "1/1 [==============================] - 0s 14ms/step\n",
      "1/1 [==============================] - 0s 16ms/step\n"
     ]
    },
    {
     "ename": "KeyboardInterrupt",
     "evalue": "",
     "output_type": "error",
     "traceback": [
      "\u001b[0;31m---------------------------------------------------------------------------\u001b[0m",
      "\u001b[0;31mKeyboardInterrupt\u001b[0m                         Traceback (most recent call last)",
      "Cell \u001b[0;32mIn[6], line 19\u001b[0m\n\u001b[1;32m     16\u001b[0m     \u001b[39mcontinue\u001b[39;00m\n\u001b[1;32m     18\u001b[0m \u001b[39m# Find faces within a frame and return list of coordinates of bounding boxes\u001b[39;00m\n\u001b[0;32m---> 19\u001b[0m face_locations \u001b[39m=\u001b[39m detect_faces(frame, face_detector, model_type)\n\u001b[1;32m     21\u001b[0m \u001b[39m# Check if any faces were found\u001b[39;00m\n\u001b[1;32m     22\u001b[0m \u001b[39mif\u001b[39;00m face_locations \u001b[39mis\u001b[39;00m \u001b[39mNone\u001b[39;00m:\n",
      "Cell \u001b[0;32mIn[4], line 108\u001b[0m, in \u001b[0;36mdetect_faces\u001b[0;34m(frame, face_detector, model_type)\u001b[0m\n\u001b[1;32m    106\u001b[0m \u001b[39mif\u001b[39;00m model_type \u001b[39m==\u001b[39m \u001b[39m'\u001b[39m\u001b[39mhaarcascade\u001b[39m\u001b[39m'\u001b[39m:\n\u001b[1;32m    107\u001b[0m     frame_pp \u001b[39m=\u001b[39m preprocess_frame_for_face_detection_haarcascade(frame)\n\u001b[0;32m--> 108\u001b[0m     boxes \u001b[39m=\u001b[39m  face_detector\u001b[39m.\u001b[39;49mdetectMultiScale(frame_pp, scaleFactor \u001b[39m=\u001b[39;49m \u001b[39m1.3\u001b[39;49m, minNeighbors \u001b[39m=\u001b[39;49m \u001b[39m3\u001b[39;49m)\n\u001b[1;32m    109\u001b[0m     \u001b[39mif\u001b[39;00m boxes \u001b[39mis\u001b[39;00m \u001b[39mNone\u001b[39;00m:\n\u001b[1;32m    110\u001b[0m         \u001b[39mreturn\u001b[39;00m \u001b[39mNone\u001b[39;00m\n",
      "\u001b[0;31mKeyboardInterrupt\u001b[0m: "
     ]
    }
   ],
   "source": [
    "# Loop through each frame of the video\n",
    "while True:\n",
    "\n",
    "    # Read the next frame from the video\n",
    "    ret, frame = video.read()\n",
    "\n",
    "    # Check if the frame was successfully read\n",
    "    if not ret:\n",
    "        break\n",
    "\n",
    "    # Increment the frame counter\n",
    "    current_frame_nr = int(video.get(cv2.CAP_PROP_POS_FRAMES))\n",
    "\n",
    "    # Skip frames based on the frames_to_skip parameter\n",
    "    if current_frame_nr % frames_to_skip != 0:\n",
    "        continue\n",
    "    \n",
    "    # Find faces within a frame and return list of coordinates of bounding boxes\n",
    "    face_locations = detect_faces(frame, face_detector, model_type)\n",
    "\n",
    "    # Check if any faces were found\n",
    "    if face_locations is None:\n",
    "        frames_without_faces_counter += 1\n",
    "        continue\n",
    "\n",
    "    \n",
    "      \n",
    "    for i, face_location in enumerate(face_locations):\n",
    "        # Extract the person's features\n",
    "        person_features = extract_person_features(frame, model, transformer, face_location)\n",
    "        # If person_features is None, continue to the next iteration\n",
    "        if person_features is None:\n",
    "            continue\n",
    "        # Check if the person matches any known person\n",
    "        person_id = find_matching_person(person_features, known_people_features)\n",
    "         # If the person is not recognized, add their features to the list of known people\n",
    "        if person_id is None:\n",
    "            person_id = len(known_people_features) + 1\n",
    "            known_people_features.append(person_features)\n",
    "        # Emotion detection\n",
    "        prob = emotions_probability(frame, face_location, emotion_classifier)\n",
    "        emotions.append(prob)\n",
    "        \n",
    "        frame_info.append(\n",
    "            (round(video.get(cv2.CAP_PROP_POS_MSEC) / 1000, 2),\n",
    "                current_frame_nr\n",
    "                )\n",
    "        )    \n",
    "        max_emotion, max_prob = np.argmax(prob), np.max(prob)\n",
    "        emotion_labels = ['Angry', 'Disgust', 'Fear', 'Happy', 'Sad', 'Surprise', 'Neutral']\n",
    "        emotion_text = emotion_labels[max_emotion]\n",
    "\n",
    "        (y_min, y_max, x_min, x_max) = face_location\n",
    "        cv2.rectangle(frame, (x_min, y_min), (x_max, y_max), (0, 255, 0), 2)\n",
    "        cv2.putText(frame, f\"Prob: {max_prob:.1%}\", (x_min, y_max + 60), cv2.FONT_HERSHEY_SIMPLEX, 1, (0, 0, 255), 1)\n",
    "        cv2.putText(frame, f\"{emotion_text}\", (x_min, y_max + 30), cv2.FONT_HERSHEY_SIMPLEX, 1, (0, 0, 255), 1)\n",
    "        cv2.putText(frame, f\"Person: {person_id}\", (x_min, y_min - 30), cv2.FONT_HERSHEY_SIMPLEX, 1, (255, 0, 0), 2)\n",
    "    \n",
    "    cv2.imshow(\"Faces found\", frame)\n",
    "\n",
    "        # Wait for Esc key to stop\n",
    "    k = cv2.waitKey(30) & 0xff\n",
    "    if k == 27:\n",
    "            break\n",
    "\n",
    "    if DEBUG:\n",
    "        # For debugging reasons, we stop when we have 1000 emotion values\n",
    "        if len(emotions) > debug_params['max_emotions']:\n",
    "            break\n",
    "\n",
    "# Release the video and close the window\n",
    "video.release()\n",
    "\n",
    "if SAVE_VIDEO: writer.release()\n",
    "\n",
    "# De-allocate any associated memory usage\n",
    "cv2.destroyAllWindows()\n",
    "\n",
    "if DEBUG: end_time = time.time()\n",
    "\n",
    "if DEBUG:\n",
    "    # When in DEBUG-mode, print some statistics about the faces and emotions detected\n",
    "    operating_results = {'analyzed_emotions': len(emotions),\n",
    "                         'analyzed_frames':frame_info[-1][1], \n",
    "                         'frames_without_faces':frames_without_faces_counter,\n",
    "                         'frames_without_faces_ratio': round(100*frames_without_faces_counter/frame_info[-1][1],2),\n",
    "                         'processed_video_time': round(frame_info[-1][0] / 1000 ,2),\n",
    "                         'runtime': round(end_time - start_time,2)}\n",
    "    \n",
    "    print_debug_report(operating_results)\n",
    "    \n",
    "df_plotting = get_plottable_df(emotions, frame_info, frame_info_cols=['pos_sec', 'frame'])"
   ]
  },
  {
   "cell_type": "code",
   "execution_count": null,
   "metadata": {},
   "outputs": [
    {
     "data": {
      "text/html": [
       "<div>\n",
       "<style scoped>\n",
       "    .dataframe tbody tr th:only-of-type {\n",
       "        vertical-align: middle;\n",
       "    }\n",
       "\n",
       "    .dataframe tbody tr th {\n",
       "        vertical-align: top;\n",
       "    }\n",
       "\n",
       "    .dataframe thead th {\n",
       "        text-align: right;\n",
       "    }\n",
       "</style>\n",
       "<table border=\"1\" class=\"dataframe\">\n",
       "  <thead>\n",
       "    <tr style=\"text-align: right;\">\n",
       "      <th></th>\n",
       "      <th>pos_sec</th>\n",
       "      <th>frame</th>\n",
       "      <th>emotion</th>\n",
       "      <th>probability</th>\n",
       "    </tr>\n",
       "  </thead>\n",
       "  <tbody>\n",
       "    <tr>\n",
       "      <th>0</th>\n",
       "      <td>6.36</td>\n",
       "      <td>160</td>\n",
       "      <td>Angry</td>\n",
       "      <td>0.018778</td>\n",
       "    </tr>\n",
       "    <tr>\n",
       "      <th>1</th>\n",
       "      <td>6.68</td>\n",
       "      <td>168</td>\n",
       "      <td>Angry</td>\n",
       "      <td>0.032896</td>\n",
       "    </tr>\n",
       "    <tr>\n",
       "      <th>2</th>\n",
       "      <td>7.00</td>\n",
       "      <td>176</td>\n",
       "      <td>Angry</td>\n",
       "      <td>0.073128</td>\n",
       "    </tr>\n",
       "    <tr>\n",
       "      <th>3</th>\n",
       "      <td>7.32</td>\n",
       "      <td>184</td>\n",
       "      <td>Angry</td>\n",
       "      <td>0.047606</td>\n",
       "    </tr>\n",
       "    <tr>\n",
       "      <th>4</th>\n",
       "      <td>7.32</td>\n",
       "      <td>184</td>\n",
       "      <td>Angry</td>\n",
       "      <td>0.032855</td>\n",
       "    </tr>\n",
       "    <tr>\n",
       "      <th>...</th>\n",
       "      <td>...</td>\n",
       "      <td>...</td>\n",
       "      <td>...</td>\n",
       "      <td>...</td>\n",
       "    </tr>\n",
       "    <tr>\n",
       "      <th>646</th>\n",
       "      <td>93.08</td>\n",
       "      <td>2328</td>\n",
       "      <td>Neutral</td>\n",
       "      <td>0.195752</td>\n",
       "    </tr>\n",
       "    <tr>\n",
       "      <th>647</th>\n",
       "      <td>93.40</td>\n",
       "      <td>2336</td>\n",
       "      <td>Neutral</td>\n",
       "      <td>0.358018</td>\n",
       "    </tr>\n",
       "    <tr>\n",
       "      <th>648</th>\n",
       "      <td>93.72</td>\n",
       "      <td>2344</td>\n",
       "      <td>Neutral</td>\n",
       "      <td>0.512138</td>\n",
       "    </tr>\n",
       "    <tr>\n",
       "      <th>649</th>\n",
       "      <td>94.04</td>\n",
       "      <td>2352</td>\n",
       "      <td>Neutral</td>\n",
       "      <td>0.473076</td>\n",
       "    </tr>\n",
       "    <tr>\n",
       "      <th>650</th>\n",
       "      <td>94.36</td>\n",
       "      <td>2360</td>\n",
       "      <td>Neutral</td>\n",
       "      <td>0.437216</td>\n",
       "    </tr>\n",
       "  </tbody>\n",
       "</table>\n",
       "<p>651 rows × 4 columns</p>\n",
       "</div>"
      ],
      "text/plain": [
       "     pos_sec  frame  emotion  probability\n",
       "0       6.36    160    Angry     0.018778\n",
       "1       6.68    168    Angry     0.032896\n",
       "2       7.00    176    Angry     0.073128\n",
       "3       7.32    184    Angry     0.047606\n",
       "4       7.32    184    Angry     0.032855\n",
       "..       ...    ...      ...          ...\n",
       "646    93.08   2328  Neutral     0.195752\n",
       "647    93.40   2336  Neutral     0.358018\n",
       "648    93.72   2344  Neutral     0.512138\n",
       "649    94.04   2352  Neutral     0.473076\n",
       "650    94.36   2360  Neutral     0.437216\n",
       "\n",
       "[651 rows x 4 columns]"
      ]
     },
     "execution_count": 7,
     "metadata": {},
     "output_type": "execute_result"
    }
   ],
   "source": [
    "df_plotting"
   ]
  },
  {
   "cell_type": "code",
   "execution_count": null,
   "metadata": {},
   "outputs": [
    {
     "data": {
      "text/plain": [
       "'\\n        face_landmarks = face_recognition.face_landmarks(rgb_frame, [face_location])[0]\\n    for i, face_landmark in enumerate(face_landmarks):\\n        if not face_landmark:\\n            continue\\n\\n        if i < len(face_locations):\\n            face_encoding = face_recognition.face_encodings(rgb_frame, [face_locations[i]])[0]\\n        else:\\n            continue            \\n        current_individual_ids = []\\n\\n        # Compare the current face encoding with the existing face embeddings\\n        for individual_id, individual_face_encoding in face_embeddings.items():\\n            if face_recognition.compare_faces([individual_face_encoding], face_encoding)[0]:\\n                current_individual_ids.append(individual_id)\\n                break\\n        else:\\n            individual_id_counter += 1\\n            current_individual_ids.append(individual_id_counter)\\n            face_embeddings[individual_id_counter] = face_encoding\\n    '"
      ]
     },
     "execution_count": 8,
     "metadata": {},
     "output_type": "execute_result"
    }
   ],
   "source": [
    "\"\"\"\n",
    "        face_landmarks = face_recognition.face_landmarks(rgb_frame, [face_location])[0]\n",
    "    for i, face_landmark in enumerate(face_landmarks):\n",
    "        if not face_landmark:\n",
    "            continue\n",
    "\n",
    "        if i < len(face_locations):\n",
    "            face_encoding = face_recognition.face_encodings(rgb_frame, [face_locations[i]])[0]\n",
    "        else:\n",
    "            continue            \n",
    "        current_individual_ids = []\n",
    "\n",
    "        # Compare the current face encoding with the existing face embeddings\n",
    "        for individual_id, individual_face_encoding in face_embeddings.items():\n",
    "            if face_recognition.compare_faces([individual_face_encoding], face_encoding)[0]:\n",
    "                current_individual_ids.append(individual_id)\n",
    "                break\n",
    "        else:\n",
    "            individual_id_counter += 1\n",
    "            current_individual_ids.append(individual_id_counter)\n",
    "            face_embeddings[individual_id_counter] = face_encoding\n",
    "    \"\"\""
   ]
  },
  {
   "cell_type": "code",
   "execution_count": null,
   "metadata": {},
   "outputs": [],
   "source": [
    "df_overview  = get_overview_df(emotions, frame_info, frame_info_cols=['pos_sec', 'frame'])"
   ]
  },
  {
   "cell_type": "code",
   "execution_count": null,
   "metadata": {},
   "outputs": [
    {
     "data": {
      "text/html": [
       "<div>\n",
       "<style scoped>\n",
       "    .dataframe tbody tr th:only-of-type {\n",
       "        vertical-align: middle;\n",
       "    }\n",
       "\n",
       "    .dataframe tbody tr th {\n",
       "        vertical-align: top;\n",
       "    }\n",
       "\n",
       "    .dataframe thead th {\n",
       "        text-align: right;\n",
       "    }\n",
       "</style>\n",
       "<table border=\"1\" class=\"dataframe\">\n",
       "  <thead>\n",
       "    <tr style=\"text-align: right;\">\n",
       "      <th></th>\n",
       "      <th>Angry</th>\n",
       "      <th>Disgust</th>\n",
       "      <th>Fear</th>\n",
       "      <th>Happy</th>\n",
       "      <th>Sad</th>\n",
       "      <th>Surprise</th>\n",
       "      <th>Neutral</th>\n",
       "      <th>pos_sec</th>\n",
       "      <th>frame</th>\n",
       "    </tr>\n",
       "  </thead>\n",
       "  <tbody>\n",
       "    <tr>\n",
       "      <th>0</th>\n",
       "      <td>0.018778</td>\n",
       "      <td>0.003345</td>\n",
       "      <td>0.039960</td>\n",
       "      <td>0.003450</td>\n",
       "      <td>0.374159</td>\n",
       "      <td>0.111742</td>\n",
       "      <td>0.448565</td>\n",
       "      <td>6.36</td>\n",
       "      <td>160</td>\n",
       "    </tr>\n",
       "    <tr>\n",
       "      <th>1</th>\n",
       "      <td>0.032896</td>\n",
       "      <td>0.000055</td>\n",
       "      <td>0.493439</td>\n",
       "      <td>0.000659</td>\n",
       "      <td>0.127527</td>\n",
       "      <td>0.264904</td>\n",
       "      <td>0.080519</td>\n",
       "      <td>6.68</td>\n",
       "      <td>168</td>\n",
       "    </tr>\n",
       "    <tr>\n",
       "      <th>2</th>\n",
       "      <td>0.073128</td>\n",
       "      <td>0.000128</td>\n",
       "      <td>0.169718</td>\n",
       "      <td>0.010384</td>\n",
       "      <td>0.150450</td>\n",
       "      <td>0.082508</td>\n",
       "      <td>0.513685</td>\n",
       "      <td>7.00</td>\n",
       "      <td>176</td>\n",
       "    </tr>\n",
       "    <tr>\n",
       "      <th>3</th>\n",
       "      <td>0.047606</td>\n",
       "      <td>0.000112</td>\n",
       "      <td>0.224378</td>\n",
       "      <td>0.004717</td>\n",
       "      <td>0.230398</td>\n",
       "      <td>0.052003</td>\n",
       "      <td>0.440787</td>\n",
       "      <td>7.32</td>\n",
       "      <td>184</td>\n",
       "    </tr>\n",
       "    <tr>\n",
       "      <th>4</th>\n",
       "      <td>0.032855</td>\n",
       "      <td>0.005101</td>\n",
       "      <td>0.083288</td>\n",
       "      <td>0.663063</td>\n",
       "      <td>0.056687</td>\n",
       "      <td>0.020283</td>\n",
       "      <td>0.138723</td>\n",
       "      <td>7.32</td>\n",
       "      <td>184</td>\n",
       "    </tr>\n",
       "    <tr>\n",
       "      <th>5</th>\n",
       "      <td>0.040339</td>\n",
       "      <td>0.000191</td>\n",
       "      <td>0.342667</td>\n",
       "      <td>0.004715</td>\n",
       "      <td>0.192386</td>\n",
       "      <td>0.059851</td>\n",
       "      <td>0.359850</td>\n",
       "      <td>7.64</td>\n",
       "      <td>192</td>\n",
       "    </tr>\n",
       "    <tr>\n",
       "      <th>6</th>\n",
       "      <td>0.033385</td>\n",
       "      <td>0.000181</td>\n",
       "      <td>0.178444</td>\n",
       "      <td>0.006105</td>\n",
       "      <td>0.160254</td>\n",
       "      <td>0.063582</td>\n",
       "      <td>0.558050</td>\n",
       "      <td>7.96</td>\n",
       "      <td>200</td>\n",
       "    </tr>\n",
       "    <tr>\n",
       "      <th>7</th>\n",
       "      <td>0.050084</td>\n",
       "      <td>0.000148</td>\n",
       "      <td>0.227702</td>\n",
       "      <td>0.007377</td>\n",
       "      <td>0.193296</td>\n",
       "      <td>0.068762</td>\n",
       "      <td>0.452632</td>\n",
       "      <td>8.28</td>\n",
       "      <td>208</td>\n",
       "    </tr>\n",
       "    <tr>\n",
       "      <th>8</th>\n",
       "      <td>0.057740</td>\n",
       "      <td>0.000318</td>\n",
       "      <td>0.229091</td>\n",
       "      <td>0.007289</td>\n",
       "      <td>0.185727</td>\n",
       "      <td>0.018300</td>\n",
       "      <td>0.501536</td>\n",
       "      <td>8.60</td>\n",
       "      <td>216</td>\n",
       "    </tr>\n",
       "    <tr>\n",
       "      <th>9</th>\n",
       "      <td>0.035875</td>\n",
       "      <td>0.000187</td>\n",
       "      <td>0.186242</td>\n",
       "      <td>0.004120</td>\n",
       "      <td>0.159717</td>\n",
       "      <td>0.108983</td>\n",
       "      <td>0.504876</td>\n",
       "      <td>8.92</td>\n",
       "      <td>224</td>\n",
       "    </tr>\n",
       "    <tr>\n",
       "      <th>10</th>\n",
       "      <td>0.024338</td>\n",
       "      <td>0.000035</td>\n",
       "      <td>0.173274</td>\n",
       "      <td>0.001206</td>\n",
       "      <td>0.160242</td>\n",
       "      <td>0.066210</td>\n",
       "      <td>0.574694</td>\n",
       "      <td>9.24</td>\n",
       "      <td>232</td>\n",
       "    </tr>\n",
       "    <tr>\n",
       "      <th>11</th>\n",
       "      <td>0.045851</td>\n",
       "      <td>0.000029</td>\n",
       "      <td>0.180795</td>\n",
       "      <td>0.004371</td>\n",
       "      <td>0.294436</td>\n",
       "      <td>0.016733</td>\n",
       "      <td>0.457785</td>\n",
       "      <td>9.56</td>\n",
       "      <td>240</td>\n",
       "    </tr>\n",
       "    <tr>\n",
       "      <th>12</th>\n",
       "      <td>0.045631</td>\n",
       "      <td>0.000138</td>\n",
       "      <td>0.242500</td>\n",
       "      <td>0.005321</td>\n",
       "      <td>0.238077</td>\n",
       "      <td>0.034112</td>\n",
       "      <td>0.434221</td>\n",
       "      <td>9.88</td>\n",
       "      <td>248</td>\n",
       "    </tr>\n",
       "    <tr>\n",
       "      <th>13</th>\n",
       "      <td>0.063213</td>\n",
       "      <td>0.000225</td>\n",
       "      <td>0.339069</td>\n",
       "      <td>0.004860</td>\n",
       "      <td>0.200476</td>\n",
       "      <td>0.098809</td>\n",
       "      <td>0.293349</td>\n",
       "      <td>10.20</td>\n",
       "      <td>256</td>\n",
       "    </tr>\n",
       "    <tr>\n",
       "      <th>14</th>\n",
       "      <td>0.035521</td>\n",
       "      <td>0.000001</td>\n",
       "      <td>0.061840</td>\n",
       "      <td>0.000043</td>\n",
       "      <td>0.231903</td>\n",
       "      <td>0.067435</td>\n",
       "      <td>0.603258</td>\n",
       "      <td>19.80</td>\n",
       "      <td>496</td>\n",
       "    </tr>\n",
       "    <tr>\n",
       "      <th>15</th>\n",
       "      <td>0.028781</td>\n",
       "      <td>0.000037</td>\n",
       "      <td>0.378031</td>\n",
       "      <td>0.002683</td>\n",
       "      <td>0.015127</td>\n",
       "      <td>0.513930</td>\n",
       "      <td>0.061413</td>\n",
       "      <td>20.12</td>\n",
       "      <td>504</td>\n",
       "    </tr>\n",
       "    <tr>\n",
       "      <th>16</th>\n",
       "      <td>0.007246</td>\n",
       "      <td>0.000018</td>\n",
       "      <td>0.036265</td>\n",
       "      <td>0.088872</td>\n",
       "      <td>0.045020</td>\n",
       "      <td>0.018019</td>\n",
       "      <td>0.804560</td>\n",
       "      <td>20.44</td>\n",
       "      <td>512</td>\n",
       "    </tr>\n",
       "    <tr>\n",
       "      <th>17</th>\n",
       "      <td>0.027990</td>\n",
       "      <td>0.000023</td>\n",
       "      <td>0.080344</td>\n",
       "      <td>0.062004</td>\n",
       "      <td>0.091618</td>\n",
       "      <td>0.043307</td>\n",
       "      <td>0.694713</td>\n",
       "      <td>20.76</td>\n",
       "      <td>520</td>\n",
       "    </tr>\n",
       "    <tr>\n",
       "      <th>18</th>\n",
       "      <td>0.031887</td>\n",
       "      <td>0.000030</td>\n",
       "      <td>0.074217</td>\n",
       "      <td>0.057275</td>\n",
       "      <td>0.123034</td>\n",
       "      <td>0.043487</td>\n",
       "      <td>0.670071</td>\n",
       "      <td>21.08</td>\n",
       "      <td>528</td>\n",
       "    </tr>\n",
       "    <tr>\n",
       "      <th>19</th>\n",
       "      <td>0.031951</td>\n",
       "      <td>0.000038</td>\n",
       "      <td>0.123255</td>\n",
       "      <td>0.128526</td>\n",
       "      <td>0.134129</td>\n",
       "      <td>0.022195</td>\n",
       "      <td>0.559906</td>\n",
       "      <td>21.40</td>\n",
       "      <td>536</td>\n",
       "    </tr>\n",
       "    <tr>\n",
       "      <th>20</th>\n",
       "      <td>0.379197</td>\n",
       "      <td>0.042690</td>\n",
       "      <td>0.187329</td>\n",
       "      <td>0.123393</td>\n",
       "      <td>0.090479</td>\n",
       "      <td>0.017950</td>\n",
       "      <td>0.158962</td>\n",
       "      <td>21.72</td>\n",
       "      <td>544</td>\n",
       "    </tr>\n",
       "    <tr>\n",
       "      <th>21</th>\n",
       "      <td>0.095038</td>\n",
       "      <td>0.006924</td>\n",
       "      <td>0.169026</td>\n",
       "      <td>0.231582</td>\n",
       "      <td>0.131668</td>\n",
       "      <td>0.009417</td>\n",
       "      <td>0.356345</td>\n",
       "      <td>22.04</td>\n",
       "      <td>552</td>\n",
       "    </tr>\n",
       "    <tr>\n",
       "      <th>22</th>\n",
       "      <td>0.038538</td>\n",
       "      <td>0.000799</td>\n",
       "      <td>0.111128</td>\n",
       "      <td>0.144499</td>\n",
       "      <td>0.187708</td>\n",
       "      <td>0.036771</td>\n",
       "      <td>0.480558</td>\n",
       "      <td>22.36</td>\n",
       "      <td>560</td>\n",
       "    </tr>\n",
       "    <tr>\n",
       "      <th>23</th>\n",
       "      <td>0.020789</td>\n",
       "      <td>0.000015</td>\n",
       "      <td>0.093164</td>\n",
       "      <td>0.095585</td>\n",
       "      <td>0.114562</td>\n",
       "      <td>0.025038</td>\n",
       "      <td>0.650847</td>\n",
       "      <td>22.68</td>\n",
       "      <td>568</td>\n",
       "    </tr>\n",
       "    <tr>\n",
       "      <th>24</th>\n",
       "      <td>0.020502</td>\n",
       "      <td>0.000050</td>\n",
       "      <td>0.081421</td>\n",
       "      <td>0.102965</td>\n",
       "      <td>0.132055</td>\n",
       "      <td>0.031554</td>\n",
       "      <td>0.631453</td>\n",
       "      <td>23.00</td>\n",
       "      <td>576</td>\n",
       "    </tr>\n",
       "    <tr>\n",
       "      <th>25</th>\n",
       "      <td>0.021806</td>\n",
       "      <td>0.000053</td>\n",
       "      <td>0.079996</td>\n",
       "      <td>0.074594</td>\n",
       "      <td>0.147106</td>\n",
       "      <td>0.023682</td>\n",
       "      <td>0.652764</td>\n",
       "      <td>23.32</td>\n",
       "      <td>584</td>\n",
       "    </tr>\n",
       "    <tr>\n",
       "      <th>26</th>\n",
       "      <td>0.061146</td>\n",
       "      <td>0.001488</td>\n",
       "      <td>0.350284</td>\n",
       "      <td>0.002575</td>\n",
       "      <td>0.117844</td>\n",
       "      <td>0.248204</td>\n",
       "      <td>0.218461</td>\n",
       "      <td>33.24</td>\n",
       "      <td>832</td>\n",
       "    </tr>\n",
       "    <tr>\n",
       "      <th>27</th>\n",
       "      <td>0.010243</td>\n",
       "      <td>0.000054</td>\n",
       "      <td>0.059463</td>\n",
       "      <td>0.007033</td>\n",
       "      <td>0.109517</td>\n",
       "      <td>0.027273</td>\n",
       "      <td>0.786417</td>\n",
       "      <td>33.56</td>\n",
       "      <td>840</td>\n",
       "    </tr>\n",
       "    <tr>\n",
       "      <th>28</th>\n",
       "      <td>0.024320</td>\n",
       "      <td>0.000041</td>\n",
       "      <td>0.221788</td>\n",
       "      <td>0.010508</td>\n",
       "      <td>0.187324</td>\n",
       "      <td>0.034004</td>\n",
       "      <td>0.522017</td>\n",
       "      <td>33.88</td>\n",
       "      <td>848</td>\n",
       "    </tr>\n",
       "    <tr>\n",
       "      <th>29</th>\n",
       "      <td>0.016667</td>\n",
       "      <td>0.000015</td>\n",
       "      <td>0.098356</td>\n",
       "      <td>0.005249</td>\n",
       "      <td>0.108253</td>\n",
       "      <td>0.030250</td>\n",
       "      <td>0.741211</td>\n",
       "      <td>34.20</td>\n",
       "      <td>856</td>\n",
       "    </tr>\n",
       "  </tbody>\n",
       "</table>\n",
       "</div>"
      ],
      "text/plain": [
       "       Angry   Disgust      Fear     Happy       Sad  Surprise   Neutral  \\\n",
       "0   0.018778  0.003345  0.039960  0.003450  0.374159  0.111742  0.448565   \n",
       "1   0.032896  0.000055  0.493439  0.000659  0.127527  0.264904  0.080519   \n",
       "2   0.073128  0.000128  0.169718  0.010384  0.150450  0.082508  0.513685   \n",
       "3   0.047606  0.000112  0.224378  0.004717  0.230398  0.052003  0.440787   \n",
       "4   0.032855  0.005101  0.083288  0.663063  0.056687  0.020283  0.138723   \n",
       "5   0.040339  0.000191  0.342667  0.004715  0.192386  0.059851  0.359850   \n",
       "6   0.033385  0.000181  0.178444  0.006105  0.160254  0.063582  0.558050   \n",
       "7   0.050084  0.000148  0.227702  0.007377  0.193296  0.068762  0.452632   \n",
       "8   0.057740  0.000318  0.229091  0.007289  0.185727  0.018300  0.501536   \n",
       "9   0.035875  0.000187  0.186242  0.004120  0.159717  0.108983  0.504876   \n",
       "10  0.024338  0.000035  0.173274  0.001206  0.160242  0.066210  0.574694   \n",
       "11  0.045851  0.000029  0.180795  0.004371  0.294436  0.016733  0.457785   \n",
       "12  0.045631  0.000138  0.242500  0.005321  0.238077  0.034112  0.434221   \n",
       "13  0.063213  0.000225  0.339069  0.004860  0.200476  0.098809  0.293349   \n",
       "14  0.035521  0.000001  0.061840  0.000043  0.231903  0.067435  0.603258   \n",
       "15  0.028781  0.000037  0.378031  0.002683  0.015127  0.513930  0.061413   \n",
       "16  0.007246  0.000018  0.036265  0.088872  0.045020  0.018019  0.804560   \n",
       "17  0.027990  0.000023  0.080344  0.062004  0.091618  0.043307  0.694713   \n",
       "18  0.031887  0.000030  0.074217  0.057275  0.123034  0.043487  0.670071   \n",
       "19  0.031951  0.000038  0.123255  0.128526  0.134129  0.022195  0.559906   \n",
       "20  0.379197  0.042690  0.187329  0.123393  0.090479  0.017950  0.158962   \n",
       "21  0.095038  0.006924  0.169026  0.231582  0.131668  0.009417  0.356345   \n",
       "22  0.038538  0.000799  0.111128  0.144499  0.187708  0.036771  0.480558   \n",
       "23  0.020789  0.000015  0.093164  0.095585  0.114562  0.025038  0.650847   \n",
       "24  0.020502  0.000050  0.081421  0.102965  0.132055  0.031554  0.631453   \n",
       "25  0.021806  0.000053  0.079996  0.074594  0.147106  0.023682  0.652764   \n",
       "26  0.061146  0.001488  0.350284  0.002575  0.117844  0.248204  0.218461   \n",
       "27  0.010243  0.000054  0.059463  0.007033  0.109517  0.027273  0.786417   \n",
       "28  0.024320  0.000041  0.221788  0.010508  0.187324  0.034004  0.522017   \n",
       "29  0.016667  0.000015  0.098356  0.005249  0.108253  0.030250  0.741211   \n",
       "\n",
       "    pos_sec  frame  \n",
       "0      6.36    160  \n",
       "1      6.68    168  \n",
       "2      7.00    176  \n",
       "3      7.32    184  \n",
       "4      7.32    184  \n",
       "5      7.64    192  \n",
       "6      7.96    200  \n",
       "7      8.28    208  \n",
       "8      8.60    216  \n",
       "9      8.92    224  \n",
       "10     9.24    232  \n",
       "11     9.56    240  \n",
       "12     9.88    248  \n",
       "13    10.20    256  \n",
       "14    19.80    496  \n",
       "15    20.12    504  \n",
       "16    20.44    512  \n",
       "17    20.76    520  \n",
       "18    21.08    528  \n",
       "19    21.40    536  \n",
       "20    21.72    544  \n",
       "21    22.04    552  \n",
       "22    22.36    560  \n",
       "23    22.68    568  \n",
       "24    23.00    576  \n",
       "25    23.32    584  \n",
       "26    33.24    832  \n",
       "27    33.56    840  \n",
       "28    33.88    848  \n",
       "29    34.20    856  "
      ]
     },
     "execution_count": 10,
     "metadata": {},
     "output_type": "execute_result"
    }
   ],
   "source": [
    "df_overview.head(30)"
   ]
  },
  {
   "cell_type": "code",
   "execution_count": null,
   "metadata": {},
   "outputs": [
    {
     "data": {
      "text/plain": [
       "0"
      ]
     },
     "execution_count": 11,
     "metadata": {},
     "output_type": "execute_result"
    }
   ],
   "source": [
    "len(face_locations)"
   ]
  },
  {
   "cell_type": "code",
   "execution_count": null,
   "metadata": {},
   "outputs": [
    {
     "data": {
      "text/plain": [
       "array([], dtype=float64)"
      ]
     },
     "execution_count": 12,
     "metadata": {},
     "output_type": "execute_result"
    }
   ],
   "source": [
    "face_locations"
   ]
  },
  {
   "cell_type": "code",
   "execution_count": null,
   "metadata": {},
   "outputs": [
    {
     "name": "stdout",
     "output_type": "stream",
     "text": [
      "Title: The 7 basic emotions - Do you recognise all facial expressions?\n",
      "Length: 115 seconds\n",
      "Available video quality options:\n"
     ]
    },
    {
     "ename": "KeyboardInterrupt",
     "evalue": "",
     "output_type": "error",
     "traceback": [
      "\u001b[0;31m---------------------------------------------------------------------------\u001b[0m",
      "\u001b[0;31mKeyboardInterrupt\u001b[0m                         Traceback (most recent call last)",
      "Cell \u001b[0;32mIn[13], line 39\u001b[0m\n\u001b[1;32m     36\u001b[0m cv2\u001b[39m.\u001b[39mimshow(\u001b[39m\"\u001b[39m\u001b[39mFaces found\u001b[39m\u001b[39m\"\u001b[39m, frame)\n\u001b[1;32m     38\u001b[0m \u001b[39m# Wait for Esc key to stop\u001b[39;00m\n\u001b[0;32m---> 39\u001b[0m k \u001b[39m=\u001b[39m cv2\u001b[39m.\u001b[39;49mwaitKey(\u001b[39m30\u001b[39;49m) \u001b[39m&\u001b[39m \u001b[39m0xff\u001b[39m\n\u001b[1;32m     40\u001b[0m \u001b[39mif\u001b[39;00m k \u001b[39m==\u001b[39m \u001b[39m27\u001b[39m:\n\u001b[1;32m     41\u001b[0m     \u001b[39mbreak\u001b[39;00m\n",
      "\u001b[0;31mKeyboardInterrupt\u001b[0m: "
     ]
    }
   ],
   "source": [
    "all_locations = []\n",
    "\n",
    "video = get_stream(path)\n",
    "i = 0\n",
    "all_locations = []\n",
    "# Loop through each frame of the video\n",
    "while True:\n",
    "\n",
    "    # Read the next frame from the video\n",
    "    ret, frame = video.read()\n",
    "\n",
    "    # Check if the frame was successfully read\n",
    "    if not ret:\n",
    "        break\n",
    "\n",
    "    # Increment the frame counter\n",
    "    current_frame_nr = int(video.get(cv2.CAP_PROP_POS_FRAMES))\n",
    "\n",
    "    # Skip frames based on the frames_to_skip parameter\n",
    "    if current_frame_nr % frames_to_skip != 0:\n",
    "        continue\n",
    "    \n",
    "    # Find faces within a frame and return list of coordinates of bounding boxes\n",
    "    face_locations = detect_faces(frame, face_detector, model_type)\n",
    "\n",
    "    all_locations.append(face_locations)\n",
    "    \n",
    "    if len(all_locations)>5000: break\n",
    "    \n",
    "    if face_locations is None:\n",
    "        continue\n",
    "\n",
    "    for (y_min, y_max, x_min, x_max) in face_locations:\n",
    "         cv2.rectangle(frame, (x_min, y_min), (x_max, y_max), (0, 255, 0), 2)\n",
    "    \n",
    "    cv2.imshow(\"Faces found\", frame)\n",
    "\n",
    "    # Wait for Esc key to stop\n",
    "    k = cv2.waitKey(30) & 0xff\n",
    "    if k == 27:\n",
    "        break\n",
    "\n",
    "# Close the window\n",
    "video.release()\n",
    "  \n",
    "# De-allocate any associated memory usage\n",
    "cv2.destroyAllWindows() "
   ]
  },
  {
   "cell_type": "code",
   "execution_count": null,
   "metadata": {},
   "outputs": [
    {
     "data": {
      "text/html": [
       "<div>\n",
       "<style scoped>\n",
       "    .dataframe tbody tr th:only-of-type {\n",
       "        vertical-align: middle;\n",
       "    }\n",
       "\n",
       "    .dataframe tbody tr th {\n",
       "        vertical-align: top;\n",
       "    }\n",
       "\n",
       "    .dataframe thead th {\n",
       "        text-align: right;\n",
       "    }\n",
       "</style>\n",
       "<table border=\"1\" class=\"dataframe\">\n",
       "  <thead>\n",
       "    <tr style=\"text-align: right;\">\n",
       "      <th></th>\n",
       "      <th>Angry</th>\n",
       "      <th>Disgust</th>\n",
       "      <th>Fear</th>\n",
       "      <th>Happy</th>\n",
       "      <th>Sad</th>\n",
       "      <th>Surprise</th>\n",
       "      <th>Neutral</th>\n",
       "      <th>pos_sec</th>\n",
       "      <th>frame</th>\n",
       "    </tr>\n",
       "  </thead>\n",
       "  <tbody>\n",
       "    <tr>\n",
       "      <th>0</th>\n",
       "      <td>0.059232</td>\n",
       "      <td>3.877837e-03</td>\n",
       "      <td>0.097523</td>\n",
       "      <td>0.005046</td>\n",
       "      <td>0.186297</td>\n",
       "      <td>0.431321</td>\n",
       "      <td>0.216703</td>\n",
       "      <td>6.44</td>\n",
       "      <td>162</td>\n",
       "    </tr>\n",
       "    <tr>\n",
       "      <th>1</th>\n",
       "      <td>0.073398</td>\n",
       "      <td>1.963659e-04</td>\n",
       "      <td>0.277670</td>\n",
       "      <td>0.004905</td>\n",
       "      <td>0.173325</td>\n",
       "      <td>0.199261</td>\n",
       "      <td>0.271245</td>\n",
       "      <td>6.80</td>\n",
       "      <td>171</td>\n",
       "    </tr>\n",
       "    <tr>\n",
       "      <th>2</th>\n",
       "      <td>0.052077</td>\n",
       "      <td>1.853169e-04</td>\n",
       "      <td>0.207110</td>\n",
       "      <td>0.007608</td>\n",
       "      <td>0.192560</td>\n",
       "      <td>0.050912</td>\n",
       "      <td>0.489548</td>\n",
       "      <td>7.16</td>\n",
       "      <td>180</td>\n",
       "    </tr>\n",
       "    <tr>\n",
       "      <th>3</th>\n",
       "      <td>0.031248</td>\n",
       "      <td>8.328221e-04</td>\n",
       "      <td>0.191747</td>\n",
       "      <td>0.006120</td>\n",
       "      <td>0.145878</td>\n",
       "      <td>0.004688</td>\n",
       "      <td>0.619487</td>\n",
       "      <td>7.52</td>\n",
       "      <td>189</td>\n",
       "    </tr>\n",
       "    <tr>\n",
       "      <th>4</th>\n",
       "      <td>0.033966</td>\n",
       "      <td>2.194334e-04</td>\n",
       "      <td>0.182574</td>\n",
       "      <td>0.006758</td>\n",
       "      <td>0.168378</td>\n",
       "      <td>0.055989</td>\n",
       "      <td>0.552116</td>\n",
       "      <td>7.88</td>\n",
       "      <td>198</td>\n",
       "    </tr>\n",
       "    <tr>\n",
       "      <th>5</th>\n",
       "      <td>0.046373</td>\n",
       "      <td>1.317581e-04</td>\n",
       "      <td>0.169141</td>\n",
       "      <td>0.007164</td>\n",
       "      <td>0.171552</td>\n",
       "      <td>0.088843</td>\n",
       "      <td>0.516795</td>\n",
       "      <td>8.24</td>\n",
       "      <td>207</td>\n",
       "    </tr>\n",
       "    <tr>\n",
       "      <th>6</th>\n",
       "      <td>0.057740</td>\n",
       "      <td>3.179861e-04</td>\n",
       "      <td>0.229091</td>\n",
       "      <td>0.007289</td>\n",
       "      <td>0.185727</td>\n",
       "      <td>0.018300</td>\n",
       "      <td>0.501536</td>\n",
       "      <td>8.60</td>\n",
       "      <td>216</td>\n",
       "    </tr>\n",
       "    <tr>\n",
       "      <th>7</th>\n",
       "      <td>0.043726</td>\n",
       "      <td>2.317494e-04</td>\n",
       "      <td>0.189415</td>\n",
       "      <td>0.004242</td>\n",
       "      <td>0.144814</td>\n",
       "      <td>0.128766</td>\n",
       "      <td>0.488806</td>\n",
       "      <td>8.96</td>\n",
       "      <td>225</td>\n",
       "    </tr>\n",
       "    <tr>\n",
       "      <th>8</th>\n",
       "      <td>0.054242</td>\n",
       "      <td>8.251429e-05</td>\n",
       "      <td>0.139688</td>\n",
       "      <td>0.001346</td>\n",
       "      <td>0.162679</td>\n",
       "      <td>0.183061</td>\n",
       "      <td>0.458901</td>\n",
       "      <td>9.32</td>\n",
       "      <td>234</td>\n",
       "    </tr>\n",
       "    <tr>\n",
       "      <th>9</th>\n",
       "      <td>0.091230</td>\n",
       "      <td>6.044417e-05</td>\n",
       "      <td>0.181909</td>\n",
       "      <td>0.004695</td>\n",
       "      <td>0.234625</td>\n",
       "      <td>0.052586</td>\n",
       "      <td>0.434896</td>\n",
       "      <td>9.68</td>\n",
       "      <td>243</td>\n",
       "    </tr>\n",
       "    <tr>\n",
       "      <th>10</th>\n",
       "      <td>0.045993</td>\n",
       "      <td>6.468043e-05</td>\n",
       "      <td>0.211943</td>\n",
       "      <td>0.006611</td>\n",
       "      <td>0.234086</td>\n",
       "      <td>0.035015</td>\n",
       "      <td>0.466287</td>\n",
       "      <td>10.04</td>\n",
       "      <td>252</td>\n",
       "    </tr>\n",
       "    <tr>\n",
       "      <th>11</th>\n",
       "      <td>0.059793</td>\n",
       "      <td>1.726003e-04</td>\n",
       "      <td>0.310037</td>\n",
       "      <td>0.003945</td>\n",
       "      <td>0.207627</td>\n",
       "      <td>0.113347</td>\n",
       "      <td>0.305079</td>\n",
       "      <td>10.40</td>\n",
       "      <td>261</td>\n",
       "    </tr>\n",
       "    <tr>\n",
       "      <th>12</th>\n",
       "      <td>0.040736</td>\n",
       "      <td>9.947662e-03</td>\n",
       "      <td>0.296493</td>\n",
       "      <td>0.026166</td>\n",
       "      <td>0.218220</td>\n",
       "      <td>0.024590</td>\n",
       "      <td>0.383847</td>\n",
       "      <td>10.40</td>\n",
       "      <td>261</td>\n",
       "    </tr>\n",
       "    <tr>\n",
       "      <th>13</th>\n",
       "      <td>0.028781</td>\n",
       "      <td>3.670100e-05</td>\n",
       "      <td>0.378031</td>\n",
       "      <td>0.002683</td>\n",
       "      <td>0.015127</td>\n",
       "      <td>0.513930</td>\n",
       "      <td>0.061413</td>\n",
       "      <td>20.12</td>\n",
       "      <td>504</td>\n",
       "    </tr>\n",
       "    <tr>\n",
       "      <th>14</th>\n",
       "      <td>0.023541</td>\n",
       "      <td>3.973334e-05</td>\n",
       "      <td>0.078348</td>\n",
       "      <td>0.101729</td>\n",
       "      <td>0.074810</td>\n",
       "      <td>0.038642</td>\n",
       "      <td>0.682891</td>\n",
       "      <td>20.48</td>\n",
       "      <td>513</td>\n",
       "    </tr>\n",
       "    <tr>\n",
       "      <th>15</th>\n",
       "      <td>0.021770</td>\n",
       "      <td>9.687338e-05</td>\n",
       "      <td>0.060765</td>\n",
       "      <td>0.080150</td>\n",
       "      <td>0.075509</td>\n",
       "      <td>0.037243</td>\n",
       "      <td>0.724467</td>\n",
       "      <td>20.84</td>\n",
       "      <td>522</td>\n",
       "    </tr>\n",
       "    <tr>\n",
       "      <th>16</th>\n",
       "      <td>0.020348</td>\n",
       "      <td>3.160678e-05</td>\n",
       "      <td>0.113116</td>\n",
       "      <td>0.177406</td>\n",
       "      <td>0.120881</td>\n",
       "      <td>0.020466</td>\n",
       "      <td>0.547751</td>\n",
       "      <td>21.20</td>\n",
       "      <td>531</td>\n",
       "    </tr>\n",
       "    <tr>\n",
       "      <th>17</th>\n",
       "      <td>0.157289</td>\n",
       "      <td>2.792067e-02</td>\n",
       "      <td>0.212356</td>\n",
       "      <td>0.128972</td>\n",
       "      <td>0.278538</td>\n",
       "      <td>0.014260</td>\n",
       "      <td>0.180665</td>\n",
       "      <td>21.56</td>\n",
       "      <td>540</td>\n",
       "    </tr>\n",
       "    <tr>\n",
       "      <th>18</th>\n",
       "      <td>0.354819</td>\n",
       "      <td>8.519372e-02</td>\n",
       "      <td>0.180623</td>\n",
       "      <td>0.116555</td>\n",
       "      <td>0.115316</td>\n",
       "      <td>0.033869</td>\n",
       "      <td>0.113624</td>\n",
       "      <td>21.92</td>\n",
       "      <td>549</td>\n",
       "    </tr>\n",
       "    <tr>\n",
       "      <th>19</th>\n",
       "      <td>0.022622</td>\n",
       "      <td>4.216226e-05</td>\n",
       "      <td>0.070314</td>\n",
       "      <td>0.100839</td>\n",
       "      <td>0.171147</td>\n",
       "      <td>0.025505</td>\n",
       "      <td>0.609530</td>\n",
       "      <td>22.28</td>\n",
       "      <td>558</td>\n",
       "    </tr>\n",
       "    <tr>\n",
       "      <th>20</th>\n",
       "      <td>0.027535</td>\n",
       "      <td>1.032414e-04</td>\n",
       "      <td>0.072031</td>\n",
       "      <td>0.091054</td>\n",
       "      <td>0.155217</td>\n",
       "      <td>0.028447</td>\n",
       "      <td>0.625613</td>\n",
       "      <td>22.64</td>\n",
       "      <td>567</td>\n",
       "    </tr>\n",
       "    <tr>\n",
       "      <th>21</th>\n",
       "      <td>0.020502</td>\n",
       "      <td>5.046052e-05</td>\n",
       "      <td>0.081421</td>\n",
       "      <td>0.102965</td>\n",
       "      <td>0.132055</td>\n",
       "      <td>0.031554</td>\n",
       "      <td>0.631453</td>\n",
       "      <td>23.00</td>\n",
       "      <td>576</td>\n",
       "    </tr>\n",
       "    <tr>\n",
       "      <th>22</th>\n",
       "      <td>0.017331</td>\n",
       "      <td>2.470300e-05</td>\n",
       "      <td>0.057927</td>\n",
       "      <td>0.089591</td>\n",
       "      <td>0.147718</td>\n",
       "      <td>0.023246</td>\n",
       "      <td>0.664162</td>\n",
       "      <td>23.36</td>\n",
       "      <td>585</td>\n",
       "    </tr>\n",
       "    <tr>\n",
       "      <th>23</th>\n",
       "      <td>0.183520</td>\n",
       "      <td>4.146840e-03</td>\n",
       "      <td>0.487359</td>\n",
       "      <td>0.000061</td>\n",
       "      <td>0.028375</td>\n",
       "      <td>0.146545</td>\n",
       "      <td>0.149993</td>\n",
       "      <td>33.08</td>\n",
       "      <td>828</td>\n",
       "    </tr>\n",
       "    <tr>\n",
       "      <th>24</th>\n",
       "      <td>0.021077</td>\n",
       "      <td>4.192571e-05</td>\n",
       "      <td>0.153770</td>\n",
       "      <td>0.005810</td>\n",
       "      <td>0.201987</td>\n",
       "      <td>0.015689</td>\n",
       "      <td>0.601625</td>\n",
       "      <td>33.44</td>\n",
       "      <td>837</td>\n",
       "    </tr>\n",
       "    <tr>\n",
       "      <th>25</th>\n",
       "      <td>0.034284</td>\n",
       "      <td>6.956152e-05</td>\n",
       "      <td>0.155038</td>\n",
       "      <td>0.003375</td>\n",
       "      <td>0.164610</td>\n",
       "      <td>0.014903</td>\n",
       "      <td>0.627720</td>\n",
       "      <td>33.80</td>\n",
       "      <td>846</td>\n",
       "    </tr>\n",
       "    <tr>\n",
       "      <th>26</th>\n",
       "      <td>0.021096</td>\n",
       "      <td>8.488834e-05</td>\n",
       "      <td>0.149330</td>\n",
       "      <td>0.012120</td>\n",
       "      <td>0.128075</td>\n",
       "      <td>0.045162</td>\n",
       "      <td>0.644132</td>\n",
       "      <td>34.16</td>\n",
       "      <td>855</td>\n",
       "    </tr>\n",
       "    <tr>\n",
       "      <th>27</th>\n",
       "      <td>0.026279</td>\n",
       "      <td>4.669891e-05</td>\n",
       "      <td>0.172818</td>\n",
       "      <td>0.007562</td>\n",
       "      <td>0.174005</td>\n",
       "      <td>0.027934</td>\n",
       "      <td>0.591355</td>\n",
       "      <td>34.52</td>\n",
       "      <td>864</td>\n",
       "    </tr>\n",
       "    <tr>\n",
       "      <th>28</th>\n",
       "      <td>0.072846</td>\n",
       "      <td>9.044948e-04</td>\n",
       "      <td>0.105336</td>\n",
       "      <td>0.002759</td>\n",
       "      <td>0.116202</td>\n",
       "      <td>0.003338</td>\n",
       "      <td>0.698616</td>\n",
       "      <td>34.88</td>\n",
       "      <td>873</td>\n",
       "    </tr>\n",
       "    <tr>\n",
       "      <th>29</th>\n",
       "      <td>0.021160</td>\n",
       "      <td>3.615662e-05</td>\n",
       "      <td>0.092306</td>\n",
       "      <td>0.004518</td>\n",
       "      <td>0.109935</td>\n",
       "      <td>0.025141</td>\n",
       "      <td>0.746904</td>\n",
       "      <td>35.24</td>\n",
       "      <td>882</td>\n",
       "    </tr>\n",
       "    <tr>\n",
       "      <th>30</th>\n",
       "      <td>0.015017</td>\n",
       "      <td>9.198920e-05</td>\n",
       "      <td>0.126515</td>\n",
       "      <td>0.042340</td>\n",
       "      <td>0.145083</td>\n",
       "      <td>0.070657</td>\n",
       "      <td>0.600297</td>\n",
       "      <td>35.60</td>\n",
       "      <td>891</td>\n",
       "    </tr>\n",
       "    <tr>\n",
       "      <th>31</th>\n",
       "      <td>0.013954</td>\n",
       "      <td>1.242382e-04</td>\n",
       "      <td>0.149270</td>\n",
       "      <td>0.085643</td>\n",
       "      <td>0.105324</td>\n",
       "      <td>0.036170</td>\n",
       "      <td>0.609514</td>\n",
       "      <td>35.96</td>\n",
       "      <td>900</td>\n",
       "    </tr>\n",
       "    <tr>\n",
       "      <th>32</th>\n",
       "      <td>0.026688</td>\n",
       "      <td>1.357239e-04</td>\n",
       "      <td>0.075350</td>\n",
       "      <td>0.014623</td>\n",
       "      <td>0.115430</td>\n",
       "      <td>0.093807</td>\n",
       "      <td>0.673965</td>\n",
       "      <td>36.32</td>\n",
       "      <td>909</td>\n",
       "    </tr>\n",
       "    <tr>\n",
       "      <th>33</th>\n",
       "      <td>0.028736</td>\n",
       "      <td>3.720924e-05</td>\n",
       "      <td>0.098126</td>\n",
       "      <td>0.005448</td>\n",
       "      <td>0.124070</td>\n",
       "      <td>0.021737</td>\n",
       "      <td>0.721846</td>\n",
       "      <td>36.68</td>\n",
       "      <td>918</td>\n",
       "    </tr>\n",
       "    <tr>\n",
       "      <th>34</th>\n",
       "      <td>0.006250</td>\n",
       "      <td>7.997786e-05</td>\n",
       "      <td>0.259407</td>\n",
       "      <td>0.000892</td>\n",
       "      <td>0.013054</td>\n",
       "      <td>0.608970</td>\n",
       "      <td>0.111347</td>\n",
       "      <td>47.48</td>\n",
       "      <td>1188</td>\n",
       "    </tr>\n",
       "    <tr>\n",
       "      <th>35</th>\n",
       "      <td>0.015493</td>\n",
       "      <td>1.851473e-04</td>\n",
       "      <td>0.062436</td>\n",
       "      <td>0.032801</td>\n",
       "      <td>0.073563</td>\n",
       "      <td>0.065515</td>\n",
       "      <td>0.750008</td>\n",
       "      <td>47.84</td>\n",
       "      <td>1197</td>\n",
       "    </tr>\n",
       "    <tr>\n",
       "      <th>36</th>\n",
       "      <td>0.011445</td>\n",
       "      <td>2.893394e-05</td>\n",
       "      <td>0.049528</td>\n",
       "      <td>0.024163</td>\n",
       "      <td>0.144323</td>\n",
       "      <td>0.122195</td>\n",
       "      <td>0.648317</td>\n",
       "      <td>48.20</td>\n",
       "      <td>1206</td>\n",
       "    </tr>\n",
       "    <tr>\n",
       "      <th>37</th>\n",
       "      <td>0.007977</td>\n",
       "      <td>1.391404e-05</td>\n",
       "      <td>0.050094</td>\n",
       "      <td>0.029176</td>\n",
       "      <td>0.156164</td>\n",
       "      <td>0.111188</td>\n",
       "      <td>0.645387</td>\n",
       "      <td>48.56</td>\n",
       "      <td>1215</td>\n",
       "    </tr>\n",
       "    <tr>\n",
       "      <th>38</th>\n",
       "      <td>0.028446</td>\n",
       "      <td>8.811577e-05</td>\n",
       "      <td>0.069414</td>\n",
       "      <td>0.011682</td>\n",
       "      <td>0.183337</td>\n",
       "      <td>0.087574</td>\n",
       "      <td>0.619459</td>\n",
       "      <td>48.92</td>\n",
       "      <td>1224</td>\n",
       "    </tr>\n",
       "    <tr>\n",
       "      <th>39</th>\n",
       "      <td>0.000065</td>\n",
       "      <td>2.004628e-07</td>\n",
       "      <td>0.000127</td>\n",
       "      <td>0.996334</td>\n",
       "      <td>0.000119</td>\n",
       "      <td>0.000264</td>\n",
       "      <td>0.003091</td>\n",
       "      <td>49.28</td>\n",
       "      <td>1233</td>\n",
       "    </tr>\n",
       "    <tr>\n",
       "      <th>40</th>\n",
       "      <td>0.008543</td>\n",
       "      <td>3.986559e-05</td>\n",
       "      <td>0.055512</td>\n",
       "      <td>0.235269</td>\n",
       "      <td>0.105885</td>\n",
       "      <td>0.031766</td>\n",
       "      <td>0.562986</td>\n",
       "      <td>49.64</td>\n",
       "      <td>1242</td>\n",
       "    </tr>\n",
       "    <tr>\n",
       "      <th>41</th>\n",
       "      <td>0.009502</td>\n",
       "      <td>1.622496e-05</td>\n",
       "      <td>0.035738</td>\n",
       "      <td>0.106295</td>\n",
       "      <td>0.127227</td>\n",
       "      <td>0.058860</td>\n",
       "      <td>0.662361</td>\n",
       "      <td>50.00</td>\n",
       "      <td>1251</td>\n",
       "    </tr>\n",
       "    <tr>\n",
       "      <th>42</th>\n",
       "      <td>0.008106</td>\n",
       "      <td>1.161699e-05</td>\n",
       "      <td>0.047853</td>\n",
       "      <td>0.096229</td>\n",
       "      <td>0.114046</td>\n",
       "      <td>0.106457</td>\n",
       "      <td>0.627296</td>\n",
       "      <td>50.36</td>\n",
       "      <td>1260</td>\n",
       "    </tr>\n",
       "    <tr>\n",
       "      <th>43</th>\n",
       "      <td>0.224454</td>\n",
       "      <td>2.121883e-03</td>\n",
       "      <td>0.095180</td>\n",
       "      <td>0.433064</td>\n",
       "      <td>0.073171</td>\n",
       "      <td>0.011944</td>\n",
       "      <td>0.160065</td>\n",
       "      <td>52.16</td>\n",
       "      <td>1305</td>\n",
       "    </tr>\n",
       "    <tr>\n",
       "      <th>44</th>\n",
       "      <td>0.006053</td>\n",
       "      <td>1.259386e-04</td>\n",
       "      <td>0.393905</td>\n",
       "      <td>0.003972</td>\n",
       "      <td>0.143217</td>\n",
       "      <td>0.323060</td>\n",
       "      <td>0.129667</td>\n",
       "      <td>61.16</td>\n",
       "      <td>1530</td>\n",
       "    </tr>\n",
       "    <tr>\n",
       "      <th>45</th>\n",
       "      <td>0.171859</td>\n",
       "      <td>1.541320e-04</td>\n",
       "      <td>0.349702</td>\n",
       "      <td>0.004131</td>\n",
       "      <td>0.177519</td>\n",
       "      <td>0.099624</td>\n",
       "      <td>0.197012</td>\n",
       "      <td>61.52</td>\n",
       "      <td>1539</td>\n",
       "    </tr>\n",
       "    <tr>\n",
       "      <th>46</th>\n",
       "      <td>0.072506</td>\n",
       "      <td>1.361435e-04</td>\n",
       "      <td>0.249264</td>\n",
       "      <td>0.004657</td>\n",
       "      <td>0.173675</td>\n",
       "      <td>0.142801</td>\n",
       "      <td>0.356960</td>\n",
       "      <td>61.88</td>\n",
       "      <td>1548</td>\n",
       "    </tr>\n",
       "    <tr>\n",
       "      <th>47</th>\n",
       "      <td>0.054989</td>\n",
       "      <td>4.484238e-04</td>\n",
       "      <td>0.261222</td>\n",
       "      <td>0.031664</td>\n",
       "      <td>0.245188</td>\n",
       "      <td>0.050205</td>\n",
       "      <td>0.356283</td>\n",
       "      <td>61.88</td>\n",
       "      <td>1548</td>\n",
       "    </tr>\n",
       "    <tr>\n",
       "      <th>48</th>\n",
       "      <td>0.141316</td>\n",
       "      <td>1.316679e-04</td>\n",
       "      <td>0.328397</td>\n",
       "      <td>0.004315</td>\n",
       "      <td>0.198758</td>\n",
       "      <td>0.154530</td>\n",
       "      <td>0.172552</td>\n",
       "      <td>62.24</td>\n",
       "      <td>1557</td>\n",
       "    </tr>\n",
       "    <tr>\n",
       "      <th>49</th>\n",
       "      <td>0.136375</td>\n",
       "      <td>2.097087e-04</td>\n",
       "      <td>0.290000</td>\n",
       "      <td>0.002867</td>\n",
       "      <td>0.247273</td>\n",
       "      <td>0.092030</td>\n",
       "      <td>0.231246</td>\n",
       "      <td>62.60</td>\n",
       "      <td>1566</td>\n",
       "    </tr>\n",
       "  </tbody>\n",
       "</table>\n",
       "</div>"
      ],
      "text/plain": [
       "       Angry       Disgust      Fear     Happy       Sad  Surprise   Neutral  \\\n",
       "0   0.059232  3.877837e-03  0.097523  0.005046  0.186297  0.431321  0.216703   \n",
       "1   0.073398  1.963659e-04  0.277670  0.004905  0.173325  0.199261  0.271245   \n",
       "2   0.052077  1.853169e-04  0.207110  0.007608  0.192560  0.050912  0.489548   \n",
       "3   0.031248  8.328221e-04  0.191747  0.006120  0.145878  0.004688  0.619487   \n",
       "4   0.033966  2.194334e-04  0.182574  0.006758  0.168378  0.055989  0.552116   \n",
       "5   0.046373  1.317581e-04  0.169141  0.007164  0.171552  0.088843  0.516795   \n",
       "6   0.057740  3.179861e-04  0.229091  0.007289  0.185727  0.018300  0.501536   \n",
       "7   0.043726  2.317494e-04  0.189415  0.004242  0.144814  0.128766  0.488806   \n",
       "8   0.054242  8.251429e-05  0.139688  0.001346  0.162679  0.183061  0.458901   \n",
       "9   0.091230  6.044417e-05  0.181909  0.004695  0.234625  0.052586  0.434896   \n",
       "10  0.045993  6.468043e-05  0.211943  0.006611  0.234086  0.035015  0.466287   \n",
       "11  0.059793  1.726003e-04  0.310037  0.003945  0.207627  0.113347  0.305079   \n",
       "12  0.040736  9.947662e-03  0.296493  0.026166  0.218220  0.024590  0.383847   \n",
       "13  0.028781  3.670100e-05  0.378031  0.002683  0.015127  0.513930  0.061413   \n",
       "14  0.023541  3.973334e-05  0.078348  0.101729  0.074810  0.038642  0.682891   \n",
       "15  0.021770  9.687338e-05  0.060765  0.080150  0.075509  0.037243  0.724467   \n",
       "16  0.020348  3.160678e-05  0.113116  0.177406  0.120881  0.020466  0.547751   \n",
       "17  0.157289  2.792067e-02  0.212356  0.128972  0.278538  0.014260  0.180665   \n",
       "18  0.354819  8.519372e-02  0.180623  0.116555  0.115316  0.033869  0.113624   \n",
       "19  0.022622  4.216226e-05  0.070314  0.100839  0.171147  0.025505  0.609530   \n",
       "20  0.027535  1.032414e-04  0.072031  0.091054  0.155217  0.028447  0.625613   \n",
       "21  0.020502  5.046052e-05  0.081421  0.102965  0.132055  0.031554  0.631453   \n",
       "22  0.017331  2.470300e-05  0.057927  0.089591  0.147718  0.023246  0.664162   \n",
       "23  0.183520  4.146840e-03  0.487359  0.000061  0.028375  0.146545  0.149993   \n",
       "24  0.021077  4.192571e-05  0.153770  0.005810  0.201987  0.015689  0.601625   \n",
       "25  0.034284  6.956152e-05  0.155038  0.003375  0.164610  0.014903  0.627720   \n",
       "26  0.021096  8.488834e-05  0.149330  0.012120  0.128075  0.045162  0.644132   \n",
       "27  0.026279  4.669891e-05  0.172818  0.007562  0.174005  0.027934  0.591355   \n",
       "28  0.072846  9.044948e-04  0.105336  0.002759  0.116202  0.003338  0.698616   \n",
       "29  0.021160  3.615662e-05  0.092306  0.004518  0.109935  0.025141  0.746904   \n",
       "30  0.015017  9.198920e-05  0.126515  0.042340  0.145083  0.070657  0.600297   \n",
       "31  0.013954  1.242382e-04  0.149270  0.085643  0.105324  0.036170  0.609514   \n",
       "32  0.026688  1.357239e-04  0.075350  0.014623  0.115430  0.093807  0.673965   \n",
       "33  0.028736  3.720924e-05  0.098126  0.005448  0.124070  0.021737  0.721846   \n",
       "34  0.006250  7.997786e-05  0.259407  0.000892  0.013054  0.608970  0.111347   \n",
       "35  0.015493  1.851473e-04  0.062436  0.032801  0.073563  0.065515  0.750008   \n",
       "36  0.011445  2.893394e-05  0.049528  0.024163  0.144323  0.122195  0.648317   \n",
       "37  0.007977  1.391404e-05  0.050094  0.029176  0.156164  0.111188  0.645387   \n",
       "38  0.028446  8.811577e-05  0.069414  0.011682  0.183337  0.087574  0.619459   \n",
       "39  0.000065  2.004628e-07  0.000127  0.996334  0.000119  0.000264  0.003091   \n",
       "40  0.008543  3.986559e-05  0.055512  0.235269  0.105885  0.031766  0.562986   \n",
       "41  0.009502  1.622496e-05  0.035738  0.106295  0.127227  0.058860  0.662361   \n",
       "42  0.008106  1.161699e-05  0.047853  0.096229  0.114046  0.106457  0.627296   \n",
       "43  0.224454  2.121883e-03  0.095180  0.433064  0.073171  0.011944  0.160065   \n",
       "44  0.006053  1.259386e-04  0.393905  0.003972  0.143217  0.323060  0.129667   \n",
       "45  0.171859  1.541320e-04  0.349702  0.004131  0.177519  0.099624  0.197012   \n",
       "46  0.072506  1.361435e-04  0.249264  0.004657  0.173675  0.142801  0.356960   \n",
       "47  0.054989  4.484238e-04  0.261222  0.031664  0.245188  0.050205  0.356283   \n",
       "48  0.141316  1.316679e-04  0.328397  0.004315  0.198758  0.154530  0.172552   \n",
       "49  0.136375  2.097087e-04  0.290000  0.002867  0.247273  0.092030  0.231246   \n",
       "\n",
       "    pos_sec  frame  \n",
       "0      6.44    162  \n",
       "1      6.80    171  \n",
       "2      7.16    180  \n",
       "3      7.52    189  \n",
       "4      7.88    198  \n",
       "5      8.24    207  \n",
       "6      8.60    216  \n",
       "7      8.96    225  \n",
       "8      9.32    234  \n",
       "9      9.68    243  \n",
       "10    10.04    252  \n",
       "11    10.40    261  \n",
       "12    10.40    261  \n",
       "13    20.12    504  \n",
       "14    20.48    513  \n",
       "15    20.84    522  \n",
       "16    21.20    531  \n",
       "17    21.56    540  \n",
       "18    21.92    549  \n",
       "19    22.28    558  \n",
       "20    22.64    567  \n",
       "21    23.00    576  \n",
       "22    23.36    585  \n",
       "23    33.08    828  \n",
       "24    33.44    837  \n",
       "25    33.80    846  \n",
       "26    34.16    855  \n",
       "27    34.52    864  \n",
       "28    34.88    873  \n",
       "29    35.24    882  \n",
       "30    35.60    891  \n",
       "31    35.96    900  \n",
       "32    36.32    909  \n",
       "33    36.68    918  \n",
       "34    47.48   1188  \n",
       "35    47.84   1197  \n",
       "36    48.20   1206  \n",
       "37    48.56   1215  \n",
       "38    48.92   1224  \n",
       "39    49.28   1233  \n",
       "40    49.64   1242  \n",
       "41    50.00   1251  \n",
       "42    50.36   1260  \n",
       "43    52.16   1305  \n",
       "44    61.16   1530  \n",
       "45    61.52   1539  \n",
       "46    61.88   1548  \n",
       "47    61.88   1548  \n",
       "48    62.24   1557  \n",
       "49    62.60   1566  "
      ]
     },
     "execution_count": 14,
     "metadata": {},
     "output_type": "execute_result"
    }
   ],
   "source": [
    "df_overview.head(50)"
   ]
  },
  {
   "cell_type": "code",
   "execution_count": null,
   "metadata": {},
   "outputs": [
    {
     "data": {
      "application/vnd.plotly.v1+json": {
       "config": {
        "plotlyServerURL": "https://plot.ly"
       },
       "data": [
        {
         "alignmentgroup": "True",
         "hovertemplate": "emotion=Angry<br>pos_sec=%{x}<br>probability=%{y}<extra></extra>",
         "legendgroup": "Angry",
         "marker": {
          "color": "#636efa",
          "pattern": {
           "shape": ""
          }
         },
         "name": "Angry",
         "offsetgroup": "Angry",
         "orientation": "v",
         "showlegend": true,
         "textposition": "auto",
         "type": "bar",
         "x": [
          6.44,
          6.8,
          7.16,
          7.52,
          7.88,
          8.24,
          8.6,
          8.96,
          9.32,
          9.68,
          10.04,
          10.4,
          10.4,
          20.12,
          20.48,
          20.84,
          21.2,
          21.56,
          21.92,
          22.28,
          22.64,
          23,
          23.36,
          33.08,
          33.44,
          33.8,
          34.16,
          34.52,
          34.88,
          35.24,
          35.6,
          35.96,
          36.32,
          36.68,
          47.48,
          47.84,
          48.2,
          48.56,
          48.92,
          49.28,
          49.64,
          50,
          50.36,
          52.16,
          61.16,
          61.52,
          61.88,
          61.88,
          62.24,
          62.6,
          62.96,
          63.32,
          63.68,
          64.04,
          64.4,
          65.84,
          75.2,
          75.56,
          75.92,
          76.28,
          76.64,
          77,
          77.36,
          77.72,
          78.08,
          78.44,
          78.8,
          79.16,
          80.24,
          89.96,
          90.32,
          90.68,
          91.04,
          91.4,
          91.76,
          92.12,
          92.48,
          92.84,
          93.2,
          93.56,
          93.92,
          94.28
         ],
         "xaxis": "x",
         "y": [
          0.05923227593302727,
          0.0733979195356369,
          0.05207693204283714,
          0.031247682869434357,
          0.03396608680486679,
          0.04637296125292778,
          0.05774007365107536,
          0.04372633248567581,
          0.054242223501205444,
          0.09123007953166962,
          0.04599267989397049,
          0.0597928985953331,
          0.04073613882064819,
          0.02878059819340706,
          0.023540982976555824,
          0.021769924089312553,
          0.02034812979400158,
          0.15728861093521118,
          0.3548189401626587,
          0.02262204885482788,
          0.027535274624824524,
          0.020502232015132904,
          0.01733095571398735,
          0.18352018296718597,
          0.021076638251543045,
          0.034283850342035294,
          0.02109612338244915,
          0.026278823614120483,
          0.07284577190876007,
          0.02116013877093792,
          0.01501673087477684,
          0.01395423710346222,
          0.02668802998960018,
          0.02873608097434044,
          0.006249652709811926,
          0.015492558479309082,
          0.011444884352385998,
          0.007976796478033066,
          0.028445731848478317,
          0.00006511246465379372,
          0.008542545139789581,
          0.009502246044576168,
          0.008105737157166004,
          0.22445382177829742,
          0.006053280550986528,
          0.17185921967029572,
          0.07250615209341049,
          0.054988645017147064,
          0.1413157731294632,
          0.13637514412403107,
          0.2895749807357788,
          0.2814508080482483,
          0.2072295993566513,
          0.18048234283924103,
          0.22136135399341583,
          0.16497983038425446,
          0.013701035641133785,
          0.005363454110920429,
          0.031394921243190765,
          0.048954419791698456,
          0.031383950263261795,
          0.039435528218746185,
          0.02133030630648136,
          0.021901529282331467,
          0.19441498816013336,
          0.05540696904063225,
          0.04353116452693939,
          0.05913371592760086,
          0.26478585600852966,
          0.011634635739028454,
          0.032001882791519165,
          0.0536215640604496,
          0.035024575889110565,
          0.059500016272068024,
          0.049970559775829315,
          0.043840572237968445,
          0.06295570731163025,
          0.05309898406267166,
          0.0780777707695961,
          0.02130095474421978,
          0.018404796719551086,
          0.01299977209419012
         ],
         "yaxis": "y"
        },
        {
         "alignmentgroup": "True",
         "hovertemplate": "emotion=Disgust<br>pos_sec=%{x}<br>probability=%{y}<extra></extra>",
         "legendgroup": "Disgust",
         "marker": {
          "color": "#EF553B",
          "pattern": {
           "shape": ""
          }
         },
         "name": "Disgust",
         "offsetgroup": "Disgust",
         "orientation": "v",
         "showlegend": true,
         "textposition": "auto",
         "type": "bar",
         "x": [
          6.44,
          6.8,
          7.16,
          7.52,
          7.88,
          8.24,
          8.6,
          8.96,
          9.32,
          9.68,
          10.04,
          10.4,
          10.4,
          20.12,
          20.48,
          20.84,
          21.2,
          21.56,
          21.92,
          22.28,
          22.64,
          23,
          23.36,
          33.08,
          33.44,
          33.8,
          34.16,
          34.52,
          34.88,
          35.24,
          35.6,
          35.96,
          36.32,
          36.68,
          47.48,
          47.84,
          48.2,
          48.56,
          48.92,
          49.28,
          49.64,
          50,
          50.36,
          52.16,
          61.16,
          61.52,
          61.88,
          61.88,
          62.24,
          62.6,
          62.96,
          63.32,
          63.68,
          64.04,
          64.4,
          65.84,
          75.2,
          75.56,
          75.92,
          76.28,
          76.64,
          77,
          77.36,
          77.72,
          78.08,
          78.44,
          78.8,
          79.16,
          80.24,
          89.96,
          90.32,
          90.68,
          91.04,
          91.4,
          91.76,
          92.12,
          92.48,
          92.84,
          93.2,
          93.56,
          93.92,
          94.28
         ],
         "xaxis": "x",
         "y": [
          0.0038778374437242746,
          0.0001963658578461036,
          0.0001853169233072549,
          0.0008328220574185252,
          0.00021943335013929754,
          0.0001317580754403025,
          0.0003179861232638359,
          0.00023174943635240197,
          0.00008251429244410247,
          0.000060444173868745565,
          0.00006468043284257874,
          0.00017260032473132014,
          0.009947662241756916,
          0.00003670100340968929,
          0.000039733335142955184,
          0.00009687338024377823,
          0.00003160677806590684,
          0.027920668944716454,
          0.08519371598958969,
          0.00004216226079734042,
          0.00010324140748707578,
          0.00005046051592216827,
          0.000024703002054593526,
          0.004146840423345566,
          0.000041925712139345706,
          0.00006956152355996892,
          0.00008488833555020392,
          0.00004669890768127516,
          0.0009044948383234441,
          0.0000361566235369537,
          0.00009198919724440202,
          0.00012423816951923072,
          0.00013572389434557408,
          0.000037209239962976426,
          0.00007997785724001005,
          0.00018514733528718352,
          0.000028933935027453117,
          0.0000139140365718049,
          0.00008811576844891533,
          2.0046280724272947e-7,
          0.00003986558658652939,
          0.000016224961655098014,
          0.000011616989468166139,
          0.0021218827459961176,
          0.00012593857536558062,
          0.00015413197979796678,
          0.00013614346971735358,
          0.00044842384522780776,
          0.00013166792632546276,
          0.00020970865443814546,
          0.00024496563128195703,
          0.0002725926460698247,
          0.00018126744544133544,
          0.00012469645298551768,
          0.00022341051953844726,
          0.0016491553978994489,
          0.00031366824987344444,
          0.0005415135528892279,
          0.0009927027858793736,
          0.00011825321416836232,
          0.00005443465124699287,
          0.00029108181479386985,
          0.00007806589565007016,
          0.00005571671135840006,
          0.0002757275942713022,
          0.00007798057777108625,
          0.00013357812713366002,
          0.00012746326683554798,
          0.00184625294059515,
          0.0004363034095149487,
          0.00008786599937593564,
          0.00031035798019729555,
          0.000039559145079692826,
          0.0001278429408557713,
          0.00014143524458631873,
          0.0003527205844875425,
          0.00017423434474039823,
          0.00005594837057287805,
          0.0001905085809994489,
          0.000034487416996853426,
          0.000024583465346950106,
          0.000017176918845507316
         ],
         "yaxis": "y"
        },
        {
         "alignmentgroup": "True",
         "hovertemplate": "emotion=Fear<br>pos_sec=%{x}<br>probability=%{y}<extra></extra>",
         "legendgroup": "Fear",
         "marker": {
          "color": "#00cc96",
          "pattern": {
           "shape": ""
          }
         },
         "name": "Fear",
         "offsetgroup": "Fear",
         "orientation": "v",
         "showlegend": true,
         "textposition": "auto",
         "type": "bar",
         "x": [
          6.44,
          6.8,
          7.16,
          7.52,
          7.88,
          8.24,
          8.6,
          8.96,
          9.32,
          9.68,
          10.04,
          10.4,
          10.4,
          20.12,
          20.48,
          20.84,
          21.2,
          21.56,
          21.92,
          22.28,
          22.64,
          23,
          23.36,
          33.08,
          33.44,
          33.8,
          34.16,
          34.52,
          34.88,
          35.24,
          35.6,
          35.96,
          36.32,
          36.68,
          47.48,
          47.84,
          48.2,
          48.56,
          48.92,
          49.28,
          49.64,
          50,
          50.36,
          52.16,
          61.16,
          61.52,
          61.88,
          61.88,
          62.24,
          62.6,
          62.96,
          63.32,
          63.68,
          64.04,
          64.4,
          65.84,
          75.2,
          75.56,
          75.92,
          76.28,
          76.64,
          77,
          77.36,
          77.72,
          78.08,
          78.44,
          78.8,
          79.16,
          80.24,
          89.96,
          90.32,
          90.68,
          91.04,
          91.4,
          91.76,
          92.12,
          92.48,
          92.84,
          93.2,
          93.56,
          93.92,
          94.28
         ],
         "xaxis": "x",
         "y": [
          0.09752295911312103,
          0.27766966819763184,
          0.20710976421833038,
          0.19174674153327942,
          0.1825735867023468,
          0.1691408008337021,
          0.22909072041511536,
          0.1894146054983139,
          0.1396881490945816,
          0.1819087713956833,
          0.21194326877593994,
          0.3100367486476898,
          0.2964934706687927,
          0.37803056836128235,
          0.07834849506616592,
          0.0607648529112339,
          0.11311599612236023,
          0.2123555988073349,
          0.18062320351600647,
          0.07031446695327759,
          0.07203149050474167,
          0.08142060041427612,
          0.05792735889554024,
          0.4873594343662262,
          0.15377017855644226,
          0.15503838658332825,
          0.14932996034622192,
          0.1728181689977646,
          0.10533563792705536,
          0.0923057347536087,
          0.12651485204696655,
          0.14926986396312714,
          0.07535025477409363,
          0.09812593460083008,
          0.25940749049186707,
          0.062435515224933624,
          0.04952792450785637,
          0.050094395875930786,
          0.06941365450620651,
          0.00012704537948593497,
          0.05551154911518097,
          0.035738155245780945,
          0.047853369265794754,
          0.09517964720726013,
          0.3939046859741211,
          0.3497016131877899,
          0.24926383793354034,
          0.26122164726257324,
          0.32839739322662354,
          0.2899996340274811,
          0.271827757358551,
          0.2663883566856384,
          0.283752977848053,
          0.27627623081207275,
          0.2751813530921936,
          0.17684988677501678,
          0.1523779034614563,
          0.05159341171383858,
          0.11729483306407928,
          0.13033699989318848,
          0.06306807696819305,
          0.11198317259550095,
          0.06108279898762703,
          0.04905548319220543,
          0.05701323226094246,
          0.06027945876121521,
          0.09062425792217255,
          0.19171342253684998,
          0.07696784287691116,
          0.4077419340610504,
          0.20951728522777557,
          0.1889403909444809,
          0.10551656782627106,
          0.19370509684085846,
          0.16274917125701904,
          0.22149208188056946,
          0.23978549242019653,
          0.36492255330085754,
          0.30353331565856934,
          0.16649557650089264,
          0.13878314197063446,
          0.12271195650100708
         ],
         "yaxis": "y"
        },
        {
         "alignmentgroup": "True",
         "hovertemplate": "emotion=Happy<br>pos_sec=%{x}<br>probability=%{y}<extra></extra>",
         "legendgroup": "Happy",
         "marker": {
          "color": "#ab63fa",
          "pattern": {
           "shape": ""
          }
         },
         "name": "Happy",
         "offsetgroup": "Happy",
         "orientation": "v",
         "showlegend": true,
         "textposition": "auto",
         "type": "bar",
         "x": [
          6.44,
          6.8,
          7.16,
          7.52,
          7.88,
          8.24,
          8.6,
          8.96,
          9.32,
          9.68,
          10.04,
          10.4,
          10.4,
          20.12,
          20.48,
          20.84,
          21.2,
          21.56,
          21.92,
          22.28,
          22.64,
          23,
          23.36,
          33.08,
          33.44,
          33.8,
          34.16,
          34.52,
          34.88,
          35.24,
          35.6,
          35.96,
          36.32,
          36.68,
          47.48,
          47.84,
          48.2,
          48.56,
          48.92,
          49.28,
          49.64,
          50,
          50.36,
          52.16,
          61.16,
          61.52,
          61.88,
          61.88,
          62.24,
          62.6,
          62.96,
          63.32,
          63.68,
          64.04,
          64.4,
          65.84,
          75.2,
          75.56,
          75.92,
          76.28,
          76.64,
          77,
          77.36,
          77.72,
          78.08,
          78.44,
          78.8,
          79.16,
          80.24,
          89.96,
          90.32,
          90.68,
          91.04,
          91.4,
          91.76,
          92.12,
          92.48,
          92.84,
          93.2,
          93.56,
          93.92,
          94.28
         ],
         "xaxis": "x",
         "y": [
          0.005045970436185598,
          0.004904893692582846,
          0.007607982959598303,
          0.006119696423411369,
          0.006757716182619333,
          0.007163568865507841,
          0.007288762368261814,
          0.004242127761244774,
          0.0013455762527883053,
          0.004694605246186256,
          0.006610726937651634,
          0.003944598603993654,
          0.02616557478904724,
          0.0026828800328075886,
          0.10172874480485916,
          0.08015000075101852,
          0.17740635573863983,
          0.1289716362953186,
          0.1165548786520958,
          0.10083859413862228,
          0.09105364233255386,
          0.10296502709388733,
          0.08959130197763443,
          0.00006120636680861935,
          0.005809942726045847,
          0.0033754208125174046,
          0.012120155617594719,
          0.0075616720132529736,
          0.002758702263236046,
          0.0045184483751654625,
          0.042339716106653214,
          0.08564312756061554,
          0.014623257331550121,
          0.0054477788507938385,
          0.0008921013213694096,
          0.03280087932944298,
          0.02416280284523964,
          0.029175765812397003,
          0.011682175099849701,
          0.9963341355323792,
          0.23526890575885773,
          0.10629496723413467,
          0.09622921049594879,
          0.4330638647079468,
          0.003971762489527464,
          0.004130521789193153,
          0.004657024051994085,
          0.03166437894105911,
          0.004315448459237814,
          0.002867055358365178,
          0.0004004478396382183,
          0.00039709932752884924,
          0.0006840912974439561,
          0.0009159402106888592,
          0.0009070963715203106,
          0.27415019273757935,
          0.0005337045295163989,
          0.007865644060075283,
          0.024093789979815483,
          0.007436631713062525,
          0.012081166729331017,
          0.013988408260047436,
          0.008784576319158077,
          0.012285111472010612,
          0.004385051317512989,
          0.005154063459485769,
          0.018757838755846024,
          0.012748992070555687,
          0.38559094071388245,
          0.0020000850781798363,
          0.009923257865011692,
          0.0056516551412642,
          0.0035754768177866936,
          0.004218414891511202,
          0.0038354964926838875,
          0.003984943497925997,
          0.0017637874698266387,
          0.0037186124827712774,
          0.004977345932275057,
          0.011684793047606945,
          0.011031707748770714,
          0.023551711812615395
         ],
         "yaxis": "y"
        },
        {
         "alignmentgroup": "True",
         "hovertemplate": "emotion=Sad<br>pos_sec=%{x}<br>probability=%{y}<extra></extra>",
         "legendgroup": "Sad",
         "marker": {
          "color": "#FFA15A",
          "pattern": {
           "shape": ""
          }
         },
         "name": "Sad",
         "offsetgroup": "Sad",
         "orientation": "v",
         "showlegend": true,
         "textposition": "auto",
         "type": "bar",
         "x": [
          6.44,
          6.8,
          7.16,
          7.52,
          7.88,
          8.24,
          8.6,
          8.96,
          9.32,
          9.68,
          10.04,
          10.4,
          10.4,
          20.12,
          20.48,
          20.84,
          21.2,
          21.56,
          21.92,
          22.28,
          22.64,
          23,
          23.36,
          33.08,
          33.44,
          33.8,
          34.16,
          34.52,
          34.88,
          35.24,
          35.6,
          35.96,
          36.32,
          36.68,
          47.48,
          47.84,
          48.2,
          48.56,
          48.92,
          49.28,
          49.64,
          50,
          50.36,
          52.16,
          61.16,
          61.52,
          61.88,
          61.88,
          62.24,
          62.6,
          62.96,
          63.32,
          63.68,
          64.04,
          64.4,
          65.84,
          75.2,
          75.56,
          75.92,
          76.28,
          76.64,
          77,
          77.36,
          77.72,
          78.08,
          78.44,
          78.8,
          79.16,
          80.24,
          89.96,
          90.32,
          90.68,
          91.04,
          91.4,
          91.76,
          92.12,
          92.48,
          92.84,
          93.2,
          93.56,
          93.92,
          94.28
         ],
         "xaxis": "x",
         "y": [
          0.18629705905914307,
          0.17332521080970764,
          0.1925598680973053,
          0.14587774872779846,
          0.16837827861309052,
          0.17155244946479797,
          0.1857265681028366,
          0.14481386542320251,
          0.16267919540405273,
          0.23462456464767456,
          0.23408634960651398,
          0.20762716233730316,
          0.21822036802768707,
          0.01512676291167736,
          0.07480964064598083,
          0.07550910115242004,
          0.12088050693273544,
          0.2785384953022003,
          0.11531637609004974,
          0.1711474061012268,
          0.15521696209907532,
          0.13205505907535553,
          0.14771820604801178,
          0.028374770656228065,
          0.2019873410463333,
          0.16460956633090973,
          0.1280749887228012,
          0.17400500178337097,
          0.11620167642831802,
          0.1099349856376648,
          0.14508309960365295,
          0.1053241491317749,
          0.11543048173189163,
          0.12407012283802032,
          0.01305380929261446,
          0.07356292009353638,
          0.14432315528392792,
          0.1561639904975891,
          0.18333707749843597,
          0.00011853804608108476,
          0.10588520020246506,
          0.12722694873809814,
          0.11404646188020706,
          0.07317133992910385,
          0.14321669936180115,
          0.17751890420913696,
          0.1736752688884735,
          0.24518825113773346,
          0.19875825941562653,
          0.2472728043794632,
          0.3365141749382019,
          0.29628995060920715,
          0.3950192332267761,
          0.3686765432357788,
          0.38481009006500244,
          0.1341046541929245,
          0.01841878890991211,
          0.03895196318626404,
          0.1807231307029724,
          0.2872532904148102,
          0.26116257905960083,
          0.2373657375574112,
          0.23916350305080414,
          0.1921357661485672,
          0.19143736362457275,
          0.29565155506134033,
          0.2066841423511505,
          0.35694998502731323,
          0.07254289090633392,
          0.10704461485147476,
          0.22477377951145172,
          0.2985479235649109,
          0.28800317645072937,
          0.28111371397972107,
          0.22082069516181946,
          0.28147414326667786,
          0.4434736371040344,
          0.35376253724098206,
          0.3137255907058716,
          0.23650357127189636,
          0.18796055018901825,
          0.16549916565418243
         ],
         "yaxis": "y"
        },
        {
         "alignmentgroup": "True",
         "hovertemplate": "emotion=Surprise<br>pos_sec=%{x}<br>probability=%{y}<extra></extra>",
         "legendgroup": "Surprise",
         "marker": {
          "color": "#19d3f3",
          "pattern": {
           "shape": ""
          }
         },
         "name": "Surprise",
         "offsetgroup": "Surprise",
         "orientation": "v",
         "showlegend": true,
         "textposition": "auto",
         "type": "bar",
         "x": [
          6.44,
          6.8,
          7.16,
          7.52,
          7.88,
          8.24,
          8.6,
          8.96,
          9.32,
          9.68,
          10.04,
          10.4,
          10.4,
          20.12,
          20.48,
          20.84,
          21.2,
          21.56,
          21.92,
          22.28,
          22.64,
          23,
          23.36,
          33.08,
          33.44,
          33.8,
          34.16,
          34.52,
          34.88,
          35.24,
          35.6,
          35.96,
          36.32,
          36.68,
          47.48,
          47.84,
          48.2,
          48.56,
          48.92,
          49.28,
          49.64,
          50,
          50.36,
          52.16,
          61.16,
          61.52,
          61.88,
          61.88,
          62.24,
          62.6,
          62.96,
          63.32,
          63.68,
          64.04,
          64.4,
          65.84,
          75.2,
          75.56,
          75.92,
          76.28,
          76.64,
          77,
          77.36,
          77.72,
          78.08,
          78.44,
          78.8,
          79.16,
          80.24,
          89.96,
          90.32,
          90.68,
          91.04,
          91.4,
          91.76,
          92.12,
          92.48,
          92.84,
          93.2,
          93.56,
          93.92,
          94.28
         ],
         "xaxis": "x",
         "y": [
          0.43132084608078003,
          0.1992611587047577,
          0.05091235786676407,
          0.0046883500181138515,
          0.05598876625299454,
          0.08884347975254059,
          0.018299557268619537,
          0.12876558303833008,
          0.18306145071983337,
          0.05258583277463913,
          0.0350150503218174,
          0.11334681510925293,
          0.024589871987700462,
          0.513929545879364,
          0.03864150866866112,
          0.0372425802052021,
          0.020466092973947525,
          0.014260201714932919,
          0.03386866673827171,
          0.02550497278571129,
          0.028446756303310394,
          0.03155358135700226,
          0.02324575185775757,
          0.14654487371444702,
          0.015688635408878326,
          0.014902956783771515,
          0.04516172036528587,
          0.027934489771723747,
          0.0033379332162439823,
          0.025140846148133278,
          0.07065677642822266,
          0.036170076578855515,
          0.09380748122930527,
          0.021736569702625275,
          0.608969509601593,
          0.06551548093557358,
          0.12219549715518951,
          0.11118840426206589,
          0.08757428079843521,
          0.0002643137704581022,
          0.03176625818014145,
          0.05886007100343704,
          0.10645724087953568,
          0.011944115161895752,
          0.32306021451950073,
          0.09962386637926102,
          0.14280112087726593,
          0.050205495208501816,
          0.15452995896339417,
          0.09203005582094193,
          0.06256760656833649,
          0.12121716886758804,
          0.034580048173666,
          0.05867726728320122,
          0.04900789260864258,
          0.06340370327234268,
          0.21543602645397186,
          0.04898954927921295,
          0.13547928631305695,
          0.08215371519327164,
          0.1349506378173828,
          0.16952569782733917,
          0.15700657665729523,
          0.17727889120578766,
          0.026073032990098,
          0.06360021233558655,
          0.11068856716156006,
          0.09526385366916656,
          0.07982657849788666,
          0.4285490810871124,
          0.09355201572179794,
          0.06388415396213531,
          0.0417429618537426,
          0.052548158913850784,
          0.07323145866394043,
          0.07247862964868546,
          0.02288377657532692,
          0.0736626535654068,
          0.13804075121879578,
          0.0415523499250412,
          0.037503309547901154,
          0.061230383813381195
         ],
         "yaxis": "y"
        },
        {
         "alignmentgroup": "True",
         "hovertemplate": "emotion=Neutral<br>pos_sec=%{x}<br>probability=%{y}<extra></extra>",
         "legendgroup": "Neutral",
         "marker": {
          "color": "#FF6692",
          "pattern": {
           "shape": ""
          }
         },
         "name": "Neutral",
         "offsetgroup": "Neutral",
         "orientation": "v",
         "showlegend": true,
         "textposition": "auto",
         "type": "bar",
         "x": [
          6.44,
          6.8,
          7.16,
          7.52,
          7.88,
          8.24,
          8.6,
          8.96,
          9.32,
          9.68,
          10.04,
          10.4,
          10.4,
          20.12,
          20.48,
          20.84,
          21.2,
          21.56,
          21.92,
          22.28,
          22.64,
          23,
          23.36,
          33.08,
          33.44,
          33.8,
          34.16,
          34.52,
          34.88,
          35.24,
          35.6,
          35.96,
          36.32,
          36.68,
          47.48,
          47.84,
          48.2,
          48.56,
          48.92,
          49.28,
          49.64,
          50,
          50.36,
          52.16,
          61.16,
          61.52,
          61.88,
          61.88,
          62.24,
          62.6,
          62.96,
          63.32,
          63.68,
          64.04,
          64.4,
          65.84,
          75.2,
          75.56,
          75.92,
          76.28,
          76.64,
          77,
          77.36,
          77.72,
          78.08,
          78.44,
          78.8,
          79.16,
          80.24,
          89.96,
          90.32,
          90.68,
          91.04,
          91.4,
          91.76,
          92.12,
          92.48,
          92.84,
          93.2,
          93.56,
          93.92,
          94.28
         ],
         "xaxis": "x",
         "y": [
          0.21670308709144592,
          0.2712448239326477,
          0.4895477294921875,
          0.6194869875907898,
          0.5521161556243896,
          0.5167949795722961,
          0.5015363693237305,
          0.48880571126937866,
          0.45890089869499207,
          0.43489572405815125,
          0.4662873446941376,
          0.30507925152778625,
          0.3838469088077545,
          0.061412978917360306,
          0.6828908920288086,
          0.7244666814804077,
          0.5477513074874878,
          0.18066488206386566,
          0.11362425237894058,
          0.6095303297042847,
          0.6256126165390015,
          0.6314530372619629,
          0.664161741733551,
          0.1499926596879959,
          0.6016254425048828,
          0.6277202367782593,
          0.644132137298584,
          0.5913551449775696,
          0.6986157894134521,
          0.746903657913208,
          0.6002967357635498,
          0.6095143556594849,
          0.6739646792411804,
          0.7218462824821472,
          0.11134743690490723,
          0.7500075101852417,
          0.6483168005943298,
          0.6453867554664612,
          0.6194589734077454,
          0.0030907124746590853,
          0.5629856586456299,
          0.6623614430427551,
          0.6272963285446167,
          0.16006530821323395,
          0.1296674758195877,
          0.19701175391674042,
          0.3569604456424713,
          0.35628315806388855,
          0.17255151271820068,
          0.23124563694000244,
          0.03886998072266579,
          0.033984098583459854,
          0.07855283468961716,
          0.11484696716070175,
          0.06850884109735489,
          0.18486258387565613,
          0.5992188453674316,
          0.8466944098472595,
          0.5100213885307312,
          0.4437466561794281,
          0.4972991943359375,
          0.427410364151001,
          0.5125541090965271,
          0.5472874641418457,
          0.526400625705719,
          0.5198298096656799,
          0.5295805335044861,
          0.28406256437301636,
          0.1184396743774414,
          0.04259338974952698,
          0.4301440119743347,
          0.38904398679733276,
          0.5260977149009705,
          0.4087867736816406,
          0.48925119638442993,
          0.3763769865036011,
          0.22896341979503632,
          0.15077869594097137,
          0.1614547073841095,
          0.5224282741546631,
          0.6062918901443481,
          0.6139898896217346
         ],
         "yaxis": "y"
        }
       ],
       "layout": {
        "barmode": "stack",
        "legend": {
         "title": {
          "text": "emotion"
         },
         "tracegroupgap": 0
        },
        "template": {
         "data": {
          "bar": [
           {
            "error_x": {
             "color": "#2a3f5f"
            },
            "error_y": {
             "color": "#2a3f5f"
            },
            "marker": {
             "line": {
              "color": "#E5ECF6",
              "width": 0.5
             },
             "pattern": {
              "fillmode": "overlay",
              "size": 10,
              "solidity": 0.2
             }
            },
            "type": "bar"
           }
          ],
          "barpolar": [
           {
            "marker": {
             "line": {
              "color": "#E5ECF6",
              "width": 0.5
             },
             "pattern": {
              "fillmode": "overlay",
              "size": 10,
              "solidity": 0.2
             }
            },
            "type": "barpolar"
           }
          ],
          "carpet": [
           {
            "aaxis": {
             "endlinecolor": "#2a3f5f",
             "gridcolor": "white",
             "linecolor": "white",
             "minorgridcolor": "white",
             "startlinecolor": "#2a3f5f"
            },
            "baxis": {
             "endlinecolor": "#2a3f5f",
             "gridcolor": "white",
             "linecolor": "white",
             "minorgridcolor": "white",
             "startlinecolor": "#2a3f5f"
            },
            "type": "carpet"
           }
          ],
          "choropleth": [
           {
            "colorbar": {
             "outlinewidth": 0,
             "ticks": ""
            },
            "type": "choropleth"
           }
          ],
          "contour": [
           {
            "colorbar": {
             "outlinewidth": 0,
             "ticks": ""
            },
            "colorscale": [
             [
              0,
              "#0d0887"
             ],
             [
              0.1111111111111111,
              "#46039f"
             ],
             [
              0.2222222222222222,
              "#7201a8"
             ],
             [
              0.3333333333333333,
              "#9c179e"
             ],
             [
              0.4444444444444444,
              "#bd3786"
             ],
             [
              0.5555555555555556,
              "#d8576b"
             ],
             [
              0.6666666666666666,
              "#ed7953"
             ],
             [
              0.7777777777777778,
              "#fb9f3a"
             ],
             [
              0.8888888888888888,
              "#fdca26"
             ],
             [
              1,
              "#f0f921"
             ]
            ],
            "type": "contour"
           }
          ],
          "contourcarpet": [
           {
            "colorbar": {
             "outlinewidth": 0,
             "ticks": ""
            },
            "type": "contourcarpet"
           }
          ],
          "heatmap": [
           {
            "colorbar": {
             "outlinewidth": 0,
             "ticks": ""
            },
            "colorscale": [
             [
              0,
              "#0d0887"
             ],
             [
              0.1111111111111111,
              "#46039f"
             ],
             [
              0.2222222222222222,
              "#7201a8"
             ],
             [
              0.3333333333333333,
              "#9c179e"
             ],
             [
              0.4444444444444444,
              "#bd3786"
             ],
             [
              0.5555555555555556,
              "#d8576b"
             ],
             [
              0.6666666666666666,
              "#ed7953"
             ],
             [
              0.7777777777777778,
              "#fb9f3a"
             ],
             [
              0.8888888888888888,
              "#fdca26"
             ],
             [
              1,
              "#f0f921"
             ]
            ],
            "type": "heatmap"
           }
          ],
          "heatmapgl": [
           {
            "colorbar": {
             "outlinewidth": 0,
             "ticks": ""
            },
            "colorscale": [
             [
              0,
              "#0d0887"
             ],
             [
              0.1111111111111111,
              "#46039f"
             ],
             [
              0.2222222222222222,
              "#7201a8"
             ],
             [
              0.3333333333333333,
              "#9c179e"
             ],
             [
              0.4444444444444444,
              "#bd3786"
             ],
             [
              0.5555555555555556,
              "#d8576b"
             ],
             [
              0.6666666666666666,
              "#ed7953"
             ],
             [
              0.7777777777777778,
              "#fb9f3a"
             ],
             [
              0.8888888888888888,
              "#fdca26"
             ],
             [
              1,
              "#f0f921"
             ]
            ],
            "type": "heatmapgl"
           }
          ],
          "histogram": [
           {
            "marker": {
             "pattern": {
              "fillmode": "overlay",
              "size": 10,
              "solidity": 0.2
             }
            },
            "type": "histogram"
           }
          ],
          "histogram2d": [
           {
            "colorbar": {
             "outlinewidth": 0,
             "ticks": ""
            },
            "colorscale": [
             [
              0,
              "#0d0887"
             ],
             [
              0.1111111111111111,
              "#46039f"
             ],
             [
              0.2222222222222222,
              "#7201a8"
             ],
             [
              0.3333333333333333,
              "#9c179e"
             ],
             [
              0.4444444444444444,
              "#bd3786"
             ],
             [
              0.5555555555555556,
              "#d8576b"
             ],
             [
              0.6666666666666666,
              "#ed7953"
             ],
             [
              0.7777777777777778,
              "#fb9f3a"
             ],
             [
              0.8888888888888888,
              "#fdca26"
             ],
             [
              1,
              "#f0f921"
             ]
            ],
            "type": "histogram2d"
           }
          ],
          "histogram2dcontour": [
           {
            "colorbar": {
             "outlinewidth": 0,
             "ticks": ""
            },
            "colorscale": [
             [
              0,
              "#0d0887"
             ],
             [
              0.1111111111111111,
              "#46039f"
             ],
             [
              0.2222222222222222,
              "#7201a8"
             ],
             [
              0.3333333333333333,
              "#9c179e"
             ],
             [
              0.4444444444444444,
              "#bd3786"
             ],
             [
              0.5555555555555556,
              "#d8576b"
             ],
             [
              0.6666666666666666,
              "#ed7953"
             ],
             [
              0.7777777777777778,
              "#fb9f3a"
             ],
             [
              0.8888888888888888,
              "#fdca26"
             ],
             [
              1,
              "#f0f921"
             ]
            ],
            "type": "histogram2dcontour"
           }
          ],
          "mesh3d": [
           {
            "colorbar": {
             "outlinewidth": 0,
             "ticks": ""
            },
            "type": "mesh3d"
           }
          ],
          "parcoords": [
           {
            "line": {
             "colorbar": {
              "outlinewidth": 0,
              "ticks": ""
             }
            },
            "type": "parcoords"
           }
          ],
          "pie": [
           {
            "automargin": true,
            "type": "pie"
           }
          ],
          "scatter": [
           {
            "fillpattern": {
             "fillmode": "overlay",
             "size": 10,
             "solidity": 0.2
            },
            "type": "scatter"
           }
          ],
          "scatter3d": [
           {
            "line": {
             "colorbar": {
              "outlinewidth": 0,
              "ticks": ""
             }
            },
            "marker": {
             "colorbar": {
              "outlinewidth": 0,
              "ticks": ""
             }
            },
            "type": "scatter3d"
           }
          ],
          "scattercarpet": [
           {
            "marker": {
             "colorbar": {
              "outlinewidth": 0,
              "ticks": ""
             }
            },
            "type": "scattercarpet"
           }
          ],
          "scattergeo": [
           {
            "marker": {
             "colorbar": {
              "outlinewidth": 0,
              "ticks": ""
             }
            },
            "type": "scattergeo"
           }
          ],
          "scattergl": [
           {
            "marker": {
             "colorbar": {
              "outlinewidth": 0,
              "ticks": ""
             }
            },
            "type": "scattergl"
           }
          ],
          "scattermapbox": [
           {
            "marker": {
             "colorbar": {
              "outlinewidth": 0,
              "ticks": ""
             }
            },
            "type": "scattermapbox"
           }
          ],
          "scatterpolar": [
           {
            "marker": {
             "colorbar": {
              "outlinewidth": 0,
              "ticks": ""
             }
            },
            "type": "scatterpolar"
           }
          ],
          "scatterpolargl": [
           {
            "marker": {
             "colorbar": {
              "outlinewidth": 0,
              "ticks": ""
             }
            },
            "type": "scatterpolargl"
           }
          ],
          "scatterternary": [
           {
            "marker": {
             "colorbar": {
              "outlinewidth": 0,
              "ticks": ""
             }
            },
            "type": "scatterternary"
           }
          ],
          "surface": [
           {
            "colorbar": {
             "outlinewidth": 0,
             "ticks": ""
            },
            "colorscale": [
             [
              0,
              "#0d0887"
             ],
             [
              0.1111111111111111,
              "#46039f"
             ],
             [
              0.2222222222222222,
              "#7201a8"
             ],
             [
              0.3333333333333333,
              "#9c179e"
             ],
             [
              0.4444444444444444,
              "#bd3786"
             ],
             [
              0.5555555555555556,
              "#d8576b"
             ],
             [
              0.6666666666666666,
              "#ed7953"
             ],
             [
              0.7777777777777778,
              "#fb9f3a"
             ],
             [
              0.8888888888888888,
              "#fdca26"
             ],
             [
              1,
              "#f0f921"
             ]
            ],
            "type": "surface"
           }
          ],
          "table": [
           {
            "cells": {
             "fill": {
              "color": "#EBF0F8"
             },
             "line": {
              "color": "white"
             }
            },
            "header": {
             "fill": {
              "color": "#C8D4E3"
             },
             "line": {
              "color": "white"
             }
            },
            "type": "table"
           }
          ]
         },
         "layout": {
          "annotationdefaults": {
           "arrowcolor": "#2a3f5f",
           "arrowhead": 0,
           "arrowwidth": 1
          },
          "autotypenumbers": "strict",
          "coloraxis": {
           "colorbar": {
            "outlinewidth": 0,
            "ticks": ""
           }
          },
          "colorscale": {
           "diverging": [
            [
             0,
             "#8e0152"
            ],
            [
             0.1,
             "#c51b7d"
            ],
            [
             0.2,
             "#de77ae"
            ],
            [
             0.3,
             "#f1b6da"
            ],
            [
             0.4,
             "#fde0ef"
            ],
            [
             0.5,
             "#f7f7f7"
            ],
            [
             0.6,
             "#e6f5d0"
            ],
            [
             0.7,
             "#b8e186"
            ],
            [
             0.8,
             "#7fbc41"
            ],
            [
             0.9,
             "#4d9221"
            ],
            [
             1,
             "#276419"
            ]
           ],
           "sequential": [
            [
             0,
             "#0d0887"
            ],
            [
             0.1111111111111111,
             "#46039f"
            ],
            [
             0.2222222222222222,
             "#7201a8"
            ],
            [
             0.3333333333333333,
             "#9c179e"
            ],
            [
             0.4444444444444444,
             "#bd3786"
            ],
            [
             0.5555555555555556,
             "#d8576b"
            ],
            [
             0.6666666666666666,
             "#ed7953"
            ],
            [
             0.7777777777777778,
             "#fb9f3a"
            ],
            [
             0.8888888888888888,
             "#fdca26"
            ],
            [
             1,
             "#f0f921"
            ]
           ],
           "sequentialminus": [
            [
             0,
             "#0d0887"
            ],
            [
             0.1111111111111111,
             "#46039f"
            ],
            [
             0.2222222222222222,
             "#7201a8"
            ],
            [
             0.3333333333333333,
             "#9c179e"
            ],
            [
             0.4444444444444444,
             "#bd3786"
            ],
            [
             0.5555555555555556,
             "#d8576b"
            ],
            [
             0.6666666666666666,
             "#ed7953"
            ],
            [
             0.7777777777777778,
             "#fb9f3a"
            ],
            [
             0.8888888888888888,
             "#fdca26"
            ],
            [
             1,
             "#f0f921"
            ]
           ]
          },
          "colorway": [
           "#636efa",
           "#EF553B",
           "#00cc96",
           "#ab63fa",
           "#FFA15A",
           "#19d3f3",
           "#FF6692",
           "#B6E880",
           "#FF97FF",
           "#FECB52"
          ],
          "font": {
           "color": "#2a3f5f"
          },
          "geo": {
           "bgcolor": "white",
           "lakecolor": "white",
           "landcolor": "#E5ECF6",
           "showlakes": true,
           "showland": true,
           "subunitcolor": "white"
          },
          "hoverlabel": {
           "align": "left"
          },
          "hovermode": "closest",
          "mapbox": {
           "style": "light"
          },
          "paper_bgcolor": "white",
          "plot_bgcolor": "#E5ECF6",
          "polar": {
           "angularaxis": {
            "gridcolor": "white",
            "linecolor": "white",
            "ticks": ""
           },
           "bgcolor": "#E5ECF6",
           "radialaxis": {
            "gridcolor": "white",
            "linecolor": "white",
            "ticks": ""
           }
          },
          "scene": {
           "xaxis": {
            "backgroundcolor": "#E5ECF6",
            "gridcolor": "white",
            "gridwidth": 2,
            "linecolor": "white",
            "showbackground": true,
            "ticks": "",
            "zerolinecolor": "white"
           },
           "yaxis": {
            "backgroundcolor": "#E5ECF6",
            "gridcolor": "white",
            "gridwidth": 2,
            "linecolor": "white",
            "showbackground": true,
            "ticks": "",
            "zerolinecolor": "white"
           },
           "zaxis": {
            "backgroundcolor": "#E5ECF6",
            "gridcolor": "white",
            "gridwidth": 2,
            "linecolor": "white",
            "showbackground": true,
            "ticks": "",
            "zerolinecolor": "white"
           }
          },
          "shapedefaults": {
           "line": {
            "color": "#2a3f5f"
           }
          },
          "ternary": {
           "aaxis": {
            "gridcolor": "white",
            "linecolor": "white",
            "ticks": ""
           },
           "baxis": {
            "gridcolor": "white",
            "linecolor": "white",
            "ticks": ""
           },
           "bgcolor": "#E5ECF6",
           "caxis": {
            "gridcolor": "white",
            "linecolor": "white",
            "ticks": ""
           }
          },
          "title": {
           "x": 0.05
          },
          "xaxis": {
           "automargin": true,
           "gridcolor": "white",
           "linecolor": "white",
           "ticks": "",
           "title": {
            "standoff": 15
           },
           "zerolinecolor": "white",
           "zerolinewidth": 2
          },
          "yaxis": {
           "automargin": true,
           "gridcolor": "white",
           "linecolor": "white",
           "ticks": "",
           "title": {
            "standoff": 15
           },
           "zerolinecolor": "white",
           "zerolinewidth": 2
          }
         }
        },
        "title": {
         "text": "Distribution of Emotions across Frames (every 10th frame)",
         "x": 0.5,
         "xanchor": "center",
         "y": 0.9,
         "yanchor": "top"
        },
        "xaxis": {
         "anchor": "y",
         "domain": [
          0,
          1
         ],
         "title": {
          "text": "Frame"
         }
        },
        "yaxis": {
         "anchor": "x",
         "domain": [
          0,
          1
         ],
         "title": {
          "text": "Emotion Distribution"
         }
        }
       }
      }
     },
     "metadata": {},
     "output_type": "display_data"
    }
   ],
   "source": [
    "#df_10th = df_plotting[df_plotting[\"frame\"] % 3 == 0]  # select every 10th frame\n",
    "\n",
    "fig = px.bar(df_plotting, x=\"pos_sec\", y='probability', color = 'emotion',\n",
    "             barmode=\"stack\", title=\"Distribution of Emotions across Frames (every 10th frame)\")\n",
    "fig.update_layout(xaxis_title=\"Frame\", yaxis_title=\"Emotion Distribution\",     title={\n",
    "        'y': 0.9,\n",
    "        'x': 0.5,\n",
    "        'xanchor': 'center',\n",
    "        'yanchor': 'top'\n",
    "    })\n",
    "fig.show()"
   ]
  },
  {
   "cell_type": "code",
   "execution_count": null,
   "metadata": {},
   "outputs": [
    {
     "data": {
      "application/vnd.plotly.v1+json": {
       "config": {
        "plotlyServerURL": "https://plot.ly"
       },
       "data": [
        {
         "fillpattern": {
          "shape": ""
         },
         "hovertemplate": "emotion=Angry<br>pos_sec=%{x}<br>probability=%{y}<extra></extra>",
         "legendgroup": "Angry",
         "line": {
          "color": "#440154"
         },
         "marker": {
          "symbol": "circle"
         },
         "mode": "lines",
         "name": "Angry",
         "orientation": "v",
         "showlegend": true,
         "stackgroup": "1",
         "type": "scatter",
         "x": [
          6.44,
          6.8,
          7.16,
          7.52,
          7.88,
          8.24,
          8.6,
          8.96,
          9.32,
          9.68,
          10.04,
          10.4,
          10.4,
          20.12,
          20.48,
          20.84,
          21.2,
          21.56,
          21.92,
          22.28,
          22.64,
          23,
          23.36,
          33.08,
          33.44,
          33.8,
          34.16,
          34.52,
          34.88,
          35.24,
          35.6,
          35.96,
          36.32,
          36.68,
          47.48,
          47.84,
          48.2,
          48.56,
          48.92,
          49.28,
          49.64,
          50,
          50.36,
          52.16,
          61.16,
          61.52,
          61.88,
          61.88,
          62.24,
          62.6,
          62.96,
          63.32,
          63.68,
          64.04,
          64.4,
          65.84,
          75.2,
          75.56,
          75.92,
          76.28,
          76.64,
          77,
          77.36,
          77.72,
          78.08,
          78.44,
          78.8,
          79.16,
          80.24,
          89.96,
          90.32,
          90.68,
          91.04,
          91.4,
          91.76,
          92.12,
          92.48,
          92.84,
          93.2,
          93.56,
          93.92,
          94.28
         ],
         "xaxis": "x",
         "y": [
          0.05923227593302727,
          0.0733979195356369,
          0.05207693204283714,
          0.031247682869434357,
          0.03396608680486679,
          0.04637296125292778,
          0.05774007365107536,
          0.04372633248567581,
          0.054242223501205444,
          0.09123007953166962,
          0.04599267989397049,
          0.0597928985953331,
          0.04073613882064819,
          0.02878059819340706,
          0.023540982976555824,
          0.021769924089312553,
          0.02034812979400158,
          0.15728861093521118,
          0.3548189401626587,
          0.02262204885482788,
          0.027535274624824524,
          0.020502232015132904,
          0.01733095571398735,
          0.18352018296718597,
          0.021076638251543045,
          0.034283850342035294,
          0.02109612338244915,
          0.026278823614120483,
          0.07284577190876007,
          0.02116013877093792,
          0.01501673087477684,
          0.01395423710346222,
          0.02668802998960018,
          0.02873608097434044,
          0.006249652709811926,
          0.015492558479309082,
          0.011444884352385998,
          0.007976796478033066,
          0.028445731848478317,
          0.00006511246465379372,
          0.008542545139789581,
          0.009502246044576168,
          0.008105737157166004,
          0.22445382177829742,
          0.006053280550986528,
          0.17185921967029572,
          0.07250615209341049,
          0.054988645017147064,
          0.1413157731294632,
          0.13637514412403107,
          0.2895749807357788,
          0.2814508080482483,
          0.2072295993566513,
          0.18048234283924103,
          0.22136135399341583,
          0.16497983038425446,
          0.013701035641133785,
          0.005363454110920429,
          0.031394921243190765,
          0.048954419791698456,
          0.031383950263261795,
          0.039435528218746185,
          0.02133030630648136,
          0.021901529282331467,
          0.19441498816013336,
          0.05540696904063225,
          0.04353116452693939,
          0.05913371592760086,
          0.26478585600852966,
          0.011634635739028454,
          0.032001882791519165,
          0.0536215640604496,
          0.035024575889110565,
          0.059500016272068024,
          0.049970559775829315,
          0.043840572237968445,
          0.06295570731163025,
          0.05309898406267166,
          0.0780777707695961,
          0.02130095474421978,
          0.018404796719551086,
          0.01299977209419012
         ],
         "yaxis": "y"
        },
        {
         "fillpattern": {
          "shape": ""
         },
         "hovertemplate": "emotion=Disgust<br>pos_sec=%{x}<br>probability=%{y}<extra></extra>",
         "legendgroup": "Disgust",
         "line": {
          "color": "#482878"
         },
         "marker": {
          "symbol": "circle"
         },
         "mode": "lines",
         "name": "Disgust",
         "orientation": "v",
         "showlegend": true,
         "stackgroup": "1",
         "type": "scatter",
         "x": [
          6.44,
          6.8,
          7.16,
          7.52,
          7.88,
          8.24,
          8.6,
          8.96,
          9.32,
          9.68,
          10.04,
          10.4,
          10.4,
          20.12,
          20.48,
          20.84,
          21.2,
          21.56,
          21.92,
          22.28,
          22.64,
          23,
          23.36,
          33.08,
          33.44,
          33.8,
          34.16,
          34.52,
          34.88,
          35.24,
          35.6,
          35.96,
          36.32,
          36.68,
          47.48,
          47.84,
          48.2,
          48.56,
          48.92,
          49.28,
          49.64,
          50,
          50.36,
          52.16,
          61.16,
          61.52,
          61.88,
          61.88,
          62.24,
          62.6,
          62.96,
          63.32,
          63.68,
          64.04,
          64.4,
          65.84,
          75.2,
          75.56,
          75.92,
          76.28,
          76.64,
          77,
          77.36,
          77.72,
          78.08,
          78.44,
          78.8,
          79.16,
          80.24,
          89.96,
          90.32,
          90.68,
          91.04,
          91.4,
          91.76,
          92.12,
          92.48,
          92.84,
          93.2,
          93.56,
          93.92,
          94.28
         ],
         "xaxis": "x",
         "y": [
          0.0038778374437242746,
          0.0001963658578461036,
          0.0001853169233072549,
          0.0008328220574185252,
          0.00021943335013929754,
          0.0001317580754403025,
          0.0003179861232638359,
          0.00023174943635240197,
          0.00008251429244410247,
          0.000060444173868745565,
          0.00006468043284257874,
          0.00017260032473132014,
          0.009947662241756916,
          0.00003670100340968929,
          0.000039733335142955184,
          0.00009687338024377823,
          0.00003160677806590684,
          0.027920668944716454,
          0.08519371598958969,
          0.00004216226079734042,
          0.00010324140748707578,
          0.00005046051592216827,
          0.000024703002054593526,
          0.004146840423345566,
          0.000041925712139345706,
          0.00006956152355996892,
          0.00008488833555020392,
          0.00004669890768127516,
          0.0009044948383234441,
          0.0000361566235369537,
          0.00009198919724440202,
          0.00012423816951923072,
          0.00013572389434557408,
          0.000037209239962976426,
          0.00007997785724001005,
          0.00018514733528718352,
          0.000028933935027453117,
          0.0000139140365718049,
          0.00008811576844891533,
          2.0046280724272947e-7,
          0.00003986558658652939,
          0.000016224961655098014,
          0.000011616989468166139,
          0.0021218827459961176,
          0.00012593857536558062,
          0.00015413197979796678,
          0.00013614346971735358,
          0.00044842384522780776,
          0.00013166792632546276,
          0.00020970865443814546,
          0.00024496563128195703,
          0.0002725926460698247,
          0.00018126744544133544,
          0.00012469645298551768,
          0.00022341051953844726,
          0.0016491553978994489,
          0.00031366824987344444,
          0.0005415135528892279,
          0.0009927027858793736,
          0.00011825321416836232,
          0.00005443465124699287,
          0.00029108181479386985,
          0.00007806589565007016,
          0.00005571671135840006,
          0.0002757275942713022,
          0.00007798057777108625,
          0.00013357812713366002,
          0.00012746326683554798,
          0.00184625294059515,
          0.0004363034095149487,
          0.00008786599937593564,
          0.00031035798019729555,
          0.000039559145079692826,
          0.0001278429408557713,
          0.00014143524458631873,
          0.0003527205844875425,
          0.00017423434474039823,
          0.00005594837057287805,
          0.0001905085809994489,
          0.000034487416996853426,
          0.000024583465346950106,
          0.000017176918845507316
         ],
         "yaxis": "y"
        },
        {
         "fillpattern": {
          "shape": ""
         },
         "hovertemplate": "emotion=Fear<br>pos_sec=%{x}<br>probability=%{y}<extra></extra>",
         "legendgroup": "Fear",
         "line": {
          "color": "#3e4989"
         },
         "marker": {
          "symbol": "circle"
         },
         "mode": "lines",
         "name": "Fear",
         "orientation": "v",
         "showlegend": true,
         "stackgroup": "1",
         "type": "scatter",
         "x": [
          6.44,
          6.8,
          7.16,
          7.52,
          7.88,
          8.24,
          8.6,
          8.96,
          9.32,
          9.68,
          10.04,
          10.4,
          10.4,
          20.12,
          20.48,
          20.84,
          21.2,
          21.56,
          21.92,
          22.28,
          22.64,
          23,
          23.36,
          33.08,
          33.44,
          33.8,
          34.16,
          34.52,
          34.88,
          35.24,
          35.6,
          35.96,
          36.32,
          36.68,
          47.48,
          47.84,
          48.2,
          48.56,
          48.92,
          49.28,
          49.64,
          50,
          50.36,
          52.16,
          61.16,
          61.52,
          61.88,
          61.88,
          62.24,
          62.6,
          62.96,
          63.32,
          63.68,
          64.04,
          64.4,
          65.84,
          75.2,
          75.56,
          75.92,
          76.28,
          76.64,
          77,
          77.36,
          77.72,
          78.08,
          78.44,
          78.8,
          79.16,
          80.24,
          89.96,
          90.32,
          90.68,
          91.04,
          91.4,
          91.76,
          92.12,
          92.48,
          92.84,
          93.2,
          93.56,
          93.92,
          94.28
         ],
         "xaxis": "x",
         "y": [
          0.09752295911312103,
          0.27766966819763184,
          0.20710976421833038,
          0.19174674153327942,
          0.1825735867023468,
          0.1691408008337021,
          0.22909072041511536,
          0.1894146054983139,
          0.1396881490945816,
          0.1819087713956833,
          0.21194326877593994,
          0.3100367486476898,
          0.2964934706687927,
          0.37803056836128235,
          0.07834849506616592,
          0.0607648529112339,
          0.11311599612236023,
          0.2123555988073349,
          0.18062320351600647,
          0.07031446695327759,
          0.07203149050474167,
          0.08142060041427612,
          0.05792735889554024,
          0.4873594343662262,
          0.15377017855644226,
          0.15503838658332825,
          0.14932996034622192,
          0.1728181689977646,
          0.10533563792705536,
          0.0923057347536087,
          0.12651485204696655,
          0.14926986396312714,
          0.07535025477409363,
          0.09812593460083008,
          0.25940749049186707,
          0.062435515224933624,
          0.04952792450785637,
          0.050094395875930786,
          0.06941365450620651,
          0.00012704537948593497,
          0.05551154911518097,
          0.035738155245780945,
          0.047853369265794754,
          0.09517964720726013,
          0.3939046859741211,
          0.3497016131877899,
          0.24926383793354034,
          0.26122164726257324,
          0.32839739322662354,
          0.2899996340274811,
          0.271827757358551,
          0.2663883566856384,
          0.283752977848053,
          0.27627623081207275,
          0.2751813530921936,
          0.17684988677501678,
          0.1523779034614563,
          0.05159341171383858,
          0.11729483306407928,
          0.13033699989318848,
          0.06306807696819305,
          0.11198317259550095,
          0.06108279898762703,
          0.04905548319220543,
          0.05701323226094246,
          0.06027945876121521,
          0.09062425792217255,
          0.19171342253684998,
          0.07696784287691116,
          0.4077419340610504,
          0.20951728522777557,
          0.1889403909444809,
          0.10551656782627106,
          0.19370509684085846,
          0.16274917125701904,
          0.22149208188056946,
          0.23978549242019653,
          0.36492255330085754,
          0.30353331565856934,
          0.16649557650089264,
          0.13878314197063446,
          0.12271195650100708
         ],
         "yaxis": "y"
        },
        {
         "fillpattern": {
          "shape": ""
         },
         "hovertemplate": "emotion=Happy<br>pos_sec=%{x}<br>probability=%{y}<extra></extra>",
         "legendgroup": "Happy",
         "line": {
          "color": "#31688e"
         },
         "marker": {
          "symbol": "circle"
         },
         "mode": "lines",
         "name": "Happy",
         "orientation": "v",
         "showlegend": true,
         "stackgroup": "1",
         "type": "scatter",
         "x": [
          6.44,
          6.8,
          7.16,
          7.52,
          7.88,
          8.24,
          8.6,
          8.96,
          9.32,
          9.68,
          10.04,
          10.4,
          10.4,
          20.12,
          20.48,
          20.84,
          21.2,
          21.56,
          21.92,
          22.28,
          22.64,
          23,
          23.36,
          33.08,
          33.44,
          33.8,
          34.16,
          34.52,
          34.88,
          35.24,
          35.6,
          35.96,
          36.32,
          36.68,
          47.48,
          47.84,
          48.2,
          48.56,
          48.92,
          49.28,
          49.64,
          50,
          50.36,
          52.16,
          61.16,
          61.52,
          61.88,
          61.88,
          62.24,
          62.6,
          62.96,
          63.32,
          63.68,
          64.04,
          64.4,
          65.84,
          75.2,
          75.56,
          75.92,
          76.28,
          76.64,
          77,
          77.36,
          77.72,
          78.08,
          78.44,
          78.8,
          79.16,
          80.24,
          89.96,
          90.32,
          90.68,
          91.04,
          91.4,
          91.76,
          92.12,
          92.48,
          92.84,
          93.2,
          93.56,
          93.92,
          94.28
         ],
         "xaxis": "x",
         "y": [
          0.005045970436185598,
          0.004904893692582846,
          0.007607982959598303,
          0.006119696423411369,
          0.006757716182619333,
          0.007163568865507841,
          0.007288762368261814,
          0.004242127761244774,
          0.0013455762527883053,
          0.004694605246186256,
          0.006610726937651634,
          0.003944598603993654,
          0.02616557478904724,
          0.0026828800328075886,
          0.10172874480485916,
          0.08015000075101852,
          0.17740635573863983,
          0.1289716362953186,
          0.1165548786520958,
          0.10083859413862228,
          0.09105364233255386,
          0.10296502709388733,
          0.08959130197763443,
          0.00006120636680861935,
          0.005809942726045847,
          0.0033754208125174046,
          0.012120155617594719,
          0.0075616720132529736,
          0.002758702263236046,
          0.0045184483751654625,
          0.042339716106653214,
          0.08564312756061554,
          0.014623257331550121,
          0.0054477788507938385,
          0.0008921013213694096,
          0.03280087932944298,
          0.02416280284523964,
          0.029175765812397003,
          0.011682175099849701,
          0.9963341355323792,
          0.23526890575885773,
          0.10629496723413467,
          0.09622921049594879,
          0.4330638647079468,
          0.003971762489527464,
          0.004130521789193153,
          0.004657024051994085,
          0.03166437894105911,
          0.004315448459237814,
          0.002867055358365178,
          0.0004004478396382183,
          0.00039709932752884924,
          0.0006840912974439561,
          0.0009159402106888592,
          0.0009070963715203106,
          0.27415019273757935,
          0.0005337045295163989,
          0.007865644060075283,
          0.024093789979815483,
          0.007436631713062525,
          0.012081166729331017,
          0.013988408260047436,
          0.008784576319158077,
          0.012285111472010612,
          0.004385051317512989,
          0.005154063459485769,
          0.018757838755846024,
          0.012748992070555687,
          0.38559094071388245,
          0.0020000850781798363,
          0.009923257865011692,
          0.0056516551412642,
          0.0035754768177866936,
          0.004218414891511202,
          0.0038354964926838875,
          0.003984943497925997,
          0.0017637874698266387,
          0.0037186124827712774,
          0.004977345932275057,
          0.011684793047606945,
          0.011031707748770714,
          0.023551711812615395
         ],
         "yaxis": "y"
        },
        {
         "fillpattern": {
          "shape": ""
         },
         "hovertemplate": "emotion=Sad<br>pos_sec=%{x}<br>probability=%{y}<extra></extra>",
         "legendgroup": "Sad",
         "line": {
          "color": "#26828e"
         },
         "marker": {
          "symbol": "circle"
         },
         "mode": "lines",
         "name": "Sad",
         "orientation": "v",
         "showlegend": true,
         "stackgroup": "1",
         "type": "scatter",
         "x": [
          6.44,
          6.8,
          7.16,
          7.52,
          7.88,
          8.24,
          8.6,
          8.96,
          9.32,
          9.68,
          10.04,
          10.4,
          10.4,
          20.12,
          20.48,
          20.84,
          21.2,
          21.56,
          21.92,
          22.28,
          22.64,
          23,
          23.36,
          33.08,
          33.44,
          33.8,
          34.16,
          34.52,
          34.88,
          35.24,
          35.6,
          35.96,
          36.32,
          36.68,
          47.48,
          47.84,
          48.2,
          48.56,
          48.92,
          49.28,
          49.64,
          50,
          50.36,
          52.16,
          61.16,
          61.52,
          61.88,
          61.88,
          62.24,
          62.6,
          62.96,
          63.32,
          63.68,
          64.04,
          64.4,
          65.84,
          75.2,
          75.56,
          75.92,
          76.28,
          76.64,
          77,
          77.36,
          77.72,
          78.08,
          78.44,
          78.8,
          79.16,
          80.24,
          89.96,
          90.32,
          90.68,
          91.04,
          91.4,
          91.76,
          92.12,
          92.48,
          92.84,
          93.2,
          93.56,
          93.92,
          94.28
         ],
         "xaxis": "x",
         "y": [
          0.18629705905914307,
          0.17332521080970764,
          0.1925598680973053,
          0.14587774872779846,
          0.16837827861309052,
          0.17155244946479797,
          0.1857265681028366,
          0.14481386542320251,
          0.16267919540405273,
          0.23462456464767456,
          0.23408634960651398,
          0.20762716233730316,
          0.21822036802768707,
          0.01512676291167736,
          0.07480964064598083,
          0.07550910115242004,
          0.12088050693273544,
          0.2785384953022003,
          0.11531637609004974,
          0.1711474061012268,
          0.15521696209907532,
          0.13205505907535553,
          0.14771820604801178,
          0.028374770656228065,
          0.2019873410463333,
          0.16460956633090973,
          0.1280749887228012,
          0.17400500178337097,
          0.11620167642831802,
          0.1099349856376648,
          0.14508309960365295,
          0.1053241491317749,
          0.11543048173189163,
          0.12407012283802032,
          0.01305380929261446,
          0.07356292009353638,
          0.14432315528392792,
          0.1561639904975891,
          0.18333707749843597,
          0.00011853804608108476,
          0.10588520020246506,
          0.12722694873809814,
          0.11404646188020706,
          0.07317133992910385,
          0.14321669936180115,
          0.17751890420913696,
          0.1736752688884735,
          0.24518825113773346,
          0.19875825941562653,
          0.2472728043794632,
          0.3365141749382019,
          0.29628995060920715,
          0.3950192332267761,
          0.3686765432357788,
          0.38481009006500244,
          0.1341046541929245,
          0.01841878890991211,
          0.03895196318626404,
          0.1807231307029724,
          0.2872532904148102,
          0.26116257905960083,
          0.2373657375574112,
          0.23916350305080414,
          0.1921357661485672,
          0.19143736362457275,
          0.29565155506134033,
          0.2066841423511505,
          0.35694998502731323,
          0.07254289090633392,
          0.10704461485147476,
          0.22477377951145172,
          0.2985479235649109,
          0.28800317645072937,
          0.28111371397972107,
          0.22082069516181946,
          0.28147414326667786,
          0.4434736371040344,
          0.35376253724098206,
          0.3137255907058716,
          0.23650357127189636,
          0.18796055018901825,
          0.16549916565418243
         ],
         "yaxis": "y"
        },
        {
         "fillpattern": {
          "shape": ""
         },
         "hovertemplate": "emotion=Surprise<br>pos_sec=%{x}<br>probability=%{y}<extra></extra>",
         "legendgroup": "Surprise",
         "line": {
          "color": "#1f9e89"
         },
         "marker": {
          "symbol": "circle"
         },
         "mode": "lines",
         "name": "Surprise",
         "orientation": "v",
         "showlegend": true,
         "stackgroup": "1",
         "type": "scatter",
         "x": [
          6.44,
          6.8,
          7.16,
          7.52,
          7.88,
          8.24,
          8.6,
          8.96,
          9.32,
          9.68,
          10.04,
          10.4,
          10.4,
          20.12,
          20.48,
          20.84,
          21.2,
          21.56,
          21.92,
          22.28,
          22.64,
          23,
          23.36,
          33.08,
          33.44,
          33.8,
          34.16,
          34.52,
          34.88,
          35.24,
          35.6,
          35.96,
          36.32,
          36.68,
          47.48,
          47.84,
          48.2,
          48.56,
          48.92,
          49.28,
          49.64,
          50,
          50.36,
          52.16,
          61.16,
          61.52,
          61.88,
          61.88,
          62.24,
          62.6,
          62.96,
          63.32,
          63.68,
          64.04,
          64.4,
          65.84,
          75.2,
          75.56,
          75.92,
          76.28,
          76.64,
          77,
          77.36,
          77.72,
          78.08,
          78.44,
          78.8,
          79.16,
          80.24,
          89.96,
          90.32,
          90.68,
          91.04,
          91.4,
          91.76,
          92.12,
          92.48,
          92.84,
          93.2,
          93.56,
          93.92,
          94.28
         ],
         "xaxis": "x",
         "y": [
          0.43132084608078003,
          0.1992611587047577,
          0.05091235786676407,
          0.0046883500181138515,
          0.05598876625299454,
          0.08884347975254059,
          0.018299557268619537,
          0.12876558303833008,
          0.18306145071983337,
          0.05258583277463913,
          0.0350150503218174,
          0.11334681510925293,
          0.024589871987700462,
          0.513929545879364,
          0.03864150866866112,
          0.0372425802052021,
          0.020466092973947525,
          0.014260201714932919,
          0.03386866673827171,
          0.02550497278571129,
          0.028446756303310394,
          0.03155358135700226,
          0.02324575185775757,
          0.14654487371444702,
          0.015688635408878326,
          0.014902956783771515,
          0.04516172036528587,
          0.027934489771723747,
          0.0033379332162439823,
          0.025140846148133278,
          0.07065677642822266,
          0.036170076578855515,
          0.09380748122930527,
          0.021736569702625275,
          0.608969509601593,
          0.06551548093557358,
          0.12219549715518951,
          0.11118840426206589,
          0.08757428079843521,
          0.0002643137704581022,
          0.03176625818014145,
          0.05886007100343704,
          0.10645724087953568,
          0.011944115161895752,
          0.32306021451950073,
          0.09962386637926102,
          0.14280112087726593,
          0.050205495208501816,
          0.15452995896339417,
          0.09203005582094193,
          0.06256760656833649,
          0.12121716886758804,
          0.034580048173666,
          0.05867726728320122,
          0.04900789260864258,
          0.06340370327234268,
          0.21543602645397186,
          0.04898954927921295,
          0.13547928631305695,
          0.08215371519327164,
          0.1349506378173828,
          0.16952569782733917,
          0.15700657665729523,
          0.17727889120578766,
          0.026073032990098,
          0.06360021233558655,
          0.11068856716156006,
          0.09526385366916656,
          0.07982657849788666,
          0.4285490810871124,
          0.09355201572179794,
          0.06388415396213531,
          0.0417429618537426,
          0.052548158913850784,
          0.07323145866394043,
          0.07247862964868546,
          0.02288377657532692,
          0.0736626535654068,
          0.13804075121879578,
          0.0415523499250412,
          0.037503309547901154,
          0.061230383813381195
         ],
         "yaxis": "y"
        },
        {
         "fillpattern": {
          "shape": ""
         },
         "hovertemplate": "emotion=Neutral<br>pos_sec=%{x}<br>probability=%{y}<extra></extra>",
         "legendgroup": "Neutral",
         "line": {
          "color": "#35b779"
         },
         "marker": {
          "symbol": "circle"
         },
         "mode": "lines",
         "name": "Neutral",
         "orientation": "v",
         "showlegend": true,
         "stackgroup": "1",
         "type": "scatter",
         "x": [
          6.44,
          6.8,
          7.16,
          7.52,
          7.88,
          8.24,
          8.6,
          8.96,
          9.32,
          9.68,
          10.04,
          10.4,
          10.4,
          20.12,
          20.48,
          20.84,
          21.2,
          21.56,
          21.92,
          22.28,
          22.64,
          23,
          23.36,
          33.08,
          33.44,
          33.8,
          34.16,
          34.52,
          34.88,
          35.24,
          35.6,
          35.96,
          36.32,
          36.68,
          47.48,
          47.84,
          48.2,
          48.56,
          48.92,
          49.28,
          49.64,
          50,
          50.36,
          52.16,
          61.16,
          61.52,
          61.88,
          61.88,
          62.24,
          62.6,
          62.96,
          63.32,
          63.68,
          64.04,
          64.4,
          65.84,
          75.2,
          75.56,
          75.92,
          76.28,
          76.64,
          77,
          77.36,
          77.72,
          78.08,
          78.44,
          78.8,
          79.16,
          80.24,
          89.96,
          90.32,
          90.68,
          91.04,
          91.4,
          91.76,
          92.12,
          92.48,
          92.84,
          93.2,
          93.56,
          93.92,
          94.28
         ],
         "xaxis": "x",
         "y": [
          0.21670308709144592,
          0.2712448239326477,
          0.4895477294921875,
          0.6194869875907898,
          0.5521161556243896,
          0.5167949795722961,
          0.5015363693237305,
          0.48880571126937866,
          0.45890089869499207,
          0.43489572405815125,
          0.4662873446941376,
          0.30507925152778625,
          0.3838469088077545,
          0.061412978917360306,
          0.6828908920288086,
          0.7244666814804077,
          0.5477513074874878,
          0.18066488206386566,
          0.11362425237894058,
          0.6095303297042847,
          0.6256126165390015,
          0.6314530372619629,
          0.664161741733551,
          0.1499926596879959,
          0.6016254425048828,
          0.6277202367782593,
          0.644132137298584,
          0.5913551449775696,
          0.6986157894134521,
          0.746903657913208,
          0.6002967357635498,
          0.6095143556594849,
          0.6739646792411804,
          0.7218462824821472,
          0.11134743690490723,
          0.7500075101852417,
          0.6483168005943298,
          0.6453867554664612,
          0.6194589734077454,
          0.0030907124746590853,
          0.5629856586456299,
          0.6623614430427551,
          0.6272963285446167,
          0.16006530821323395,
          0.1296674758195877,
          0.19701175391674042,
          0.3569604456424713,
          0.35628315806388855,
          0.17255151271820068,
          0.23124563694000244,
          0.03886998072266579,
          0.033984098583459854,
          0.07855283468961716,
          0.11484696716070175,
          0.06850884109735489,
          0.18486258387565613,
          0.5992188453674316,
          0.8466944098472595,
          0.5100213885307312,
          0.4437466561794281,
          0.4972991943359375,
          0.427410364151001,
          0.5125541090965271,
          0.5472874641418457,
          0.526400625705719,
          0.5198298096656799,
          0.5295805335044861,
          0.28406256437301636,
          0.1184396743774414,
          0.04259338974952698,
          0.4301440119743347,
          0.38904398679733276,
          0.5260977149009705,
          0.4087867736816406,
          0.48925119638442993,
          0.3763769865036011,
          0.22896341979503632,
          0.15077869594097137,
          0.1614547073841095,
          0.5224282741546631,
          0.6062918901443481,
          0.6139898896217346
         ],
         "yaxis": "y"
        }
       ],
       "layout": {
        "autosize": false,
        "height": 500,
        "legend": {
         "title": {
          "text": "emotion"
         },
         "tracegroupgap": 0
        },
        "margin": {
         "b": 50,
         "l": 50,
         "pad": 4,
         "r": 50,
         "t": 50
        },
        "template": {
         "data": {
          "bar": [
           {
            "error_x": {
             "color": "#2a3f5f"
            },
            "error_y": {
             "color": "#2a3f5f"
            },
            "marker": {
             "line": {
              "color": "#E5ECF6",
              "width": 0.5
             },
             "pattern": {
              "fillmode": "overlay",
              "size": 10,
              "solidity": 0.2
             }
            },
            "type": "bar"
           }
          ],
          "barpolar": [
           {
            "marker": {
             "line": {
              "color": "#E5ECF6",
              "width": 0.5
             },
             "pattern": {
              "fillmode": "overlay",
              "size": 10,
              "solidity": 0.2
             }
            },
            "type": "barpolar"
           }
          ],
          "carpet": [
           {
            "aaxis": {
             "endlinecolor": "#2a3f5f",
             "gridcolor": "white",
             "linecolor": "white",
             "minorgridcolor": "white",
             "startlinecolor": "#2a3f5f"
            },
            "baxis": {
             "endlinecolor": "#2a3f5f",
             "gridcolor": "white",
             "linecolor": "white",
             "minorgridcolor": "white",
             "startlinecolor": "#2a3f5f"
            },
            "type": "carpet"
           }
          ],
          "choropleth": [
           {
            "colorbar": {
             "outlinewidth": 0,
             "ticks": ""
            },
            "type": "choropleth"
           }
          ],
          "contour": [
           {
            "colorbar": {
             "outlinewidth": 0,
             "ticks": ""
            },
            "colorscale": [
             [
              0,
              "#0d0887"
             ],
             [
              0.1111111111111111,
              "#46039f"
             ],
             [
              0.2222222222222222,
              "#7201a8"
             ],
             [
              0.3333333333333333,
              "#9c179e"
             ],
             [
              0.4444444444444444,
              "#bd3786"
             ],
             [
              0.5555555555555556,
              "#d8576b"
             ],
             [
              0.6666666666666666,
              "#ed7953"
             ],
             [
              0.7777777777777778,
              "#fb9f3a"
             ],
             [
              0.8888888888888888,
              "#fdca26"
             ],
             [
              1,
              "#f0f921"
             ]
            ],
            "type": "contour"
           }
          ],
          "contourcarpet": [
           {
            "colorbar": {
             "outlinewidth": 0,
             "ticks": ""
            },
            "type": "contourcarpet"
           }
          ],
          "heatmap": [
           {
            "colorbar": {
             "outlinewidth": 0,
             "ticks": ""
            },
            "colorscale": [
             [
              0,
              "#0d0887"
             ],
             [
              0.1111111111111111,
              "#46039f"
             ],
             [
              0.2222222222222222,
              "#7201a8"
             ],
             [
              0.3333333333333333,
              "#9c179e"
             ],
             [
              0.4444444444444444,
              "#bd3786"
             ],
             [
              0.5555555555555556,
              "#d8576b"
             ],
             [
              0.6666666666666666,
              "#ed7953"
             ],
             [
              0.7777777777777778,
              "#fb9f3a"
             ],
             [
              0.8888888888888888,
              "#fdca26"
             ],
             [
              1,
              "#f0f921"
             ]
            ],
            "type": "heatmap"
           }
          ],
          "heatmapgl": [
           {
            "colorbar": {
             "outlinewidth": 0,
             "ticks": ""
            },
            "colorscale": [
             [
              0,
              "#0d0887"
             ],
             [
              0.1111111111111111,
              "#46039f"
             ],
             [
              0.2222222222222222,
              "#7201a8"
             ],
             [
              0.3333333333333333,
              "#9c179e"
             ],
             [
              0.4444444444444444,
              "#bd3786"
             ],
             [
              0.5555555555555556,
              "#d8576b"
             ],
             [
              0.6666666666666666,
              "#ed7953"
             ],
             [
              0.7777777777777778,
              "#fb9f3a"
             ],
             [
              0.8888888888888888,
              "#fdca26"
             ],
             [
              1,
              "#f0f921"
             ]
            ],
            "type": "heatmapgl"
           }
          ],
          "histogram": [
           {
            "marker": {
             "pattern": {
              "fillmode": "overlay",
              "size": 10,
              "solidity": 0.2
             }
            },
            "type": "histogram"
           }
          ],
          "histogram2d": [
           {
            "colorbar": {
             "outlinewidth": 0,
             "ticks": ""
            },
            "colorscale": [
             [
              0,
              "#0d0887"
             ],
             [
              0.1111111111111111,
              "#46039f"
             ],
             [
              0.2222222222222222,
              "#7201a8"
             ],
             [
              0.3333333333333333,
              "#9c179e"
             ],
             [
              0.4444444444444444,
              "#bd3786"
             ],
             [
              0.5555555555555556,
              "#d8576b"
             ],
             [
              0.6666666666666666,
              "#ed7953"
             ],
             [
              0.7777777777777778,
              "#fb9f3a"
             ],
             [
              0.8888888888888888,
              "#fdca26"
             ],
             [
              1,
              "#f0f921"
             ]
            ],
            "type": "histogram2d"
           }
          ],
          "histogram2dcontour": [
           {
            "colorbar": {
             "outlinewidth": 0,
             "ticks": ""
            },
            "colorscale": [
             [
              0,
              "#0d0887"
             ],
             [
              0.1111111111111111,
              "#46039f"
             ],
             [
              0.2222222222222222,
              "#7201a8"
             ],
             [
              0.3333333333333333,
              "#9c179e"
             ],
             [
              0.4444444444444444,
              "#bd3786"
             ],
             [
              0.5555555555555556,
              "#d8576b"
             ],
             [
              0.6666666666666666,
              "#ed7953"
             ],
             [
              0.7777777777777778,
              "#fb9f3a"
             ],
             [
              0.8888888888888888,
              "#fdca26"
             ],
             [
              1,
              "#f0f921"
             ]
            ],
            "type": "histogram2dcontour"
           }
          ],
          "mesh3d": [
           {
            "colorbar": {
             "outlinewidth": 0,
             "ticks": ""
            },
            "type": "mesh3d"
           }
          ],
          "parcoords": [
           {
            "line": {
             "colorbar": {
              "outlinewidth": 0,
              "ticks": ""
             }
            },
            "type": "parcoords"
           }
          ],
          "pie": [
           {
            "automargin": true,
            "type": "pie"
           }
          ],
          "scatter": [
           {
            "fillpattern": {
             "fillmode": "overlay",
             "size": 10,
             "solidity": 0.2
            },
            "type": "scatter"
           }
          ],
          "scatter3d": [
           {
            "line": {
             "colorbar": {
              "outlinewidth": 0,
              "ticks": ""
             }
            },
            "marker": {
             "colorbar": {
              "outlinewidth": 0,
              "ticks": ""
             }
            },
            "type": "scatter3d"
           }
          ],
          "scattercarpet": [
           {
            "marker": {
             "colorbar": {
              "outlinewidth": 0,
              "ticks": ""
             }
            },
            "type": "scattercarpet"
           }
          ],
          "scattergeo": [
           {
            "marker": {
             "colorbar": {
              "outlinewidth": 0,
              "ticks": ""
             }
            },
            "type": "scattergeo"
           }
          ],
          "scattergl": [
           {
            "marker": {
             "colorbar": {
              "outlinewidth": 0,
              "ticks": ""
             }
            },
            "type": "scattergl"
           }
          ],
          "scattermapbox": [
           {
            "marker": {
             "colorbar": {
              "outlinewidth": 0,
              "ticks": ""
             }
            },
            "type": "scattermapbox"
           }
          ],
          "scatterpolar": [
           {
            "marker": {
             "colorbar": {
              "outlinewidth": 0,
              "ticks": ""
             }
            },
            "type": "scatterpolar"
           }
          ],
          "scatterpolargl": [
           {
            "marker": {
             "colorbar": {
              "outlinewidth": 0,
              "ticks": ""
             }
            },
            "type": "scatterpolargl"
           }
          ],
          "scatterternary": [
           {
            "marker": {
             "colorbar": {
              "outlinewidth": 0,
              "ticks": ""
             }
            },
            "type": "scatterternary"
           }
          ],
          "surface": [
           {
            "colorbar": {
             "outlinewidth": 0,
             "ticks": ""
            },
            "colorscale": [
             [
              0,
              "#0d0887"
             ],
             [
              0.1111111111111111,
              "#46039f"
             ],
             [
              0.2222222222222222,
              "#7201a8"
             ],
             [
              0.3333333333333333,
              "#9c179e"
             ],
             [
              0.4444444444444444,
              "#bd3786"
             ],
             [
              0.5555555555555556,
              "#d8576b"
             ],
             [
              0.6666666666666666,
              "#ed7953"
             ],
             [
              0.7777777777777778,
              "#fb9f3a"
             ],
             [
              0.8888888888888888,
              "#fdca26"
             ],
             [
              1,
              "#f0f921"
             ]
            ],
            "type": "surface"
           }
          ],
          "table": [
           {
            "cells": {
             "fill": {
              "color": "#EBF0F8"
             },
             "line": {
              "color": "white"
             }
            },
            "header": {
             "fill": {
              "color": "#C8D4E3"
             },
             "line": {
              "color": "white"
             }
            },
            "type": "table"
           }
          ]
         },
         "layout": {
          "annotationdefaults": {
           "arrowcolor": "#2a3f5f",
           "arrowhead": 0,
           "arrowwidth": 1
          },
          "autotypenumbers": "strict",
          "coloraxis": {
           "colorbar": {
            "outlinewidth": 0,
            "ticks": ""
           }
          },
          "colorscale": {
           "diverging": [
            [
             0,
             "#8e0152"
            ],
            [
             0.1,
             "#c51b7d"
            ],
            [
             0.2,
             "#de77ae"
            ],
            [
             0.3,
             "#f1b6da"
            ],
            [
             0.4,
             "#fde0ef"
            ],
            [
             0.5,
             "#f7f7f7"
            ],
            [
             0.6,
             "#e6f5d0"
            ],
            [
             0.7,
             "#b8e186"
            ],
            [
             0.8,
             "#7fbc41"
            ],
            [
             0.9,
             "#4d9221"
            ],
            [
             1,
             "#276419"
            ]
           ],
           "sequential": [
            [
             0,
             "#0d0887"
            ],
            [
             0.1111111111111111,
             "#46039f"
            ],
            [
             0.2222222222222222,
             "#7201a8"
            ],
            [
             0.3333333333333333,
             "#9c179e"
            ],
            [
             0.4444444444444444,
             "#bd3786"
            ],
            [
             0.5555555555555556,
             "#d8576b"
            ],
            [
             0.6666666666666666,
             "#ed7953"
            ],
            [
             0.7777777777777778,
             "#fb9f3a"
            ],
            [
             0.8888888888888888,
             "#fdca26"
            ],
            [
             1,
             "#f0f921"
            ]
           ],
           "sequentialminus": [
            [
             0,
             "#0d0887"
            ],
            [
             0.1111111111111111,
             "#46039f"
            ],
            [
             0.2222222222222222,
             "#7201a8"
            ],
            [
             0.3333333333333333,
             "#9c179e"
            ],
            [
             0.4444444444444444,
             "#bd3786"
            ],
            [
             0.5555555555555556,
             "#d8576b"
            ],
            [
             0.6666666666666666,
             "#ed7953"
            ],
            [
             0.7777777777777778,
             "#fb9f3a"
            ],
            [
             0.8888888888888888,
             "#fdca26"
            ],
            [
             1,
             "#f0f921"
            ]
           ]
          },
          "colorway": [
           "#636efa",
           "#EF553B",
           "#00cc96",
           "#ab63fa",
           "#FFA15A",
           "#19d3f3",
           "#FF6692",
           "#B6E880",
           "#FF97FF",
           "#FECB52"
          ],
          "font": {
           "color": "#2a3f5f"
          },
          "geo": {
           "bgcolor": "white",
           "lakecolor": "white",
           "landcolor": "#E5ECF6",
           "showlakes": true,
           "showland": true,
           "subunitcolor": "white"
          },
          "hoverlabel": {
           "align": "left"
          },
          "hovermode": "closest",
          "mapbox": {
           "style": "light"
          },
          "paper_bgcolor": "white",
          "plot_bgcolor": "#E5ECF6",
          "polar": {
           "angularaxis": {
            "gridcolor": "white",
            "linecolor": "white",
            "ticks": ""
           },
           "bgcolor": "#E5ECF6",
           "radialaxis": {
            "gridcolor": "white",
            "linecolor": "white",
            "ticks": ""
           }
          },
          "scene": {
           "xaxis": {
            "backgroundcolor": "#E5ECF6",
            "gridcolor": "white",
            "gridwidth": 2,
            "linecolor": "white",
            "showbackground": true,
            "ticks": "",
            "zerolinecolor": "white"
           },
           "yaxis": {
            "backgroundcolor": "#E5ECF6",
            "gridcolor": "white",
            "gridwidth": 2,
            "linecolor": "white",
            "showbackground": true,
            "ticks": "",
            "zerolinecolor": "white"
           },
           "zaxis": {
            "backgroundcolor": "#E5ECF6",
            "gridcolor": "white",
            "gridwidth": 2,
            "linecolor": "white",
            "showbackground": true,
            "ticks": "",
            "zerolinecolor": "white"
           }
          },
          "shapedefaults": {
           "line": {
            "color": "#2a3f5f"
           }
          },
          "ternary": {
           "aaxis": {
            "gridcolor": "white",
            "linecolor": "white",
            "ticks": ""
           },
           "baxis": {
            "gridcolor": "white",
            "linecolor": "white",
            "ticks": ""
           },
           "bgcolor": "#E5ECF6",
           "caxis": {
            "gridcolor": "white",
            "linecolor": "white",
            "ticks": ""
           }
          },
          "title": {
           "x": 0.05
          },
          "xaxis": {
           "automargin": true,
           "gridcolor": "white",
           "linecolor": "white",
           "ticks": "",
           "title": {
            "standoff": 15
           },
           "zerolinecolor": "white",
           "zerolinewidth": 2
          },
          "yaxis": {
           "automargin": true,
           "gridcolor": "white",
           "linecolor": "white",
           "ticks": "",
           "title": {
            "standoff": 15
           },
           "zerolinecolor": "white",
           "zerolinewidth": 2
          }
         }
        },
        "title": {
         "text": "Emotion-Map",
         "x": 0.5,
         "xanchor": "center",
         "y": 0.97,
         "yanchor": "top"
        },
        "width": 600,
        "xaxis": {
         "anchor": "y",
         "domain": [
          0,
          1
         ],
         "title": {
          "text": "Frame"
         }
        },
        "yaxis": {
         "anchor": "x",
         "domain": [
          0,
          1
         ],
         "title": {
          "text": "Emotion distribution"
         }
        }
       }
      }
     },
     "metadata": {},
     "output_type": "display_data"
    }
   ],
   "source": [
    "#df_10th = df_emotions[df_emotions[\"Frame\"] % 20 == 0]  # select every 10th frame\n",
    "\n",
    "# assuming your DataFrame is named df\n",
    "fig = px.area(df_plotting, x=\"pos_sec\", y='probability', color = 'emotion',\n",
    "              color_discrete_sequence=px.colors.sequential.Viridis, title=\"Emotion-Map\")\n",
    "\n",
    "fig.update_layout(\n",
    "    autosize=False,\n",
    "    width=600,\n",
    "    height=500,\n",
    "    margin=dict(\n",
    "        l=50,\n",
    "        r=50,\n",
    "        b=50,\n",
    "        t=50,\n",
    "        pad=4\n",
    "    ),\n",
    "    yaxis=dict(\n",
    "        title='Emotion distribution'\n",
    "    ),\n",
    "    xaxis=dict(\n",
    "        title='Frame'\n",
    "    ),\n",
    "    title={\n",
    "        'y': 0.97,\n",
    "        'x': 0.5,\n",
    "        'xanchor': 'center',\n",
    "        'yanchor': 'top'\n",
    "    }\n",
    ")\n",
    "\n",
    "fig.show()"
   ]
  },
  {
   "cell_type": "code",
   "execution_count": null,
   "metadata": {},
   "outputs": [
    {
     "data": {
      "text/plain": [
       "<Axes: xlabel='pos_sec', ylabel='probability'>"
      ]
     },
     "execution_count": 17,
     "metadata": {},
     "output_type": "execute_result"
    },
    {
     "data": {
      "image/png": "[encoded data removed]",
      "text/plain": [
       "<Figure size 640x480 with 1 Axes>"
      ]
     },
     "metadata": {},
     "output_type": "display_data"
    }
   ],
   "source": [
    "sns.lineplot(data = df_plotting, x = 'pos_sec', y='probability', hue = 'emotion')"
   ]
  },
  {
   "cell_type": "code",
   "execution_count": null,
   "metadata": {},
   "outputs": [
    {
     "data": {
      "application/vnd.plotly.v1+json": {
       "config": {
        "plotlyServerURL": "https://plot.ly"
       },
       "data": [
        {
         "fillpattern": {
          "shape": ""
         },
         "hovertemplate": "emotion=Angry<br>pos_sec=%{x}<br>probability=%{y}<extra></extra>",
         "legendgroup": "Angry",
         "line": {
          "color": "#636efa"
         },
         "marker": {
          "symbol": "circle"
         },
         "mode": "lines",
         "name": "Angry",
         "orientation": "v",
         "showlegend": true,
         "stackgroup": "1",
         "type": "scatter",
         "x": [
          6.44,
          6.8,
          7.16,
          7.52,
          7.88,
          8.24,
          8.6,
          8.96,
          9.32,
          9.68,
          10.04,
          10.4,
          10.4,
          20.12,
          20.48,
          20.84,
          21.2,
          21.56,
          21.92,
          22.28,
          22.64,
          23,
          23.36,
          33.08,
          33.44,
          33.8,
          34.16,
          34.52,
          34.88,
          35.24,
          35.6,
          35.96,
          36.32,
          36.68,
          47.48,
          47.84,
          48.2,
          48.56,
          48.92,
          49.28,
          49.64,
          50,
          50.36,
          52.16,
          61.16,
          61.52,
          61.88,
          61.88,
          62.24,
          62.6,
          62.96,
          63.32,
          63.68,
          64.04,
          64.4,
          65.84,
          75.2,
          75.56,
          75.92,
          76.28,
          76.64,
          77,
          77.36,
          77.72,
          78.08,
          78.44,
          78.8,
          79.16,
          80.24,
          89.96,
          90.32,
          90.68,
          91.04,
          91.4,
          91.76,
          92.12,
          92.48,
          92.84,
          93.2,
          93.56,
          93.92,
          94.28
         ],
         "xaxis": "x",
         "y": [
          0.05923227593302727,
          0.0733979195356369,
          0.05207693204283714,
          0.031247682869434357,
          0.03396608680486679,
          0.04637296125292778,
          0.05774007365107536,
          0.04372633248567581,
          0.054242223501205444,
          0.09123007953166962,
          0.04599267989397049,
          0.0597928985953331,
          0.04073613882064819,
          0.02878059819340706,
          0.023540982976555824,
          0.021769924089312553,
          0.02034812979400158,
          0.15728861093521118,
          0.3548189401626587,
          0.02262204885482788,
          0.027535274624824524,
          0.020502232015132904,
          0.01733095571398735,
          0.18352018296718597,
          0.021076638251543045,
          0.034283850342035294,
          0.02109612338244915,
          0.026278823614120483,
          0.07284577190876007,
          0.02116013877093792,
          0.01501673087477684,
          0.01395423710346222,
          0.02668802998960018,
          0.02873608097434044,
          0.006249652709811926,
          0.015492558479309082,
          0.011444884352385998,
          0.007976796478033066,
          0.028445731848478317,
          0.00006511246465379372,
          0.008542545139789581,
          0.009502246044576168,
          0.008105737157166004,
          0.22445382177829742,
          0.006053280550986528,
          0.17185921967029572,
          0.07250615209341049,
          0.054988645017147064,
          0.1413157731294632,
          0.13637514412403107,
          0.2895749807357788,
          0.2814508080482483,
          0.2072295993566513,
          0.18048234283924103,
          0.22136135399341583,
          0.16497983038425446,
          0.013701035641133785,
          0.005363454110920429,
          0.031394921243190765,
          0.048954419791698456,
          0.031383950263261795,
          0.039435528218746185,
          0.02133030630648136,
          0.021901529282331467,
          0.19441498816013336,
          0.05540696904063225,
          0.04353116452693939,
          0.05913371592760086,
          0.26478585600852966,
          0.011634635739028454,
          0.032001882791519165,
          0.0536215640604496,
          0.035024575889110565,
          0.059500016272068024,
          0.049970559775829315,
          0.043840572237968445,
          0.06295570731163025,
          0.05309898406267166,
          0.0780777707695961,
          0.02130095474421978,
          0.018404796719551086,
          0.01299977209419012
         ],
         "yaxis": "y"
        },
        {
         "fillpattern": {
          "shape": ""
         },
         "hovertemplate": "emotion=Disgust<br>pos_sec=%{x}<br>probability=%{y}<extra></extra>",
         "legendgroup": "Disgust",
         "line": {
          "color": "#EF553B"
         },
         "marker": {
          "symbol": "circle"
         },
         "mode": "lines",
         "name": "Disgust",
         "orientation": "v",
         "showlegend": true,
         "stackgroup": "1",
         "type": "scatter",
         "x": [
          6.44,
          6.8,
          7.16,
          7.52,
          7.88,
          8.24,
          8.6,
          8.96,
          9.32,
          9.68,
          10.04,
          10.4,
          10.4,
          20.12,
          20.48,
          20.84,
          21.2,
          21.56,
          21.92,
          22.28,
          22.64,
          23,
          23.36,
          33.08,
          33.44,
          33.8,
          34.16,
          34.52,
          34.88,
          35.24,
          35.6,
          35.96,
          36.32,
          36.68,
          47.48,
          47.84,
          48.2,
          48.56,
          48.92,
          49.28,
          49.64,
          50,
          50.36,
          52.16,
          61.16,
          61.52,
          61.88,
          61.88,
          62.24,
          62.6,
          62.96,
          63.32,
          63.68,
          64.04,
          64.4,
          65.84,
          75.2,
          75.56,
          75.92,
          76.28,
          76.64,
          77,
          77.36,
          77.72,
          78.08,
          78.44,
          78.8,
          79.16,
          80.24,
          89.96,
          90.32,
          90.68,
          91.04,
          91.4,
          91.76,
          92.12,
          92.48,
          92.84,
          93.2,
          93.56,
          93.92,
          94.28
         ],
         "xaxis": "x",
         "y": [
          0.0038778374437242746,
          0.0001963658578461036,
          0.0001853169233072549,
          0.0008328220574185252,
          0.00021943335013929754,
          0.0001317580754403025,
          0.0003179861232638359,
          0.00023174943635240197,
          0.00008251429244410247,
          0.000060444173868745565,
          0.00006468043284257874,
          0.00017260032473132014,
          0.009947662241756916,
          0.00003670100340968929,
          0.000039733335142955184,
          0.00009687338024377823,
          0.00003160677806590684,
          0.027920668944716454,
          0.08519371598958969,
          0.00004216226079734042,
          0.00010324140748707578,
          0.00005046051592216827,
          0.000024703002054593526,
          0.004146840423345566,
          0.000041925712139345706,
          0.00006956152355996892,
          0.00008488833555020392,
          0.00004669890768127516,
          0.0009044948383234441,
          0.0000361566235369537,
          0.00009198919724440202,
          0.00012423816951923072,
          0.00013572389434557408,
          0.000037209239962976426,
          0.00007997785724001005,
          0.00018514733528718352,
          0.000028933935027453117,
          0.0000139140365718049,
          0.00008811576844891533,
          2.0046280724272947e-7,
          0.00003986558658652939,
          0.000016224961655098014,
          0.000011616989468166139,
          0.0021218827459961176,
          0.00012593857536558062,
          0.00015413197979796678,
          0.00013614346971735358,
          0.00044842384522780776,
          0.00013166792632546276,
          0.00020970865443814546,
          0.00024496563128195703,
          0.0002725926460698247,
          0.00018126744544133544,
          0.00012469645298551768,
          0.00022341051953844726,
          0.0016491553978994489,
          0.00031366824987344444,
          0.0005415135528892279,
          0.0009927027858793736,
          0.00011825321416836232,
          0.00005443465124699287,
          0.00029108181479386985,
          0.00007806589565007016,
          0.00005571671135840006,
          0.0002757275942713022,
          0.00007798057777108625,
          0.00013357812713366002,
          0.00012746326683554798,
          0.00184625294059515,
          0.0004363034095149487,
          0.00008786599937593564,
          0.00031035798019729555,
          0.000039559145079692826,
          0.0001278429408557713,
          0.00014143524458631873,
          0.0003527205844875425,
          0.00017423434474039823,
          0.00005594837057287805,
          0.0001905085809994489,
          0.000034487416996853426,
          0.000024583465346950106,
          0.000017176918845507316
         ],
         "yaxis": "y"
        },
        {
         "fillpattern": {
          "shape": ""
         },
         "hovertemplate": "emotion=Fear<br>pos_sec=%{x}<br>probability=%{y}<extra></extra>",
         "legendgroup": "Fear",
         "line": {
          "color": "#00cc96"
         },
         "marker": {
          "symbol": "circle"
         },
         "mode": "lines",
         "name": "Fear",
         "orientation": "v",
         "showlegend": true,
         "stackgroup": "1",
         "type": "scatter",
         "x": [
          6.44,
          6.8,
          7.16,
          7.52,
          7.88,
          8.24,
          8.6,
          8.96,
          9.32,
          9.68,
          10.04,
          10.4,
          10.4,
          20.12,
          20.48,
          20.84,
          21.2,
          21.56,
          21.92,
          22.28,
          22.64,
          23,
          23.36,
          33.08,
          33.44,
          33.8,
          34.16,
          34.52,
          34.88,
          35.24,
          35.6,
          35.96,
          36.32,
          36.68,
          47.48,
          47.84,
          48.2,
          48.56,
          48.92,
          49.28,
          49.64,
          50,
          50.36,
          52.16,
          61.16,
          61.52,
          61.88,
          61.88,
          62.24,
          62.6,
          62.96,
          63.32,
          63.68,
          64.04,
          64.4,
          65.84,
          75.2,
          75.56,
          75.92,
          76.28,
          76.64,
          77,
          77.36,
          77.72,
          78.08,
          78.44,
          78.8,
          79.16,
          80.24,
          89.96,
          90.32,
          90.68,
          91.04,
          91.4,
          91.76,
          92.12,
          92.48,
          92.84,
          93.2,
          93.56,
          93.92,
          94.28
         ],
         "xaxis": "x",
         "y": [
          0.09752295911312103,
          0.27766966819763184,
          0.20710976421833038,
          0.19174674153327942,
          0.1825735867023468,
          0.1691408008337021,
          0.22909072041511536,
          0.1894146054983139,
          0.1396881490945816,
          0.1819087713956833,
          0.21194326877593994,
          0.3100367486476898,
          0.2964934706687927,
          0.37803056836128235,
          0.07834849506616592,
          0.0607648529112339,
          0.11311599612236023,
          0.2123555988073349,
          0.18062320351600647,
          0.07031446695327759,
          0.07203149050474167,
          0.08142060041427612,
          0.05792735889554024,
          0.4873594343662262,
          0.15377017855644226,
          0.15503838658332825,
          0.14932996034622192,
          0.1728181689977646,
          0.10533563792705536,
          0.0923057347536087,
          0.12651485204696655,
          0.14926986396312714,
          0.07535025477409363,
          0.09812593460083008,
          0.25940749049186707,
          0.062435515224933624,
          0.04952792450785637,
          0.050094395875930786,
          0.06941365450620651,
          0.00012704537948593497,
          0.05551154911518097,
          0.035738155245780945,
          0.047853369265794754,
          0.09517964720726013,
          0.3939046859741211,
          0.3497016131877899,
          0.24926383793354034,
          0.26122164726257324,
          0.32839739322662354,
          0.2899996340274811,
          0.271827757358551,
          0.2663883566856384,
          0.283752977848053,
          0.27627623081207275,
          0.2751813530921936,
          0.17684988677501678,
          0.1523779034614563,
          0.05159341171383858,
          0.11729483306407928,
          0.13033699989318848,
          0.06306807696819305,
          0.11198317259550095,
          0.06108279898762703,
          0.04905548319220543,
          0.05701323226094246,
          0.06027945876121521,
          0.09062425792217255,
          0.19171342253684998,
          0.07696784287691116,
          0.4077419340610504,
          0.20951728522777557,
          0.1889403909444809,
          0.10551656782627106,
          0.19370509684085846,
          0.16274917125701904,
          0.22149208188056946,
          0.23978549242019653,
          0.36492255330085754,
          0.30353331565856934,
          0.16649557650089264,
          0.13878314197063446,
          0.12271195650100708
         ],
         "yaxis": "y"
        },
        {
         "fillpattern": {
          "shape": ""
         },
         "hovertemplate": "emotion=Happy<br>pos_sec=%{x}<br>probability=%{y}<extra></extra>",
         "legendgroup": "Happy",
         "line": {
          "color": "#ab63fa"
         },
         "marker": {
          "symbol": "circle"
         },
         "mode": "lines",
         "name": "Happy",
         "orientation": "v",
         "showlegend": true,
         "stackgroup": "1",
         "type": "scatter",
         "x": [
          6.44,
          6.8,
          7.16,
          7.52,
          7.88,
          8.24,
          8.6,
          8.96,
          9.32,
          9.68,
          10.04,
          10.4,
          10.4,
          20.12,
          20.48,
          20.84,
          21.2,
          21.56,
          21.92,
          22.28,
          22.64,
          23,
          23.36,
          33.08,
          33.44,
          33.8,
          34.16,
          34.52,
          34.88,
          35.24,
          35.6,
          35.96,
          36.32,
          36.68,
          47.48,
          47.84,
          48.2,
          48.56,
          48.92,
          49.28,
          49.64,
          50,
          50.36,
          52.16,
          61.16,
          61.52,
          61.88,
          61.88,
          62.24,
          62.6,
          62.96,
          63.32,
          63.68,
          64.04,
          64.4,
          65.84,
          75.2,
          75.56,
          75.92,
          76.28,
          76.64,
          77,
          77.36,
          77.72,
          78.08,
          78.44,
          78.8,
          79.16,
          80.24,
          89.96,
          90.32,
          90.68,
          91.04,
          91.4,
          91.76,
          92.12,
          92.48,
          92.84,
          93.2,
          93.56,
          93.92,
          94.28
         ],
         "xaxis": "x",
         "y": [
          0.005045970436185598,
          0.004904893692582846,
          0.007607982959598303,
          0.006119696423411369,
          0.006757716182619333,
          0.007163568865507841,
          0.007288762368261814,
          0.004242127761244774,
          0.0013455762527883053,
          0.004694605246186256,
          0.006610726937651634,
          0.003944598603993654,
          0.02616557478904724,
          0.0026828800328075886,
          0.10172874480485916,
          0.08015000075101852,
          0.17740635573863983,
          0.1289716362953186,
          0.1165548786520958,
          0.10083859413862228,
          0.09105364233255386,
          0.10296502709388733,
          0.08959130197763443,
          0.00006120636680861935,
          0.005809942726045847,
          0.0033754208125174046,
          0.012120155617594719,
          0.0075616720132529736,
          0.002758702263236046,
          0.0045184483751654625,
          0.042339716106653214,
          0.08564312756061554,
          0.014623257331550121,
          0.0054477788507938385,
          0.0008921013213694096,
          0.03280087932944298,
          0.02416280284523964,
          0.029175765812397003,
          0.011682175099849701,
          0.9963341355323792,
          0.23526890575885773,
          0.10629496723413467,
          0.09622921049594879,
          0.4330638647079468,
          0.003971762489527464,
          0.004130521789193153,
          0.004657024051994085,
          0.03166437894105911,
          0.004315448459237814,
          0.002867055358365178,
          0.0004004478396382183,
          0.00039709932752884924,
          0.0006840912974439561,
          0.0009159402106888592,
          0.0009070963715203106,
          0.27415019273757935,
          0.0005337045295163989,
          0.007865644060075283,
          0.024093789979815483,
          0.007436631713062525,
          0.012081166729331017,
          0.013988408260047436,
          0.008784576319158077,
          0.012285111472010612,
          0.004385051317512989,
          0.005154063459485769,
          0.018757838755846024,
          0.012748992070555687,
          0.38559094071388245,
          0.0020000850781798363,
          0.009923257865011692,
          0.0056516551412642,
          0.0035754768177866936,
          0.004218414891511202,
          0.0038354964926838875,
          0.003984943497925997,
          0.0017637874698266387,
          0.0037186124827712774,
          0.004977345932275057,
          0.011684793047606945,
          0.011031707748770714,
          0.023551711812615395
         ],
         "yaxis": "y"
        },
        {
         "fillpattern": {
          "shape": ""
         },
         "hovertemplate": "emotion=Sad<br>pos_sec=%{x}<br>probability=%{y}<extra></extra>",
         "legendgroup": "Sad",
         "line": {
          "color": "#FFA15A"
         },
         "marker": {
          "symbol": "circle"
         },
         "mode": "lines",
         "name": "Sad",
         "orientation": "v",
         "showlegend": true,
         "stackgroup": "1",
         "type": "scatter",
         "x": [
          6.44,
          6.8,
          7.16,
          7.52,
          7.88,
          8.24,
          8.6,
          8.96,
          9.32,
          9.68,
          10.04,
          10.4,
          10.4,
          20.12,
          20.48,
          20.84,
          21.2,
          21.56,
          21.92,
          22.28,
          22.64,
          23,
          23.36,
          33.08,
          33.44,
          33.8,
          34.16,
          34.52,
          34.88,
          35.24,
          35.6,
          35.96,
          36.32,
          36.68,
          47.48,
          47.84,
          48.2,
          48.56,
          48.92,
          49.28,
          49.64,
          50,
          50.36,
          52.16,
          61.16,
          61.52,
          61.88,
          61.88,
          62.24,
          62.6,
          62.96,
          63.32,
          63.68,
          64.04,
          64.4,
          65.84,
          75.2,
          75.56,
          75.92,
          76.28,
          76.64,
          77,
          77.36,
          77.72,
          78.08,
          78.44,
          78.8,
          79.16,
          80.24,
          89.96,
          90.32,
          90.68,
          91.04,
          91.4,
          91.76,
          92.12,
          92.48,
          92.84,
          93.2,
          93.56,
          93.92,
          94.28
         ],
         "xaxis": "x",
         "y": [
          0.18629705905914307,
          0.17332521080970764,
          0.1925598680973053,
          0.14587774872779846,
          0.16837827861309052,
          0.17155244946479797,
          0.1857265681028366,
          0.14481386542320251,
          0.16267919540405273,
          0.23462456464767456,
          0.23408634960651398,
          0.20762716233730316,
          0.21822036802768707,
          0.01512676291167736,
          0.07480964064598083,
          0.07550910115242004,
          0.12088050693273544,
          0.2785384953022003,
          0.11531637609004974,
          0.1711474061012268,
          0.15521696209907532,
          0.13205505907535553,
          0.14771820604801178,
          0.028374770656228065,
          0.2019873410463333,
          0.16460956633090973,
          0.1280749887228012,
          0.17400500178337097,
          0.11620167642831802,
          0.1099349856376648,
          0.14508309960365295,
          0.1053241491317749,
          0.11543048173189163,
          0.12407012283802032,
          0.01305380929261446,
          0.07356292009353638,
          0.14432315528392792,
          0.1561639904975891,
          0.18333707749843597,
          0.00011853804608108476,
          0.10588520020246506,
          0.12722694873809814,
          0.11404646188020706,
          0.07317133992910385,
          0.14321669936180115,
          0.17751890420913696,
          0.1736752688884735,
          0.24518825113773346,
          0.19875825941562653,
          0.2472728043794632,
          0.3365141749382019,
          0.29628995060920715,
          0.3950192332267761,
          0.3686765432357788,
          0.38481009006500244,
          0.1341046541929245,
          0.01841878890991211,
          0.03895196318626404,
          0.1807231307029724,
          0.2872532904148102,
          0.26116257905960083,
          0.2373657375574112,
          0.23916350305080414,
          0.1921357661485672,
          0.19143736362457275,
          0.29565155506134033,
          0.2066841423511505,
          0.35694998502731323,
          0.07254289090633392,
          0.10704461485147476,
          0.22477377951145172,
          0.2985479235649109,
          0.28800317645072937,
          0.28111371397972107,
          0.22082069516181946,
          0.28147414326667786,
          0.4434736371040344,
          0.35376253724098206,
          0.3137255907058716,
          0.23650357127189636,
          0.18796055018901825,
          0.16549916565418243
         ],
         "yaxis": "y"
        },
        {
         "fillpattern": {
          "shape": ""
         },
         "hovertemplate": "emotion=Surprise<br>pos_sec=%{x}<br>probability=%{y}<extra></extra>",
         "legendgroup": "Surprise",
         "line": {
          "color": "#19d3f3"
         },
         "marker": {
          "symbol": "circle"
         },
         "mode": "lines",
         "name": "Surprise",
         "orientation": "v",
         "showlegend": true,
         "stackgroup": "1",
         "type": "scatter",
         "x": [
          6.44,
          6.8,
          7.16,
          7.52,
          7.88,
          8.24,
          8.6,
          8.96,
          9.32,
          9.68,
          10.04,
          10.4,
          10.4,
          20.12,
          20.48,
          20.84,
          21.2,
          21.56,
          21.92,
          22.28,
          22.64,
          23,
          23.36,
          33.08,
          33.44,
          33.8,
          34.16,
          34.52,
          34.88,
          35.24,
          35.6,
          35.96,
          36.32,
          36.68,
          47.48,
          47.84,
          48.2,
          48.56,
          48.92,
          49.28,
          49.64,
          50,
          50.36,
          52.16,
          61.16,
          61.52,
          61.88,
          61.88,
          62.24,
          62.6,
          62.96,
          63.32,
          63.68,
          64.04,
          64.4,
          65.84,
          75.2,
          75.56,
          75.92,
          76.28,
          76.64,
          77,
          77.36,
          77.72,
          78.08,
          78.44,
          78.8,
          79.16,
          80.24,
          89.96,
          90.32,
          90.68,
          91.04,
          91.4,
          91.76,
          92.12,
          92.48,
          92.84,
          93.2,
          93.56,
          93.92,
          94.28
         ],
         "xaxis": "x",
         "y": [
          0.43132084608078003,
          0.1992611587047577,
          0.05091235786676407,
          0.0046883500181138515,
          0.05598876625299454,
          0.08884347975254059,
          0.018299557268619537,
          0.12876558303833008,
          0.18306145071983337,
          0.05258583277463913,
          0.0350150503218174,
          0.11334681510925293,
          0.024589871987700462,
          0.513929545879364,
          0.03864150866866112,
          0.0372425802052021,
          0.020466092973947525,
          0.014260201714932919,
          0.03386866673827171,
          0.02550497278571129,
          0.028446756303310394,
          0.03155358135700226,
          0.02324575185775757,
          0.14654487371444702,
          0.015688635408878326,
          0.014902956783771515,
          0.04516172036528587,
          0.027934489771723747,
          0.0033379332162439823,
          0.025140846148133278,
          0.07065677642822266,
          0.036170076578855515,
          0.09380748122930527,
          0.021736569702625275,
          0.608969509601593,
          0.06551548093557358,
          0.12219549715518951,
          0.11118840426206589,
          0.08757428079843521,
          0.0002643137704581022,
          0.03176625818014145,
          0.05886007100343704,
          0.10645724087953568,
          0.011944115161895752,
          0.32306021451950073,
          0.09962386637926102,
          0.14280112087726593,
          0.050205495208501816,
          0.15452995896339417,
          0.09203005582094193,
          0.06256760656833649,
          0.12121716886758804,
          0.034580048173666,
          0.05867726728320122,
          0.04900789260864258,
          0.06340370327234268,
          0.21543602645397186,
          0.04898954927921295,
          0.13547928631305695,
          0.08215371519327164,
          0.1349506378173828,
          0.16952569782733917,
          0.15700657665729523,
          0.17727889120578766,
          0.026073032990098,
          0.06360021233558655,
          0.11068856716156006,
          0.09526385366916656,
          0.07982657849788666,
          0.4285490810871124,
          0.09355201572179794,
          0.06388415396213531,
          0.0417429618537426,
          0.052548158913850784,
          0.07323145866394043,
          0.07247862964868546,
          0.02288377657532692,
          0.0736626535654068,
          0.13804075121879578,
          0.0415523499250412,
          0.037503309547901154,
          0.061230383813381195
         ],
         "yaxis": "y"
        },
        {
         "fillpattern": {
          "shape": ""
         },
         "hovertemplate": "emotion=Neutral<br>pos_sec=%{x}<br>probability=%{y}<extra></extra>",
         "legendgroup": "Neutral",
         "line": {
          "color": "#FF6692"
         },
         "marker": {
          "symbol": "circle"
         },
         "mode": "lines",
         "name": "Neutral",
         "orientation": "v",
         "showlegend": true,
         "stackgroup": "1",
         "type": "scatter",
         "x": [
          6.44,
          6.8,
          7.16,
          7.52,
          7.88,
          8.24,
          8.6,
          8.96,
          9.32,
          9.68,
          10.04,
          10.4,
          10.4,
          20.12,
          20.48,
          20.84,
          21.2,
          21.56,
          21.92,
          22.28,
          22.64,
          23,
          23.36,
          33.08,
          33.44,
          33.8,
          34.16,
          34.52,
          34.88,
          35.24,
          35.6,
          35.96,
          36.32,
          36.68,
          47.48,
          47.84,
          48.2,
          48.56,
          48.92,
          49.28,
          49.64,
          50,
          50.36,
          52.16,
          61.16,
          61.52,
          61.88,
          61.88,
          62.24,
          62.6,
          62.96,
          63.32,
          63.68,
          64.04,
          64.4,
          65.84,
          75.2,
          75.56,
          75.92,
          76.28,
          76.64,
          77,
          77.36,
          77.72,
          78.08,
          78.44,
          78.8,
          79.16,
          80.24,
          89.96,
          90.32,
          90.68,
          91.04,
          91.4,
          91.76,
          92.12,
          92.48,
          92.84,
          93.2,
          93.56,
          93.92,
          94.28
         ],
         "xaxis": "x",
         "y": [
          0.21670308709144592,
          0.2712448239326477,
          0.4895477294921875,
          0.6194869875907898,
          0.5521161556243896,
          0.5167949795722961,
          0.5015363693237305,
          0.48880571126937866,
          0.45890089869499207,
          0.43489572405815125,
          0.4662873446941376,
          0.30507925152778625,
          0.3838469088077545,
          0.061412978917360306,
          0.6828908920288086,
          0.7244666814804077,
          0.5477513074874878,
          0.18066488206386566,
          0.11362425237894058,
          0.6095303297042847,
          0.6256126165390015,
          0.6314530372619629,
          0.664161741733551,
          0.1499926596879959,
          0.6016254425048828,
          0.6277202367782593,
          0.644132137298584,
          0.5913551449775696,
          0.6986157894134521,
          0.746903657913208,
          0.6002967357635498,
          0.6095143556594849,
          0.6739646792411804,
          0.7218462824821472,
          0.11134743690490723,
          0.7500075101852417,
          0.6483168005943298,
          0.6453867554664612,
          0.6194589734077454,
          0.0030907124746590853,
          0.5629856586456299,
          0.6623614430427551,
          0.6272963285446167,
          0.16006530821323395,
          0.1296674758195877,
          0.19701175391674042,
          0.3569604456424713,
          0.35628315806388855,
          0.17255151271820068,
          0.23124563694000244,
          0.03886998072266579,
          0.033984098583459854,
          0.07855283468961716,
          0.11484696716070175,
          0.06850884109735489,
          0.18486258387565613,
          0.5992188453674316,
          0.8466944098472595,
          0.5100213885307312,
          0.4437466561794281,
          0.4972991943359375,
          0.427410364151001,
          0.5125541090965271,
          0.5472874641418457,
          0.526400625705719,
          0.5198298096656799,
          0.5295805335044861,
          0.28406256437301636,
          0.1184396743774414,
          0.04259338974952698,
          0.4301440119743347,
          0.38904398679733276,
          0.5260977149009705,
          0.4087867736816406,
          0.48925119638442993,
          0.3763769865036011,
          0.22896341979503632,
          0.15077869594097137,
          0.1614547073841095,
          0.5224282741546631,
          0.6062918901443481,
          0.6139898896217346
         ],
         "yaxis": "y"
        }
       ],
       "layout": {
        "legend": {
         "title": {
          "text": "emotion"
         },
         "tracegroupgap": 0
        },
        "margin": {
         "t": 60
        },
        "template": {
         "data": {
          "bar": [
           {
            "error_x": {
             "color": "#2a3f5f"
            },
            "error_y": {
             "color": "#2a3f5f"
            },
            "marker": {
             "line": {
              "color": "#E5ECF6",
              "width": 0.5
             },
             "pattern": {
              "fillmode": "overlay",
              "size": 10,
              "solidity": 0.2
             }
            },
            "type": "bar"
           }
          ],
          "barpolar": [
           {
            "marker": {
             "line": {
              "color": "#E5ECF6",
              "width": 0.5
             },
             "pattern": {
              "fillmode": "overlay",
              "size": 10,
              "solidity": 0.2
             }
            },
            "type": "barpolar"
           }
          ],
          "carpet": [
           {
            "aaxis": {
             "endlinecolor": "#2a3f5f",
             "gridcolor": "white",
             "linecolor": "white",
             "minorgridcolor": "white",
             "startlinecolor": "#2a3f5f"
            },
            "baxis": {
             "endlinecolor": "#2a3f5f",
             "gridcolor": "white",
             "linecolor": "white",
             "minorgridcolor": "white",
             "startlinecolor": "#2a3f5f"
            },
            "type": "carpet"
           }
          ],
          "choropleth": [
           {
            "colorbar": {
             "outlinewidth": 0,
             "ticks": ""
            },
            "type": "choropleth"
           }
          ],
          "contour": [
           {
            "colorbar": {
             "outlinewidth": 0,
             "ticks": ""
            },
            "colorscale": [
             [
              0,
              "#0d0887"
             ],
             [
              0.1111111111111111,
              "#46039f"
             ],
             [
              0.2222222222222222,
              "#7201a8"
             ],
             [
              0.3333333333333333,
              "#9c179e"
             ],
             [
              0.4444444444444444,
              "#bd3786"
             ],
             [
              0.5555555555555556,
              "#d8576b"
             ],
             [
              0.6666666666666666,
              "#ed7953"
             ],
             [
              0.7777777777777778,
              "#fb9f3a"
             ],
             [
              0.8888888888888888,
              "#fdca26"
             ],
             [
              1,
              "#f0f921"
             ]
            ],
            "type": "contour"
           }
          ],
          "contourcarpet": [
           {
            "colorbar": {
             "outlinewidth": 0,
             "ticks": ""
            },
            "type": "contourcarpet"
           }
          ],
          "heatmap": [
           {
            "colorbar": {
             "outlinewidth": 0,
             "ticks": ""
            },
            "colorscale": [
             [
              0,
              "#0d0887"
             ],
             [
              0.1111111111111111,
              "#46039f"
             ],
             [
              0.2222222222222222,
              "#7201a8"
             ],
             [
              0.3333333333333333,
              "#9c179e"
             ],
             [
              0.4444444444444444,
              "#bd3786"
             ],
             [
              0.5555555555555556,
              "#d8576b"
             ],
             [
              0.6666666666666666,
              "#ed7953"
             ],
             [
              0.7777777777777778,
              "#fb9f3a"
             ],
             [
              0.8888888888888888,
              "#fdca26"
             ],
             [
              1,
              "#f0f921"
             ]
            ],
            "type": "heatmap"
           }
          ],
          "heatmapgl": [
           {
            "colorbar": {
             "outlinewidth": 0,
             "ticks": ""
            },
            "colorscale": [
             [
              0,
              "#0d0887"
             ],
             [
              0.1111111111111111,
              "#46039f"
             ],
             [
              0.2222222222222222,
              "#7201a8"
             ],
             [
              0.3333333333333333,
              "#9c179e"
             ],
             [
              0.4444444444444444,
              "#bd3786"
             ],
             [
              0.5555555555555556,
              "#d8576b"
             ],
             [
              0.6666666666666666,
              "#ed7953"
             ],
             [
              0.7777777777777778,
              "#fb9f3a"
             ],
             [
              0.8888888888888888,
              "#fdca26"
             ],
             [
              1,
              "#f0f921"
             ]
            ],
            "type": "heatmapgl"
           }
          ],
          "histogram": [
           {
            "marker": {
             "pattern": {
              "fillmode": "overlay",
              "size": 10,
              "solidity": 0.2
             }
            },
            "type": "histogram"
           }
          ],
          "histogram2d": [
           {
            "colorbar": {
             "outlinewidth": 0,
             "ticks": ""
            },
            "colorscale": [
             [
              0,
              "#0d0887"
             ],
             [
              0.1111111111111111,
              "#46039f"
             ],
             [
              0.2222222222222222,
              "#7201a8"
             ],
             [
              0.3333333333333333,
              "#9c179e"
             ],
             [
              0.4444444444444444,
              "#bd3786"
             ],
             [
              0.5555555555555556,
              "#d8576b"
             ],
             [
              0.6666666666666666,
              "#ed7953"
             ],
             [
              0.7777777777777778,
              "#fb9f3a"
             ],
             [
              0.8888888888888888,
              "#fdca26"
             ],
             [
              1,
              "#f0f921"
             ]
            ],
            "type": "histogram2d"
           }
          ],
          "histogram2dcontour": [
           {
            "colorbar": {
             "outlinewidth": 0,
             "ticks": ""
            },
            "colorscale": [
             [
              0,
              "#0d0887"
             ],
             [
              0.1111111111111111,
              "#46039f"
             ],
             [
              0.2222222222222222,
              "#7201a8"
             ],
             [
              0.3333333333333333,
              "#9c179e"
             ],
             [
              0.4444444444444444,
              "#bd3786"
             ],
             [
              0.5555555555555556,
              "#d8576b"
             ],
             [
              0.6666666666666666,
              "#ed7953"
             ],
             [
              0.7777777777777778,
              "#fb9f3a"
             ],
             [
              0.8888888888888888,
              "#fdca26"
             ],
             [
              1,
              "#f0f921"
             ]
            ],
            "type": "histogram2dcontour"
           }
          ],
          "mesh3d": [
           {
            "colorbar": {
             "outlinewidth": 0,
             "ticks": ""
            },
            "type": "mesh3d"
           }
          ],
          "parcoords": [
           {
            "line": {
             "colorbar": {
              "outlinewidth": 0,
              "ticks": ""
             }
            },
            "type": "parcoords"
           }
          ],
          "pie": [
           {
            "automargin": true,
            "type": "pie"
           }
          ],
          "scatter": [
           {
            "fillpattern": {
             "fillmode": "overlay",
             "size": 10,
             "solidity": 0.2
            },
            "type": "scatter"
           }
          ],
          "scatter3d": [
           {
            "line": {
             "colorbar": {
              "outlinewidth": 0,
              "ticks": ""
             }
            },
            "marker": {
             "colorbar": {
              "outlinewidth": 0,
              "ticks": ""
             }
            },
            "type": "scatter3d"
           }
          ],
          "scattercarpet": [
           {
            "marker": {
             "colorbar": {
              "outlinewidth": 0,
              "ticks": ""
             }
            },
            "type": "scattercarpet"
           }
          ],
          "scattergeo": [
           {
            "marker": {
             "colorbar": {
              "outlinewidth": 0,
              "ticks": ""
             }
            },
            "type": "scattergeo"
           }
          ],
          "scattergl": [
           {
            "marker": {
             "colorbar": {
              "outlinewidth": 0,
              "ticks": ""
             }
            },
            "type": "scattergl"
           }
          ],
          "scattermapbox": [
           {
            "marker": {
             "colorbar": {
              "outlinewidth": 0,
              "ticks": ""
             }
            },
            "type": "scattermapbox"
           }
          ],
          "scatterpolar": [
           {
            "marker": {
             "colorbar": {
              "outlinewidth": 0,
              "ticks": ""
             }
            },
            "type": "scatterpolar"
           }
          ],
          "scatterpolargl": [
           {
            "marker": {
             "colorbar": {
              "outlinewidth": 0,
              "ticks": ""
             }
            },
            "type": "scatterpolargl"
           }
          ],
          "scatterternary": [
           {
            "marker": {
             "colorbar": {
              "outlinewidth": 0,
              "ticks": ""
             }
            },
            "type": "scatterternary"
           }
          ],
          "surface": [
           {
            "colorbar": {
             "outlinewidth": 0,
             "ticks": ""
            },
            "colorscale": [
             [
              0,
              "#0d0887"
             ],
             [
              0.1111111111111111,
              "#46039f"
             ],
             [
              0.2222222222222222,
              "#7201a8"
             ],
             [
              0.3333333333333333,
              "#9c179e"
             ],
             [
              0.4444444444444444,
              "#bd3786"
             ],
             [
              0.5555555555555556,
              "#d8576b"
             ],
             [
              0.6666666666666666,
              "#ed7953"
             ],
             [
              0.7777777777777778,
              "#fb9f3a"
             ],
             [
              0.8888888888888888,
              "#fdca26"
             ],
             [
              1,
              "#f0f921"
             ]
            ],
            "type": "surface"
           }
          ],
          "table": [
           {
            "cells": {
             "fill": {
              "color": "#EBF0F8"
             },
             "line": {
              "color": "white"
             }
            },
            "header": {
             "fill": {
              "color": "#C8D4E3"
             },
             "line": {
              "color": "white"
             }
            },
            "type": "table"
           }
          ]
         },
         "layout": {
          "annotationdefaults": {
           "arrowcolor": "#2a3f5f",
           "arrowhead": 0,
           "arrowwidth": 1
          },
          "autotypenumbers": "strict",
          "coloraxis": {
           "colorbar": {
            "outlinewidth": 0,
            "ticks": ""
           }
          },
          "colorscale": {
           "diverging": [
            [
             0,
             "#8e0152"
            ],
            [
             0.1,
             "#c51b7d"
            ],
            [
             0.2,
             "#de77ae"
            ],
            [
             0.3,
             "#f1b6da"
            ],
            [
             0.4,
             "#fde0ef"
            ],
            [
             0.5,
             "#f7f7f7"
            ],
            [
             0.6,
             "#e6f5d0"
            ],
            [
             0.7,
             "#b8e186"
            ],
            [
             0.8,
             "#7fbc41"
            ],
            [
             0.9,
             "#4d9221"
            ],
            [
             1,
             "#276419"
            ]
           ],
           "sequential": [
            [
             0,
             "#0d0887"
            ],
            [
             0.1111111111111111,
             "#46039f"
            ],
            [
             0.2222222222222222,
             "#7201a8"
            ],
            [
             0.3333333333333333,
             "#9c179e"
            ],
            [
             0.4444444444444444,
             "#bd3786"
            ],
            [
             0.5555555555555556,
             "#d8576b"
            ],
            [
             0.6666666666666666,
             "#ed7953"
            ],
            [
             0.7777777777777778,
             "#fb9f3a"
            ],
            [
             0.8888888888888888,
             "#fdca26"
            ],
            [
             1,
             "#f0f921"
            ]
           ],
           "sequentialminus": [
            [
             0,
             "#0d0887"
            ],
            [
             0.1111111111111111,
             "#46039f"
            ],
            [
             0.2222222222222222,
             "#7201a8"
            ],
            [
             0.3333333333333333,
             "#9c179e"
            ],
            [
             0.4444444444444444,
             "#bd3786"
            ],
            [
             0.5555555555555556,
             "#d8576b"
            ],
            [
             0.6666666666666666,
             "#ed7953"
            ],
            [
             0.7777777777777778,
             "#fb9f3a"
            ],
            [
             0.8888888888888888,
             "#fdca26"
            ],
            [
             1,
             "#f0f921"
            ]
           ]
          },
          "colorway": [
           "#636efa",
           "#EF553B",
           "#00cc96",
           "#ab63fa",
           "#FFA15A",
           "#19d3f3",
           "#FF6692",
           "#B6E880",
           "#FF97FF",
           "#FECB52"
          ],
          "font": {
           "color": "#2a3f5f"
          },
          "geo": {
           "bgcolor": "white",
           "lakecolor": "white",
           "landcolor": "#E5ECF6",
           "showlakes": true,
           "showland": true,
           "subunitcolor": "white"
          },
          "hoverlabel": {
           "align": "left"
          },
          "hovermode": "closest",
          "mapbox": {
           "style": "light"
          },
          "paper_bgcolor": "white",
          "plot_bgcolor": "#E5ECF6",
          "polar": {
           "angularaxis": {
            "gridcolor": "white",
            "linecolor": "white",
            "ticks": ""
           },
           "bgcolor": "#E5ECF6",
           "radialaxis": {
            "gridcolor": "white",
            "linecolor": "white",
            "ticks": ""
           }
          },
          "scene": {
           "xaxis": {
            "backgroundcolor": "#E5ECF6",
            "gridcolor": "white",
            "gridwidth": 2,
            "linecolor": "white",
            "showbackground": true,
            "ticks": "",
            "zerolinecolor": "white"
           },
           "yaxis": {
            "backgroundcolor": "#E5ECF6",
            "gridcolor": "white",
            "gridwidth": 2,
            "linecolor": "white",
            "showbackground": true,
            "ticks": "",
            "zerolinecolor": "white"
           },
           "zaxis": {
            "backgroundcolor": "#E5ECF6",
            "gridcolor": "white",
            "gridwidth": 2,
            "linecolor": "white",
            "showbackground": true,
            "ticks": "",
            "zerolinecolor": "white"
           }
          },
          "shapedefaults": {
           "line": {
            "color": "#2a3f5f"
           }
          },
          "ternary": {
           "aaxis": {
            "gridcolor": "white",
            "linecolor": "white",
            "ticks": ""
           },
           "baxis": {
            "gridcolor": "white",
            "linecolor": "white",
            "ticks": ""
           },
           "bgcolor": "#E5ECF6",
           "caxis": {
            "gridcolor": "white",
            "linecolor": "white",
            "ticks": ""
           }
          },
          "title": {
           "x": 0.05
          },
          "xaxis": {
           "automargin": true,
           "gridcolor": "white",
           "linecolor": "white",
           "ticks": "",
           "title": {
            "standoff": 15
           },
           "zerolinecolor": "white",
           "zerolinewidth": 2
          },
          "yaxis": {
           "automargin": true,
           "gridcolor": "white",
           "linecolor": "white",
           "ticks": "",
           "title": {
            "standoff": 15
           },
           "zerolinecolor": "white",
           "zerolinewidth": 2
          }
         }
        },
        "xaxis": {
         "anchor": "y",
         "domain": [
          0,
          1
         ],
         "title": {
          "text": "pos_sec"
         }
        },
        "yaxis": {
         "anchor": "x",
         "domain": [
          0,
          1
         ],
         "title": {
          "text": "probability"
         }
        }
       }
      }
     },
     "metadata": {},
     "output_type": "display_data"
    }
   ],
   "source": [
    "fig = px.area(df_plotting, x=\"pos_sec\", y=\"probability\", color=\"emotion\")\n",
    "fig.show()"
   ]
  },
  {
   "cell_type": "code",
   "execution_count": null,
   "metadata": {},
   "outputs": [],
   "source": [
    "df = df_plotting\n",
    "df['moving_avg'] = df['probability'].rolling(window=10, center=True).mean()"
   ]
  },
  {
   "cell_type": "code",
   "execution_count": null,
   "metadata": {},
   "outputs": [
    {
     "data": {
      "application/vnd.plotly.v1+json": {
       "config": {
        "plotlyServerURL": "https://plot.ly"
       },
       "data": [
        {
         "fillpattern": {
          "shape": ""
         },
         "hovertemplate": "emotion=Angry<br>pos_sec=%{x}<br>moving_avg=%{y}<extra></extra>",
         "legendgroup": "Angry",
         "line": {
          "color": "#636efa"
         },
         "marker": {
          "symbol": "circle"
         },
         "mode": "lines",
         "name": "Angry",
         "orientation": "v",
         "showlegend": true,
         "stackgroup": "1",
         "type": "scatter",
         "x": [
          6.44,
          6.8,
          7.16,
          7.52,
          7.88,
          8.24,
          8.6,
          8.96,
          9.32,
          9.68,
          10.04,
          10.4,
          10.4,
          20.12,
          20.48,
          20.84,
          21.2,
          21.56,
          21.92,
          22.28,
          22.64,
          23,
          23.36,
          33.08,
          33.44,
          33.8,
          34.16,
          34.52,
          34.88,
          35.24,
          35.6,
          35.96,
          36.32,
          36.68,
          47.48,
          47.84,
          48.2,
          48.56,
          48.92,
          49.28,
          49.64,
          50,
          50.36,
          52.16,
          61.16,
          61.52,
          61.88,
          61.88,
          62.24,
          62.6,
          62.96,
          63.32,
          63.68,
          64.04,
          64.4,
          65.84,
          75.2,
          75.56,
          75.92,
          76.28,
          76.64,
          77,
          77.36,
          77.72,
          78.08,
          78.44,
          78.8,
          79.16,
          80.24,
          89.96,
          90.32,
          90.68,
          91.04,
          91.4,
          91.76,
          92.12,
          92.48,
          92.84,
          93.2,
          93.56,
          93.92,
          94.28
         ],
         "xaxis": "x",
         "y": [
          null,
          null,
          null,
          null,
          null,
          0.054323256760835645,
          0.05299929715692997,
          0.05163879506289959,
          0.050504715740680696,
          0.05025800727307796,
          0.04921549689024687,
          0.046755193173885344,
          0.04301599878817797,
          0.0543722266331315,
          0.08442989829927683,
          0.07756909523159265,
          0.07572335470467806,
          0.07179428804665804,
          0.06945376973599196,
          0.08492772821336984,
          0.08468129374086857,
          0.08593268636614085,
          0.0860074857249856,
          0.07290650699287653,
          0.044709190167486666,
          0.04456299915909767,
          0.043311144784092905,
          0.042656345292925835,
          0.04359205272048712,
          0.028113642521202565,
          0.026630943967029454,
          0.02475181478075683,
          0.023786690877750517,
          0.021956488164141773,
          0.017516484158113597,
          0.015406981527485186,
          0.01475956295398646,
          0.014314363848097856,
          0.012456134564854438,
          0.03202790864525014,
          0.032008271429367595,
          0.04764493754846626,
          0.05375106432256871,
          0.058452249176480106,
          0.0697392533045786,
          0.08337025647051632,
          0.11147350003011525,
          0.13866835623048246,
          0.158580742450431,
          0.15418359455652536,
          0.17571440190076829,
          0.17502646297216415,
          0.1691459513269365,
          0.16418343223631382,
          0.15319134704768658,
          0.1444492746144533,
          0.11863017156720161,
          0.0944286435842514,
          0.07583871427923441,
          0.059980632923543456,
          0.05728599634021521,
          0.04632871020585298,
          0.049311723094433546,
          0.05468874927610159,
          0.07802784275263548,
          0.07429586434736848,
          0.07435765760019422,
          0.07577626118436456,
          0.07714568814262748,
          0.08090553684160114,
          0.06646109400317073,
          0.06530445432290435,
          0.06724690860137343,
          0.06664343541488052,
          0.047972626890987156,
          0.04893925879150629,
          0.04757955018430948,
          0.04351737098768353,
          0.04040269714314491,
          0.034472332101722715,
          0.029493807816470506,
          0.025193032798415515
         ],
         "yaxis": "y"
        },
        {
         "fillpattern": {
          "shape": ""
         },
         "hovertemplate": "emotion=Disgust<br>pos_sec=%{x}<br>moving_avg=%{y}<extra></extra>",
         "legendgroup": "Disgust",
         "line": {
          "color": "#EF553B"
         },
         "marker": {
          "symbol": "circle"
         },
         "mode": "lines",
         "name": "Disgust",
         "orientation": "v",
         "showlegend": true,
         "stackgroup": "1",
         "type": "scatter",
         "x": [
          6.44,
          6.8,
          7.16,
          7.52,
          7.88,
          8.24,
          8.6,
          8.96,
          9.32,
          9.68,
          10.04,
          10.4,
          10.4,
          20.12,
          20.48,
          20.84,
          21.2,
          21.56,
          21.92,
          22.28,
          22.64,
          23,
          23.36,
          33.08,
          33.44,
          33.8,
          34.16,
          34.52,
          34.88,
          35.24,
          35.6,
          35.96,
          36.32,
          36.68,
          47.48,
          47.84,
          48.2,
          48.56,
          48.92,
          49.28,
          49.64,
          50,
          50.36,
          52.16,
          61.16,
          61.52,
          61.88,
          61.88,
          62.24,
          62.6,
          62.96,
          63.32,
          63.68,
          64.04,
          64.4,
          65.84,
          75.2,
          75.56,
          75.92,
          76.28,
          76.64,
          77,
          77.36,
          77.72,
          78.08,
          78.44,
          78.8,
          79.16,
          80.24,
          89.96,
          90.32,
          90.68,
          91.04,
          91.4,
          91.76,
          92.12,
          92.48,
          92.84,
          93.2,
          93.56,
          93.92,
          94.28
         ],
         "xaxis": "x",
         "y": [
          0.018919405402266422,
          0.013622682803543285,
          0.005846704338910058,
          0.0037397838081233204,
          0.001907555565412622,
          0.0006136227733804844,
          0.00023230707229231483,
          0.00022993051898083648,
          0.0012061650508258027,
          0.001126552945424919,
          0.0011085829439252848,
          0.0011050944744056324,
          0.0010764565398858395,
          0.0038453484907222447,
          0.012356468660436803,
          0.012354640469129662,
          0.012358496566594112,
          0.012346282585713197,
          0.011353986661742966,
          0.011765000603736553,
          0.011765219841436192,
          0.011762488655767811,
          0.01176781681151624,
          0.008980419807812723,
          0.0005514976926860981,
          0.0005508971289600595,
          0.0005497719079357921,
          0.0005571496732954984,
          0.0005682517625245964,
          0.00015728864418633747,
          0.00016109385869640392,
          0.00017265243986912536,
          0.0001670569998168503,
          0.00016377851270590326,
          0.00008214060571845038,
          0.0000785449896454793,
          0.00007333262857969202,
          0.00006253130779327875,
          0.00005012061730553796,
          0.0002585879679088521,
          0.0002631840397214091,
          0.00026008250417248747,
          0.0002708034576414775,
          0.0003142544385070778,
          0.0003186096542947325,
          0.0003395604734578228,
          0.0003600704779273656,
          0.00038570724636883825,
          0.00040267229196615516,
          0.00020295366266509518,
          0.00021270085708238184,
          0.00036220319889253006,
          0.00037995567690813915,
          0.00038926464767428113,
          0.0004753681336296722,
          0.0004662225896026939,
          0.0004471694915991975,
          0.000449018408471602,
          0.0004386982534924755,
          0.0004318002793297637,
          0.0004370319868030492,
          0.00027991450479021297,
          0.0002619054925162345,
          0.00022050046391086653,
          0.0003058554793824442,
          0.0003376604989171028,
          0.00034100363372999707,
          0.00034293125027033965,
          0.0003390805752133019,
          0.00034629319816303905,
          0.0003328639631945407,
          0.0003603379638661863,
          0.00036440358562686017,
          0.0003572520960005932,
          0.00019167766004102305,
          0.00015149606078921352,
          0.00014516780738631495,
          0.00011584970125113613,
          0.00986418969805527,
          0.03761837222373288,
          0.058315205121107286,
          0.07745460721598647
         ],
         "yaxis": "y"
        },
        {
         "fillpattern": {
          "shape": ""
         },
         "hovertemplate": "emotion=Fear<br>pos_sec=%{x}<br>moving_avg=%{y}<extra></extra>",
         "legendgroup": "Fear",
         "line": {
          "color": "#00cc96"
         },
         "marker": {
          "symbol": "circle"
         },
         "mode": "lines",
         "name": "Fear",
         "orientation": "v",
         "showlegend": true,
         "stackgroup": "1",
         "type": "scatter",
         "x": [
          6.44,
          6.8,
          7.16,
          7.52,
          7.88,
          8.24,
          8.6,
          8.96,
          9.32,
          9.68,
          10.04,
          10.4,
          10.4,
          20.12,
          20.48,
          20.84,
          21.2,
          21.56,
          21.92,
          22.28,
          22.64,
          23,
          23.36,
          33.08,
          33.44,
          33.8,
          34.16,
          34.52,
          34.88,
          35.24,
          35.6,
          35.96,
          36.32,
          36.68,
          47.48,
          47.84,
          48.2,
          48.56,
          48.92,
          49.28,
          49.64,
          50,
          50.36,
          52.16,
          61.16,
          61.52,
          61.88,
          61.88,
          62.24,
          62.6,
          62.96,
          63.32,
          63.68,
          64.04,
          64.4,
          65.84,
          75.2,
          75.56,
          75.92,
          76.28,
          76.64,
          77,
          77.36,
          77.72,
          78.08,
          78.44,
          78.8,
          79.16,
          80.24,
          89.96,
          90.32,
          90.68,
          91.04,
          91.4,
          91.76,
          92.12,
          92.48,
          92.84,
          93.2,
          93.56,
          93.92,
          94.28
         ],
         "xaxis": "x",
         "y": [
          0.0956945424517471,
          0.11260302769806003,
          0.13549304888147162,
          0.15443106068960333,
          0.1683974172525268,
          0.18658657670021056,
          0.19802860766649247,
          0.20126531571149825,
          0.2102036863565445,
          0.22883206903934478,
          0.2184095598757267,
          0.2075719650834799,
          0.19597449265420436,
          0.19826859198510646,
          0.20236209742724895,
          0.1912026669830084,
          0.17721148915588855,
          0.15434987433254718,
          0.13049326315522194,
          0.14142614975571632,
          0.14896831810474395,
          0.15839567147195338,
          0.16201706789433956,
          0.15806332491338254,
          0.15053456835448742,
          0.15273369513452054,
          0.15818203128874303,
          0.16496695764362812,
          0.16670924723148345,
          0.12778589725494385,
          0.13834962844848633,
          0.12908934131264688,
          0.11910913772881031,
          0.10683676041662693,
          0.10324456207454205,
          0.09402669313712977,
          0.08692636284395121,
          0.0755731919722166,
          0.0728235034213867,
          0.0725288746820297,
          0.08597859423025511,
          0.11470520402654075,
          0.13467879536910915,
          0.1557915205077734,
          0.1816898943798151,
          0.2106771532446146,
          0.23230877406895162,
          0.2553737942129374,
          0.27896375507116317,
          0.29707341343164445,
          0.2852010801434517,
          0.26791590750217437,
          0.25822731405496596,
          0.23726449050009252,
          0.21615423448383808,
          0.2001879710704088,
          0.179312003031373,
          0.1638714846223593,
          0.1416044667363167,
          0.11888239197432995,
          0.09706557989120483,
          0.08540853708982468,
          0.0792331725358963,
          0.09324517361819744,
          0.08921247459948063,
          0.11695296801626683,
          0.13159788884222506,
          0.13929361067712306,
          0.14373698756098746,
          0.15820194892585276,
          0.16877554282546042,
          0.18489680513739587,
          0.19981292858719826,
          0.217133841663599,
          0.23979038894176483,
          0.21566575318574904,
          0.20859233886003495,
          0.20196949541568757,
          0.19192243567667902,
          0.17304241536185144,
          0.15752829653210937,
          0.13599105798639358
         ],
         "yaxis": "y"
        },
        {
         "fillpattern": {
          "shape": ""
         },
         "hovertemplate": "emotion=Happy<br>pos_sec=%{x}<br>moving_avg=%{y}<extra></extra>",
         "legendgroup": "Happy",
         "line": {
          "color": "#ab63fa"
         },
         "marker": {
          "symbol": "circle"
         },
         "mode": "lines",
         "name": "Happy",
         "orientation": "v",
         "showlegend": true,
         "stackgroup": "1",
         "type": "scatter",
         "x": [
          6.44,
          6.8,
          7.16,
          7.52,
          7.88,
          8.24,
          8.6,
          8.96,
          9.32,
          9.68,
          10.04,
          10.4,
          10.4,
          20.12,
          20.48,
          20.84,
          21.2,
          21.56,
          21.92,
          22.28,
          22.64,
          23,
          23.36,
          33.08,
          33.44,
          33.8,
          34.16,
          34.52,
          34.88,
          35.24,
          35.6,
          35.96,
          36.32,
          36.68,
          47.48,
          47.84,
          48.2,
          48.56,
          48.92,
          49.28,
          49.64,
          50,
          50.36,
          52.16,
          61.16,
          61.52,
          61.88,
          61.88,
          62.24,
          62.6,
          62.96,
          63.32,
          63.68,
          64.04,
          64.4,
          65.84,
          75.2,
          75.56,
          75.92,
          76.28,
          76.64,
          77,
          77.36,
          77.72,
          78.08,
          78.44,
          78.8,
          79.16,
          80.24,
          89.96,
          90.32,
          90.68,
          91.04,
          91.4,
          91.76,
          92.12,
          92.48,
          92.84,
          93.2,
          93.56,
          93.92,
          94.28
         ],
         "xaxis": "x",
         "y": [
          0.11268828036263585,
          0.07691238191910088,
          0.047287926590070126,
          0.03106258171610534,
          0.017318825144320725,
          0.005517090018838644,
          0.005673565668985248,
          0.005577536160126328,
          0.007433295343071222,
          0.007089613704010844,
          0.016586716566234828,
          0.023885359754785895,
          0.0408971190918237,
          0.05337006994523108,
          0.06489100018516183,
          0.07450539907440543,
          0.08294969061389565,
          0.09285173346288503,
          0.09919430618174374,
          0.09893213881514384,
          0.08934025860726251,
          0.0816628006134124,
          0.06513418060130789,
          0.052993184173101324,
          0.04161356653421535,
          0.03198155195786967,
          0.027110159335279604,
          0.025377969381952425,
          0.017881164917343994,
          0.018419822165742516,
          0.017928038025274873,
          0.02087058387696743,
          0.02207484859973192,
          0.024236257979646326,
          0.02512860526330769,
          0.12431017397902906,
          0.1436030929442495,
          0.14566827691160142,
          0.15382887222804129,
          0.19659048081375657,
          0.1968984469305724,
          0.1940314111765474,
          0.19208083329722286,
          0.19232969461008906,
          0.19159302194602787,
          0.09224631392862648,
          0.06875946813670453,
          0.058169681346043944,
          0.04861516942619346,
          0.005400376976467669,
          0.005093910364666954,
          0.032095877459505574,
          0.031683545507257806,
          0.02930367201915942,
          0.03128150617121719,
          0.03173846380668692,
          0.0329065356956562,
          0.03426566658890806,
          0.03507571509107947,
          0.036212632217211646,
          0.036560427711810915,
          0.009660814784001558,
          0.011483228206634522,
          0.011971563007682562,
          0.04812127808108926,
          0.04757762341760099,
          0.04736183253116906,
          0.04652815721929073,
          0.046007247269153596,
          0.04520057761110365,
          0.04514562212862074,
          0.04502871013246477,
          0.043329305003862825,
          0.042426267045084384,
          0.004364907566923648,
          0.005333378363866359,
          0.005444223352242261,
          0.007234229019377381,
          0.025506387243513017,
          0.04241706683533266,
          0.0612895039957948,
          0.07547878451878205
         ],
         "yaxis": "y"
        },
        {
         "fillpattern": {
          "shape": ""
         },
         "hovertemplate": "emotion=Sad<br>pos_sec=%{x}<br>moving_avg=%{y}<extra></extra>",
         "legendgroup": "Sad",
         "line": {
          "color": "#FFA15A"
         },
         "marker": {
          "symbol": "circle"
         },
         "mode": "lines",
         "name": "Sad",
         "orientation": "v",
         "showlegend": true,
         "stackgroup": "1",
         "type": "scatter",
         "x": [
          6.44,
          6.8,
          7.16,
          7.52,
          7.88,
          8.24,
          8.6,
          8.96,
          9.32,
          9.68,
          10.04,
          10.4,
          10.4,
          20.12,
          20.48,
          20.84,
          21.2,
          21.56,
          21.92,
          22.28,
          22.64,
          23,
          23.36,
          33.08,
          33.44,
          33.8,
          34.16,
          34.52,
          34.88,
          35.24,
          35.6,
          35.96,
          36.32,
          36.68,
          47.48,
          47.84,
          48.2,
          48.56,
          48.92,
          49.28,
          49.64,
          50,
          50.36,
          52.16,
          61.16,
          61.52,
          61.88,
          61.88,
          62.24,
          62.6,
          62.96,
          63.32,
          63.68,
          64.04,
          64.4,
          65.84,
          75.2,
          75.56,
          75.92,
          76.28,
          76.64,
          77,
          77.36,
          77.72,
          78.08,
          78.44,
          78.8,
          79.16,
          80.24,
          89.96,
          90.32,
          90.68,
          91.04,
          91.4,
          91.76,
          92.12,
          92.48,
          92.84,
          93.2,
          93.56,
          93.92,
          94.28
         ],
         "xaxis": "x",
         "y": [
          0.09214023363310844,
          0.1089236173313111,
          0.12699853954836726,
          0.14031144678592683,
          0.15547619555145503,
          0.17658348083496095,
          0.18136240988969804,
          0.1847926050424576,
          0.18735865503549576,
          0.17428355645388366,
          0.1649266926571727,
          0.1553223578259349,
          0.14883775170892477,
          0.16221021469682456,
          0.15747393276542426,
          0.1511262169107795,
          0.14323927816003562,
          0.13568206783384085,
          0.12863185163587332,
          0.1299566524103284,
          0.14267442245036363,
          0.1515844689682126,
          0.1523039171472192,
          0.14185056779533625,
          0.14193909782916309,
          0.13581785578280686,
          0.13480446953326464,
          0.13213137853890658,
          0.12890260610729457,
          0.13847214132547378,
          0.1195787881501019,
          0.11047412352636457,
          0.11209894018247724,
          0.11031483905389905,
          0.11702837916091084,
          0.10604673440175247,
          0.10212694446163369,
          0.10431722442226601,
          0.10417882243709756,
          0.0990889441462059,
          0.11210523315312457,
          0.12250083156468464,
          0.12543604292513919,
          0.13433846898915364,
          0.13588058718087268,
          0.1605960138142109,
          0.18365891128778458,
          0.20056521147489548,
          0.22866248860955238,
          0.25821300894021987,
          0.28237234801054,
          0.27803092300891874,
          0.26250527501106263,
          0.24188164621591568,
          0.24007813334465028,
          0.24407618194818498,
          0.23654102236032487,
          0.23064860105514526,
          0.21506302803754807,
          0.1974089503288269,
          0.17807167768478394,
          0.19422636777162552,
          0.21305290311574937,
          0.24485270529985428,
          0.23403468132019042,
          0.2160138137638569,
          0.212374933809042,
          0.21849315240979195,
          0.22337711974978447,
          0.23227491453289986,
          0.23521324768662452,
          0.23379550650715827,
          0.25747445598244667,
          0.25715571120381353,
          0.28127398118376734,
          0.29421987682580947,
          0.29053855389356614,
          0.2772336781024933,
          0.29156544506549836,
          0.28338018953800204,
          0.2663893558084965,
          0.23871077648364009
         ],
         "yaxis": "y"
        },
        {
         "fillpattern": {
          "shape": ""
         },
         "hovertemplate": "emotion=Surprise<br>pos_sec=%{x}<br>moving_avg=%{y}<extra></extra>",
         "legendgroup": "Surprise",
         "line": {
          "color": "#19d3f3"
         },
         "marker": {
          "symbol": "circle"
         },
         "mode": "lines",
         "name": "Surprise",
         "orientation": "v",
         "showlegend": true,
         "stackgroup": "1",
         "type": "scatter",
         "x": [
          6.44,
          6.8,
          7.16,
          7.52,
          7.88,
          8.24,
          8.6,
          8.96,
          9.32,
          9.68,
          10.04,
          10.4,
          10.4,
          20.12,
          20.48,
          20.84,
          21.2,
          21.56,
          21.92,
          22.28,
          22.64,
          23,
          23.36,
          33.08,
          33.44,
          33.8,
          34.16,
          34.52,
          34.88,
          35.24,
          35.6,
          35.96,
          36.32,
          36.68,
          47.48,
          47.84,
          48.2,
          48.56,
          48.92,
          49.28,
          49.64,
          50,
          50.36,
          52.16,
          61.16,
          61.52,
          61.88,
          61.88,
          62.24,
          62.6,
          62.96,
          63.32,
          63.68,
          64.04,
          64.4,
          65.84,
          75.2,
          75.56,
          75.92,
          76.28,
          76.64,
          77,
          77.36,
          77.72,
          78.08,
          78.44,
          78.8,
          79.16,
          80.24,
          89.96,
          90.32,
          90.68,
          91.04,
          91.4,
          91.76,
          92.12,
          92.48,
          92.84,
          93.2,
          93.56,
          93.92,
          94.28
         ],
         "xaxis": "x",
         "y": [
          0.19996228939853608,
          0.17347038364969194,
          0.14392778030596673,
          0.1331539814826101,
          0.13266407153569162,
          0.12137273824773728,
          0.08174215867184102,
          0.07315072431229055,
          0.07051847572438419,
          0.1214425953105092,
          0.11970786955207587,
          0.11454777959734201,
          0.11476443316787481,
          0.10331389503553509,
          0.08839461663737894,
          0.08568653063848615,
          0.08502970123663545,
          0.07685037786141038,
          0.07671596584841608,
          0.03997749863192439,
          0.03768221130594611,
          0.03544824896380305,
          0.037917811702936885,
          0.03928524050861597,
          0.0362321671564132,
          0.0361957544926554,
          0.040416756505146624,
          0.04087840602733195,
          0.04793457896448672,
          0.03545374856330454,
          0.09478183598257602,
          0.09984308839775621,
          0.10754646607674659,
          0.1158718575257808,
          0.12429549228399991,
          0.12180783904623241,
          0.11791878722142428,
          0.12018778666388244,
          0.12145276262890548,
          0.12047351717483253,
          0.0918825876666233,
          0.09529342621099204,
          0.09735398858319969,
          0.09125569767784328,
          0.09795126549433916,
          0.10712783969938755,
          0.11020797453820705,
          0.11644368432462215,
          0.10925596505403519,
          0.11392928026616574,
          0.08652404807507992,
          0.08290203176438808,
          0.09016552232205868,
          0.0900439277291298,
          0.08813886046409607,
          0.08715122640132904,
          0.09438952952623367,
          0.09922038242220879,
          0.1114630352705717,
          0.12332319766283036,
          0.1210297117009759,
          0.12104936260730029,
          0.1105746166780591,
          0.11520204711705447,
          0.10963677633553744,
          0.14427631292492152,
          0.14013645071536301,
          0.12957229632884265,
          0.11804593484848738,
          0.10557286161929369,
          0.11028870418667794,
          0.11117654591798783,
          0.1023960668593645,
          0.10023594684898854,
          0.10605736412107944,
          0.06735769100487232,
          0.06175282038748264,
          0.06148744337260723,
          0.07898345589637756,
          0.10085312239825725,
          0.14248474948108197,
          0.1971855852752924
         ],
         "yaxis": "y"
        },
        {
         "fillpattern": {
          "shape": ""
         },
         "hovertemplate": "emotion=Neutral<br>pos_sec=%{x}<br>moving_avg=%{y}<extra></extra>",
         "legendgroup": "Neutral",
         "line": {
          "color": "#FF6692"
         },
         "marker": {
          "symbol": "circle"
         },
         "mode": "lines",
         "name": "Neutral",
         "orientation": "v",
         "showlegend": true,
         "stackgroup": "1",
         "type": "scatter",
         "x": [
          6.44,
          6.8,
          7.16,
          7.52,
          7.88,
          8.24,
          8.6,
          8.96,
          9.32,
          9.68,
          10.04,
          10.4,
          10.4,
          20.12,
          20.48,
          20.84,
          21.2,
          21.56,
          21.92,
          22.28,
          22.64,
          23,
          23.36,
          33.08,
          33.44,
          33.8,
          34.16,
          34.52,
          34.88,
          35.24,
          35.6,
          35.96,
          36.32,
          36.68,
          47.48,
          47.84,
          48.2,
          48.56,
          48.92,
          49.28,
          49.64,
          50,
          50.36,
          52.16,
          61.16,
          61.52,
          61.88,
          61.88,
          62.24,
          62.6,
          62.96,
          63.32,
          63.68,
          64.04,
          64.4,
          65.84,
          75.2,
          75.56,
          75.92,
          76.28,
          76.64,
          77,
          77.36,
          77.72,
          78.08,
          78.44,
          78.8,
          79.16,
          80.24,
          89.96,
          90.32,
          90.68,
          91.04,
          91.4,
          91.76,
          92.12,
          92.48,
          92.84,
          93.2,
          93.56,
          93.92,
          94.28
         ],
         "xaxis": "x",
         "y": [
          0.25010882318019867,
          0.2944220557808876,
          0.3307716175913811,
          0.3754969537258148,
          0.41763671264052393,
          0.4550032466650009,
          0.4799616724252701,
          0.48334511518478396,
          0.4727750331163406,
          0.4169676322489977,
          0.43004510588943956,
          0.45081227608025076,
          0.4554337698966265,
          0.42461968697607516,
          0.39009202234447005,
          0.4075554829090834,
          0.42348801009356973,
          0.45612538866698743,
          0.4841568719595671,
          0.49301484003663065,
          0.48488829508423803,
          0.4752136506140232,
          0.48485173359513284,
          0.5259207598865032,
          0.5844199135899544,
          0.5981572464108467,
          0.5956256583333015,
          0.5934317901730537,
          0.5944120839238167,
          0.6515974462032318,
          0.6025696456432342,
          0.6147983729839325,
          0.6152168393135071,
          0.6206200003623963,
          0.6127043187618255,
          0.5383230242179706,
          0.5345919165061787,
          0.5398766252445057,
          0.5352097901748494,
          0.479031692747958,
          0.4808636966394261,
          0.4255641210125759,
          0.3964284855173901,
          0.36751812577713283,
          0.3228273797081783,
          0.3456428721547127,
          0.2932313043624163,
          0.23039356991648674,
          0.17551922053098679,
          0.17099738642573356,
          0.16488152295351027,
          0.16366660594940186,
          0.18789244592189788,
          0.236933571100235,
          0.27068055868148805,
          0.2919306606054306,
          0.3377735819667578,
          0.3771162085235119,
          0.4205163359642029,
          0.46376038566231725,
          0.5095495641231537,
          0.543046286702156,
          0.5360824555158615,
          0.4798192709684372,
          0.4406610995531082,
          0.4005457729101181,
          0.3938302546739578,
          0.389993616938591,
          0.39134797751903533,
          0.37749790847301484,
          0.3737829655408859,
          0.35943768322467806,
          0.3293759718537331,
          0.31604758501052854,
          0.32034908831119535,
          0.368332576751709,
          0.3859473645687103,
          0.40844195485115053,
          null,
          null,
          null,
          null
         ],
         "yaxis": "y"
        }
       ],
       "layout": {
        "legend": {
         "title": {
          "text": "emotion"
         },
         "tracegroupgap": 0
        },
        "margin": {
         "t": 60
        },
        "template": {
         "data": {
          "bar": [
           {
            "error_x": {
             "color": "#2a3f5f"
            },
            "error_y": {
             "color": "#2a3f5f"
            },
            "marker": {
             "line": {
              "color": "#E5ECF6",
              "width": 0.5
             },
             "pattern": {
              "fillmode": "overlay",
              "size": 10,
              "solidity": 0.2
             }
            },
            "type": "bar"
           }
          ],
          "barpolar": [
           {
            "marker": {
             "line": {
              "color": "#E5ECF6",
              "width": 0.5
             },
             "pattern": {
              "fillmode": "overlay",
              "size": 10,
              "solidity": 0.2
             }
            },
            "type": "barpolar"
           }
          ],
          "carpet": [
           {
            "aaxis": {
             "endlinecolor": "#2a3f5f",
             "gridcolor": "white",
             "linecolor": "white",
             "minorgridcolor": "white",
             "startlinecolor": "#2a3f5f"
            },
            "baxis": {
             "endlinecolor": "#2a3f5f",
             "gridcolor": "white",
             "linecolor": "white",
             "minorgridcolor": "white",
             "startlinecolor": "#2a3f5f"
            },
            "type": "carpet"
           }
          ],
          "choropleth": [
           {
            "colorbar": {
             "outlinewidth": 0,
             "ticks": ""
            },
            "type": "choropleth"
           }
          ],
          "contour": [
           {
            "colorbar": {
             "outlinewidth": 0,
             "ticks": ""
            },
            "colorscale": [
             [
              0,
              "#0d0887"
             ],
             [
              0.1111111111111111,
              "#46039f"
             ],
             [
              0.2222222222222222,
              "#7201a8"
             ],
             [
              0.3333333333333333,
              "#9c179e"
             ],
             [
              0.4444444444444444,
              "#bd3786"
             ],
             [
              0.5555555555555556,
              "#d8576b"
             ],
             [
              0.6666666666666666,
              "#ed7953"
             ],
             [
              0.7777777777777778,
              "#fb9f3a"
             ],
             [
              0.8888888888888888,
              "#fdca26"
             ],
             [
              1,
              "#f0f921"
             ]
            ],
            "type": "contour"
           }
          ],
          "contourcarpet": [
           {
            "colorbar": {
             "outlinewidth": 0,
             "ticks": ""
            },
            "type": "contourcarpet"
           }
          ],
          "heatmap": [
           {
            "colorbar": {
             "outlinewidth": 0,
             "ticks": ""
            },
            "colorscale": [
             [
              0,
              "#0d0887"
             ],
             [
              0.1111111111111111,
              "#46039f"
             ],
             [
              0.2222222222222222,
              "#7201a8"
             ],
             [
              0.3333333333333333,
              "#9c179e"
             ],
             [
              0.4444444444444444,
              "#bd3786"
             ],
             [
              0.5555555555555556,
              "#d8576b"
             ],
             [
              0.6666666666666666,
              "#ed7953"
             ],
             [
              0.7777777777777778,
              "#fb9f3a"
             ],
             [
              0.8888888888888888,
              "#fdca26"
             ],
             [
              1,
              "#f0f921"
             ]
            ],
            "type": "heatmap"
           }
          ],
          "heatmapgl": [
           {
            "colorbar": {
             "outlinewidth": 0,
             "ticks": ""
            },
            "colorscale": [
             [
              0,
              "#0d0887"
             ],
             [
              0.1111111111111111,
              "#46039f"
             ],
             [
              0.2222222222222222,
              "#7201a8"
             ],
             [
              0.3333333333333333,
              "#9c179e"
             ],
             [
              0.4444444444444444,
              "#bd3786"
             ],
             [
              0.5555555555555556,
              "#d8576b"
             ],
             [
              0.6666666666666666,
              "#ed7953"
             ],
             [
              0.7777777777777778,
              "#fb9f3a"
             ],
             [
              0.8888888888888888,
              "#fdca26"
             ],
             [
              1,
              "#f0f921"
             ]
            ],
            "type": "heatmapgl"
           }
          ],
          "histogram": [
           {
            "marker": {
             "pattern": {
              "fillmode": "overlay",
              "size": 10,
              "solidity": 0.2
             }
            },
            "type": "histogram"
           }
          ],
          "histogram2d": [
           {
            "colorbar": {
             "outlinewidth": 0,
             "ticks": ""
            },
            "colorscale": [
             [
              0,
              "#0d0887"
             ],
             [
              0.1111111111111111,
              "#46039f"
             ],
             [
              0.2222222222222222,
              "#7201a8"
             ],
             [
              0.3333333333333333,
              "#9c179e"
             ],
             [
              0.4444444444444444,
              "#bd3786"
             ],
             [
              0.5555555555555556,
              "#d8576b"
             ],
             [
              0.6666666666666666,
              "#ed7953"
             ],
             [
              0.7777777777777778,
              "#fb9f3a"
             ],
             [
              0.8888888888888888,
              "#fdca26"
             ],
             [
              1,
              "#f0f921"
             ]
            ],
            "type": "histogram2d"
           }
          ],
          "histogram2dcontour": [
           {
            "colorbar": {
             "outlinewidth": 0,
             "ticks": ""
            },
            "colorscale": [
             [
              0,
              "#0d0887"
             ],
             [
              0.1111111111111111,
              "#46039f"
             ],
             [
              0.2222222222222222,
              "#7201a8"
             ],
             [
              0.3333333333333333,
              "#9c179e"
             ],
             [
              0.4444444444444444,
              "#bd3786"
             ],
             [
              0.5555555555555556,
              "#d8576b"
             ],
             [
              0.6666666666666666,
              "#ed7953"
             ],
             [
              0.7777777777777778,
              "#fb9f3a"
             ],
             [
              0.8888888888888888,
              "#fdca26"
             ],
             [
              1,
              "#f0f921"
             ]
            ],
            "type": "histogram2dcontour"
           }
          ],
          "mesh3d": [
           {
            "colorbar": {
             "outlinewidth": 0,
             "ticks": ""
            },
            "type": "mesh3d"
           }
          ],
          "parcoords": [
           {
            "line": {
             "colorbar": {
              "outlinewidth": 0,
              "ticks": ""
             }
            },
            "type": "parcoords"
           }
          ],
          "pie": [
           {
            "automargin": true,
            "type": "pie"
           }
          ],
          "scatter": [
           {
            "fillpattern": {
             "fillmode": "overlay",
             "size": 10,
             "solidity": 0.2
            },
            "type": "scatter"
           }
          ],
          "scatter3d": [
           {
            "line": {
             "colorbar": {
              "outlinewidth": 0,
              "ticks": ""
             }
            },
            "marker": {
             "colorbar": {
              "outlinewidth": 0,
              "ticks": ""
             }
            },
            "type": "scatter3d"
           }
          ],
          "scattercarpet": [
           {
            "marker": {
             "colorbar": {
              "outlinewidth": 0,
              "ticks": ""
             }
            },
            "type": "scattercarpet"
           }
          ],
          "scattergeo": [
           {
            "marker": {
             "colorbar": {
              "outlinewidth": 0,
              "ticks": ""
             }
            },
            "type": "scattergeo"
           }
          ],
          "scattergl": [
           {
            "marker": {
             "colorbar": {
              "outlinewidth": 0,
              "ticks": ""
             }
            },
            "type": "scattergl"
           }
          ],
          "scattermapbox": [
           {
            "marker": {
             "colorbar": {
              "outlinewidth": 0,
              "ticks": ""
             }
            },
            "type": "scattermapbox"
           }
          ],
          "scatterpolar": [
           {
            "marker": {
             "colorbar": {
              "outlinewidth": 0,
              "ticks": ""
             }
            },
            "type": "scatterpolar"
           }
          ],
          "scatterpolargl": [
           {
            "marker": {
             "colorbar": {
              "outlinewidth": 0,
              "ticks": ""
             }
            },
            "type": "scatterpolargl"
           }
          ],
          "scatterternary": [
           {
            "marker": {
             "colorbar": {
              "outlinewidth": 0,
              "ticks": ""
             }
            },
            "type": "scatterternary"
           }
          ],
          "surface": [
           {
            "colorbar": {
             "outlinewidth": 0,
             "ticks": ""
            },
            "colorscale": [
             [
              0,
              "#0d0887"
             ],
             [
              0.1111111111111111,
              "#46039f"
             ],
             [
              0.2222222222222222,
              "#7201a8"
             ],
             [
              0.3333333333333333,
              "#9c179e"
             ],
             [
              0.4444444444444444,
              "#bd3786"
             ],
             [
              0.5555555555555556,
              "#d8576b"
             ],
             [
              0.6666666666666666,
              "#ed7953"
             ],
             [
              0.7777777777777778,
              "#fb9f3a"
             ],
             [
              0.8888888888888888,
              "#fdca26"
             ],
             [
              1,
              "#f0f921"
             ]
            ],
            "type": "surface"
           }
          ],
          "table": [
           {
            "cells": {
             "fill": {
              "color": "#EBF0F8"
             },
             "line": {
              "color": "white"
             }
            },
            "header": {
             "fill": {
              "color": "#C8D4E3"
             },
             "line": {
              "color": "white"
             }
            },
            "type": "table"
           }
          ]
         },
         "layout": {
          "annotationdefaults": {
           "arrowcolor": "#2a3f5f",
           "arrowhead": 0,
           "arrowwidth": 1
          },
          "autotypenumbers": "strict",
          "coloraxis": {
           "colorbar": {
            "outlinewidth": 0,
            "ticks": ""
           }
          },
          "colorscale": {
           "diverging": [
            [
             0,
             "#8e0152"
            ],
            [
             0.1,
             "#c51b7d"
            ],
            [
             0.2,
             "#de77ae"
            ],
            [
             0.3,
             "#f1b6da"
            ],
            [
             0.4,
             "#fde0ef"
            ],
            [
             0.5,
             "#f7f7f7"
            ],
            [
             0.6,
             "#e6f5d0"
            ],
            [
             0.7,
             "#b8e186"
            ],
            [
             0.8,
             "#7fbc41"
            ],
            [
             0.9,
             "#4d9221"
            ],
            [
             1,
             "#276419"
            ]
           ],
           "sequential": [
            [
             0,
             "#0d0887"
            ],
            [
             0.1111111111111111,
             "#46039f"
            ],
            [
             0.2222222222222222,
             "#7201a8"
            ],
            [
             0.3333333333333333,
             "#9c179e"
            ],
            [
             0.4444444444444444,
             "#bd3786"
            ],
            [
             0.5555555555555556,
             "#d8576b"
            ],
            [
             0.6666666666666666,
             "#ed7953"
            ],
            [
             0.7777777777777778,
             "#fb9f3a"
            ],
            [
             0.8888888888888888,
             "#fdca26"
            ],
            [
             1,
             "#f0f921"
            ]
           ],
           "sequentialminus": [
            [
             0,
             "#0d0887"
            ],
            [
             0.1111111111111111,
             "#46039f"
            ],
            [
             0.2222222222222222,
             "#7201a8"
            ],
            [
             0.3333333333333333,
             "#9c179e"
            ],
            [
             0.4444444444444444,
             "#bd3786"
            ],
            [
             0.5555555555555556,
             "#d8576b"
            ],
            [
             0.6666666666666666,
             "#ed7953"
            ],
            [
             0.7777777777777778,
             "#fb9f3a"
            ],
            [
             0.8888888888888888,
             "#fdca26"
            ],
            [
             1,
             "#f0f921"
            ]
           ]
          },
          "colorway": [
           "#636efa",
           "#EF553B",
           "#00cc96",
           "#ab63fa",
           "#FFA15A",
           "#19d3f3",
           "#FF6692",
           "#B6E880",
           "#FF97FF",
           "#FECB52"
          ],
          "font": {
           "color": "#2a3f5f"
          },
          "geo": {
           "bgcolor": "white",
           "lakecolor": "white",
           "landcolor": "#E5ECF6",
           "showlakes": true,
           "showland": true,
           "subunitcolor": "white"
          },
          "hoverlabel": {
           "align": "left"
          },
          "hovermode": "closest",
          "mapbox": {
           "style": "light"
          },
          "paper_bgcolor": "white",
          "plot_bgcolor": "#E5ECF6",
          "polar": {
           "angularaxis": {
            "gridcolor": "white",
            "linecolor": "white",
            "ticks": ""
           },
           "bgcolor": "#E5ECF6",
           "radialaxis": {
            "gridcolor": "white",
            "linecolor": "white",
            "ticks": ""
           }
          },
          "scene": {
           "xaxis": {
            "backgroundcolor": "#E5ECF6",
            "gridcolor": "white",
            "gridwidth": 2,
            "linecolor": "white",
            "showbackground": true,
            "ticks": "",
            "zerolinecolor": "white"
           },
           "yaxis": {
            "backgroundcolor": "#E5ECF6",
            "gridcolor": "white",
            "gridwidth": 2,
            "linecolor": "white",
            "showbackground": true,
            "ticks": "",
            "zerolinecolor": "white"
           },
           "zaxis": {
            "backgroundcolor": "#E5ECF6",
            "gridcolor": "white",
            "gridwidth": 2,
            "linecolor": "white",
            "showbackground": true,
            "ticks": "",
            "zerolinecolor": "white"
           }
          },
          "shapedefaults": {
           "line": {
            "color": "#2a3f5f"
           }
          },
          "ternary": {
           "aaxis": {
            "gridcolor": "white",
            "linecolor": "white",
            "ticks": ""
           },
           "baxis": {
            "gridcolor": "white",
            "linecolor": "white",
            "ticks": ""
           },
           "bgcolor": "#E5ECF6",
           "caxis": {
            "gridcolor": "white",
            "linecolor": "white",
            "ticks": ""
           }
          },
          "title": {
           "x": 0.05
          },
          "xaxis": {
           "automargin": true,
           "gridcolor": "white",
           "linecolor": "white",
           "ticks": "",
           "title": {
            "standoff": 15
           },
           "zerolinecolor": "white",
           "zerolinewidth": 2
          },
          "yaxis": {
           "automargin": true,
           "gridcolor": "white",
           "linecolor": "white",
           "ticks": "",
           "title": {
            "standoff": 15
           },
           "zerolinecolor": "white",
           "zerolinewidth": 2
          }
         }
        },
        "xaxis": {
         "anchor": "y",
         "domain": [
          0,
          1
         ],
         "title": {
          "text": "pos_sec"
         }
        },
        "yaxis": {
         "anchor": "x",
         "domain": [
          0,
          1
         ],
         "title": {
          "text": "moving_avg"
         }
        }
       }
      }
     },
     "metadata": {},
     "output_type": "display_data"
    }
   ],
   "source": [
    "fig = px.area(df, x=\"pos_sec\", y=\"moving_avg\", color=\"emotion\")\n",
    "fig.show()"
   ]
  },
  {
   "attachments": {},
   "cell_type": "markdown",
   "metadata": {},
   "source": [
    "# I Adjusted plots until here\n",
    "\n",
    "### Still Open\n",
    "* Periods with no people are by now interlinked - so we have straight in the original data and valleys forming in the rolling mean.\n",
    "* Tha Barcharts show quite well when multiple people com into play - but by now, their values are summed up. If we can get Character Recognition to work, that will be great - if not, at least we can try to reduce it down to one person per frame, but there's no guarantee that we always get the same person.\n",
    "* With objects and classes we could structure the code even better\n",
    "* I have the feeling from my videos that the performance is not super good right - maybe we achieve to get better results somehow.\n",
    "* Much faster on youtube video data looking at Video_seconds analyzed per processing second.\n",
    "\n",
    "#### After Dinner the youtube integration stopped working, I can't see why!"
   ]
  },
  {
   "cell_type": "markdown",
   "metadata": {},
   "source": []
  },
  {
   "cell_type": "code",
   "execution_count": null,
   "metadata": {},
   "outputs": [],
   "source": []
  },
  {
   "cell_type": "code",
   "execution_count": null,
   "metadata": {},
   "outputs": [
    {
     "ename": "ValueError",
     "evalue": "Could not interpret value `Frame` for parameter `x`",
     "output_type": "error",
     "traceback": [
      "\u001b[0;31m---------------------------------------------------------------------------\u001b[0m",
      "\u001b[0;31mValueError\u001b[0m                                Traceback (most recent call last)",
      "Cell \u001b[0;32mIn[21], line 1\u001b[0m\n\u001b[0;32m----> 1\u001b[0m sns\u001b[39m.\u001b[39;49mlineplot(data \u001b[39m=\u001b[39;49m df_plotting, x \u001b[39m=\u001b[39;49m \u001b[39m'\u001b[39;49m\u001b[39mFrame\u001b[39;49m\u001b[39m'\u001b[39;49m, y\u001b[39m=\u001b[39;49m\u001b[39m'\u001b[39;49m\u001b[39mmoving_avg\u001b[39;49m\u001b[39m'\u001b[39;49m, hue \u001b[39m=\u001b[39;49m \u001b[39m'\u001b[39;49m\u001b[39mfeeling\u001b[39;49m\u001b[39m'\u001b[39;49m)\n",
      "File \u001b[0;32m~/Neue_Fische/NeuralXpresso/.venv/lib/python3.9/site-packages/seaborn/relational.py:618\u001b[0m, in \u001b[0;36mlineplot\u001b[0;34m(data, x, y, hue, size, style, units, palette, hue_order, hue_norm, sizes, size_order, size_norm, dashes, markers, style_order, estimator, errorbar, n_boot, seed, orient, sort, err_style, err_kws, legend, ci, ax, **kwargs)\u001b[0m\n\u001b[1;32m    615\u001b[0m errorbar \u001b[39m=\u001b[39m _deprecate_ci(errorbar, ci)\n\u001b[1;32m    617\u001b[0m variables \u001b[39m=\u001b[39m _LinePlotter\u001b[39m.\u001b[39mget_semantics(\u001b[39mlocals\u001b[39m())\n\u001b[0;32m--> 618\u001b[0m p \u001b[39m=\u001b[39m _LinePlotter(\n\u001b[1;32m    619\u001b[0m     data\u001b[39m=\u001b[39;49mdata, variables\u001b[39m=\u001b[39;49mvariables,\n\u001b[1;32m    620\u001b[0m     estimator\u001b[39m=\u001b[39;49mestimator, n_boot\u001b[39m=\u001b[39;49mn_boot, seed\u001b[39m=\u001b[39;49mseed, errorbar\u001b[39m=\u001b[39;49merrorbar,\n\u001b[1;32m    621\u001b[0m     sort\u001b[39m=\u001b[39;49msort, orient\u001b[39m=\u001b[39;49morient, err_style\u001b[39m=\u001b[39;49merr_style, err_kws\u001b[39m=\u001b[39;49merr_kws,\n\u001b[1;32m    622\u001b[0m     legend\u001b[39m=\u001b[39;49mlegend,\n\u001b[1;32m    623\u001b[0m )\n\u001b[1;32m    625\u001b[0m p\u001b[39m.\u001b[39mmap_hue(palette\u001b[39m=\u001b[39mpalette, order\u001b[39m=\u001b[39mhue_order, norm\u001b[39m=\u001b[39mhue_norm)\n\u001b[1;32m    626\u001b[0m p\u001b[39m.\u001b[39mmap_size(sizes\u001b[39m=\u001b[39msizes, order\u001b[39m=\u001b[39msize_order, norm\u001b[39m=\u001b[39msize_norm)\n",
      "File \u001b[0;32m~/Neue_Fische/NeuralXpresso/.venv/lib/python3.9/site-packages/seaborn/relational.py:365\u001b[0m, in \u001b[0;36m_LinePlotter.__init__\u001b[0;34m(self, data, variables, estimator, n_boot, seed, errorbar, sort, orient, err_style, err_kws, legend)\u001b[0m\n\u001b[1;32m    351\u001b[0m \u001b[39mdef\u001b[39;00m \u001b[39m__init__\u001b[39m(\n\u001b[1;32m    352\u001b[0m     \u001b[39mself\u001b[39m, \u001b[39m*\u001b[39m,\n\u001b[1;32m    353\u001b[0m     data\u001b[39m=\u001b[39m\u001b[39mNone\u001b[39;00m, variables\u001b[39m=\u001b[39m{},\n\u001b[0;32m   (...)\u001b[0m\n\u001b[1;32m    359\u001b[0m     \u001b[39m# the kind of plot to draw, but for the time being we need to set\u001b[39;00m\n\u001b[1;32m    360\u001b[0m     \u001b[39m# this information so the SizeMapping can use it\u001b[39;00m\n\u001b[1;32m    361\u001b[0m     \u001b[39mself\u001b[39m\u001b[39m.\u001b[39m_default_size_range \u001b[39m=\u001b[39m (\n\u001b[1;32m    362\u001b[0m         np\u001b[39m.\u001b[39mr_[\u001b[39m.5\u001b[39m, \u001b[39m2\u001b[39m] \u001b[39m*\u001b[39m mpl\u001b[39m.\u001b[39mrcParams[\u001b[39m\"\u001b[39m\u001b[39mlines.linewidth\u001b[39m\u001b[39m\"\u001b[39m]\n\u001b[1;32m    363\u001b[0m     )\n\u001b[0;32m--> 365\u001b[0m     \u001b[39msuper\u001b[39;49m()\u001b[39m.\u001b[39;49m\u001b[39m__init__\u001b[39;49m(data\u001b[39m=\u001b[39;49mdata, variables\u001b[39m=\u001b[39;49mvariables)\n\u001b[1;32m    367\u001b[0m     \u001b[39mself\u001b[39m\u001b[39m.\u001b[39mestimator \u001b[39m=\u001b[39m estimator\n\u001b[1;32m    368\u001b[0m     \u001b[39mself\u001b[39m\u001b[39m.\u001b[39merrorbar \u001b[39m=\u001b[39m errorbar\n",
      "File \u001b[0;32m~/Neue_Fische/NeuralXpresso/.venv/lib/python3.9/site-packages/seaborn/_oldcore.py:640\u001b[0m, in \u001b[0;36mVectorPlotter.__init__\u001b[0;34m(self, data, variables)\u001b[0m\n\u001b[1;32m    635\u001b[0m \u001b[39m# var_ordered is relevant only for categorical axis variables, and may\u001b[39;00m\n\u001b[1;32m    636\u001b[0m \u001b[39m# be better handled by an internal axis information object that tracks\u001b[39;00m\n\u001b[1;32m    637\u001b[0m \u001b[39m# such information and is set up by the scale_* methods. The analogous\u001b[39;00m\n\u001b[1;32m    638\u001b[0m \u001b[39m# information for numeric axes would be information about log scales.\u001b[39;00m\n\u001b[1;32m    639\u001b[0m \u001b[39mself\u001b[39m\u001b[39m.\u001b[39m_var_ordered \u001b[39m=\u001b[39m {\u001b[39m\"\u001b[39m\u001b[39mx\u001b[39m\u001b[39m\"\u001b[39m: \u001b[39mFalse\u001b[39;00m, \u001b[39m\"\u001b[39m\u001b[39my\u001b[39m\u001b[39m\"\u001b[39m: \u001b[39mFalse\u001b[39;00m}  \u001b[39m# alt., used DefaultDict\u001b[39;00m\n\u001b[0;32m--> 640\u001b[0m \u001b[39mself\u001b[39;49m\u001b[39m.\u001b[39;49massign_variables(data, variables)\n\u001b[1;32m    642\u001b[0m \u001b[39mfor\u001b[39;00m var, \u001b[39mcls\u001b[39m \u001b[39min\u001b[39;00m \u001b[39mself\u001b[39m\u001b[39m.\u001b[39m_semantic_mappings\u001b[39m.\u001b[39mitems():\n\u001b[1;32m    643\u001b[0m \n\u001b[1;32m    644\u001b[0m     \u001b[39m# Create the mapping function\u001b[39;00m\n\u001b[1;32m    645\u001b[0m     map_func \u001b[39m=\u001b[39m partial(\u001b[39mcls\u001b[39m\u001b[39m.\u001b[39mmap, plotter\u001b[39m=\u001b[39m\u001b[39mself\u001b[39m)\n",
      "File \u001b[0;32m~/Neue_Fische/NeuralXpresso/.venv/lib/python3.9/site-packages/seaborn/_oldcore.py:701\u001b[0m, in \u001b[0;36mVectorPlotter.assign_variables\u001b[0;34m(self, data, variables)\u001b[0m\n\u001b[1;32m    699\u001b[0m \u001b[39melse\u001b[39;00m:\n\u001b[1;32m    700\u001b[0m     \u001b[39mself\u001b[39m\u001b[39m.\u001b[39minput_format \u001b[39m=\u001b[39m \u001b[39m\"\u001b[39m\u001b[39mlong\u001b[39m\u001b[39m\"\u001b[39m\n\u001b[0;32m--> 701\u001b[0m     plot_data, variables \u001b[39m=\u001b[39m \u001b[39mself\u001b[39;49m\u001b[39m.\u001b[39;49m_assign_variables_longform(\n\u001b[1;32m    702\u001b[0m         data, \u001b[39m*\u001b[39;49m\u001b[39m*\u001b[39;49mvariables,\n\u001b[1;32m    703\u001b[0m     )\n\u001b[1;32m    705\u001b[0m \u001b[39mself\u001b[39m\u001b[39m.\u001b[39mplot_data \u001b[39m=\u001b[39m plot_data\n\u001b[1;32m    706\u001b[0m \u001b[39mself\u001b[39m\u001b[39m.\u001b[39mvariables \u001b[39m=\u001b[39m variables\n",
      "File \u001b[0;32m~/Neue_Fische/NeuralXpresso/.venv/lib/python3.9/site-packages/seaborn/_oldcore.py:938\u001b[0m, in \u001b[0;36mVectorPlotter._assign_variables_longform\u001b[0;34m(self, data, **kwargs)\u001b[0m\n\u001b[1;32m    933\u001b[0m \u001b[39melif\u001b[39;00m \u001b[39misinstance\u001b[39m(val, (\u001b[39mstr\u001b[39m, \u001b[39mbytes\u001b[39m)):\n\u001b[1;32m    934\u001b[0m \n\u001b[1;32m    935\u001b[0m     \u001b[39m# This looks like a column name but we don't know what it means!\u001b[39;00m\n\u001b[1;32m    937\u001b[0m     err \u001b[39m=\u001b[39m \u001b[39mf\u001b[39m\u001b[39m\"\u001b[39m\u001b[39mCould not interpret value `\u001b[39m\u001b[39m{\u001b[39;00mval\u001b[39m}\u001b[39;00m\u001b[39m` for parameter `\u001b[39m\u001b[39m{\u001b[39;00mkey\u001b[39m}\u001b[39;00m\u001b[39m`\u001b[39m\u001b[39m\"\u001b[39m\n\u001b[0;32m--> 938\u001b[0m     \u001b[39mraise\u001b[39;00m \u001b[39mValueError\u001b[39;00m(err)\n\u001b[1;32m    940\u001b[0m \u001b[39melse\u001b[39;00m:\n\u001b[1;32m    941\u001b[0m \n\u001b[1;32m    942\u001b[0m     \u001b[39m# Otherwise, assume the value is itself data\u001b[39;00m\n\u001b[1;32m    943\u001b[0m \n\u001b[1;32m    944\u001b[0m     \u001b[39m# Raise when data object is present and a vector can't matched\u001b[39;00m\n\u001b[1;32m    945\u001b[0m     \u001b[39mif\u001b[39;00m \u001b[39misinstance\u001b[39m(data, pd\u001b[39m.\u001b[39mDataFrame) \u001b[39mand\u001b[39;00m \u001b[39mnot\u001b[39;00m \u001b[39misinstance\u001b[39m(val, pd\u001b[39m.\u001b[39mSeries):\n",
      "\u001b[0;31mValueError\u001b[0m: Could not interpret value `Frame` for parameter `x`"
     ]
    }
   ],
   "source": [
    "sns.lineplot(data = df_plotting, x = 'Frame', y='moving_avg', hue = 'feeling')"
   ]
  },
  {
   "cell_type": "code",
   "execution_count": null,
   "metadata": {},
   "outputs": [
    {
     "data": {
      "text/html": [
       "<div>\n",
       "<style scoped>\n",
       "    .dataframe tbody tr th:only-of-type {\n",
       "        vertical-align: middle;\n",
       "    }\n",
       "\n",
       "    .dataframe tbody tr th {\n",
       "        vertical-align: top;\n",
       "    }\n",
       "\n",
       "    .dataframe thead th {\n",
       "        text-align: right;\n",
       "    }\n",
       "</style>\n",
       "<table border=\"1\" class=\"dataframe\">\n",
       "  <thead>\n",
       "    <tr style=\"text-align: right;\">\n",
       "      <th></th>\n",
       "      <th>Frame</th>\n",
       "      <th>feeling</th>\n",
       "      <th>probability</th>\n",
       "      <th>moving_avg</th>\n",
       "    </tr>\n",
       "  </thead>\n",
       "  <tbody>\n",
       "    <tr>\n",
       "      <th>0</th>\n",
       "      <td>0</td>\n",
       "      <td>Angry</td>\n",
       "      <td>0.005274</td>\n",
       "      <td>NaN</td>\n",
       "    </tr>\n",
       "    <tr>\n",
       "      <th>1</th>\n",
       "      <td>1</td>\n",
       "      <td>Angry</td>\n",
       "      <td>0.010392</td>\n",
       "      <td>NaN</td>\n",
       "    </tr>\n",
       "    <tr>\n",
       "      <th>2</th>\n",
       "      <td>2</td>\n",
       "      <td>Angry</td>\n",
       "      <td>0.008759</td>\n",
       "      <td>NaN</td>\n",
       "    </tr>\n",
       "    <tr>\n",
       "      <th>3</th>\n",
       "      <td>3</td>\n",
       "      <td>Angry</td>\n",
       "      <td>0.028516</td>\n",
       "      <td>NaN</td>\n",
       "    </tr>\n",
       "    <tr>\n",
       "      <th>4</th>\n",
       "      <td>4</td>\n",
       "      <td>Angry</td>\n",
       "      <td>0.004002</td>\n",
       "      <td>NaN</td>\n",
       "    </tr>\n",
       "    <tr>\n",
       "      <th>...</th>\n",
       "      <td>...</td>\n",
       "      <td>...</td>\n",
       "      <td>...</td>\n",
       "      <td>...</td>\n",
       "    </tr>\n",
       "    <tr>\n",
       "      <th>6197</th>\n",
       "      <td>881</td>\n",
       "      <td>Neutral</td>\n",
       "      <td>0.185039</td>\n",
       "      <td>0.202502</td>\n",
       "    </tr>\n",
       "    <tr>\n",
       "      <th>6198</th>\n",
       "      <td>882</td>\n",
       "      <td>Neutral</td>\n",
       "      <td>0.252427</td>\n",
       "      <td>NaN</td>\n",
       "    </tr>\n",
       "    <tr>\n",
       "      <th>6199</th>\n",
       "      <td>883</td>\n",
       "      <td>Neutral</td>\n",
       "      <td>0.252427</td>\n",
       "      <td>NaN</td>\n",
       "    </tr>\n",
       "    <tr>\n",
       "      <th>6200</th>\n",
       "      <td>884</td>\n",
       "      <td>Neutral</td>\n",
       "      <td>0.240728</td>\n",
       "      <td>NaN</td>\n",
       "    </tr>\n",
       "    <tr>\n",
       "      <th>6201</th>\n",
       "      <td>885</td>\n",
       "      <td>Neutral</td>\n",
       "      <td>0.171030</td>\n",
       "      <td>NaN</td>\n",
       "    </tr>\n",
       "  </tbody>\n",
       "</table>\n",
       "<p>6202 rows × 4 columns</p>\n",
       "</div>"
      ],
      "text/plain": [
       "      Frame  feeling  probability  moving_avg\n",
       "0         0    Angry     0.005274         NaN\n",
       "1         1    Angry     0.010392         NaN\n",
       "2         2    Angry     0.008759         NaN\n",
       "3         3    Angry     0.028516         NaN\n",
       "4         4    Angry     0.004002         NaN\n",
       "...     ...      ...          ...         ...\n",
       "6197    881  Neutral     0.185039    0.202502\n",
       "6198    882  Neutral     0.252427         NaN\n",
       "6199    883  Neutral     0.252427         NaN\n",
       "6200    884  Neutral     0.240728         NaN\n",
       "6201    885  Neutral     0.171030         NaN\n",
       "\n",
       "[6202 rows x 4 columns]"
      ]
     },
     "execution_count": 87,
     "metadata": {},
     "output_type": "execute_result"
    }
   ],
   "source": [
    "df_plotting"
   ]
  },
  {
   "cell_type": "code",
   "execution_count": null,
   "metadata": {},
   "outputs": [
    {
     "data": {
      "text/html": [
       "<div>\n",
       "<style scoped>\n",
       "    .dataframe tbody tr th:only-of-type {\n",
       "        vertical-align: middle;\n",
       "    }\n",
       "\n",
       "    .dataframe tbody tr th {\n",
       "        vertical-align: top;\n",
       "    }\n",
       "\n",
       "    .dataframe thead th {\n",
       "        text-align: right;\n",
       "    }\n",
       "</style>\n",
       "<table border=\"1\" class=\"dataframe\">\n",
       "  <thead>\n",
       "    <tr style=\"text-align: right;\">\n",
       "      <th></th>\n",
       "      <th>Frame</th>\n",
       "      <th>feeling</th>\n",
       "      <th>probability</th>\n",
       "      <th>moving_avg</th>\n",
       "    </tr>\n",
       "  </thead>\n",
       "  <tbody>\n",
       "    <tr>\n",
       "      <th>2658</th>\n",
       "      <td>0</td>\n",
       "      <td>Happy</td>\n",
       "      <td>0.955532</td>\n",
       "      <td>0.505082</td>\n",
       "    </tr>\n",
       "    <tr>\n",
       "      <th>2659</th>\n",
       "      <td>1</td>\n",
       "      <td>Happy</td>\n",
       "      <td>0.935133</td>\n",
       "      <td>0.593292</td>\n",
       "    </tr>\n",
       "    <tr>\n",
       "      <th>2660</th>\n",
       "      <td>2</td>\n",
       "      <td>Happy</td>\n",
       "      <td>0.923429</td>\n",
       "      <td>0.665813</td>\n",
       "    </tr>\n",
       "    <tr>\n",
       "      <th>2661</th>\n",
       "      <td>3</td>\n",
       "      <td>Happy</td>\n",
       "      <td>0.822713</td>\n",
       "      <td>0.738803</td>\n",
       "    </tr>\n",
       "    <tr>\n",
       "      <th>2662</th>\n",
       "      <td>4</td>\n",
       "      <td>Happy</td>\n",
       "      <td>0.938086</td>\n",
       "      <td>0.825939</td>\n",
       "    </tr>\n",
       "    <tr>\n",
       "      <th>...</th>\n",
       "      <td>...</td>\n",
       "      <td>...</td>\n",
       "      <td>...</td>\n",
       "      <td>...</td>\n",
       "    </tr>\n",
       "    <tr>\n",
       "      <th>3539</th>\n",
       "      <td>881</td>\n",
       "      <td>Happy</td>\n",
       "      <td>0.507732</td>\n",
       "      <td>0.446257</td>\n",
       "    </tr>\n",
       "    <tr>\n",
       "      <th>3540</th>\n",
       "      <td>882</td>\n",
       "      <td>Happy</td>\n",
       "      <td>0.367060</td>\n",
       "      <td>0.402680</td>\n",
       "    </tr>\n",
       "    <tr>\n",
       "      <th>3541</th>\n",
       "      <td>883</td>\n",
       "      <td>Happy</td>\n",
       "      <td>0.367060</td>\n",
       "      <td>0.351637</td>\n",
       "    </tr>\n",
       "    <tr>\n",
       "      <th>3542</th>\n",
       "      <td>884</td>\n",
       "      <td>Happy</td>\n",
       "      <td>0.399157</td>\n",
       "      <td>0.299369</td>\n",
       "    </tr>\n",
       "    <tr>\n",
       "      <th>3543</th>\n",
       "      <td>885</td>\n",
       "      <td>Happy</td>\n",
       "      <td>0.368304</td>\n",
       "      <td>0.242884</td>\n",
       "    </tr>\n",
       "  </tbody>\n",
       "</table>\n",
       "<p>886 rows × 4 columns</p>\n",
       "</div>"
      ],
      "text/plain": [
       "      Frame feeling  probability  moving_avg\n",
       "2658      0   Happy     0.955532    0.505082\n",
       "2659      1   Happy     0.935133    0.593292\n",
       "2660      2   Happy     0.923429    0.665813\n",
       "2661      3   Happy     0.822713    0.738803\n",
       "2662      4   Happy     0.938086    0.825939\n",
       "...     ...     ...          ...         ...\n",
       "3539    881   Happy     0.507732    0.446257\n",
       "3540    882   Happy     0.367060    0.402680\n",
       "3541    883   Happy     0.367060    0.351637\n",
       "3542    884   Happy     0.399157    0.299369\n",
       "3543    885   Happy     0.368304    0.242884\n",
       "\n",
       "[886 rows x 4 columns]"
      ]
     },
     "execution_count": 90,
     "metadata": {},
     "output_type": "execute_result"
    }
   ],
   "source": [
    "max_prob_rows = df_plotting.groupby('Frame')['probability'].idxmax().reset_index()\n",
    "max_prob_df = df.loc[max_prob_rows['probability']]\n",
    "feeling_counts = max_prob_df.groupby('feeling')['Frame'].nunique()\n",
    "max_prob_df\n"
   ]
  },
  {
   "cell_type": "code",
   "execution_count": null,
   "metadata": {},
   "outputs": [
    {
     "ename": "NameError",
     "evalue": "name 'max_prob_df' is not defined",
     "output_type": "error",
     "traceback": [
      "\u001b[0;31m---------------------------------------------------------------------------\u001b[0m",
      "\u001b[0;31mNameError\u001b[0m                                 Traceback (most recent call last)",
      "Cell \u001b[0;32mIn[49], line 1\u001b[0m\n\u001b[0;32m----> 1\u001b[0m sns\u001b[39m.\u001b[39mbarplot(data \u001b[39m=\u001b[39m max_prob_df, x \u001b[39m=\u001b[39m \u001b[39m'\u001b[39m\u001b[39mFrame\u001b[39m\u001b[39m'\u001b[39m, y\u001b[39m=\u001b[39m\u001b[39m'\u001b[39m\u001b[39mprobability\u001b[39m\u001b[39m'\u001b[39m, hue\u001b[39m=\u001b[39m\u001b[39m'\u001b[39m\u001b[39memotion\u001b[39m\u001b[39m'\u001b[39m)\n",
      "\u001b[0;31mNameError\u001b[0m: name 'max_prob_df' is not defined"
     ]
    }
   ],
   "source": [
    "sns.barplot(data = max_prob_df, x = 'Frame', y='probability', hue='feeling')"
   ]
  },
  {
   "cell_type": "code",
   "execution_count": null,
   "metadata": {},
   "outputs": [
    {
     "data": {
      "text/plain": [
       "\"\\n# sort dataframe by probability within each frame\\nsorted_df = df.sort_values(['frame', 'probability'], ascending=[True, False])\\n\\n# get the top three probabilities for each frame\\ntop_three_probs = sorted_df.groupby('frame').head(3)\\n\\n# group by feeling and count unique frames\\nfeeling_counts = top_three_probs.groupby('feeling')['frame'].nunique()\\n\\n# print top three probabilities for each frame\\nprint(top_three_probs)\\n\""
      ]
     },
     "execution_count": 145,
     "metadata": {},
     "output_type": "execute_result"
    }
   ],
   "source": [
    "'''\n",
    "# sort dataframe by probability within each frame\n",
    "sorted_df = df.sort_values(['frame', 'probability'], ascending=[True, False])\n",
    "\n",
    "# get the top three probabilities for each frame\n",
    "top_three_probs = sorted_df.groupby('frame').head(3)\n",
    "\n",
    "# group by feeling and count unique frames\n",
    "feeling_counts = top_three_probs.groupby('feeling')['frame'].nunique()\n",
    "\n",
    "# print top three probabilities for each frame\n",
    "print(top_three_probs)\n",
    "'''"
   ]
  },
  {
   "cell_type": "code",
   "execution_count": null,
   "metadata": {},
   "outputs": [
    {
     "data": {
      "application/vnd.plotly.v1+json": {
       "config": {
        "plotlyServerURL": "https://plot.ly"
       },
       "data": [
        {
         "fillpattern": {
          "shape": ""
         },
         "hovertemplate": "Feeling=Fear<br>Frame=%{x}<br>Probability=%{y}<extra></extra>",
         "legendgroup": "Fear",
         "line": {
          "color": "#636EFA"
         },
         "marker": {
          "symbol": "circle"
         },
         "mode": "lines",
         "name": "Fear",
         "orientation": "v",
         "showlegend": true,
         "stackgroup": "1",
         "type": "scatter",
         "x": [
          0,
          1,
          2,
          3,
          4,
          5,
          6,
          7,
          8,
          9,
          10,
          11,
          12,
          13,
          14,
          15,
          16,
          17,
          18,
          19,
          20,
          21,
          22,
          23,
          24,
          25,
          26,
          27,
          28,
          29,
          30,
          31,
          32,
          33,
          34,
          35,
          36,
          37,
          38,
          39,
          40,
          41,
          42,
          43,
          44,
          45,
          46,
          47,
          48,
          49,
          50,
          51,
          52,
          53,
          54,
          55,
          56,
          57,
          58,
          59,
          62,
          63,
          65,
          66,
          67,
          68,
          69,
          70,
          71,
          72,
          73,
          74,
          75,
          76,
          77,
          96,
          97,
          98,
          99,
          100,
          101,
          102,
          103,
          104,
          105,
          106,
          107,
          108,
          109,
          110,
          111,
          112,
          115,
          116,
          117,
          118,
          146,
          176,
          194,
          195,
          196,
          197,
          198,
          199,
          200,
          201,
          202,
          203,
          204,
          205,
          207,
          209,
          212,
          213,
          231,
          232,
          233,
          234,
          235,
          236,
          237,
          239,
          240,
          242,
          244,
          259,
          293,
          307,
          321,
          322,
          324,
          325,
          326,
          327,
          328,
          329,
          330,
          331,
          332,
          333,
          334,
          335,
          336,
          345,
          346,
          347,
          348,
          352,
          358,
          367,
          368,
          369,
          373,
          374,
          375,
          376,
          377,
          378,
          379,
          380,
          381,
          382,
          383,
          384,
          385,
          386,
          387,
          388,
          389,
          390,
          391,
          392,
          393,
          394,
          395,
          396,
          397,
          398,
          399,
          401,
          402,
          403,
          404,
          405,
          406,
          407,
          408,
          409,
          410,
          411,
          412,
          413,
          414,
          415,
          417,
          418,
          419,
          420,
          421,
          422,
          423,
          424,
          425,
          426,
          427,
          428,
          429,
          430,
          431,
          432,
          433,
          434,
          436,
          448,
          449,
          450,
          451,
          452,
          453,
          454,
          455,
          456,
          459,
          460,
          461,
          462,
          463,
          464,
          465,
          466,
          467,
          469,
          470,
          471,
          472,
          473,
          474,
          475,
          476,
          477,
          478,
          479,
          480,
          497,
          498,
          499,
          500,
          501,
          502,
          503,
          504,
          505,
          506,
          507,
          524,
          525,
          531,
          532,
          533,
          534,
          535,
          536,
          537,
          538,
          539,
          540,
          541,
          542,
          543,
          554,
          567,
          568,
          569,
          570,
          571,
          572,
          573,
          574,
          575,
          576,
          577,
          578,
          579,
          580,
          581,
          582,
          583,
          584,
          585,
          586,
          587,
          588,
          589,
          590,
          591,
          592,
          593,
          594,
          595,
          596,
          597,
          598,
          599,
          600,
          601,
          602,
          603,
          604,
          605,
          614,
          615,
          616,
          617,
          618,
          619,
          620,
          621,
          622,
          623,
          624,
          625,
          626,
          627,
          628,
          629,
          630,
          632,
          648,
          650,
          651,
          653,
          654,
          655,
          656,
          657,
          658,
          659,
          660,
          661,
          662,
          664,
          665,
          666,
          667,
          668,
          669,
          670,
          671,
          672,
          673,
          674,
          675,
          676,
          677,
          678,
          679,
          680,
          681,
          682,
          683,
          684,
          685,
          686,
          687,
          688,
          689,
          690,
          691,
          692,
          693,
          694,
          695,
          696,
          697,
          698,
          699,
          700,
          701,
          702,
          703,
          704,
          705,
          706,
          707,
          708,
          709,
          710,
          711,
          712,
          713,
          715,
          716,
          717,
          718,
          719,
          720,
          721,
          722,
          723,
          724,
          725,
          731,
          738,
          739,
          740,
          741,
          742,
          743,
          745,
          746,
          747,
          748,
          749,
          750,
          751,
          752,
          753,
          754,
          755,
          756,
          757,
          758,
          759,
          760,
          761,
          762,
          763,
          764,
          765,
          766,
          767,
          768,
          769,
          770,
          771,
          772,
          773,
          774,
          775,
          776,
          777,
          778,
          779,
          780,
          781,
          782,
          783,
          784,
          785,
          786,
          787,
          788,
          789,
          790,
          791,
          792,
          793,
          794,
          797,
          800,
          801,
          803,
          805,
          806,
          807,
          808,
          809,
          810,
          811,
          812,
          813,
          814,
          815,
          816,
          817,
          818,
          819,
          820,
          821,
          822,
          823,
          824,
          825,
          826,
          827,
          828,
          829,
          830,
          831,
          832,
          833,
          835,
          837,
          838,
          839,
          840,
          841,
          842,
          843,
          844,
          845,
          846,
          847,
          848,
          849,
          850,
          851,
          852,
          853,
          854,
          855,
          856,
          857,
          858,
          859,
          860,
          861,
          862,
          863,
          864,
          865,
          866,
          867,
          868,
          869,
          870,
          871,
          872,
          873,
          874,
          875,
          876,
          877,
          878,
          879,
          880,
          881,
          882,
          883,
          884,
          885,
          886,
          887,
          888,
          889,
          890,
          891,
          892,
          893,
          894,
          895,
          896,
          897,
          898,
          899,
          900,
          901,
          902,
          903,
          904,
          905,
          906,
          907,
          908,
          909,
          910,
          911,
          912,
          913,
          914,
          915,
          916,
          917,
          918,
          919,
          920,
          921,
          922,
          923,
          924,
          925,
          926,
          927,
          928,
          929,
          930,
          931,
          932,
          933,
          934,
          935,
          936,
          937,
          938,
          939,
          940,
          941,
          942,
          943,
          944,
          945,
          946,
          947,
          948,
          949,
          950,
          951,
          952,
          953,
          954,
          955,
          956,
          957,
          958,
          959,
          960,
          961,
          962,
          963,
          964,
          965,
          966,
          967,
          968,
          969,
          970,
          971,
          972,
          973,
          974,
          975,
          976,
          977,
          978,
          979,
          980,
          981,
          982,
          983,
          984,
          985,
          986,
          987,
          988,
          989,
          990,
          991,
          992,
          993,
          994,
          995,
          996,
          997,
          998,
          999,
          1000,
          1001,
          1002,
          1003,
          1004,
          1005,
          1006,
          1007,
          1008,
          1009,
          1010,
          1011,
          1012,
          1013,
          1014,
          1015,
          1016,
          1017,
          1018,
          1019,
          1020,
          1021,
          1022,
          1023,
          1024,
          1025,
          1026,
          1027,
          1028,
          1029,
          1030,
          1031,
          1032,
          1033,
          1034,
          1035,
          1036,
          1037,
          1038,
          1039,
          1040,
          1041,
          1042,
          1043,
          1044,
          1045,
          1046,
          1047,
          1048,
          1049,
          1050,
          1051,
          1052,
          1053,
          1054,
          1055,
          1056,
          1057,
          1058,
          1059,
          1060,
          1061,
          1062,
          1063,
          1064,
          1065,
          1066,
          1067,
          1068,
          1069,
          1070,
          1071,
          1072,
          1073,
          1074,
          1075,
          1076,
          1077,
          1078,
          1079,
          1080,
          1081,
          1082,
          1083,
          1084,
          1085,
          1086,
          1087,
          1088,
          1089,
          1090,
          1091,
          1092,
          1093,
          1094,
          1095,
          1096,
          1097,
          1098,
          1099,
          1100,
          1101,
          1102,
          1103,
          1104,
          1105,
          1106,
          1107,
          1108,
          1109,
          1110,
          1111,
          1112,
          1113,
          1114,
          1115,
          1116,
          1117,
          1118,
          1119,
          1120,
          1121,
          1122,
          1123,
          1124,
          1125,
          1126,
          1127,
          1128,
          1129,
          1130,
          1131,
          1132,
          1133,
          1134,
          1135,
          1136,
          1137,
          1138,
          1139,
          1140
         ],
         "xaxis": "x",
         "y": [
          0.3333333333333333,
          0.3333333333333333,
          0.3333333333333333,
          0.3333333333333333,
          0.3333333333333333,
          0.3333333333333333,
          0.3333333333333333,
          0.3333333333333333,
          0.3333333333333333,
          0.3333333333333333,
          0.3333333333333333,
          0.3333333333333333,
          0.3333333333333333,
          0.3333333333333333,
          0.3333333333333333,
          0.3333333333333333,
          0.3333333333333333,
          0.3333333333333333,
          0.3333333333333333,
          0.3333333333333333,
          0.3333333333333333,
          0.3333333333333333,
          0.3333333333333333,
          0.3333333333333333,
          0.3333333333333333,
          0.3333333333333333,
          0.3333333333333333,
          0.3333333333333333,
          0.3333333333333333,
          0.3333333333333333,
          0.3333333333333333,
          0.3333333333333333,
          0.3333333333333333,
          0.3333333333333333,
          0.3333333333333333,
          0.3333333333333333,
          0.3333333333333333,
          0.3333333333333333,
          0.3333333333333333,
          0.3333333333333333,
          0.3333333333333333,
          0.3333333333333333,
          0.3333333333333333,
          0.3333333333333333,
          0.3333333333333333,
          0.3333333333333333,
          0.3333333333333333,
          0.3333333333333333,
          0.3333333333333333,
          0.3333333333333333,
          0.3333333333333333,
          0.3333333333333333,
          0.3333333333333333,
          0.3333333333333333,
          0.3333333333333333,
          0.3333333333333333,
          0.3333333333333333,
          0.3333333333333333,
          0.3333333333333333,
          0.3333333333333333,
          0.3333333333333333,
          0.3333333333333333,
          0.3333333333333333,
          0.3333333333333333,
          0.3333333333333333,
          0.3333333333333333,
          0.3333333333333333,
          0.3333333333333333,
          0.3333333333333333,
          0.3333333333333333,
          0.3333333333333333,
          0.3333333333333333,
          0.3333333333333333,
          0.3333333333333333,
          0.3333333333333333,
          0.3333333333333333,
          0.3333333333333333,
          0.3333333333333333,
          0.3333333333333333,
          0.3333333333333333,
          0.3333333333333333,
          0.3333333333333333,
          0.3333333333333333,
          0.3333333333333333,
          0.3333333333333333,
          0.3333333333333333,
          0.3333333333333333,
          0.3333333333333333,
          0.3333333333333333,
          0.3333333333333333,
          0.3333333333333333,
          0.3333333333333333,
          0.3333333333333333,
          0.3333333333333333,
          0.3333333333333333,
          0.3333333333333333,
          0.3333333333333333,
          0.3333333333333333,
          0.3333333333333333,
          0.3333333333333333,
          0.3333333333333333,
          0.3333333333333333,
          0.3333333333333333,
          0.3333333333333333,
          0.3333333333333333,
          0.3333333333333333,
          0.3333333333333333,
          0.3333333333333333,
          0.3333333333333333,
          0.3333333333333333,
          0.3333333333333333,
          0.3333333333333333,
          0.3333333333333333,
          0.3333333333333333,
          0.3333333333333333,
          0.3333333333333333,
          0.3333333333333333,
          0.3333333333333333,
          0.3333333333333333,
          0.3333333333333333,
          0.3333333333333333,
          0.3333333333333333,
          0.3333333333333333,
          0.3333333333333333,
          0.3333333333333333,
          0.3333333333333333,
          0.3333333333333333,
          0.3333333333333333,
          0.3333333333333333,
          0.3333333333333333,
          0.3333333333333333,
          0.3333333333333333,
          0.3333333333333333,
          0.3333333333333333,
          0.3333333333333333,
          0.3333333333333333,
          0.3333333333333333,
          0.3333333333333333,
          0.3333333333333333,
          0.3333333333333333,
          0.3333333333333333,
          0.3333333333333333,
          0.3333333333333333,
          0.3333333333333333,
          0.3333333333333333,
          0.3333333333333333,
          0.3333333333333333,
          0.3333333333333333,
          0.3333333333333333,
          0.3333333333333333,
          0.3333333333333333,
          0.3333333333333333,
          0.3333333333333333,
          0.3333333333333333,
          0.3333333333333333,
          0.3333333333333333,
          0.3333333333333333,
          0.3333333333333333,
          0.3333333333333333,
          0.3333333333333333,
          0.3333333333333333,
          0.3333333333333333,
          0.3333333333333333,
          0.3333333333333333,
          0.3333333333333333,
          0.3333333333333333,
          0.3333333333333333,
          0.3333333333333333,
          0.3333333333333333,
          0.3333333333333333,
          0.3333333333333333,
          0.3333333333333333,
          0.3333333333333333,
          0.3333333333333333,
          0.3333333333333333,
          0.3333333333333333,
          0.3333333333333333,
          0.3333333333333333,
          0.3333333333333333,
          0.3333333333333333,
          0.3333333333333333,
          0.3333333333333333,
          0.3333333333333333,
          0.3333333333333333,
          0.3333333333333333,
          0.3333333333333333,
          0.3333333333333333,
          0.3333333333333333,
          0.3333333333333333,
          0.3333333333333333,
          0.3333333333333333,
          0.3333333333333333,
          0.3333333333333333,
          0.3333333333333333,
          0.3333333333333333,
          0.3333333333333333,
          0.3333333333333333,
          0.3333333333333333,
          0.3333333333333333,
          0.3333333333333333,
          0.3333333333333333,
          0.3333333333333333,
          0.3333333333333333,
          0.3333333333333333,
          0.3333333333333333,
          0.3333333333333333,
          0.3333333333333333,
          0.3333333333333333,
          0.3333333333333333,
          0.3333333333333333,
          0.3333333333333333,
          0.3333333333333333,
          0.3333333333333333,
          0.3333333333333333,
          0.3333333333333333,
          0.3333333333333333,
          0.3333333333333333,
          0.3333333333333333,
          0.3333333333333333,
          0.3333333333333333,
          0.3333333333333333,
          0.3333333333333333,
          0.3333333333333333,
          0.3333333333333333,
          0.3333333333333333,
          0.3333333333333333,
          0.3333333333333333,
          0.3333333333333333,
          0.3333333333333333,
          0.3333333333333333,
          0.3333333333333333,
          0.3333333333333333,
          0.3333333333333333,
          0.3333333333333333,
          0.3333333333333333,
          0.3333333333333333,
          0.3333333333333333,
          0.3333333333333333,
          0.3333333333333333,
          0.3333333333333333,
          0.3333333333333333,
          0.3333333333333333,
          0.3333333333333333,
          0.3333333333333333,
          0.3333333333333333,
          0.3333333333333333,
          0.3333333333333333,
          0.3333333333333333,
          0.3333333333333333,
          0.3333333333333333,
          0.3333333333333333,
          0.3333333333333333,
          0.3333333333333333,
          0.3333333333333333,
          0.3333333333333333,
          0.3333333333333333,
          0.3333333333333333,
          0.3333333333333333,
          0.3333333333333333,
          0.3333333333333333,
          0.3333333333333333,
          0.3333333333333333,
          0.3333333333333333,
          0.3333333333333333,
          0.3333333333333333,
          0.3333333333333333,
          0.3333333333333333,
          0.3333333333333333,
          0.3333333333333333,
          0.3333333333333333,
          0.3333333333333333,
          0.3333333333333333,
          0.3333333333333333,
          0.3333333333333333,
          0.3333333333333333,
          0.3333333333333333,
          0.3333333333333333,
          0.3333333333333333,
          0.3333333333333333,
          0.3333333333333333,
          0.3333333333333333,
          0.3333333333333333,
          0.3333333333333333,
          0.3333333333333333,
          0.3333333333333333,
          0.3333333333333333,
          0.3333333333333333,
          0.3333333333333333,
          0.3333333333333333,
          0.3333333333333333,
          0.3333333333333333,
          0.3333333333333333,
          0.3333333333333333,
          0.3333333333333333,
          0.3333333333333333,
          0.3333333333333333,
          0.3333333333333333,
          0.3333333333333333,
          0.3333333333333333,
          0.3333333333333333,
          0.3333333333333333,
          0.3333333333333333,
          0.3333333333333333,
          0.3333333333333333,
          0.3333333333333333,
          0.3333333333333333,
          0.3333333333333333,
          0.3333333333333333,
          0.3333333333333333,
          0.3333333333333333,
          0.3333333333333333,
          0.3333333333333333,
          0.3333333333333333,
          0.3333333333333333,
          0.3333333333333333,
          0.3333333333333333,
          0.3333333333333333,
          0.3333333333333333,
          0.3333333333333333,
          0.3333333333333333,
          0.3333333333333333,
          0.3333333333333333,
          0.3333333333333333,
          0.3333333333333333,
          0.3333333333333333,
          0.3333333333333333,
          0.3333333333333333,
          0.3333333333333333,
          0.3333333333333333,
          0.3333333333333333,
          0.3333333333333333,
          0.3333333333333333,
          0.3333333333333333,
          0.3333333333333333,
          0.3333333333333333,
          0.3333333333333333,
          0.3333333333333333,
          0.3333333333333333,
          0.3333333333333333,
          0.3333333333333333,
          0.3333333333333333,
          0.3333333333333333,
          0.3333333333333333,
          0.3333333333333333,
          0.3333333333333333,
          0.3333333333333333,
          0.3333333333333333,
          0.3333333333333333,
          0.3333333333333333,
          0.3333333333333333,
          0.3333333333333333,
          0.3333333333333333,
          0.3333333333333333,
          0.3333333333333333,
          0.3333333333333333,
          0.3333333333333333,
          0.3333333333333333,
          0.3333333333333333,
          0.3333333333333333,
          0.3333333333333333,
          0.3333333333333333,
          0.3333333333333333,
          0.3333333333333333,
          0.3333333333333333,
          0.3333333333333333,
          0.3333333333333333,
          0.3333333333333333,
          0.3333333333333333,
          0.3333333333333333,
          0.3333333333333333,
          0.3333333333333333,
          0.3333333333333333,
          0.3333333333333333,
          0.3333333333333333,
          0.3333333333333333,
          0.3333333333333333,
          0.3333333333333333,
          0.3333333333333333,
          0.3333333333333333,
          0.3333333333333333,
          0.3333333333333333,
          0.3333333333333333,
          0.3333333333333333,
          0.3333333333333333,
          0.3333333333333333,
          0.3333333333333333,
          0.3333333333333333,
          0.3333333333333333,
          0.3333333333333333,
          0.3333333333333333,
          0.3333333333333333,
          0.3333333333333333,
          0.3333333333333333,
          0.3333333333333333,
          0.3333333333333333,
          0.3333333333333333,
          0.3333333333333333,
          0.3333333333333333,
          0.3333333333333333,
          0.3333333333333333,
          0.3333333333333333,
          0.3333333333333333,
          0.3333333333333333,
          0.3333333333333333,
          0.3333333333333333,
          0.3333333333333333,
          0.3333333333333333,
          0.3333333333333333,
          0.3333333333333333,
          0.3333333333333333,
          0.3333333333333333,
          0.3333333333333333,
          0.3333333333333333,
          0.3333333333333333,
          0.3333333333333333,
          0.3333333333333333,
          0.3333333333333333,
          0.3333333333333333,
          0.3333333333333333,
          0.3333333333333333,
          0.3333333333333333,
          0.3333333333333333,
          0.3333333333333333,
          0.3333333333333333,
          0.3333333333333333,
          0.3333333333333333,
          0.3333333333333333,
          0.3333333333333333,
          0.3333333333333333,
          0.3333333333333333,
          0.3333333333333333,
          0.3333333333333333,
          0.3333333333333333,
          0.3333333333333333,
          0.3333333333333333,
          0.3333333333333333,
          0.3333333333333333,
          0.3333333333333333,
          0.3333333333333333,
          0.3333333333333333,
          0.3333333333333333,
          0.3333333333333333,
          0.3333333333333333,
          0.3333333333333333,
          0.3333333333333333,
          0.3333333333333333,
          0.3333333333333333,
          0.3333333333333333,
          0.3333333333333333,
          0.3333333333333333,
          0.3333333333333333,
          0.3333333333333333,
          0.3333333333333333,
          0.3333333333333333,
          0.3333333333333333,
          0.3333333333333333,
          0.3333333333333333,
          0.3333333333333333,
          0.3333333333333333,
          0.3333333333333333,
          0.3333333333333333,
          0.3333333333333333,
          0.3333333333333333,
          0.3333333333333333,
          0.3333333333333333,
          0.3333333333333333,
          0.3333333333333333,
          0.3333333333333333,
          0.3333333333333333,
          0.3333333333333333,
          0.3333333333333333,
          0.3333333333333333,
          0.3333333333333333,
          0.3333333333333333,
          0.3333333333333333,
          0.3333333333333333,
          0.3333333333333333,
          0.3333333333333333,
          0.3333333333333333,
          0.3333333333333333,
          0.3333333333333333,
          0.3333333333333333,
          0.3333333333333333,
          0.3333333333333333,
          0.3333333333333333,
          0.3333333333333333,
          0.3333333333333333,
          0.3333333333333333,
          0.3333333333333333,
          0.3333333333333333,
          0.3333333333333333,
          0.3333333333333333,
          0.3333333333333333,
          0.3333333333333333,
          0.3333333333333333,
          0.3333333333333333,
          0.3333333333333333,
          0.3333333333333333,
          0.3333333333333333,
          0.3333333333333333,
          0.3333333333333333,
          0.3333333333333333,
          0.3333333333333333,
          0.3333333333333333,
          0.3333333333333333,
          0.3333333333333333,
          0.3333333333333333,
          0.3333333333333333,
          0.3333333333333333,
          0.3333333333333333,
          0.3333333333333333,
          0.3333333333333333,
          0.3333333333333333,
          0.3333333333333333,
          0.3333333333333333,
          0.3333333333333333,
          0.3333333333333333,
          0.3333333333333333,
          0.3333333333333333,
          0.3333333333333333,
          0.3333333333333333,
          0.3333333333333333,
          0.3333333333333333,
          0.3333333333333333,
          0.3333333333333333,
          0.3333333333333333,
          0.3333333333333333,
          0.3333333333333333,
          0.3333333333333333,
          0.3333333333333333,
          0.3333333333333333,
          0.3333333333333333,
          0.3333333333333333,
          0.3333333333333333,
          0.3333333333333333,
          0.3333333333333333,
          0.3333333333333333,
          0.3333333333333333,
          0.3333333333333333,
          0.3333333333333333,
          0.3333333333333333,
          0.3333333333333333,
          0.3333333333333333,
          0.3333333333333333,
          0.3333333333333333,
          0.3333333333333333,
          0.3333333333333333,
          0.3333333333333333,
          0.3333333333333333,
          0.3333333333333333,
          0.3333333333333333,
          0.3333333333333333,
          0.3333333333333333,
          0.3333333333333333,
          0.3333333333333333,
          0.3333333333333333,
          0.3333333333333333,
          0.3333333333333333,
          0.3333333333333333,
          0.3333333333333333,
          0.3333333333333333,
          0.3333333333333333,
          0.3333333333333333,
          0.3333333333333333,
          0.3333333333333333,
          0.3333333333333333,
          0.3333333333333333,
          0.3333333333333333,
          0.3333333333333333,
          0.3333333333333333,
          0.3333333333333333,
          0.3333333333333333,
          0.3333333333333333,
          0.3333333333333333,
          0.3333333333333333,
          0.3333333333333333,
          0.3333333333333333,
          0.3333333333333333,
          0.3333333333333333,
          0.3333333333333333,
          0.3333333333333333,
          0.3333333333333333,
          0.3333333333333333,
          0.3333333333333333,
          0.3333333333333333,
          0.3333333333333333,
          0.3333333333333333,
          0.3333333333333333,
          0.3333333333333333,
          0.3333333333333333,
          0.3333333333333333,
          0.3333333333333333,
          0.3333333333333333,
          0.3333333333333333,
          0.3333333333333333,
          0.3333333333333333,
          0.3333333333333333,
          0.3333333333333333,
          0.3333333333333333,
          0.3333333333333333,
          0.3333333333333333,
          0.3333333333333333,
          0.3333333333333333,
          0.3333333333333333,
          0.3333333333333333,
          0.3333333333333333,
          0.3333333333333333,
          0.3333333333333333,
          0.3333333333333333,
          0.3333333333333333,
          0.3333333333333333,
          0.3333333333333333,
          0.3333333333333333,
          0.3333333333333333,
          0.3333333333333333,
          0.3333333333333333,
          0.3333333333333333,
          0.3333333333333333,
          0.3333333333333333,
          0.3333333333333333,
          0.3333333333333333,
          0.3333333333333333,
          0.3333333333333333,
          0.3333333333333333,
          0.3333333333333333,
          0.3333333333333333,
          0.3333333333333333,
          0.3333333333333333,
          0.3333333333333333,
          0.3333333333333333,
          0.3333333333333333,
          0.3333333333333333,
          0.3333333333333333,
          0.3333333333333333,
          0.3333333333333333,
          0.3333333333333333,
          0.3333333333333333,
          0.3333333333333333,
          0.3333333333333333,
          0.3333333333333333,
          0.3333333333333333,
          0.3333333333333333,
          0.3333333333333333,
          0.3333333333333333,
          0.3333333333333333,
          0.3333333333333333,
          0.3333333333333333,
          0.3333333333333333,
          0.3333333333333333,
          0.3333333333333333,
          0.3333333333333333,
          0.3333333333333333,
          0.3333333333333333,
          0.3333333333333333,
          0.3333333333333333,
          0.3333333333333333,
          0.3333333333333333,
          0.3333333333333333,
          0.3333333333333333,
          0.3333333333333333,
          0.3333333333333333,
          0.3333333333333333,
          0.3333333333333333,
          0.3333333333333333,
          0.3333333333333333,
          0.3333333333333333,
          0.3333333333333333,
          0.3333333333333333,
          0.3333333333333333,
          0.3333333333333333,
          0.3333333333333333,
          0.3333333333333333,
          0.3333333333333333,
          0.3333333333333333,
          0.3333333333333333,
          0.3333333333333333,
          0.3333333333333333,
          0.3333333333333333,
          0.3333333333333333,
          0.3333333333333333,
          0.3333333333333333,
          0.3333333333333333,
          0.3333333333333333,
          0.3333333333333333,
          0.3333333333333333,
          0.3333333333333333,
          0.3333333333333333,
          0.3333333333333333,
          0.3333333333333333,
          0.3333333333333333,
          0.3333333333333333,
          0.3333333333333333,
          0.3333333333333333,
          0.3333333333333333,
          0.3333333333333333,
          0.3333333333333333,
          0.3333333333333333,
          0.3333333333333333,
          0.3333333333333333,
          0.3333333333333333,
          0.3333333333333333,
          0.3333333333333333,
          0.3333333333333333,
          0.3333333333333333,
          0.3333333333333333,
          0.3333333333333333,
          0.3333333333333333,
          0.3333333333333333,
          0.3333333333333333,
          0.3333333333333333,
          0.3333333333333333,
          0.3333333333333333,
          0.3333333333333333,
          0.3333333333333333,
          0.3333333333333333,
          0.3333333333333333,
          0.3333333333333333,
          0.3333333333333333,
          0.3333333333333333,
          0.3333333333333333,
          0.3333333333333333,
          0.3333333333333333,
          0.3333333333333333,
          0.3333333333333333,
          0.3333333333333333,
          0.3333333333333333,
          0.3333333333333333,
          0.3333333333333333,
          0.3333333333333333,
          0.3333333333333333,
          0.3333333333333333,
          0.3333333333333333,
          0.3333333333333333,
          0.3333333333333333,
          0.3333333333333333,
          0.3333333333333333,
          0.3333333333333333,
          0.3333333333333333,
          0.3333333333333333,
          0.3333333333333333,
          0.3333333333333333,
          0.3333333333333333,
          0.3333333333333333,
          0.3333333333333333,
          0.3333333333333333,
          0.3333333333333333,
          0.3333333333333333,
          0.3333333333333333,
          0.3333333333333333,
          0.3333333333333333,
          0.3333333333333333,
          0.3333333333333333,
          0.3333333333333333,
          0.3333333333333333,
          0.3333333333333333,
          0.3333333333333333,
          0.3333333333333333,
          0.3333333333333333,
          0.3333333333333333,
          0.3333333333333333,
          0.3333333333333333,
          0.3333333333333333,
          0.3333333333333333,
          0.3333333333333333,
          0.3333333333333333,
          0.3333333333333333,
          0.3333333333333333,
          0.3333333333333333,
          0.3333333333333333,
          0.3333333333333333,
          0.3333333333333333,
          0.3333333333333333,
          0.3333333333333333,
          0.3333333333333333,
          0.3333333333333333,
          0.3333333333333333,
          0.3333333333333333,
          0.3333333333333333,
          0.3333333333333333,
          0.3333333333333333,
          0.3333333333333333,
          0.3333333333333333,
          0.3333333333333333,
          0.3333333333333333,
          0.3333333333333333,
          0.3333333333333333,
          0.3333333333333333,
          0.3333333333333333,
          0.3333333333333333,
          0.3333333333333333,
          0.3333333333333333,
          0.3333333333333333,
          0.3333333333333333,
          0.3333333333333333,
          0.3333333333333333,
          0.3333333333333333
         ],
         "yaxis": "y"
        },
        {
         "fillpattern": {
          "shape": ""
         },
         "hovertemplate": "Feeling=Happy<br>Frame=%{x}<br>Probability=%{y}<extra></extra>",
         "legendgroup": "Happy",
         "line": {
          "color": "#EF553B"
         },
         "marker": {
          "symbol": "circle"
         },
         "mode": "lines",
         "name": "Happy",
         "orientation": "v",
         "showlegend": true,
         "stackgroup": "1",
         "type": "scatter",
         "x": [
          0,
          1,
          41,
          42,
          43,
          44,
          45,
          46,
          47,
          48,
          49,
          50,
          51,
          52,
          53,
          54,
          55,
          56,
          57,
          58,
          59,
          60,
          61,
          62,
          63,
          64,
          65,
          66,
          67,
          68,
          69,
          70,
          71,
          72,
          73,
          74,
          75,
          76,
          77,
          78,
          79,
          80,
          81,
          82,
          83,
          84,
          85,
          86,
          87,
          88,
          89,
          90,
          91,
          92,
          93,
          94,
          95,
          99,
          100,
          101,
          102,
          103,
          104,
          105,
          106,
          107,
          108,
          109,
          119,
          120,
          121,
          122,
          123,
          124,
          125,
          126,
          127,
          128,
          129,
          130,
          131,
          132,
          133,
          134,
          135,
          136,
          137,
          138,
          139,
          140,
          141,
          142,
          143,
          144,
          145,
          146,
          147,
          148,
          150,
          151,
          152,
          153,
          154,
          155,
          156,
          157,
          158,
          159,
          160,
          161,
          162,
          163,
          164,
          165,
          166,
          167,
          168,
          169,
          170,
          171,
          172,
          173,
          174,
          175,
          176,
          177,
          178,
          179,
          180,
          181,
          182,
          183,
          184,
          185,
          186,
          187,
          188,
          189,
          190,
          191,
          192,
          193,
          194,
          195,
          196,
          197,
          198,
          199,
          200,
          201,
          202,
          203,
          204,
          205,
          206,
          207,
          208,
          209,
          210,
          211,
          212,
          213,
          214,
          215,
          216,
          217,
          218,
          219,
          220,
          221,
          222,
          223,
          224,
          225,
          226,
          227,
          228,
          229,
          230,
          231,
          232,
          233,
          234,
          235,
          236,
          237,
          238,
          239,
          240,
          248,
          254,
          255,
          256,
          257,
          258,
          259,
          260,
          261,
          262,
          263,
          264,
          265,
          266,
          267,
          268,
          269,
          270,
          271,
          272,
          273,
          274,
          275,
          276,
          277,
          278,
          279,
          280,
          281,
          282,
          283,
          284,
          285,
          286,
          287,
          288,
          289,
          290,
          291,
          292,
          293,
          294,
          295,
          296,
          297,
          298,
          299,
          300,
          301,
          302,
          303,
          304,
          305,
          306,
          307,
          308,
          309,
          310,
          311,
          312,
          313,
          314,
          315,
          329,
          335,
          336,
          337,
          338,
          339,
          340,
          341,
          342,
          343,
          344,
          345,
          390,
          391,
          393,
          394,
          400,
          431,
          432,
          433,
          434,
          457,
          458,
          519,
          520,
          521,
          522,
          526,
          527,
          836,
          1122,
          1124,
          1140
         ],
         "xaxis": "x",
         "y": [
          0.3333333333333333,
          0.3333333333333333,
          0.3333333333333333,
          0.3333333333333333,
          0.3333333333333333,
          0.3333333333333333,
          0.3333333333333333,
          0.3333333333333333,
          0.3333333333333333,
          0.3333333333333333,
          0.3333333333333333,
          0.3333333333333333,
          0.3333333333333333,
          0.3333333333333333,
          0.3333333333333333,
          0.3333333333333333,
          0.3333333333333333,
          0.3333333333333333,
          0.3333333333333333,
          0.3333333333333333,
          0.3333333333333333,
          0.3333333333333333,
          0.3333333333333333,
          0.3333333333333333,
          0.3333333333333333,
          0.3333333333333333,
          0.3333333333333333,
          0.3333333333333333,
          0.3333333333333333,
          0.3333333333333333,
          0.3333333333333333,
          0.3333333333333333,
          0.3333333333333333,
          0.3333333333333333,
          0.3333333333333333,
          0.3333333333333333,
          0.3333333333333333,
          0.3333333333333333,
          0.3333333333333333,
          0.3333333333333333,
          0.3333333333333333,
          0.3333333333333333,
          0.3333333333333333,
          0.3333333333333333,
          0.3333333333333333,
          0.3333333333333333,
          0.3333333333333333,
          0.3333333333333333,
          0.3333333333333333,
          0.3333333333333333,
          0.3333333333333333,
          0.3333333333333333,
          0.3333333333333333,
          0.3333333333333333,
          0.3333333333333333,
          0.3333333333333333,
          0.3333333333333333,
          0.3333333333333333,
          0.3333333333333333,
          0.3333333333333333,
          0.3333333333333333,
          0.3333333333333333,
          0.3333333333333333,
          0.3333333333333333,
          0.3333333333333333,
          0.3333333333333333,
          0.3333333333333333,
          0.3333333333333333,
          0.3333333333333333,
          0.3333333333333333,
          0.3333333333333333,
          0.3333333333333333,
          0.3333333333333333,
          0.3333333333333333,
          0.3333333333333333,
          0.3333333333333333,
          0.3333333333333333,
          0.3333333333333333,
          0.3333333333333333,
          0.3333333333333333,
          0.3333333333333333,
          0.3333333333333333,
          0.3333333333333333,
          0.3333333333333333,
          0.3333333333333333,
          0.3333333333333333,
          0.3333333333333333,
          0.3333333333333333,
          0.3333333333333333,
          0.3333333333333333,
          0.3333333333333333,
          0.3333333333333333,
          0.3333333333333333,
          0.3333333333333333,
          0.3333333333333333,
          0.3333333333333333,
          0.3333333333333333,
          0.3333333333333333,
          0.3333333333333333,
          0.3333333333333333,
          0.3333333333333333,
          0.3333333333333333,
          0.3333333333333333,
          0.3333333333333333,
          0.3333333333333333,
          0.3333333333333333,
          0.3333333333333333,
          0.3333333333333333,
          0.3333333333333333,
          0.3333333333333333,
          0.3333333333333333,
          0.3333333333333333,
          0.3333333333333333,
          0.3333333333333333,
          0.3333333333333333,
          0.3333333333333333,
          0.3333333333333333,
          0.3333333333333333,
          0.3333333333333333,
          0.3333333333333333,
          0.3333333333333333,
          0.3333333333333333,
          0.3333333333333333,
          0.3333333333333333,
          0.3333333333333333,
          0.3333333333333333,
          0.3333333333333333,
          0.3333333333333333,
          0.3333333333333333,
          0.3333333333333333,
          0.3333333333333333,
          0.3333333333333333,
          0.3333333333333333,
          0.3333333333333333,
          0.3333333333333333,
          0.3333333333333333,
          0.3333333333333333,
          0.3333333333333333,
          0.3333333333333333,
          0.3333333333333333,
          0.3333333333333333,
          0.3333333333333333,
          0.3333333333333333,
          0.3333333333333333,
          0.3333333333333333,
          0.3333333333333333,
          0.3333333333333333,
          0.3333333333333333,
          0.3333333333333333,
          0.3333333333333333,
          0.3333333333333333,
          0.3333333333333333,
          0.3333333333333333,
          0.3333333333333333,
          0.3333333333333333,
          0.3333333333333333,
          0.3333333333333333,
          0.3333333333333333,
          0.3333333333333333,
          0.3333333333333333,
          0.3333333333333333,
          0.3333333333333333,
          0.3333333333333333,
          0.3333333333333333,
          0.3333333333333333,
          0.3333333333333333,
          0.3333333333333333,
          0.3333333333333333,
          0.3333333333333333,
          0.3333333333333333,
          0.3333333333333333,
          0.3333333333333333,
          0.3333333333333333,
          0.3333333333333333,
          0.3333333333333333,
          0.3333333333333333,
          0.3333333333333333,
          0.3333333333333333,
          0.3333333333333333,
          0.3333333333333333,
          0.3333333333333333,
          0.3333333333333333,
          0.3333333333333333,
          0.3333333333333333,
          0.3333333333333333,
          0.3333333333333333,
          0.3333333333333333,
          0.3333333333333333,
          0.3333333333333333,
          0.3333333333333333,
          0.3333333333333333,
          0.3333333333333333,
          0.3333333333333333,
          0.3333333333333333,
          0.3333333333333333,
          0.3333333333333333,
          0.3333333333333333,
          0.3333333333333333,
          0.3333333333333333,
          0.3333333333333333,
          0.3333333333333333,
          0.3333333333333333,
          0.3333333333333333,
          0.3333333333333333,
          0.3333333333333333,
          0.3333333333333333,
          0.3333333333333333,
          0.3333333333333333,
          0.3333333333333333,
          0.3333333333333333,
          0.3333333333333333,
          0.3333333333333333,
          0.3333333333333333,
          0.3333333333333333,
          0.3333333333333333,
          0.3333333333333333,
          0.3333333333333333,
          0.3333333333333333,
          0.3333333333333333,
          0.3333333333333333,
          0.3333333333333333,
          0.3333333333333333,
          0.3333333333333333,
          0.3333333333333333,
          0.3333333333333333,
          0.3333333333333333,
          0.3333333333333333,
          0.3333333333333333,
          0.3333333333333333,
          0.3333333333333333,
          0.3333333333333333,
          0.3333333333333333,
          0.3333333333333333,
          0.3333333333333333,
          0.3333333333333333,
          0.3333333333333333,
          0.3333333333333333,
          0.3333333333333333,
          0.3333333333333333,
          0.3333333333333333,
          0.3333333333333333,
          0.3333333333333333,
          0.3333333333333333,
          0.3333333333333333,
          0.3333333333333333,
          0.3333333333333333,
          0.3333333333333333,
          0.3333333333333333,
          0.3333333333333333,
          0.3333333333333333,
          0.3333333333333333,
          0.3333333333333333,
          0.3333333333333333,
          0.3333333333333333,
          0.3333333333333333,
          0.3333333333333333,
          0.3333333333333333,
          0.3333333333333333,
          0.3333333333333333,
          0.3333333333333333,
          0.3333333333333333,
          0.3333333333333333,
          0.3333333333333333,
          0.3333333333333333,
          0.3333333333333333,
          0.3333333333333333,
          0.3333333333333333,
          0.3333333333333333,
          0.3333333333333333,
          0.3333333333333333,
          0.3333333333333333,
          0.3333333333333333,
          0.3333333333333333,
          0.3333333333333333,
          0.3333333333333333,
          0.3333333333333333,
          0.3333333333333333,
          0.3333333333333333,
          0.3333333333333333,
          0.3333333333333333,
          0.3333333333333333,
          0.3333333333333333,
          0.3333333333333333,
          0.3333333333333333,
          0.3333333333333333
         ],
         "yaxis": "y"
        },
        {
         "fillpattern": {
          "shape": ""
         },
         "hovertemplate": "Feeling=Neutral<br>Frame=%{x}<br>Probability=%{y}<extra></extra>",
         "legendgroup": "Neutral",
         "line": {
          "color": "#00CC96"
         },
         "marker": {
          "symbol": "circle"
         },
         "mode": "lines",
         "name": "Neutral",
         "orientation": "v",
         "showlegend": true,
         "stackgroup": "1",
         "type": "scatter",
         "x": [
          0,
          1,
          2,
          3,
          4,
          5,
          6,
          7,
          13,
          14,
          15,
          16,
          18,
          20,
          21,
          22,
          23,
          24,
          25,
          26,
          27,
          28,
          29,
          30,
          31,
          32,
          33,
          34,
          35,
          36,
          37,
          38,
          39,
          40,
          41,
          42,
          43,
          44,
          45,
          46,
          47,
          48,
          49,
          50,
          51,
          52,
          53,
          54,
          55,
          56,
          57,
          58,
          59,
          60,
          61,
          62,
          63,
          64,
          65,
          66,
          67,
          68,
          69,
          70,
          71,
          72,
          73,
          74,
          75,
          76,
          77,
          78,
          79,
          80,
          81,
          82,
          83,
          84,
          85,
          86,
          87,
          88,
          89,
          90,
          91,
          92,
          93,
          94,
          95,
          96,
          97,
          98,
          99,
          100,
          101,
          102,
          103,
          104,
          105,
          106,
          107,
          108,
          109,
          110,
          111,
          112,
          113,
          114,
          115,
          116,
          117,
          118,
          119,
          120,
          121,
          122,
          123,
          124,
          125,
          126,
          127,
          128,
          129,
          130,
          131,
          132,
          133,
          134,
          135,
          136,
          137,
          138,
          139,
          140,
          141,
          142,
          143,
          144,
          145,
          146,
          147,
          148,
          149,
          150,
          151,
          152,
          153,
          154,
          155,
          156,
          157,
          158,
          159,
          160,
          161,
          162,
          163,
          164,
          165,
          166,
          167,
          168,
          169,
          170,
          171,
          172,
          173,
          174,
          175,
          176,
          177,
          178,
          179,
          180,
          181,
          182,
          183,
          184,
          185,
          186,
          187,
          188,
          189,
          190,
          191,
          192,
          193,
          194,
          195,
          196,
          197,
          198,
          199,
          200,
          201,
          202,
          204,
          205,
          206,
          207,
          208,
          210,
          211,
          215,
          218,
          219,
          220,
          221,
          222,
          223,
          224,
          225,
          226,
          227,
          228,
          230,
          238,
          243,
          245,
          246,
          247,
          249,
          250,
          251,
          252,
          253,
          254,
          255,
          256,
          257,
          258,
          259,
          260,
          261,
          262,
          263,
          264,
          265,
          266,
          267,
          268,
          269,
          270,
          271,
          272,
          273,
          275,
          276,
          277,
          278,
          280,
          283,
          284,
          285,
          286,
          287,
          288,
          289,
          290,
          291,
          292,
          293,
          294,
          295,
          316,
          317,
          318,
          319,
          320,
          321,
          322,
          323,
          337,
          338,
          339,
          340,
          341,
          342,
          343,
          344,
          346,
          347,
          348,
          349,
          365,
          366,
          367,
          368,
          369,
          370,
          371,
          372,
          373,
          374,
          375,
          376,
          377,
          378,
          379,
          381,
          382,
          383,
          384,
          395,
          396,
          397,
          398,
          399,
          400,
          401,
          402,
          412,
          413,
          414,
          415,
          416,
          417,
          418,
          419,
          420,
          423,
          426,
          429,
          431,
          432,
          433,
          434,
          435,
          436,
          437,
          438,
          439,
          440,
          441,
          442,
          443,
          444,
          445,
          446,
          447,
          448,
          449,
          450,
          451,
          452,
          453,
          454,
          455,
          456,
          457,
          458,
          459,
          460,
          461,
          462,
          463,
          464,
          466,
          467,
          468,
          475,
          480,
          481,
          482,
          483,
          484,
          485,
          486,
          487,
          488,
          489,
          490,
          491,
          492,
          493,
          494,
          495,
          496,
          497,
          498,
          499,
          500,
          501,
          502,
          503,
          504,
          505,
          506,
          512,
          513,
          514,
          515,
          516,
          517,
          518,
          519,
          520,
          521,
          522,
          523,
          524,
          526,
          527,
          528,
          529,
          556,
          557,
          558,
          559,
          560,
          561,
          562,
          563,
          564,
          565,
          566,
          585,
          586,
          587,
          589,
          598,
          599,
          600,
          601,
          602,
          603,
          604,
          605,
          606,
          607,
          608,
          609,
          610,
          611,
          612,
          613,
          623,
          624,
          625,
          630,
          631,
          632,
          633,
          648,
          649,
          652,
          661,
          663,
          665,
          666,
          669,
          714,
          726,
          727,
          728,
          729,
          730,
          731,
          732,
          733,
          734,
          735,
          736,
          737,
          811,
          812,
          813,
          814,
          815,
          816,
          817,
          818,
          819,
          820,
          821,
          822,
          823,
          824,
          825,
          826,
          827,
          828,
          829,
          830,
          831,
          832,
          833,
          834,
          835,
          836,
          837,
          883,
          884,
          885,
          886,
          887,
          888,
          889,
          890,
          891,
          892,
          893,
          894,
          895,
          896,
          897,
          898,
          899,
          900,
          901,
          902,
          903,
          904,
          905,
          906,
          907,
          908,
          909,
          911,
          912,
          913,
          915,
          917,
          918,
          920,
          961,
          962,
          963,
          964,
          965,
          966,
          967,
          968,
          969,
          970,
          971,
          972,
          973,
          974,
          975,
          976,
          977,
          978,
          979,
          980,
          981,
          982,
          983,
          984,
          985,
          986,
          987,
          988,
          989,
          990,
          991,
          992,
          993,
          994,
          995,
          996,
          997,
          998,
          999,
          1035,
          1036,
          1037,
          1038,
          1039,
          1040,
          1041,
          1042,
          1043,
          1044,
          1045,
          1046,
          1047,
          1048,
          1049,
          1050,
          1051,
          1052,
          1053,
          1054,
          1055,
          1056,
          1057,
          1058,
          1059,
          1060,
          1061,
          1062,
          1063,
          1064,
          1065,
          1066,
          1067,
          1068,
          1069,
          1070,
          1071,
          1072,
          1073,
          1074,
          1075,
          1076,
          1077,
          1078,
          1081,
          1082,
          1084,
          1085,
          1086,
          1087,
          1091,
          1093,
          1097,
          1103,
          1104,
          1105,
          1106,
          1107,
          1111,
          1112,
          1113,
          1114,
          1115,
          1117,
          1119,
          1120,
          1121,
          1123,
          1125,
          1126,
          1127,
          1129,
          1130,
          1132,
          1133,
          1137,
          1138,
          1139,
          1140
         ],
         "xaxis": "x",
         "y": [
          0.3333333333333333,
          0.3333333333333333,
          0.3333333333333333,
          0.3333333333333333,
          0.3333333333333333,
          0.3333333333333333,
          0.3333333333333333,
          0.3333333333333333,
          0.3333333333333333,
          0.3333333333333333,
          0.3333333333333333,
          0.3333333333333333,
          0.3333333333333333,
          0.3333333333333333,
          0.3333333333333333,
          0.3333333333333333,
          0.3333333333333333,
          0.3333333333333333,
          0.3333333333333333,
          0.3333333333333333,
          0.3333333333333333,
          0.3333333333333333,
          0.3333333333333333,
          0.3333333333333333,
          0.3333333333333333,
          0.3333333333333333,
          0.3333333333333333,
          0.3333333333333333,
          0.3333333333333333,
          0.3333333333333333,
          0.3333333333333333,
          0.3333333333333333,
          0.3333333333333333,
          0.3333333333333333,
          0.3333333333333333,
          0.3333333333333333,
          0.3333333333333333,
          0.3333333333333333,
          0.3333333333333333,
          0.3333333333333333,
          0.3333333333333333,
          0.3333333333333333,
          0.3333333333333333,
          0.3333333333333333,
          0.3333333333333333,
          0.3333333333333333,
          0.3333333333333333,
          0.3333333333333333,
          0.3333333333333333,
          0.3333333333333333,
          0.3333333333333333,
          0.3333333333333333,
          0.3333333333333333,
          0.3333333333333333,
          0.3333333333333333,
          0.3333333333333333,
          0.3333333333333333,
          0.3333333333333333,
          0.3333333333333333,
          0.3333333333333333,
          0.3333333333333333,
          0.3333333333333333,
          0.3333333333333333,
          0.3333333333333333,
          0.3333333333333333,
          0.3333333333333333,
          0.3333333333333333,
          0.3333333333333333,
          0.3333333333333333,
          0.3333333333333333,
          0.3333333333333333,
          0.3333333333333333,
          0.3333333333333333,
          0.3333333333333333,
          0.3333333333333333,
          0.3333333333333333,
          0.3333333333333333,
          0.3333333333333333,
          0.3333333333333333,
          0.3333333333333333,
          0.3333333333333333,
          0.3333333333333333,
          0.3333333333333333,
          0.3333333333333333,
          0.3333333333333333,
          0.3333333333333333,
          0.3333333333333333,
          0.3333333333333333,
          0.3333333333333333,
          0.3333333333333333,
          0.3333333333333333,
          0.3333333333333333,
          0.3333333333333333,
          0.3333333333333333,
          0.3333333333333333,
          0.3333333333333333,
          0.3333333333333333,
          0.3333333333333333,
          0.3333333333333333,
          0.3333333333333333,
          0.3333333333333333,
          0.3333333333333333,
          0.3333333333333333,
          0.3333333333333333,
          0.3333333333333333,
          0.3333333333333333,
          0.3333333333333333,
          0.3333333333333333,
          0.3333333333333333,
          0.3333333333333333,
          0.3333333333333333,
          0.3333333333333333,
          0.3333333333333333,
          0.3333333333333333,
          0.3333333333333333,
          0.3333333333333333,
          0.3333333333333333,
          0.3333333333333333,
          0.3333333333333333,
          0.3333333333333333,
          0.3333333333333333,
          0.3333333333333333,
          0.3333333333333333,
          0.3333333333333333,
          0.3333333333333333,
          0.3333333333333333,
          0.3333333333333333,
          0.3333333333333333,
          0.3333333333333333,
          0.3333333333333333,
          0.3333333333333333,
          0.3333333333333333,
          0.3333333333333333,
          0.3333333333333333,
          0.3333333333333333,
          0.3333333333333333,
          0.3333333333333333,
          0.3333333333333333,
          0.3333333333333333,
          0.3333333333333333,
          0.3333333333333333,
          0.3333333333333333,
          0.3333333333333333,
          0.3333333333333333,
          0.3333333333333333,
          0.3333333333333333,
          0.3333333333333333,
          0.3333333333333333,
          0.3333333333333333,
          0.3333333333333333,
          0.3333333333333333,
          0.3333333333333333,
          0.3333333333333333,
          0.3333333333333333,
          0.3333333333333333,
          0.3333333333333333,
          0.3333333333333333,
          0.3333333333333333,
          0.3333333333333333,
          0.3333333333333333,
          0.3333333333333333,
          0.3333333333333333,
          0.3333333333333333,
          0.3333333333333333,
          0.3333333333333333,
          0.3333333333333333,
          0.3333333333333333,
          0.3333333333333333,
          0.3333333333333333,
          0.3333333333333333,
          0.3333333333333333,
          0.3333333333333333,
          0.3333333333333333,
          0.3333333333333333,
          0.3333333333333333,
          0.3333333333333333,
          0.3333333333333333,
          0.3333333333333333,
          0.3333333333333333,
          0.3333333333333333,
          0.3333333333333333,
          0.3333333333333333,
          0.3333333333333333,
          0.3333333333333333,
          0.3333333333333333,
          0.3333333333333333,
          0.3333333333333333,
          0.3333333333333333,
          0.3333333333333333,
          0.3333333333333333,
          0.3333333333333333,
          0.3333333333333333,
          0.3333333333333333,
          0.3333333333333333,
          0.3333333333333333,
          0.3333333333333333,
          0.3333333333333333,
          0.3333333333333333,
          0.3333333333333333,
          0.3333333333333333,
          0.3333333333333333,
          0.3333333333333333,
          0.3333333333333333,
          0.3333333333333333,
          0.3333333333333333,
          0.3333333333333333,
          0.3333333333333333,
          0.3333333333333333,
          0.3333333333333333,
          0.3333333333333333,
          0.3333333333333333,
          0.3333333333333333,
          0.3333333333333333,
          0.3333333333333333,
          0.3333333333333333,
          0.3333333333333333,
          0.3333333333333333,
          0.3333333333333333,
          0.3333333333333333,
          0.3333333333333333,
          0.3333333333333333,
          0.3333333333333333,
          0.3333333333333333,
          0.3333333333333333,
          0.3333333333333333,
          0.3333333333333333,
          0.3333333333333333,
          0.3333333333333333,
          0.3333333333333333,
          0.3333333333333333,
          0.3333333333333333,
          0.3333333333333333,
          0.3333333333333333,
          0.3333333333333333,
          0.3333333333333333,
          0.3333333333333333,
          0.3333333333333333,
          0.3333333333333333,
          0.3333333333333333,
          0.3333333333333333,
          0.3333333333333333,
          0.3333333333333333,
          0.3333333333333333,
          0.3333333333333333,
          0.3333333333333333,
          0.3333333333333333,
          0.3333333333333333,
          0.3333333333333333,
          0.3333333333333333,
          0.3333333333333333,
          0.3333333333333333,
          0.3333333333333333,
          0.3333333333333333,
          0.3333333333333333,
          0.3333333333333333,
          0.3333333333333333,
          0.3333333333333333,
          0.3333333333333333,
          0.3333333333333333,
          0.3333333333333333,
          0.3333333333333333,
          0.3333333333333333,
          0.3333333333333333,
          0.3333333333333333,
          0.3333333333333333,
          0.3333333333333333,
          0.3333333333333333,
          0.3333333333333333,
          0.3333333333333333,
          0.3333333333333333,
          0.3333333333333333,
          0.3333333333333333,
          0.3333333333333333,
          0.3333333333333333,
          0.3333333333333333,
          0.3333333333333333,
          0.3333333333333333,
          0.3333333333333333,
          0.3333333333333333,
          0.3333333333333333,
          0.3333333333333333,
          0.3333333333333333,
          0.3333333333333333,
          0.3333333333333333,
          0.3333333333333333,
          0.3333333333333333,
          0.3333333333333333,
          0.3333333333333333,
          0.3333333333333333,
          0.3333333333333333,
          0.3333333333333333,
          0.3333333333333333,
          0.3333333333333333,
          0.3333333333333333,
          0.3333333333333333,
          0.3333333333333333,
          0.3333333333333333,
          0.3333333333333333,
          0.3333333333333333,
          0.3333333333333333,
          0.3333333333333333,
          0.3333333333333333,
          0.3333333333333333,
          0.3333333333333333,
          0.3333333333333333,
          0.3333333333333333,
          0.3333333333333333,
          0.3333333333333333,
          0.3333333333333333,
          0.3333333333333333,
          0.3333333333333333,
          0.3333333333333333,
          0.3333333333333333,
          0.3333333333333333,
          0.3333333333333333,
          0.3333333333333333,
          0.3333333333333333,
          0.3333333333333333,
          0.3333333333333333,
          0.3333333333333333,
          0.3333333333333333,
          0.3333333333333333,
          0.3333333333333333,
          0.3333333333333333,
          0.3333333333333333,
          0.3333333333333333,
          0.3333333333333333,
          0.3333333333333333,
          0.3333333333333333,
          0.3333333333333333,
          0.3333333333333333,
          0.3333333333333333,
          0.3333333333333333,
          0.3333333333333333,
          0.3333333333333333,
          0.3333333333333333,
          0.3333333333333333,
          0.3333333333333333,
          0.3333333333333333,
          0.3333333333333333,
          0.3333333333333333,
          0.3333333333333333,
          0.3333333333333333,
          0.3333333333333333,
          0.3333333333333333,
          0.3333333333333333,
          0.3333333333333333,
          0.3333333333333333,
          0.3333333333333333,
          0.3333333333333333,
          0.3333333333333333,
          0.3333333333333333,
          0.3333333333333333,
          0.3333333333333333,
          0.3333333333333333,
          0.3333333333333333,
          0.3333333333333333,
          0.3333333333333333,
          0.3333333333333333,
          0.3333333333333333,
          0.3333333333333333,
          0.3333333333333333,
          0.3333333333333333,
          0.3333333333333333,
          0.3333333333333333,
          0.3333333333333333,
          0.3333333333333333,
          0.3333333333333333,
          0.3333333333333333,
          0.3333333333333333,
          0.3333333333333333,
          0.3333333333333333,
          0.3333333333333333,
          0.3333333333333333,
          0.3333333333333333,
          0.3333333333333333,
          0.3333333333333333,
          0.3333333333333333,
          0.3333333333333333,
          0.3333333333333333,
          0.3333333333333333,
          0.3333333333333333,
          0.3333333333333333,
          0.3333333333333333,
          0.3333333333333333,
          0.3333333333333333,
          0.3333333333333333,
          0.3333333333333333,
          0.3333333333333333,
          0.3333333333333333,
          0.3333333333333333,
          0.3333333333333333,
          0.3333333333333333,
          0.3333333333333333,
          0.3333333333333333,
          0.3333333333333333,
          0.3333333333333333,
          0.3333333333333333,
          0.3333333333333333,
          0.3333333333333333,
          0.3333333333333333,
          0.3333333333333333,
          0.3333333333333333,
          0.3333333333333333,
          0.3333333333333333,
          0.3333333333333333,
          0.3333333333333333,
          0.3333333333333333,
          0.3333333333333333,
          0.3333333333333333,
          0.3333333333333333,
          0.3333333333333333,
          0.3333333333333333,
          0.3333333333333333,
          0.3333333333333333,
          0.3333333333333333,
          0.3333333333333333,
          0.3333333333333333,
          0.3333333333333333,
          0.3333333333333333,
          0.3333333333333333,
          0.3333333333333333,
          0.3333333333333333,
          0.3333333333333333,
          0.3333333333333333,
          0.3333333333333333,
          0.3333333333333333,
          0.3333333333333333,
          0.3333333333333333,
          0.3333333333333333,
          0.3333333333333333,
          0.3333333333333333,
          0.3333333333333333,
          0.3333333333333333,
          0.3333333333333333,
          0.3333333333333333,
          0.3333333333333333,
          0.3333333333333333,
          0.3333333333333333,
          0.3333333333333333,
          0.3333333333333333,
          0.3333333333333333,
          0.3333333333333333,
          0.3333333333333333,
          0.3333333333333333,
          0.3333333333333333,
          0.3333333333333333,
          0.3333333333333333,
          0.3333333333333333,
          0.3333333333333333,
          0.3333333333333333,
          0.3333333333333333,
          0.3333333333333333,
          0.3333333333333333,
          0.3333333333333333,
          0.3333333333333333,
          0.3333333333333333,
          0.3333333333333333,
          0.3333333333333333,
          0.3333333333333333,
          0.3333333333333333,
          0.3333333333333333,
          0.3333333333333333,
          0.3333333333333333,
          0.3333333333333333,
          0.3333333333333333,
          0.3333333333333333,
          0.3333333333333333,
          0.3333333333333333,
          0.3333333333333333,
          0.3333333333333333,
          0.3333333333333333,
          0.3333333333333333,
          0.3333333333333333,
          0.3333333333333333,
          0.3333333333333333,
          0.3333333333333333,
          0.3333333333333333,
          0.3333333333333333,
          0.3333333333333333,
          0.3333333333333333,
          0.3333333333333333,
          0.3333333333333333,
          0.3333333333333333,
          0.3333333333333333,
          0.3333333333333333,
          0.3333333333333333,
          0.3333333333333333,
          0.3333333333333333,
          0.3333333333333333,
          0.3333333333333333,
          0.3333333333333333,
          0.3333333333333333,
          0.3333333333333333,
          0.3333333333333333,
          0.3333333333333333,
          0.3333333333333333,
          0.3333333333333333,
          0.3333333333333333,
          0.3333333333333333,
          0.3333333333333333,
          0.3333333333333333,
          0.3333333333333333,
          0.3333333333333333,
          0.3333333333333333,
          0.3333333333333333,
          0.3333333333333333,
          0.3333333333333333,
          0.3333333333333333,
          0.3333333333333333,
          0.3333333333333333,
          0.3333333333333333,
          0.3333333333333333,
          0.3333333333333333,
          0.3333333333333333,
          0.3333333333333333,
          0.3333333333333333,
          0.3333333333333333,
          0.3333333333333333,
          0.3333333333333333,
          0.3333333333333333,
          0.3333333333333333,
          0.3333333333333333,
          0.3333333333333333,
          0.3333333333333333,
          0.3333333333333333,
          0.3333333333333333,
          0.3333333333333333,
          0.3333333333333333,
          0.3333333333333333,
          0.3333333333333333,
          0.3333333333333333,
          0.3333333333333333,
          0.3333333333333333,
          0.3333333333333333,
          0.3333333333333333,
          0.3333333333333333,
          0.3333333333333333,
          0.3333333333333333,
          0.3333333333333333,
          0.3333333333333333,
          0.3333333333333333,
          0.3333333333333333,
          0.3333333333333333,
          0.3333333333333333,
          0.3333333333333333,
          0.3333333333333333,
          0.3333333333333333,
          0.3333333333333333,
          0.3333333333333333,
          0.3333333333333333,
          0.3333333333333333,
          0.3333333333333333,
          0.3333333333333333,
          0.3333333333333333,
          0.3333333333333333,
          0.3333333333333333,
          0.3333333333333333,
          0.3333333333333333,
          0.3333333333333333,
          0.3333333333333333,
          0.3333333333333333,
          0.3333333333333333,
          0.3333333333333333,
          0.3333333333333333,
          0.3333333333333333,
          0.3333333333333333,
          0.3333333333333333,
          0.3333333333333333,
          0.3333333333333333,
          0.3333333333333333,
          0.3333333333333333,
          0.3333333333333333,
          0.3333333333333333,
          0.3333333333333333,
          0.3333333333333333,
          0.3333333333333333,
          0.3333333333333333,
          0.3333333333333333,
          0.3333333333333333,
          0.3333333333333333,
          0.3333333333333333,
          0.3333333333333333,
          0.3333333333333333,
          0.3333333333333333,
          0.3333333333333333,
          0.3333333333333333,
          0.3333333333333333,
          0.3333333333333333,
          0.3333333333333333,
          0.3333333333333333,
          0.3333333333333333,
          0.3333333333333333,
          0.3333333333333333,
          0.3333333333333333,
          0.3333333333333333,
          0.3333333333333333,
          0.3333333333333333,
          0.3333333333333333,
          0.3333333333333333,
          0.3333333333333333,
          0.3333333333333333,
          0.3333333333333333,
          0.3333333333333333,
          0.3333333333333333,
          0.3333333333333333,
          0.3333333333333333,
          0.3333333333333333,
          0.3333333333333333,
          0.3333333333333333,
          0.3333333333333333,
          0.3333333333333333,
          0.3333333333333333,
          0.3333333333333333,
          0.3333333333333333,
          0.3333333333333333,
          0.3333333333333333,
          0.3333333333333333,
          0.3333333333333333,
          0.3333333333333333,
          0.3333333333333333,
          0.3333333333333333,
          0.3333333333333333,
          0.3333333333333333,
          0.3333333333333333,
          0.3333333333333333,
          0.3333333333333333,
          0.3333333333333333,
          0.3333333333333333,
          0.3333333333333333,
          0.3333333333333333,
          0.3333333333333333,
          0.3333333333333333,
          0.3333333333333333,
          0.3333333333333333,
          0.3333333333333333,
          0.3333333333333333,
          0.3333333333333333,
          0.3333333333333333,
          0.3333333333333333,
          0.3333333333333333,
          0.3333333333333333,
          0.3333333333333333
         ],
         "yaxis": "y"
        },
        {
         "fillpattern": {
          "shape": ""
         },
         "hovertemplate": "Feeling=Sad<br>Frame=%{x}<br>Probability=%{y}<extra></extra>",
         "legendgroup": "Sad",
         "line": {
          "color": "#AB63FA"
         },
         "marker": {
          "symbol": "circle"
         },
         "mode": "lines",
         "name": "Sad",
         "orientation": "v",
         "showlegend": true,
         "stackgroup": "1",
         "type": "scatter",
         "x": [
          2,
          3,
          4,
          5,
          6,
          7,
          8,
          9,
          10,
          11,
          12,
          13,
          14,
          15,
          16,
          17,
          18,
          19,
          20,
          21,
          24,
          25,
          27,
          28,
          29,
          30,
          31,
          32,
          33,
          34,
          35,
          36,
          37,
          38,
          39,
          40,
          78,
          79,
          80,
          81,
          82,
          83,
          85,
          86,
          87,
          96,
          97,
          98,
          110,
          111,
          112,
          113,
          114,
          115,
          116,
          117,
          118,
          120,
          121,
          122,
          123,
          124,
          125,
          126,
          127,
          128,
          129,
          130,
          131,
          132,
          133,
          134,
          135,
          136,
          137,
          138,
          139,
          140,
          141,
          142,
          143,
          144,
          145,
          147,
          148,
          149,
          160,
          175,
          177,
          178,
          179,
          181,
          182,
          183,
          185,
          186,
          187,
          188,
          190,
          191,
          211,
          212,
          241,
          242,
          243,
          244,
          245,
          246,
          247,
          248,
          249,
          250,
          251,
          252,
          253,
          316,
          317,
          318,
          319,
          320,
          321,
          322,
          323,
          324,
          325,
          326,
          327,
          328,
          330,
          331,
          332,
          333,
          334,
          335,
          336,
          337,
          338,
          339,
          340,
          341,
          342,
          343,
          344,
          345,
          346,
          347,
          348,
          349,
          350,
          351,
          352,
          353,
          354,
          355,
          356,
          357,
          358,
          359,
          360,
          361,
          362,
          363,
          364,
          365,
          366,
          367,
          368,
          369,
          370,
          371,
          372,
          373,
          374,
          375,
          376,
          377,
          378,
          379,
          380,
          381,
          382,
          383,
          384,
          403,
          404,
          405,
          406,
          407,
          408,
          409,
          410,
          411,
          412,
          413,
          414,
          416,
          420,
          421,
          422,
          423,
          424,
          425,
          427,
          428,
          429,
          430,
          435,
          436,
          437,
          438,
          439,
          440,
          441,
          442,
          443,
          444,
          445,
          446,
          447,
          459,
          460,
          461,
          462,
          463,
          465,
          468,
          469,
          470,
          471,
          472,
          473,
          474,
          475,
          476,
          477,
          478,
          479,
          480,
          481,
          482,
          483,
          484,
          485,
          486,
          487,
          488,
          489,
          490,
          491,
          492,
          493,
          494,
          495,
          496,
          497,
          498,
          507,
          508,
          509,
          510,
          511,
          512,
          513,
          514,
          517,
          518,
          519,
          520,
          521,
          523,
          528,
          529,
          530,
          531,
          532,
          533,
          534,
          535,
          536,
          537,
          538,
          539,
          540,
          541,
          542,
          543,
          544,
          545,
          546,
          547,
          548,
          549,
          550,
          551,
          552,
          553,
          554,
          555,
          556,
          557,
          558,
          559,
          560,
          561,
          562,
          563,
          564,
          565,
          566,
          567,
          568,
          569,
          570,
          571,
          572,
          573,
          574,
          575,
          576,
          577,
          578,
          579,
          580,
          581,
          582,
          583,
          584,
          585,
          586,
          587,
          588,
          589,
          590,
          591,
          592,
          593,
          594,
          595,
          596,
          597,
          598,
          606,
          607,
          608,
          609,
          610,
          611,
          612,
          613,
          614,
          615,
          616,
          617,
          618,
          619,
          620,
          621,
          622,
          623,
          624,
          625,
          626,
          627,
          628,
          629,
          630,
          631,
          632,
          633,
          634,
          635,
          636,
          637,
          638,
          639,
          640,
          641,
          642,
          643,
          644,
          645,
          646,
          647,
          648,
          649,
          650,
          651,
          652,
          653,
          654,
          655,
          656,
          657,
          658,
          659,
          660,
          662,
          663,
          664,
          665,
          666,
          667,
          668,
          669,
          670,
          671,
          672,
          673,
          674,
          675,
          676,
          677,
          678,
          679,
          680,
          681,
          682,
          683,
          684,
          685,
          686,
          687,
          688,
          689,
          690,
          691,
          692,
          693,
          694,
          695,
          696,
          697,
          698,
          699,
          700,
          701,
          702,
          703,
          704,
          705,
          706,
          707,
          708,
          709,
          710,
          711,
          712,
          713,
          714,
          715,
          716,
          717,
          718,
          719,
          720,
          721,
          722,
          723,
          724,
          725,
          726,
          727,
          728,
          729,
          730,
          731,
          732,
          733,
          734,
          735,
          736,
          737,
          738,
          739,
          740,
          741,
          742,
          743,
          744,
          745,
          746,
          747,
          748,
          749,
          750,
          751,
          752,
          753,
          754,
          755,
          756,
          757,
          758,
          759,
          760,
          761,
          762,
          763,
          764,
          765,
          766,
          767,
          768,
          769,
          770,
          771,
          772,
          773,
          774,
          775,
          776,
          777,
          778,
          779,
          780,
          781,
          782,
          783,
          784,
          785,
          786,
          787,
          788,
          789,
          790,
          791,
          792,
          793,
          794,
          795,
          796,
          797,
          798,
          799,
          800,
          801,
          802,
          803,
          804,
          805,
          806,
          807,
          808,
          809,
          810,
          811,
          812,
          813,
          814,
          815,
          816,
          817,
          818,
          819,
          820,
          821,
          822,
          823,
          824,
          825,
          826,
          827,
          828,
          829,
          830,
          831,
          832,
          833,
          834,
          835,
          836,
          837,
          838,
          839,
          840,
          841,
          842,
          843,
          844,
          845,
          846,
          847,
          848,
          849,
          850,
          851,
          852,
          853,
          854,
          855,
          856,
          857,
          858,
          859,
          860,
          861,
          862,
          863,
          864,
          865,
          866,
          867,
          868,
          869,
          870,
          871,
          872,
          873,
          874,
          875,
          876,
          877,
          878,
          879,
          880,
          881,
          882,
          883,
          884,
          885,
          886,
          887,
          888,
          889,
          890,
          891,
          892,
          893,
          894,
          895,
          896,
          897,
          898,
          899,
          900,
          901,
          902,
          903,
          904,
          905,
          906,
          907,
          908,
          909,
          910,
          911,
          912,
          913,
          914,
          915,
          916,
          917,
          918,
          919,
          920,
          921,
          922,
          923,
          924,
          925,
          926,
          927,
          928,
          929,
          930,
          931,
          932,
          933,
          934,
          935,
          936,
          937,
          938,
          939,
          940,
          941,
          942,
          943,
          944,
          945,
          946,
          947,
          948,
          949,
          950,
          951,
          952,
          953,
          954,
          955,
          956,
          957,
          958,
          959,
          960,
          961,
          962,
          963,
          964,
          965,
          966,
          967,
          968,
          969,
          970,
          971,
          972,
          973,
          974,
          975,
          976,
          977,
          978,
          979,
          980,
          981,
          982,
          983,
          984,
          985,
          986,
          987,
          988,
          989,
          990,
          991,
          992,
          993,
          994,
          995,
          996,
          997,
          998,
          999,
          1000,
          1001,
          1002,
          1003,
          1004,
          1005,
          1006,
          1007,
          1008,
          1009,
          1010,
          1011,
          1012,
          1013,
          1014,
          1015,
          1016,
          1017,
          1018,
          1019,
          1020,
          1021,
          1022,
          1023,
          1024,
          1025,
          1026,
          1027,
          1028,
          1029,
          1030,
          1031,
          1032,
          1033,
          1034,
          1035,
          1036,
          1037,
          1045,
          1047,
          1048,
          1049,
          1050,
          1051,
          1052,
          1053,
          1054,
          1055,
          1056,
          1057,
          1058,
          1059,
          1060,
          1061,
          1062,
          1063,
          1064,
          1065,
          1066,
          1067,
          1068,
          1069,
          1070,
          1071,
          1072,
          1073,
          1074,
          1075,
          1076,
          1077,
          1078,
          1079,
          1080,
          1081,
          1082,
          1083,
          1084,
          1085,
          1086,
          1087,
          1088,
          1089,
          1090,
          1091,
          1092,
          1093,
          1094,
          1095,
          1096,
          1097,
          1098,
          1099,
          1100,
          1101,
          1102,
          1103,
          1104,
          1105,
          1106,
          1107,
          1108,
          1109,
          1110,
          1111,
          1112,
          1113,
          1114,
          1115,
          1116,
          1117,
          1118,
          1119,
          1120,
          1121,
          1122,
          1123,
          1124,
          1125,
          1126,
          1127,
          1128,
          1129,
          1130,
          1131,
          1132,
          1133,
          1134,
          1135,
          1136,
          1137,
          1138,
          1139
         ],
         "xaxis": "x",
         "y": [
          0.3333333333333333,
          0.3333333333333333,
          0.3333333333333333,
          0.3333333333333333,
          0.3333333333333333,
          0.3333333333333333,
          0.3333333333333333,
          0.3333333333333333,
          0.3333333333333333,
          0.3333333333333333,
          0.3333333333333333,
          0.3333333333333333,
          0.3333333333333333,
          0.3333333333333333,
          0.3333333333333333,
          0.3333333333333333,
          0.3333333333333333,
          0.3333333333333333,
          0.3333333333333333,
          0.3333333333333333,
          0.3333333333333333,
          0.3333333333333333,
          0.3333333333333333,
          0.3333333333333333,
          0.3333333333333333,
          0.3333333333333333,
          0.3333333333333333,
          0.3333333333333333,
          0.3333333333333333,
          0.3333333333333333,
          0.3333333333333333,
          0.3333333333333333,
          0.3333333333333333,
          0.3333333333333333,
          0.3333333333333333,
          0.3333333333333333,
          0.3333333333333333,
          0.3333333333333333,
          0.3333333333333333,
          0.3333333333333333,
          0.3333333333333333,
          0.3333333333333333,
          0.3333333333333333,
          0.3333333333333333,
          0.3333333333333333,
          0.3333333333333333,
          0.3333333333333333,
          0.3333333333333333,
          0.3333333333333333,
          0.3333333333333333,
          0.3333333333333333,
          0.3333333333333333,
          0.3333333333333333,
          0.3333333333333333,
          0.3333333333333333,
          0.3333333333333333,
          0.3333333333333333,
          0.3333333333333333,
          0.3333333333333333,
          0.3333333333333333,
          0.3333333333333333,
          0.3333333333333333,
          0.3333333333333333,
          0.3333333333333333,
          0.3333333333333333,
          0.3333333333333333,
          0.3333333333333333,
          0.3333333333333333,
          0.3333333333333333,
          0.3333333333333333,
          0.3333333333333333,
          0.3333333333333333,
          0.3333333333333333,
          0.3333333333333333,
          0.3333333333333333,
          0.3333333333333333,
          0.3333333333333333,
          0.3333333333333333,
          0.3333333333333333,
          0.3333333333333333,
          0.3333333333333333,
          0.3333333333333333,
          0.3333333333333333,
          0.3333333333333333,
          0.3333333333333333,
          0.3333333333333333,
          0.3333333333333333,
          0.3333333333333333,
          0.3333333333333333,
          0.3333333333333333,
          0.3333333333333333,
          0.3333333333333333,
          0.3333333333333333,
          0.3333333333333333,
          0.3333333333333333,
          0.3333333333333333,
          0.3333333333333333,
          0.3333333333333333,
          0.3333333333333333,
          0.3333333333333333,
          0.3333333333333333,
          0.3333333333333333,
          0.3333333333333333,
          0.3333333333333333,
          0.3333333333333333,
          0.3333333333333333,
          0.3333333333333333,
          0.3333333333333333,
          0.3333333333333333,
          0.3333333333333333,
          0.3333333333333333,
          0.3333333333333333,
          0.3333333333333333,
          0.3333333333333333,
          0.3333333333333333,
          0.3333333333333333,
          0.3333333333333333,
          0.3333333333333333,
          0.3333333333333333,
          0.3333333333333333,
          0.3333333333333333,
          0.3333333333333333,
          0.3333333333333333,
          0.3333333333333333,
          0.3333333333333333,
          0.3333333333333333,
          0.3333333333333333,
          0.3333333333333333,
          0.3333333333333333,
          0.3333333333333333,
          0.3333333333333333,
          0.3333333333333333,
          0.3333333333333333,
          0.3333333333333333,
          0.3333333333333333,
          0.3333333333333333,
          0.3333333333333333,
          0.3333333333333333,
          0.3333333333333333,
          0.3333333333333333,
          0.3333333333333333,
          0.3333333333333333,
          0.3333333333333333,
          0.3333333333333333,
          0.3333333333333333,
          0.3333333333333333,
          0.3333333333333333,
          0.3333333333333333,
          0.3333333333333333,
          0.3333333333333333,
          0.3333333333333333,
          0.3333333333333333,
          0.3333333333333333,
          0.3333333333333333,
          0.3333333333333333,
          0.3333333333333333,
          0.3333333333333333,
          0.3333333333333333,
          0.3333333333333333,
          0.3333333333333333,
          0.3333333333333333,
          0.3333333333333333,
          0.3333333333333333,
          0.3333333333333333,
          0.3333333333333333,
          0.3333333333333333,
          0.3333333333333333,
          0.3333333333333333,
          0.3333333333333333,
          0.3333333333333333,
          0.3333333333333333,
          0.3333333333333333,
          0.3333333333333333,
          0.3333333333333333,
          0.3333333333333333,
          0.3333333333333333,
          0.3333333333333333,
          0.3333333333333333,
          0.3333333333333333,
          0.3333333333333333,
          0.3333333333333333,
          0.3333333333333333,
          0.3333333333333333,
          0.3333333333333333,
          0.3333333333333333,
          0.3333333333333333,
          0.3333333333333333,
          0.3333333333333333,
          0.3333333333333333,
          0.3333333333333333,
          0.3333333333333333,
          0.3333333333333333,
          0.3333333333333333,
          0.3333333333333333,
          0.3333333333333333,
          0.3333333333333333,
          0.3333333333333333,
          0.3333333333333333,
          0.3333333333333333,
          0.3333333333333333,
          0.3333333333333333,
          0.3333333333333333,
          0.3333333333333333,
          0.3333333333333333,
          0.3333333333333333,
          0.3333333333333333,
          0.3333333333333333,
          0.3333333333333333,
          0.3333333333333333,
          0.3333333333333333,
          0.3333333333333333,
          0.3333333333333333,
          0.3333333333333333,
          0.3333333333333333,
          0.3333333333333333,
          0.3333333333333333,
          0.3333333333333333,
          0.3333333333333333,
          0.3333333333333333,
          0.3333333333333333,
          0.3333333333333333,
          0.3333333333333333,
          0.3333333333333333,
          0.3333333333333333,
          0.3333333333333333,
          0.3333333333333333,
          0.3333333333333333,
          0.3333333333333333,
          0.3333333333333333,
          0.3333333333333333,
          0.3333333333333333,
          0.3333333333333333,
          0.3333333333333333,
          0.3333333333333333,
          0.3333333333333333,
          0.3333333333333333,
          0.3333333333333333,
          0.3333333333333333,
          0.3333333333333333,
          0.3333333333333333,
          0.3333333333333333,
          0.3333333333333333,
          0.3333333333333333,
          0.3333333333333333,
          0.3333333333333333,
          0.3333333333333333,
          0.3333333333333333,
          0.3333333333333333,
          0.3333333333333333,
          0.3333333333333333,
          0.3333333333333333,
          0.3333333333333333,
          0.3333333333333333,
          0.3333333333333333,
          0.3333333333333333,
          0.3333333333333333,
          0.3333333333333333,
          0.3333333333333333,
          0.3333333333333333,
          0.3333333333333333,
          0.3333333333333333,
          0.3333333333333333,
          0.3333333333333333,
          0.3333333333333333,
          0.3333333333333333,
          0.3333333333333333,
          0.3333333333333333,
          0.3333333333333333,
          0.3333333333333333,
          0.3333333333333333,
          0.3333333333333333,
          0.3333333333333333,
          0.3333333333333333,
          0.3333333333333333,
          0.3333333333333333,
          0.3333333333333333,
          0.3333333333333333,
          0.3333333333333333,
          0.3333333333333333,
          0.3333333333333333,
          0.3333333333333333,
          0.3333333333333333,
          0.3333333333333333,
          0.3333333333333333,
          0.3333333333333333,
          0.3333333333333333,
          0.3333333333333333,
          0.3333333333333333,
          0.3333333333333333,
          0.3333333333333333,
          0.3333333333333333,
          0.3333333333333333,
          0.3333333333333333,
          0.3333333333333333,
          0.3333333333333333,
          0.3333333333333333,
          0.3333333333333333,
          0.3333333333333333,
          0.3333333333333333,
          0.3333333333333333,
          0.3333333333333333,
          0.3333333333333333,
          0.3333333333333333,
          0.3333333333333333,
          0.3333333333333333,
          0.3333333333333333,
          0.3333333333333333,
          0.3333333333333333,
          0.3333333333333333,
          0.3333333333333333,
          0.3333333333333333,
          0.3333333333333333,
          0.3333333333333333,
          0.3333333333333333,
          0.3333333333333333,
          0.3333333333333333,
          0.3333333333333333,
          0.3333333333333333,
          0.3333333333333333,
          0.3333333333333333,
          0.3333333333333333,
          0.3333333333333333,
          0.3333333333333333,
          0.3333333333333333,
          0.3333333333333333,
          0.3333333333333333,
          0.3333333333333333,
          0.3333333333333333,
          0.3333333333333333,
          0.3333333333333333,
          0.3333333333333333,
          0.3333333333333333,
          0.3333333333333333,
          0.3333333333333333,
          0.3333333333333333,
          0.3333333333333333,
          0.3333333333333333,
          0.3333333333333333,
          0.3333333333333333,
          0.3333333333333333,
          0.3333333333333333,
          0.3333333333333333,
          0.3333333333333333,
          0.3333333333333333,
          0.3333333333333333,
          0.3333333333333333,
          0.3333333333333333,
          0.3333333333333333,
          0.3333333333333333,
          0.3333333333333333,
          0.3333333333333333,
          0.3333333333333333,
          0.3333333333333333,
          0.3333333333333333,
          0.3333333333333333,
          0.3333333333333333,
          0.3333333333333333,
          0.3333333333333333,
          0.3333333333333333,
          0.3333333333333333,
          0.3333333333333333,
          0.3333333333333333,
          0.3333333333333333,
          0.3333333333333333,
          0.3333333333333333,
          0.3333333333333333,
          0.3333333333333333,
          0.3333333333333333,
          0.3333333333333333,
          0.3333333333333333,
          0.3333333333333333,
          0.3333333333333333,
          0.3333333333333333,
          0.3333333333333333,
          0.3333333333333333,
          0.3333333333333333,
          0.3333333333333333,
          0.3333333333333333,
          0.3333333333333333,
          0.3333333333333333,
          0.3333333333333333,
          0.3333333333333333,
          0.3333333333333333,
          0.3333333333333333,
          0.3333333333333333,
          0.3333333333333333,
          0.3333333333333333,
          0.3333333333333333,
          0.3333333333333333,
          0.3333333333333333,
          0.3333333333333333,
          0.3333333333333333,
          0.3333333333333333,
          0.3333333333333333,
          0.3333333333333333,
          0.3333333333333333,
          0.3333333333333333,
          0.3333333333333333,
          0.3333333333333333,
          0.3333333333333333,
          0.3333333333333333,
          0.3333333333333333,
          0.3333333333333333,
          0.3333333333333333,
          0.3333333333333333,
          0.3333333333333333,
          0.3333333333333333,
          0.3333333333333333,
          0.3333333333333333,
          0.3333333333333333,
          0.3333333333333333,
          0.3333333333333333,
          0.3333333333333333,
          0.3333333333333333,
          0.3333333333333333,
          0.3333333333333333,
          0.3333333333333333,
          0.3333333333333333,
          0.3333333333333333,
          0.3333333333333333,
          0.3333333333333333,
          0.3333333333333333,
          0.3333333333333333,
          0.3333333333333333,
          0.3333333333333333,
          0.3333333333333333,
          0.3333333333333333,
          0.3333333333333333,
          0.3333333333333333,
          0.3333333333333333,
          0.3333333333333333,
          0.3333333333333333,
          0.3333333333333333,
          0.3333333333333333,
          0.3333333333333333,
          0.3333333333333333,
          0.3333333333333333,
          0.3333333333333333,
          0.3333333333333333,
          0.3333333333333333,
          0.3333333333333333,
          0.3333333333333333,
          0.3333333333333333,
          0.3333333333333333,
          0.3333333333333333,
          0.3333333333333333,
          0.3333333333333333,
          0.3333333333333333,
          0.3333333333333333,
          0.3333333333333333,
          0.3333333333333333,
          0.3333333333333333,
          0.3333333333333333,
          0.3333333333333333,
          0.3333333333333333,
          0.3333333333333333,
          0.3333333333333333,
          0.3333333333333333,
          0.3333333333333333,
          0.3333333333333333,
          0.3333333333333333,
          0.3333333333333333,
          0.3333333333333333,
          0.3333333333333333,
          0.3333333333333333,
          0.3333333333333333,
          0.3333333333333333,
          0.3333333333333333,
          0.3333333333333333,
          0.3333333333333333,
          0.3333333333333333,
          0.3333333333333333,
          0.3333333333333333,
          0.3333333333333333,
          0.3333333333333333,
          0.3333333333333333,
          0.3333333333333333,
          0.3333333333333333,
          0.3333333333333333,
          0.3333333333333333,
          0.3333333333333333,
          0.3333333333333333,
          0.3333333333333333,
          0.3333333333333333,
          0.3333333333333333,
          0.3333333333333333,
          0.3333333333333333,
          0.3333333333333333,
          0.3333333333333333,
          0.3333333333333333,
          0.3333333333333333,
          0.3333333333333333,
          0.3333333333333333,
          0.3333333333333333,
          0.3333333333333333,
          0.3333333333333333,
          0.3333333333333333,
          0.3333333333333333,
          0.3333333333333333,
          0.3333333333333333,
          0.3333333333333333,
          0.3333333333333333,
          0.3333333333333333,
          0.3333333333333333,
          0.3333333333333333,
          0.3333333333333333,
          0.3333333333333333,
          0.3333333333333333,
          0.3333333333333333,
          0.3333333333333333,
          0.3333333333333333,
          0.3333333333333333,
          0.3333333333333333,
          0.3333333333333333,
          0.3333333333333333,
          0.3333333333333333,
          0.3333333333333333,
          0.3333333333333333,
          0.3333333333333333,
          0.3333333333333333,
          0.3333333333333333,
          0.3333333333333333,
          0.3333333333333333,
          0.3333333333333333,
          0.3333333333333333,
          0.3333333333333333,
          0.3333333333333333,
          0.3333333333333333,
          0.3333333333333333,
          0.3333333333333333,
          0.3333333333333333,
          0.3333333333333333,
          0.3333333333333333,
          0.3333333333333333,
          0.3333333333333333,
          0.3333333333333333,
          0.3333333333333333,
          0.3333333333333333,
          0.3333333333333333,
          0.3333333333333333,
          0.3333333333333333,
          0.3333333333333333,
          0.3333333333333333,
          0.3333333333333333,
          0.3333333333333333,
          0.3333333333333333,
          0.3333333333333333,
          0.3333333333333333,
          0.3333333333333333,
          0.3333333333333333,
          0.3333333333333333,
          0.3333333333333333,
          0.3333333333333333,
          0.3333333333333333,
          0.3333333333333333,
          0.3333333333333333,
          0.3333333333333333,
          0.3333333333333333,
          0.3333333333333333,
          0.3333333333333333,
          0.3333333333333333,
          0.3333333333333333,
          0.3333333333333333,
          0.3333333333333333,
          0.3333333333333333,
          0.3333333333333333,
          0.3333333333333333,
          0.3333333333333333,
          0.3333333333333333,
          0.3333333333333333,
          0.3333333333333333,
          0.3333333333333333,
          0.3333333333333333,
          0.3333333333333333,
          0.3333333333333333,
          0.3333333333333333,
          0.3333333333333333,
          0.3333333333333333,
          0.3333333333333333,
          0.3333333333333333,
          0.3333333333333333,
          0.3333333333333333,
          0.3333333333333333,
          0.3333333333333333,
          0.3333333333333333,
          0.3333333333333333,
          0.3333333333333333,
          0.3333333333333333,
          0.3333333333333333,
          0.3333333333333333,
          0.3333333333333333,
          0.3333333333333333,
          0.3333333333333333,
          0.3333333333333333,
          0.3333333333333333,
          0.3333333333333333,
          0.3333333333333333,
          0.3333333333333333,
          0.3333333333333333,
          0.3333333333333333,
          0.3333333333333333,
          0.3333333333333333,
          0.3333333333333333,
          0.3333333333333333,
          0.3333333333333333,
          0.3333333333333333,
          0.3333333333333333,
          0.3333333333333333,
          0.3333333333333333,
          0.3333333333333333,
          0.3333333333333333,
          0.3333333333333333,
          0.3333333333333333,
          0.3333333333333333,
          0.3333333333333333,
          0.3333333333333333,
          0.3333333333333333,
          0.3333333333333333,
          0.3333333333333333,
          0.3333333333333333,
          0.3333333333333333,
          0.3333333333333333,
          0.3333333333333333,
          0.3333333333333333,
          0.3333333333333333,
          0.3333333333333333,
          0.3333333333333333,
          0.3333333333333333,
          0.3333333333333333,
          0.3333333333333333,
          0.3333333333333333,
          0.3333333333333333,
          0.3333333333333333,
          0.3333333333333333,
          0.3333333333333333,
          0.3333333333333333,
          0.3333333333333333,
          0.3333333333333333,
          0.3333333333333333,
          0.3333333333333333,
          0.3333333333333333,
          0.3333333333333333,
          0.3333333333333333,
          0.3333333333333333,
          0.3333333333333333,
          0.3333333333333333,
          0.3333333333333333,
          0.3333333333333333,
          0.3333333333333333,
          0.3333333333333333,
          0.3333333333333333,
          0.3333333333333333,
          0.3333333333333333,
          0.3333333333333333,
          0.3333333333333333,
          0.3333333333333333,
          0.3333333333333333,
          0.3333333333333333,
          0.3333333333333333,
          0.3333333333333333,
          0.3333333333333333,
          0.3333333333333333,
          0.3333333333333333,
          0.3333333333333333,
          0.3333333333333333,
          0.3333333333333333,
          0.3333333333333333,
          0.3333333333333333,
          0.3333333333333333,
          0.3333333333333333,
          0.3333333333333333,
          0.3333333333333333,
          0.3333333333333333,
          0.3333333333333333,
          0.3333333333333333,
          0.3333333333333333,
          0.3333333333333333,
          0.3333333333333333,
          0.3333333333333333,
          0.3333333333333333,
          0.3333333333333333,
          0.3333333333333333,
          0.3333333333333333,
          0.3333333333333333,
          0.3333333333333333,
          0.3333333333333333,
          0.3333333333333333,
          0.3333333333333333,
          0.3333333333333333,
          0.3333333333333333,
          0.3333333333333333,
          0.3333333333333333,
          0.3333333333333333,
          0.3333333333333333,
          0.3333333333333333,
          0.3333333333333333,
          0.3333333333333333,
          0.3333333333333333,
          0.3333333333333333,
          0.3333333333333333,
          0.3333333333333333,
          0.3333333333333333,
          0.3333333333333333,
          0.3333333333333333,
          0.3333333333333333,
          0.3333333333333333,
          0.3333333333333333,
          0.3333333333333333,
          0.3333333333333333,
          0.3333333333333333,
          0.3333333333333333,
          0.3333333333333333,
          0.3333333333333333,
          0.3333333333333333,
          0.3333333333333333,
          0.3333333333333333,
          0.3333333333333333,
          0.3333333333333333,
          0.3333333333333333,
          0.3333333333333333,
          0.3333333333333333,
          0.3333333333333333,
          0.3333333333333333,
          0.3333333333333333,
          0.3333333333333333,
          0.3333333333333333,
          0.3333333333333333,
          0.3333333333333333,
          0.3333333333333333,
          0.3333333333333333,
          0.3333333333333333,
          0.3333333333333333,
          0.3333333333333333,
          0.3333333333333333,
          0.3333333333333333,
          0.3333333333333333,
          0.3333333333333333,
          0.3333333333333333,
          0.3333333333333333,
          0.3333333333333333,
          0.3333333333333333,
          0.3333333333333333,
          0.3333333333333333,
          0.3333333333333333,
          0.3333333333333333,
          0.3333333333333333,
          0.3333333333333333,
          0.3333333333333333,
          0.3333333333333333,
          0.3333333333333333,
          0.3333333333333333,
          0.3333333333333333,
          0.3333333333333333,
          0.3333333333333333,
          0.3333333333333333,
          0.3333333333333333,
          0.3333333333333333,
          0.3333333333333333,
          0.3333333333333333,
          0.3333333333333333,
          0.3333333333333333,
          0.3333333333333333,
          0.3333333333333333,
          0.3333333333333333,
          0.3333333333333333,
          0.3333333333333333,
          0.3333333333333333,
          0.3333333333333333,
          0.3333333333333333,
          0.3333333333333333,
          0.3333333333333333,
          0.3333333333333333,
          0.3333333333333333,
          0.3333333333333333,
          0.3333333333333333,
          0.3333333333333333,
          0.3333333333333333,
          0.3333333333333333,
          0.3333333333333333,
          0.3333333333333333,
          0.3333333333333333,
          0.3333333333333333,
          0.3333333333333333,
          0.3333333333333333,
          0.3333333333333333,
          0.3333333333333333,
          0.3333333333333333,
          0.3333333333333333,
          0.3333333333333333,
          0.3333333333333333,
          0.3333333333333333,
          0.3333333333333333,
          0.3333333333333333,
          0.3333333333333333,
          0.3333333333333333,
          0.3333333333333333,
          0.3333333333333333,
          0.3333333333333333,
          0.3333333333333333,
          0.3333333333333333,
          0.3333333333333333,
          0.3333333333333333,
          0.3333333333333333,
          0.3333333333333333,
          0.3333333333333333,
          0.3333333333333333,
          0.3333333333333333,
          0.3333333333333333,
          0.3333333333333333,
          0.3333333333333333,
          0.3333333333333333,
          0.3333333333333333,
          0.3333333333333333,
          0.3333333333333333,
          0.3333333333333333,
          0.3333333333333333,
          0.3333333333333333,
          0.3333333333333333,
          0.3333333333333333,
          0.3333333333333333,
          0.3333333333333333,
          0.3333333333333333,
          0.3333333333333333,
          0.3333333333333333,
          0.3333333333333333,
          0.3333333333333333,
          0.3333333333333333,
          0.3333333333333333,
          0.3333333333333333,
          0.3333333333333333,
          0.3333333333333333,
          0.3333333333333333,
          0.3333333333333333,
          0.3333333333333333,
          0.3333333333333333,
          0.3333333333333333,
          0.3333333333333333,
          0.3333333333333333,
          0.3333333333333333,
          0.3333333333333333,
          0.3333333333333333,
          0.3333333333333333,
          0.3333333333333333,
          0.3333333333333333,
          0.3333333333333333,
          0.3333333333333333,
          0.3333333333333333,
          0.3333333333333333,
          0.3333333333333333,
          0.3333333333333333,
          0.3333333333333333,
          0.3333333333333333,
          0.3333333333333333,
          0.3333333333333333,
          0.3333333333333333,
          0.3333333333333333,
          0.3333333333333333,
          0.3333333333333333,
          0.3333333333333333,
          0.3333333333333333,
          0.3333333333333333,
          0.3333333333333333,
          0.3333333333333333,
          0.3333333333333333,
          0.3333333333333333,
          0.3333333333333333
         ],
         "yaxis": "y"
        },
        {
         "fillpattern": {
          "shape": ""
         },
         "hovertemplate": "Feeling=Angry<br>Frame=%{x}<br>Probability=%{y}<extra></extra>",
         "legendgroup": "Angry",
         "line": {
          "color": "#FFA15A"
         },
         "marker": {
          "symbol": "circle"
         },
         "mode": "lines",
         "name": "Angry",
         "orientation": "v",
         "showlegend": true,
         "stackgroup": "1",
         "type": "scatter",
         "x": [
          8,
          9,
          10,
          11,
          12,
          17,
          19,
          22,
          23,
          26,
          60,
          61,
          84,
          88,
          89,
          90,
          91,
          92,
          93,
          94,
          95,
          113,
          114,
          119,
          149,
          150,
          151,
          152,
          153,
          154,
          155,
          156,
          157,
          158,
          159,
          161,
          162,
          163,
          164,
          165,
          166,
          167,
          168,
          169,
          170,
          171,
          172,
          173,
          174,
          203,
          206,
          208,
          209,
          210,
          213,
          214,
          216,
          217,
          220,
          221,
          222,
          223,
          224,
          225,
          226,
          227,
          229,
          241,
          242,
          243,
          244,
          245,
          246,
          247,
          248,
          249,
          250,
          251,
          252,
          253,
          254,
          255,
          256,
          257,
          258,
          260,
          261,
          262,
          263,
          264,
          265,
          266,
          267,
          268,
          274,
          279,
          281,
          282,
          283,
          284,
          296,
          297,
          298,
          299,
          300,
          301,
          302,
          303,
          304,
          305,
          306,
          307,
          308,
          309,
          310,
          311,
          312,
          313,
          314,
          315,
          316,
          317,
          318,
          319,
          320,
          323,
          324,
          325,
          326,
          327,
          328,
          329,
          330,
          331,
          332,
          333,
          334,
          350,
          351,
          353,
          354,
          355,
          356,
          357,
          359,
          360,
          361,
          362,
          363,
          364,
          365,
          366,
          370,
          371,
          372,
          380,
          385,
          386,
          387,
          388,
          389,
          390,
          391,
          392,
          395,
          396,
          397,
          398,
          399,
          400,
          401,
          402,
          403,
          404,
          405,
          406,
          407,
          408,
          409,
          410,
          411,
          421,
          422,
          424,
          425,
          426,
          427,
          428,
          435,
          437,
          438,
          439,
          440,
          441,
          442,
          443,
          444,
          445,
          446,
          447,
          468,
          469,
          470,
          471,
          472,
          473,
          474,
          476,
          477,
          478,
          479,
          481,
          482,
          483,
          484,
          485,
          486,
          487,
          488,
          489,
          490,
          491,
          492,
          493,
          494,
          495,
          496,
          507,
          508,
          509,
          510,
          511,
          512,
          513,
          514,
          515,
          516,
          517,
          518,
          522,
          523,
          524,
          525,
          526,
          527,
          528,
          529,
          530,
          531,
          532,
          533,
          534,
          535,
          536,
          537,
          538,
          539,
          540,
          541,
          542,
          543,
          544,
          545,
          546,
          547,
          548,
          549,
          550,
          551,
          552,
          553,
          554,
          555,
          556,
          557,
          558,
          559,
          560,
          561,
          562,
          563,
          564,
          565,
          566,
          567,
          568,
          569,
          570,
          571,
          572,
          573,
          574,
          575,
          576,
          577,
          578,
          579,
          580,
          581,
          582,
          584,
          588,
          590,
          591,
          592,
          593,
          594,
          595,
          596,
          597,
          599,
          600,
          601,
          602,
          603,
          604,
          605,
          606,
          607,
          608,
          609,
          610,
          611,
          612,
          613,
          614,
          615,
          616,
          617,
          618,
          619,
          620,
          621,
          622,
          626,
          627,
          628,
          629,
          631,
          634,
          635,
          636,
          637,
          638,
          639,
          640,
          641,
          642,
          643,
          644,
          645,
          646,
          647,
          649,
          650,
          651,
          652,
          653,
          654,
          655,
          656,
          657,
          658,
          659,
          660,
          661,
          662,
          663,
          664,
          667,
          668,
          670,
          672,
          673,
          674,
          675,
          676,
          677,
          678,
          679,
          681,
          683,
          684,
          685,
          686,
          687,
          688,
          689,
          690,
          691,
          692,
          693,
          694,
          695,
          696,
          697,
          698,
          699,
          700,
          701,
          702,
          703,
          704,
          705,
          706,
          707,
          708,
          709,
          710,
          711,
          712,
          713,
          714,
          715,
          716,
          717,
          718,
          719,
          720,
          721,
          722,
          723,
          724,
          725,
          726,
          727,
          728,
          729,
          730,
          732,
          733,
          734,
          735,
          736,
          737,
          738,
          739,
          740,
          741,
          742,
          743,
          744,
          745,
          746,
          747,
          748,
          749,
          750,
          751,
          752,
          753,
          754,
          755,
          756,
          757,
          758,
          759,
          760,
          761,
          762,
          763,
          764,
          765,
          766,
          767,
          768,
          769,
          770,
          771,
          772,
          773,
          774,
          775,
          776,
          777,
          778,
          779,
          780,
          781,
          782,
          783,
          784,
          785,
          786,
          787,
          788,
          789,
          790,
          791,
          792,
          793,
          794,
          795,
          796,
          797,
          798,
          799,
          800,
          801,
          802,
          803,
          804,
          805,
          807,
          834,
          842,
          844,
          845,
          846,
          847,
          848,
          849,
          851,
          852,
          853,
          854,
          855,
          856,
          857,
          868,
          869,
          870,
          874,
          880,
          881,
          882,
          910,
          914,
          916,
          919,
          921,
          922,
          923,
          924,
          925,
          926,
          927,
          928,
          929,
          930,
          931,
          932,
          933,
          934,
          935,
          936,
          937,
          938,
          939,
          940,
          941,
          942,
          943,
          944,
          945,
          946,
          947,
          948,
          949,
          950,
          951,
          952,
          953,
          954,
          955,
          956,
          957,
          958,
          959,
          960,
          1000,
          1004,
          1007,
          1008,
          1009,
          1010,
          1011,
          1012,
          1013,
          1014,
          1015,
          1017,
          1019,
          1020,
          1023,
          1026,
          1028,
          1029,
          1031,
          1032,
          1033,
          1034,
          1079,
          1080,
          1083,
          1088,
          1092,
          1095,
          1096,
          1098,
          1099,
          1100,
          1101,
          1102,
          1108,
          1109,
          1110,
          1116,
          1118,
          1128,
          1131,
          1134,
          1135,
          1136
         ],
         "xaxis": "x",
         "y": [
          0.3333333333333333,
          0.3333333333333333,
          0.3333333333333333,
          0.3333333333333333,
          0.3333333333333333,
          0.3333333333333333,
          0.3333333333333333,
          0.3333333333333333,
          0.3333333333333333,
          0.3333333333333333,
          0.3333333333333333,
          0.3333333333333333,
          0.3333333333333333,
          0.3333333333333333,
          0.3333333333333333,
          0.3333333333333333,
          0.3333333333333333,
          0.3333333333333333,
          0.3333333333333333,
          0.3333333333333333,
          0.3333333333333333,
          0.3333333333333333,
          0.3333333333333333,
          0.3333333333333333,
          0.3333333333333333,
          0.3333333333333333,
          0.3333333333333333,
          0.3333333333333333,
          0.3333333333333333,
          0.3333333333333333,
          0.3333333333333333,
          0.3333333333333333,
          0.3333333333333333,
          0.3333333333333333,
          0.3333333333333333,
          0.3333333333333333,
          0.3333333333333333,
          0.3333333333333333,
          0.3333333333333333,
          0.3333333333333333,
          0.3333333333333333,
          0.3333333333333333,
          0.3333333333333333,
          0.3333333333333333,
          0.3333333333333333,
          0.3333333333333333,
          0.3333333333333333,
          0.3333333333333333,
          0.3333333333333333,
          0.3333333333333333,
          0.3333333333333333,
          0.3333333333333333,
          0.3333333333333333,
          0.3333333333333333,
          0.3333333333333333,
          0.3333333333333333,
          0.3333333333333333,
          0.3333333333333333,
          0.3333333333333333,
          0.3333333333333333,
          0.3333333333333333,
          0.3333333333333333,
          0.3333333333333333,
          0.3333333333333333,
          0.3333333333333333,
          0.3333333333333333,
          0.3333333333333333,
          0.3333333333333333,
          0.3333333333333333,
          0.3333333333333333,
          0.3333333333333333,
          0.3333333333333333,
          0.3333333333333333,
          0.3333333333333333,
          0.3333333333333333,
          0.3333333333333333,
          0.3333333333333333,
          0.3333333333333333,
          0.3333333333333333,
          0.3333333333333333,
          0.3333333333333333,
          0.3333333333333333,
          0.3333333333333333,
          0.3333333333333333,
          0.3333333333333333,
          0.3333333333333333,
          0.3333333333333333,
          0.3333333333333333,
          0.3333333333333333,
          0.3333333333333333,
          0.3333333333333333,
          0.3333333333333333,
          0.3333333333333333,
          0.3333333333333333,
          0.3333333333333333,
          0.3333333333333333,
          0.3333333333333333,
          0.3333333333333333,
          0.3333333333333333,
          0.3333333333333333,
          0.3333333333333333,
          0.3333333333333333,
          0.3333333333333333,
          0.3333333333333333,
          0.3333333333333333,
          0.3333333333333333,
          0.3333333333333333,
          0.3333333333333333,
          0.3333333333333333,
          0.3333333333333333,
          0.3333333333333333,
          0.3333333333333333,
          0.3333333333333333,
          0.3333333333333333,
          0.3333333333333333,
          0.3333333333333333,
          0.3333333333333333,
          0.3333333333333333,
          0.3333333333333333,
          0.3333333333333333,
          0.3333333333333333,
          0.3333333333333333,
          0.3333333333333333,
          0.3333333333333333,
          0.3333333333333333,
          0.3333333333333333,
          0.3333333333333333,
          0.3333333333333333,
          0.3333333333333333,
          0.3333333333333333,
          0.3333333333333333,
          0.3333333333333333,
          0.3333333333333333,
          0.3333333333333333,
          0.3333333333333333,
          0.3333333333333333,
          0.3333333333333333,
          0.3333333333333333,
          0.3333333333333333,
          0.3333333333333333,
          0.3333333333333333,
          0.3333333333333333,
          0.3333333333333333,
          0.3333333333333333,
          0.3333333333333333,
          0.3333333333333333,
          0.3333333333333333,
          0.3333333333333333,
          0.3333333333333333,
          0.3333333333333333,
          0.3333333333333333,
          0.3333333333333333,
          0.3333333333333333,
          0.3333333333333333,
          0.3333333333333333,
          0.3333333333333333,
          0.3333333333333333,
          0.3333333333333333,
          0.3333333333333333,
          0.3333333333333333,
          0.3333333333333333,
          0.3333333333333333,
          0.3333333333333333,
          0.3333333333333333,
          0.3333333333333333,
          0.3333333333333333,
          0.3333333333333333,
          0.3333333333333333,
          0.3333333333333333,
          0.3333333333333333,
          0.3333333333333333,
          0.3333333333333333,
          0.3333333333333333,
          0.3333333333333333,
          0.3333333333333333,
          0.3333333333333333,
          0.3333333333333333,
          0.3333333333333333,
          0.3333333333333333,
          0.3333333333333333,
          0.3333333333333333,
          0.3333333333333333,
          0.3333333333333333,
          0.3333333333333333,
          0.3333333333333333,
          0.3333333333333333,
          0.3333333333333333,
          0.3333333333333333,
          0.3333333333333333,
          0.3333333333333333,
          0.3333333333333333,
          0.3333333333333333,
          0.3333333333333333,
          0.3333333333333333,
          0.3333333333333333,
          0.3333333333333333,
          0.3333333333333333,
          0.3333333333333333,
          0.3333333333333333,
          0.3333333333333333,
          0.3333333333333333,
          0.3333333333333333,
          0.3333333333333333,
          0.3333333333333333,
          0.3333333333333333,
          0.3333333333333333,
          0.3333333333333333,
          0.3333333333333333,
          0.3333333333333333,
          0.3333333333333333,
          0.3333333333333333,
          0.3333333333333333,
          0.3333333333333333,
          0.3333333333333333,
          0.3333333333333333,
          0.3333333333333333,
          0.3333333333333333,
          0.3333333333333333,
          0.3333333333333333,
          0.3333333333333333,
          0.3333333333333333,
          0.3333333333333333,
          0.3333333333333333,
          0.3333333333333333,
          0.3333333333333333,
          0.3333333333333333,
          0.3333333333333333,
          0.3333333333333333,
          0.3333333333333333,
          0.3333333333333333,
          0.3333333333333333,
          0.3333333333333333,
          0.3333333333333333,
          0.3333333333333333,
          0.3333333333333333,
          0.3333333333333333,
          0.3333333333333333,
          0.3333333333333333,
          0.3333333333333333,
          0.3333333333333333,
          0.3333333333333333,
          0.3333333333333333,
          0.3333333333333333,
          0.3333333333333333,
          0.3333333333333333,
          0.3333333333333333,
          0.3333333333333333,
          0.3333333333333333,
          0.3333333333333333,
          0.3333333333333333,
          0.3333333333333333,
          0.3333333333333333,
          0.3333333333333333,
          0.3333333333333333,
          0.3333333333333333,
          0.3333333333333333,
          0.3333333333333333,
          0.3333333333333333,
          0.3333333333333333,
          0.3333333333333333,
          0.3333333333333333,
          0.3333333333333333,
          0.3333333333333333,
          0.3333333333333333,
          0.3333333333333333,
          0.3333333333333333,
          0.3333333333333333,
          0.3333333333333333,
          0.3333333333333333,
          0.3333333333333333,
          0.3333333333333333,
          0.3333333333333333,
          0.3333333333333333,
          0.3333333333333333,
          0.3333333333333333,
          0.3333333333333333,
          0.3333333333333333,
          0.3333333333333333,
          0.3333333333333333,
          0.3333333333333333,
          0.3333333333333333,
          0.3333333333333333,
          0.3333333333333333,
          0.3333333333333333,
          0.3333333333333333,
          0.3333333333333333,
          0.3333333333333333,
          0.3333333333333333,
          0.3333333333333333,
          0.3333333333333333,
          0.3333333333333333,
          0.3333333333333333,
          0.3333333333333333,
          0.3333333333333333,
          0.3333333333333333,
          0.3333333333333333,
          0.3333333333333333,
          0.3333333333333333,
          0.3333333333333333,
          0.3333333333333333,
          0.3333333333333333,
          0.3333333333333333,
          0.3333333333333333,
          0.3333333333333333,
          0.3333333333333333,
          0.3333333333333333,
          0.3333333333333333,
          0.3333333333333333,
          0.3333333333333333,
          0.3333333333333333,
          0.3333333333333333,
          0.3333333333333333,
          0.3333333333333333,
          0.3333333333333333,
          0.3333333333333333,
          0.3333333333333333,
          0.3333333333333333,
          0.3333333333333333,
          0.3333333333333333,
          0.3333333333333333,
          0.3333333333333333,
          0.3333333333333333,
          0.3333333333333333,
          0.3333333333333333,
          0.3333333333333333,
          0.3333333333333333,
          0.3333333333333333,
          0.3333333333333333,
          0.3333333333333333,
          0.3333333333333333,
          0.3333333333333333,
          0.3333333333333333,
          0.3333333333333333,
          0.3333333333333333,
          0.3333333333333333,
          0.3333333333333333,
          0.3333333333333333,
          0.3333333333333333,
          0.3333333333333333,
          0.3333333333333333,
          0.3333333333333333,
          0.3333333333333333,
          0.3333333333333333,
          0.3333333333333333,
          0.3333333333333333,
          0.3333333333333333,
          0.3333333333333333,
          0.3333333333333333,
          0.3333333333333333,
          0.3333333333333333,
          0.3333333333333333,
          0.3333333333333333,
          0.3333333333333333,
          0.3333333333333333,
          0.3333333333333333,
          0.3333333333333333,
          0.3333333333333333,
          0.3333333333333333,
          0.3333333333333333,
          0.3333333333333333,
          0.3333333333333333,
          0.3333333333333333,
          0.3333333333333333,
          0.3333333333333333,
          0.3333333333333333,
          0.3333333333333333,
          0.3333333333333333,
          0.3333333333333333,
          0.3333333333333333,
          0.3333333333333333,
          0.3333333333333333,
          0.3333333333333333,
          0.3333333333333333,
          0.3333333333333333,
          0.3333333333333333,
          0.3333333333333333,
          0.3333333333333333,
          0.3333333333333333,
          0.3333333333333333,
          0.3333333333333333,
          0.3333333333333333,
          0.3333333333333333,
          0.3333333333333333,
          0.3333333333333333,
          0.3333333333333333,
          0.3333333333333333,
          0.3333333333333333,
          0.3333333333333333,
          0.3333333333333333,
          0.3333333333333333,
          0.3333333333333333,
          0.3333333333333333,
          0.3333333333333333,
          0.3333333333333333,
          0.3333333333333333,
          0.3333333333333333,
          0.3333333333333333,
          0.3333333333333333,
          0.3333333333333333,
          0.3333333333333333,
          0.3333333333333333,
          0.3333333333333333,
          0.3333333333333333,
          0.3333333333333333,
          0.3333333333333333,
          0.3333333333333333,
          0.3333333333333333,
          0.3333333333333333,
          0.3333333333333333,
          0.3333333333333333,
          0.3333333333333333,
          0.3333333333333333,
          0.3333333333333333,
          0.3333333333333333,
          0.3333333333333333,
          0.3333333333333333,
          0.3333333333333333,
          0.3333333333333333,
          0.3333333333333333,
          0.3333333333333333,
          0.3333333333333333,
          0.3333333333333333,
          0.3333333333333333,
          0.3333333333333333,
          0.3333333333333333,
          0.3333333333333333,
          0.3333333333333333,
          0.3333333333333333,
          0.3333333333333333,
          0.3333333333333333,
          0.3333333333333333,
          0.3333333333333333,
          0.3333333333333333,
          0.3333333333333333,
          0.3333333333333333,
          0.3333333333333333,
          0.3333333333333333,
          0.3333333333333333,
          0.3333333333333333,
          0.3333333333333333,
          0.3333333333333333,
          0.3333333333333333,
          0.3333333333333333,
          0.3333333333333333,
          0.3333333333333333,
          0.3333333333333333,
          0.3333333333333333,
          0.3333333333333333,
          0.3333333333333333,
          0.3333333333333333,
          0.3333333333333333,
          0.3333333333333333,
          0.3333333333333333,
          0.3333333333333333,
          0.3333333333333333,
          0.3333333333333333,
          0.3333333333333333,
          0.3333333333333333,
          0.3333333333333333,
          0.3333333333333333,
          0.3333333333333333,
          0.3333333333333333,
          0.3333333333333333,
          0.3333333333333333,
          0.3333333333333333,
          0.3333333333333333,
          0.3333333333333333,
          0.3333333333333333,
          0.3333333333333333,
          0.3333333333333333,
          0.3333333333333333,
          0.3333333333333333,
          0.3333333333333333,
          0.3333333333333333,
          0.3333333333333333,
          0.3333333333333333,
          0.3333333333333333,
          0.3333333333333333,
          0.3333333333333333,
          0.3333333333333333,
          0.3333333333333333,
          0.3333333333333333,
          0.3333333333333333,
          0.3333333333333333,
          0.3333333333333333,
          0.3333333333333333,
          0.3333333333333333,
          0.3333333333333333,
          0.3333333333333333,
          0.3333333333333333,
          0.3333333333333333,
          0.3333333333333333,
          0.3333333333333333,
          0.3333333333333333,
          0.3333333333333333,
          0.3333333333333333,
          0.3333333333333333,
          0.3333333333333333,
          0.3333333333333333,
          0.3333333333333333,
          0.3333333333333333,
          0.3333333333333333,
          0.3333333333333333,
          0.3333333333333333,
          0.3333333333333333,
          0.3333333333333333,
          0.3333333333333333,
          0.3333333333333333,
          0.3333333333333333,
          0.3333333333333333,
          0.3333333333333333,
          0.3333333333333333,
          0.3333333333333333,
          0.3333333333333333,
          0.3333333333333333,
          0.3333333333333333,
          0.3333333333333333,
          0.3333333333333333,
          0.3333333333333333,
          0.3333333333333333,
          0.3333333333333333,
          0.3333333333333333,
          0.3333333333333333,
          0.3333333333333333,
          0.3333333333333333,
          0.3333333333333333,
          0.3333333333333333,
          0.3333333333333333,
          0.3333333333333333,
          0.3333333333333333,
          0.3333333333333333,
          0.3333333333333333,
          0.3333333333333333,
          0.3333333333333333,
          0.3333333333333333,
          0.3333333333333333,
          0.3333333333333333,
          0.3333333333333333,
          0.3333333333333333,
          0.3333333333333333,
          0.3333333333333333,
          0.3333333333333333,
          0.3333333333333333,
          0.3333333333333333,
          0.3333333333333333,
          0.3333333333333333,
          0.3333333333333333,
          0.3333333333333333,
          0.3333333333333333,
          0.3333333333333333,
          0.3333333333333333,
          0.3333333333333333,
          0.3333333333333333,
          0.3333333333333333,
          0.3333333333333333,
          0.3333333333333333,
          0.3333333333333333,
          0.3333333333333333,
          0.3333333333333333,
          0.3333333333333333,
          0.3333333333333333,
          0.3333333333333333,
          0.3333333333333333,
          0.3333333333333333,
          0.3333333333333333,
          0.3333333333333333,
          0.3333333333333333,
          0.3333333333333333,
          0.3333333333333333,
          0.3333333333333333,
          0.3333333333333333,
          0.3333333333333333,
          0.3333333333333333,
          0.3333333333333333,
          0.3333333333333333,
          0.3333333333333333,
          0.3333333333333333,
          0.3333333333333333,
          0.3333333333333333,
          0.3333333333333333,
          0.3333333333333333,
          0.3333333333333333,
          0.3333333333333333,
          0.3333333333333333,
          0.3333333333333333,
          0.3333333333333333,
          0.3333333333333333,
          0.3333333333333333,
          0.3333333333333333,
          0.3333333333333333,
          0.3333333333333333,
          0.3333333333333333,
          0.3333333333333333,
          0.3333333333333333,
          0.3333333333333333,
          0.3333333333333333,
          0.3333333333333333,
          0.3333333333333333,
          0.3333333333333333,
          0.3333333333333333,
          0.3333333333333333,
          0.3333333333333333,
          0.3333333333333333,
          0.3333333333333333,
          0.3333333333333333,
          0.3333333333333333,
          0.3333333333333333,
          0.3333333333333333,
          0.3333333333333333,
          0.3333333333333333,
          0.3333333333333333,
          0.3333333333333333,
          0.3333333333333333,
          0.3333333333333333
         ],
         "yaxis": "y"
        },
        {
         "fillpattern": {
          "shape": ""
         },
         "hovertemplate": "Feeling=Surprise<br>Frame=%{x}<br>Probability=%{y}<extra></extra>",
         "legendgroup": "Surprise",
         "line": {
          "color": "#19D3F3"
         },
         "marker": {
          "symbol": "circle"
         },
         "mode": "lines",
         "name": "Surprise",
         "orientation": "v",
         "showlegend": true,
         "stackgroup": "1",
         "type": "scatter",
         "x": [
          64,
          180,
          184,
          189,
          192,
          193,
          214,
          215,
          216,
          217,
          218,
          219,
          228,
          229,
          230,
          231,
          232,
          233,
          234,
          235,
          236,
          237,
          238,
          239,
          240,
          241,
          269,
          270,
          271,
          272,
          273,
          274,
          275,
          276,
          277,
          278,
          279,
          280,
          281,
          282,
          285,
          286,
          287,
          288,
          289,
          290,
          291,
          292,
          294,
          295,
          296,
          297,
          298,
          299,
          300,
          301,
          302,
          303,
          304,
          305,
          306,
          308,
          309,
          310,
          311,
          312,
          313,
          314,
          315,
          349,
          350,
          351,
          352,
          353,
          354,
          355,
          356,
          357,
          358,
          359,
          360,
          361,
          362,
          363,
          364,
          385,
          386,
          387,
          388,
          389,
          392,
          393,
          394,
          415,
          416,
          417,
          418,
          419,
          430,
          448,
          449,
          450,
          451,
          452,
          453,
          454,
          455,
          456,
          457,
          458,
          464,
          465,
          466,
          467,
          499,
          500,
          501,
          502,
          503,
          504,
          505,
          506,
          508,
          509,
          510,
          511,
          515,
          516,
          525,
          548,
          549,
          550,
          552,
          553,
          555,
          671,
          680,
          682,
          795,
          796,
          798,
          799,
          802,
          804,
          806,
          808,
          809,
          810,
          838,
          839,
          840,
          841,
          843,
          850,
          858,
          859,
          860,
          861,
          862,
          863,
          864,
          865,
          866,
          867,
          871,
          872,
          873,
          875,
          876,
          877,
          878,
          879,
          1001,
          1002,
          1003,
          1005,
          1006,
          1016,
          1018,
          1021,
          1022,
          1024,
          1025,
          1027,
          1030,
          1038,
          1039,
          1040,
          1041,
          1042,
          1043,
          1044,
          1046,
          1089,
          1090,
          1094
         ],
         "xaxis": "x",
         "y": [
          0.3333333333333333,
          0.3333333333333333,
          0.3333333333333333,
          0.3333333333333333,
          0.3333333333333333,
          0.3333333333333333,
          0.3333333333333333,
          0.3333333333333333,
          0.3333333333333333,
          0.3333333333333333,
          0.3333333333333333,
          0.3333333333333333,
          0.3333333333333333,
          0.3333333333333333,
          0.3333333333333333,
          0.3333333333333333,
          0.3333333333333333,
          0.3333333333333333,
          0.3333333333333333,
          0.3333333333333333,
          0.3333333333333333,
          0.3333333333333333,
          0.3333333333333333,
          0.3333333333333333,
          0.3333333333333333,
          0.3333333333333333,
          0.3333333333333333,
          0.3333333333333333,
          0.3333333333333333,
          0.3333333333333333,
          0.3333333333333333,
          0.3333333333333333,
          0.3333333333333333,
          0.3333333333333333,
          0.3333333333333333,
          0.3333333333333333,
          0.3333333333333333,
          0.3333333333333333,
          0.3333333333333333,
          0.3333333333333333,
          0.3333333333333333,
          0.3333333333333333,
          0.3333333333333333,
          0.3333333333333333,
          0.3333333333333333,
          0.3333333333333333,
          0.3333333333333333,
          0.3333333333333333,
          0.3333333333333333,
          0.3333333333333333,
          0.3333333333333333,
          0.3333333333333333,
          0.3333333333333333,
          0.3333333333333333,
          0.3333333333333333,
          0.3333333333333333,
          0.3333333333333333,
          0.3333333333333333,
          0.3333333333333333,
          0.3333333333333333,
          0.3333333333333333,
          0.3333333333333333,
          0.3333333333333333,
          0.3333333333333333,
          0.3333333333333333,
          0.3333333333333333,
          0.3333333333333333,
          0.3333333333333333,
          0.3333333333333333,
          0.3333333333333333,
          0.3333333333333333,
          0.3333333333333333,
          0.3333333333333333,
          0.3333333333333333,
          0.3333333333333333,
          0.3333333333333333,
          0.3333333333333333,
          0.3333333333333333,
          0.3333333333333333,
          0.3333333333333333,
          0.3333333333333333,
          0.3333333333333333,
          0.3333333333333333,
          0.3333333333333333,
          0.3333333333333333,
          0.3333333333333333,
          0.3333333333333333,
          0.3333333333333333,
          0.3333333333333333,
          0.3333333333333333,
          0.3333333333333333,
          0.3333333333333333,
          0.3333333333333333,
          0.3333333333333333,
          0.3333333333333333,
          0.3333333333333333,
          0.3333333333333333,
          0.3333333333333333,
          0.3333333333333333,
          0.3333333333333333,
          0.3333333333333333,
          0.3333333333333333,
          0.3333333333333333,
          0.3333333333333333,
          0.3333333333333333,
          0.3333333333333333,
          0.3333333333333333,
          0.3333333333333333,
          0.3333333333333333,
          0.3333333333333333,
          0.3333333333333333,
          0.3333333333333333,
          0.3333333333333333,
          0.3333333333333333,
          0.3333333333333333,
          0.3333333333333333,
          0.3333333333333333,
          0.3333333333333333,
          0.3333333333333333,
          0.3333333333333333,
          0.3333333333333333,
          0.3333333333333333,
          0.3333333333333333,
          0.3333333333333333,
          0.3333333333333333,
          0.3333333333333333,
          0.3333333333333333,
          0.3333333333333333,
          0.3333333333333333,
          0.3333333333333333,
          0.3333333333333333,
          0.3333333333333333,
          0.3333333333333333,
          0.3333333333333333,
          0.3333333333333333,
          0.3333333333333333,
          0.3333333333333333,
          0.3333333333333333,
          0.3333333333333333,
          0.3333333333333333,
          0.3333333333333333,
          0.3333333333333333,
          0.3333333333333333,
          0.3333333333333333,
          0.3333333333333333,
          0.3333333333333333,
          0.3333333333333333,
          0.3333333333333333,
          0.3333333333333333,
          0.3333333333333333,
          0.3333333333333333,
          0.3333333333333333,
          0.3333333333333333,
          0.3333333333333333,
          0.3333333333333333,
          0.3333333333333333,
          0.3333333333333333,
          0.3333333333333333,
          0.3333333333333333,
          0.3333333333333333,
          0.3333333333333333,
          0.3333333333333333,
          0.3333333333333333,
          0.3333333333333333,
          0.3333333333333333,
          0.3333333333333333,
          0.3333333333333333,
          0.3333333333333333,
          0.3333333333333333,
          0.3333333333333333,
          0.3333333333333333,
          0.3333333333333333,
          0.3333333333333333,
          0.3333333333333333,
          0.3333333333333333,
          0.3333333333333333,
          0.3333333333333333,
          0.3333333333333333,
          0.3333333333333333,
          0.3333333333333333,
          0.3333333333333333,
          0.3333333333333333,
          0.3333333333333333,
          0.3333333333333333,
          0.3333333333333333,
          0.3333333333333333,
          0.3333333333333333,
          0.3333333333333333,
          0.3333333333333333,
          0.3333333333333333,
          0.3333333333333333,
          0.3333333333333333,
          0.3333333333333333,
          0.3333333333333333,
          0.3333333333333333,
          0.3333333333333333
         ],
         "yaxis": "y"
        },
        {
         "fillpattern": {
          "shape": ""
         },
         "hovertemplate": "Feeling=Disgust<br>Frame=%{x}<br>Probability=%{y}<extra></extra>",
         "legendgroup": "Disgust",
         "line": {
          "color": "#FF6692"
         },
         "marker": {
          "symbol": "circle"
         },
         "mode": "lines",
         "name": "Disgust",
         "orientation": "v",
         "showlegend": true,
         "stackgroup": "1",
         "type": "scatter",
         "x": [
          530,
          544,
          545,
          546,
          547,
          551,
          583,
          633,
          634,
          635,
          636,
          637,
          638,
          639,
          640,
          641,
          642,
          643,
          644,
          645,
          646,
          647,
          744
         ],
         "xaxis": "x",
         "y": [
          0.3333333333333333,
          0.3333333333333333,
          0.3333333333333333,
          0.3333333333333333,
          0.3333333333333333,
          0.3333333333333333,
          0.3333333333333333,
          0.3333333333333333,
          0.3333333333333333,
          0.3333333333333333,
          0.3333333333333333,
          0.3333333333333333,
          0.3333333333333333,
          0.3333333333333333,
          0.3333333333333333,
          0.3333333333333333,
          0.3333333333333333,
          0.3333333333333333,
          0.3333333333333333,
          0.3333333333333333,
          0.3333333333333333,
          0.3333333333333333,
          0.3333333333333333
         ],
         "yaxis": "y"
        }
       ],
       "layout": {
        "legend": {
         "title": {
          "text": "Feeling"
         },
         "tracegroupgap": 0
        },
        "template": {
         "data": {
          "bar": [
           {
            "error_x": {
             "color": "#2a3f5f"
            },
            "error_y": {
             "color": "#2a3f5f"
            },
            "marker": {
             "line": {
              "color": "#E5ECF6",
              "width": 0.5
             },
             "pattern": {
              "fillmode": "overlay",
              "size": 10,
              "solidity": 0.2
             }
            },
            "type": "bar"
           }
          ],
          "barpolar": [
           {
            "marker": {
             "line": {
              "color": "#E5ECF6",
              "width": 0.5
             },
             "pattern": {
              "fillmode": "overlay",
              "size": 10,
              "solidity": 0.2
             }
            },
            "type": "barpolar"
           }
          ],
          "carpet": [
           {
            "aaxis": {
             "endlinecolor": "#2a3f5f",
             "gridcolor": "white",
             "linecolor": "white",
             "minorgridcolor": "white",
             "startlinecolor": "#2a3f5f"
            },
            "baxis": {
             "endlinecolor": "#2a3f5f",
             "gridcolor": "white",
             "linecolor": "white",
             "minorgridcolor": "white",
             "startlinecolor": "#2a3f5f"
            },
            "type": "carpet"
           }
          ],
          "choropleth": [
           {
            "colorbar": {
             "outlinewidth": 0,
             "ticks": ""
            },
            "type": "choropleth"
           }
          ],
          "contour": [
           {
            "colorbar": {
             "outlinewidth": 0,
             "ticks": ""
            },
            "colorscale": [
             [
              0,
              "#0d0887"
             ],
             [
              0.1111111111111111,
              "#46039f"
             ],
             [
              0.2222222222222222,
              "#7201a8"
             ],
             [
              0.3333333333333333,
              "#9c179e"
             ],
             [
              0.4444444444444444,
              "#bd3786"
             ],
             [
              0.5555555555555556,
              "#d8576b"
             ],
             [
              0.6666666666666666,
              "#ed7953"
             ],
             [
              0.7777777777777778,
              "#fb9f3a"
             ],
             [
              0.8888888888888888,
              "#fdca26"
             ],
             [
              1,
              "#f0f921"
             ]
            ],
            "type": "contour"
           }
          ],
          "contourcarpet": [
           {
            "colorbar": {
             "outlinewidth": 0,
             "ticks": ""
            },
            "type": "contourcarpet"
           }
          ],
          "heatmap": [
           {
            "colorbar": {
             "outlinewidth": 0,
             "ticks": ""
            },
            "colorscale": [
             [
              0,
              "#0d0887"
             ],
             [
              0.1111111111111111,
              "#46039f"
             ],
             [
              0.2222222222222222,
              "#7201a8"
             ],
             [
              0.3333333333333333,
              "#9c179e"
             ],
             [
              0.4444444444444444,
              "#bd3786"
             ],
             [
              0.5555555555555556,
              "#d8576b"
             ],
             [
              0.6666666666666666,
              "#ed7953"
             ],
             [
              0.7777777777777778,
              "#fb9f3a"
             ],
             [
              0.8888888888888888,
              "#fdca26"
             ],
             [
              1,
              "#f0f921"
             ]
            ],
            "type": "heatmap"
           }
          ],
          "heatmapgl": [
           {
            "colorbar": {
             "outlinewidth": 0,
             "ticks": ""
            },
            "colorscale": [
             [
              0,
              "#0d0887"
             ],
             [
              0.1111111111111111,
              "#46039f"
             ],
             [
              0.2222222222222222,
              "#7201a8"
             ],
             [
              0.3333333333333333,
              "#9c179e"
             ],
             [
              0.4444444444444444,
              "#bd3786"
             ],
             [
              0.5555555555555556,
              "#d8576b"
             ],
             [
              0.6666666666666666,
              "#ed7953"
             ],
             [
              0.7777777777777778,
              "#fb9f3a"
             ],
             [
              0.8888888888888888,
              "#fdca26"
             ],
             [
              1,
              "#f0f921"
             ]
            ],
            "type": "heatmapgl"
           }
          ],
          "histogram": [
           {
            "marker": {
             "pattern": {
              "fillmode": "overlay",
              "size": 10,
              "solidity": 0.2
             }
            },
            "type": "histogram"
           }
          ],
          "histogram2d": [
           {
            "colorbar": {
             "outlinewidth": 0,
             "ticks": ""
            },
            "colorscale": [
             [
              0,
              "#0d0887"
             ],
             [
              0.1111111111111111,
              "#46039f"
             ],
             [
              0.2222222222222222,
              "#7201a8"
             ],
             [
              0.3333333333333333,
              "#9c179e"
             ],
             [
              0.4444444444444444,
              "#bd3786"
             ],
             [
              0.5555555555555556,
              "#d8576b"
             ],
             [
              0.6666666666666666,
              "#ed7953"
             ],
             [
              0.7777777777777778,
              "#fb9f3a"
             ],
             [
              0.8888888888888888,
              "#fdca26"
             ],
             [
              1,
              "#f0f921"
             ]
            ],
            "type": "histogram2d"
           }
          ],
          "histogram2dcontour": [
           {
            "colorbar": {
             "outlinewidth": 0,
             "ticks": ""
            },
            "colorscale": [
             [
              0,
              "#0d0887"
             ],
             [
              0.1111111111111111,
              "#46039f"
             ],
             [
              0.2222222222222222,
              "#7201a8"
             ],
             [
              0.3333333333333333,
              "#9c179e"
             ],
             [
              0.4444444444444444,
              "#bd3786"
             ],
             [
              0.5555555555555556,
              "#d8576b"
             ],
             [
              0.6666666666666666,
              "#ed7953"
             ],
             [
              0.7777777777777778,
              "#fb9f3a"
             ],
             [
              0.8888888888888888,
              "#fdca26"
             ],
             [
              1,
              "#f0f921"
             ]
            ],
            "type": "histogram2dcontour"
           }
          ],
          "mesh3d": [
           {
            "colorbar": {
             "outlinewidth": 0,
             "ticks": ""
            },
            "type": "mesh3d"
           }
          ],
          "parcoords": [
           {
            "line": {
             "colorbar": {
              "outlinewidth": 0,
              "ticks": ""
             }
            },
            "type": "parcoords"
           }
          ],
          "pie": [
           {
            "automargin": true,
            "type": "pie"
           }
          ],
          "scatter": [
           {
            "fillpattern": {
             "fillmode": "overlay",
             "size": 10,
             "solidity": 0.2
            },
            "type": "scatter"
           }
          ],
          "scatter3d": [
           {
            "line": {
             "colorbar": {
              "outlinewidth": 0,
              "ticks": ""
             }
            },
            "marker": {
             "colorbar": {
              "outlinewidth": 0,
              "ticks": ""
             }
            },
            "type": "scatter3d"
           }
          ],
          "scattercarpet": [
           {
            "marker": {
             "colorbar": {
              "outlinewidth": 0,
              "ticks": ""
             }
            },
            "type": "scattercarpet"
           }
          ],
          "scattergeo": [
           {
            "marker": {
             "colorbar": {
              "outlinewidth": 0,
              "ticks": ""
             }
            },
            "type": "scattergeo"
           }
          ],
          "scattergl": [
           {
            "marker": {
             "colorbar": {
              "outlinewidth": 0,
              "ticks": ""
             }
            },
            "type": "scattergl"
           }
          ],
          "scattermapbox": [
           {
            "marker": {
             "colorbar": {
              "outlinewidth": 0,
              "ticks": ""
             }
            },
            "type": "scattermapbox"
           }
          ],
          "scatterpolar": [
           {
            "marker": {
             "colorbar": {
              "outlinewidth": 0,
              "ticks": ""
             }
            },
            "type": "scatterpolar"
           }
          ],
          "scatterpolargl": [
           {
            "marker": {
             "colorbar": {
              "outlinewidth": 0,
              "ticks": ""
             }
            },
            "type": "scatterpolargl"
           }
          ],
          "scatterternary": [
           {
            "marker": {
             "colorbar": {
              "outlinewidth": 0,
              "ticks": ""
             }
            },
            "type": "scatterternary"
           }
          ],
          "surface": [
           {
            "colorbar": {
             "outlinewidth": 0,
             "ticks": ""
            },
            "colorscale": [
             [
              0,
              "#0d0887"
             ],
             [
              0.1111111111111111,
              "#46039f"
             ],
             [
              0.2222222222222222,
              "#7201a8"
             ],
             [
              0.3333333333333333,
              "#9c179e"
             ],
             [
              0.4444444444444444,
              "#bd3786"
             ],
             [
              0.5555555555555556,
              "#d8576b"
             ],
             [
              0.6666666666666666,
              "#ed7953"
             ],
             [
              0.7777777777777778,
              "#fb9f3a"
             ],
             [
              0.8888888888888888,
              "#fdca26"
             ],
             [
              1,
              "#f0f921"
             ]
            ],
            "type": "surface"
           }
          ],
          "table": [
           {
            "cells": {
             "fill": {
              "color": "#EBF0F8"
             },
             "line": {
              "color": "white"
             }
            },
            "header": {
             "fill": {
              "color": "#C8D4E3"
             },
             "line": {
              "color": "white"
             }
            },
            "type": "table"
           }
          ]
         },
         "layout": {
          "annotationdefaults": {
           "arrowcolor": "#2a3f5f",
           "arrowhead": 0,
           "arrowwidth": 1
          },
          "autotypenumbers": "strict",
          "coloraxis": {
           "colorbar": {
            "outlinewidth": 0,
            "ticks": ""
           }
          },
          "colorscale": {
           "diverging": [
            [
             0,
             "#8e0152"
            ],
            [
             0.1,
             "#c51b7d"
            ],
            [
             0.2,
             "#de77ae"
            ],
            [
             0.3,
             "#f1b6da"
            ],
            [
             0.4,
             "#fde0ef"
            ],
            [
             0.5,
             "#f7f7f7"
            ],
            [
             0.6,
             "#e6f5d0"
            ],
            [
             0.7,
             "#b8e186"
            ],
            [
             0.8,
             "#7fbc41"
            ],
            [
             0.9,
             "#4d9221"
            ],
            [
             1,
             "#276419"
            ]
           ],
           "sequential": [
            [
             0,
             "#0d0887"
            ],
            [
             0.1111111111111111,
             "#46039f"
            ],
            [
             0.2222222222222222,
             "#7201a8"
            ],
            [
             0.3333333333333333,
             "#9c179e"
            ],
            [
             0.4444444444444444,
             "#bd3786"
            ],
            [
             0.5555555555555556,
             "#d8576b"
            ],
            [
             0.6666666666666666,
             "#ed7953"
            ],
            [
             0.7777777777777778,
             "#fb9f3a"
            ],
            [
             0.8888888888888888,
             "#fdca26"
            ],
            [
             1,
             "#f0f921"
            ]
           ],
           "sequentialminus": [
            [
             0,
             "#0d0887"
            ],
            [
             0.1111111111111111,
             "#46039f"
            ],
            [
             0.2222222222222222,
             "#7201a8"
            ],
            [
             0.3333333333333333,
             "#9c179e"
            ],
            [
             0.4444444444444444,
             "#bd3786"
            ],
            [
             0.5555555555555556,
             "#d8576b"
            ],
            [
             0.6666666666666666,
             "#ed7953"
            ],
            [
             0.7777777777777778,
             "#fb9f3a"
            ],
            [
             0.8888888888888888,
             "#fdca26"
            ],
            [
             1,
             "#f0f921"
            ]
           ]
          },
          "colorway": [
           "#636efa",
           "#EF553B",
           "#00cc96",
           "#ab63fa",
           "#FFA15A",
           "#19d3f3",
           "#FF6692",
           "#B6E880",
           "#FF97FF",
           "#FECB52"
          ],
          "font": {
           "color": "#2a3f5f"
          },
          "geo": {
           "bgcolor": "white",
           "lakecolor": "white",
           "landcolor": "#E5ECF6",
           "showlakes": true,
           "showland": true,
           "subunitcolor": "white"
          },
          "hoverlabel": {
           "align": "left"
          },
          "hovermode": "closest",
          "mapbox": {
           "style": "light"
          },
          "paper_bgcolor": "white",
          "plot_bgcolor": "#E5ECF6",
          "polar": {
           "angularaxis": {
            "gridcolor": "white",
            "linecolor": "white",
            "ticks": ""
           },
           "bgcolor": "#E5ECF6",
           "radialaxis": {
            "gridcolor": "white",
            "linecolor": "white",
            "ticks": ""
           }
          },
          "scene": {
           "xaxis": {
            "backgroundcolor": "#E5ECF6",
            "gridcolor": "white",
            "gridwidth": 2,
            "linecolor": "white",
            "showbackground": true,
            "ticks": "",
            "zerolinecolor": "white"
           },
           "yaxis": {
            "backgroundcolor": "#E5ECF6",
            "gridcolor": "white",
            "gridwidth": 2,
            "linecolor": "white",
            "showbackground": true,
            "ticks": "",
            "zerolinecolor": "white"
           },
           "zaxis": {
            "backgroundcolor": "#E5ECF6",
            "gridcolor": "white",
            "gridwidth": 2,
            "linecolor": "white",
            "showbackground": true,
            "ticks": "",
            "zerolinecolor": "white"
           }
          },
          "shapedefaults": {
           "line": {
            "color": "#2a3f5f"
           }
          },
          "ternary": {
           "aaxis": {
            "gridcolor": "white",
            "linecolor": "white",
            "ticks": ""
           },
           "baxis": {
            "gridcolor": "white",
            "linecolor": "white",
            "ticks": ""
           },
           "bgcolor": "#E5ECF6",
           "caxis": {
            "gridcolor": "white",
            "linecolor": "white",
            "ticks": ""
           }
          },
          "title": {
           "x": 0.05
          },
          "xaxis": {
           "automargin": true,
           "gridcolor": "white",
           "linecolor": "white",
           "ticks": "",
           "title": {
            "standoff": 15
           },
           "zerolinecolor": "white",
           "zerolinewidth": 2
          },
          "yaxis": {
           "automargin": true,
           "gridcolor": "white",
           "linecolor": "white",
           "ticks": "",
           "title": {
            "standoff": 15
           },
           "zerolinecolor": "white",
           "zerolinewidth": 2
          }
         }
        },
        "title": {
         "text": "Normalized Feeling Distribution"
        },
        "xaxis": {
         "anchor": "y",
         "domain": [
          0,
          1
         ],
         "title": {
          "text": "Frame"
         }
        },
        "yaxis": {
         "anchor": "x",
         "domain": [
          0,
          1
         ],
         "title": {
          "text": "Probability"
         }
        }
       }
      }
     },
     "metadata": {},
     "output_type": "display_data"
    }
   ],
   "source": [
    "\n",
    "# sort dataframe by probability within each frame\n",
    "sorted_df = df.sort_values(['Frame', 'probability'], ascending=[True, False])\n",
    "\n",
    "# get the top three probabilities for each frame\n",
    "top_three_probs = sorted_df.groupby('Frame').head(3)\n",
    "\n",
    "# count the number of occurrences of each feeling for each frame\n",
    "feeling_counts = top_three_probs.groupby(['Frame', 'feeling'])['probability'].count().reset_index()\n",
    "\n",
    "# calculate the total probability for each frame\n",
    "frame_total = feeling_counts.groupby('Frame')['probability'].sum().reset_index()\n",
    "\n",
    "# merge the feeling counts and frame totals dataframes\n",
    "merged = pd.merge(feeling_counts, frame_total, on='Frame', suffixes=('_count', '_total'))\n",
    "\n",
    "# calculate the normalized distribution of each feeling for each frame\n",
    "merged['probability_normalized'] = merged['probability_count'] / merged['probability_total']\n",
    "\n",
    "# create a stacked area chart using Plotly\n",
    "fig = px.area(\n",
    "    merged, \n",
    "    x='Frame', \n",
    "    y='probability_normalized', \n",
    "    color='feeling', \n",
    "    color_discrete_sequence=px.colors.qualitative.Plotly,\n",
    "    title='Normalized Feeling Distribution',\n",
    "    labels={\n",
    "        'Frame': 'Frame',\n",
    "        'probability_normalized': 'Probability',\n",
    "        'feeling': 'Feeling'\n",
    "    }\n",
    ")\n",
    "\n",
    "fig.show()\n"
   ]
  },
  {
   "cell_type": "code",
   "execution_count": null,
   "metadata": {},
   "outputs": [
    {
     "data": {
      "application/vnd.plotly.v1+json": {
       "config": {
        "plotlyServerURL": "https://plot.ly"
       },
       "data": [
        {
         "type": "bar",
         "x": [
          "Angry",
          "Disgust",
          "Fear",
          "Happy",
          "Neutral",
          "Sad",
          "Surprise"
         ],
         "y": [
          58,
          6,
          233,
          243,
          218,
          365,
          18
         ]
        }
       ],
       "layout": {
        "template": {
         "data": {
          "bar": [
           {
            "error_x": {
             "color": "#2a3f5f"
            },
            "error_y": {
             "color": "#2a3f5f"
            },
            "marker": {
             "line": {
              "color": "#E5ECF6",
              "width": 0.5
             },
             "pattern": {
              "fillmode": "overlay",
              "size": 10,
              "solidity": 0.2
             }
            },
            "type": "bar"
           }
          ],
          "barpolar": [
           {
            "marker": {
             "line": {
              "color": "#E5ECF6",
              "width": 0.5
             },
             "pattern": {
              "fillmode": "overlay",
              "size": 10,
              "solidity": 0.2
             }
            },
            "type": "barpolar"
           }
          ],
          "carpet": [
           {
            "aaxis": {
             "endlinecolor": "#2a3f5f",
             "gridcolor": "white",
             "linecolor": "white",
             "minorgridcolor": "white",
             "startlinecolor": "#2a3f5f"
            },
            "baxis": {
             "endlinecolor": "#2a3f5f",
             "gridcolor": "white",
             "linecolor": "white",
             "minorgridcolor": "white",
             "startlinecolor": "#2a3f5f"
            },
            "type": "carpet"
           }
          ],
          "choropleth": [
           {
            "colorbar": {
             "outlinewidth": 0,
             "ticks": ""
            },
            "type": "choropleth"
           }
          ],
          "contour": [
           {
            "colorbar": {
             "outlinewidth": 0,
             "ticks": ""
            },
            "colorscale": [
             [
              0,
              "#0d0887"
             ],
             [
              0.1111111111111111,
              "#46039f"
             ],
             [
              0.2222222222222222,
              "#7201a8"
             ],
             [
              0.3333333333333333,
              "#9c179e"
             ],
             [
              0.4444444444444444,
              "#bd3786"
             ],
             [
              0.5555555555555556,
              "#d8576b"
             ],
             [
              0.6666666666666666,
              "#ed7953"
             ],
             [
              0.7777777777777778,
              "#fb9f3a"
             ],
             [
              0.8888888888888888,
              "#fdca26"
             ],
             [
              1,
              "#f0f921"
             ]
            ],
            "type": "contour"
           }
          ],
          "contourcarpet": [
           {
            "colorbar": {
             "outlinewidth": 0,
             "ticks": ""
            },
            "type": "contourcarpet"
           }
          ],
          "heatmap": [
           {
            "colorbar": {
             "outlinewidth": 0,
             "ticks": ""
            },
            "colorscale": [
             [
              0,
              "#0d0887"
             ],
             [
              0.1111111111111111,
              "#46039f"
             ],
             [
              0.2222222222222222,
              "#7201a8"
             ],
             [
              0.3333333333333333,
              "#9c179e"
             ],
             [
              0.4444444444444444,
              "#bd3786"
             ],
             [
              0.5555555555555556,
              "#d8576b"
             ],
             [
              0.6666666666666666,
              "#ed7953"
             ],
             [
              0.7777777777777778,
              "#fb9f3a"
             ],
             [
              0.8888888888888888,
              "#fdca26"
             ],
             [
              1,
              "#f0f921"
             ]
            ],
            "type": "heatmap"
           }
          ],
          "heatmapgl": [
           {
            "colorbar": {
             "outlinewidth": 0,
             "ticks": ""
            },
            "colorscale": [
             [
              0,
              "#0d0887"
             ],
             [
              0.1111111111111111,
              "#46039f"
             ],
             [
              0.2222222222222222,
              "#7201a8"
             ],
             [
              0.3333333333333333,
              "#9c179e"
             ],
             [
              0.4444444444444444,
              "#bd3786"
             ],
             [
              0.5555555555555556,
              "#d8576b"
             ],
             [
              0.6666666666666666,
              "#ed7953"
             ],
             [
              0.7777777777777778,
              "#fb9f3a"
             ],
             [
              0.8888888888888888,
              "#fdca26"
             ],
             [
              1,
              "#f0f921"
             ]
            ],
            "type": "heatmapgl"
           }
          ],
          "histogram": [
           {
            "marker": {
             "pattern": {
              "fillmode": "overlay",
              "size": 10,
              "solidity": 0.2
             }
            },
            "type": "histogram"
           }
          ],
          "histogram2d": [
           {
            "colorbar": {
             "outlinewidth": 0,
             "ticks": ""
            },
            "colorscale": [
             [
              0,
              "#0d0887"
             ],
             [
              0.1111111111111111,
              "#46039f"
             ],
             [
              0.2222222222222222,
              "#7201a8"
             ],
             [
              0.3333333333333333,
              "#9c179e"
             ],
             [
              0.4444444444444444,
              "#bd3786"
             ],
             [
              0.5555555555555556,
              "#d8576b"
             ],
             [
              0.6666666666666666,
              "#ed7953"
             ],
             [
              0.7777777777777778,
              "#fb9f3a"
             ],
             [
              0.8888888888888888,
              "#fdca26"
             ],
             [
              1,
              "#f0f921"
             ]
            ],
            "type": "histogram2d"
           }
          ],
          "histogram2dcontour": [
           {
            "colorbar": {
             "outlinewidth": 0,
             "ticks": ""
            },
            "colorscale": [
             [
              0,
              "#0d0887"
             ],
             [
              0.1111111111111111,
              "#46039f"
             ],
             [
              0.2222222222222222,
              "#7201a8"
             ],
             [
              0.3333333333333333,
              "#9c179e"
             ],
             [
              0.4444444444444444,
              "#bd3786"
             ],
             [
              0.5555555555555556,
              "#d8576b"
             ],
             [
              0.6666666666666666,
              "#ed7953"
             ],
             [
              0.7777777777777778,
              "#fb9f3a"
             ],
             [
              0.8888888888888888,
              "#fdca26"
             ],
             [
              1,
              "#f0f921"
             ]
            ],
            "type": "histogram2dcontour"
           }
          ],
          "mesh3d": [
           {
            "colorbar": {
             "outlinewidth": 0,
             "ticks": ""
            },
            "type": "mesh3d"
           }
          ],
          "parcoords": [
           {
            "line": {
             "colorbar": {
              "outlinewidth": 0,
              "ticks": ""
             }
            },
            "type": "parcoords"
           }
          ],
          "pie": [
           {
            "automargin": true,
            "type": "pie"
           }
          ],
          "scatter": [
           {
            "fillpattern": {
             "fillmode": "overlay",
             "size": 10,
             "solidity": 0.2
            },
            "type": "scatter"
           }
          ],
          "scatter3d": [
           {
            "line": {
             "colorbar": {
              "outlinewidth": 0,
              "ticks": ""
             }
            },
            "marker": {
             "colorbar": {
              "outlinewidth": 0,
              "ticks": ""
             }
            },
            "type": "scatter3d"
           }
          ],
          "scattercarpet": [
           {
            "marker": {
             "colorbar": {
              "outlinewidth": 0,
              "ticks": ""
             }
            },
            "type": "scattercarpet"
           }
          ],
          "scattergeo": [
           {
            "marker": {
             "colorbar": {
              "outlinewidth": 0,
              "ticks": ""
             }
            },
            "type": "scattergeo"
           }
          ],
          "scattergl": [
           {
            "marker": {
             "colorbar": {
              "outlinewidth": 0,
              "ticks": ""
             }
            },
            "type": "scattergl"
           }
          ],
          "scattermapbox": [
           {
            "marker": {
             "colorbar": {
              "outlinewidth": 0,
              "ticks": ""
             }
            },
            "type": "scattermapbox"
           }
          ],
          "scatterpolar": [
           {
            "marker": {
             "colorbar": {
              "outlinewidth": 0,
              "ticks": ""
             }
            },
            "type": "scatterpolar"
           }
          ],
          "scatterpolargl": [
           {
            "marker": {
             "colorbar": {
              "outlinewidth": 0,
              "ticks": ""
             }
            },
            "type": "scatterpolargl"
           }
          ],
          "scatterternary": [
           {
            "marker": {
             "colorbar": {
              "outlinewidth": 0,
              "ticks": ""
             }
            },
            "type": "scatterternary"
           }
          ],
          "surface": [
           {
            "colorbar": {
             "outlinewidth": 0,
             "ticks": ""
            },
            "colorscale": [
             [
              0,
              "#0d0887"
             ],
             [
              0.1111111111111111,
              "#46039f"
             ],
             [
              0.2222222222222222,
              "#7201a8"
             ],
             [
              0.3333333333333333,
              "#9c179e"
             ],
             [
              0.4444444444444444,
              "#bd3786"
             ],
             [
              0.5555555555555556,
              "#d8576b"
             ],
             [
              0.6666666666666666,
              "#ed7953"
             ],
             [
              0.7777777777777778,
              "#fb9f3a"
             ],
             [
              0.8888888888888888,
              "#fdca26"
             ],
             [
              1,
              "#f0f921"
             ]
            ],
            "type": "surface"
           }
          ],
          "table": [
           {
            "cells": {
             "fill": {
              "color": "#EBF0F8"
             },
             "line": {
              "color": "white"
             }
            },
            "header": {
             "fill": {
              "color": "#C8D4E3"
             },
             "line": {
              "color": "white"
             }
            },
            "type": "table"
           }
          ]
         },
         "layout": {
          "annotationdefaults": {
           "arrowcolor": "#2a3f5f",
           "arrowhead": 0,
           "arrowwidth": 1
          },
          "autotypenumbers": "strict",
          "coloraxis": {
           "colorbar": {
            "outlinewidth": 0,
            "ticks": ""
           }
          },
          "colorscale": {
           "diverging": [
            [
             0,
             "#8e0152"
            ],
            [
             0.1,
             "#c51b7d"
            ],
            [
             0.2,
             "#de77ae"
            ],
            [
             0.3,
             "#f1b6da"
            ],
            [
             0.4,
             "#fde0ef"
            ],
            [
             0.5,
             "#f7f7f7"
            ],
            [
             0.6,
             "#e6f5d0"
            ],
            [
             0.7,
             "#b8e186"
            ],
            [
             0.8,
             "#7fbc41"
            ],
            [
             0.9,
             "#4d9221"
            ],
            [
             1,
             "#276419"
            ]
           ],
           "sequential": [
            [
             0,
             "#0d0887"
            ],
            [
             0.1111111111111111,
             "#46039f"
            ],
            [
             0.2222222222222222,
             "#7201a8"
            ],
            [
             0.3333333333333333,
             "#9c179e"
            ],
            [
             0.4444444444444444,
             "#bd3786"
            ],
            [
             0.5555555555555556,
             "#d8576b"
            ],
            [
             0.6666666666666666,
             "#ed7953"
            ],
            [
             0.7777777777777778,
             "#fb9f3a"
            ],
            [
             0.8888888888888888,
             "#fdca26"
            ],
            [
             1,
             "#f0f921"
            ]
           ],
           "sequentialminus": [
            [
             0,
             "#0d0887"
            ],
            [
             0.1111111111111111,
             "#46039f"
            ],
            [
             0.2222222222222222,
             "#7201a8"
            ],
            [
             0.3333333333333333,
             "#9c179e"
            ],
            [
             0.4444444444444444,
             "#bd3786"
            ],
            [
             0.5555555555555556,
             "#d8576b"
            ],
            [
             0.6666666666666666,
             "#ed7953"
            ],
            [
             0.7777777777777778,
             "#fb9f3a"
            ],
            [
             0.8888888888888888,
             "#fdca26"
            ],
            [
             1,
             "#f0f921"
            ]
           ]
          },
          "colorway": [
           "#636efa",
           "#EF553B",
           "#00cc96",
           "#ab63fa",
           "#FFA15A",
           "#19d3f3",
           "#FF6692",
           "#B6E880",
           "#FF97FF",
           "#FECB52"
          ],
          "font": {
           "color": "#2a3f5f"
          },
          "geo": {
           "bgcolor": "white",
           "lakecolor": "white",
           "landcolor": "#E5ECF6",
           "showlakes": true,
           "showland": true,
           "subunitcolor": "white"
          },
          "hoverlabel": {
           "align": "left"
          },
          "hovermode": "closest",
          "mapbox": {
           "style": "light"
          },
          "paper_bgcolor": "white",
          "plot_bgcolor": "#E5ECF6",
          "polar": {
           "angularaxis": {
            "gridcolor": "white",
            "linecolor": "white",
            "ticks": ""
           },
           "bgcolor": "#E5ECF6",
           "radialaxis": {
            "gridcolor": "white",
            "linecolor": "white",
            "ticks": ""
           }
          },
          "scene": {
           "xaxis": {
            "backgroundcolor": "#E5ECF6",
            "gridcolor": "white",
            "gridwidth": 2,
            "linecolor": "white",
            "showbackground": true,
            "ticks": "",
            "zerolinecolor": "white"
           },
           "yaxis": {
            "backgroundcolor": "#E5ECF6",
            "gridcolor": "white",
            "gridwidth": 2,
            "linecolor": "white",
            "showbackground": true,
            "ticks": "",
            "zerolinecolor": "white"
           },
           "zaxis": {
            "backgroundcolor": "#E5ECF6",
            "gridcolor": "white",
            "gridwidth": 2,
            "linecolor": "white",
            "showbackground": true,
            "ticks": "",
            "zerolinecolor": "white"
           }
          },
          "shapedefaults": {
           "line": {
            "color": "#2a3f5f"
           }
          },
          "ternary": {
           "aaxis": {
            "gridcolor": "white",
            "linecolor": "white",
            "ticks": ""
           },
           "baxis": {
            "gridcolor": "white",
            "linecolor": "white",
            "ticks": ""
           },
           "bgcolor": "#E5ECF6",
           "caxis": {
            "gridcolor": "white",
            "linecolor": "white",
            "ticks": ""
           }
          },
          "title": {
           "x": 0.05
          },
          "xaxis": {
           "automargin": true,
           "gridcolor": "white",
           "linecolor": "white",
           "ticks": "",
           "title": {
            "standoff": 15
           },
           "zerolinecolor": "white",
           "zerolinewidth": 2
          },
          "yaxis": {
           "automargin": true,
           "gridcolor": "white",
           "linecolor": "white",
           "ticks": "",
           "title": {
            "standoff": 15
           },
           "zerolinecolor": "white",
           "zerolinewidth": 2
          }
         }
        },
        "title": {
         "text": "Prevalence of feelings"
        }
       }
      }
     },
     "metadata": {},
     "output_type": "display_data"
    }
   ],
   "source": [
    "import plotly.graph_objs as go\n",
    "\n",
    "# group the dataframe by feeling and count the number of unique frames for each feeling\n",
    "feeling_counts = max_prob_df.groupby('feeling')['Frame'].nunique()\n",
    "\n",
    "# create a bar chart with the feeling counts\n",
    "data = go.Bar(x=feeling_counts.index, y=feeling_counts.values)\n",
    "\n",
    "# create the layout for the chart\n",
    "layout = go.Layout(title='Prevalence of feelings')\n",
    "\n",
    "# create the figure object and display the chart\n",
    "fig = go.Figure(data=[data], layout=layout)\n",
    "fig.show()"
   ]
  },
  {
   "cell_type": "code",
   "execution_count": null,
   "metadata": {},
   "outputs": [
    {
     "data": {
      "application/vnd.plotly.v1+json": {
       "config": {
        "plotlyServerURL": "https://plot.ly"
       },
       "data": [
        {
         "hole": 0.45,
         "labels": [
          "Angry",
          "Disgust",
          "Fear",
          "Happy",
          "Neutral",
          "Sad",
          "Surprise"
         ],
         "type": "pie",
         "values": [
          58,
          6,
          233,
          243,
          218,
          365,
          18
         ]
        },
        {
         "hole": 1,
         "labels": [
          ""
         ],
         "marker": {
          "colors": [
           "white"
          ]
         },
         "type": "pie",
         "values": [
          1
         ]
        }
       ],
       "layout": {
        "annotations": [
         {
          "font": {
           "size": 20
          },
          "showarrow": false,
          "text": "Total frames: 1141",
          "x": 0.5,
          "y": 0.5
         }
        ],
        "template": {
         "data": {
          "bar": [
           {
            "error_x": {
             "color": "#2a3f5f"
            },
            "error_y": {
             "color": "#2a3f5f"
            },
            "marker": {
             "line": {
              "color": "#E5ECF6",
              "width": 0.5
             },
             "pattern": {
              "fillmode": "overlay",
              "size": 10,
              "solidity": 0.2
             }
            },
            "type": "bar"
           }
          ],
          "barpolar": [
           {
            "marker": {
             "line": {
              "color": "#E5ECF6",
              "width": 0.5
             },
             "pattern": {
              "fillmode": "overlay",
              "size": 10,
              "solidity": 0.2
             }
            },
            "type": "barpolar"
           }
          ],
          "carpet": [
           {
            "aaxis": {
             "endlinecolor": "#2a3f5f",
             "gridcolor": "white",
             "linecolor": "white",
             "minorgridcolor": "white",
             "startlinecolor": "#2a3f5f"
            },
            "baxis": {
             "endlinecolor": "#2a3f5f",
             "gridcolor": "white",
             "linecolor": "white",
             "minorgridcolor": "white",
             "startlinecolor": "#2a3f5f"
            },
            "type": "carpet"
           }
          ],
          "choropleth": [
           {
            "colorbar": {
             "outlinewidth": 0,
             "ticks": ""
            },
            "type": "choropleth"
           }
          ],
          "contour": [
           {
            "colorbar": {
             "outlinewidth": 0,
             "ticks": ""
            },
            "colorscale": [
             [
              0,
              "#0d0887"
             ],
             [
              0.1111111111111111,
              "#46039f"
             ],
             [
              0.2222222222222222,
              "#7201a8"
             ],
             [
              0.3333333333333333,
              "#9c179e"
             ],
             [
              0.4444444444444444,
              "#bd3786"
             ],
             [
              0.5555555555555556,
              "#d8576b"
             ],
             [
              0.6666666666666666,
              "#ed7953"
             ],
             [
              0.7777777777777778,
              "#fb9f3a"
             ],
             [
              0.8888888888888888,
              "#fdca26"
             ],
             [
              1,
              "#f0f921"
             ]
            ],
            "type": "contour"
           }
          ],
          "contourcarpet": [
           {
            "colorbar": {
             "outlinewidth": 0,
             "ticks": ""
            },
            "type": "contourcarpet"
           }
          ],
          "heatmap": [
           {
            "colorbar": {
             "outlinewidth": 0,
             "ticks": ""
            },
            "colorscale": [
             [
              0,
              "#0d0887"
             ],
             [
              0.1111111111111111,
              "#46039f"
             ],
             [
              0.2222222222222222,
              "#7201a8"
             ],
             [
              0.3333333333333333,
              "#9c179e"
             ],
             [
              0.4444444444444444,
              "#bd3786"
             ],
             [
              0.5555555555555556,
              "#d8576b"
             ],
             [
              0.6666666666666666,
              "#ed7953"
             ],
             [
              0.7777777777777778,
              "#fb9f3a"
             ],
             [
              0.8888888888888888,
              "#fdca26"
             ],
             [
              1,
              "#f0f921"
             ]
            ],
            "type": "heatmap"
           }
          ],
          "heatmapgl": [
           {
            "colorbar": {
             "outlinewidth": 0,
             "ticks": ""
            },
            "colorscale": [
             [
              0,
              "#0d0887"
             ],
             [
              0.1111111111111111,
              "#46039f"
             ],
             [
              0.2222222222222222,
              "#7201a8"
             ],
             [
              0.3333333333333333,
              "#9c179e"
             ],
             [
              0.4444444444444444,
              "#bd3786"
             ],
             [
              0.5555555555555556,
              "#d8576b"
             ],
             [
              0.6666666666666666,
              "#ed7953"
             ],
             [
              0.7777777777777778,
              "#fb9f3a"
             ],
             [
              0.8888888888888888,
              "#fdca26"
             ],
             [
              1,
              "#f0f921"
             ]
            ],
            "type": "heatmapgl"
           }
          ],
          "histogram": [
           {
            "marker": {
             "pattern": {
              "fillmode": "overlay",
              "size": 10,
              "solidity": 0.2
             }
            },
            "type": "histogram"
           }
          ],
          "histogram2d": [
           {
            "colorbar": {
             "outlinewidth": 0,
             "ticks": ""
            },
            "colorscale": [
             [
              0,
              "#0d0887"
             ],
             [
              0.1111111111111111,
              "#46039f"
             ],
             [
              0.2222222222222222,
              "#7201a8"
             ],
             [
              0.3333333333333333,
              "#9c179e"
             ],
             [
              0.4444444444444444,
              "#bd3786"
             ],
             [
              0.5555555555555556,
              "#d8576b"
             ],
             [
              0.6666666666666666,
              "#ed7953"
             ],
             [
              0.7777777777777778,
              "#fb9f3a"
             ],
             [
              0.8888888888888888,
              "#fdca26"
             ],
             [
              1,
              "#f0f921"
             ]
            ],
            "type": "histogram2d"
           }
          ],
          "histogram2dcontour": [
           {
            "colorbar": {
             "outlinewidth": 0,
             "ticks": ""
            },
            "colorscale": [
             [
              0,
              "#0d0887"
             ],
             [
              0.1111111111111111,
              "#46039f"
             ],
             [
              0.2222222222222222,
              "#7201a8"
             ],
             [
              0.3333333333333333,
              "#9c179e"
             ],
             [
              0.4444444444444444,
              "#bd3786"
             ],
             [
              0.5555555555555556,
              "#d8576b"
             ],
             [
              0.6666666666666666,
              "#ed7953"
             ],
             [
              0.7777777777777778,
              "#fb9f3a"
             ],
             [
              0.8888888888888888,
              "#fdca26"
             ],
             [
              1,
              "#f0f921"
             ]
            ],
            "type": "histogram2dcontour"
           }
          ],
          "mesh3d": [
           {
            "colorbar": {
             "outlinewidth": 0,
             "ticks": ""
            },
            "type": "mesh3d"
           }
          ],
          "parcoords": [
           {
            "line": {
             "colorbar": {
              "outlinewidth": 0,
              "ticks": ""
             }
            },
            "type": "parcoords"
           }
          ],
          "pie": [
           {
            "automargin": true,
            "type": "pie"
           }
          ],
          "scatter": [
           {
            "fillpattern": {
             "fillmode": "overlay",
             "size": 10,
             "solidity": 0.2
            },
            "type": "scatter"
           }
          ],
          "scatter3d": [
           {
            "line": {
             "colorbar": {
              "outlinewidth": 0,
              "ticks": ""
             }
            },
            "marker": {
             "colorbar": {
              "outlinewidth": 0,
              "ticks": ""
             }
            },
            "type": "scatter3d"
           }
          ],
          "scattercarpet": [
           {
            "marker": {
             "colorbar": {
              "outlinewidth": 0,
              "ticks": ""
             }
            },
            "type": "scattercarpet"
           }
          ],
          "scattergeo": [
           {
            "marker": {
             "colorbar": {
              "outlinewidth": 0,
              "ticks": ""
             }
            },
            "type": "scattergeo"
           }
          ],
          "scattergl": [
           {
            "marker": {
             "colorbar": {
              "outlinewidth": 0,
              "ticks": ""
             }
            },
            "type": "scattergl"
           }
          ],
          "scattermapbox": [
           {
            "marker": {
             "colorbar": {
              "outlinewidth": 0,
              "ticks": ""
             }
            },
            "type": "scattermapbox"
           }
          ],
          "scatterpolar": [
           {
            "marker": {
             "colorbar": {
              "outlinewidth": 0,
              "ticks": ""
             }
            },
            "type": "scatterpolar"
           }
          ],
          "scatterpolargl": [
           {
            "marker": {
             "colorbar": {
              "outlinewidth": 0,
              "ticks": ""
             }
            },
            "type": "scatterpolargl"
           }
          ],
          "scatterternary": [
           {
            "marker": {
             "colorbar": {
              "outlinewidth": 0,
              "ticks": ""
             }
            },
            "type": "scatterternary"
           }
          ],
          "surface": [
           {
            "colorbar": {
             "outlinewidth": 0,
             "ticks": ""
            },
            "colorscale": [
             [
              0,
              "#0d0887"
             ],
             [
              0.1111111111111111,
              "#46039f"
             ],
             [
              0.2222222222222222,
              "#7201a8"
             ],
             [
              0.3333333333333333,
              "#9c179e"
             ],
             [
              0.4444444444444444,
              "#bd3786"
             ],
             [
              0.5555555555555556,
              "#d8576b"
             ],
             [
              0.6666666666666666,
              "#ed7953"
             ],
             [
              0.7777777777777778,
              "#fb9f3a"
             ],
             [
              0.8888888888888888,
              "#fdca26"
             ],
             [
              1,
              "#f0f921"
             ]
            ],
            "type": "surface"
           }
          ],
          "table": [
           {
            "cells": {
             "fill": {
              "color": "#EBF0F8"
             },
             "line": {
              "color": "white"
             }
            },
            "header": {
             "fill": {
              "color": "#C8D4E3"
             },
             "line": {
              "color": "white"
             }
            },
            "type": "table"
           }
          ]
         },
         "layout": {
          "annotationdefaults": {
           "arrowcolor": "#2a3f5f",
           "arrowhead": 0,
           "arrowwidth": 1
          },
          "autotypenumbers": "strict",
          "coloraxis": {
           "colorbar": {
            "outlinewidth": 0,
            "ticks": ""
           }
          },
          "colorscale": {
           "diverging": [
            [
             0,
             "#8e0152"
            ],
            [
             0.1,
             "#c51b7d"
            ],
            [
             0.2,
             "#de77ae"
            ],
            [
             0.3,
             "#f1b6da"
            ],
            [
             0.4,
             "#fde0ef"
            ],
            [
             0.5,
             "#f7f7f7"
            ],
            [
             0.6,
             "#e6f5d0"
            ],
            [
             0.7,
             "#b8e186"
            ],
            [
             0.8,
             "#7fbc41"
            ],
            [
             0.9,
             "#4d9221"
            ],
            [
             1,
             "#276419"
            ]
           ],
           "sequential": [
            [
             0,
             "#0d0887"
            ],
            [
             0.1111111111111111,
             "#46039f"
            ],
            [
             0.2222222222222222,
             "#7201a8"
            ],
            [
             0.3333333333333333,
             "#9c179e"
            ],
            [
             0.4444444444444444,
             "#bd3786"
            ],
            [
             0.5555555555555556,
             "#d8576b"
            ],
            [
             0.6666666666666666,
             "#ed7953"
            ],
            [
             0.7777777777777778,
             "#fb9f3a"
            ],
            [
             0.8888888888888888,
             "#fdca26"
            ],
            [
             1,
             "#f0f921"
            ]
           ],
           "sequentialminus": [
            [
             0,
             "#0d0887"
            ],
            [
             0.1111111111111111,
             "#46039f"
            ],
            [
             0.2222222222222222,
             "#7201a8"
            ],
            [
             0.3333333333333333,
             "#9c179e"
            ],
            [
             0.4444444444444444,
             "#bd3786"
            ],
            [
             0.5555555555555556,
             "#d8576b"
            ],
            [
             0.6666666666666666,
             "#ed7953"
            ],
            [
             0.7777777777777778,
             "#fb9f3a"
            ],
            [
             0.8888888888888888,
             "#fdca26"
            ],
            [
             1,
             "#f0f921"
            ]
           ]
          },
          "colorway": [
           "#636efa",
           "#EF553B",
           "#00cc96",
           "#ab63fa",
           "#FFA15A",
           "#19d3f3",
           "#FF6692",
           "#B6E880",
           "#FF97FF",
           "#FECB52"
          ],
          "font": {
           "color": "#2a3f5f"
          },
          "geo": {
           "bgcolor": "white",
           "lakecolor": "white",
           "landcolor": "#E5ECF6",
           "showlakes": true,
           "showland": true,
           "subunitcolor": "white"
          },
          "hoverlabel": {
           "align": "left"
          },
          "hovermode": "closest",
          "mapbox": {
           "style": "light"
          },
          "paper_bgcolor": "white",
          "plot_bgcolor": "#E5ECF6",
          "polar": {
           "angularaxis": {
            "gridcolor": "white",
            "linecolor": "white",
            "ticks": ""
           },
           "bgcolor": "#E5ECF6",
           "radialaxis": {
            "gridcolor": "white",
            "linecolor": "white",
            "ticks": ""
           }
          },
          "scene": {
           "xaxis": {
            "backgroundcolor": "#E5ECF6",
            "gridcolor": "white",
            "gridwidth": 2,
            "linecolor": "white",
            "showbackground": true,
            "ticks": "",
            "zerolinecolor": "white"
           },
           "yaxis": {
            "backgroundcolor": "#E5ECF6",
            "gridcolor": "white",
            "gridwidth": 2,
            "linecolor": "white",
            "showbackground": true,
            "ticks": "",
            "zerolinecolor": "white"
           },
           "zaxis": {
            "backgroundcolor": "#E5ECF6",
            "gridcolor": "white",
            "gridwidth": 2,
            "linecolor": "white",
            "showbackground": true,
            "ticks": "",
            "zerolinecolor": "white"
           }
          },
          "shapedefaults": {
           "line": {
            "color": "#2a3f5f"
           }
          },
          "ternary": {
           "aaxis": {
            "gridcolor": "white",
            "linecolor": "white",
            "ticks": ""
           },
           "baxis": {
            "gridcolor": "white",
            "linecolor": "white",
            "ticks": ""
           },
           "bgcolor": "#E5ECF6",
           "caxis": {
            "gridcolor": "white",
            "linecolor": "white",
            "ticks": ""
           }
          },
          "title": {
           "x": 0.05
          },
          "xaxis": {
           "automargin": true,
           "gridcolor": "white",
           "linecolor": "white",
           "ticks": "",
           "title": {
            "standoff": 15
           },
           "zerolinecolor": "white",
           "zerolinewidth": 2
          },
          "yaxis": {
           "automargin": true,
           "gridcolor": "white",
           "linecolor": "white",
           "ticks": "",
           "title": {
            "standoff": 15
           },
           "zerolinecolor": "white",
           "zerolinewidth": 2
          }
         }
        },
        "title": {
         "text": "Prevalence of feelings"
        }
       }
      }
     },
     "metadata": {},
     "output_type": "display_data"
    }
   ],
   "source": [
    "# create the data for the outer and inner rings\n",
    "outer_data = go.Pie(labels=feeling_counts.index, values=feeling_counts.values, hole=0.45)\n",
    "inner_data = go.Pie(labels=[''], values=[1], hole=1, marker=dict(colors=['white']))\n",
    "\n",
    "# create the layout for the chart\n",
    "layout = go.Layout(title='Prevalence of feelings', annotations=[{\n",
    "            'text': 'Total frames: {}'.format(len(max_prob_df)),\n",
    "            'font': {'size': 20},\n",
    "            'showarrow': False,\n",
    "            'x': 0.5,\n",
    "            'y': 0.5\n",
    "        }])\n",
    "\n",
    "# create the figure object and display the chart\n",
    "fig = go.Figure(data=[outer_data, inner_data], layout=layout)\n",
    "fig.show()"
   ]
  },
  {
   "cell_type": "code",
   "execution_count": null,
   "metadata": {},
   "outputs": [
    {
     "ename": "NameError",
     "evalue": "name 'feeling_counts' is not defined",
     "output_type": "error",
     "traceback": [
      "\u001b[0;31m---------------------------------------------------------------------------\u001b[0m",
      "\u001b[0;31mNameError\u001b[0m                                 Traceback (most recent call last)",
      "Cell \u001b[0;32mIn[22], line 1\u001b[0m\n\u001b[0;32m----> 1\u001b[0m feeling_counts\n",
      "\u001b[0;31mNameError\u001b[0m: name 'feeling_counts' is not defined"
     ]
    },
    {
     "ename": "",
     "evalue": "",
     "output_type": "error",
     "traceback": [
      "\u001b[1;31mThe Kernel crashed while executing code in the the current cell or a previous cell. Please review the code in the cell(s) to identify a possible cause of the failure. Click <a href='https://aka.ms/vscodeJupyterKernelCrash'>here</a> for more info. View Jupyter <a href='command:jupyter.viewOutput'>log</a> for further details."
     ]
    }
   ],
   "source": [
    "feeling_counts"
   ]
  },
  {
   "cell_type": "code",
   "execution_count": null,
   "metadata": {},
   "outputs": [
    {
     "data": {
      "application/vnd.plotly.v1+json": {
       "config": {
        "plotlyServerURL": "https://plot.ly"
       },
       "data": [
        {
         "fill": "toself",
         "name": "Prevalence of feelings",
         "r": [
          58,
          6,
          233,
          243,
          218,
          365,
          18
         ],
         "theta": [
          "angry",
          "disgust",
          "fear",
          "happy",
          "sad",
          "surprise",
          "neutral"
         ],
         "type": "scatterpolar"
        }
       ],
       "layout": {
        "polar": {
         "radialaxis": {
          "range": [
           0,
           365
          ],
          "visible": false
         }
        },
        "showlegend": false,
        "template": {
         "data": {
          "bar": [
           {
            "error_x": {
             "color": "#2a3f5f"
            },
            "error_y": {
             "color": "#2a3f5f"
            },
            "marker": {
             "line": {
              "color": "#E5ECF6",
              "width": 0.5
             },
             "pattern": {
              "fillmode": "overlay",
              "size": 10,
              "solidity": 0.2
             }
            },
            "type": "bar"
           }
          ],
          "barpolar": [
           {
            "marker": {
             "line": {
              "color": "#E5ECF6",
              "width": 0.5
             },
             "pattern": {
              "fillmode": "overlay",
              "size": 10,
              "solidity": 0.2
             }
            },
            "type": "barpolar"
           }
          ],
          "carpet": [
           {
            "aaxis": {
             "endlinecolor": "#2a3f5f",
             "gridcolor": "white",
             "linecolor": "white",
             "minorgridcolor": "white",
             "startlinecolor": "#2a3f5f"
            },
            "baxis": {
             "endlinecolor": "#2a3f5f",
             "gridcolor": "white",
             "linecolor": "white",
             "minorgridcolor": "white",
             "startlinecolor": "#2a3f5f"
            },
            "type": "carpet"
           }
          ],
          "choropleth": [
           {
            "colorbar": {
             "outlinewidth": 0,
             "ticks": ""
            },
            "type": "choropleth"
           }
          ],
          "contour": [
           {
            "colorbar": {
             "outlinewidth": 0,
             "ticks": ""
            },
            "colorscale": [
             [
              0,
              "#0d0887"
             ],
             [
              0.1111111111111111,
              "#46039f"
             ],
             [
              0.2222222222222222,
              "#7201a8"
             ],
             [
              0.3333333333333333,
              "#9c179e"
             ],
             [
              0.4444444444444444,
              "#bd3786"
             ],
             [
              0.5555555555555556,
              "#d8576b"
             ],
             [
              0.6666666666666666,
              "#ed7953"
             ],
             [
              0.7777777777777778,
              "#fb9f3a"
             ],
             [
              0.8888888888888888,
              "#fdca26"
             ],
             [
              1,
              "#f0f921"
             ]
            ],
            "type": "contour"
           }
          ],
          "contourcarpet": [
           {
            "colorbar": {
             "outlinewidth": 0,
             "ticks": ""
            },
            "type": "contourcarpet"
           }
          ],
          "heatmap": [
           {
            "colorbar": {
             "outlinewidth": 0,
             "ticks": ""
            },
            "colorscale": [
             [
              0,
              "#0d0887"
             ],
             [
              0.1111111111111111,
              "#46039f"
             ],
             [
              0.2222222222222222,
              "#7201a8"
             ],
             [
              0.3333333333333333,
              "#9c179e"
             ],
             [
              0.4444444444444444,
              "#bd3786"
             ],
             [
              0.5555555555555556,
              "#d8576b"
             ],
             [
              0.6666666666666666,
              "#ed7953"
             ],
             [
              0.7777777777777778,
              "#fb9f3a"
             ],
             [
              0.8888888888888888,
              "#fdca26"
             ],
             [
              1,
              "#f0f921"
             ]
            ],
            "type": "heatmap"
           }
          ],
          "heatmapgl": [
           {
            "colorbar": {
             "outlinewidth": 0,
             "ticks": ""
            },
            "colorscale": [
             [
              0,
              "#0d0887"
             ],
             [
              0.1111111111111111,
              "#46039f"
             ],
             [
              0.2222222222222222,
              "#7201a8"
             ],
             [
              0.3333333333333333,
              "#9c179e"
             ],
             [
              0.4444444444444444,
              "#bd3786"
             ],
             [
              0.5555555555555556,
              "#d8576b"
             ],
             [
              0.6666666666666666,
              "#ed7953"
             ],
             [
              0.7777777777777778,
              "#fb9f3a"
             ],
             [
              0.8888888888888888,
              "#fdca26"
             ],
             [
              1,
              "#f0f921"
             ]
            ],
            "type": "heatmapgl"
           }
          ],
          "histogram": [
           {
            "marker": {
             "pattern": {
              "fillmode": "overlay",
              "size": 10,
              "solidity": 0.2
             }
            },
            "type": "histogram"
           }
          ],
          "histogram2d": [
           {
            "colorbar": {
             "outlinewidth": 0,
             "ticks": ""
            },
            "colorscale": [
             [
              0,
              "#0d0887"
             ],
             [
              0.1111111111111111,
              "#46039f"
             ],
             [
              0.2222222222222222,
              "#7201a8"
             ],
             [
              0.3333333333333333,
              "#9c179e"
             ],
             [
              0.4444444444444444,
              "#bd3786"
             ],
             [
              0.5555555555555556,
              "#d8576b"
             ],
             [
              0.6666666666666666,
              "#ed7953"
             ],
             [
              0.7777777777777778,
              "#fb9f3a"
             ],
             [
              0.8888888888888888,
              "#fdca26"
             ],
             [
              1,
              "#f0f921"
             ]
            ],
            "type": "histogram2d"
           }
          ],
          "histogram2dcontour": [
           {
            "colorbar": {
             "outlinewidth": 0,
             "ticks": ""
            },
            "colorscale": [
             [
              0,
              "#0d0887"
             ],
             [
              0.1111111111111111,
              "#46039f"
             ],
             [
              0.2222222222222222,
              "#7201a8"
             ],
             [
              0.3333333333333333,
              "#9c179e"
             ],
             [
              0.4444444444444444,
              "#bd3786"
             ],
             [
              0.5555555555555556,
              "#d8576b"
             ],
             [
              0.6666666666666666,
              "#ed7953"
             ],
             [
              0.7777777777777778,
              "#fb9f3a"
             ],
             [
              0.8888888888888888,
              "#fdca26"
             ],
             [
              1,
              "#f0f921"
             ]
            ],
            "type": "histogram2dcontour"
           }
          ],
          "mesh3d": [
           {
            "colorbar": {
             "outlinewidth": 0,
             "ticks": ""
            },
            "type": "mesh3d"
           }
          ],
          "parcoords": [
           {
            "line": {
             "colorbar": {
              "outlinewidth": 0,
              "ticks": ""
             }
            },
            "type": "parcoords"
           }
          ],
          "pie": [
           {
            "automargin": true,
            "type": "pie"
           }
          ],
          "scatter": [
           {
            "fillpattern": {
             "fillmode": "overlay",
             "size": 10,
             "solidity": 0.2
            },
            "type": "scatter"
           }
          ],
          "scatter3d": [
           {
            "line": {
             "colorbar": {
              "outlinewidth": 0,
              "ticks": ""
             }
            },
            "marker": {
             "colorbar": {
              "outlinewidth": 0,
              "ticks": ""
             }
            },
            "type": "scatter3d"
           }
          ],
          "scattercarpet": [
           {
            "marker": {
             "colorbar": {
              "outlinewidth": 0,
              "ticks": ""
             }
            },
            "type": "scattercarpet"
           }
          ],
          "scattergeo": [
           {
            "marker": {
             "colorbar": {
              "outlinewidth": 0,
              "ticks": ""
             }
            },
            "type": "scattergeo"
           }
          ],
          "scattergl": [
           {
            "marker": {
             "colorbar": {
              "outlinewidth": 0,
              "ticks": ""
             }
            },
            "type": "scattergl"
           }
          ],
          "scattermapbox": [
           {
            "marker": {
             "colorbar": {
              "outlinewidth": 0,
              "ticks": ""
             }
            },
            "type": "scattermapbox"
           }
          ],
          "scatterpolar": [
           {
            "marker": {
             "colorbar": {
              "outlinewidth": 0,
              "ticks": ""
             }
            },
            "type": "scatterpolar"
           }
          ],
          "scatterpolargl": [
           {
            "marker": {
             "colorbar": {
              "outlinewidth": 0,
              "ticks": ""
             }
            },
            "type": "scatterpolargl"
           }
          ],
          "scatterternary": [
           {
            "marker": {
             "colorbar": {
              "outlinewidth": 0,
              "ticks": ""
             }
            },
            "type": "scatterternary"
           }
          ],
          "surface": [
           {
            "colorbar": {
             "outlinewidth": 0,
             "ticks": ""
            },
            "colorscale": [
             [
              0,
              "#0d0887"
             ],
             [
              0.1111111111111111,
              "#46039f"
             ],
             [
              0.2222222222222222,
              "#7201a8"
             ],
             [
              0.3333333333333333,
              "#9c179e"
             ],
             [
              0.4444444444444444,
              "#bd3786"
             ],
             [
              0.5555555555555556,
              "#d8576b"
             ],
             [
              0.6666666666666666,
              "#ed7953"
             ],
             [
              0.7777777777777778,
              "#fb9f3a"
             ],
             [
              0.8888888888888888,
              "#fdca26"
             ],
             [
              1,
              "#f0f921"
             ]
            ],
            "type": "surface"
           }
          ],
          "table": [
           {
            "cells": {
             "fill": {
              "color": "#EBF0F8"
             },
             "line": {
              "color": "white"
             }
            },
            "header": {
             "fill": {
              "color": "#C8D4E3"
             },
             "line": {
              "color": "white"
             }
            },
            "type": "table"
           }
          ]
         },
         "layout": {
          "annotationdefaults": {
           "arrowcolor": "#2a3f5f",
           "arrowhead": 0,
           "arrowwidth": 1
          },
          "autotypenumbers": "strict",
          "coloraxis": {
           "colorbar": {
            "outlinewidth": 0,
            "ticks": ""
           }
          },
          "colorscale": {
           "diverging": [
            [
             0,
             "#8e0152"
            ],
            [
             0.1,
             "#c51b7d"
            ],
            [
             0.2,
             "#de77ae"
            ],
            [
             0.3,
             "#f1b6da"
            ],
            [
             0.4,
             "#fde0ef"
            ],
            [
             0.5,
             "#f7f7f7"
            ],
            [
             0.6,
             "#e6f5d0"
            ],
            [
             0.7,
             "#b8e186"
            ],
            [
             0.8,
             "#7fbc41"
            ],
            [
             0.9,
             "#4d9221"
            ],
            [
             1,
             "#276419"
            ]
           ],
           "sequential": [
            [
             0,
             "#0d0887"
            ],
            [
             0.1111111111111111,
             "#46039f"
            ],
            [
             0.2222222222222222,
             "#7201a8"
            ],
            [
             0.3333333333333333,
             "#9c179e"
            ],
            [
             0.4444444444444444,
             "#bd3786"
            ],
            [
             0.5555555555555556,
             "#d8576b"
            ],
            [
             0.6666666666666666,
             "#ed7953"
            ],
            [
             0.7777777777777778,
             "#fb9f3a"
            ],
            [
             0.8888888888888888,
             "#fdca26"
            ],
            [
             1,
             "#f0f921"
            ]
           ],
           "sequentialminus": [
            [
             0,
             "#0d0887"
            ],
            [
             0.1111111111111111,
             "#46039f"
            ],
            [
             0.2222222222222222,
             "#7201a8"
            ],
            [
             0.3333333333333333,
             "#9c179e"
            ],
            [
             0.4444444444444444,
             "#bd3786"
            ],
            [
             0.5555555555555556,
             "#d8576b"
            ],
            [
             0.6666666666666666,
             "#ed7953"
            ],
            [
             0.7777777777777778,
             "#fb9f3a"
            ],
            [
             0.8888888888888888,
             "#fdca26"
            ],
            [
             1,
             "#f0f921"
            ]
           ]
          },
          "colorway": [
           "#636efa",
           "#EF553B",
           "#00cc96",
           "#ab63fa",
           "#FFA15A",
           "#19d3f3",
           "#FF6692",
           "#B6E880",
           "#FF97FF",
           "#FECB52"
          ],
          "font": {
           "color": "#2a3f5f"
          },
          "geo": {
           "bgcolor": "white",
           "lakecolor": "white",
           "landcolor": "#E5ECF6",
           "showlakes": true,
           "showland": true,
           "subunitcolor": "white"
          },
          "hoverlabel": {
           "align": "left"
          },
          "hovermode": "closest",
          "mapbox": {
           "style": "light"
          },
          "paper_bgcolor": "white",
          "plot_bgcolor": "#E5ECF6",
          "polar": {
           "angularaxis": {
            "gridcolor": "white",
            "linecolor": "white",
            "ticks": ""
           },
           "bgcolor": "#E5ECF6",
           "radialaxis": {
            "gridcolor": "white",
            "linecolor": "white",
            "ticks": ""
           }
          },
          "scene": {
           "xaxis": {
            "backgroundcolor": "#E5ECF6",
            "gridcolor": "white",
            "gridwidth": 2,
            "linecolor": "white",
            "showbackground": true,
            "ticks": "",
            "zerolinecolor": "white"
           },
           "yaxis": {
            "backgroundcolor": "#E5ECF6",
            "gridcolor": "white",
            "gridwidth": 2,
            "linecolor": "white",
            "showbackground": true,
            "ticks": "",
            "zerolinecolor": "white"
           },
           "zaxis": {
            "backgroundcolor": "#E5ECF6",
            "gridcolor": "white",
            "gridwidth": 2,
            "linecolor": "white",
            "showbackground": true,
            "ticks": "",
            "zerolinecolor": "white"
           }
          },
          "shapedefaults": {
           "line": {
            "color": "#2a3f5f"
           }
          },
          "ternary": {
           "aaxis": {
            "gridcolor": "white",
            "linecolor": "white",
            "ticks": ""
           },
           "baxis": {
            "gridcolor": "white",
            "linecolor": "white",
            "ticks": ""
           },
           "bgcolor": "#E5ECF6",
           "caxis": {
            "gridcolor": "white",
            "linecolor": "white",
            "ticks": ""
           }
          },
          "title": {
           "x": 0.05
          },
          "xaxis": {
           "automargin": true,
           "gridcolor": "white",
           "linecolor": "white",
           "ticks": "",
           "title": {
            "standoff": 15
           },
           "zerolinecolor": "white",
           "zerolinewidth": 2
          },
          "yaxis": {
           "automargin": true,
           "gridcolor": "white",
           "linecolor": "white",
           "ticks": "",
           "title": {
            "standoff": 15
           },
           "zerolinecolor": "white",
           "zerolinewidth": 2
          }
         }
        },
        "title": {
         "text": "Prevalence of feelings"
        }
       }
      }
     },
     "metadata": {},
     "output_type": "display_data"
    }
   ],
   "source": [
    "categories = [\"angry\",\n",
    "            \"disgust\",\n",
    "            \"fear\",\n",
    "            \"happy\",\n",
    "            \"sad\",\n",
    "            \"surprise\",\n",
    "            \"neutral\"]\n",
    "#values = [max_prob_df[max_prob_df['feeling'] == category]['frame'].nunique() for category in categories]\n",
    "\n",
    "# Define the categories and values\n",
    "#categories = feeling_counts.index\n",
    "values = feeling_counts.values\n",
    "\n",
    "# Create the radar chart\n",
    "data = go.Scatterpolar(\n",
    "    r = values,\n",
    "    theta = categories,\n",
    "    fill = 'toself',\n",
    "    name = 'Prevalence of feelings'\n",
    ")\n",
    "\n",
    "# Set the layout for the chart\n",
    "layout = go.Layout(\n",
    "    polar = dict(\n",
    "        radialaxis = dict(\n",
    "            visible = False,\n",
    "            range = [0, max(values)]\n",
    "        )\n",
    "    ),\n",
    "    showlegend = False,\n",
    "    title = 'Prevalence of feelings'\n",
    ")\n",
    "\n",
    "# Create the figure object and display the chart\n",
    "fig = go.Figure(data=[data], layout=layout)\n",
    "fig.show()"
   ]
  },
  {
   "cell_type": "code",
   "execution_count": null,
   "metadata": {},
   "outputs": [
    {
     "name": "stdout",
     "output_type": "stream",
     "text": [
      "WARNING:tensorflow:Error in loading the saved optimizer state. As a result, your model is starting with a freshly initialized optimizer.\n"
     ]
    }
   ],
   "source": [
    "from paz.pipelines import MiniXceptionFER\n",
    "\n",
    "classify = MiniXceptionFER()"
   ]
  },
  {
   "cell_type": "code",
   "execution_count": null,
   "metadata": {},
   "outputs": [],
   "source": [
    "emotion_categories= {\n",
    "            0: \"angry\",\n",
    "            1: \"disgust\",\n",
    "            2: \"fear\",\n",
    "            3: \"happy\",\n",
    "            4: \"sad\",\n",
    "            5: \"surprise\",\n",
    "            6: \"neutral\",\n",
    "        }"
   ]
  },
  {
   "cell_type": "code",
   "execution_count": null,
   "metadata": {},
   "outputs": [
    {
     "ename": "NameError",
     "evalue": "name 'results' is not defined",
     "output_type": "error",
     "traceback": [
      "\u001b[0;31m---------------------------------------------------------------------------\u001b[0m",
      "\u001b[0;31mNameError\u001b[0m                                 Traceback (most recent call last)",
      "Cell \u001b[0;32mIn[152], line 2\u001b[0m\n\u001b[1;32m      1\u001b[0m \u001b[39m# Display the first image in the results list\u001b[39;00m\n\u001b[0;32m----> 2\u001b[0m plt\u001b[39m.\u001b[39mimshow(results[\u001b[39m66\u001b[39m], cmap\u001b[39m=\u001b[39m\u001b[39m'\u001b[39m\u001b[39mgray\u001b[39m\u001b[39m'\u001b[39m)\n\u001b[1;32m      3\u001b[0m plt\u001b[39m.\u001b[39mshow()\n",
      "\u001b[0;31mNameError\u001b[0m: name 'results' is not defined"
     ]
    }
   ],
   "source": [
    "# Display the first image in the results list\n",
    "plt.imshow(results[66], cmap='gray')\n",
    "plt.show()"
   ]
  },
  {
   "attachments": {},
   "cell_type": "markdown",
   "metadata": {},
   "source": [
    "Old / not yet used"
   ]
  },
  {
   "cell_type": "code",
   "execution_count": null,
   "metadata": {},
   "outputs": [
    {
     "ename": "ValueError",
     "evalue": "Face could not be detected. Please confirm that the picture is a face photo or consider to set enforce_detection param to False.",
     "output_type": "error",
     "traceback": [
      "\u001b[0;31m---------------------------------------------------------------------------\u001b[0m",
      "\u001b[0;31mValueError\u001b[0m                                Traceback (most recent call last)",
      "Cell \u001b[0;32mIn[19], line 24\u001b[0m\n\u001b[1;32m     22\u001b[0m \u001b[39mfor\u001b[39;00m (x, y, w, h) \u001b[39min\u001b[39;00m faces:\n\u001b[1;32m     23\u001b[0m     face_img \u001b[39m=\u001b[39m frame[y:y\u001b[39m+\u001b[39mh, x:x\u001b[39m+\u001b[39mw]\n\u001b[0;32m---> 24\u001b[0m     emotion_preds \u001b[39m=\u001b[39m DeepFace\u001b[39m.\u001b[39;49manalyze(face_img, actions\u001b[39m=\u001b[39;49m[\u001b[39m\"\u001b[39;49m\u001b[39memotion\u001b[39;49m\u001b[39m\"\u001b[39;49m])\n\u001b[1;32m     25\u001b[0m     emotion_dict \u001b[39m=\u001b[39m emotion_preds[\u001b[39m\"\u001b[39m\u001b[39memotion\u001b[39m\u001b[39m\"\u001b[39m]\n\u001b[1;32m     27\u001b[0m     \u001b[39m# Add the timestamp and emotion probabilities to the dataframe\u001b[39;00m\n",
      "File \u001b[0;32m~/Neue_Fische/NeuralXpresso/.venv/lib/python3.9/site-packages/deepface/DeepFace.py:313\u001b[0m, in \u001b[0;36manalyze\u001b[0;34m(img_path, actions, enforce_detection, detector_backend, align, silent)\u001b[0m\n\u001b[1;32m    310\u001b[0m \u001b[39m# ---------------------------------\u001b[39;00m\n\u001b[1;32m    311\u001b[0m resp_objects \u001b[39m=\u001b[39m []\n\u001b[0;32m--> 313\u001b[0m img_objs \u001b[39m=\u001b[39m functions\u001b[39m.\u001b[39;49mextract_faces(\n\u001b[1;32m    314\u001b[0m     img\u001b[39m=\u001b[39;49mimg_path,\n\u001b[1;32m    315\u001b[0m     target_size\u001b[39m=\u001b[39;49m(\u001b[39m224\u001b[39;49m, \u001b[39m224\u001b[39;49m),\n\u001b[1;32m    316\u001b[0m     detector_backend\u001b[39m=\u001b[39;49mdetector_backend,\n\u001b[1;32m    317\u001b[0m     grayscale\u001b[39m=\u001b[39;49m\u001b[39mFalse\u001b[39;49;00m,\n\u001b[1;32m    318\u001b[0m     enforce_detection\u001b[39m=\u001b[39;49menforce_detection,\n\u001b[1;32m    319\u001b[0m     align\u001b[39m=\u001b[39;49malign,\n\u001b[1;32m    320\u001b[0m )\n\u001b[1;32m    322\u001b[0m \u001b[39mfor\u001b[39;00m img_content, img_region, _ \u001b[39min\u001b[39;00m img_objs:\n\u001b[1;32m    323\u001b[0m     \u001b[39mif\u001b[39;00m img_content\u001b[39m.\u001b[39mshape[\u001b[39m0\u001b[39m] \u001b[39m>\u001b[39m \u001b[39m0\u001b[39m \u001b[39mand\u001b[39;00m img_content\u001b[39m.\u001b[39mshape[\u001b[39m1\u001b[39m] \u001b[39m>\u001b[39m \u001b[39m0\u001b[39m:\n",
      "File \u001b[0;32m~/Neue_Fische/NeuralXpresso/.venv/lib/python3.9/site-packages/deepface/commons/functions.py:115\u001b[0m, in \u001b[0;36mextract_faces\u001b[0;34m(img, target_size, detector_backend, grayscale, enforce_detection, align)\u001b[0m\n\u001b[1;32m    113\u001b[0m \u001b[39m# in case of no face found\u001b[39;00m\n\u001b[1;32m    114\u001b[0m \u001b[39mif\u001b[39;00m \u001b[39mlen\u001b[39m(face_objs) \u001b[39m==\u001b[39m \u001b[39m0\u001b[39m \u001b[39mand\u001b[39;00m enforce_detection \u001b[39mis\u001b[39;00m \u001b[39mTrue\u001b[39;00m:\n\u001b[0;32m--> 115\u001b[0m     \u001b[39mraise\u001b[39;00m \u001b[39mValueError\u001b[39;00m(\n\u001b[1;32m    116\u001b[0m         \u001b[39m\"\u001b[39m\u001b[39mFace could not be detected. Please confirm that the picture is a face photo \u001b[39m\u001b[39m\"\u001b[39m\n\u001b[1;32m    117\u001b[0m         \u001b[39m+\u001b[39m \u001b[39m\"\u001b[39m\u001b[39mor consider to set enforce_detection param to False.\u001b[39m\u001b[39m\"\u001b[39m\n\u001b[1;32m    118\u001b[0m     )\n\u001b[1;32m    120\u001b[0m \u001b[39mif\u001b[39;00m \u001b[39mlen\u001b[39m(face_objs) \u001b[39m==\u001b[39m \u001b[39m0\u001b[39m \u001b[39mand\u001b[39;00m enforce_detection \u001b[39mis\u001b[39;00m \u001b[39mFalse\u001b[39;00m:\n\u001b[1;32m    121\u001b[0m     face_objs \u001b[39m=\u001b[39m [(img, img_region, \u001b[39m0\u001b[39m)]\n",
      "\u001b[0;31mValueError\u001b[0m: Face could not be detected. Please confirm that the picture is a face photo or consider to set enforce_detection param to False."
     ]
    }
   ],
   "source": [
    "\n",
    "    \n",
    "    # Loop through each detected face and perform emotion detection\n",
    "    for (x, y, w, h) in faces:\n",
    "        face_img = frame[y:y+h, x:x+w]\n",
    "        emotion_preds = DeepFace.analyze(face_img, actions=[\"emotion\"])\n",
    "        emotion_dict = emotion_preds[\"emotion\"]\n",
    "\n",
    "        #labels for plotting on video\n",
    "        emotion_label = max(emotion_preds[\"emotion\"].items(), key=lambda x: x[1])  # get the label with the highest probability\n",
    "        cv2.putText(frame, emotion_label[0], (x, y-10), cv2.FONT_HERSHEY_SIMPLEX, 0.9, (0, 255, 0), 2)\n",
    "        cv2.rectangle(frame, (x, y), (x+w, y+h), (0, 255, 0), 2)\n",
    "        \n",
    "        # Add the timestamp and emotion probabilities to the dataframe\n",
    "        timestamp = frame_count / video.get(cv2.CAP_PROP_FPS)\n",
    "        row = {'timestamp': timestamp, 'emotion': emotion_dict}\n",
    "        df = df.append(row, ignore_index=True)\n",
    "        \n",
    "        # Draw a rectangle around the face and display the dominant emotion\n",
    "        emotion_label = max(emotion_dict.items(), key=lambda x: x[1])[0]\n",
    "        cv2.putText(frame, emotion_label, (x, y-10), cv2.FONT_HERSHEY_SIMPLEX, 0.9, (0, 255, 0), 2)\n",
    "        cv2.rectangle(frame, (x, y), (x+w, y+h), (0, 255, 0), 2)\n",
    "    \n",
    "    # Show the frame with the detected faces and emotions\n",
    "    cv2.imshow(\"Emotion Detection\", frame)\n",
    "    if cv2.waitKey(1) == ord(\"q\"):\n",
    "        break\n",
    "\n",
    "# Release the video and close the window\n",
    "video.release()\n",
    "cv2.destroyAllWindows()\n",
    "\n",
    "# Print the dataframe\n",
    "print(df)"
   ]
  }
 ],
 "metadata": {
  "kernelspec": {
   "display_name": ".venv",
   "language": "python",
   "name": "python3"
  },
  "language_info": {
   "codemirror_mode": {
    "name": "ipython",
    "version": 3
   },
   "file_extension": ".py",
   "mimetype": "text/x-python",
   "name": "python",
   "nbconvert_exporter": "python",
   "pygments_lexer": "ipython3",
   "version": "3.9.8"
  },
  "orig_nbformat": 4,
  "vscode": {
   "interpreter": {
    "hash": "292d9171ab7c5408b6324c6043caf24aa9a11213294e6785916c17bd69f18dee"
   }
  }
 },
 "nbformat": 4,
 "nbformat_minor": 2
}
