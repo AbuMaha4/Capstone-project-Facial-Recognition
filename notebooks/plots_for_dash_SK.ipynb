{
 "cells": [
  {
   "cell_type": "code",
   "execution_count": 1,
   "metadata": {},
   "outputs": [],
   "source": [
    "import plotly.express as px\n",
    "import plotly.graph_objs as go\n",
    "from plotly.subplots import make_subplots\n",
    "import pandas as pd\n"
   ]
  },
  {
   "cell_type": "code",
   "execution_count": 2,
   "metadata": {},
   "outputs": [
    {
     "name": "stdout",
     "output_type": "stream",
     "text": [
      "Metal device set to: Apple M1\n",
      "\n",
      "systemMemory: 8.00 GB\n",
      "maxCacheSize: 2.67 GB\n",
      "\n"
     ]
    },
    {
     "name": "stderr",
     "output_type": "stream",
     "text": [
      "2023-03-28 08:28:19.328399: I tensorflow/core/common_runtime/pluggable_device/pluggable_device_factory.cc:306] Could not identify NUMA node of platform GPU ID 0, defaulting to 0. Your kernel may not have been built with NUMA support.\n",
      "2023-03-28 08:28:19.328427: I tensorflow/core/common_runtime/pluggable_device/pluggable_device_factory.cc:272] Created TensorFlow device (/job:localhost/replica:0/task:0/device:GPU:0 with 0 MB memory) -> physical PluggableDevice (device: 0, name: METAL, pci bus id: <undefined>)\n",
      "2023-03-28 08:28:22.924050: W tensorflow/tsl/platform/profile_utils/cpu_utils.cc:128] Failed to get CPU frequency: 0 Hz\n",
      "2023-03-28 08:28:23.042954: I tensorflow/core/grappler/optimizers/custom_graph_optimizer_registry.cc:114] Plugin optimizer for device_type GPU is enabled.\n"
     ]
    },
    {
     "name": "stdout",
     "output_type": "stream",
     "text": [
      "1/1 [==============================] - 0s 316ms/step\n",
      "1/1 [==============================] - 0s 17ms/step\n",
      "1/1 [==============================] - 0s 17ms/step\n",
      "1/1 [==============================] - 0s 15ms/step\n",
      "1/1 [==============================] - 0s 17ms/step\n",
      "1/1 [==============================] - 0s 16ms/step\n",
      "1/1 [==============================] - 0s 16ms/step\n",
      "1/1 [==============================] - 0s 16ms/step\n",
      "1/1 [==============================] - 0s 16ms/step\n",
      "1/1 [==============================] - 0s 14ms/step\n",
      "1/1 [==============================] - 0s 15ms/step\n",
      "1/1 [==============================] - 0s 16ms/step\n",
      "1/1 [==============================] - 0s 15ms/step\n",
      "1/1 [==============================] - 0s 16ms/step\n",
      "1/1 [==============================] - 0s 15ms/step\n",
      "1/1 [==============================] - 0s 15ms/step\n",
      "1/1 [==============================] - 0s 16ms/step\n",
      "1/1 [==============================] - 0s 18ms/step\n",
      "1/1 [==============================] - 0s 15ms/step\n",
      "1/1 [==============================] - 0s 17ms/step\n",
      "1/1 [==============================] - 0s 17ms/step\n",
      "1/1 [==============================] - 0s 16ms/step\n",
      "1/1 [==============================] - 0s 16ms/step\n",
      "1/1 [==============================] - 0s 16ms/step\n",
      "1/1 [==============================] - 0s 17ms/step\n",
      "1/1 [==============================] - 0s 16ms/step\n",
      "1/1 [==============================] - 0s 14ms/step\n"
     ]
    }
   ],
   "source": [
    "import neuralxpresso2 as nx\n",
    "YT_LINK = \"https://www.youtube.com/watch?v=cNqpJMYU9YI\"\n",
    "cb_palette = ['#CA3435', '#ff7f00', '#9370DB', '#40E0D0', '#1f77b4', '#9467bd', '#7f7f7f']\n",
    "\n",
    "\n",
    "npx = nx.NeuralXpressoSession(yt_link=YT_LINK)\n",
    "result = npx.run_analysis()"
   ]
  },
  {
   "cell_type": "code",
   "execution_count": 3,
   "metadata": {},
   "outputs": [
    {
     "data": {
      "text/html": [
       "<div>\n",
       "<style scoped>\n",
       "    .dataframe tbody tr th:only-of-type {\n",
       "        vertical-align: middle;\n",
       "    }\n",
       "\n",
       "    .dataframe tbody tr th {\n",
       "        vertical-align: top;\n",
       "    }\n",
       "\n",
       "    .dataframe thead th {\n",
       "        text-align: right;\n",
       "    }\n",
       "</style>\n",
       "<table border=\"1\" class=\"dataframe\">\n",
       "  <thead>\n",
       "    <tr style=\"text-align: right;\">\n",
       "      <th></th>\n",
       "      <th>person_ID</th>\n",
       "      <th>appearances</th>\n",
       "      <th>Angry</th>\n",
       "      <th>Disgust</th>\n",
       "      <th>Fear</th>\n",
       "      <th>Happy</th>\n",
       "      <th>Sad</th>\n",
       "      <th>Surprise</th>\n",
       "      <th>Neutral</th>\n",
       "    </tr>\n",
       "  </thead>\n",
       "  <tbody>\n",
       "    <tr>\n",
       "      <th>0</th>\n",
       "      <td>1</td>\n",
       "      <td>24</td>\n",
       "      <td>0.061165</td>\n",
       "      <td>0.156956</td>\n",
       "      <td>0.185775</td>\n",
       "      <td>0.170192</td>\n",
       "      <td>0.030888</td>\n",
       "      <td>0.298332</td>\n",
       "      <td>0.096692</td>\n",
       "    </tr>\n",
       "    <tr>\n",
       "      <th>1</th>\n",
       "      <td>2</td>\n",
       "      <td>1</td>\n",
       "      <td>0.088927</td>\n",
       "      <td>0.000009</td>\n",
       "      <td>0.032039</td>\n",
       "      <td>0.003983</td>\n",
       "      <td>0.418394</td>\n",
       "      <td>0.448574</td>\n",
       "      <td>0.008074</td>\n",
       "    </tr>\n",
       "    <tr>\n",
       "      <th>2</th>\n",
       "      <td>3</td>\n",
       "      <td>2</td>\n",
       "      <td>0.085629</td>\n",
       "      <td>0.010206</td>\n",
       "      <td>0.164527</td>\n",
       "      <td>0.326802</td>\n",
       "      <td>0.064433</td>\n",
       "      <td>0.045604</td>\n",
       "      <td>0.302798</td>\n",
       "    </tr>\n",
       "  </tbody>\n",
       "</table>\n",
       "</div>"
      ],
      "text/plain": [
       "   person_ID  appearances     Angry   Disgust      Fear     Happy       Sad  \\\n",
       "0          1           24  0.061165  0.156956  0.185775  0.170192  0.030888   \n",
       "1          2            1  0.088927  0.000009  0.032039  0.003983  0.418394   \n",
       "2          3            2  0.085629  0.010206  0.164527  0.326802  0.064433   \n",
       "\n",
       "   Surprise   Neutral  \n",
       "0  0.298332  0.096692  \n",
       "1  0.448574  0.008074  \n",
       "2  0.045604  0.302798  "
      ]
     },
     "execution_count": 3,
     "metadata": {},
     "output_type": "execute_result"
    }
   ],
   "source": [
    "df_character = result['character_overview']\n",
    "df_character"
   ]
  },
  {
   "cell_type": "code",
   "execution_count": 4,
   "metadata": {},
   "outputs": [
    {
     "data": {
      "text/html": [
       "<div>\n",
       "<style scoped>\n",
       "    .dataframe tbody tr th:only-of-type {\n",
       "        vertical-align: middle;\n",
       "    }\n",
       "\n",
       "    .dataframe tbody tr th {\n",
       "        vertical-align: top;\n",
       "    }\n",
       "\n",
       "    .dataframe thead th {\n",
       "        text-align: right;\n",
       "    }\n",
       "</style>\n",
       "<table border=\"1\" class=\"dataframe\">\n",
       "  <thead>\n",
       "    <tr style=\"text-align: right;\">\n",
       "      <th></th>\n",
       "      <th>frame</th>\n",
       "      <th>person_ID</th>\n",
       "      <th>emotion</th>\n",
       "      <th>probability</th>\n",
       "    </tr>\n",
       "  </thead>\n",
       "  <tbody>\n",
       "    <tr>\n",
       "      <th>0</th>\n",
       "      <td>0</td>\n",
       "      <td>1</td>\n",
       "      <td>Angry</td>\n",
       "      <td>0.085881</td>\n",
       "    </tr>\n",
       "    <tr>\n",
       "      <th>1</th>\n",
       "      <td>1</td>\n",
       "      <td>1</td>\n",
       "      <td>Angry</td>\n",
       "      <td>0.090539</td>\n",
       "    </tr>\n",
       "    <tr>\n",
       "      <th>2</th>\n",
       "      <td>2</td>\n",
       "      <td>1</td>\n",
       "      <td>Angry</td>\n",
       "      <td>0.031928</td>\n",
       "    </tr>\n",
       "    <tr>\n",
       "      <th>3</th>\n",
       "      <td>3</td>\n",
       "      <td>1</td>\n",
       "      <td>Angry</td>\n",
       "      <td>0.053955</td>\n",
       "    </tr>\n",
       "    <tr>\n",
       "      <th>4</th>\n",
       "      <td>4</td>\n",
       "      <td>1</td>\n",
       "      <td>Angry</td>\n",
       "      <td>0.042333</td>\n",
       "    </tr>\n",
       "    <tr>\n",
       "      <th>...</th>\n",
       "      <td>...</td>\n",
       "      <td>...</td>\n",
       "      <td>...</td>\n",
       "      <td>...</td>\n",
       "    </tr>\n",
       "    <tr>\n",
       "      <th>184</th>\n",
       "      <td>22</td>\n",
       "      <td>1</td>\n",
       "      <td>Neutral</td>\n",
       "      <td>0.030466</td>\n",
       "    </tr>\n",
       "    <tr>\n",
       "      <th>185</th>\n",
       "      <td>23</td>\n",
       "      <td>1</td>\n",
       "      <td>Neutral</td>\n",
       "      <td>0.178083</td>\n",
       "    </tr>\n",
       "    <tr>\n",
       "      <th>186</th>\n",
       "      <td>23</td>\n",
       "      <td>2</td>\n",
       "      <td>Neutral</td>\n",
       "      <td>0.008074</td>\n",
       "    </tr>\n",
       "    <tr>\n",
       "      <th>187</th>\n",
       "      <td>24</td>\n",
       "      <td>3</td>\n",
       "      <td>Neutral</td>\n",
       "      <td>0.303137</td>\n",
       "    </tr>\n",
       "    <tr>\n",
       "      <th>188</th>\n",
       "      <td>25</td>\n",
       "      <td>3</td>\n",
       "      <td>Neutral</td>\n",
       "      <td>0.302460</td>\n",
       "    </tr>\n",
       "  </tbody>\n",
       "</table>\n",
       "<p>189 rows × 4 columns</p>\n",
       "</div>"
      ],
      "text/plain": [
       "     frame  person_ID  emotion  probability\n",
       "0        0          1    Angry     0.085881\n",
       "1        1          1    Angry     0.090539\n",
       "2        2          1    Angry     0.031928\n",
       "3        3          1    Angry     0.053955\n",
       "4        4          1    Angry     0.042333\n",
       "..     ...        ...      ...          ...\n",
       "184     22          1  Neutral     0.030466\n",
       "185     23          1  Neutral     0.178083\n",
       "186     23          2  Neutral     0.008074\n",
       "187     24          3  Neutral     0.303137\n",
       "188     25          3  Neutral     0.302460\n",
       "\n",
       "[189 rows x 4 columns]"
      ]
     },
     "execution_count": 4,
     "metadata": {},
     "output_type": "execute_result"
    }
   ],
   "source": [
    "df_video = result['video_overview']\n",
    "df_video"
   ]
  },
  {
   "cell_type": "code",
   "execution_count": 5,
   "metadata": {},
   "outputs": [],
   "source": [
    "def get_df_single_person(df_video, ID):\n",
    "    df_single_person = df_video[df_video['person_ID'] == ID]\n",
    "    df_single_person['moving_avg'] = df_single_person['probability'].rolling(window=10, center=True).mean()\n",
    "    return df_single_person\n",
    "\n"
   ]
  },
  {
   "cell_type": "code",
   "execution_count": 6,
   "metadata": {},
   "outputs": [],
   "source": [
    "\n",
    "def get_emotion_landscape(df_single_person):\n",
    "    # Create the plot \n",
    "    fig = px.area(df_single_person, x=\"frame\", y=\"moving_avg\", color=\"emotion\",\n",
    "                color_discrete_sequence=cb_palette, hover_data={\"text\": df_single_person['emotion']})\n",
    "\n",
    "    # Update the layout \n",
    "    fig.update_layout(\n",
    "        title={\n",
    "            'text': '<b>Probability of emotion per frame</b>',\n",
    "            'font': {'size': 24, 'color': 'black'},\n",
    "            'x': 0.5, #center header\n",
    "            'y': 0.95 #center header\n",
    "        },\n",
    "        xaxis_title='Frames',\n",
    "        yaxis_title='Probability',\n",
    "        legend_title='Emotion',\n",
    "        font=dict(family='Arial', size=14),\n",
    "        margin=dict(l=50, r=50, t=100, b=50),\n",
    "        plot_bgcolor='white',\n",
    "        xaxis=dict(dtick=1),  #set the x-axis step \n",
    "        legend=dict(\n",
    "            font=dict(size=10),\n",
    "            xanchor='center',\n",
    "            yanchor='top',\n",
    "            x=0.5,\n",
    "            y=-0.15\n",
    "        )\n",
    "    )\n",
    "\n",
    "    # Update the legend with customizations\n",
    "    fig.update_traces(\n",
    "        hovertemplate='<br>'.join([\n",
    "            'Emotion: %{fullData.name}',\n",
    "            'Frame: %{x:.2f} ',\n",
    "            'Probability: %{y:.2f}'\n",
    "        ]),\n",
    "        hoverlabel=dict(bgcolor='white', font_size=14),\n",
    "        line=dict(width=2),\n",
    "        showlegend=True,\n",
    "        stackgroup='one',\n",
    "        hoverinfo='all'\n",
    "    )\n",
    "\n",
    "    return fig\n"
   ]
  },
  {
   "cell_type": "code",
   "execution_count": 7,
   "metadata": {},
   "outputs": [
    {
     "name": "stderr",
     "output_type": "stream",
     "text": [
      "/var/folders/0p/tdp0bmnn6y9_vcys0nhkf7mw0000gn/T/ipykernel_7607/1087280200.py:3: SettingWithCopyWarning: \n",
      "A value is trying to be set on a copy of a slice from a DataFrame.\n",
      "Try using .loc[row_indexer,col_indexer] = value instead\n",
      "\n",
      "See the caveats in the documentation: https://pandas.pydata.org/pandas-docs/stable/user_guide/indexing.html#returning-a-view-versus-a-copy\n",
      "  df_single_person['moving_avg'] = df_single_person['probability'].rolling(window=10, center=True).mean()\n"
     ]
    }
   ],
   "source": [
    "df_single_person = get_df_single_person(df_video, ID=1)"
   ]
  },
  {
   "cell_type": "code",
   "execution_count": 8,
   "metadata": {},
   "outputs": [
    {
     "data": {
      "text/html": [
       "<div>\n",
       "<style scoped>\n",
       "    .dataframe tbody tr th:only-of-type {\n",
       "        vertical-align: middle;\n",
       "    }\n",
       "\n",
       "    .dataframe tbody tr th {\n",
       "        vertical-align: top;\n",
       "    }\n",
       "\n",
       "    .dataframe thead th {\n",
       "        text-align: right;\n",
       "    }\n",
       "</style>\n",
       "<table border=\"1\" class=\"dataframe\">\n",
       "  <thead>\n",
       "    <tr style=\"text-align: right;\">\n",
       "      <th></th>\n",
       "      <th>frame</th>\n",
       "      <th>person_ID</th>\n",
       "      <th>emotion</th>\n",
       "      <th>probability</th>\n",
       "      <th>moving_avg</th>\n",
       "    </tr>\n",
       "  </thead>\n",
       "  <tbody>\n",
       "    <tr>\n",
       "      <th>0</th>\n",
       "      <td>0</td>\n",
       "      <td>1</td>\n",
       "      <td>Angry</td>\n",
       "      <td>0.085881</td>\n",
       "      <td>NaN</td>\n",
       "    </tr>\n",
       "    <tr>\n",
       "      <th>1</th>\n",
       "      <td>1</td>\n",
       "      <td>1</td>\n",
       "      <td>Angry</td>\n",
       "      <td>0.090539</td>\n",
       "      <td>NaN</td>\n",
       "    </tr>\n",
       "    <tr>\n",
       "      <th>2</th>\n",
       "      <td>2</td>\n",
       "      <td>1</td>\n",
       "      <td>Angry</td>\n",
       "      <td>0.031928</td>\n",
       "      <td>NaN</td>\n",
       "    </tr>\n",
       "    <tr>\n",
       "      <th>3</th>\n",
       "      <td>3</td>\n",
       "      <td>1</td>\n",
       "      <td>Angry</td>\n",
       "      <td>0.053955</td>\n",
       "      <td>NaN</td>\n",
       "    </tr>\n",
       "    <tr>\n",
       "      <th>4</th>\n",
       "      <td>4</td>\n",
       "      <td>1</td>\n",
       "      <td>Angry</td>\n",
       "      <td>0.042333</td>\n",
       "      <td>NaN</td>\n",
       "    </tr>\n",
       "    <tr>\n",
       "      <th>...</th>\n",
       "      <td>...</td>\n",
       "      <td>...</td>\n",
       "      <td>...</td>\n",
       "      <td>...</td>\n",
       "      <td>...</td>\n",
       "    </tr>\n",
       "    <tr>\n",
       "      <th>181</th>\n",
       "      <td>19</td>\n",
       "      <td>1</td>\n",
       "      <td>Neutral</td>\n",
       "      <td>0.023096</td>\n",
       "      <td>0.089042</td>\n",
       "    </tr>\n",
       "    <tr>\n",
       "      <th>182</th>\n",
       "      <td>20</td>\n",
       "      <td>1</td>\n",
       "      <td>Neutral</td>\n",
       "      <td>0.088136</td>\n",
       "      <td>NaN</td>\n",
       "    </tr>\n",
       "    <tr>\n",
       "      <th>183</th>\n",
       "      <td>21</td>\n",
       "      <td>1</td>\n",
       "      <td>Neutral</td>\n",
       "      <td>0.019044</td>\n",
       "      <td>NaN</td>\n",
       "    </tr>\n",
       "    <tr>\n",
       "      <th>184</th>\n",
       "      <td>22</td>\n",
       "      <td>1</td>\n",
       "      <td>Neutral</td>\n",
       "      <td>0.030466</td>\n",
       "      <td>NaN</td>\n",
       "    </tr>\n",
       "    <tr>\n",
       "      <th>185</th>\n",
       "      <td>23</td>\n",
       "      <td>1</td>\n",
       "      <td>Neutral</td>\n",
       "      <td>0.178083</td>\n",
       "      <td>NaN</td>\n",
       "    </tr>\n",
       "  </tbody>\n",
       "</table>\n",
       "<p>168 rows × 5 columns</p>\n",
       "</div>"
      ],
      "text/plain": [
       "     frame  person_ID  emotion  probability  moving_avg\n",
       "0        0          1    Angry     0.085881         NaN\n",
       "1        1          1    Angry     0.090539         NaN\n",
       "2        2          1    Angry     0.031928         NaN\n",
       "3        3          1    Angry     0.053955         NaN\n",
       "4        4          1    Angry     0.042333         NaN\n",
       "..     ...        ...      ...          ...         ...\n",
       "181     19          1  Neutral     0.023096    0.089042\n",
       "182     20          1  Neutral     0.088136         NaN\n",
       "183     21          1  Neutral     0.019044         NaN\n",
       "184     22          1  Neutral     0.030466         NaN\n",
       "185     23          1  Neutral     0.178083         NaN\n",
       "\n",
       "[168 rows x 5 columns]"
      ]
     },
     "execution_count": 8,
     "metadata": {},
     "output_type": "execute_result"
    }
   ],
   "source": [
    "df_single_person"
   ]
  },
  {
   "cell_type": "code",
   "execution_count": 9,
   "metadata": {},
   "outputs": [],
   "source": [
    "# Define a function that returns the emotion with the highest probability for a given row\n",
    "def get_max_emotion(row):\n",
    "    return row['emotion'][np.argmax(row['probability'])]\n",
    "\n",
    "def get_df_radar(df_single_person):\n",
    "    # Apply the function to each row of the DataFrame\n",
    "    max_prob_rows = df_single_person.groupby('frame')['probability'].idxmax().reset_index()\n",
    "    df_radar = df_single_person.loc[max_prob_rows['probability']]\n",
    "    feeling_counts = df_radar.groupby('emotion')['frame'].nunique()\n",
    "\n",
    "    return df_radar, feeling_counts\n",
    "\n",
    "\n"
   ]
  },
  {
   "cell_type": "code",
   "execution_count": 10,
   "metadata": {},
   "outputs": [],
   "source": [
    "# Define the color palette\n",
    "cb_palette = ['#40E0D0', '#ff7f00', '#9370DB', '#CA3435', '#1f77b4', '#9467bd', '#7f7f7f']\n",
    "\n",
    "def get_radar_plot(feeling_counts):\n",
    "    categories = [\"angry\",\n",
    "                \"disgust\",\n",
    "                \"fear\",\n",
    "                \"happy\",\n",
    "                \"sad\",\n",
    "                \"surprise\",\n",
    "                \"neutral\"]\n",
    "    #values = [max_prob_df[max_prob_df['feeling'] == category]['frame'].nunique() for category in categories]\n",
    "\n",
    "    # Define the categories and values\n",
    "    #categories = feeling_counts.index\n",
    "    values = feeling_counts.values\n",
    "\n",
    "    # Create the radar chart\n",
    "    trace = go.Scatterpolar(\n",
    "        r = values,\n",
    "        theta = categories,\n",
    "        fill = 'toself',\n",
    "        name = 'Prevalence of feelings'\n",
    "    )\n",
    "\n",
    "    # Set the layout for the chart\n",
    "    layout = go.Layout(\n",
    "        polar = dict(\n",
    "            radialaxis = dict(\n",
    "                visible = False,\n",
    "                range = [0, max(values)]\n",
    "            )\n",
    "        ),\n",
    "        showlegend = False,\n",
    "        title = 'Prevalence of feelings'\n",
    "    )\n",
    "\n",
    "    # Create the figure object and display the chart\n",
    "    Fig = go.Figure(data=[trace], layout=layout)\n",
    "    return trace, layout\n",
    "\n"
   ]
  },
  {
   "cell_type": "code",
   "execution_count": 11,
   "metadata": {},
   "outputs": [
    {
     "name": "stderr",
     "output_type": "stream",
     "text": [
      "/var/folders/0p/tdp0bmnn6y9_vcys0nhkf7mw0000gn/T/ipykernel_7607/1087280200.py:3: SettingWithCopyWarning: \n",
      "A value is trying to be set on a copy of a slice from a DataFrame.\n",
      "Try using .loc[row_indexer,col_indexer] = value instead\n",
      "\n",
      "See the caveats in the documentation: https://pandas.pydata.org/pandas-docs/stable/user_guide/indexing.html#returning-a-view-versus-a-copy\n",
      "  df_single_person['moving_avg'] = df_single_person['probability'].rolling(window=10, center=True).mean()\n"
     ]
    },
    {
     "data": {
      "application/vnd.plotly.v1+json": {
       "config": {
        "plotlyServerURL": "https://plot.ly"
       },
       "data": [
        {
         "hovertemplate": "x: %{x}<br>y: %{y}<br>color: [%{z[0]}, %{z[1]}, %{z[2]}]<extra></extra>",
         "name": "0",
         "source": "data:image/png;base64,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",
         "type": "image",
         "xaxis": "x",
         "yaxis": "y"
        },
        {
         "customdata": [
          [
           "Angry"
          ],
          [
           "Angry"
          ],
          [
           "Angry"
          ],
          [
           "Angry"
          ],
          [
           "Angry"
          ],
          [
           "Angry"
          ],
          [
           "Angry"
          ],
          [
           "Angry"
          ],
          [
           "Angry"
          ],
          [
           "Angry"
          ],
          [
           "Angry"
          ],
          [
           "Angry"
          ],
          [
           "Angry"
          ],
          [
           "Angry"
          ],
          [
           "Angry"
          ],
          [
           "Angry"
          ],
          [
           "Angry"
          ],
          [
           "Angry"
          ],
          [
           "Angry"
          ],
          [
           "Angry"
          ],
          [
           "Angry"
          ],
          [
           "Angry"
          ],
          [
           "Angry"
          ],
          [
           "Angry"
          ]
         ],
         "fillpattern": {
          "shape": ""
         },
         "hoverinfo": "all",
         "hoverlabel": {
          "bgcolor": "white",
          "font": {
           "size": 14
          }
         },
         "hovertemplate": "Emotion: %{fullData.name}<br>Frame: %{x:.2f} <br>Probability: %{y:.2f}",
         "legendgroup": "Angry",
         "line": {
          "color": "#40E0D0",
          "width": 2
         },
         "marker": {
          "symbol": "circle"
         },
         "mode": "lines",
         "name": "Angry",
         "orientation": "v",
         "showlegend": true,
         "stackgroup": "one",
         "type": "scatter",
         "x": [
          0,
          1,
          2,
          3,
          4,
          5,
          6,
          7,
          8,
          9,
          10,
          11,
          12,
          13,
          14,
          15,
          16,
          17,
          18,
          19,
          20,
          21,
          22,
          23
         ],
         "xaxis": "x2",
         "y": [
          null,
          null,
          null,
          null,
          null,
          0.06127352640032768,
          0.05613550208508968,
          0.04843827234581113,
          0.05814277799800038,
          0.05627672160044313,
          0.058607006911188364,
          0.06223971815779805,
          0.07378932358697057,
          0.06538313059136272,
          0.06869044406339526,
          0.06342763714492321,
          0.0697368711233139,
          0.07036144500598311,
          0.059015028178691864,
          0.0642893634736538,
          0.11884028911590576,
          0.11271810289472342,
          0.1033728240057826,
          0.11856327801942826
         ],
         "yaxis": "y2"
        },
        {
         "customdata": [
          [
           "Disgust"
          ],
          [
           "Disgust"
          ],
          [
           "Disgust"
          ],
          [
           "Disgust"
          ],
          [
           "Disgust"
          ],
          [
           "Disgust"
          ],
          [
           "Disgust"
          ],
          [
           "Disgust"
          ],
          [
           "Disgust"
          ],
          [
           "Disgust"
          ],
          [
           "Disgust"
          ],
          [
           "Disgust"
          ],
          [
           "Disgust"
          ],
          [
           "Disgust"
          ],
          [
           "Disgust"
          ],
          [
           "Disgust"
          ],
          [
           "Disgust"
          ],
          [
           "Disgust"
          ],
          [
           "Disgust"
          ],
          [
           "Disgust"
          ],
          [
           "Disgust"
          ],
          [
           "Disgust"
          ],
          [
           "Disgust"
          ],
          [
           "Disgust"
          ]
         ],
         "fillpattern": {
          "shape": ""
         },
         "hoverinfo": "all",
         "hoverlabel": {
          "bgcolor": "white",
          "font": {
           "size": 14
          }
         },
         "hovertemplate": "Emotion: %{fullData.name}<br>Frame: %{x:.2f} <br>Probability: %{y:.2f}",
         "legendgroup": "Disgust",
         "line": {
          "color": "#ff7f00",
          "width": 2
         },
         "marker": {
          "symbol": "circle"
         },
         "mode": "lines",
         "name": "Disgust",
         "orientation": "v",
         "showlegend": true,
         "stackgroup": "one",
         "type": "scatter",
         "x": [
          0,
          1,
          2,
          3,
          4,
          5,
          6,
          7,
          8,
          9,
          10,
          11,
          12,
          13,
          14,
          15,
          16,
          17,
          18,
          19,
          20,
          21,
          22,
          23
         ],
         "xaxis": "x2",
         "y": [
          0.11965398043394089,
          0.13483921801671386,
          0.14019579803571106,
          0.1504322930239141,
          0.17258920427411795,
          0.16954914387315512,
          0.11014379765838385,
          0.1106668559834361,
          0.12291377391666174,
          0.11608837526291609,
          0.11771501731127501,
          0.11213212590664626,
          0.11043088119477033,
          0.1144899545237422,
          0.12343790661543608,
          0.13028028439730405,
          0.1349327912554145,
          0.20093704536557197,
          0.18328015878796577,
          0.17232017423957585,
          0.1674397336319089,
          0.16994566936045885,
          0.165395094640553,
          0.15800091344863176
         ],
         "yaxis": "y2"
        },
        {
         "customdata": [
          [
           "Fear"
          ],
          [
           "Fear"
          ],
          [
           "Fear"
          ],
          [
           "Fear"
          ],
          [
           "Fear"
          ],
          [
           "Fear"
          ],
          [
           "Fear"
          ],
          [
           "Fear"
          ],
          [
           "Fear"
          ],
          [
           "Fear"
          ],
          [
           "Fear"
          ],
          [
           "Fear"
          ],
          [
           "Fear"
          ],
          [
           "Fear"
          ],
          [
           "Fear"
          ],
          [
           "Fear"
          ],
          [
           "Fear"
          ],
          [
           "Fear"
          ],
          [
           "Fear"
          ],
          [
           "Fear"
          ],
          [
           "Fear"
          ],
          [
           "Fear"
          ],
          [
           "Fear"
          ],
          [
           "Fear"
          ]
         ],
         "fillpattern": {
          "shape": ""
         },
         "hoverinfo": "all",
         "hoverlabel": {
          "bgcolor": "white",
          "font": {
           "size": 14
          }
         },
         "hovertemplate": "Emotion: %{fullData.name}<br>Frame: %{x:.2f} <br>Probability: %{y:.2f}",
         "legendgroup": "Fear",
         "line": {
          "color": "#9370DB",
          "width": 2
         },
         "marker": {
          "symbol": "circle"
         },
         "mode": "lines",
         "name": "Fear",
         "orientation": "v",
         "showlegend": true,
         "stackgroup": "one",
         "type": "scatter",
         "x": [
          0,
          1,
          2,
          3,
          4,
          5,
          6,
          7,
          8,
          9,
          10,
          11,
          12,
          13,
          14,
          15,
          16,
          17,
          18,
          19,
          20,
          21,
          22,
          23
         ],
         "xaxis": "x2",
         "y": [
          0.15653344411402942,
          0.1550834381952882,
          0.1679027633741498,
          0.12569788862019776,
          0.14332154411822556,
          0.1605352696031332,
          0.16637827083468437,
          0.156484592333436,
          0.16863633431494235,
          0.18123700357973577,
          0.16897137202322482,
          0.1957643311470747,
          0.18184214495122433,
          0.18702336512506007,
          0.2038735833019018,
          0.20468231700360776,
          0.24174424968659877,
          0.2499067083001137,
          0.24024809449911116,
          0.2287490636110306,
          0.21549108251929283,
          0.18017753083258867,
          0.19737219531089067,
          0.20017823595553635
         ],
         "yaxis": "y2"
        },
        {
         "customdata": [
          [
           "Happy"
          ],
          [
           "Happy"
          ],
          [
           "Happy"
          ],
          [
           "Happy"
          ],
          [
           "Happy"
          ],
          [
           "Happy"
          ],
          [
           "Happy"
          ],
          [
           "Happy"
          ],
          [
           "Happy"
          ],
          [
           "Happy"
          ],
          [
           "Happy"
          ],
          [
           "Happy"
          ],
          [
           "Happy"
          ],
          [
           "Happy"
          ],
          [
           "Happy"
          ],
          [
           "Happy"
          ],
          [
           "Happy"
          ],
          [
           "Happy"
          ],
          [
           "Happy"
          ],
          [
           "Happy"
          ],
          [
           "Happy"
          ],
          [
           "Happy"
          ],
          [
           "Happy"
          ],
          [
           "Happy"
          ]
         ],
         "fillpattern": {
          "shape": ""
         },
         "hoverinfo": "all",
         "hoverlabel": {
          "bgcolor": "white",
          "font": {
           "size": 14
          }
         },
         "hovertemplate": "Emotion: %{fullData.name}<br>Frame: %{x:.2f} <br>Probability: %{y:.2f}",
         "legendgroup": "Happy",
         "line": {
          "color": "#CA3435",
          "width": 2
         },
         "marker": {
          "symbol": "circle"
         },
         "mode": "lines",
         "name": "Happy",
         "orientation": "v",
         "showlegend": true,
         "stackgroup": "one",
         "type": "scatter",
         "x": [
          0,
          1,
          2,
          3,
          4,
          5,
          6,
          7,
          8,
          9,
          10,
          11,
          12,
          13,
          14,
          15,
          16,
          17,
          18,
          19,
          20,
          21,
          22,
          23
         ],
         "xaxis": "x2",
         "y": [
          0.1783601062372327,
          0.16709852311760187,
          0.13380547109991311,
          0.13225446734577417,
          0.1280770281329751,
          0.12471930701285601,
          0.14605644736438989,
          0.2254691541194916,
          0.2112838476896286,
          0.1912636935710907,
          0.1909146100282669,
          0.19288809448480607,
          0.22307429015636443,
          0.2142499726265669,
          0.21754579804837704,
          0.21153641790151595,
          0.1938656434416771,
          0.11295998403802514,
          0.10921359332278371,
          0.15243123741820455,
          0.13874282389879228,
          0.13132058419287204,
          0.08816172294318676,
          0.08793336525559425
         ],
         "yaxis": "y2"
        },
        {
         "customdata": [
          [
           "Sad"
          ],
          [
           "Sad"
          ],
          [
           "Sad"
          ],
          [
           "Sad"
          ],
          [
           "Sad"
          ],
          [
           "Sad"
          ],
          [
           "Sad"
          ],
          [
           "Sad"
          ],
          [
           "Sad"
          ],
          [
           "Sad"
          ],
          [
           "Sad"
          ],
          [
           "Sad"
          ],
          [
           "Sad"
          ],
          [
           "Sad"
          ],
          [
           "Sad"
          ],
          [
           "Sad"
          ],
          [
           "Sad"
          ],
          [
           "Sad"
          ],
          [
           "Sad"
          ],
          [
           "Sad"
          ],
          [
           "Sad"
          ],
          [
           "Sad"
          ],
          [
           "Sad"
          ],
          [
           "Sad"
          ]
         ],
         "fillpattern": {
          "shape": ""
         },
         "hoverinfo": "all",
         "hoverlabel": {
          "bgcolor": "white",
          "font": {
           "size": 14
          }
         },
         "hovertemplate": "Emotion: %{fullData.name}<br>Frame: %{x:.2f} <br>Probability: %{y:.2f}",
         "legendgroup": "Sad",
         "line": {
          "color": "#1f77b4",
          "width": 2
         },
         "marker": {
          "symbol": "circle"
         },
         "mode": "lines",
         "name": "Sad",
         "orientation": "v",
         "showlegend": true,
         "stackgroup": "one",
         "type": "scatter",
         "x": [
          0,
          1,
          2,
          3,
          4,
          5,
          6,
          7,
          8,
          9,
          10,
          11,
          12,
          13,
          14,
          15,
          16,
          17,
          18,
          19,
          20,
          21,
          22,
          23
         ],
         "xaxis": "x2",
         "y": [
          0.08393296897411347,
          0.0869322519749403,
          0.08024395257234573,
          0.08116972865536809,
          0.07816836535930634,
          0.024093786254525185,
          0.02471904903650284,
          0.02437116941437125,
          0.02560632908716798,
          0.02800614098086953,
          0.02586928429082036,
          0.030729619879275562,
          0.032337757665663956,
          0.03273128857836127,
          0.03476108126342296,
          0.032632268592715265,
          0.04152278797701001,
          0.043416828475892545,
          0.04139609946869314,
          0.041488969093188645,
          0.04647626071237028,
          0.09961816384457052,
          0.12866674489341676,
          0.14574664062820375
         ],
         "yaxis": "y2"
        },
        {
         "customdata": [
          [
           "Surprise"
          ],
          [
           "Surprise"
          ],
          [
           "Surprise"
          ],
          [
           "Surprise"
          ],
          [
           "Surprise"
          ],
          [
           "Surprise"
          ],
          [
           "Surprise"
          ],
          [
           "Surprise"
          ],
          [
           "Surprise"
          ],
          [
           "Surprise"
          ],
          [
           "Surprise"
          ],
          [
           "Surprise"
          ],
          [
           "Surprise"
          ],
          [
           "Surprise"
          ],
          [
           "Surprise"
          ],
          [
           "Surprise"
          ],
          [
           "Surprise"
          ],
          [
           "Surprise"
          ],
          [
           "Surprise"
          ],
          [
           "Surprise"
          ],
          [
           "Surprise"
          ],
          [
           "Surprise"
          ],
          [
           "Surprise"
          ],
          [
           "Surprise"
          ]
         ],
         "fillpattern": {
          "shape": ""
         },
         "hoverinfo": "all",
         "hoverlabel": {
          "bgcolor": "white",
          "font": {
           "size": 14
          }
         },
         "hovertemplate": "Emotion: %{fullData.name}<br>Frame: %{x:.2f} <br>Probability: %{y:.2f}",
         "legendgroup": "Surprise",
         "line": {
          "color": "#9467bd",
          "width": 2
         },
         "marker": {
          "symbol": "circle"
         },
         "mode": "lines",
         "name": "Surprise",
         "orientation": "v",
         "showlegend": true,
         "stackgroup": "one",
         "type": "scatter",
         "x": [
          0,
          1,
          2,
          3,
          4,
          5,
          6,
          7,
          8,
          9,
          10,
          11,
          12,
          13,
          14,
          15,
          16,
          17,
          18,
          19,
          20,
          21,
          22,
          23
         ],
         "xaxis": "x2",
         "y": [
          0.17173600657843052,
          0.2083901239093393,
          0.23445990583859383,
          0.26200918792746963,
          0.3009106989949942,
          0.34323531836271287,
          0.37850273996591566,
          0.31917758397758006,
          0.3189580451697111,
          0.3405316885560751,
          0.32544371746480466,
          0.30729044042527676,
          0.2785629522055387,
          0.28933971039950845,
          0.255868899077177,
          0.27354661747813225,
          0.2370999976992607,
          0.24656944833695887,
          0.29061043821275234,
          0.251679321937263,
          0.24736753907054662,
          0.23768686931580305,
          0.2538469133898616,
          0.22520977836102246
         ],
         "yaxis": "y2"
        },
        {
         "customdata": [
          [
           "Neutral"
          ],
          [
           "Neutral"
          ],
          [
           "Neutral"
          ],
          [
           "Neutral"
          ],
          [
           "Neutral"
          ],
          [
           "Neutral"
          ],
          [
           "Neutral"
          ],
          [
           "Neutral"
          ],
          [
           "Neutral"
          ],
          [
           "Neutral"
          ],
          [
           "Neutral"
          ],
          [
           "Neutral"
          ],
          [
           "Neutral"
          ],
          [
           "Neutral"
          ],
          [
           "Neutral"
          ],
          [
           "Neutral"
          ],
          [
           "Neutral"
          ],
          [
           "Neutral"
          ],
          [
           "Neutral"
          ],
          [
           "Neutral"
          ],
          [
           "Neutral"
          ],
          [
           "Neutral"
          ],
          [
           "Neutral"
          ],
          [
           "Neutral"
          ]
         ],
         "fillpattern": {
          "shape": ""
         },
         "hoverinfo": "all",
         "hoverlabel": {
          "bgcolor": "white",
          "font": {
           "size": 14
          }
         },
         "hovertemplate": "Emotion: %{fullData.name}<br>Frame: %{x:.2f} <br>Probability: %{y:.2f}",
         "legendgroup": "Neutral",
         "line": {
          "color": "#7f7f7f",
          "width": 2
         },
         "marker": {
          "symbol": "circle"
         },
         "mode": "lines",
         "name": "Neutral",
         "orientation": "v",
         "showlegend": true,
         "stackgroup": "one",
         "type": "scatter",
         "x": [
          0,
          1,
          2,
          3,
          4,
          5,
          6,
          7,
          8,
          9,
          10,
          11,
          12,
          13,
          14,
          15,
          16,
          17,
          18,
          19,
          20,
          21,
          22,
          23
         ],
         "xaxis": "x2",
         "y": [
          0.22543730232864617,
          0.18142899964004755,
          0.18081690166145564,
          0.17644616011530162,
          0.10454052668064832,
          0.11659368090331554,
          0.11806422360241413,
          0.11539239846169949,
          0.09445889852941036,
          0.08659638427197933,
          0.11247900165617467,
          0.0989556722342968,
          0.0999626599252224,
          0.09678258448839187,
          0.09582229368388653,
          0.08389446064829827,
          0.08109766021370887,
          0.07584854122251272,
          0.07623659856617451,
          0.08904187865555287,
          null,
          null,
          null,
          null
         ],
         "yaxis": "y2"
        },
        {
         "fill": "toself",
         "name": "Prevalence of feelings",
         "r": [
          2,
          4,
          4,
          1,
          13
         ],
         "subplot": "polar",
         "theta": [
          "angry",
          "disgust",
          "fear",
          "happy",
          "sad",
          "surprise",
          "neutral"
         ],
         "type": "scatterpolar"
        }
       ],
       "layout": {
        "height": 330,
        "legend": {
         "font": {
          "size": 10
         },
         "orientation": "h",
         "x": 0.5,
         "xanchor": "center",
         "y": -0.15,
         "yanchor": "top"
        },
        "polar": {
         "domain": {
          "x": [
           0.8266666666666667,
           1
          ],
          "y": [
           0,
           1
          ]
         },
         "radialaxis": {
          "range": [
           0,
           13
          ],
          "visible": false
         }
        },
        "template": {
         "data": {
          "bar": [
           {
            "error_x": {
             "color": "#2a3f5f"
            },
            "error_y": {
             "color": "#2a3f5f"
            },
            "marker": {
             "line": {
              "color": "#E5ECF6",
              "width": 0.5
             },
             "pattern": {
              "fillmode": "overlay",
              "size": 10,
              "solidity": 0.2
             }
            },
            "type": "bar"
           }
          ],
          "barpolar": [
           {
            "marker": {
             "line": {
              "color": "#E5ECF6",
              "width": 0.5
             },
             "pattern": {
              "fillmode": "overlay",
              "size": 10,
              "solidity": 0.2
             }
            },
            "type": "barpolar"
           }
          ],
          "carpet": [
           {
            "aaxis": {
             "endlinecolor": "#2a3f5f",
             "gridcolor": "white",
             "linecolor": "white",
             "minorgridcolor": "white",
             "startlinecolor": "#2a3f5f"
            },
            "baxis": {
             "endlinecolor": "#2a3f5f",
             "gridcolor": "white",
             "linecolor": "white",
             "minorgridcolor": "white",
             "startlinecolor": "#2a3f5f"
            },
            "type": "carpet"
           }
          ],
          "choropleth": [
           {
            "colorbar": {
             "outlinewidth": 0,
             "ticks": ""
            },
            "type": "choropleth"
           }
          ],
          "contour": [
           {
            "colorbar": {
             "outlinewidth": 0,
             "ticks": ""
            },
            "colorscale": [
             [
              0,
              "#0d0887"
             ],
             [
              0.1111111111111111,
              "#46039f"
             ],
             [
              0.2222222222222222,
              "#7201a8"
             ],
             [
              0.3333333333333333,
              "#9c179e"
             ],
             [
              0.4444444444444444,
              "#bd3786"
             ],
             [
              0.5555555555555556,
              "#d8576b"
             ],
             [
              0.6666666666666666,
              "#ed7953"
             ],
             [
              0.7777777777777778,
              "#fb9f3a"
             ],
             [
              0.8888888888888888,
              "#fdca26"
             ],
             [
              1,
              "#f0f921"
             ]
            ],
            "type": "contour"
           }
          ],
          "contourcarpet": [
           {
            "colorbar": {
             "outlinewidth": 0,
             "ticks": ""
            },
            "type": "contourcarpet"
           }
          ],
          "heatmap": [
           {
            "colorbar": {
             "outlinewidth": 0,
             "ticks": ""
            },
            "colorscale": [
             [
              0,
              "#0d0887"
             ],
             [
              0.1111111111111111,
              "#46039f"
             ],
             [
              0.2222222222222222,
              "#7201a8"
             ],
             [
              0.3333333333333333,
              "#9c179e"
             ],
             [
              0.4444444444444444,
              "#bd3786"
             ],
             [
              0.5555555555555556,
              "#d8576b"
             ],
             [
              0.6666666666666666,
              "#ed7953"
             ],
             [
              0.7777777777777778,
              "#fb9f3a"
             ],
             [
              0.8888888888888888,
              "#fdca26"
             ],
             [
              1,
              "#f0f921"
             ]
            ],
            "type": "heatmap"
           }
          ],
          "heatmapgl": [
           {
            "colorbar": {
             "outlinewidth": 0,
             "ticks": ""
            },
            "colorscale": [
             [
              0,
              "#0d0887"
             ],
             [
              0.1111111111111111,
              "#46039f"
             ],
             [
              0.2222222222222222,
              "#7201a8"
             ],
             [
              0.3333333333333333,
              "#9c179e"
             ],
             [
              0.4444444444444444,
              "#bd3786"
             ],
             [
              0.5555555555555556,
              "#d8576b"
             ],
             [
              0.6666666666666666,
              "#ed7953"
             ],
             [
              0.7777777777777778,
              "#fb9f3a"
             ],
             [
              0.8888888888888888,
              "#fdca26"
             ],
             [
              1,
              "#f0f921"
             ]
            ],
            "type": "heatmapgl"
           }
          ],
          "histogram": [
           {
            "marker": {
             "pattern": {
              "fillmode": "overlay",
              "size": 10,
              "solidity": 0.2
             }
            },
            "type": "histogram"
           }
          ],
          "histogram2d": [
           {
            "colorbar": {
             "outlinewidth": 0,
             "ticks": ""
            },
            "colorscale": [
             [
              0,
              "#0d0887"
             ],
             [
              0.1111111111111111,
              "#46039f"
             ],
             [
              0.2222222222222222,
              "#7201a8"
             ],
             [
              0.3333333333333333,
              "#9c179e"
             ],
             [
              0.4444444444444444,
              "#bd3786"
             ],
             [
              0.5555555555555556,
              "#d8576b"
             ],
             [
              0.6666666666666666,
              "#ed7953"
             ],
             [
              0.7777777777777778,
              "#fb9f3a"
             ],
             [
              0.8888888888888888,
              "#fdca26"
             ],
             [
              1,
              "#f0f921"
             ]
            ],
            "type": "histogram2d"
           }
          ],
          "histogram2dcontour": [
           {
            "colorbar": {
             "outlinewidth": 0,
             "ticks": ""
            },
            "colorscale": [
             [
              0,
              "#0d0887"
             ],
             [
              0.1111111111111111,
              "#46039f"
             ],
             [
              0.2222222222222222,
              "#7201a8"
             ],
             [
              0.3333333333333333,
              "#9c179e"
             ],
             [
              0.4444444444444444,
              "#bd3786"
             ],
             [
              0.5555555555555556,
              "#d8576b"
             ],
             [
              0.6666666666666666,
              "#ed7953"
             ],
             [
              0.7777777777777778,
              "#fb9f3a"
             ],
             [
              0.8888888888888888,
              "#fdca26"
             ],
             [
              1,
              "#f0f921"
             ]
            ],
            "type": "histogram2dcontour"
           }
          ],
          "mesh3d": [
           {
            "colorbar": {
             "outlinewidth": 0,
             "ticks": ""
            },
            "type": "mesh3d"
           }
          ],
          "parcoords": [
           {
            "line": {
             "colorbar": {
              "outlinewidth": 0,
              "ticks": ""
             }
            },
            "type": "parcoords"
           }
          ],
          "pie": [
           {
            "automargin": true,
            "type": "pie"
           }
          ],
          "scatter": [
           {
            "fillpattern": {
             "fillmode": "overlay",
             "size": 10,
             "solidity": 0.2
            },
            "type": "scatter"
           }
          ],
          "scatter3d": [
           {
            "line": {
             "colorbar": {
              "outlinewidth": 0,
              "ticks": ""
             }
            },
            "marker": {
             "colorbar": {
              "outlinewidth": 0,
              "ticks": ""
             }
            },
            "type": "scatter3d"
           }
          ],
          "scattercarpet": [
           {
            "marker": {
             "colorbar": {
              "outlinewidth": 0,
              "ticks": ""
             }
            },
            "type": "scattercarpet"
           }
          ],
          "scattergeo": [
           {
            "marker": {
             "colorbar": {
              "outlinewidth": 0,
              "ticks": ""
             }
            },
            "type": "scattergeo"
           }
          ],
          "scattergl": [
           {
            "marker": {
             "colorbar": {
              "outlinewidth": 0,
              "ticks": ""
             }
            },
            "type": "scattergl"
           }
          ],
          "scattermapbox": [
           {
            "marker": {
             "colorbar": {
              "outlinewidth": 0,
              "ticks": ""
             }
            },
            "type": "scattermapbox"
           }
          ],
          "scatterpolar": [
           {
            "marker": {
             "colorbar": {
              "outlinewidth": 0,
              "ticks": ""
             }
            },
            "type": "scatterpolar"
           }
          ],
          "scatterpolargl": [
           {
            "marker": {
             "colorbar": {
              "outlinewidth": 0,
              "ticks": ""
             }
            },
            "type": "scatterpolargl"
           }
          ],
          "scatterternary": [
           {
            "marker": {
             "colorbar": {
              "outlinewidth": 0,
              "ticks": ""
             }
            },
            "type": "scatterternary"
           }
          ],
          "surface": [
           {
            "colorbar": {
             "outlinewidth": 0,
             "ticks": ""
            },
            "colorscale": [
             [
              0,
              "#0d0887"
             ],
             [
              0.1111111111111111,
              "#46039f"
             ],
             [
              0.2222222222222222,
              "#7201a8"
             ],
             [
              0.3333333333333333,
              "#9c179e"
             ],
             [
              0.4444444444444444,
              "#bd3786"
             ],
             [
              0.5555555555555556,
              "#d8576b"
             ],
             [
              0.6666666666666666,
              "#ed7953"
             ],
             [
              0.7777777777777778,
              "#fb9f3a"
             ],
             [
              0.8888888888888888,
              "#fdca26"
             ],
             [
              1,
              "#f0f921"
             ]
            ],
            "type": "surface"
           }
          ],
          "table": [
           {
            "cells": {
             "fill": {
              "color": "#EBF0F8"
             },
             "line": {
              "color": "white"
             }
            },
            "header": {
             "fill": {
              "color": "#C8D4E3"
             },
             "line": {
              "color": "white"
             }
            },
            "type": "table"
           }
          ]
         },
         "layout": {
          "annotationdefaults": {
           "arrowcolor": "#2a3f5f",
           "arrowhead": 0,
           "arrowwidth": 1
          },
          "autotypenumbers": "strict",
          "coloraxis": {
           "colorbar": {
            "outlinewidth": 0,
            "ticks": ""
           }
          },
          "colorscale": {
           "diverging": [
            [
             0,
             "#8e0152"
            ],
            [
             0.1,
             "#c51b7d"
            ],
            [
             0.2,
             "#de77ae"
            ],
            [
             0.3,
             "#f1b6da"
            ],
            [
             0.4,
             "#fde0ef"
            ],
            [
             0.5,
             "#f7f7f7"
            ],
            [
             0.6,
             "#e6f5d0"
            ],
            [
             0.7,
             "#b8e186"
            ],
            [
             0.8,
             "#7fbc41"
            ],
            [
             0.9,
             "#4d9221"
            ],
            [
             1,
             "#276419"
            ]
           ],
           "sequential": [
            [
             0,
             "#0d0887"
            ],
            [
             0.1111111111111111,
             "#46039f"
            ],
            [
             0.2222222222222222,
             "#7201a8"
            ],
            [
             0.3333333333333333,
             "#9c179e"
            ],
            [
             0.4444444444444444,
             "#bd3786"
            ],
            [
             0.5555555555555556,
             "#d8576b"
            ],
            [
             0.6666666666666666,
             "#ed7953"
            ],
            [
             0.7777777777777778,
             "#fb9f3a"
            ],
            [
             0.8888888888888888,
             "#fdca26"
            ],
            [
             1,
             "#f0f921"
            ]
           ],
           "sequentialminus": [
            [
             0,
             "#0d0887"
            ],
            [
             0.1111111111111111,
             "#46039f"
            ],
            [
             0.2222222222222222,
             "#7201a8"
            ],
            [
             0.3333333333333333,
             "#9c179e"
            ],
            [
             0.4444444444444444,
             "#bd3786"
            ],
            [
             0.5555555555555556,
             "#d8576b"
            ],
            [
             0.6666666666666666,
             "#ed7953"
            ],
            [
             0.7777777777777778,
             "#fb9f3a"
            ],
            [
             0.8888888888888888,
             "#fdca26"
            ],
            [
             1,
             "#f0f921"
            ]
           ]
          },
          "colorway": [
           "#636efa",
           "#EF553B",
           "#00cc96",
           "#ab63fa",
           "#FFA15A",
           "#19d3f3",
           "#FF6692",
           "#B6E880",
           "#FF97FF",
           "#FECB52"
          ],
          "font": {
           "color": "#2a3f5f"
          },
          "geo": {
           "bgcolor": "white",
           "lakecolor": "white",
           "landcolor": "#E5ECF6",
           "showlakes": true,
           "showland": true,
           "subunitcolor": "white"
          },
          "hoverlabel": {
           "align": "left"
          },
          "hovermode": "closest",
          "mapbox": {
           "style": "light"
          },
          "paper_bgcolor": "white",
          "plot_bgcolor": "#E5ECF6",
          "polar": {
           "angularaxis": {
            "gridcolor": "white",
            "linecolor": "white",
            "ticks": ""
           },
           "bgcolor": "#E5ECF6",
           "radialaxis": {
            "gridcolor": "white",
            "linecolor": "white",
            "ticks": ""
           }
          },
          "scene": {
           "xaxis": {
            "backgroundcolor": "#E5ECF6",
            "gridcolor": "white",
            "gridwidth": 2,
            "linecolor": "white",
            "showbackground": true,
            "ticks": "",
            "zerolinecolor": "white"
           },
           "yaxis": {
            "backgroundcolor": "#E5ECF6",
            "gridcolor": "white",
            "gridwidth": 2,
            "linecolor": "white",
            "showbackground": true,
            "ticks": "",
            "zerolinecolor": "white"
           },
           "zaxis": {
            "backgroundcolor": "#E5ECF6",
            "gridcolor": "white",
            "gridwidth": 2,
            "linecolor": "white",
            "showbackground": true,
            "ticks": "",
            "zerolinecolor": "white"
           }
          },
          "shapedefaults": {
           "line": {
            "color": "#2a3f5f"
           }
          },
          "ternary": {
           "aaxis": {
            "gridcolor": "white",
            "linecolor": "white",
            "ticks": ""
           },
           "baxis": {
            "gridcolor": "white",
            "linecolor": "white",
            "ticks": ""
           },
           "bgcolor": "#E5ECF6",
           "caxis": {
            "gridcolor": "white",
            "linecolor": "white",
            "ticks": ""
           }
          },
          "title": {
           "x": 0.05
          },
          "xaxis": {
           "automargin": true,
           "gridcolor": "white",
           "linecolor": "white",
           "ticks": "",
           "title": {
            "standoff": 15
           },
           "zerolinecolor": "white",
           "zerolinewidth": 2
          },
          "yaxis": {
           "automargin": true,
           "gridcolor": "white",
           "linecolor": "white",
           "ticks": "",
           "title": {
            "standoff": 15
           },
           "zerolinecolor": "white",
           "zerolinewidth": 2
          }
         }
        },
        "title": {
         "text": "Two Graphs and an Image Side by Side"
        },
        "xaxis": {
         "anchor": "y",
         "domain": [
          0,
          0.17333333333333334
         ]
        },
        "xaxis2": {
         "anchor": "y2",
         "domain": [
          0.24,
          0.76
         ]
        },
        "yaxis": {
         "anchor": "x",
         "domain": [
          0,
          1
         ]
        },
        "yaxis2": {
         "anchor": "x2",
         "domain": [
          0,
          1
         ]
        }
       }
      }
     },
     "metadata": {},
     "output_type": "display_data"
    }
   ],
   "source": [
    "df_single_person = get_df_single_person(df_video, ID=1)\n",
    "df_radar, feeling_counts = get_df_radar(df_single_person)\n",
    "\n",
    "# Create two traces and an image\n",
    "image_array = result['portraits'][1]\n",
    "fig_area = get_emotion_landscape(df_single_person)\n",
    "trace_radar, layout = get_radar_plot(feeling_counts)\n",
    "\n",
    "\n",
    "\n",
    "# Create a 3x1 grid of subplots with custom column widths\n",
    "fig = make_subplots(rows=1, cols=3, column_widths=[0.2, 0.6, 0.2], specs=[[{'type': 'image'}, {'type': 'xy'}, {'type': 'polar'}]])\n",
    "\n",
    "# Add trace1, trace2, and the image to their respective subplots\n",
    "fig.add_trace(px.imshow(image_array).data[0], row=1, col=1)\n",
    "for i in range(7):\n",
    "    fig.add_trace(fig_area.data[i], row=1, col=2)\n",
    "fig.add_trace(trace_radar, row=1, col=3)\n",
    "\n",
    "#fig.add_trace\n",
    "\n",
    "# Update layout\n",
    "\n",
    "fig.update_layout(\n",
    "    polar_radialaxis=layout['polar']['radialaxis'],\n",
    "    title='Two Graphs and an Image Side by Side',\n",
    "    height = 330,\n",
    "    legend=dict(\n",
    "        font=dict(size=10),\n",
    "        xanchor='center',\n",
    "        yanchor='top',\n",
    "        x=0.5,\n",
    "        y=-0.15,\n",
    "        orientation='h')\n",
    "    )\n",
    "\n",
    "\n",
    "\n",
    "\n",
    "# Show the figure\n",
    "fig.show()"
   ]
  },
  {
   "cell_type": "code",
   "execution_count": 12,
   "metadata": {},
   "outputs": [
    {
     "name": "stdout",
     "output_type": "stream",
     "text": [
      "     frame  person_ID   emotion  probability  moving_avg\n",
      "27       0          1   Disgust     0.611146    0.119654\n",
      "136      1          1  Surprise     0.616187    0.208390\n",
      "137      2          1  Surprise     0.332994    0.234460\n",
      "84       3          1     Happy     0.340111    0.132254\n",
      "58       4          1      Fear     0.311882    0.143322\n",
      "140      5          1  Surprise     0.376593    0.343235\n",
      "141      6          1  Surprise     0.361595    0.378503\n",
      "142      7          1  Surprise     0.307259    0.319178\n",
      "143      8          1  Surprise     0.393484    0.318958\n",
      "144      9          1  Surprise     0.460170    0.340532\n",
      "145     10          1  Surprise     0.445931    0.325444\n",
      "92      11          1     Happy     0.820482    0.192888\n",
      "147     12          1  Surprise     0.330799    0.278563\n",
      "148     13          1  Surprise     0.411154    0.289340\n",
      "176     14          1   Neutral     0.319877    0.095822\n",
      "69      15          1      Fear     0.379490    0.204682\n",
      "97      16          1     Happy     0.443913    0.193866\n",
      "152     17          1  Surprise     0.415027    0.246569\n",
      "72      18          1      Fear     0.364296    0.240248\n",
      "154     19          1  Surprise     0.636948    0.251679\n",
      "74      20          1      Fear     0.474982    0.215491\n",
      "48      21          1   Disgust     0.682287    0.169946\n",
      "157     22          1  Surprise     0.771209    0.253847\n",
      "104     23          1     Happy     0.572086    0.087933\n"
     ]
    },
    {
     "ename": "ValueError",
     "evalue": "The truth value of an array with more than one element is ambiguous. Use a.any() or a.all()",
     "output_type": "error",
     "traceback": [
      "\u001b[0;31m---------------------------------------------------------------------------\u001b[0m",
      "\u001b[0;31mValueError\u001b[0m                                Traceback (most recent call last)",
      "Cell \u001b[0;32mIn[12], line 2\u001b[0m\n\u001b[1;32m      1\u001b[0m \u001b[39mprint\u001b[39m(df_radar)\n\u001b[0;32m----> 2\u001b[0m fig_radar \u001b[39m=\u001b[39m get_radar_plot(df_radar)\n",
      "Cell \u001b[0;32mIn[10], line 31\u001b[0m, in \u001b[0;36mget_radar_plot\u001b[0;34m(feeling_counts)\u001b[0m\n\u001b[1;32m     19\u001b[0m trace \u001b[39m=\u001b[39m go\u001b[39m.\u001b[39mScatterpolar(\n\u001b[1;32m     20\u001b[0m     r \u001b[39m=\u001b[39m values,\n\u001b[1;32m     21\u001b[0m     theta \u001b[39m=\u001b[39m categories,\n\u001b[1;32m     22\u001b[0m     fill \u001b[39m=\u001b[39m \u001b[39m'\u001b[39m\u001b[39mtoself\u001b[39m\u001b[39m'\u001b[39m,\n\u001b[1;32m     23\u001b[0m     name \u001b[39m=\u001b[39m \u001b[39m'\u001b[39m\u001b[39mPrevalence of feelings\u001b[39m\u001b[39m'\u001b[39m\n\u001b[1;32m     24\u001b[0m )\n\u001b[1;32m     26\u001b[0m \u001b[39m# Set the layout for the chart\u001b[39;00m\n\u001b[1;32m     27\u001b[0m layout \u001b[39m=\u001b[39m go\u001b[39m.\u001b[39mLayout(\n\u001b[1;32m     28\u001b[0m     polar \u001b[39m=\u001b[39m \u001b[39mdict\u001b[39m(\n\u001b[1;32m     29\u001b[0m         radialaxis \u001b[39m=\u001b[39m \u001b[39mdict\u001b[39m(\n\u001b[1;32m     30\u001b[0m             visible \u001b[39m=\u001b[39m \u001b[39mFalse\u001b[39;00m,\n\u001b[0;32m---> 31\u001b[0m             \u001b[39mrange\u001b[39m \u001b[39m=\u001b[39m [\u001b[39m0\u001b[39m, \u001b[39mmax\u001b[39;49m(values)]\n\u001b[1;32m     32\u001b[0m         )\n\u001b[1;32m     33\u001b[0m     ),\n\u001b[1;32m     34\u001b[0m     showlegend \u001b[39m=\u001b[39m \u001b[39mFalse\u001b[39;00m,\n\u001b[1;32m     35\u001b[0m     title \u001b[39m=\u001b[39m \u001b[39m'\u001b[39m\u001b[39mPrevalence of feelings\u001b[39m\u001b[39m'\u001b[39m\n\u001b[1;32m     36\u001b[0m )\n\u001b[1;32m     38\u001b[0m \u001b[39m# Create the figure object and display the chart\u001b[39;00m\n\u001b[1;32m     39\u001b[0m Fig \u001b[39m=\u001b[39m go\u001b[39m.\u001b[39mFigure(data\u001b[39m=\u001b[39m[trace], layout\u001b[39m=\u001b[39mlayout)\n",
      "\u001b[0;31mValueError\u001b[0m: The truth value of an array with more than one element is ambiguous. Use a.any() or a.all()"
     ]
    }
   ],
   "source": [
    "print(df_radar)\n",
    "fig_radar = get_radar_plot(df_radar)"
   ]
  }
 ],
 "metadata": {
  "kernelspec": {
   "display_name": ".venv",
   "language": "python",
   "name": "python3"
  },
  "language_info": {
   "codemirror_mode": {
    "name": "ipython",
    "version": 3
   },
   "file_extension": ".py",
   "mimetype": "text/x-python",
   "name": "python",
   "nbconvert_exporter": "python",
   "pygments_lexer": "ipython3",
   "version": "3.9.8"
  },
  "orig_nbformat": 4,
  "vscode": {
   "interpreter": {
    "hash": "292d9171ab7c5408b6324c6043caf24aa9a11213294e6785916c17bd69f18dee"
   }
  }
 },
 "nbformat": 4,
 "nbformat_minor": 2
}
