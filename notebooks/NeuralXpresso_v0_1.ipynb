{
 "cells": [
  {
   "cell_type": "code",
   "execution_count": 1,
   "metadata": {},
   "outputs": [
    {
     "name": "stdout",
     "output_type": "stream",
     "text": [
      "Requirement already satisfied: face_recognition in /Users/steve/Neue_Fische/NeuralXpresso/.venv/lib/python3.9/site-packages (1.3.0)\n",
      "Requirement already satisfied: Pillow in /Users/steve/Neue_Fische/NeuralXpresso/.venv/lib/python3.9/site-packages (from face_recognition) (9.4.0)\n",
      "Requirement already satisfied: face-recognition-models>=0.3.0 in /Users/steve/Neue_Fische/NeuralXpresso/.venv/lib/python3.9/site-packages (from face_recognition) (0.3.0)\n",
      "Requirement already satisfied: Click>=6.0 in /Users/steve/Neue_Fische/NeuralXpresso/.venv/lib/python3.9/site-packages (from face_recognition) (8.1.3)\n",
      "Requirement already satisfied: dlib>=19.7 in /Users/steve/Neue_Fische/NeuralXpresso/.venv/lib/python3.9/site-packages (from face_recognition) (19.24.0)\n",
      "Requirement already satisfied: numpy in /Users/steve/Neue_Fische/NeuralXpresso/.venv/lib/python3.9/site-packages (from face_recognition) (1.24.2)\n"
     ]
    }
   ],
   "source": [
    "#!pip install pytube\n",
    "#!pip install plotly\n",
    "!pip install face_recognition\n",
    "#!pip install CMake"
   ]
  },
  {
   "cell_type": "code",
   "execution_count": 2,
   "metadata": {},
   "outputs": [],
   "source": [
    "import os           \n",
    "\n",
    "# Check if string is appropriate youtube link\n",
    "import re\n",
    "import cv2\n",
    "import numpy as np\n",
    "import pandas as pd\n",
    "#from facenet_pytorch import MTCNN\n",
    "from matplotlib import pyplot as plt\n",
    "from keras.models import load_model\n",
    "from pytube import YouTube\n",
    "\n",
    "import face_recognition\n",
    "\n",
    "import seaborn as sns\n",
    "import plotly.express as px\n",
    "\n",
    "# DEBUG-Mode stops operations when max_emotions were detected and also prints a short summary\n",
    "DEBUG = True\n",
    "if DEBUG:\n",
    "    import time\n",
    "    debug_params = {\n",
    "        'max_emotions' : 100\n",
    "    }"
   ]
  },
  {
   "cell_type": "code",
   "execution_count": 17,
   "metadata": {},
   "outputs": [],
   "source": [
    "def get_path(kind):\n",
    "    if kind == \"youtube\":\n",
    "        return \"https://www.youtube.com/watch?v=vtT78TfDfXU\"                  # Random video\n",
    "        #return = 'https://www.youtube.com/watch?v=embYkODkzcs'                 # 7 basic emotions\n",
    "    if kind == \"local\":\n",
    "        # adjust individually\n",
    "        return '/Users/steve/Neue_Fische/face_demo/vids/Video_One_output.mp4'\n",
    "    if kind == \"error_on_purpose\":\n",
    "        return \"wrongful path\"\n",
    "    else:\n",
    "        raise ValueError(f\"Passed Argument kind must bei in ['youtube', 'local', 'error_on_purpose'] but was: {kind}\")\n",
    "\n",
    "def youtube_stream(yt_link):\n",
    "    # Load the video from YouTube\n",
    "    yt_video = YouTube(yt_link)\n",
    "    stream = yt_video.streams.get_highest_resolution()  # get the highest resolution stream\n",
    "    print(\"Title:\", yt_video.title)\n",
    "    print(\"Length:\", yt_video.length, \"seconds\")\n",
    "    print(\"Available video quality options:\")\n",
    "    resolutions = set()  # use a set to keep track of unique resolutions\n",
    "    for s in yt_video.streams.filter(type=\"video\"):\n",
    "        if s.resolution not in resolutions:\n",
    "            print(s.resolution)\n",
    "            resolutions.add(s.resolution)\n",
    "    stream.download()\n",
    "    return cv2.VideoCapture(stream.default_filename)\n",
    "\n",
    "def local_stream(local_path):\n",
    "    return cv2.VideoCapture(local_path)\n",
    "\n",
    "def get_stream(path):\n",
    "    # Check if the string is a YouTube link\n",
    "    if re.match(r'(https?://)?(www\\.)?(youtube\\.com|youtu\\.?be)/.+$', path):\n",
    "        return youtube_stream(path)\n",
    "    # Check if the string is a local path\n",
    "    elif os.path.isfile(path):\n",
    "        return local_stream(path)\n",
    "    # Check if the path is a local file path but no file is found\n",
    "    elif os.path.exists(path):\n",
    "        raise ValueError(f\"File not found at path: {path}\")\n",
    "    # If it's neither a local path nor a YouTube link, raise an error\n",
    "    else:\n",
    "        raise ValueError(\"The input string is neither a local path nor a YouTube link.\")\n",
    "    \n",
    "def load_emotion_classifier():\n",
    "    return load_model(\"../models/emotion_model.hdf5\", compile=False)\n",
    "\n",
    "def preprocess_face(face, input_face_size):\n",
    "    face = cv2.cvtColor(face, cv2.COLOR_RGB2GRAY)  # Convert the face to grayscale\n",
    "    face = cv2.resize(face, (input_face_size[1], input_face_size[0]))  # Swap width and height\n",
    "    face = face.astype('float32') / 255.0\n",
    "    face = np.expand_dims(face, axis=-1)  # Add an additional dimension for grayscale channel\n",
    "    face = np.expand_dims(face, axis=0)\n",
    "    return face\n",
    "\n",
    "def print_debug_report(operating_results):    \n",
    "    print(f'{operating_results[\"analyzed_emotions\"]} faces found in {operating_results[\"analyzed_frames\"]} frames.')\n",
    "    print(f'{operating_results[\"frames_without_faces\"]} frames had no face detected ({operating_results[\"frames_without_faces_ratio\"]}%).')\n",
    "    print(f'Stopped operations after around {operating_results[\"processed_video_time\"]} seconds into the video.')\n",
    "    print(f'Execution time: {operating_results[\"runtime\"]} seconds, processing (roughly) {round(operating_results[\"processed_video_time\"]/operating_results[\"runtime\"],2)} seconds of video per second of execution')\n",
    "\n",
    "    \n",
    "def get_ordered_emotions():\n",
    "    return ['Angry', 'Disgust', 'Fear', 'Happy', 'Sad', 'Surprise', 'Neutral']\n",
    "\n",
    "def get_overview_df(emotions, frame_info, frame_info_cols):\n",
    "    assert len(frame_info[0]) == len(frame_info_cols), \\\n",
    "        f\"Number of columns in frame_info and number of passed names in frame_info_cols is not the same: {len(frame_info[0])} != {len(frame_info_cols)}.\"\n",
    "\n",
    "    df_emotions = pd.DataFrame(emotions, columns=get_ordered_emotions())\n",
    "    df_frame_info = pd.DataFrame(frame_info, columns=frame_info_cols)\n",
    "    df_all_info = pd.concat([df_emotions, df_frame_info], axis=1)\n",
    "    return df_all_info\n",
    "\n",
    "def get_plottable_df(emotions, frame_info, frame_info_cols):\n",
    "\n",
    "    assert len(frame_info[0]) == len(frame_info_cols), \\\n",
    "        f\"Number of columns in frame_info and number of passed names in frame_info_cols is not the same: {len(frame_info[0])} != {len(frame_info_cols)}.\"\n",
    "\n",
    "    df_emotions = pd.DataFrame(emotions, columns=get_ordered_emotions())\n",
    "    df_frame_info = pd.DataFrame(frame_info, columns=frame_info_cols)\n",
    "    df_all_info = pd.concat([df_emotions, df_frame_info], axis=1)\n",
    "    df_plotting = pd.melt(df_all_info, id_vars=frame_info_cols, value_vars=get_ordered_emotions(), var_name='emotion', value_name='probability')\n",
    "    return df_plotting"
   ]
  },
  {
   "cell_type": "code",
   "execution_count": 18,
   "metadata": {},
   "outputs": [
    {
     "name": "stdout",
     "output_type": "stream",
     "text": [
      "Title: The Easiest Monologue in the World! All Emotions in 1 Minute!\n",
      "Length: 74 seconds\n",
      "Available video quality options:\n",
      "144p\n",
      "360p\n",
      "720p\n",
      "2160p\n",
      "1440p\n",
      "1080p\n",
      "480p\n",
      "240p\n",
      "1/1 [==============================] - 0s 301ms/step\n"
     ]
    },
    {
     "name": "stderr",
     "output_type": "stream",
     "text": [
      "2023-03-21 09:04:28.529690: I tensorflow/core/grappler/optimizers/custom_graph_optimizer_registry.cc:114] Plugin optimizer for device_type GPU is enabled.\n"
     ]
    },
    {
     "name": "stdout",
     "output_type": "stream",
     "text": [
      "1/1 [==============================] - 0s 16ms/step\n",
      "1/1 [==============================] - 0s 19ms/step\n",
      "1/1 [==============================] - 0s 17ms/step\n",
      "1/1 [==============================] - 0s 16ms/step\n",
      "1/1 [==============================] - 0s 16ms/step\n",
      "1/1 [==============================] - 0s 15ms/step\n",
      "1/1 [==============================] - 0s 15ms/step\n",
      "1/1 [==============================] - 0s 14ms/step\n",
      "1/1 [==============================] - 0s 17ms/step\n",
      "1/1 [==============================] - 0s 14ms/step\n",
      "1/1 [==============================] - 0s 16ms/step\n",
      "1/1 [==============================] - 0s 13ms/step\n",
      "1/1 [==============================] - 0s 13ms/step\n",
      "1/1 [==============================] - 0s 15ms/step\n",
      "1/1 [==============================] - 0s 14ms/step\n",
      "1/1 [==============================] - 0s 15ms/step\n",
      "1/1 [==============================] - 0s 15ms/step\n",
      "1/1 [==============================] - 0s 17ms/step\n",
      "1/1 [==============================] - 0s 14ms/step\n",
      "1/1 [==============================] - 0s 16ms/step\n",
      "1/1 [==============================] - 0s 16ms/step\n",
      "1/1 [==============================] - 0s 14ms/step\n",
      "1/1 [==============================] - 0s 14ms/step\n",
      "1/1 [==============================] - 0s 13ms/step\n",
      "1/1 [==============================] - 0s 15ms/step\n",
      "1/1 [==============================] - 0s 15ms/step\n",
      "1/1 [==============================] - 0s 13ms/step\n",
      "1/1 [==============================] - 0s 14ms/step\n",
      "1/1 [==============================] - 0s 14ms/step\n",
      "1/1 [==============================] - 0s 15ms/step\n",
      "1/1 [==============================] - 0s 14ms/step\n",
      "1/1 [==============================] - 0s 14ms/step\n",
      "1/1 [==============================] - 0s 14ms/step\n",
      "1/1 [==============================] - 0s 15ms/step\n",
      "1/1 [==============================] - 0s 16ms/step\n",
      "1/1 [==============================] - 0s 14ms/step\n",
      "1/1 [==============================] - 0s 15ms/step\n",
      "1/1 [==============================] - 0s 15ms/step\n",
      "1/1 [==============================] - 0s 17ms/step\n",
      "1/1 [==============================] - 0s 13ms/step\n",
      "1/1 [==============================] - 0s 14ms/step\n",
      "1/1 [==============================] - 0s 15ms/step\n",
      "1/1 [==============================] - 0s 14ms/step\n",
      "1/1 [==============================] - 0s 14ms/step\n",
      "1/1 [==============================] - 0s 13ms/step\n",
      "1/1 [==============================] - 0s 13ms/step\n",
      "1/1 [==============================] - 0s 14ms/step\n",
      "1/1 [==============================] - 0s 14ms/step\n",
      "1/1 [==============================] - 0s 15ms/step\n",
      "1/1 [==============================] - 0s 15ms/step\n",
      "1/1 [==============================] - 0s 14ms/step\n",
      "1/1 [==============================] - 0s 14ms/step\n",
      "1/1 [==============================] - 0s 14ms/step\n",
      "1/1 [==============================] - 0s 13ms/step\n",
      "1/1 [==============================] - 0s 13ms/step\n",
      "1/1 [==============================] - 0s 13ms/step\n",
      "1/1 [==============================] - 0s 15ms/step\n",
      "1/1 [==============================] - 0s 15ms/step\n",
      "1/1 [==============================] - 0s 14ms/step\n",
      "1/1 [==============================] - 0s 13ms/step\n",
      "1/1 [==============================] - 0s 14ms/step\n",
      "1/1 [==============================] - 0s 13ms/step\n",
      "1/1 [==============================] - 0s 15ms/step\n",
      "1/1 [==============================] - 0s 15ms/step\n",
      "1/1 [==============================] - 0s 18ms/step\n",
      "1/1 [==============================] - 0s 16ms/step\n",
      "1/1 [==============================] - 0s 14ms/step\n",
      "1/1 [==============================] - 0s 14ms/step\n",
      "1/1 [==============================] - 0s 14ms/step\n",
      "1/1 [==============================] - 0s 16ms/step\n",
      "1/1 [==============================] - 0s 14ms/step\n",
      "1/1 [==============================] - 0s 15ms/step\n",
      "1/1 [==============================] - 0s 14ms/step\n",
      "1/1 [==============================] - 0s 14ms/step\n",
      "1/1 [==============================] - 0s 14ms/step\n",
      "1/1 [==============================] - 0s 16ms/step\n",
      "1/1 [==============================] - 0s 14ms/step\n",
      "1/1 [==============================] - 0s 15ms/step\n",
      "1/1 [==============================] - 0s 14ms/step\n",
      "1/1 [==============================] - 0s 13ms/step\n",
      "1/1 [==============================] - 0s 15ms/step\n",
      "1/1 [==============================] - 0s 15ms/step\n",
      "1/1 [==============================] - 0s 14ms/step\n",
      "1/1 [==============================] - 0s 15ms/step\n",
      "1/1 [==============================] - 0s 14ms/step\n",
      "1/1 [==============================] - 0s 15ms/step\n",
      "1/1 [==============================] - 0s 14ms/step\n",
      "1/1 [==============================] - 0s 15ms/step\n",
      "1/1 [==============================] - 0s 14ms/step\n",
      "1/1 [==============================] - 0s 13ms/step\n",
      "1/1 [==============================] - 0s 13ms/step\n",
      "1/1 [==============================] - 0s 15ms/step\n",
      "1/1 [==============================] - 0s 14ms/step\n",
      "1/1 [==============================] - 0s 14ms/step\n",
      "1/1 [==============================] - 0s 15ms/step\n",
      "1/1 [==============================] - 0s 13ms/step\n",
      "1/1 [==============================] - 0s 14ms/step\n",
      "1/1 [==============================] - 0s 15ms/step\n",
      "1/1 [==============================] - 0s 15ms/step\n",
      "1/1 [==============================] - 0s 15ms/step\n",
      "101 faces found in 101 frames.\n",
      "0 frames had no face detected (0.0%).\n",
      "Stopped operations after around 0.0 seconds into the video.\n",
      "Execution time: 36.89 seconds, processing (roughly) 0.0 seconds of video per second of execution\n"
     ]
    }
   ],
   "source": [
    "if DEBUG: start_time = time.time()\n",
    "\n",
    "# Define video path\n",
    "path = get_path('youtube')\n",
    "\n",
    "# Set the number of frames to skip\n",
    "frames_to_skip = 1\n",
    "\n",
    "# Get Video as cv2.VideoCapture\n",
    "# Can access Youtube Video or local file\n",
    "video = get_stream(path)\n",
    "\n",
    "# Initialize the face detection model\n",
    "#face_detector = face_detector = cv2.CascadeClassifier(cv2.data.haarcascades + 'haarcascade_frontalface_default.xml')\n",
    "\n",
    "# Initialize the emotion detection model\n",
    "emotion_classifier = load_emotion_classifier()\n",
    "\n",
    "# Initialize lists to store emotions and frame_info\n",
    "emotions = []\n",
    "frame_info = []\n",
    "\n",
    "# Initialize counters\n",
    "frames_without_faces_counter = 0\n",
    "individual_id_counter = 0\n",
    "face_embeddings = {}\n",
    "\n",
    "# Loop through each frame of the video\n",
    "while True:\n",
    "\n",
    "    # Read the next frame from the video\n",
    "    ret, frame = video.read()\n",
    "\n",
    "    # Check if the frame was successfully read\n",
    "    if not ret:\n",
    "        break\n",
    "\n",
    "    # Increment the frame counter\n",
    "    current_frame_nr = int(video.get(cv2.CAP_PROP_POS_FRAMES))\n",
    "\n",
    "    # Skip frames based on the frames_to_skip parameter\n",
    "    if current_frame_nr % frames_to_skip != 0:\n",
    "        continue\n",
    "    \n",
    "    # Convert the frame from BGR to RGB color space\n",
    "    rgb_frame = cv2.cvtColor(frame, cv2.COLOR_BGR2RGB)\n",
    "\n",
    "    # Detect faces in the frame and return array of bounding boxes\n",
    "    face_locations = face_recognition.face_locations(rgb_frame)\n",
    "\n",
    "    # Check if any faces were found\n",
    "    if not face_locations:\n",
    "        frames_without_faces_counter += 1\n",
    "        continue\n",
    "    \n",
    "    for i, face_location in enumerate(face_locations):\n",
    "        top, right, bottom, left = face_location\n",
    "        face_landmarks = face_recognition.face_landmarks(rgb_frame, [face_location])[0]\n",
    "        x, y, w, h = left, top, right - left, bottom - top\n",
    "        face = rgb_frame[top:bottom, left:right]\n",
    "        face = preprocess_face(face, input_face_size=emotion_classifier.input_shape[1:3])\n",
    "        prob = emotion_classifier.predict(face)[0]\n",
    "\n",
    "        emotions.append(prob)\n",
    "\n",
    "    for i, face_landmark in enumerate(face_landmarks):\n",
    "        if not face_landmark:\n",
    "            continue\n",
    "\n",
    "        if i < len(face_locations):\n",
    "            face_encoding = face_recognition.face_encodings(rgb_frame, [face_locations[i]])[0]\n",
    "        else:\n",
    "            continue            \n",
    "        current_individual_ids = []\n",
    "\n",
    "        # Compare the current face encoding with the existing face embeddings\n",
    "        for individual_id, individual_face_encoding in face_embeddings.items():\n",
    "            if face_recognition.compare_faces([individual_face_encoding], face_encoding)[0]:\n",
    "                current_individual_ids.append(individual_id)\n",
    "                break\n",
    "        else:\n",
    "            individual_id_counter += 1\n",
    "            current_individual_ids.append(individual_id_counter)\n",
    "            face_embeddings[individual_id_counter] = face_encoding\n",
    "            \n",
    "        # Add the current timestamp (milliseconds) and probabilities of emotions to the frame_description list\n",
    "        # current implementation to prepare for tuple-wise operation, change frame later to character_nr\n",
    "        \n",
    "        frame_info.append(\n",
    "            (round(video.get(cv2.CAP_PROP_POS_MSEC) / 1000, 2),\n",
    "             current_frame_nr,\n",
    "             current_individual_ids[-1]\n",
    "             )\n",
    "        )    \n",
    "\n",
    "    if DEBUG:\n",
    "        # For debugging reasons, we stop when we have 1000 emotion values\n",
    "        if len(emotions) > debug_params['max_emotions']:\n",
    "            break\n",
    "\n",
    "# Release the video and close the window\n",
    "video.release()\n",
    "\n",
    "if DEBUG: end_time = time.time()\n",
    "\n",
    "if DEBUG:\n",
    "    # When in DEBUG-mode, print some statistics about the faces and emotions detected\n",
    "    operating_results = {'analyzed_emotions': len(emotions),\n",
    "                         'analyzed_frames':frame_info[-1][1], \n",
    "                         'frames_without_faces':frames_without_faces_counter,\n",
    "                         'frames_without_faces_ratio': round(100*frames_without_faces_counter/frame_info[-1][1],2),\n",
    "                         'processed_video_time': round(frame_info[-1][0] / 1000 ,2),\n",
    "                         'runtime': round(end_time - start_time,2)}\n",
    "    \n",
    "    print_debug_report(operating_results)\n",
    "    \n",
    "df_plotting = get_plottable_df(emotions, frame_info, frame_info_cols=['pos_sec', 'frame', 'character_id'])"
   ]
  },
  {
   "cell_type": "code",
   "execution_count": 5,
   "metadata": {},
   "outputs": [
    {
     "data": {
      "text/plain": [
       "[(99, 812, 420, 491)]"
      ]
     },
     "execution_count": 5,
     "metadata": {},
     "output_type": "execute_result"
    }
   ],
   "source": [
    "face_locations"
   ]
  },
  {
   "cell_type": "code",
   "execution_count": 6,
   "metadata": {},
   "outputs": [
    {
     "data": {
      "text/plain": [
       "{'chin': [(502, 214),\n",
       "  (506, 254),\n",
       "  (511, 293),\n",
       "  (523, 331),\n",
       "  (542, 364),\n",
       "  (570, 392),\n",
       "  (602, 414),\n",
       "  (639, 430),\n",
       "  (680, 432),\n",
       "  (721, 424),\n",
       "  (753, 402),\n",
       "  (780, 371),\n",
       "  (799, 337),\n",
       "  (811, 300),\n",
       "  (816, 264),\n",
       "  (817, 229),\n",
       "  (818, 193)],\n",
       " 'left_eyebrow': [(536, 160), (555, 139), (584, 129), (614, 129), (641, 136)],\n",
       " 'right_eyebrow': [(689, 133), (714, 125), (740, 125), (764, 134), (781, 150)],\n",
       " 'nose_bridge': [(668, 156), (669, 172), (672, 188), (673, 206)],\n",
       " 'nose_tip': [(638, 240), (655, 243), (671, 246), (686, 243), (698, 239)],\n",
       " 'left_eye': [(567, 177),\n",
       "  (586, 171),\n",
       "  (603, 169),\n",
       "  (621, 174),\n",
       "  (604, 175),\n",
       "  (586, 176)],\n",
       " 'right_eye': [(704, 171),\n",
       "  (723, 164),\n",
       "  (739, 165),\n",
       "  (757, 171),\n",
       "  (739, 171),\n",
       "  (722, 170)],\n",
       " 'top_lip': [(596, 300),\n",
       "  (621, 277),\n",
       "  (651, 268),\n",
       "  (670, 271),\n",
       "  (690, 267),\n",
       "  (719, 276),\n",
       "  (745, 295),\n",
       "  (736, 295),\n",
       "  (691, 279),\n",
       "  (671, 281),\n",
       "  (651, 280),\n",
       "  (606, 300)],\n",
       " 'bottom_lip': [(745, 295),\n",
       "  (723, 327),\n",
       "  (696, 341),\n",
       "  (674, 343),\n",
       "  (653, 342),\n",
       "  (622, 329),\n",
       "  (596, 300),\n",
       "  (606, 300),\n",
       "  (652, 322),\n",
       "  (673, 324),\n",
       "  (693, 321),\n",
       "  (736, 295)]}"
      ]
     },
     "execution_count": 6,
     "metadata": {},
     "output_type": "execute_result"
    }
   ],
   "source": [
    "face_landmarks"
   ]
  },
  {
   "cell_type": "code",
   "execution_count": 7,
   "metadata": {},
   "outputs": [],
   "source": [
    "df_overview  = get_overview_df(emotions, frame_info, frame_info_cols=['pos_sec', 'frame', 'character_id'])"
   ]
  },
  {
   "cell_type": "code",
   "execution_count": 8,
   "metadata": {},
   "outputs": [
    {
     "data": {
      "text/html": [
       "<div>\n",
       "<style scoped>\n",
       "    .dataframe tbody tr th:only-of-type {\n",
       "        vertical-align: middle;\n",
       "    }\n",
       "\n",
       "    .dataframe tbody tr th {\n",
       "        vertical-align: top;\n",
       "    }\n",
       "\n",
       "    .dataframe thead th {\n",
       "        text-align: right;\n",
       "    }\n",
       "</style>\n",
       "<table border=\"1\" class=\"dataframe\">\n",
       "  <thead>\n",
       "    <tr style=\"text-align: right;\">\n",
       "      <th></th>\n",
       "      <th>Angry</th>\n",
       "      <th>Disgust</th>\n",
       "      <th>Fear</th>\n",
       "      <th>Happy</th>\n",
       "      <th>Sad</th>\n",
       "      <th>Surprise</th>\n",
       "      <th>Neutral</th>\n",
       "      <th>pos_sec</th>\n",
       "      <th>frame</th>\n",
       "      <th>character_id</th>\n",
       "    </tr>\n",
       "  </thead>\n",
       "  <tbody>\n",
       "    <tr>\n",
       "      <th>0</th>\n",
       "      <td>0.001277</td>\n",
       "      <td>3.640794e-06</td>\n",
       "      <td>0.001933</td>\n",
       "      <td>0.992097</td>\n",
       "      <td>0.000532</td>\n",
       "      <td>0.000181</td>\n",
       "      <td>0.003977</td>\n",
       "      <td>0.00</td>\n",
       "      <td>1</td>\n",
       "      <td>1</td>\n",
       "    </tr>\n",
       "    <tr>\n",
       "      <th>1</th>\n",
       "      <td>0.002029</td>\n",
       "      <td>9.641964e-06</td>\n",
       "      <td>0.003238</td>\n",
       "      <td>0.987087</td>\n",
       "      <td>0.001022</td>\n",
       "      <td>0.000262</td>\n",
       "      <td>0.006353</td>\n",
       "      <td>0.04</td>\n",
       "      <td>2</td>\n",
       "      <td>1</td>\n",
       "    </tr>\n",
       "    <tr>\n",
       "      <th>2</th>\n",
       "      <td>0.001432</td>\n",
       "      <td>6.224954e-06</td>\n",
       "      <td>0.002256</td>\n",
       "      <td>0.986627</td>\n",
       "      <td>0.000571</td>\n",
       "      <td>0.000267</td>\n",
       "      <td>0.008840</td>\n",
       "      <td>0.08</td>\n",
       "      <td>3</td>\n",
       "      <td>1</td>\n",
       "    </tr>\n",
       "    <tr>\n",
       "      <th>3</th>\n",
       "      <td>0.001430</td>\n",
       "      <td>2.079919e-06</td>\n",
       "      <td>0.002129</td>\n",
       "      <td>0.985649</td>\n",
       "      <td>0.000392</td>\n",
       "      <td>0.000416</td>\n",
       "      <td>0.009982</td>\n",
       "      <td>0.12</td>\n",
       "      <td>4</td>\n",
       "      <td>1</td>\n",
       "    </tr>\n",
       "    <tr>\n",
       "      <th>4</th>\n",
       "      <td>0.002704</td>\n",
       "      <td>2.856537e-06</td>\n",
       "      <td>0.007057</td>\n",
       "      <td>0.975418</td>\n",
       "      <td>0.000999</td>\n",
       "      <td>0.000775</td>\n",
       "      <td>0.013044</td>\n",
       "      <td>0.17</td>\n",
       "      <td>5</td>\n",
       "      <td>1</td>\n",
       "    </tr>\n",
       "    <tr>\n",
       "      <th>5</th>\n",
       "      <td>0.003063</td>\n",
       "      <td>7.155649e-06</td>\n",
       "      <td>0.005064</td>\n",
       "      <td>0.983866</td>\n",
       "      <td>0.001301</td>\n",
       "      <td>0.000365</td>\n",
       "      <td>0.006335</td>\n",
       "      <td>0.21</td>\n",
       "      <td>6</td>\n",
       "      <td>1</td>\n",
       "    </tr>\n",
       "    <tr>\n",
       "      <th>6</th>\n",
       "      <td>0.005908</td>\n",
       "      <td>2.100967e-05</td>\n",
       "      <td>0.008338</td>\n",
       "      <td>0.965988</td>\n",
       "      <td>0.002928</td>\n",
       "      <td>0.000593</td>\n",
       "      <td>0.016225</td>\n",
       "      <td>0.25</td>\n",
       "      <td>7</td>\n",
       "      <td>1</td>\n",
       "    </tr>\n",
       "    <tr>\n",
       "      <th>7</th>\n",
       "      <td>0.001580</td>\n",
       "      <td>1.046303e-06</td>\n",
       "      <td>0.002771</td>\n",
       "      <td>0.988864</td>\n",
       "      <td>0.000559</td>\n",
       "      <td>0.000753</td>\n",
       "      <td>0.005472</td>\n",
       "      <td>0.29</td>\n",
       "      <td>8</td>\n",
       "      <td>1</td>\n",
       "    </tr>\n",
       "    <tr>\n",
       "      <th>8</th>\n",
       "      <td>0.002516</td>\n",
       "      <td>1.412707e-06</td>\n",
       "      <td>0.008207</td>\n",
       "      <td>0.965961</td>\n",
       "      <td>0.000750</td>\n",
       "      <td>0.003231</td>\n",
       "      <td>0.019334</td>\n",
       "      <td>0.33</td>\n",
       "      <td>9</td>\n",
       "      <td>1</td>\n",
       "    </tr>\n",
       "    <tr>\n",
       "      <th>9</th>\n",
       "      <td>0.002385</td>\n",
       "      <td>2.077597e-06</td>\n",
       "      <td>0.012756</td>\n",
       "      <td>0.972430</td>\n",
       "      <td>0.001205</td>\n",
       "      <td>0.001052</td>\n",
       "      <td>0.010171</td>\n",
       "      <td>0.38</td>\n",
       "      <td>10</td>\n",
       "      <td>1</td>\n",
       "    </tr>\n",
       "    <tr>\n",
       "      <th>10</th>\n",
       "      <td>0.001108</td>\n",
       "      <td>6.787811e-07</td>\n",
       "      <td>0.004430</td>\n",
       "      <td>0.990397</td>\n",
       "      <td>0.000289</td>\n",
       "      <td>0.001130</td>\n",
       "      <td>0.002645</td>\n",
       "      <td>0.42</td>\n",
       "      <td>11</td>\n",
       "      <td>1</td>\n",
       "    </tr>\n",
       "    <tr>\n",
       "      <th>11</th>\n",
       "      <td>0.002809</td>\n",
       "      <td>5.230186e-06</td>\n",
       "      <td>0.005555</td>\n",
       "      <td>0.980643</td>\n",
       "      <td>0.001096</td>\n",
       "      <td>0.000257</td>\n",
       "      <td>0.009635</td>\n",
       "      <td>0.46</td>\n",
       "      <td>12</td>\n",
       "      <td>1</td>\n",
       "    </tr>\n",
       "    <tr>\n",
       "      <th>12</th>\n",
       "      <td>0.007889</td>\n",
       "      <td>2.294905e-05</td>\n",
       "      <td>0.011925</td>\n",
       "      <td>0.973097</td>\n",
       "      <td>0.001562</td>\n",
       "      <td>0.000675</td>\n",
       "      <td>0.004829</td>\n",
       "      <td>0.50</td>\n",
       "      <td>13</td>\n",
       "      <td>1</td>\n",
       "    </tr>\n",
       "    <tr>\n",
       "      <th>13</th>\n",
       "      <td>0.007226</td>\n",
       "      <td>3.655850e-06</td>\n",
       "      <td>0.003852</td>\n",
       "      <td>0.976658</td>\n",
       "      <td>0.000465</td>\n",
       "      <td>0.000419</td>\n",
       "      <td>0.011377</td>\n",
       "      <td>0.54</td>\n",
       "      <td>14</td>\n",
       "      <td>1</td>\n",
       "    </tr>\n",
       "    <tr>\n",
       "      <th>14</th>\n",
       "      <td>0.002207</td>\n",
       "      <td>1.358424e-05</td>\n",
       "      <td>0.009303</td>\n",
       "      <td>0.958053</td>\n",
       "      <td>0.003622</td>\n",
       "      <td>0.001555</td>\n",
       "      <td>0.025246</td>\n",
       "      <td>0.58</td>\n",
       "      <td>15</td>\n",
       "      <td>1</td>\n",
       "    </tr>\n",
       "    <tr>\n",
       "      <th>15</th>\n",
       "      <td>0.001420</td>\n",
       "      <td>4.769187e-06</td>\n",
       "      <td>0.003901</td>\n",
       "      <td>0.988846</td>\n",
       "      <td>0.000863</td>\n",
       "      <td>0.002944</td>\n",
       "      <td>0.002023</td>\n",
       "      <td>0.62</td>\n",
       "      <td>16</td>\n",
       "      <td>1</td>\n",
       "    </tr>\n",
       "    <tr>\n",
       "      <th>16</th>\n",
       "      <td>0.000659</td>\n",
       "      <td>1.142050e-06</td>\n",
       "      <td>0.001401</td>\n",
       "      <td>0.993907</td>\n",
       "      <td>0.000298</td>\n",
       "      <td>0.001092</td>\n",
       "      <td>0.002642</td>\n",
       "      <td>0.67</td>\n",
       "      <td>17</td>\n",
       "      <td>1</td>\n",
       "    </tr>\n",
       "    <tr>\n",
       "      <th>17</th>\n",
       "      <td>0.001097</td>\n",
       "      <td>3.203131e-06</td>\n",
       "      <td>0.007141</td>\n",
       "      <td>0.986678</td>\n",
       "      <td>0.001483</td>\n",
       "      <td>0.001247</td>\n",
       "      <td>0.002351</td>\n",
       "      <td>0.71</td>\n",
       "      <td>18</td>\n",
       "      <td>1</td>\n",
       "    </tr>\n",
       "    <tr>\n",
       "      <th>18</th>\n",
       "      <td>0.000748</td>\n",
       "      <td>9.965966e-08</td>\n",
       "      <td>0.001627</td>\n",
       "      <td>0.994192</td>\n",
       "      <td>0.000139</td>\n",
       "      <td>0.000773</td>\n",
       "      <td>0.002520</td>\n",
       "      <td>0.75</td>\n",
       "      <td>19</td>\n",
       "      <td>1</td>\n",
       "    </tr>\n",
       "    <tr>\n",
       "      <th>19</th>\n",
       "      <td>0.001284</td>\n",
       "      <td>4.040394e-07</td>\n",
       "      <td>0.002056</td>\n",
       "      <td>0.992845</td>\n",
       "      <td>0.000276</td>\n",
       "      <td>0.001480</td>\n",
       "      <td>0.002058</td>\n",
       "      <td>0.79</td>\n",
       "      <td>20</td>\n",
       "      <td>1</td>\n",
       "    </tr>\n",
       "    <tr>\n",
       "      <th>20</th>\n",
       "      <td>0.001316</td>\n",
       "      <td>5.242707e-07</td>\n",
       "      <td>0.007542</td>\n",
       "      <td>0.982137</td>\n",
       "      <td>0.000976</td>\n",
       "      <td>0.002699</td>\n",
       "      <td>0.005330</td>\n",
       "      <td>0.83</td>\n",
       "      <td>21</td>\n",
       "      <td>1</td>\n",
       "    </tr>\n",
       "    <tr>\n",
       "      <th>21</th>\n",
       "      <td>0.000655</td>\n",
       "      <td>5.916813e-07</td>\n",
       "      <td>0.001523</td>\n",
       "      <td>0.994545</td>\n",
       "      <td>0.000418</td>\n",
       "      <td>0.000743</td>\n",
       "      <td>0.002116</td>\n",
       "      <td>0.88</td>\n",
       "      <td>22</td>\n",
       "      <td>1</td>\n",
       "    </tr>\n",
       "    <tr>\n",
       "      <th>22</th>\n",
       "      <td>0.000339</td>\n",
       "      <td>4.067818e-07</td>\n",
       "      <td>0.000806</td>\n",
       "      <td>0.994066</td>\n",
       "      <td>0.000248</td>\n",
       "      <td>0.001163</td>\n",
       "      <td>0.003379</td>\n",
       "      <td>0.92</td>\n",
       "      <td>23</td>\n",
       "      <td>1</td>\n",
       "    </tr>\n",
       "    <tr>\n",
       "      <th>23</th>\n",
       "      <td>0.002313</td>\n",
       "      <td>2.031466e-06</td>\n",
       "      <td>0.003830</td>\n",
       "      <td>0.988975</td>\n",
       "      <td>0.001632</td>\n",
       "      <td>0.000325</td>\n",
       "      <td>0.002923</td>\n",
       "      <td>0.96</td>\n",
       "      <td>24</td>\n",
       "      <td>1</td>\n",
       "    </tr>\n",
       "    <tr>\n",
       "      <th>24</th>\n",
       "      <td>0.001154</td>\n",
       "      <td>8.898866e-07</td>\n",
       "      <td>0.001038</td>\n",
       "      <td>0.995019</td>\n",
       "      <td>0.000458</td>\n",
       "      <td>0.000145</td>\n",
       "      <td>0.002186</td>\n",
       "      <td>1.00</td>\n",
       "      <td>25</td>\n",
       "      <td>1</td>\n",
       "    </tr>\n",
       "    <tr>\n",
       "      <th>25</th>\n",
       "      <td>0.004034</td>\n",
       "      <td>3.714583e-06</td>\n",
       "      <td>0.004469</td>\n",
       "      <td>0.986238</td>\n",
       "      <td>0.001097</td>\n",
       "      <td>0.000744</td>\n",
       "      <td>0.003416</td>\n",
       "      <td>1.04</td>\n",
       "      <td>26</td>\n",
       "      <td>1</td>\n",
       "    </tr>\n",
       "    <tr>\n",
       "      <th>26</th>\n",
       "      <td>0.000446</td>\n",
       "      <td>7.794879e-08</td>\n",
       "      <td>0.000802</td>\n",
       "      <td>0.995744</td>\n",
       "      <td>0.000176</td>\n",
       "      <td>0.000938</td>\n",
       "      <td>0.001893</td>\n",
       "      <td>1.08</td>\n",
       "      <td>27</td>\n",
       "      <td>1</td>\n",
       "    </tr>\n",
       "    <tr>\n",
       "      <th>27</th>\n",
       "      <td>0.000268</td>\n",
       "      <td>1.406516e-07</td>\n",
       "      <td>0.000739</td>\n",
       "      <td>0.997092</td>\n",
       "      <td>0.000145</td>\n",
       "      <td>0.000736</td>\n",
       "      <td>0.001020</td>\n",
       "      <td>1.12</td>\n",
       "      <td>28</td>\n",
       "      <td>1</td>\n",
       "    </tr>\n",
       "    <tr>\n",
       "      <th>28</th>\n",
       "      <td>0.000307</td>\n",
       "      <td>1.707981e-07</td>\n",
       "      <td>0.001552</td>\n",
       "      <td>0.996083</td>\n",
       "      <td>0.000209</td>\n",
       "      <td>0.000804</td>\n",
       "      <td>0.001045</td>\n",
       "      <td>1.17</td>\n",
       "      <td>29</td>\n",
       "      <td>1</td>\n",
       "    </tr>\n",
       "    <tr>\n",
       "      <th>29</th>\n",
       "      <td>0.000330</td>\n",
       "      <td>3.511019e-07</td>\n",
       "      <td>0.002361</td>\n",
       "      <td>0.995340</td>\n",
       "      <td>0.000283</td>\n",
       "      <td>0.000707</td>\n",
       "      <td>0.000980</td>\n",
       "      <td>1.21</td>\n",
       "      <td>30</td>\n",
       "      <td>1</td>\n",
       "    </tr>\n",
       "    <tr>\n",
       "      <th>30</th>\n",
       "      <td>0.000446</td>\n",
       "      <td>7.001138e-07</td>\n",
       "      <td>0.003110</td>\n",
       "      <td>0.994113</td>\n",
       "      <td>0.000493</td>\n",
       "      <td>0.000661</td>\n",
       "      <td>0.001176</td>\n",
       "      <td>1.25</td>\n",
       "      <td>31</td>\n",
       "      <td>1</td>\n",
       "    </tr>\n",
       "    <tr>\n",
       "      <th>31</th>\n",
       "      <td>0.000871</td>\n",
       "      <td>1.166031e-06</td>\n",
       "      <td>0.003103</td>\n",
       "      <td>0.991644</td>\n",
       "      <td>0.001142</td>\n",
       "      <td>0.000505</td>\n",
       "      <td>0.002734</td>\n",
       "      <td>1.29</td>\n",
       "      <td>32</td>\n",
       "      <td>1</td>\n",
       "    </tr>\n",
       "    <tr>\n",
       "      <th>32</th>\n",
       "      <td>0.001315</td>\n",
       "      <td>5.450284e-06</td>\n",
       "      <td>0.002780</td>\n",
       "      <td>0.991636</td>\n",
       "      <td>0.001373</td>\n",
       "      <td>0.000472</td>\n",
       "      <td>0.002418</td>\n",
       "      <td>1.33</td>\n",
       "      <td>33</td>\n",
       "      <td>1</td>\n",
       "    </tr>\n",
       "    <tr>\n",
       "      <th>33</th>\n",
       "      <td>0.000960</td>\n",
       "      <td>2.332309e-06</td>\n",
       "      <td>0.003196</td>\n",
       "      <td>0.991459</td>\n",
       "      <td>0.001309</td>\n",
       "      <td>0.000361</td>\n",
       "      <td>0.002712</td>\n",
       "      <td>1.38</td>\n",
       "      <td>34</td>\n",
       "      <td>1</td>\n",
       "    </tr>\n",
       "    <tr>\n",
       "      <th>34</th>\n",
       "      <td>0.000754</td>\n",
       "      <td>1.536002e-06</td>\n",
       "      <td>0.003691</td>\n",
       "      <td>0.991966</td>\n",
       "      <td>0.001075</td>\n",
       "      <td>0.000521</td>\n",
       "      <td>0.001991</td>\n",
       "      <td>1.42</td>\n",
       "      <td>35</td>\n",
       "      <td>1</td>\n",
       "    </tr>\n",
       "    <tr>\n",
       "      <th>35</th>\n",
       "      <td>0.000658</td>\n",
       "      <td>8.214741e-07</td>\n",
       "      <td>0.001794</td>\n",
       "      <td>0.994567</td>\n",
       "      <td>0.000401</td>\n",
       "      <td>0.000717</td>\n",
       "      <td>0.001862</td>\n",
       "      <td>1.46</td>\n",
       "      <td>36</td>\n",
       "      <td>1</td>\n",
       "    </tr>\n",
       "    <tr>\n",
       "      <th>36</th>\n",
       "      <td>0.000766</td>\n",
       "      <td>1.606304e-06</td>\n",
       "      <td>0.003753</td>\n",
       "      <td>0.991866</td>\n",
       "      <td>0.000877</td>\n",
       "      <td>0.001294</td>\n",
       "      <td>0.001443</td>\n",
       "      <td>1.50</td>\n",
       "      <td>37</td>\n",
       "      <td>1</td>\n",
       "    </tr>\n",
       "    <tr>\n",
       "      <th>37</th>\n",
       "      <td>0.000567</td>\n",
       "      <td>2.733541e-06</td>\n",
       "      <td>0.004561</td>\n",
       "      <td>0.990963</td>\n",
       "      <td>0.001089</td>\n",
       "      <td>0.001032</td>\n",
       "      <td>0.001785</td>\n",
       "      <td>1.54</td>\n",
       "      <td>38</td>\n",
       "      <td>1</td>\n",
       "    </tr>\n",
       "    <tr>\n",
       "      <th>38</th>\n",
       "      <td>0.002025</td>\n",
       "      <td>6.611825e-06</td>\n",
       "      <td>0.004918</td>\n",
       "      <td>0.981991</td>\n",
       "      <td>0.003827</td>\n",
       "      <td>0.001674</td>\n",
       "      <td>0.005557</td>\n",
       "      <td>1.58</td>\n",
       "      <td>39</td>\n",
       "      <td>1</td>\n",
       "    </tr>\n",
       "    <tr>\n",
       "      <th>39</th>\n",
       "      <td>0.003345</td>\n",
       "      <td>1.105484e-05</td>\n",
       "      <td>0.008598</td>\n",
       "      <td>0.948549</td>\n",
       "      <td>0.013728</td>\n",
       "      <td>0.001190</td>\n",
       "      <td>0.024579</td>\n",
       "      <td>1.62</td>\n",
       "      <td>40</td>\n",
       "      <td>1</td>\n",
       "    </tr>\n",
       "    <tr>\n",
       "      <th>40</th>\n",
       "      <td>0.002077</td>\n",
       "      <td>3.029760e-06</td>\n",
       "      <td>0.006182</td>\n",
       "      <td>0.955279</td>\n",
       "      <td>0.007598</td>\n",
       "      <td>0.001078</td>\n",
       "      <td>0.027782</td>\n",
       "      <td>1.67</td>\n",
       "      <td>41</td>\n",
       "      <td>1</td>\n",
       "    </tr>\n",
       "    <tr>\n",
       "      <th>41</th>\n",
       "      <td>0.001025</td>\n",
       "      <td>4.252042e-07</td>\n",
       "      <td>0.002951</td>\n",
       "      <td>0.978991</td>\n",
       "      <td>0.001597</td>\n",
       "      <td>0.000702</td>\n",
       "      <td>0.014733</td>\n",
       "      <td>1.71</td>\n",
       "      <td>42</td>\n",
       "      <td>1</td>\n",
       "    </tr>\n",
       "    <tr>\n",
       "      <th>42</th>\n",
       "      <td>0.000438</td>\n",
       "      <td>2.001977e-07</td>\n",
       "      <td>0.001466</td>\n",
       "      <td>0.989241</td>\n",
       "      <td>0.000608</td>\n",
       "      <td>0.000369</td>\n",
       "      <td>0.007878</td>\n",
       "      <td>1.75</td>\n",
       "      <td>43</td>\n",
       "      <td>1</td>\n",
       "    </tr>\n",
       "    <tr>\n",
       "      <th>43</th>\n",
       "      <td>0.000381</td>\n",
       "      <td>5.874193e-07</td>\n",
       "      <td>0.001569</td>\n",
       "      <td>0.991104</td>\n",
       "      <td>0.000942</td>\n",
       "      <td>0.000343</td>\n",
       "      <td>0.005661</td>\n",
       "      <td>1.79</td>\n",
       "      <td>44</td>\n",
       "      <td>1</td>\n",
       "    </tr>\n",
       "    <tr>\n",
       "      <th>44</th>\n",
       "      <td>0.000667</td>\n",
       "      <td>2.450412e-06</td>\n",
       "      <td>0.002771</td>\n",
       "      <td>0.983061</td>\n",
       "      <td>0.002106</td>\n",
       "      <td>0.000606</td>\n",
       "      <td>0.010786</td>\n",
       "      <td>1.83</td>\n",
       "      <td>45</td>\n",
       "      <td>1</td>\n",
       "    </tr>\n",
       "    <tr>\n",
       "      <th>45</th>\n",
       "      <td>0.000566</td>\n",
       "      <td>4.759740e-07</td>\n",
       "      <td>0.001700</td>\n",
       "      <td>0.984086</td>\n",
       "      <td>0.000722</td>\n",
       "      <td>0.000617</td>\n",
       "      <td>0.012309</td>\n",
       "      <td>1.88</td>\n",
       "      <td>46</td>\n",
       "      <td>1</td>\n",
       "    </tr>\n",
       "    <tr>\n",
       "      <th>46</th>\n",
       "      <td>0.000309</td>\n",
       "      <td>3.762006e-07</td>\n",
       "      <td>0.000871</td>\n",
       "      <td>0.991340</td>\n",
       "      <td>0.000477</td>\n",
       "      <td>0.000412</td>\n",
       "      <td>0.006591</td>\n",
       "      <td>1.92</td>\n",
       "      <td>47</td>\n",
       "      <td>1</td>\n",
       "    </tr>\n",
       "    <tr>\n",
       "      <th>47</th>\n",
       "      <td>0.000837</td>\n",
       "      <td>4.000778e-07</td>\n",
       "      <td>0.001384</td>\n",
       "      <td>0.980088</td>\n",
       "      <td>0.001023</td>\n",
       "      <td>0.001175</td>\n",
       "      <td>0.015493</td>\n",
       "      <td>1.96</td>\n",
       "      <td>48</td>\n",
       "      <td>1</td>\n",
       "    </tr>\n",
       "    <tr>\n",
       "      <th>48</th>\n",
       "      <td>0.001152</td>\n",
       "      <td>5.040908e-07</td>\n",
       "      <td>0.002432</td>\n",
       "      <td>0.972876</td>\n",
       "      <td>0.001825</td>\n",
       "      <td>0.002174</td>\n",
       "      <td>0.019542</td>\n",
       "      <td>2.00</td>\n",
       "      <td>49</td>\n",
       "      <td>1</td>\n",
       "    </tr>\n",
       "    <tr>\n",
       "      <th>49</th>\n",
       "      <td>0.001333</td>\n",
       "      <td>2.442466e-06</td>\n",
       "      <td>0.005398</td>\n",
       "      <td>0.969374</td>\n",
       "      <td>0.003248</td>\n",
       "      <td>0.001533</td>\n",
       "      <td>0.019111</td>\n",
       "      <td>2.04</td>\n",
       "      <td>50</td>\n",
       "      <td>1</td>\n",
       "    </tr>\n",
       "  </tbody>\n",
       "</table>\n",
       "</div>"
      ],
      "text/plain": [
       "       Angry       Disgust      Fear     Happy       Sad  Surprise   Neutral  \\\n",
       "0   0.001277  3.640794e-06  0.001933  0.992097  0.000532  0.000181  0.003977   \n",
       "1   0.002029  9.641964e-06  0.003238  0.987087  0.001022  0.000262  0.006353   \n",
       "2   0.001432  6.224954e-06  0.002256  0.986627  0.000571  0.000267  0.008840   \n",
       "3   0.001430  2.079919e-06  0.002129  0.985649  0.000392  0.000416  0.009982   \n",
       "4   0.002704  2.856537e-06  0.007057  0.975418  0.000999  0.000775  0.013044   \n",
       "5   0.003063  7.155649e-06  0.005064  0.983866  0.001301  0.000365  0.006335   \n",
       "6   0.005908  2.100967e-05  0.008338  0.965988  0.002928  0.000593  0.016225   \n",
       "7   0.001580  1.046303e-06  0.002771  0.988864  0.000559  0.000753  0.005472   \n",
       "8   0.002516  1.412707e-06  0.008207  0.965961  0.000750  0.003231  0.019334   \n",
       "9   0.002385  2.077597e-06  0.012756  0.972430  0.001205  0.001052  0.010171   \n",
       "10  0.001108  6.787811e-07  0.004430  0.990397  0.000289  0.001130  0.002645   \n",
       "11  0.002809  5.230186e-06  0.005555  0.980643  0.001096  0.000257  0.009635   \n",
       "12  0.007889  2.294905e-05  0.011925  0.973097  0.001562  0.000675  0.004829   \n",
       "13  0.007226  3.655850e-06  0.003852  0.976658  0.000465  0.000419  0.011377   \n",
       "14  0.002207  1.358424e-05  0.009303  0.958053  0.003622  0.001555  0.025246   \n",
       "15  0.001420  4.769187e-06  0.003901  0.988846  0.000863  0.002944  0.002023   \n",
       "16  0.000659  1.142050e-06  0.001401  0.993907  0.000298  0.001092  0.002642   \n",
       "17  0.001097  3.203131e-06  0.007141  0.986678  0.001483  0.001247  0.002351   \n",
       "18  0.000748  9.965966e-08  0.001627  0.994192  0.000139  0.000773  0.002520   \n",
       "19  0.001284  4.040394e-07  0.002056  0.992845  0.000276  0.001480  0.002058   \n",
       "20  0.001316  5.242707e-07  0.007542  0.982137  0.000976  0.002699  0.005330   \n",
       "21  0.000655  5.916813e-07  0.001523  0.994545  0.000418  0.000743  0.002116   \n",
       "22  0.000339  4.067818e-07  0.000806  0.994066  0.000248  0.001163  0.003379   \n",
       "23  0.002313  2.031466e-06  0.003830  0.988975  0.001632  0.000325  0.002923   \n",
       "24  0.001154  8.898866e-07  0.001038  0.995019  0.000458  0.000145  0.002186   \n",
       "25  0.004034  3.714583e-06  0.004469  0.986238  0.001097  0.000744  0.003416   \n",
       "26  0.000446  7.794879e-08  0.000802  0.995744  0.000176  0.000938  0.001893   \n",
       "27  0.000268  1.406516e-07  0.000739  0.997092  0.000145  0.000736  0.001020   \n",
       "28  0.000307  1.707981e-07  0.001552  0.996083  0.000209  0.000804  0.001045   \n",
       "29  0.000330  3.511019e-07  0.002361  0.995340  0.000283  0.000707  0.000980   \n",
       "30  0.000446  7.001138e-07  0.003110  0.994113  0.000493  0.000661  0.001176   \n",
       "31  0.000871  1.166031e-06  0.003103  0.991644  0.001142  0.000505  0.002734   \n",
       "32  0.001315  5.450284e-06  0.002780  0.991636  0.001373  0.000472  0.002418   \n",
       "33  0.000960  2.332309e-06  0.003196  0.991459  0.001309  0.000361  0.002712   \n",
       "34  0.000754  1.536002e-06  0.003691  0.991966  0.001075  0.000521  0.001991   \n",
       "35  0.000658  8.214741e-07  0.001794  0.994567  0.000401  0.000717  0.001862   \n",
       "36  0.000766  1.606304e-06  0.003753  0.991866  0.000877  0.001294  0.001443   \n",
       "37  0.000567  2.733541e-06  0.004561  0.990963  0.001089  0.001032  0.001785   \n",
       "38  0.002025  6.611825e-06  0.004918  0.981991  0.003827  0.001674  0.005557   \n",
       "39  0.003345  1.105484e-05  0.008598  0.948549  0.013728  0.001190  0.024579   \n",
       "40  0.002077  3.029760e-06  0.006182  0.955279  0.007598  0.001078  0.027782   \n",
       "41  0.001025  4.252042e-07  0.002951  0.978991  0.001597  0.000702  0.014733   \n",
       "42  0.000438  2.001977e-07  0.001466  0.989241  0.000608  0.000369  0.007878   \n",
       "43  0.000381  5.874193e-07  0.001569  0.991104  0.000942  0.000343  0.005661   \n",
       "44  0.000667  2.450412e-06  0.002771  0.983061  0.002106  0.000606  0.010786   \n",
       "45  0.000566  4.759740e-07  0.001700  0.984086  0.000722  0.000617  0.012309   \n",
       "46  0.000309  3.762006e-07  0.000871  0.991340  0.000477  0.000412  0.006591   \n",
       "47  0.000837  4.000778e-07  0.001384  0.980088  0.001023  0.001175  0.015493   \n",
       "48  0.001152  5.040908e-07  0.002432  0.972876  0.001825  0.002174  0.019542   \n",
       "49  0.001333  2.442466e-06  0.005398  0.969374  0.003248  0.001533  0.019111   \n",
       "\n",
       "    pos_sec  frame  character_id  \n",
       "0      0.00      1             1  \n",
       "1      0.04      2             1  \n",
       "2      0.08      3             1  \n",
       "3      0.12      4             1  \n",
       "4      0.17      5             1  \n",
       "5      0.21      6             1  \n",
       "6      0.25      7             1  \n",
       "7      0.29      8             1  \n",
       "8      0.33      9             1  \n",
       "9      0.38     10             1  \n",
       "10     0.42     11             1  \n",
       "11     0.46     12             1  \n",
       "12     0.50     13             1  \n",
       "13     0.54     14             1  \n",
       "14     0.58     15             1  \n",
       "15     0.62     16             1  \n",
       "16     0.67     17             1  \n",
       "17     0.71     18             1  \n",
       "18     0.75     19             1  \n",
       "19     0.79     20             1  \n",
       "20     0.83     21             1  \n",
       "21     0.88     22             1  \n",
       "22     0.92     23             1  \n",
       "23     0.96     24             1  \n",
       "24     1.00     25             1  \n",
       "25     1.04     26             1  \n",
       "26     1.08     27             1  \n",
       "27     1.12     28             1  \n",
       "28     1.17     29             1  \n",
       "29     1.21     30             1  \n",
       "30     1.25     31             1  \n",
       "31     1.29     32             1  \n",
       "32     1.33     33             1  \n",
       "33     1.38     34             1  \n",
       "34     1.42     35             1  \n",
       "35     1.46     36             1  \n",
       "36     1.50     37             1  \n",
       "37     1.54     38             1  \n",
       "38     1.58     39             1  \n",
       "39     1.62     40             1  \n",
       "40     1.67     41             1  \n",
       "41     1.71     42             1  \n",
       "42     1.75     43             1  \n",
       "43     1.79     44             1  \n",
       "44     1.83     45             1  \n",
       "45     1.88     46             1  \n",
       "46     1.92     47             1  \n",
       "47     1.96     48             1  \n",
       "48     2.00     49             1  \n",
       "49     2.04     50             1  "
      ]
     },
     "execution_count": 8,
     "metadata": {},
     "output_type": "execute_result"
    }
   ],
   "source": [
    "df_overview.head(50)"
   ]
  },
  {
   "cell_type": "code",
   "execution_count": 9,
   "metadata": {},
   "outputs": [
    {
     "data": {
      "text/html": [
       "<div>\n",
       "<style scoped>\n",
       "    .dataframe tbody tr th:only-of-type {\n",
       "        vertical-align: middle;\n",
       "    }\n",
       "\n",
       "    .dataframe tbody tr th {\n",
       "        vertical-align: top;\n",
       "    }\n",
       "\n",
       "    .dataframe thead th {\n",
       "        text-align: right;\n",
       "    }\n",
       "</style>\n",
       "<table border=\"1\" class=\"dataframe\">\n",
       "  <thead>\n",
       "    <tr style=\"text-align: right;\">\n",
       "      <th></th>\n",
       "      <th>pos_sec</th>\n",
       "      <th>frame</th>\n",
       "      <th>character_id</th>\n",
       "      <th>emotion</th>\n",
       "      <th>probability</th>\n",
       "    </tr>\n",
       "  </thead>\n",
       "  <tbody>\n",
       "    <tr>\n",
       "      <th>0</th>\n",
       "      <td>0.00</td>\n",
       "      <td>1</td>\n",
       "      <td>1</td>\n",
       "      <td>Angry</td>\n",
       "      <td>0.001277</td>\n",
       "    </tr>\n",
       "    <tr>\n",
       "      <th>1</th>\n",
       "      <td>0.04</td>\n",
       "      <td>2</td>\n",
       "      <td>1</td>\n",
       "      <td>Angry</td>\n",
       "      <td>0.002029</td>\n",
       "    </tr>\n",
       "    <tr>\n",
       "      <th>2</th>\n",
       "      <td>0.08</td>\n",
       "      <td>3</td>\n",
       "      <td>1</td>\n",
       "      <td>Angry</td>\n",
       "      <td>0.001432</td>\n",
       "    </tr>\n",
       "    <tr>\n",
       "      <th>3</th>\n",
       "      <td>0.12</td>\n",
       "      <td>4</td>\n",
       "      <td>1</td>\n",
       "      <td>Angry</td>\n",
       "      <td>0.001430</td>\n",
       "    </tr>\n",
       "    <tr>\n",
       "      <th>4</th>\n",
       "      <td>0.17</td>\n",
       "      <td>5</td>\n",
       "      <td>1</td>\n",
       "      <td>Angry</td>\n",
       "      <td>0.002704</td>\n",
       "    </tr>\n",
       "    <tr>\n",
       "      <th>...</th>\n",
       "      <td>...</td>\n",
       "      <td>...</td>\n",
       "      <td>...</td>\n",
       "      <td>...</td>\n",
       "      <td>...</td>\n",
       "    </tr>\n",
       "    <tr>\n",
       "      <th>95</th>\n",
       "      <td>3.96</td>\n",
       "      <td>96</td>\n",
       "      <td>1</td>\n",
       "      <td>Angry</td>\n",
       "      <td>0.120509</td>\n",
       "    </tr>\n",
       "    <tr>\n",
       "      <th>96</th>\n",
       "      <td>4.00</td>\n",
       "      <td>97</td>\n",
       "      <td>1</td>\n",
       "      <td>Angry</td>\n",
       "      <td>0.191557</td>\n",
       "    </tr>\n",
       "    <tr>\n",
       "      <th>97</th>\n",
       "      <td>4.04</td>\n",
       "      <td>98</td>\n",
       "      <td>1</td>\n",
       "      <td>Angry</td>\n",
       "      <td>0.153173</td>\n",
       "    </tr>\n",
       "    <tr>\n",
       "      <th>98</th>\n",
       "      <td>4.08</td>\n",
       "      <td>99</td>\n",
       "      <td>1</td>\n",
       "      <td>Angry</td>\n",
       "      <td>0.322967</td>\n",
       "    </tr>\n",
       "    <tr>\n",
       "      <th>99</th>\n",
       "      <td>4.12</td>\n",
       "      <td>100</td>\n",
       "      <td>1</td>\n",
       "      <td>Angry</td>\n",
       "      <td>0.248893</td>\n",
       "    </tr>\n",
       "  </tbody>\n",
       "</table>\n",
       "<p>100 rows × 5 columns</p>\n",
       "</div>"
      ],
      "text/plain": [
       "    pos_sec  frame  character_id emotion  probability\n",
       "0      0.00      1             1   Angry     0.001277\n",
       "1      0.04      2             1   Angry     0.002029\n",
       "2      0.08      3             1   Angry     0.001432\n",
       "3      0.12      4             1   Angry     0.001430\n",
       "4      0.17      5             1   Angry     0.002704\n",
       "..      ...    ...           ...     ...          ...\n",
       "95     3.96     96             1   Angry     0.120509\n",
       "96     4.00     97             1   Angry     0.191557\n",
       "97     4.04     98             1   Angry     0.153173\n",
       "98     4.08     99             1   Angry     0.322967\n",
       "99     4.12    100             1   Angry     0.248893\n",
       "\n",
       "[100 rows x 5 columns]"
      ]
     },
     "execution_count": 9,
     "metadata": {},
     "output_type": "execute_result"
    }
   ],
   "source": [
    "df_plotting.head(100)"
   ]
  },
  {
   "cell_type": "code",
   "execution_count": 10,
   "metadata": {},
   "outputs": [
    {
     "data": {
      "application/vnd.plotly.v1+json": {
       "config": {
        "plotlyServerURL": "https://plot.ly"
       },
       "data": [
        {
         "alignmentgroup": "True",
         "hovertemplate": "emotion=Angry<br>pos_sec=%{x}<br>probability=%{y}<extra></extra>",
         "legendgroup": "Angry",
         "marker": {
          "color": "#636efa",
          "pattern": {
           "shape": ""
          }
         },
         "name": "Angry",
         "offsetgroup": "Angry",
         "orientation": "v",
         "showlegend": true,
         "textposition": "auto",
         "type": "bar",
         "x": [
          0,
          0.04,
          0.08,
          0.12,
          0.17,
          0.21,
          0.25,
          0.29,
          0.33,
          0.38,
          0.42,
          0.46,
          0.5,
          0.54,
          0.58,
          0.62,
          0.67,
          0.71,
          0.75,
          0.79,
          0.83,
          0.88,
          0.92,
          0.96,
          1,
          1.04,
          1.08,
          1.12,
          1.17,
          1.21,
          1.25,
          1.29,
          1.33,
          1.38,
          1.42,
          1.46,
          1.5,
          1.54,
          1.58,
          1.62,
          1.67,
          1.71,
          1.75,
          1.79,
          1.83,
          1.88,
          1.92,
          1.96,
          2,
          2.04,
          2.08,
          2.12,
          2.17,
          2.21,
          2.25,
          2.29,
          2.33,
          2.38,
          2.42,
          2.46,
          2.5,
          2.54,
          2.58,
          2.62,
          2.67,
          2.71,
          2.75,
          2.79,
          2.83,
          2.88,
          2.92,
          2.96,
          3,
          3.04,
          3.08,
          3.12,
          3.17,
          3.21,
          3.25,
          3.29,
          3.33,
          3.38,
          3.42,
          3.46,
          3.5,
          3.54,
          3.58,
          3.62,
          3.67,
          3.71,
          3.75,
          3.79,
          3.83,
          3.88,
          3.92,
          3.96,
          4,
          4.04,
          4.08,
          4.12,
          4.17
         ],
         "xaxis": "x",
         "y": [
          0.001277195755392313,
          0.0020288443192839622,
          0.0014324990333989263,
          0.001429739990271628,
          0.0027037891559302807,
          0.0030625781510025263,
          0.005907937418669462,
          0.00157993717584759,
          0.0025164252147078514,
          0.0023850665893405676,
          0.001107980264350772,
          0.002808533376082778,
          0.007889059372246265,
          0.007225809618830681,
          0.002206855919212103,
          0.0014196818228811026,
          0.0006592182326130569,
          0.001097313011996448,
          0.0007479877094738185,
          0.0012839761329814792,
          0.0013159653171896935,
          0.0006553595885634422,
          0.0003388016193639487,
          0.0023127959575504065,
          0.0011536135571077466,
          0.00403367355465889,
          0.00044633852667175233,
          0.00026756737497635186,
          0.0003066524805035442,
          0.00032963184639811516,
          0.000445814395789057,
          0.0008714217692613602,
          0.00131492770742625,
          0.0009603060316294432,
          0.000754344102460891,
          0.0006579129258170724,
          0.000766372075304389,
          0.0005667846417054534,
          0.0020249744411557913,
          0.003344504861161113,
          0.00207702093757689,
          0.0010250272462144494,
          0.0004375473072286695,
          0.00038102874532341957,
          0.0006674224277958274,
          0.0005663071060553193,
          0.0003091836115345359,
          0.0008373431046493351,
          0.0011516400845721364,
          0.001333493273705244,
          0.001830094726756215,
          0.004546955693513155,
          0.008712783455848694,
          0.006357644218951464,
          0.006944278255105019,
          0.018356993794441223,
          0.019585007801651955,
          0.010999361984431744,
          0.0036566772032529116,
          0.0022160757798701525,
          0.0036512487567961216,
          0.004301102366298437,
          0.002300768857821822,
          0.004795858636498451,
          0.002926914719864726,
          0.009598786942660809,
          0.003204050473868847,
          0.003051917999982834,
          0.00502435490489006,
          0.002728372346609831,
          0.003068417776376009,
          0.005019175820052624,
          0.0019459458999335766,
          0.0015942511381581426,
          0.0007899930933490396,
          0.0016471619019284844,
          0.0008863011025823653,
          0.004575500264763832,
          0.0025281221605837345,
          0.0029857512563467026,
          0.0016019194154068828,
          0.0060707819648087025,
          0.000990619300864637,
          0.0029479428194463253,
          0.01103956252336502,
          0.012838475406169891,
          0.04291832819581032,
          0.07721380144357681,
          0.12551763653755188,
          0.04198271036148071,
          0.24432049691677094,
          0.18607978522777557,
          0.2701883018016815,
          0.15499714016914368,
          0.2174610048532486,
          0.12050904333591461,
          0.1915569305419922,
          0.15317264199256897,
          0.32296696305274963,
          0.24889309704303741,
          0.12302301079034805
         ],
         "yaxis": "y"
        },
        {
         "alignmentgroup": "True",
         "hovertemplate": "emotion=Disgust<br>pos_sec=%{x}<br>probability=%{y}<extra></extra>",
         "legendgroup": "Disgust",
         "marker": {
          "color": "#EF553B",
          "pattern": {
           "shape": ""
          }
         },
         "name": "Disgust",
         "offsetgroup": "Disgust",
         "orientation": "v",
         "showlegend": true,
         "textposition": "auto",
         "type": "bar",
         "x": [
          0,
          0.04,
          0.08,
          0.12,
          0.17,
          0.21,
          0.25,
          0.29,
          0.33,
          0.38,
          0.42,
          0.46,
          0.5,
          0.54,
          0.58,
          0.62,
          0.67,
          0.71,
          0.75,
          0.79,
          0.83,
          0.88,
          0.92,
          0.96,
          1,
          1.04,
          1.08,
          1.12,
          1.17,
          1.21,
          1.25,
          1.29,
          1.33,
          1.38,
          1.42,
          1.46,
          1.5,
          1.54,
          1.58,
          1.62,
          1.67,
          1.71,
          1.75,
          1.79,
          1.83,
          1.88,
          1.92,
          1.96,
          2,
          2.04,
          2.08,
          2.12,
          2.17,
          2.21,
          2.25,
          2.29,
          2.33,
          2.38,
          2.42,
          2.46,
          2.5,
          2.54,
          2.58,
          2.62,
          2.67,
          2.71,
          2.75,
          2.79,
          2.83,
          2.88,
          2.92,
          2.96,
          3,
          3.04,
          3.08,
          3.12,
          3.17,
          3.21,
          3.25,
          3.29,
          3.33,
          3.38,
          3.42,
          3.46,
          3.5,
          3.54,
          3.58,
          3.62,
          3.67,
          3.71,
          3.75,
          3.79,
          3.83,
          3.88,
          3.92,
          3.96,
          4,
          4.04,
          4.08,
          4.12,
          4.17
         ],
         "xaxis": "x",
         "y": [
          0.000003640794147941051,
          0.000009641964425100014,
          0.000006224953722266946,
          0.0000020799188860110007,
          0.000002856537321349606,
          0.000007155648745538201,
          0.000021009665942983702,
          0.0000010463031685503665,
          0.0000014127073200143059,
          0.00000207759717341105,
          6.787811344111105e-7,
          0.00000523018570675049,
          0.00002294905425515026,
          0.0000036558499232342,
          0.000013584238331532106,
          0.0000047691869440313894,
          0.000001142050450653187,
          0.000003203130972906365,
          9.965965830360801e-8,
          4.040394117055257e-7,
          5.242707175057149e-7,
          5.916813279327471e-7,
          4.0678176560504653e-7,
          0.0000020314664652687497,
          8.898866212803114e-7,
          0.0000037145834994589677,
          7.794879053335535e-8,
          1.4065160769405338e-7,
          1.707981169829509e-7,
          3.511018746849004e-7,
          7.001137873885455e-7,
          0.0000011660312111416715,
          0.00000545028433407424,
          0.000002332308667973848,
          0.0000015360024008259643,
          8.214741455958574e-7,
          0.0000016063040675362572,
          0.000002733541350607993,
          0.0000066118254835600965,
          0.000011054840797442012,
          0.000003029759682249278,
          4.2520417764535523e-7,
          2.001977321697268e-7,
          5.874193220734014e-7,
          0.0000024504124667146243,
          4.7597401930943306e-7,
          3.762006315355393e-7,
          4.000778233148594e-7,
          5.040907922193583e-7,
          0.0000024424664388789097,
          0.000023320169930229895,
          0.00019120115030091256,
          0.00006772525375708938,
          0.000024321276214323007,
          0.00005081214112578891,
          0.0004237458051647991,
          0.00016902323113754392,
          0.00008645559864817187,
          0.0000011458887456683442,
          0.0000039761939660820644,
          0.0000017090983419620898,
          0.000004154135240241885,
          0.000005807873549201759,
          0.00000879564140632283,
          0.0000016980561667878646,
          0.00007551200542366132,
          0.0000027803735065390356,
          0.00000191493313650426,
          0.000004815226475329837,
          0.00000585379211770487,
          0.000003008986823260784,
          0.0000024466621653118636,
          0.00000507197955812444,
          0.000014632942111347802,
          0.0000059266112657496706,
          0.00001911051367642358,
          0.000005999082986818394,
          0.00007601965626236051,
          0.00003522573388181627,
          0.000011485065442684572,
          0.000006137977379694348,
          0.00004894857920589857,
          0.0000022302551769826096,
          0.000014337965694721788,
          0.000030544892069883645,
          0.00038049620343372226,
          0.003594525158405304,
          0.023412765935063362,
          0.040476277470588684,
          0.014755591750144958,
          0.05250423774123192,
          0.04582752287387848,
          0.026336146518588066,
          0.034484971314668655,
          0.00466015562415123,
          0.0034877671860158443,
          0.001983790658414364,
          0.002443737117573619,
          0.01578688435256481,
          0.02606266923248768,
          0.00024263297382276505
         ],
         "yaxis": "y"
        },
        {
         "alignmentgroup": "True",
         "hovertemplate": "emotion=Fear<br>pos_sec=%{x}<br>probability=%{y}<extra></extra>",
         "legendgroup": "Fear",
         "marker": {
          "color": "#00cc96",
          "pattern": {
           "shape": ""
          }
         },
         "name": "Fear",
         "offsetgroup": "Fear",
         "orientation": "v",
         "showlegend": true,
         "textposition": "auto",
         "type": "bar",
         "x": [
          0,
          0.04,
          0.08,
          0.12,
          0.17,
          0.21,
          0.25,
          0.29,
          0.33,
          0.38,
          0.42,
          0.46,
          0.5,
          0.54,
          0.58,
          0.62,
          0.67,
          0.71,
          0.75,
          0.79,
          0.83,
          0.88,
          0.92,
          0.96,
          1,
          1.04,
          1.08,
          1.12,
          1.17,
          1.21,
          1.25,
          1.29,
          1.33,
          1.38,
          1.42,
          1.46,
          1.5,
          1.54,
          1.58,
          1.62,
          1.67,
          1.71,
          1.75,
          1.79,
          1.83,
          1.88,
          1.92,
          1.96,
          2,
          2.04,
          2.08,
          2.12,
          2.17,
          2.21,
          2.25,
          2.29,
          2.33,
          2.38,
          2.42,
          2.46,
          2.5,
          2.54,
          2.58,
          2.62,
          2.67,
          2.71,
          2.75,
          2.79,
          2.83,
          2.88,
          2.92,
          2.96,
          3,
          3.04,
          3.08,
          3.12,
          3.17,
          3.21,
          3.25,
          3.29,
          3.33,
          3.38,
          3.42,
          3.46,
          3.5,
          3.54,
          3.58,
          3.62,
          3.67,
          3.71,
          3.75,
          3.79,
          3.83,
          3.88,
          3.92,
          3.96,
          4,
          4.04,
          4.08,
          4.12,
          4.17
         ],
         "xaxis": "x",
         "y": [
          0.0019330923678353429,
          0.0032375215087085962,
          0.002255574334412813,
          0.0021286364644765854,
          0.007056670729070902,
          0.0050637549720704556,
          0.008337595500051975,
          0.002771164057776332,
          0.008206923492252827,
          0.012755608186125755,
          0.004429933615028858,
          0.005554611328989267,
          0.0119249252602458,
          0.0038519243244081736,
          0.00930332113057375,
          0.0039010061882436275,
          0.0014005161356180906,
          0.007140859961509705,
          0.0016267412574961782,
          0.0020563481375575066,
          0.007541615515947342,
          0.001523007289506495,
          0.0008056913502514362,
          0.003829651977866888,
          0.001038354472257197,
          0.004468757659196854,
          0.0008018112857826054,
          0.0007389649981632829,
          0.001551771885715425,
          0.002360701560974121,
          0.00310983182862401,
          0.003102604765444994,
          0.0027804127894341946,
          0.0031957675237208605,
          0.00369095616042614,
          0.0017938766395673156,
          0.0037529354449361563,
          0.0045606293715536594,
          0.0049182879738509655,
          0.00859847106039524,
          0.006181857082992792,
          0.00295144016854465,
          0.0014658673899248242,
          0.0015689609572291374,
          0.0027712970040738583,
          0.0017001440282911062,
          0.0008708483073860407,
          0.0013836335856467485,
          0.0024320140946656466,
          0.005397803615778685,
          0.006027200259268284,
          0.05663776397705078,
          0.05213894695043564,
          0.014440194703638554,
          0.01138162612915039,
          0.04785076528787613,
          0.050019409507513046,
          0.018441971391439438,
          0.011856894940137863,
          0.006806043442338705,
          0.007746975868940353,
          0.011593342758715153,
          0.007772665470838547,
          0.010991322807967663,
          0.01022251695394516,
          0.028739117085933685,
          0.013244515284895897,
          0.0062539041973650455,
          0.01243713591247797,
          0.009908661246299744,
          0.006238887086510658,
          0.006949577946215868,
          0.0034474085550755262,
          0.0026318421587347984,
          0.0016708821058273315,
          0.0020750423427671194,
          0.004041003528982401,
          0.005730902776122093,
          0.0035409885458648205,
          0.001774507574737072,
          0.0012737688375636935,
          0.010054673068225384,
          0.00195886823348701,
          0.004415616393089294,
          0.014677280560135841,
          0.034861646592617035,
          0.11284727603197098,
          0.20712190866470337,
          0.11752267181873322,
          0.13160164654254913,
          0.17876189947128296,
          0.13033327460289001,
          0.14301297068595886,
          0.11097873002290726,
          0.06112147122621536,
          0.07943255454301834,
          0.049668826162815094,
          0.04727731645107269,
          0.1749853789806366,
          0.14217813313007355,
          0.041484661400318146
         ],
         "yaxis": "y"
        },
        {
         "alignmentgroup": "True",
         "hovertemplate": "emotion=Happy<br>pos_sec=%{x}<br>probability=%{y}<extra></extra>",
         "legendgroup": "Happy",
         "marker": {
          "color": "#ab63fa",
          "pattern": {
           "shape": ""
          }
         },
         "name": "Happy",
         "offsetgroup": "Happy",
         "orientation": "v",
         "showlegend": true,
         "textposition": "auto",
         "type": "bar",
         "x": [
          0,
          0.04,
          0.08,
          0.12,
          0.17,
          0.21,
          0.25,
          0.29,
          0.33,
          0.38,
          0.42,
          0.46,
          0.5,
          0.54,
          0.58,
          0.62,
          0.67,
          0.71,
          0.75,
          0.79,
          0.83,
          0.88,
          0.92,
          0.96,
          1,
          1.04,
          1.08,
          1.12,
          1.17,
          1.21,
          1.25,
          1.29,
          1.33,
          1.38,
          1.42,
          1.46,
          1.5,
          1.54,
          1.58,
          1.62,
          1.67,
          1.71,
          1.75,
          1.79,
          1.83,
          1.88,
          1.92,
          1.96,
          2,
          2.04,
          2.08,
          2.12,
          2.17,
          2.21,
          2.25,
          2.29,
          2.33,
          2.38,
          2.42,
          2.46,
          2.5,
          2.54,
          2.58,
          2.62,
          2.67,
          2.71,
          2.75,
          2.79,
          2.83,
          2.88,
          2.92,
          2.96,
          3,
          3.04,
          3.08,
          3.12,
          3.17,
          3.21,
          3.25,
          3.29,
          3.33,
          3.38,
          3.42,
          3.46,
          3.5,
          3.54,
          3.58,
          3.62,
          3.67,
          3.71,
          3.75,
          3.79,
          3.83,
          3.88,
          3.92,
          3.96,
          4,
          4.04,
          4.08,
          4.12,
          4.17
         ],
         "xaxis": "x",
         "y": [
          0.9920969009399414,
          0.9870865345001221,
          0.9866271615028381,
          0.9856489896774292,
          0.975417971611023,
          0.9838657975196838,
          0.9659875631332397,
          0.9888637065887451,
          0.9659608602523804,
          0.9724301099777222,
          0.9903972148895264,
          0.9806430339813232,
          0.9730965495109558,
          0.9766577482223511,
          0.9580533504486084,
          0.9888455271720886,
          0.9939070343971252,
          0.9866777658462524,
          0.9941920638084412,
          0.992845356464386,
          0.9821372628211975,
          0.9945446252822876,
          0.9940662384033203,
          0.9889751672744751,
          0.9950186610221863,
          0.9862377643585205,
          0.9957440495491028,
          0.9970924854278564,
          0.9960828423500061,
          0.9953398704528809,
          0.9941132664680481,
          0.9916444420814514,
          0.9916361570358276,
          0.9914594888687134,
          0.9919661283493042,
          0.9945672750473022,
          0.9918656945228577,
          0.9909633994102478,
          0.9819911122322083,
          0.9485486745834351,
          0.9552791118621826,
          0.9789910316467285,
          0.9892414212226868,
          0.991104245185852,
          0.9830614328384399,
          0.9840855598449707,
          0.9913404583930969,
          0.9800881743431091,
          0.972875714302063,
          0.9693735837936401,
          0.9637405872344971,
          0.8264434337615967,
          0.8644534945487976,
          0.9312450885772705,
          0.9501208066940308,
          0.8905166387557983,
          0.8958669900894165,
          0.950036346912384,
          0.9538633227348328,
          0.9789380431175232,
          0.964545726776123,
          0.9680473208427429,
          0.9747062921524048,
          0.9643986821174622,
          0.9678148031234741,
          0.928747296333313,
          0.9652343988418579,
          0.9808670878410339,
          0.9719206094741821,
          0.9740837216377258,
          0.9803566336631775,
          0.9766096472740173,
          0.9853046536445618,
          0.9913257360458374,
          0.9948964715003967,
          0.9917305111885071,
          0.9851404428482056,
          0.9802253842353821,
          0.9862207174301147,
          0.9922736287117004,
          0.9919936656951904,
          0.9569801688194275,
          0.9923462271690369,
          0.981077253818512,
          0.9483960866928101,
          0.8797085881233215,
          0.5763569474220276,
          0.43856674432754517,
          0.5465449094772339,
          0.4968625605106354,
          0.36244675517082214,
          0.5078971982002258,
          0.3793245851993561,
          0.4730404019355774,
          0.35217079520225525,
          0.5515463948249817,
          0.42710721492767334,
          0.33060967922210693,
          0.2748665511608124,
          0.47687774896621704,
          0.5865185856819153
         ],
         "yaxis": "y"
        },
        {
         "alignmentgroup": "True",
         "hovertemplate": "emotion=Sad<br>pos_sec=%{x}<br>probability=%{y}<extra></extra>",
         "legendgroup": "Sad",
         "marker": {
          "color": "#FFA15A",
          "pattern": {
           "shape": ""
          }
         },
         "name": "Sad",
         "offsetgroup": "Sad",
         "orientation": "v",
         "showlegend": true,
         "textposition": "auto",
         "type": "bar",
         "x": [
          0,
          0.04,
          0.08,
          0.12,
          0.17,
          0.21,
          0.25,
          0.29,
          0.33,
          0.38,
          0.42,
          0.46,
          0.5,
          0.54,
          0.58,
          0.62,
          0.67,
          0.71,
          0.75,
          0.79,
          0.83,
          0.88,
          0.92,
          0.96,
          1,
          1.04,
          1.08,
          1.12,
          1.17,
          1.21,
          1.25,
          1.29,
          1.33,
          1.38,
          1.42,
          1.46,
          1.5,
          1.54,
          1.58,
          1.62,
          1.67,
          1.71,
          1.75,
          1.79,
          1.83,
          1.88,
          1.92,
          1.96,
          2,
          2.04,
          2.08,
          2.12,
          2.17,
          2.21,
          2.25,
          2.29,
          2.33,
          2.38,
          2.42,
          2.46,
          2.5,
          2.54,
          2.58,
          2.62,
          2.67,
          2.71,
          2.75,
          2.79,
          2.83,
          2.88,
          2.92,
          2.96,
          3,
          3.04,
          3.08,
          3.12,
          3.17,
          3.21,
          3.25,
          3.29,
          3.33,
          3.38,
          3.42,
          3.46,
          3.5,
          3.54,
          3.58,
          3.62,
          3.67,
          3.71,
          3.75,
          3.79,
          3.83,
          3.88,
          3.92,
          3.96,
          4,
          4.04,
          4.08,
          4.12,
          4.17
         ],
         "xaxis": "x",
         "y": [
          0.0005317083559930325,
          0.001022208365611732,
          0.0005714415456168354,
          0.0003921664319932461,
          0.000999210518784821,
          0.0013009743997827172,
          0.0029280874878168106,
          0.0005589385982602835,
          0.0007496664766222239,
          0.0012048459611833096,
          0.0002894771168939769,
          0.001096260384656489,
          0.0015618241159245372,
          0.0004646727757062763,
          0.0036222636699676514,
          0.0008625530172139406,
          0.0002981580328196287,
          0.001482878578826785,
          0.00013943039812147617,
          0.0002758484042715281,
          0.0009764967835508287,
          0.0004176305083092302,
          0.00024777595535852015,
          0.0016323728486895561,
          0.00045797001803293824,
          0.0010965496767312288,
          0.00017603726882953197,
          0.00014501821715384722,
          0.00020884658442810178,
          0.0002826862328220159,
          0.0004927950212731957,
          0.0011418188223615289,
          0.0013729921774938703,
          0.0013086405815556645,
          0.0010745989857241511,
          0.00040095389704219997,
          0.0008771574357524514,
          0.0010892453137785196,
          0.0038272857200354338,
          0.013727862387895584,
          0.007598454132676125,
          0.0015967391664162278,
          0.00060752232093364,
          0.0009417446563020349,
          0.00210603978484869,
          0.0007216693484224379,
          0.0004765159683302045,
          0.001022983342409134,
          0.001824673148803413,
          0.0032481392845511436,
          0.0022803680039942265,
          0.009757505729794502,
          0.008082070387899876,
          0.0010650852927938104,
          0.001897782669402659,
          0.012657704763114452,
          0.006752569694072008,
          0.005209504626691341,
          0.0019237386295571923,
          0.0012020198628306389,
          0.0013862783089280128,
          0.002694128779694438,
          0.0018367939628660679,
          0.003150924574583769,
          0.0019471115665510297,
          0.01031043566763401,
          0.003662311937659979,
          0.0014200438745319843,
          0.0015331252943724394,
          0.001954035833477974,
          0.001612174790352583,
          0.0012671801960095763,
          0.0017897324869409204,
          0.0008029285236261785,
          0.0007064797100611031,
          0.0014821162912994623,
          0.003532733302563429,
          0.004086680244654417,
          0.0024790181778371334,
          0.000849356350954622,
          0.001750271418131888,
          0.010094892233610153,
          0.0012052863603457808,
          0.0028276811353862286,
          0.005368427839130163,
          0.03243466839194298,
          0.17069588601589203,
          0.16854995489120483,
          0.10472216457128525,
          0.13700564205646515,
          0.10780112445354462,
          0.09024142473936081,
          0.1424770951271057,
          0.16682416200637817,
          0.30966654419898987,
          0.20644237101078033,
          0.28440460562705994,
          0.43119335174560547,
          0.16557782888412476,
          0.06791290640830994,
          0.22120891511440277
         ],
         "yaxis": "y"
        },
        {
         "alignmentgroup": "True",
         "hovertemplate": "emotion=Surprise<br>pos_sec=%{x}<br>probability=%{y}<extra></extra>",
         "legendgroup": "Surprise",
         "marker": {
          "color": "#19d3f3",
          "pattern": {
           "shape": ""
          }
         },
         "name": "Surprise",
         "offsetgroup": "Surprise",
         "orientation": "v",
         "showlegend": true,
         "textposition": "auto",
         "type": "bar",
         "x": [
          0,
          0.04,
          0.08,
          0.12,
          0.17,
          0.21,
          0.25,
          0.29,
          0.33,
          0.38,
          0.42,
          0.46,
          0.5,
          0.54,
          0.58,
          0.62,
          0.67,
          0.71,
          0.75,
          0.79,
          0.83,
          0.88,
          0.92,
          0.96,
          1,
          1.04,
          1.08,
          1.12,
          1.17,
          1.21,
          1.25,
          1.29,
          1.33,
          1.38,
          1.42,
          1.46,
          1.5,
          1.54,
          1.58,
          1.62,
          1.67,
          1.71,
          1.75,
          1.79,
          1.83,
          1.88,
          1.92,
          1.96,
          2,
          2.04,
          2.08,
          2.12,
          2.17,
          2.21,
          2.25,
          2.29,
          2.33,
          2.38,
          2.42,
          2.46,
          2.5,
          2.54,
          2.58,
          2.62,
          2.67,
          2.71,
          2.75,
          2.79,
          2.83,
          2.88,
          2.92,
          2.96,
          3,
          3.04,
          3.08,
          3.12,
          3.17,
          3.21,
          3.25,
          3.29,
          3.33,
          3.38,
          3.42,
          3.46,
          3.5,
          3.54,
          3.58,
          3.62,
          3.67,
          3.71,
          3.75,
          3.79,
          3.83,
          3.88,
          3.92,
          3.96,
          4,
          4.04,
          4.08,
          4.12,
          4.17
         ],
         "xaxis": "x",
         "y": [
          0.0001808519009500742,
          0.0002618843864183873,
          0.00026659213472157717,
          0.00041623515426181257,
          0.0007751588709652424,
          0.0003645028918981552,
          0.0005926973535679281,
          0.000752632855437696,
          0.0032311331015080214,
          0.001051735132932663,
          0.0011300427140668035,
          0.0002570526266936213,
          0.0006752936169505119,
          0.0004194399225525558,
          0.0015547220828011632,
          0.0029436785262078047,
          0.0010916116880252957,
          0.0012470873771235347,
          0.0007733220118097961,
          0.0014801693614572287,
          0.0026986345183104277,
          0.0007429010584019125,
          0.0011625553015619516,
          0.0003247522108722478,
          0.00014468275185208768,
          0.0007435715524479747,
          0.0009383402648381889,
          0.0007358788279816508,
          0.0008043315610848367,
          0.0007068945560604334,
          0.0006613766308873892,
          0.0005045646685175598,
          0.00047238459228537977,
          0.00036097789416089654,
          0.0005212834803387523,
          0.0007172334007918835,
          0.0012935264967381954,
          0.001032171305269003,
          0.0016744829481467605,
          0.0011901098769158125,
          0.001078129862435162,
          0.0007020615739747882,
          0.0003693258040584624,
          0.00034268858144059777,
          0.0006057232967577875,
          0.0006166012026369572,
          0.00041166687151417136,
          0.001174600445665419,
          0.0021735590416938066,
          0.0015334074851125479,
          0.0025659920647740364,
          0.01330792997032404,
          0.010817446745932102,
          0.005840988364070654,
          0.0014695936115458608,
          0.002033210126683116,
          0.002549553755670786,
          0.0022823666222393513,
          0.0033890989143401384,
          0.0028721492271870375,
          0.0027740453369915485,
          0.0028992018196731806,
          0.00571654736995697,
          0.003270250977948308,
          0.0023577220272272825,
          0.007474508602172136,
          0.004418970085680485,
          0.0017622491577640176,
          0.003748024348169565,
          0.001922596013173461,
          0.0008373587625101209,
          0.0011557872639968991,
          0.00015966565115377307,
          0.00012142000923631713,
          0.000048720492486609146,
          0.00013870753173250705,
          0.00038348702946677804,
          0.0005513071082532406,
          0.00041205566958524287,
          0.00021975328854750842,
          0.00024127287906594574,
          0.0008392268209718168,
          0.00012201802746858448,
          0.00019752465595956892,
          0.0006834547966718674,
          0.0010596666252240539,
          0.0049740467220544815,
          0.016241053119301796,
          0.013537651859223843,
          0.02128688059747219,
          0.02402617409825325,
          0.009409848600625992,
          0.020023711025714874,
          0.022292183712124825,
          0.017054975032806396,
          0.014358160085976124,
          0.022917423397302628,
          0.010239953175187111,
          0.01920151524245739,
          0.022593874484300613,
          0.012507535517215729
         ],
         "yaxis": "y"
        },
        {
         "alignmentgroup": "True",
         "hovertemplate": "emotion=Neutral<br>pos_sec=%{x}<br>probability=%{y}<extra></extra>",
         "legendgroup": "Neutral",
         "marker": {
          "color": "#FF6692",
          "pattern": {
           "shape": ""
          }
         },
         "name": "Neutral",
         "offsetgroup": "Neutral",
         "orientation": "v",
         "showlegend": true,
         "textposition": "auto",
         "type": "bar",
         "x": [
          0,
          0.04,
          0.08,
          0.12,
          0.17,
          0.21,
          0.25,
          0.29,
          0.33,
          0.38,
          0.42,
          0.46,
          0.5,
          0.54,
          0.58,
          0.62,
          0.67,
          0.71,
          0.75,
          0.79,
          0.83,
          0.88,
          0.92,
          0.96,
          1,
          1.04,
          1.08,
          1.12,
          1.17,
          1.21,
          1.25,
          1.29,
          1.33,
          1.38,
          1.42,
          1.46,
          1.5,
          1.54,
          1.58,
          1.62,
          1.67,
          1.71,
          1.75,
          1.79,
          1.83,
          1.88,
          1.92,
          1.96,
          2,
          2.04,
          2.08,
          2.12,
          2.17,
          2.21,
          2.25,
          2.29,
          2.33,
          2.38,
          2.42,
          2.46,
          2.5,
          2.54,
          2.58,
          2.62,
          2.67,
          2.71,
          2.75,
          2.79,
          2.83,
          2.88,
          2.92,
          2.96,
          3,
          3.04,
          3.08,
          3.12,
          3.17,
          3.21,
          3.25,
          3.29,
          3.33,
          3.38,
          3.42,
          3.46,
          3.5,
          3.54,
          3.58,
          3.62,
          3.67,
          3.71,
          3.75,
          3.79,
          3.83,
          3.88,
          3.92,
          3.96,
          4,
          4.04,
          4.08,
          4.12,
          4.17
         ],
         "xaxis": "x",
         "y": [
          0.003976601641625166,
          0.006353252567350864,
          0.008840484544634819,
          0.009982223622500896,
          0.013044357299804688,
          0.006335177458822727,
          0.016225121915340424,
          0.005472471937537193,
          0.019333600997924805,
          0.010170558467507362,
          0.002644701162353158,
          0.00963523518294096,
          0.004829456098377705,
          0.011376726441085339,
          0.025245921686291695,
          0.0020228694193065166,
          0.0026423833332955837,
          0.002350863302126527,
          0.002520275302231312,
          0.0020579297561198473,
          0.00532951345667243,
          0.002115881070494652,
          0.0033785311970859766,
          0.002923182677477598,
          0.00218593655154109,
          0.003415965475142002,
          0.0018933378159999847,
          0.0010199799435213208,
          0.001045467797666788,
          0.0009797753300517797,
          0.0011761585483327508,
          0.0027339570224285126,
          0.0024177031591534615,
          0.0027124916668981314,
          0.0019912216812372208,
          0.0018619539914652705,
          0.0014426966663450003,
          0.0017849901923909783,
          0.005557217635214329,
          0.0245792418718338,
          0.027782397344708443,
          0.014733358286321163,
          0.00787800271064043,
          0.005660788156092167,
          0.010785548947751522,
          0.01230928860604763,
          0.006590846925973892,
          0.015492825768887997,
          0.019541937857866287,
          0.01911112666130066,
          0.023532427847385406,
          0.089115209877491,
          0.055727530270814896,
          0.0410267673432827,
          0.028135092929005623,
          0.028160981833934784,
          0.025057462975382805,
          0.012944000773131847,
          0.025309089571237564,
          0.007961699739098549,
          0.019893985241651535,
          0.010460751131176949,
          0.007661143783479929,
          0.013384152203798294,
          0.014729349873960018,
          0.015054387040436268,
          0.01023296732455492,
          0.0066427928395569324,
          0.005331854801625013,
          0.009396838024258614,
          0.007883450947701931,
          0.008996134623885155,
          0.007347470615059137,
          0.003509317059069872,
          0.00188147381413728,
          0.0029074051417410374,
          0.0060099223628640175,
          0.004754212219268084,
          0.004783975426107645,
          0.0018855358939617872,
          0.0031330117490142584,
          0.01591135933995247,
          0.0033748799469321966,
          0.008519553579390049,
          0.019804632291197777,
          0.038716480135917664,
          0.08861297369003296,
          0.06889386475086212,
          0.05167873948812485,
          0.15650498867034912,
          0.030139340087771416,
          0.030210986733436584,
          0.018637213855981827,
          0.037382468581199646,
          0.03786506876349449,
          0.024223703891038895,
          0.02236117236316204,
          0.025063328444957733,
          0.026614924892783165,
          0.015481552109122276,
          0.015014668926596642
         ],
         "yaxis": "y"
        }
       ],
       "layout": {
        "barmode": "stack",
        "legend": {
         "title": {
          "text": "emotion"
         },
         "tracegroupgap": 0
        },
        "template": {
         "data": {
          "bar": [
           {
            "error_x": {
             "color": "#2a3f5f"
            },
            "error_y": {
             "color": "#2a3f5f"
            },
            "marker": {
             "line": {
              "color": "#E5ECF6",
              "width": 0.5
             },
             "pattern": {
              "fillmode": "overlay",
              "size": 10,
              "solidity": 0.2
             }
            },
            "type": "bar"
           }
          ],
          "barpolar": [
           {
            "marker": {
             "line": {
              "color": "#E5ECF6",
              "width": 0.5
             },
             "pattern": {
              "fillmode": "overlay",
              "size": 10,
              "solidity": 0.2
             }
            },
            "type": "barpolar"
           }
          ],
          "carpet": [
           {
            "aaxis": {
             "endlinecolor": "#2a3f5f",
             "gridcolor": "white",
             "linecolor": "white",
             "minorgridcolor": "white",
             "startlinecolor": "#2a3f5f"
            },
            "baxis": {
             "endlinecolor": "#2a3f5f",
             "gridcolor": "white",
             "linecolor": "white",
             "minorgridcolor": "white",
             "startlinecolor": "#2a3f5f"
            },
            "type": "carpet"
           }
          ],
          "choropleth": [
           {
            "colorbar": {
             "outlinewidth": 0,
             "ticks": ""
            },
            "type": "choropleth"
           }
          ],
          "contour": [
           {
            "colorbar": {
             "outlinewidth": 0,
             "ticks": ""
            },
            "colorscale": [
             [
              0,
              "#0d0887"
             ],
             [
              0.1111111111111111,
              "#46039f"
             ],
             [
              0.2222222222222222,
              "#7201a8"
             ],
             [
              0.3333333333333333,
              "#9c179e"
             ],
             [
              0.4444444444444444,
              "#bd3786"
             ],
             [
              0.5555555555555556,
              "#d8576b"
             ],
             [
              0.6666666666666666,
              "#ed7953"
             ],
             [
              0.7777777777777778,
              "#fb9f3a"
             ],
             [
              0.8888888888888888,
              "#fdca26"
             ],
             [
              1,
              "#f0f921"
             ]
            ],
            "type": "contour"
           }
          ],
          "contourcarpet": [
           {
            "colorbar": {
             "outlinewidth": 0,
             "ticks": ""
            },
            "type": "contourcarpet"
           }
          ],
          "heatmap": [
           {
            "colorbar": {
             "outlinewidth": 0,
             "ticks": ""
            },
            "colorscale": [
             [
              0,
              "#0d0887"
             ],
             [
              0.1111111111111111,
              "#46039f"
             ],
             [
              0.2222222222222222,
              "#7201a8"
             ],
             [
              0.3333333333333333,
              "#9c179e"
             ],
             [
              0.4444444444444444,
              "#bd3786"
             ],
             [
              0.5555555555555556,
              "#d8576b"
             ],
             [
              0.6666666666666666,
              "#ed7953"
             ],
             [
              0.7777777777777778,
              "#fb9f3a"
             ],
             [
              0.8888888888888888,
              "#fdca26"
             ],
             [
              1,
              "#f0f921"
             ]
            ],
            "type": "heatmap"
           }
          ],
          "heatmapgl": [
           {
            "colorbar": {
             "outlinewidth": 0,
             "ticks": ""
            },
            "colorscale": [
             [
              0,
              "#0d0887"
             ],
             [
              0.1111111111111111,
              "#46039f"
             ],
             [
              0.2222222222222222,
              "#7201a8"
             ],
             [
              0.3333333333333333,
              "#9c179e"
             ],
             [
              0.4444444444444444,
              "#bd3786"
             ],
             [
              0.5555555555555556,
              "#d8576b"
             ],
             [
              0.6666666666666666,
              "#ed7953"
             ],
             [
              0.7777777777777778,
              "#fb9f3a"
             ],
             [
              0.8888888888888888,
              "#fdca26"
             ],
             [
              1,
              "#f0f921"
             ]
            ],
            "type": "heatmapgl"
           }
          ],
          "histogram": [
           {
            "marker": {
             "pattern": {
              "fillmode": "overlay",
              "size": 10,
              "solidity": 0.2
             }
            },
            "type": "histogram"
           }
          ],
          "histogram2d": [
           {
            "colorbar": {
             "outlinewidth": 0,
             "ticks": ""
            },
            "colorscale": [
             [
              0,
              "#0d0887"
             ],
             [
              0.1111111111111111,
              "#46039f"
             ],
             [
              0.2222222222222222,
              "#7201a8"
             ],
             [
              0.3333333333333333,
              "#9c179e"
             ],
             [
              0.4444444444444444,
              "#bd3786"
             ],
             [
              0.5555555555555556,
              "#d8576b"
             ],
             [
              0.6666666666666666,
              "#ed7953"
             ],
             [
              0.7777777777777778,
              "#fb9f3a"
             ],
             [
              0.8888888888888888,
              "#fdca26"
             ],
             [
              1,
              "#f0f921"
             ]
            ],
            "type": "histogram2d"
           }
          ],
          "histogram2dcontour": [
           {
            "colorbar": {
             "outlinewidth": 0,
             "ticks": ""
            },
            "colorscale": [
             [
              0,
              "#0d0887"
             ],
             [
              0.1111111111111111,
              "#46039f"
             ],
             [
              0.2222222222222222,
              "#7201a8"
             ],
             [
              0.3333333333333333,
              "#9c179e"
             ],
             [
              0.4444444444444444,
              "#bd3786"
             ],
             [
              0.5555555555555556,
              "#d8576b"
             ],
             [
              0.6666666666666666,
              "#ed7953"
             ],
             [
              0.7777777777777778,
              "#fb9f3a"
             ],
             [
              0.8888888888888888,
              "#fdca26"
             ],
             [
              1,
              "#f0f921"
             ]
            ],
            "type": "histogram2dcontour"
           }
          ],
          "mesh3d": [
           {
            "colorbar": {
             "outlinewidth": 0,
             "ticks": ""
            },
            "type": "mesh3d"
           }
          ],
          "parcoords": [
           {
            "line": {
             "colorbar": {
              "outlinewidth": 0,
              "ticks": ""
             }
            },
            "type": "parcoords"
           }
          ],
          "pie": [
           {
            "automargin": true,
            "type": "pie"
           }
          ],
          "scatter": [
           {
            "fillpattern": {
             "fillmode": "overlay",
             "size": 10,
             "solidity": 0.2
            },
            "type": "scatter"
           }
          ],
          "scatter3d": [
           {
            "line": {
             "colorbar": {
              "outlinewidth": 0,
              "ticks": ""
             }
            },
            "marker": {
             "colorbar": {
              "outlinewidth": 0,
              "ticks": ""
             }
            },
            "type": "scatter3d"
           }
          ],
          "scattercarpet": [
           {
            "marker": {
             "colorbar": {
              "outlinewidth": 0,
              "ticks": ""
             }
            },
            "type": "scattercarpet"
           }
          ],
          "scattergeo": [
           {
            "marker": {
             "colorbar": {
              "outlinewidth": 0,
              "ticks": ""
             }
            },
            "type": "scattergeo"
           }
          ],
          "scattergl": [
           {
            "marker": {
             "colorbar": {
              "outlinewidth": 0,
              "ticks": ""
             }
            },
            "type": "scattergl"
           }
          ],
          "scattermapbox": [
           {
            "marker": {
             "colorbar": {
              "outlinewidth": 0,
              "ticks": ""
             }
            },
            "type": "scattermapbox"
           }
          ],
          "scatterpolar": [
           {
            "marker": {
             "colorbar": {
              "outlinewidth": 0,
              "ticks": ""
             }
            },
            "type": "scatterpolar"
           }
          ],
          "scatterpolargl": [
           {
            "marker": {
             "colorbar": {
              "outlinewidth": 0,
              "ticks": ""
             }
            },
            "type": "scatterpolargl"
           }
          ],
          "scatterternary": [
           {
            "marker": {
             "colorbar": {
              "outlinewidth": 0,
              "ticks": ""
             }
            },
            "type": "scatterternary"
           }
          ],
          "surface": [
           {
            "colorbar": {
             "outlinewidth": 0,
             "ticks": ""
            },
            "colorscale": [
             [
              0,
              "#0d0887"
             ],
             [
              0.1111111111111111,
              "#46039f"
             ],
             [
              0.2222222222222222,
              "#7201a8"
             ],
             [
              0.3333333333333333,
              "#9c179e"
             ],
             [
              0.4444444444444444,
              "#bd3786"
             ],
             [
              0.5555555555555556,
              "#d8576b"
             ],
             [
              0.6666666666666666,
              "#ed7953"
             ],
             [
              0.7777777777777778,
              "#fb9f3a"
             ],
             [
              0.8888888888888888,
              "#fdca26"
             ],
             [
              1,
              "#f0f921"
             ]
            ],
            "type": "surface"
           }
          ],
          "table": [
           {
            "cells": {
             "fill": {
              "color": "#EBF0F8"
             },
             "line": {
              "color": "white"
             }
            },
            "header": {
             "fill": {
              "color": "#C8D4E3"
             },
             "line": {
              "color": "white"
             }
            },
            "type": "table"
           }
          ]
         },
         "layout": {
          "annotationdefaults": {
           "arrowcolor": "#2a3f5f",
           "arrowhead": 0,
           "arrowwidth": 1
          },
          "autotypenumbers": "strict",
          "coloraxis": {
           "colorbar": {
            "outlinewidth": 0,
            "ticks": ""
           }
          },
          "colorscale": {
           "diverging": [
            [
             0,
             "#8e0152"
            ],
            [
             0.1,
             "#c51b7d"
            ],
            [
             0.2,
             "#de77ae"
            ],
            [
             0.3,
             "#f1b6da"
            ],
            [
             0.4,
             "#fde0ef"
            ],
            [
             0.5,
             "#f7f7f7"
            ],
            [
             0.6,
             "#e6f5d0"
            ],
            [
             0.7,
             "#b8e186"
            ],
            [
             0.8,
             "#7fbc41"
            ],
            [
             0.9,
             "#4d9221"
            ],
            [
             1,
             "#276419"
            ]
           ],
           "sequential": [
            [
             0,
             "#0d0887"
            ],
            [
             0.1111111111111111,
             "#46039f"
            ],
            [
             0.2222222222222222,
             "#7201a8"
            ],
            [
             0.3333333333333333,
             "#9c179e"
            ],
            [
             0.4444444444444444,
             "#bd3786"
            ],
            [
             0.5555555555555556,
             "#d8576b"
            ],
            [
             0.6666666666666666,
             "#ed7953"
            ],
            [
             0.7777777777777778,
             "#fb9f3a"
            ],
            [
             0.8888888888888888,
             "#fdca26"
            ],
            [
             1,
             "#f0f921"
            ]
           ],
           "sequentialminus": [
            [
             0,
             "#0d0887"
            ],
            [
             0.1111111111111111,
             "#46039f"
            ],
            [
             0.2222222222222222,
             "#7201a8"
            ],
            [
             0.3333333333333333,
             "#9c179e"
            ],
            [
             0.4444444444444444,
             "#bd3786"
            ],
            [
             0.5555555555555556,
             "#d8576b"
            ],
            [
             0.6666666666666666,
             "#ed7953"
            ],
            [
             0.7777777777777778,
             "#fb9f3a"
            ],
            [
             0.8888888888888888,
             "#fdca26"
            ],
            [
             1,
             "#f0f921"
            ]
           ]
          },
          "colorway": [
           "#636efa",
           "#EF553B",
           "#00cc96",
           "#ab63fa",
           "#FFA15A",
           "#19d3f3",
           "#FF6692",
           "#B6E880",
           "#FF97FF",
           "#FECB52"
          ],
          "font": {
           "color": "#2a3f5f"
          },
          "geo": {
           "bgcolor": "white",
           "lakecolor": "white",
           "landcolor": "#E5ECF6",
           "showlakes": true,
           "showland": true,
           "subunitcolor": "white"
          },
          "hoverlabel": {
           "align": "left"
          },
          "hovermode": "closest",
          "mapbox": {
           "style": "light"
          },
          "paper_bgcolor": "white",
          "plot_bgcolor": "#E5ECF6",
          "polar": {
           "angularaxis": {
            "gridcolor": "white",
            "linecolor": "white",
            "ticks": ""
           },
           "bgcolor": "#E5ECF6",
           "radialaxis": {
            "gridcolor": "white",
            "linecolor": "white",
            "ticks": ""
           }
          },
          "scene": {
           "xaxis": {
            "backgroundcolor": "#E5ECF6",
            "gridcolor": "white",
            "gridwidth": 2,
            "linecolor": "white",
            "showbackground": true,
            "ticks": "",
            "zerolinecolor": "white"
           },
           "yaxis": {
            "backgroundcolor": "#E5ECF6",
            "gridcolor": "white",
            "gridwidth": 2,
            "linecolor": "white",
            "showbackground": true,
            "ticks": "",
            "zerolinecolor": "white"
           },
           "zaxis": {
            "backgroundcolor": "#E5ECF6",
            "gridcolor": "white",
            "gridwidth": 2,
            "linecolor": "white",
            "showbackground": true,
            "ticks": "",
            "zerolinecolor": "white"
           }
          },
          "shapedefaults": {
           "line": {
            "color": "#2a3f5f"
           }
          },
          "ternary": {
           "aaxis": {
            "gridcolor": "white",
            "linecolor": "white",
            "ticks": ""
           },
           "baxis": {
            "gridcolor": "white",
            "linecolor": "white",
            "ticks": ""
           },
           "bgcolor": "#E5ECF6",
           "caxis": {
            "gridcolor": "white",
            "linecolor": "white",
            "ticks": ""
           }
          },
          "title": {
           "x": 0.05
          },
          "xaxis": {
           "automargin": true,
           "gridcolor": "white",
           "linecolor": "white",
           "ticks": "",
           "title": {
            "standoff": 15
           },
           "zerolinecolor": "white",
           "zerolinewidth": 2
          },
          "yaxis": {
           "automargin": true,
           "gridcolor": "white",
           "linecolor": "white",
           "ticks": "",
           "title": {
            "standoff": 15
           },
           "zerolinecolor": "white",
           "zerolinewidth": 2
          }
         }
        },
        "title": {
         "text": "Distribution of Emotions across Frames (every 10th frame)",
         "x": 0.5,
         "xanchor": "center",
         "y": 0.9,
         "yanchor": "top"
        },
        "xaxis": {
         "anchor": "y",
         "domain": [
          0,
          1
         ],
         "title": {
          "text": "Frame"
         }
        },
        "yaxis": {
         "anchor": "x",
         "domain": [
          0,
          1
         ],
         "title": {
          "text": "Emotion Distribution"
         }
        }
       }
      }
     },
     "metadata": {},
     "output_type": "display_data"
    }
   ],
   "source": [
    "#df_10th = df_plotting[df_plotting[\"frame\"] % 3 == 0]  # select every 10th frame\n",
    "\n",
    "fig = px.bar(df_plotting, x=\"pos_sec\", y='probability', color = 'emotion',\n",
    "             barmode=\"stack\", title=\"Distribution of Emotions across Frames (every 10th frame)\")\n",
    "fig.update_layout(xaxis_title=\"Frame\", yaxis_title=\"Emotion Distribution\",     title={\n",
    "        'y': 0.9,\n",
    "        'x': 0.5,\n",
    "        'xanchor': 'center',\n",
    "        'yanchor': 'top'\n",
    "    })\n",
    "fig.show()"
   ]
  },
  {
   "cell_type": "code",
   "execution_count": 11,
   "metadata": {},
   "outputs": [
    {
     "data": {
      "application/vnd.plotly.v1+json": {
       "config": {
        "plotlyServerURL": "https://plot.ly"
       },
       "data": [
        {
         "fillpattern": {
          "shape": ""
         },
         "hovertemplate": "emotion=Angry<br>pos_sec=%{x}<br>probability=%{y}<extra></extra>",
         "legendgroup": "Angry",
         "line": {
          "color": "#440154"
         },
         "marker": {
          "symbol": "circle"
         },
         "mode": "lines",
         "name": "Angry",
         "orientation": "v",
         "showlegend": true,
         "stackgroup": "1",
         "type": "scatter",
         "x": [
          0,
          0.04,
          0.08,
          0.12,
          0.17,
          0.21,
          0.25,
          0.29,
          0.33,
          0.38,
          0.42,
          0.46,
          0.5,
          0.54,
          0.58,
          0.62,
          0.67,
          0.71,
          0.75,
          0.79,
          0.83,
          0.88,
          0.92,
          0.96,
          1,
          1.04,
          1.08,
          1.12,
          1.17,
          1.21,
          1.25,
          1.29,
          1.33,
          1.38,
          1.42,
          1.46,
          1.5,
          1.54,
          1.58,
          1.62,
          1.67,
          1.71,
          1.75,
          1.79,
          1.83,
          1.88,
          1.92,
          1.96,
          2,
          2.04,
          2.08,
          2.12,
          2.17,
          2.21,
          2.25,
          2.29,
          2.33,
          2.38,
          2.42,
          2.46,
          2.5,
          2.54,
          2.58,
          2.62,
          2.67,
          2.71,
          2.75,
          2.79,
          2.83,
          2.88,
          2.92,
          2.96,
          3,
          3.04,
          3.08,
          3.12,
          3.17,
          3.21,
          3.25,
          3.29,
          3.33,
          3.38,
          3.42,
          3.46,
          3.5,
          3.54,
          3.58,
          3.62,
          3.67,
          3.71,
          3.75,
          3.79,
          3.83,
          3.88,
          3.92,
          3.96,
          4,
          4.04,
          4.08,
          4.12,
          4.17
         ],
         "xaxis": "x",
         "y": [
          0.001277195755392313,
          0.0020288443192839622,
          0.0014324990333989263,
          0.001429739990271628,
          0.0027037891559302807,
          0.0030625781510025263,
          0.005907937418669462,
          0.00157993717584759,
          0.0025164252147078514,
          0.0023850665893405676,
          0.001107980264350772,
          0.002808533376082778,
          0.007889059372246265,
          0.007225809618830681,
          0.002206855919212103,
          0.0014196818228811026,
          0.0006592182326130569,
          0.001097313011996448,
          0.0007479877094738185,
          0.0012839761329814792,
          0.0013159653171896935,
          0.0006553595885634422,
          0.0003388016193639487,
          0.0023127959575504065,
          0.0011536135571077466,
          0.00403367355465889,
          0.00044633852667175233,
          0.00026756737497635186,
          0.0003066524805035442,
          0.00032963184639811516,
          0.000445814395789057,
          0.0008714217692613602,
          0.00131492770742625,
          0.0009603060316294432,
          0.000754344102460891,
          0.0006579129258170724,
          0.000766372075304389,
          0.0005667846417054534,
          0.0020249744411557913,
          0.003344504861161113,
          0.00207702093757689,
          0.0010250272462144494,
          0.0004375473072286695,
          0.00038102874532341957,
          0.0006674224277958274,
          0.0005663071060553193,
          0.0003091836115345359,
          0.0008373431046493351,
          0.0011516400845721364,
          0.001333493273705244,
          0.001830094726756215,
          0.004546955693513155,
          0.008712783455848694,
          0.006357644218951464,
          0.006944278255105019,
          0.018356993794441223,
          0.019585007801651955,
          0.010999361984431744,
          0.0036566772032529116,
          0.0022160757798701525,
          0.0036512487567961216,
          0.004301102366298437,
          0.002300768857821822,
          0.004795858636498451,
          0.002926914719864726,
          0.009598786942660809,
          0.003204050473868847,
          0.003051917999982834,
          0.00502435490489006,
          0.002728372346609831,
          0.003068417776376009,
          0.005019175820052624,
          0.0019459458999335766,
          0.0015942511381581426,
          0.0007899930933490396,
          0.0016471619019284844,
          0.0008863011025823653,
          0.004575500264763832,
          0.0025281221605837345,
          0.0029857512563467026,
          0.0016019194154068828,
          0.0060707819648087025,
          0.000990619300864637,
          0.0029479428194463253,
          0.01103956252336502,
          0.012838475406169891,
          0.04291832819581032,
          0.07721380144357681,
          0.12551763653755188,
          0.04198271036148071,
          0.24432049691677094,
          0.18607978522777557,
          0.2701883018016815,
          0.15499714016914368,
          0.2174610048532486,
          0.12050904333591461,
          0.1915569305419922,
          0.15317264199256897,
          0.32296696305274963,
          0.24889309704303741,
          0.12302301079034805
         ],
         "yaxis": "y"
        },
        {
         "fillpattern": {
          "shape": ""
         },
         "hovertemplate": "emotion=Disgust<br>pos_sec=%{x}<br>probability=%{y}<extra></extra>",
         "legendgroup": "Disgust",
         "line": {
          "color": "#482878"
         },
         "marker": {
          "symbol": "circle"
         },
         "mode": "lines",
         "name": "Disgust",
         "orientation": "v",
         "showlegend": true,
         "stackgroup": "1",
         "type": "scatter",
         "x": [
          0,
          0.04,
          0.08,
          0.12,
          0.17,
          0.21,
          0.25,
          0.29,
          0.33,
          0.38,
          0.42,
          0.46,
          0.5,
          0.54,
          0.58,
          0.62,
          0.67,
          0.71,
          0.75,
          0.79,
          0.83,
          0.88,
          0.92,
          0.96,
          1,
          1.04,
          1.08,
          1.12,
          1.17,
          1.21,
          1.25,
          1.29,
          1.33,
          1.38,
          1.42,
          1.46,
          1.5,
          1.54,
          1.58,
          1.62,
          1.67,
          1.71,
          1.75,
          1.79,
          1.83,
          1.88,
          1.92,
          1.96,
          2,
          2.04,
          2.08,
          2.12,
          2.17,
          2.21,
          2.25,
          2.29,
          2.33,
          2.38,
          2.42,
          2.46,
          2.5,
          2.54,
          2.58,
          2.62,
          2.67,
          2.71,
          2.75,
          2.79,
          2.83,
          2.88,
          2.92,
          2.96,
          3,
          3.04,
          3.08,
          3.12,
          3.17,
          3.21,
          3.25,
          3.29,
          3.33,
          3.38,
          3.42,
          3.46,
          3.5,
          3.54,
          3.58,
          3.62,
          3.67,
          3.71,
          3.75,
          3.79,
          3.83,
          3.88,
          3.92,
          3.96,
          4,
          4.04,
          4.08,
          4.12,
          4.17
         ],
         "xaxis": "x",
         "y": [
          0.000003640794147941051,
          0.000009641964425100014,
          0.000006224953722266946,
          0.0000020799188860110007,
          0.000002856537321349606,
          0.000007155648745538201,
          0.000021009665942983702,
          0.0000010463031685503665,
          0.0000014127073200143059,
          0.00000207759717341105,
          6.787811344111105e-7,
          0.00000523018570675049,
          0.00002294905425515026,
          0.0000036558499232342,
          0.000013584238331532106,
          0.0000047691869440313894,
          0.000001142050450653187,
          0.000003203130972906365,
          9.965965830360801e-8,
          4.040394117055257e-7,
          5.242707175057149e-7,
          5.916813279327471e-7,
          4.0678176560504653e-7,
          0.0000020314664652687497,
          8.898866212803114e-7,
          0.0000037145834994589677,
          7.794879053335535e-8,
          1.4065160769405338e-7,
          1.707981169829509e-7,
          3.511018746849004e-7,
          7.001137873885455e-7,
          0.0000011660312111416715,
          0.00000545028433407424,
          0.000002332308667973848,
          0.0000015360024008259643,
          8.214741455958574e-7,
          0.0000016063040675362572,
          0.000002733541350607993,
          0.0000066118254835600965,
          0.000011054840797442012,
          0.000003029759682249278,
          4.2520417764535523e-7,
          2.001977321697268e-7,
          5.874193220734014e-7,
          0.0000024504124667146243,
          4.7597401930943306e-7,
          3.762006315355393e-7,
          4.000778233148594e-7,
          5.040907922193583e-7,
          0.0000024424664388789097,
          0.000023320169930229895,
          0.00019120115030091256,
          0.00006772525375708938,
          0.000024321276214323007,
          0.00005081214112578891,
          0.0004237458051647991,
          0.00016902323113754392,
          0.00008645559864817187,
          0.0000011458887456683442,
          0.0000039761939660820644,
          0.0000017090983419620898,
          0.000004154135240241885,
          0.000005807873549201759,
          0.00000879564140632283,
          0.0000016980561667878646,
          0.00007551200542366132,
          0.0000027803735065390356,
          0.00000191493313650426,
          0.000004815226475329837,
          0.00000585379211770487,
          0.000003008986823260784,
          0.0000024466621653118636,
          0.00000507197955812444,
          0.000014632942111347802,
          0.0000059266112657496706,
          0.00001911051367642358,
          0.000005999082986818394,
          0.00007601965626236051,
          0.00003522573388181627,
          0.000011485065442684572,
          0.000006137977379694348,
          0.00004894857920589857,
          0.0000022302551769826096,
          0.000014337965694721788,
          0.000030544892069883645,
          0.00038049620343372226,
          0.003594525158405304,
          0.023412765935063362,
          0.040476277470588684,
          0.014755591750144958,
          0.05250423774123192,
          0.04582752287387848,
          0.026336146518588066,
          0.034484971314668655,
          0.00466015562415123,
          0.0034877671860158443,
          0.001983790658414364,
          0.002443737117573619,
          0.01578688435256481,
          0.02606266923248768,
          0.00024263297382276505
         ],
         "yaxis": "y"
        },
        {
         "fillpattern": {
          "shape": ""
         },
         "hovertemplate": "emotion=Fear<br>pos_sec=%{x}<br>probability=%{y}<extra></extra>",
         "legendgroup": "Fear",
         "line": {
          "color": "#3e4989"
         },
         "marker": {
          "symbol": "circle"
         },
         "mode": "lines",
         "name": "Fear",
         "orientation": "v",
         "showlegend": true,
         "stackgroup": "1",
         "type": "scatter",
         "x": [
          0,
          0.04,
          0.08,
          0.12,
          0.17,
          0.21,
          0.25,
          0.29,
          0.33,
          0.38,
          0.42,
          0.46,
          0.5,
          0.54,
          0.58,
          0.62,
          0.67,
          0.71,
          0.75,
          0.79,
          0.83,
          0.88,
          0.92,
          0.96,
          1,
          1.04,
          1.08,
          1.12,
          1.17,
          1.21,
          1.25,
          1.29,
          1.33,
          1.38,
          1.42,
          1.46,
          1.5,
          1.54,
          1.58,
          1.62,
          1.67,
          1.71,
          1.75,
          1.79,
          1.83,
          1.88,
          1.92,
          1.96,
          2,
          2.04,
          2.08,
          2.12,
          2.17,
          2.21,
          2.25,
          2.29,
          2.33,
          2.38,
          2.42,
          2.46,
          2.5,
          2.54,
          2.58,
          2.62,
          2.67,
          2.71,
          2.75,
          2.79,
          2.83,
          2.88,
          2.92,
          2.96,
          3,
          3.04,
          3.08,
          3.12,
          3.17,
          3.21,
          3.25,
          3.29,
          3.33,
          3.38,
          3.42,
          3.46,
          3.5,
          3.54,
          3.58,
          3.62,
          3.67,
          3.71,
          3.75,
          3.79,
          3.83,
          3.88,
          3.92,
          3.96,
          4,
          4.04,
          4.08,
          4.12,
          4.17
         ],
         "xaxis": "x",
         "y": [
          0.0019330923678353429,
          0.0032375215087085962,
          0.002255574334412813,
          0.0021286364644765854,
          0.007056670729070902,
          0.0050637549720704556,
          0.008337595500051975,
          0.002771164057776332,
          0.008206923492252827,
          0.012755608186125755,
          0.004429933615028858,
          0.005554611328989267,
          0.0119249252602458,
          0.0038519243244081736,
          0.00930332113057375,
          0.0039010061882436275,
          0.0014005161356180906,
          0.007140859961509705,
          0.0016267412574961782,
          0.0020563481375575066,
          0.007541615515947342,
          0.001523007289506495,
          0.0008056913502514362,
          0.003829651977866888,
          0.001038354472257197,
          0.004468757659196854,
          0.0008018112857826054,
          0.0007389649981632829,
          0.001551771885715425,
          0.002360701560974121,
          0.00310983182862401,
          0.003102604765444994,
          0.0027804127894341946,
          0.0031957675237208605,
          0.00369095616042614,
          0.0017938766395673156,
          0.0037529354449361563,
          0.0045606293715536594,
          0.0049182879738509655,
          0.00859847106039524,
          0.006181857082992792,
          0.00295144016854465,
          0.0014658673899248242,
          0.0015689609572291374,
          0.0027712970040738583,
          0.0017001440282911062,
          0.0008708483073860407,
          0.0013836335856467485,
          0.0024320140946656466,
          0.005397803615778685,
          0.006027200259268284,
          0.05663776397705078,
          0.05213894695043564,
          0.014440194703638554,
          0.01138162612915039,
          0.04785076528787613,
          0.050019409507513046,
          0.018441971391439438,
          0.011856894940137863,
          0.006806043442338705,
          0.007746975868940353,
          0.011593342758715153,
          0.007772665470838547,
          0.010991322807967663,
          0.01022251695394516,
          0.028739117085933685,
          0.013244515284895897,
          0.0062539041973650455,
          0.01243713591247797,
          0.009908661246299744,
          0.006238887086510658,
          0.006949577946215868,
          0.0034474085550755262,
          0.0026318421587347984,
          0.0016708821058273315,
          0.0020750423427671194,
          0.004041003528982401,
          0.005730902776122093,
          0.0035409885458648205,
          0.001774507574737072,
          0.0012737688375636935,
          0.010054673068225384,
          0.00195886823348701,
          0.004415616393089294,
          0.014677280560135841,
          0.034861646592617035,
          0.11284727603197098,
          0.20712190866470337,
          0.11752267181873322,
          0.13160164654254913,
          0.17876189947128296,
          0.13033327460289001,
          0.14301297068595886,
          0.11097873002290726,
          0.06112147122621536,
          0.07943255454301834,
          0.049668826162815094,
          0.04727731645107269,
          0.1749853789806366,
          0.14217813313007355,
          0.041484661400318146
         ],
         "yaxis": "y"
        },
        {
         "fillpattern": {
          "shape": ""
         },
         "hovertemplate": "emotion=Happy<br>pos_sec=%{x}<br>probability=%{y}<extra></extra>",
         "legendgroup": "Happy",
         "line": {
          "color": "#31688e"
         },
         "marker": {
          "symbol": "circle"
         },
         "mode": "lines",
         "name": "Happy",
         "orientation": "v",
         "showlegend": true,
         "stackgroup": "1",
         "type": "scatter",
         "x": [
          0,
          0.04,
          0.08,
          0.12,
          0.17,
          0.21,
          0.25,
          0.29,
          0.33,
          0.38,
          0.42,
          0.46,
          0.5,
          0.54,
          0.58,
          0.62,
          0.67,
          0.71,
          0.75,
          0.79,
          0.83,
          0.88,
          0.92,
          0.96,
          1,
          1.04,
          1.08,
          1.12,
          1.17,
          1.21,
          1.25,
          1.29,
          1.33,
          1.38,
          1.42,
          1.46,
          1.5,
          1.54,
          1.58,
          1.62,
          1.67,
          1.71,
          1.75,
          1.79,
          1.83,
          1.88,
          1.92,
          1.96,
          2,
          2.04,
          2.08,
          2.12,
          2.17,
          2.21,
          2.25,
          2.29,
          2.33,
          2.38,
          2.42,
          2.46,
          2.5,
          2.54,
          2.58,
          2.62,
          2.67,
          2.71,
          2.75,
          2.79,
          2.83,
          2.88,
          2.92,
          2.96,
          3,
          3.04,
          3.08,
          3.12,
          3.17,
          3.21,
          3.25,
          3.29,
          3.33,
          3.38,
          3.42,
          3.46,
          3.5,
          3.54,
          3.58,
          3.62,
          3.67,
          3.71,
          3.75,
          3.79,
          3.83,
          3.88,
          3.92,
          3.96,
          4,
          4.04,
          4.08,
          4.12,
          4.17
         ],
         "xaxis": "x",
         "y": [
          0.9920969009399414,
          0.9870865345001221,
          0.9866271615028381,
          0.9856489896774292,
          0.975417971611023,
          0.9838657975196838,
          0.9659875631332397,
          0.9888637065887451,
          0.9659608602523804,
          0.9724301099777222,
          0.9903972148895264,
          0.9806430339813232,
          0.9730965495109558,
          0.9766577482223511,
          0.9580533504486084,
          0.9888455271720886,
          0.9939070343971252,
          0.9866777658462524,
          0.9941920638084412,
          0.992845356464386,
          0.9821372628211975,
          0.9945446252822876,
          0.9940662384033203,
          0.9889751672744751,
          0.9950186610221863,
          0.9862377643585205,
          0.9957440495491028,
          0.9970924854278564,
          0.9960828423500061,
          0.9953398704528809,
          0.9941132664680481,
          0.9916444420814514,
          0.9916361570358276,
          0.9914594888687134,
          0.9919661283493042,
          0.9945672750473022,
          0.9918656945228577,
          0.9909633994102478,
          0.9819911122322083,
          0.9485486745834351,
          0.9552791118621826,
          0.9789910316467285,
          0.9892414212226868,
          0.991104245185852,
          0.9830614328384399,
          0.9840855598449707,
          0.9913404583930969,
          0.9800881743431091,
          0.972875714302063,
          0.9693735837936401,
          0.9637405872344971,
          0.8264434337615967,
          0.8644534945487976,
          0.9312450885772705,
          0.9501208066940308,
          0.8905166387557983,
          0.8958669900894165,
          0.950036346912384,
          0.9538633227348328,
          0.9789380431175232,
          0.964545726776123,
          0.9680473208427429,
          0.9747062921524048,
          0.9643986821174622,
          0.9678148031234741,
          0.928747296333313,
          0.9652343988418579,
          0.9808670878410339,
          0.9719206094741821,
          0.9740837216377258,
          0.9803566336631775,
          0.9766096472740173,
          0.9853046536445618,
          0.9913257360458374,
          0.9948964715003967,
          0.9917305111885071,
          0.9851404428482056,
          0.9802253842353821,
          0.9862207174301147,
          0.9922736287117004,
          0.9919936656951904,
          0.9569801688194275,
          0.9923462271690369,
          0.981077253818512,
          0.9483960866928101,
          0.8797085881233215,
          0.5763569474220276,
          0.43856674432754517,
          0.5465449094772339,
          0.4968625605106354,
          0.36244675517082214,
          0.5078971982002258,
          0.3793245851993561,
          0.4730404019355774,
          0.35217079520225525,
          0.5515463948249817,
          0.42710721492767334,
          0.33060967922210693,
          0.2748665511608124,
          0.47687774896621704,
          0.5865185856819153
         ],
         "yaxis": "y"
        },
        {
         "fillpattern": {
          "shape": ""
         },
         "hovertemplate": "emotion=Sad<br>pos_sec=%{x}<br>probability=%{y}<extra></extra>",
         "legendgroup": "Sad",
         "line": {
          "color": "#26828e"
         },
         "marker": {
          "symbol": "circle"
         },
         "mode": "lines",
         "name": "Sad",
         "orientation": "v",
         "showlegend": true,
         "stackgroup": "1",
         "type": "scatter",
         "x": [
          0,
          0.04,
          0.08,
          0.12,
          0.17,
          0.21,
          0.25,
          0.29,
          0.33,
          0.38,
          0.42,
          0.46,
          0.5,
          0.54,
          0.58,
          0.62,
          0.67,
          0.71,
          0.75,
          0.79,
          0.83,
          0.88,
          0.92,
          0.96,
          1,
          1.04,
          1.08,
          1.12,
          1.17,
          1.21,
          1.25,
          1.29,
          1.33,
          1.38,
          1.42,
          1.46,
          1.5,
          1.54,
          1.58,
          1.62,
          1.67,
          1.71,
          1.75,
          1.79,
          1.83,
          1.88,
          1.92,
          1.96,
          2,
          2.04,
          2.08,
          2.12,
          2.17,
          2.21,
          2.25,
          2.29,
          2.33,
          2.38,
          2.42,
          2.46,
          2.5,
          2.54,
          2.58,
          2.62,
          2.67,
          2.71,
          2.75,
          2.79,
          2.83,
          2.88,
          2.92,
          2.96,
          3,
          3.04,
          3.08,
          3.12,
          3.17,
          3.21,
          3.25,
          3.29,
          3.33,
          3.38,
          3.42,
          3.46,
          3.5,
          3.54,
          3.58,
          3.62,
          3.67,
          3.71,
          3.75,
          3.79,
          3.83,
          3.88,
          3.92,
          3.96,
          4,
          4.04,
          4.08,
          4.12,
          4.17
         ],
         "xaxis": "x",
         "y": [
          0.0005317083559930325,
          0.001022208365611732,
          0.0005714415456168354,
          0.0003921664319932461,
          0.000999210518784821,
          0.0013009743997827172,
          0.0029280874878168106,
          0.0005589385982602835,
          0.0007496664766222239,
          0.0012048459611833096,
          0.0002894771168939769,
          0.001096260384656489,
          0.0015618241159245372,
          0.0004646727757062763,
          0.0036222636699676514,
          0.0008625530172139406,
          0.0002981580328196287,
          0.001482878578826785,
          0.00013943039812147617,
          0.0002758484042715281,
          0.0009764967835508287,
          0.0004176305083092302,
          0.00024777595535852015,
          0.0016323728486895561,
          0.00045797001803293824,
          0.0010965496767312288,
          0.00017603726882953197,
          0.00014501821715384722,
          0.00020884658442810178,
          0.0002826862328220159,
          0.0004927950212731957,
          0.0011418188223615289,
          0.0013729921774938703,
          0.0013086405815556645,
          0.0010745989857241511,
          0.00040095389704219997,
          0.0008771574357524514,
          0.0010892453137785196,
          0.0038272857200354338,
          0.013727862387895584,
          0.007598454132676125,
          0.0015967391664162278,
          0.00060752232093364,
          0.0009417446563020349,
          0.00210603978484869,
          0.0007216693484224379,
          0.0004765159683302045,
          0.001022983342409134,
          0.001824673148803413,
          0.0032481392845511436,
          0.0022803680039942265,
          0.009757505729794502,
          0.008082070387899876,
          0.0010650852927938104,
          0.001897782669402659,
          0.012657704763114452,
          0.006752569694072008,
          0.005209504626691341,
          0.0019237386295571923,
          0.0012020198628306389,
          0.0013862783089280128,
          0.002694128779694438,
          0.0018367939628660679,
          0.003150924574583769,
          0.0019471115665510297,
          0.01031043566763401,
          0.003662311937659979,
          0.0014200438745319843,
          0.0015331252943724394,
          0.001954035833477974,
          0.001612174790352583,
          0.0012671801960095763,
          0.0017897324869409204,
          0.0008029285236261785,
          0.0007064797100611031,
          0.0014821162912994623,
          0.003532733302563429,
          0.004086680244654417,
          0.0024790181778371334,
          0.000849356350954622,
          0.001750271418131888,
          0.010094892233610153,
          0.0012052863603457808,
          0.0028276811353862286,
          0.005368427839130163,
          0.03243466839194298,
          0.17069588601589203,
          0.16854995489120483,
          0.10472216457128525,
          0.13700564205646515,
          0.10780112445354462,
          0.09024142473936081,
          0.1424770951271057,
          0.16682416200637817,
          0.30966654419898987,
          0.20644237101078033,
          0.28440460562705994,
          0.43119335174560547,
          0.16557782888412476,
          0.06791290640830994,
          0.22120891511440277
         ],
         "yaxis": "y"
        },
        {
         "fillpattern": {
          "shape": ""
         },
         "hovertemplate": "emotion=Surprise<br>pos_sec=%{x}<br>probability=%{y}<extra></extra>",
         "legendgroup": "Surprise",
         "line": {
          "color": "#1f9e89"
         },
         "marker": {
          "symbol": "circle"
         },
         "mode": "lines",
         "name": "Surprise",
         "orientation": "v",
         "showlegend": true,
         "stackgroup": "1",
         "type": "scatter",
         "x": [
          0,
          0.04,
          0.08,
          0.12,
          0.17,
          0.21,
          0.25,
          0.29,
          0.33,
          0.38,
          0.42,
          0.46,
          0.5,
          0.54,
          0.58,
          0.62,
          0.67,
          0.71,
          0.75,
          0.79,
          0.83,
          0.88,
          0.92,
          0.96,
          1,
          1.04,
          1.08,
          1.12,
          1.17,
          1.21,
          1.25,
          1.29,
          1.33,
          1.38,
          1.42,
          1.46,
          1.5,
          1.54,
          1.58,
          1.62,
          1.67,
          1.71,
          1.75,
          1.79,
          1.83,
          1.88,
          1.92,
          1.96,
          2,
          2.04,
          2.08,
          2.12,
          2.17,
          2.21,
          2.25,
          2.29,
          2.33,
          2.38,
          2.42,
          2.46,
          2.5,
          2.54,
          2.58,
          2.62,
          2.67,
          2.71,
          2.75,
          2.79,
          2.83,
          2.88,
          2.92,
          2.96,
          3,
          3.04,
          3.08,
          3.12,
          3.17,
          3.21,
          3.25,
          3.29,
          3.33,
          3.38,
          3.42,
          3.46,
          3.5,
          3.54,
          3.58,
          3.62,
          3.67,
          3.71,
          3.75,
          3.79,
          3.83,
          3.88,
          3.92,
          3.96,
          4,
          4.04,
          4.08,
          4.12,
          4.17
         ],
         "xaxis": "x",
         "y": [
          0.0001808519009500742,
          0.0002618843864183873,
          0.00026659213472157717,
          0.00041623515426181257,
          0.0007751588709652424,
          0.0003645028918981552,
          0.0005926973535679281,
          0.000752632855437696,
          0.0032311331015080214,
          0.001051735132932663,
          0.0011300427140668035,
          0.0002570526266936213,
          0.0006752936169505119,
          0.0004194399225525558,
          0.0015547220828011632,
          0.0029436785262078047,
          0.0010916116880252957,
          0.0012470873771235347,
          0.0007733220118097961,
          0.0014801693614572287,
          0.0026986345183104277,
          0.0007429010584019125,
          0.0011625553015619516,
          0.0003247522108722478,
          0.00014468275185208768,
          0.0007435715524479747,
          0.0009383402648381889,
          0.0007358788279816508,
          0.0008043315610848367,
          0.0007068945560604334,
          0.0006613766308873892,
          0.0005045646685175598,
          0.00047238459228537977,
          0.00036097789416089654,
          0.0005212834803387523,
          0.0007172334007918835,
          0.0012935264967381954,
          0.001032171305269003,
          0.0016744829481467605,
          0.0011901098769158125,
          0.001078129862435162,
          0.0007020615739747882,
          0.0003693258040584624,
          0.00034268858144059777,
          0.0006057232967577875,
          0.0006166012026369572,
          0.00041166687151417136,
          0.001174600445665419,
          0.0021735590416938066,
          0.0015334074851125479,
          0.0025659920647740364,
          0.01330792997032404,
          0.010817446745932102,
          0.005840988364070654,
          0.0014695936115458608,
          0.002033210126683116,
          0.002549553755670786,
          0.0022823666222393513,
          0.0033890989143401384,
          0.0028721492271870375,
          0.0027740453369915485,
          0.0028992018196731806,
          0.00571654736995697,
          0.003270250977948308,
          0.0023577220272272825,
          0.007474508602172136,
          0.004418970085680485,
          0.0017622491577640176,
          0.003748024348169565,
          0.001922596013173461,
          0.0008373587625101209,
          0.0011557872639968991,
          0.00015966565115377307,
          0.00012142000923631713,
          0.000048720492486609146,
          0.00013870753173250705,
          0.00038348702946677804,
          0.0005513071082532406,
          0.00041205566958524287,
          0.00021975328854750842,
          0.00024127287906594574,
          0.0008392268209718168,
          0.00012201802746858448,
          0.00019752465595956892,
          0.0006834547966718674,
          0.0010596666252240539,
          0.0049740467220544815,
          0.016241053119301796,
          0.013537651859223843,
          0.02128688059747219,
          0.02402617409825325,
          0.009409848600625992,
          0.020023711025714874,
          0.022292183712124825,
          0.017054975032806396,
          0.014358160085976124,
          0.022917423397302628,
          0.010239953175187111,
          0.01920151524245739,
          0.022593874484300613,
          0.012507535517215729
         ],
         "yaxis": "y"
        },
        {
         "fillpattern": {
          "shape": ""
         },
         "hovertemplate": "emotion=Neutral<br>pos_sec=%{x}<br>probability=%{y}<extra></extra>",
         "legendgroup": "Neutral",
         "line": {
          "color": "#35b779"
         },
         "marker": {
          "symbol": "circle"
         },
         "mode": "lines",
         "name": "Neutral",
         "orientation": "v",
         "showlegend": true,
         "stackgroup": "1",
         "type": "scatter",
         "x": [
          0,
          0.04,
          0.08,
          0.12,
          0.17,
          0.21,
          0.25,
          0.29,
          0.33,
          0.38,
          0.42,
          0.46,
          0.5,
          0.54,
          0.58,
          0.62,
          0.67,
          0.71,
          0.75,
          0.79,
          0.83,
          0.88,
          0.92,
          0.96,
          1,
          1.04,
          1.08,
          1.12,
          1.17,
          1.21,
          1.25,
          1.29,
          1.33,
          1.38,
          1.42,
          1.46,
          1.5,
          1.54,
          1.58,
          1.62,
          1.67,
          1.71,
          1.75,
          1.79,
          1.83,
          1.88,
          1.92,
          1.96,
          2,
          2.04,
          2.08,
          2.12,
          2.17,
          2.21,
          2.25,
          2.29,
          2.33,
          2.38,
          2.42,
          2.46,
          2.5,
          2.54,
          2.58,
          2.62,
          2.67,
          2.71,
          2.75,
          2.79,
          2.83,
          2.88,
          2.92,
          2.96,
          3,
          3.04,
          3.08,
          3.12,
          3.17,
          3.21,
          3.25,
          3.29,
          3.33,
          3.38,
          3.42,
          3.46,
          3.5,
          3.54,
          3.58,
          3.62,
          3.67,
          3.71,
          3.75,
          3.79,
          3.83,
          3.88,
          3.92,
          3.96,
          4,
          4.04,
          4.08,
          4.12,
          4.17
         ],
         "xaxis": "x",
         "y": [
          0.003976601641625166,
          0.006353252567350864,
          0.008840484544634819,
          0.009982223622500896,
          0.013044357299804688,
          0.006335177458822727,
          0.016225121915340424,
          0.005472471937537193,
          0.019333600997924805,
          0.010170558467507362,
          0.002644701162353158,
          0.00963523518294096,
          0.004829456098377705,
          0.011376726441085339,
          0.025245921686291695,
          0.0020228694193065166,
          0.0026423833332955837,
          0.002350863302126527,
          0.002520275302231312,
          0.0020579297561198473,
          0.00532951345667243,
          0.002115881070494652,
          0.0033785311970859766,
          0.002923182677477598,
          0.00218593655154109,
          0.003415965475142002,
          0.0018933378159999847,
          0.0010199799435213208,
          0.001045467797666788,
          0.0009797753300517797,
          0.0011761585483327508,
          0.0027339570224285126,
          0.0024177031591534615,
          0.0027124916668981314,
          0.0019912216812372208,
          0.0018619539914652705,
          0.0014426966663450003,
          0.0017849901923909783,
          0.005557217635214329,
          0.0245792418718338,
          0.027782397344708443,
          0.014733358286321163,
          0.00787800271064043,
          0.005660788156092167,
          0.010785548947751522,
          0.01230928860604763,
          0.006590846925973892,
          0.015492825768887997,
          0.019541937857866287,
          0.01911112666130066,
          0.023532427847385406,
          0.089115209877491,
          0.055727530270814896,
          0.0410267673432827,
          0.028135092929005623,
          0.028160981833934784,
          0.025057462975382805,
          0.012944000773131847,
          0.025309089571237564,
          0.007961699739098549,
          0.019893985241651535,
          0.010460751131176949,
          0.007661143783479929,
          0.013384152203798294,
          0.014729349873960018,
          0.015054387040436268,
          0.01023296732455492,
          0.0066427928395569324,
          0.005331854801625013,
          0.009396838024258614,
          0.007883450947701931,
          0.008996134623885155,
          0.007347470615059137,
          0.003509317059069872,
          0.00188147381413728,
          0.0029074051417410374,
          0.0060099223628640175,
          0.004754212219268084,
          0.004783975426107645,
          0.0018855358939617872,
          0.0031330117490142584,
          0.01591135933995247,
          0.0033748799469321966,
          0.008519553579390049,
          0.019804632291197777,
          0.038716480135917664,
          0.08861297369003296,
          0.06889386475086212,
          0.05167873948812485,
          0.15650498867034912,
          0.030139340087771416,
          0.030210986733436584,
          0.018637213855981827,
          0.037382468581199646,
          0.03786506876349449,
          0.024223703891038895,
          0.02236117236316204,
          0.025063328444957733,
          0.026614924892783165,
          0.015481552109122276,
          0.015014668926596642
         ],
         "yaxis": "y"
        }
       ],
       "layout": {
        "autosize": false,
        "height": 500,
        "legend": {
         "title": {
          "text": "emotion"
         },
         "tracegroupgap": 0
        },
        "margin": {
         "b": 50,
         "l": 50,
         "pad": 4,
         "r": 50,
         "t": 50
        },
        "template": {
         "data": {
          "bar": [
           {
            "error_x": {
             "color": "#2a3f5f"
            },
            "error_y": {
             "color": "#2a3f5f"
            },
            "marker": {
             "line": {
              "color": "#E5ECF6",
              "width": 0.5
             },
             "pattern": {
              "fillmode": "overlay",
              "size": 10,
              "solidity": 0.2
             }
            },
            "type": "bar"
           }
          ],
          "barpolar": [
           {
            "marker": {
             "line": {
              "color": "#E5ECF6",
              "width": 0.5
             },
             "pattern": {
              "fillmode": "overlay",
              "size": 10,
              "solidity": 0.2
             }
            },
            "type": "barpolar"
           }
          ],
          "carpet": [
           {
            "aaxis": {
             "endlinecolor": "#2a3f5f",
             "gridcolor": "white",
             "linecolor": "white",
             "minorgridcolor": "white",
             "startlinecolor": "#2a3f5f"
            },
            "baxis": {
             "endlinecolor": "#2a3f5f",
             "gridcolor": "white",
             "linecolor": "white",
             "minorgridcolor": "white",
             "startlinecolor": "#2a3f5f"
            },
            "type": "carpet"
           }
          ],
          "choropleth": [
           {
            "colorbar": {
             "outlinewidth": 0,
             "ticks": ""
            },
            "type": "choropleth"
           }
          ],
          "contour": [
           {
            "colorbar": {
             "outlinewidth": 0,
             "ticks": ""
            },
            "colorscale": [
             [
              0,
              "#0d0887"
             ],
             [
              0.1111111111111111,
              "#46039f"
             ],
             [
              0.2222222222222222,
              "#7201a8"
             ],
             [
              0.3333333333333333,
              "#9c179e"
             ],
             [
              0.4444444444444444,
              "#bd3786"
             ],
             [
              0.5555555555555556,
              "#d8576b"
             ],
             [
              0.6666666666666666,
              "#ed7953"
             ],
             [
              0.7777777777777778,
              "#fb9f3a"
             ],
             [
              0.8888888888888888,
              "#fdca26"
             ],
             [
              1,
              "#f0f921"
             ]
            ],
            "type": "contour"
           }
          ],
          "contourcarpet": [
           {
            "colorbar": {
             "outlinewidth": 0,
             "ticks": ""
            },
            "type": "contourcarpet"
           }
          ],
          "heatmap": [
           {
            "colorbar": {
             "outlinewidth": 0,
             "ticks": ""
            },
            "colorscale": [
             [
              0,
              "#0d0887"
             ],
             [
              0.1111111111111111,
              "#46039f"
             ],
             [
              0.2222222222222222,
              "#7201a8"
             ],
             [
              0.3333333333333333,
              "#9c179e"
             ],
             [
              0.4444444444444444,
              "#bd3786"
             ],
             [
              0.5555555555555556,
              "#d8576b"
             ],
             [
              0.6666666666666666,
              "#ed7953"
             ],
             [
              0.7777777777777778,
              "#fb9f3a"
             ],
             [
              0.8888888888888888,
              "#fdca26"
             ],
             [
              1,
              "#f0f921"
             ]
            ],
            "type": "heatmap"
           }
          ],
          "heatmapgl": [
           {
            "colorbar": {
             "outlinewidth": 0,
             "ticks": ""
            },
            "colorscale": [
             [
              0,
              "#0d0887"
             ],
             [
              0.1111111111111111,
              "#46039f"
             ],
             [
              0.2222222222222222,
              "#7201a8"
             ],
             [
              0.3333333333333333,
              "#9c179e"
             ],
             [
              0.4444444444444444,
              "#bd3786"
             ],
             [
              0.5555555555555556,
              "#d8576b"
             ],
             [
              0.6666666666666666,
              "#ed7953"
             ],
             [
              0.7777777777777778,
              "#fb9f3a"
             ],
             [
              0.8888888888888888,
              "#fdca26"
             ],
             [
              1,
              "#f0f921"
             ]
            ],
            "type": "heatmapgl"
           }
          ],
          "histogram": [
           {
            "marker": {
             "pattern": {
              "fillmode": "overlay",
              "size": 10,
              "solidity": 0.2
             }
            },
            "type": "histogram"
           }
          ],
          "histogram2d": [
           {
            "colorbar": {
             "outlinewidth": 0,
             "ticks": ""
            },
            "colorscale": [
             [
              0,
              "#0d0887"
             ],
             [
              0.1111111111111111,
              "#46039f"
             ],
             [
              0.2222222222222222,
              "#7201a8"
             ],
             [
              0.3333333333333333,
              "#9c179e"
             ],
             [
              0.4444444444444444,
              "#bd3786"
             ],
             [
              0.5555555555555556,
              "#d8576b"
             ],
             [
              0.6666666666666666,
              "#ed7953"
             ],
             [
              0.7777777777777778,
              "#fb9f3a"
             ],
             [
              0.8888888888888888,
              "#fdca26"
             ],
             [
              1,
              "#f0f921"
             ]
            ],
            "type": "histogram2d"
           }
          ],
          "histogram2dcontour": [
           {
            "colorbar": {
             "outlinewidth": 0,
             "ticks": ""
            },
            "colorscale": [
             [
              0,
              "#0d0887"
             ],
             [
              0.1111111111111111,
              "#46039f"
             ],
             [
              0.2222222222222222,
              "#7201a8"
             ],
             [
              0.3333333333333333,
              "#9c179e"
             ],
             [
              0.4444444444444444,
              "#bd3786"
             ],
             [
              0.5555555555555556,
              "#d8576b"
             ],
             [
              0.6666666666666666,
              "#ed7953"
             ],
             [
              0.7777777777777778,
              "#fb9f3a"
             ],
             [
              0.8888888888888888,
              "#fdca26"
             ],
             [
              1,
              "#f0f921"
             ]
            ],
            "type": "histogram2dcontour"
           }
          ],
          "mesh3d": [
           {
            "colorbar": {
             "outlinewidth": 0,
             "ticks": ""
            },
            "type": "mesh3d"
           }
          ],
          "parcoords": [
           {
            "line": {
             "colorbar": {
              "outlinewidth": 0,
              "ticks": ""
             }
            },
            "type": "parcoords"
           }
          ],
          "pie": [
           {
            "automargin": true,
            "type": "pie"
           }
          ],
          "scatter": [
           {
            "fillpattern": {
             "fillmode": "overlay",
             "size": 10,
             "solidity": 0.2
            },
            "type": "scatter"
           }
          ],
          "scatter3d": [
           {
            "line": {
             "colorbar": {
              "outlinewidth": 0,
              "ticks": ""
             }
            },
            "marker": {
             "colorbar": {
              "outlinewidth": 0,
              "ticks": ""
             }
            },
            "type": "scatter3d"
           }
          ],
          "scattercarpet": [
           {
            "marker": {
             "colorbar": {
              "outlinewidth": 0,
              "ticks": ""
             }
            },
            "type": "scattercarpet"
           }
          ],
          "scattergeo": [
           {
            "marker": {
             "colorbar": {
              "outlinewidth": 0,
              "ticks": ""
             }
            },
            "type": "scattergeo"
           }
          ],
          "scattergl": [
           {
            "marker": {
             "colorbar": {
              "outlinewidth": 0,
              "ticks": ""
             }
            },
            "type": "scattergl"
           }
          ],
          "scattermapbox": [
           {
            "marker": {
             "colorbar": {
              "outlinewidth": 0,
              "ticks": ""
             }
            },
            "type": "scattermapbox"
           }
          ],
          "scatterpolar": [
           {
            "marker": {
             "colorbar": {
              "outlinewidth": 0,
              "ticks": ""
             }
            },
            "type": "scatterpolar"
           }
          ],
          "scatterpolargl": [
           {
            "marker": {
             "colorbar": {
              "outlinewidth": 0,
              "ticks": ""
             }
            },
            "type": "scatterpolargl"
           }
          ],
          "scatterternary": [
           {
            "marker": {
             "colorbar": {
              "outlinewidth": 0,
              "ticks": ""
             }
            },
            "type": "scatterternary"
           }
          ],
          "surface": [
           {
            "colorbar": {
             "outlinewidth": 0,
             "ticks": ""
            },
            "colorscale": [
             [
              0,
              "#0d0887"
             ],
             [
              0.1111111111111111,
              "#46039f"
             ],
             [
              0.2222222222222222,
              "#7201a8"
             ],
             [
              0.3333333333333333,
              "#9c179e"
             ],
             [
              0.4444444444444444,
              "#bd3786"
             ],
             [
              0.5555555555555556,
              "#d8576b"
             ],
             [
              0.6666666666666666,
              "#ed7953"
             ],
             [
              0.7777777777777778,
              "#fb9f3a"
             ],
             [
              0.8888888888888888,
              "#fdca26"
             ],
             [
              1,
              "#f0f921"
             ]
            ],
            "type": "surface"
           }
          ],
          "table": [
           {
            "cells": {
             "fill": {
              "color": "#EBF0F8"
             },
             "line": {
              "color": "white"
             }
            },
            "header": {
             "fill": {
              "color": "#C8D4E3"
             },
             "line": {
              "color": "white"
             }
            },
            "type": "table"
           }
          ]
         },
         "layout": {
          "annotationdefaults": {
           "arrowcolor": "#2a3f5f",
           "arrowhead": 0,
           "arrowwidth": 1
          },
          "autotypenumbers": "strict",
          "coloraxis": {
           "colorbar": {
            "outlinewidth": 0,
            "ticks": ""
           }
          },
          "colorscale": {
           "diverging": [
            [
             0,
             "#8e0152"
            ],
            [
             0.1,
             "#c51b7d"
            ],
            [
             0.2,
             "#de77ae"
            ],
            [
             0.3,
             "#f1b6da"
            ],
            [
             0.4,
             "#fde0ef"
            ],
            [
             0.5,
             "#f7f7f7"
            ],
            [
             0.6,
             "#e6f5d0"
            ],
            [
             0.7,
             "#b8e186"
            ],
            [
             0.8,
             "#7fbc41"
            ],
            [
             0.9,
             "#4d9221"
            ],
            [
             1,
             "#276419"
            ]
           ],
           "sequential": [
            [
             0,
             "#0d0887"
            ],
            [
             0.1111111111111111,
             "#46039f"
            ],
            [
             0.2222222222222222,
             "#7201a8"
            ],
            [
             0.3333333333333333,
             "#9c179e"
            ],
            [
             0.4444444444444444,
             "#bd3786"
            ],
            [
             0.5555555555555556,
             "#d8576b"
            ],
            [
             0.6666666666666666,
             "#ed7953"
            ],
            [
             0.7777777777777778,
             "#fb9f3a"
            ],
            [
             0.8888888888888888,
             "#fdca26"
            ],
            [
             1,
             "#f0f921"
            ]
           ],
           "sequentialminus": [
            [
             0,
             "#0d0887"
            ],
            [
             0.1111111111111111,
             "#46039f"
            ],
            [
             0.2222222222222222,
             "#7201a8"
            ],
            [
             0.3333333333333333,
             "#9c179e"
            ],
            [
             0.4444444444444444,
             "#bd3786"
            ],
            [
             0.5555555555555556,
             "#d8576b"
            ],
            [
             0.6666666666666666,
             "#ed7953"
            ],
            [
             0.7777777777777778,
             "#fb9f3a"
            ],
            [
             0.8888888888888888,
             "#fdca26"
            ],
            [
             1,
             "#f0f921"
            ]
           ]
          },
          "colorway": [
           "#636efa",
           "#EF553B",
           "#00cc96",
           "#ab63fa",
           "#FFA15A",
           "#19d3f3",
           "#FF6692",
           "#B6E880",
           "#FF97FF",
           "#FECB52"
          ],
          "font": {
           "color": "#2a3f5f"
          },
          "geo": {
           "bgcolor": "white",
           "lakecolor": "white",
           "landcolor": "#E5ECF6",
           "showlakes": true,
           "showland": true,
           "subunitcolor": "white"
          },
          "hoverlabel": {
           "align": "left"
          },
          "hovermode": "closest",
          "mapbox": {
           "style": "light"
          },
          "paper_bgcolor": "white",
          "plot_bgcolor": "#E5ECF6",
          "polar": {
           "angularaxis": {
            "gridcolor": "white",
            "linecolor": "white",
            "ticks": ""
           },
           "bgcolor": "#E5ECF6",
           "radialaxis": {
            "gridcolor": "white",
            "linecolor": "white",
            "ticks": ""
           }
          },
          "scene": {
           "xaxis": {
            "backgroundcolor": "#E5ECF6",
            "gridcolor": "white",
            "gridwidth": 2,
            "linecolor": "white",
            "showbackground": true,
            "ticks": "",
            "zerolinecolor": "white"
           },
           "yaxis": {
            "backgroundcolor": "#E5ECF6",
            "gridcolor": "white",
            "gridwidth": 2,
            "linecolor": "white",
            "showbackground": true,
            "ticks": "",
            "zerolinecolor": "white"
           },
           "zaxis": {
            "backgroundcolor": "#E5ECF6",
            "gridcolor": "white",
            "gridwidth": 2,
            "linecolor": "white",
            "showbackground": true,
            "ticks": "",
            "zerolinecolor": "white"
           }
          },
          "shapedefaults": {
           "line": {
            "color": "#2a3f5f"
           }
          },
          "ternary": {
           "aaxis": {
            "gridcolor": "white",
            "linecolor": "white",
            "ticks": ""
           },
           "baxis": {
            "gridcolor": "white",
            "linecolor": "white",
            "ticks": ""
           },
           "bgcolor": "#E5ECF6",
           "caxis": {
            "gridcolor": "white",
            "linecolor": "white",
            "ticks": ""
           }
          },
          "title": {
           "x": 0.05
          },
          "xaxis": {
           "automargin": true,
           "gridcolor": "white",
           "linecolor": "white",
           "ticks": "",
           "title": {
            "standoff": 15
           },
           "zerolinecolor": "white",
           "zerolinewidth": 2
          },
          "yaxis": {
           "automargin": true,
           "gridcolor": "white",
           "linecolor": "white",
           "ticks": "",
           "title": {
            "standoff": 15
           },
           "zerolinecolor": "white",
           "zerolinewidth": 2
          }
         }
        },
        "title": {
         "text": "Emotion-Map",
         "x": 0.5,
         "xanchor": "center",
         "y": 0.97,
         "yanchor": "top"
        },
        "width": 600,
        "xaxis": {
         "anchor": "y",
         "domain": [
          0,
          1
         ],
         "title": {
          "text": "Frame"
         }
        },
        "yaxis": {
         "anchor": "x",
         "domain": [
          0,
          1
         ],
         "title": {
          "text": "Emotion distribution"
         }
        }
       }
      }
     },
     "metadata": {},
     "output_type": "display_data"
    }
   ],
   "source": [
    "#df_10th = df_emotions[df_emotions[\"Frame\"] % 20 == 0]  # select every 10th frame\n",
    "\n",
    "# assuming your DataFrame is named df\n",
    "fig = px.area(df_plotting, x=\"pos_sec\", y='probability', color = 'emotion',\n",
    "              color_discrete_sequence=px.colors.sequential.Viridis, title=\"Emotion-Map\")\n",
    "\n",
    "fig.update_layout(\n",
    "    autosize=False,\n",
    "    width=600,\n",
    "    height=500,\n",
    "    margin=dict(\n",
    "        l=50,\n",
    "        r=50,\n",
    "        b=50,\n",
    "        t=50,\n",
    "        pad=4\n",
    "    ),\n",
    "    yaxis=dict(\n",
    "        title='Emotion distribution'\n",
    "    ),\n",
    "    xaxis=dict(\n",
    "        title='Frame'\n",
    "    ),\n",
    "    title={\n",
    "        'y': 0.97,\n",
    "        'x': 0.5,\n",
    "        'xanchor': 'center',\n",
    "        'yanchor': 'top'\n",
    "    }\n",
    ")\n",
    "\n",
    "fig.show()"
   ]
  },
  {
   "cell_type": "code",
   "execution_count": 12,
   "metadata": {},
   "outputs": [
    {
     "data": {
      "text/plain": [
       "<Axes: xlabel='pos_sec', ylabel='probability'>"
      ]
     },
     "execution_count": 12,
     "metadata": {},
     "output_type": "execute_result"
    },
    {
     "data": {
      "image/png": "[encoded data removed]",
      "text/plain": [
       "<Figure size 640x480 with 1 Axes>"
      ]
     },
     "metadata": {},
     "output_type": "display_data"
    }
   ],
   "source": [
    "sns.lineplot(data = df_plotting, x = 'pos_sec', y='probability', hue = 'emotion')"
   ]
  },
  {
   "cell_type": "code",
   "execution_count": 13,
   "metadata": {},
   "outputs": [
    {
     "data": {
      "application/vnd.plotly.v1+json": {
       "config": {
        "plotlyServerURL": "https://plot.ly"
       },
       "data": [
        {
         "fillpattern": {
          "shape": ""
         },
         "hovertemplate": "emotion=Angry<br>pos_sec=%{x}<br>probability=%{y}<extra></extra>",
         "legendgroup": "Angry",
         "line": {
          "color": "#636efa"
         },
         "marker": {
          "symbol": "circle"
         },
         "mode": "lines",
         "name": "Angry",
         "orientation": "v",
         "showlegend": true,
         "stackgroup": "1",
         "type": "scatter",
         "x": [
          0,
          0.04,
          0.08,
          0.12,
          0.17,
          0.21,
          0.25,
          0.29,
          0.33,
          0.38,
          0.42,
          0.46,
          0.5,
          0.54,
          0.58,
          0.62,
          0.67,
          0.71,
          0.75,
          0.79,
          0.83,
          0.88,
          0.92,
          0.96,
          1,
          1.04,
          1.08,
          1.12,
          1.17,
          1.21,
          1.25,
          1.29,
          1.33,
          1.38,
          1.42,
          1.46,
          1.5,
          1.54,
          1.58,
          1.62,
          1.67,
          1.71,
          1.75,
          1.79,
          1.83,
          1.88,
          1.92,
          1.96,
          2,
          2.04,
          2.08,
          2.12,
          2.17,
          2.21,
          2.25,
          2.29,
          2.33,
          2.38,
          2.42,
          2.46,
          2.5,
          2.54,
          2.58,
          2.62,
          2.67,
          2.71,
          2.75,
          2.79,
          2.83,
          2.88,
          2.92,
          2.96,
          3,
          3.04,
          3.08,
          3.12,
          3.17,
          3.21,
          3.25,
          3.29,
          3.33,
          3.38,
          3.42,
          3.46,
          3.5,
          3.54,
          3.58,
          3.62,
          3.67,
          3.71,
          3.75,
          3.79,
          3.83,
          3.88,
          3.92,
          3.96,
          4,
          4.04,
          4.08,
          4.12,
          4.17
         ],
         "xaxis": "x",
         "y": [
          0.001277195755392313,
          0.0020288443192839622,
          0.0014324990333989263,
          0.001429739990271628,
          0.0027037891559302807,
          0.0030625781510025263,
          0.005907937418669462,
          0.00157993717584759,
          0.0025164252147078514,
          0.0023850665893405676,
          0.001107980264350772,
          0.002808533376082778,
          0.007889059372246265,
          0.007225809618830681,
          0.002206855919212103,
          0.0014196818228811026,
          0.0006592182326130569,
          0.001097313011996448,
          0.0007479877094738185,
          0.0012839761329814792,
          0.0013159653171896935,
          0.0006553595885634422,
          0.0003388016193639487,
          0.0023127959575504065,
          0.0011536135571077466,
          0.00403367355465889,
          0.00044633852667175233,
          0.00026756737497635186,
          0.0003066524805035442,
          0.00032963184639811516,
          0.000445814395789057,
          0.0008714217692613602,
          0.00131492770742625,
          0.0009603060316294432,
          0.000754344102460891,
          0.0006579129258170724,
          0.000766372075304389,
          0.0005667846417054534,
          0.0020249744411557913,
          0.003344504861161113,
          0.00207702093757689,
          0.0010250272462144494,
          0.0004375473072286695,
          0.00038102874532341957,
          0.0006674224277958274,
          0.0005663071060553193,
          0.0003091836115345359,
          0.0008373431046493351,
          0.0011516400845721364,
          0.001333493273705244,
          0.001830094726756215,
          0.004546955693513155,
          0.008712783455848694,
          0.006357644218951464,
          0.006944278255105019,
          0.018356993794441223,
          0.019585007801651955,
          0.010999361984431744,
          0.0036566772032529116,
          0.0022160757798701525,
          0.0036512487567961216,
          0.004301102366298437,
          0.002300768857821822,
          0.004795858636498451,
          0.002926914719864726,
          0.009598786942660809,
          0.003204050473868847,
          0.003051917999982834,
          0.00502435490489006,
          0.002728372346609831,
          0.003068417776376009,
          0.005019175820052624,
          0.0019459458999335766,
          0.0015942511381581426,
          0.0007899930933490396,
          0.0016471619019284844,
          0.0008863011025823653,
          0.004575500264763832,
          0.0025281221605837345,
          0.0029857512563467026,
          0.0016019194154068828,
          0.0060707819648087025,
          0.000990619300864637,
          0.0029479428194463253,
          0.01103956252336502,
          0.012838475406169891,
          0.04291832819581032,
          0.07721380144357681,
          0.12551763653755188,
          0.04198271036148071,
          0.24432049691677094,
          0.18607978522777557,
          0.2701883018016815,
          0.15499714016914368,
          0.2174610048532486,
          0.12050904333591461,
          0.1915569305419922,
          0.15317264199256897,
          0.32296696305274963,
          0.24889309704303741,
          0.12302301079034805
         ],
         "yaxis": "y"
        },
        {
         "fillpattern": {
          "shape": ""
         },
         "hovertemplate": "emotion=Disgust<br>pos_sec=%{x}<br>probability=%{y}<extra></extra>",
         "legendgroup": "Disgust",
         "line": {
          "color": "#EF553B"
         },
         "marker": {
          "symbol": "circle"
         },
         "mode": "lines",
         "name": "Disgust",
         "orientation": "v",
         "showlegend": true,
         "stackgroup": "1",
         "type": "scatter",
         "x": [
          0,
          0.04,
          0.08,
          0.12,
          0.17,
          0.21,
          0.25,
          0.29,
          0.33,
          0.38,
          0.42,
          0.46,
          0.5,
          0.54,
          0.58,
          0.62,
          0.67,
          0.71,
          0.75,
          0.79,
          0.83,
          0.88,
          0.92,
          0.96,
          1,
          1.04,
          1.08,
          1.12,
          1.17,
          1.21,
          1.25,
          1.29,
          1.33,
          1.38,
          1.42,
          1.46,
          1.5,
          1.54,
          1.58,
          1.62,
          1.67,
          1.71,
          1.75,
          1.79,
          1.83,
          1.88,
          1.92,
          1.96,
          2,
          2.04,
          2.08,
          2.12,
          2.17,
          2.21,
          2.25,
          2.29,
          2.33,
          2.38,
          2.42,
          2.46,
          2.5,
          2.54,
          2.58,
          2.62,
          2.67,
          2.71,
          2.75,
          2.79,
          2.83,
          2.88,
          2.92,
          2.96,
          3,
          3.04,
          3.08,
          3.12,
          3.17,
          3.21,
          3.25,
          3.29,
          3.33,
          3.38,
          3.42,
          3.46,
          3.5,
          3.54,
          3.58,
          3.62,
          3.67,
          3.71,
          3.75,
          3.79,
          3.83,
          3.88,
          3.92,
          3.96,
          4,
          4.04,
          4.08,
          4.12,
          4.17
         ],
         "xaxis": "x",
         "y": [
          0.000003640794147941051,
          0.000009641964425100014,
          0.000006224953722266946,
          0.0000020799188860110007,
          0.000002856537321349606,
          0.000007155648745538201,
          0.000021009665942983702,
          0.0000010463031685503665,
          0.0000014127073200143059,
          0.00000207759717341105,
          6.787811344111105e-7,
          0.00000523018570675049,
          0.00002294905425515026,
          0.0000036558499232342,
          0.000013584238331532106,
          0.0000047691869440313894,
          0.000001142050450653187,
          0.000003203130972906365,
          9.965965830360801e-8,
          4.040394117055257e-7,
          5.242707175057149e-7,
          5.916813279327471e-7,
          4.0678176560504653e-7,
          0.0000020314664652687497,
          8.898866212803114e-7,
          0.0000037145834994589677,
          7.794879053335535e-8,
          1.4065160769405338e-7,
          1.707981169829509e-7,
          3.511018746849004e-7,
          7.001137873885455e-7,
          0.0000011660312111416715,
          0.00000545028433407424,
          0.000002332308667973848,
          0.0000015360024008259643,
          8.214741455958574e-7,
          0.0000016063040675362572,
          0.000002733541350607993,
          0.0000066118254835600965,
          0.000011054840797442012,
          0.000003029759682249278,
          4.2520417764535523e-7,
          2.001977321697268e-7,
          5.874193220734014e-7,
          0.0000024504124667146243,
          4.7597401930943306e-7,
          3.762006315355393e-7,
          4.000778233148594e-7,
          5.040907922193583e-7,
          0.0000024424664388789097,
          0.000023320169930229895,
          0.00019120115030091256,
          0.00006772525375708938,
          0.000024321276214323007,
          0.00005081214112578891,
          0.0004237458051647991,
          0.00016902323113754392,
          0.00008645559864817187,
          0.0000011458887456683442,
          0.0000039761939660820644,
          0.0000017090983419620898,
          0.000004154135240241885,
          0.000005807873549201759,
          0.00000879564140632283,
          0.0000016980561667878646,
          0.00007551200542366132,
          0.0000027803735065390356,
          0.00000191493313650426,
          0.000004815226475329837,
          0.00000585379211770487,
          0.000003008986823260784,
          0.0000024466621653118636,
          0.00000507197955812444,
          0.000014632942111347802,
          0.0000059266112657496706,
          0.00001911051367642358,
          0.000005999082986818394,
          0.00007601965626236051,
          0.00003522573388181627,
          0.000011485065442684572,
          0.000006137977379694348,
          0.00004894857920589857,
          0.0000022302551769826096,
          0.000014337965694721788,
          0.000030544892069883645,
          0.00038049620343372226,
          0.003594525158405304,
          0.023412765935063362,
          0.040476277470588684,
          0.014755591750144958,
          0.05250423774123192,
          0.04582752287387848,
          0.026336146518588066,
          0.034484971314668655,
          0.00466015562415123,
          0.0034877671860158443,
          0.001983790658414364,
          0.002443737117573619,
          0.01578688435256481,
          0.02606266923248768,
          0.00024263297382276505
         ],
         "yaxis": "y"
        },
        {
         "fillpattern": {
          "shape": ""
         },
         "hovertemplate": "emotion=Fear<br>pos_sec=%{x}<br>probability=%{y}<extra></extra>",
         "legendgroup": "Fear",
         "line": {
          "color": "#00cc96"
         },
         "marker": {
          "symbol": "circle"
         },
         "mode": "lines",
         "name": "Fear",
         "orientation": "v",
         "showlegend": true,
         "stackgroup": "1",
         "type": "scatter",
         "x": [
          0,
          0.04,
          0.08,
          0.12,
          0.17,
          0.21,
          0.25,
          0.29,
          0.33,
          0.38,
          0.42,
          0.46,
          0.5,
          0.54,
          0.58,
          0.62,
          0.67,
          0.71,
          0.75,
          0.79,
          0.83,
          0.88,
          0.92,
          0.96,
          1,
          1.04,
          1.08,
          1.12,
          1.17,
          1.21,
          1.25,
          1.29,
          1.33,
          1.38,
          1.42,
          1.46,
          1.5,
          1.54,
          1.58,
          1.62,
          1.67,
          1.71,
          1.75,
          1.79,
          1.83,
          1.88,
          1.92,
          1.96,
          2,
          2.04,
          2.08,
          2.12,
          2.17,
          2.21,
          2.25,
          2.29,
          2.33,
          2.38,
          2.42,
          2.46,
          2.5,
          2.54,
          2.58,
          2.62,
          2.67,
          2.71,
          2.75,
          2.79,
          2.83,
          2.88,
          2.92,
          2.96,
          3,
          3.04,
          3.08,
          3.12,
          3.17,
          3.21,
          3.25,
          3.29,
          3.33,
          3.38,
          3.42,
          3.46,
          3.5,
          3.54,
          3.58,
          3.62,
          3.67,
          3.71,
          3.75,
          3.79,
          3.83,
          3.88,
          3.92,
          3.96,
          4,
          4.04,
          4.08,
          4.12,
          4.17
         ],
         "xaxis": "x",
         "y": [
          0.0019330923678353429,
          0.0032375215087085962,
          0.002255574334412813,
          0.0021286364644765854,
          0.007056670729070902,
          0.0050637549720704556,
          0.008337595500051975,
          0.002771164057776332,
          0.008206923492252827,
          0.012755608186125755,
          0.004429933615028858,
          0.005554611328989267,
          0.0119249252602458,
          0.0038519243244081736,
          0.00930332113057375,
          0.0039010061882436275,
          0.0014005161356180906,
          0.007140859961509705,
          0.0016267412574961782,
          0.0020563481375575066,
          0.007541615515947342,
          0.001523007289506495,
          0.0008056913502514362,
          0.003829651977866888,
          0.001038354472257197,
          0.004468757659196854,
          0.0008018112857826054,
          0.0007389649981632829,
          0.001551771885715425,
          0.002360701560974121,
          0.00310983182862401,
          0.003102604765444994,
          0.0027804127894341946,
          0.0031957675237208605,
          0.00369095616042614,
          0.0017938766395673156,
          0.0037529354449361563,
          0.0045606293715536594,
          0.0049182879738509655,
          0.00859847106039524,
          0.006181857082992792,
          0.00295144016854465,
          0.0014658673899248242,
          0.0015689609572291374,
          0.0027712970040738583,
          0.0017001440282911062,
          0.0008708483073860407,
          0.0013836335856467485,
          0.0024320140946656466,
          0.005397803615778685,
          0.006027200259268284,
          0.05663776397705078,
          0.05213894695043564,
          0.014440194703638554,
          0.01138162612915039,
          0.04785076528787613,
          0.050019409507513046,
          0.018441971391439438,
          0.011856894940137863,
          0.006806043442338705,
          0.007746975868940353,
          0.011593342758715153,
          0.007772665470838547,
          0.010991322807967663,
          0.01022251695394516,
          0.028739117085933685,
          0.013244515284895897,
          0.0062539041973650455,
          0.01243713591247797,
          0.009908661246299744,
          0.006238887086510658,
          0.006949577946215868,
          0.0034474085550755262,
          0.0026318421587347984,
          0.0016708821058273315,
          0.0020750423427671194,
          0.004041003528982401,
          0.005730902776122093,
          0.0035409885458648205,
          0.001774507574737072,
          0.0012737688375636935,
          0.010054673068225384,
          0.00195886823348701,
          0.004415616393089294,
          0.014677280560135841,
          0.034861646592617035,
          0.11284727603197098,
          0.20712190866470337,
          0.11752267181873322,
          0.13160164654254913,
          0.17876189947128296,
          0.13033327460289001,
          0.14301297068595886,
          0.11097873002290726,
          0.06112147122621536,
          0.07943255454301834,
          0.049668826162815094,
          0.04727731645107269,
          0.1749853789806366,
          0.14217813313007355,
          0.041484661400318146
         ],
         "yaxis": "y"
        },
        {
         "fillpattern": {
          "shape": ""
         },
         "hovertemplate": "emotion=Happy<br>pos_sec=%{x}<br>probability=%{y}<extra></extra>",
         "legendgroup": "Happy",
         "line": {
          "color": "#ab63fa"
         },
         "marker": {
          "symbol": "circle"
         },
         "mode": "lines",
         "name": "Happy",
         "orientation": "v",
         "showlegend": true,
         "stackgroup": "1",
         "type": "scatter",
         "x": [
          0,
          0.04,
          0.08,
          0.12,
          0.17,
          0.21,
          0.25,
          0.29,
          0.33,
          0.38,
          0.42,
          0.46,
          0.5,
          0.54,
          0.58,
          0.62,
          0.67,
          0.71,
          0.75,
          0.79,
          0.83,
          0.88,
          0.92,
          0.96,
          1,
          1.04,
          1.08,
          1.12,
          1.17,
          1.21,
          1.25,
          1.29,
          1.33,
          1.38,
          1.42,
          1.46,
          1.5,
          1.54,
          1.58,
          1.62,
          1.67,
          1.71,
          1.75,
          1.79,
          1.83,
          1.88,
          1.92,
          1.96,
          2,
          2.04,
          2.08,
          2.12,
          2.17,
          2.21,
          2.25,
          2.29,
          2.33,
          2.38,
          2.42,
          2.46,
          2.5,
          2.54,
          2.58,
          2.62,
          2.67,
          2.71,
          2.75,
          2.79,
          2.83,
          2.88,
          2.92,
          2.96,
          3,
          3.04,
          3.08,
          3.12,
          3.17,
          3.21,
          3.25,
          3.29,
          3.33,
          3.38,
          3.42,
          3.46,
          3.5,
          3.54,
          3.58,
          3.62,
          3.67,
          3.71,
          3.75,
          3.79,
          3.83,
          3.88,
          3.92,
          3.96,
          4,
          4.04,
          4.08,
          4.12,
          4.17
         ],
         "xaxis": "x",
         "y": [
          0.9920969009399414,
          0.9870865345001221,
          0.9866271615028381,
          0.9856489896774292,
          0.975417971611023,
          0.9838657975196838,
          0.9659875631332397,
          0.9888637065887451,
          0.9659608602523804,
          0.9724301099777222,
          0.9903972148895264,
          0.9806430339813232,
          0.9730965495109558,
          0.9766577482223511,
          0.9580533504486084,
          0.9888455271720886,
          0.9939070343971252,
          0.9866777658462524,
          0.9941920638084412,
          0.992845356464386,
          0.9821372628211975,
          0.9945446252822876,
          0.9940662384033203,
          0.9889751672744751,
          0.9950186610221863,
          0.9862377643585205,
          0.9957440495491028,
          0.9970924854278564,
          0.9960828423500061,
          0.9953398704528809,
          0.9941132664680481,
          0.9916444420814514,
          0.9916361570358276,
          0.9914594888687134,
          0.9919661283493042,
          0.9945672750473022,
          0.9918656945228577,
          0.9909633994102478,
          0.9819911122322083,
          0.9485486745834351,
          0.9552791118621826,
          0.9789910316467285,
          0.9892414212226868,
          0.991104245185852,
          0.9830614328384399,
          0.9840855598449707,
          0.9913404583930969,
          0.9800881743431091,
          0.972875714302063,
          0.9693735837936401,
          0.9637405872344971,
          0.8264434337615967,
          0.8644534945487976,
          0.9312450885772705,
          0.9501208066940308,
          0.8905166387557983,
          0.8958669900894165,
          0.950036346912384,
          0.9538633227348328,
          0.9789380431175232,
          0.964545726776123,
          0.9680473208427429,
          0.9747062921524048,
          0.9643986821174622,
          0.9678148031234741,
          0.928747296333313,
          0.9652343988418579,
          0.9808670878410339,
          0.9719206094741821,
          0.9740837216377258,
          0.9803566336631775,
          0.9766096472740173,
          0.9853046536445618,
          0.9913257360458374,
          0.9948964715003967,
          0.9917305111885071,
          0.9851404428482056,
          0.9802253842353821,
          0.9862207174301147,
          0.9922736287117004,
          0.9919936656951904,
          0.9569801688194275,
          0.9923462271690369,
          0.981077253818512,
          0.9483960866928101,
          0.8797085881233215,
          0.5763569474220276,
          0.43856674432754517,
          0.5465449094772339,
          0.4968625605106354,
          0.36244675517082214,
          0.5078971982002258,
          0.3793245851993561,
          0.4730404019355774,
          0.35217079520225525,
          0.5515463948249817,
          0.42710721492767334,
          0.33060967922210693,
          0.2748665511608124,
          0.47687774896621704,
          0.5865185856819153
         ],
         "yaxis": "y"
        },
        {
         "fillpattern": {
          "shape": ""
         },
         "hovertemplate": "emotion=Sad<br>pos_sec=%{x}<br>probability=%{y}<extra></extra>",
         "legendgroup": "Sad",
         "line": {
          "color": "#FFA15A"
         },
         "marker": {
          "symbol": "circle"
         },
         "mode": "lines",
         "name": "Sad",
         "orientation": "v",
         "showlegend": true,
         "stackgroup": "1",
         "type": "scatter",
         "x": [
          0,
          0.04,
          0.08,
          0.12,
          0.17,
          0.21,
          0.25,
          0.29,
          0.33,
          0.38,
          0.42,
          0.46,
          0.5,
          0.54,
          0.58,
          0.62,
          0.67,
          0.71,
          0.75,
          0.79,
          0.83,
          0.88,
          0.92,
          0.96,
          1,
          1.04,
          1.08,
          1.12,
          1.17,
          1.21,
          1.25,
          1.29,
          1.33,
          1.38,
          1.42,
          1.46,
          1.5,
          1.54,
          1.58,
          1.62,
          1.67,
          1.71,
          1.75,
          1.79,
          1.83,
          1.88,
          1.92,
          1.96,
          2,
          2.04,
          2.08,
          2.12,
          2.17,
          2.21,
          2.25,
          2.29,
          2.33,
          2.38,
          2.42,
          2.46,
          2.5,
          2.54,
          2.58,
          2.62,
          2.67,
          2.71,
          2.75,
          2.79,
          2.83,
          2.88,
          2.92,
          2.96,
          3,
          3.04,
          3.08,
          3.12,
          3.17,
          3.21,
          3.25,
          3.29,
          3.33,
          3.38,
          3.42,
          3.46,
          3.5,
          3.54,
          3.58,
          3.62,
          3.67,
          3.71,
          3.75,
          3.79,
          3.83,
          3.88,
          3.92,
          3.96,
          4,
          4.04,
          4.08,
          4.12,
          4.17
         ],
         "xaxis": "x",
         "y": [
          0.0005317083559930325,
          0.001022208365611732,
          0.0005714415456168354,
          0.0003921664319932461,
          0.000999210518784821,
          0.0013009743997827172,
          0.0029280874878168106,
          0.0005589385982602835,
          0.0007496664766222239,
          0.0012048459611833096,
          0.0002894771168939769,
          0.001096260384656489,
          0.0015618241159245372,
          0.0004646727757062763,
          0.0036222636699676514,
          0.0008625530172139406,
          0.0002981580328196287,
          0.001482878578826785,
          0.00013943039812147617,
          0.0002758484042715281,
          0.0009764967835508287,
          0.0004176305083092302,
          0.00024777595535852015,
          0.0016323728486895561,
          0.00045797001803293824,
          0.0010965496767312288,
          0.00017603726882953197,
          0.00014501821715384722,
          0.00020884658442810178,
          0.0002826862328220159,
          0.0004927950212731957,
          0.0011418188223615289,
          0.0013729921774938703,
          0.0013086405815556645,
          0.0010745989857241511,
          0.00040095389704219997,
          0.0008771574357524514,
          0.0010892453137785196,
          0.0038272857200354338,
          0.013727862387895584,
          0.007598454132676125,
          0.0015967391664162278,
          0.00060752232093364,
          0.0009417446563020349,
          0.00210603978484869,
          0.0007216693484224379,
          0.0004765159683302045,
          0.001022983342409134,
          0.001824673148803413,
          0.0032481392845511436,
          0.0022803680039942265,
          0.009757505729794502,
          0.008082070387899876,
          0.0010650852927938104,
          0.001897782669402659,
          0.012657704763114452,
          0.006752569694072008,
          0.005209504626691341,
          0.0019237386295571923,
          0.0012020198628306389,
          0.0013862783089280128,
          0.002694128779694438,
          0.0018367939628660679,
          0.003150924574583769,
          0.0019471115665510297,
          0.01031043566763401,
          0.003662311937659979,
          0.0014200438745319843,
          0.0015331252943724394,
          0.001954035833477974,
          0.001612174790352583,
          0.0012671801960095763,
          0.0017897324869409204,
          0.0008029285236261785,
          0.0007064797100611031,
          0.0014821162912994623,
          0.003532733302563429,
          0.004086680244654417,
          0.0024790181778371334,
          0.000849356350954622,
          0.001750271418131888,
          0.010094892233610153,
          0.0012052863603457808,
          0.0028276811353862286,
          0.005368427839130163,
          0.03243466839194298,
          0.17069588601589203,
          0.16854995489120483,
          0.10472216457128525,
          0.13700564205646515,
          0.10780112445354462,
          0.09024142473936081,
          0.1424770951271057,
          0.16682416200637817,
          0.30966654419898987,
          0.20644237101078033,
          0.28440460562705994,
          0.43119335174560547,
          0.16557782888412476,
          0.06791290640830994,
          0.22120891511440277
         ],
         "yaxis": "y"
        },
        {
         "fillpattern": {
          "shape": ""
         },
         "hovertemplate": "emotion=Surprise<br>pos_sec=%{x}<br>probability=%{y}<extra></extra>",
         "legendgroup": "Surprise",
         "line": {
          "color": "#19d3f3"
         },
         "marker": {
          "symbol": "circle"
         },
         "mode": "lines",
         "name": "Surprise",
         "orientation": "v",
         "showlegend": true,
         "stackgroup": "1",
         "type": "scatter",
         "x": [
          0,
          0.04,
          0.08,
          0.12,
          0.17,
          0.21,
          0.25,
          0.29,
          0.33,
          0.38,
          0.42,
          0.46,
          0.5,
          0.54,
          0.58,
          0.62,
          0.67,
          0.71,
          0.75,
          0.79,
          0.83,
          0.88,
          0.92,
          0.96,
          1,
          1.04,
          1.08,
          1.12,
          1.17,
          1.21,
          1.25,
          1.29,
          1.33,
          1.38,
          1.42,
          1.46,
          1.5,
          1.54,
          1.58,
          1.62,
          1.67,
          1.71,
          1.75,
          1.79,
          1.83,
          1.88,
          1.92,
          1.96,
          2,
          2.04,
          2.08,
          2.12,
          2.17,
          2.21,
          2.25,
          2.29,
          2.33,
          2.38,
          2.42,
          2.46,
          2.5,
          2.54,
          2.58,
          2.62,
          2.67,
          2.71,
          2.75,
          2.79,
          2.83,
          2.88,
          2.92,
          2.96,
          3,
          3.04,
          3.08,
          3.12,
          3.17,
          3.21,
          3.25,
          3.29,
          3.33,
          3.38,
          3.42,
          3.46,
          3.5,
          3.54,
          3.58,
          3.62,
          3.67,
          3.71,
          3.75,
          3.79,
          3.83,
          3.88,
          3.92,
          3.96,
          4,
          4.04,
          4.08,
          4.12,
          4.17
         ],
         "xaxis": "x",
         "y": [
          0.0001808519009500742,
          0.0002618843864183873,
          0.00026659213472157717,
          0.00041623515426181257,
          0.0007751588709652424,
          0.0003645028918981552,
          0.0005926973535679281,
          0.000752632855437696,
          0.0032311331015080214,
          0.001051735132932663,
          0.0011300427140668035,
          0.0002570526266936213,
          0.0006752936169505119,
          0.0004194399225525558,
          0.0015547220828011632,
          0.0029436785262078047,
          0.0010916116880252957,
          0.0012470873771235347,
          0.0007733220118097961,
          0.0014801693614572287,
          0.0026986345183104277,
          0.0007429010584019125,
          0.0011625553015619516,
          0.0003247522108722478,
          0.00014468275185208768,
          0.0007435715524479747,
          0.0009383402648381889,
          0.0007358788279816508,
          0.0008043315610848367,
          0.0007068945560604334,
          0.0006613766308873892,
          0.0005045646685175598,
          0.00047238459228537977,
          0.00036097789416089654,
          0.0005212834803387523,
          0.0007172334007918835,
          0.0012935264967381954,
          0.001032171305269003,
          0.0016744829481467605,
          0.0011901098769158125,
          0.001078129862435162,
          0.0007020615739747882,
          0.0003693258040584624,
          0.00034268858144059777,
          0.0006057232967577875,
          0.0006166012026369572,
          0.00041166687151417136,
          0.001174600445665419,
          0.0021735590416938066,
          0.0015334074851125479,
          0.0025659920647740364,
          0.01330792997032404,
          0.010817446745932102,
          0.005840988364070654,
          0.0014695936115458608,
          0.002033210126683116,
          0.002549553755670786,
          0.0022823666222393513,
          0.0033890989143401384,
          0.0028721492271870375,
          0.0027740453369915485,
          0.0028992018196731806,
          0.00571654736995697,
          0.003270250977948308,
          0.0023577220272272825,
          0.007474508602172136,
          0.004418970085680485,
          0.0017622491577640176,
          0.003748024348169565,
          0.001922596013173461,
          0.0008373587625101209,
          0.0011557872639968991,
          0.00015966565115377307,
          0.00012142000923631713,
          0.000048720492486609146,
          0.00013870753173250705,
          0.00038348702946677804,
          0.0005513071082532406,
          0.00041205566958524287,
          0.00021975328854750842,
          0.00024127287906594574,
          0.0008392268209718168,
          0.00012201802746858448,
          0.00019752465595956892,
          0.0006834547966718674,
          0.0010596666252240539,
          0.0049740467220544815,
          0.016241053119301796,
          0.013537651859223843,
          0.02128688059747219,
          0.02402617409825325,
          0.009409848600625992,
          0.020023711025714874,
          0.022292183712124825,
          0.017054975032806396,
          0.014358160085976124,
          0.022917423397302628,
          0.010239953175187111,
          0.01920151524245739,
          0.022593874484300613,
          0.012507535517215729
         ],
         "yaxis": "y"
        },
        {
         "fillpattern": {
          "shape": ""
         },
         "hovertemplate": "emotion=Neutral<br>pos_sec=%{x}<br>probability=%{y}<extra></extra>",
         "legendgroup": "Neutral",
         "line": {
          "color": "#FF6692"
         },
         "marker": {
          "symbol": "circle"
         },
         "mode": "lines",
         "name": "Neutral",
         "orientation": "v",
         "showlegend": true,
         "stackgroup": "1",
         "type": "scatter",
         "x": [
          0,
          0.04,
          0.08,
          0.12,
          0.17,
          0.21,
          0.25,
          0.29,
          0.33,
          0.38,
          0.42,
          0.46,
          0.5,
          0.54,
          0.58,
          0.62,
          0.67,
          0.71,
          0.75,
          0.79,
          0.83,
          0.88,
          0.92,
          0.96,
          1,
          1.04,
          1.08,
          1.12,
          1.17,
          1.21,
          1.25,
          1.29,
          1.33,
          1.38,
          1.42,
          1.46,
          1.5,
          1.54,
          1.58,
          1.62,
          1.67,
          1.71,
          1.75,
          1.79,
          1.83,
          1.88,
          1.92,
          1.96,
          2,
          2.04,
          2.08,
          2.12,
          2.17,
          2.21,
          2.25,
          2.29,
          2.33,
          2.38,
          2.42,
          2.46,
          2.5,
          2.54,
          2.58,
          2.62,
          2.67,
          2.71,
          2.75,
          2.79,
          2.83,
          2.88,
          2.92,
          2.96,
          3,
          3.04,
          3.08,
          3.12,
          3.17,
          3.21,
          3.25,
          3.29,
          3.33,
          3.38,
          3.42,
          3.46,
          3.5,
          3.54,
          3.58,
          3.62,
          3.67,
          3.71,
          3.75,
          3.79,
          3.83,
          3.88,
          3.92,
          3.96,
          4,
          4.04,
          4.08,
          4.12,
          4.17
         ],
         "xaxis": "x",
         "y": [
          0.003976601641625166,
          0.006353252567350864,
          0.008840484544634819,
          0.009982223622500896,
          0.013044357299804688,
          0.006335177458822727,
          0.016225121915340424,
          0.005472471937537193,
          0.019333600997924805,
          0.010170558467507362,
          0.002644701162353158,
          0.00963523518294096,
          0.004829456098377705,
          0.011376726441085339,
          0.025245921686291695,
          0.0020228694193065166,
          0.0026423833332955837,
          0.002350863302126527,
          0.002520275302231312,
          0.0020579297561198473,
          0.00532951345667243,
          0.002115881070494652,
          0.0033785311970859766,
          0.002923182677477598,
          0.00218593655154109,
          0.003415965475142002,
          0.0018933378159999847,
          0.0010199799435213208,
          0.001045467797666788,
          0.0009797753300517797,
          0.0011761585483327508,
          0.0027339570224285126,
          0.0024177031591534615,
          0.0027124916668981314,
          0.0019912216812372208,
          0.0018619539914652705,
          0.0014426966663450003,
          0.0017849901923909783,
          0.005557217635214329,
          0.0245792418718338,
          0.027782397344708443,
          0.014733358286321163,
          0.00787800271064043,
          0.005660788156092167,
          0.010785548947751522,
          0.01230928860604763,
          0.006590846925973892,
          0.015492825768887997,
          0.019541937857866287,
          0.01911112666130066,
          0.023532427847385406,
          0.089115209877491,
          0.055727530270814896,
          0.0410267673432827,
          0.028135092929005623,
          0.028160981833934784,
          0.025057462975382805,
          0.012944000773131847,
          0.025309089571237564,
          0.007961699739098549,
          0.019893985241651535,
          0.010460751131176949,
          0.007661143783479929,
          0.013384152203798294,
          0.014729349873960018,
          0.015054387040436268,
          0.01023296732455492,
          0.0066427928395569324,
          0.005331854801625013,
          0.009396838024258614,
          0.007883450947701931,
          0.008996134623885155,
          0.007347470615059137,
          0.003509317059069872,
          0.00188147381413728,
          0.0029074051417410374,
          0.0060099223628640175,
          0.004754212219268084,
          0.004783975426107645,
          0.0018855358939617872,
          0.0031330117490142584,
          0.01591135933995247,
          0.0033748799469321966,
          0.008519553579390049,
          0.019804632291197777,
          0.038716480135917664,
          0.08861297369003296,
          0.06889386475086212,
          0.05167873948812485,
          0.15650498867034912,
          0.030139340087771416,
          0.030210986733436584,
          0.018637213855981827,
          0.037382468581199646,
          0.03786506876349449,
          0.024223703891038895,
          0.02236117236316204,
          0.025063328444957733,
          0.026614924892783165,
          0.015481552109122276,
          0.015014668926596642
         ],
         "yaxis": "y"
        }
       ],
       "layout": {
        "legend": {
         "title": {
          "text": "emotion"
         },
         "tracegroupgap": 0
        },
        "margin": {
         "t": 60
        },
        "template": {
         "data": {
          "bar": [
           {
            "error_x": {
             "color": "#2a3f5f"
            },
            "error_y": {
             "color": "#2a3f5f"
            },
            "marker": {
             "line": {
              "color": "#E5ECF6",
              "width": 0.5
             },
             "pattern": {
              "fillmode": "overlay",
              "size": 10,
              "solidity": 0.2
             }
            },
            "type": "bar"
           }
          ],
          "barpolar": [
           {
            "marker": {
             "line": {
              "color": "#E5ECF6",
              "width": 0.5
             },
             "pattern": {
              "fillmode": "overlay",
              "size": 10,
              "solidity": 0.2
             }
            },
            "type": "barpolar"
           }
          ],
          "carpet": [
           {
            "aaxis": {
             "endlinecolor": "#2a3f5f",
             "gridcolor": "white",
             "linecolor": "white",
             "minorgridcolor": "white",
             "startlinecolor": "#2a3f5f"
            },
            "baxis": {
             "endlinecolor": "#2a3f5f",
             "gridcolor": "white",
             "linecolor": "white",
             "minorgridcolor": "white",
             "startlinecolor": "#2a3f5f"
            },
            "type": "carpet"
           }
          ],
          "choropleth": [
           {
            "colorbar": {
             "outlinewidth": 0,
             "ticks": ""
            },
            "type": "choropleth"
           }
          ],
          "contour": [
           {
            "colorbar": {
             "outlinewidth": 0,
             "ticks": ""
            },
            "colorscale": [
             [
              0,
              "#0d0887"
             ],
             [
              0.1111111111111111,
              "#46039f"
             ],
             [
              0.2222222222222222,
              "#7201a8"
             ],
             [
              0.3333333333333333,
              "#9c179e"
             ],
             [
              0.4444444444444444,
              "#bd3786"
             ],
             [
              0.5555555555555556,
              "#d8576b"
             ],
             [
              0.6666666666666666,
              "#ed7953"
             ],
             [
              0.7777777777777778,
              "#fb9f3a"
             ],
             [
              0.8888888888888888,
              "#fdca26"
             ],
             [
              1,
              "#f0f921"
             ]
            ],
            "type": "contour"
           }
          ],
          "contourcarpet": [
           {
            "colorbar": {
             "outlinewidth": 0,
             "ticks": ""
            },
            "type": "contourcarpet"
           }
          ],
          "heatmap": [
           {
            "colorbar": {
             "outlinewidth": 0,
             "ticks": ""
            },
            "colorscale": [
             [
              0,
              "#0d0887"
             ],
             [
              0.1111111111111111,
              "#46039f"
             ],
             [
              0.2222222222222222,
              "#7201a8"
             ],
             [
              0.3333333333333333,
              "#9c179e"
             ],
             [
              0.4444444444444444,
              "#bd3786"
             ],
             [
              0.5555555555555556,
              "#d8576b"
             ],
             [
              0.6666666666666666,
              "#ed7953"
             ],
             [
              0.7777777777777778,
              "#fb9f3a"
             ],
             [
              0.8888888888888888,
              "#fdca26"
             ],
             [
              1,
              "#f0f921"
             ]
            ],
            "type": "heatmap"
           }
          ],
          "heatmapgl": [
           {
            "colorbar": {
             "outlinewidth": 0,
             "ticks": ""
            },
            "colorscale": [
             [
              0,
              "#0d0887"
             ],
             [
              0.1111111111111111,
              "#46039f"
             ],
             [
              0.2222222222222222,
              "#7201a8"
             ],
             [
              0.3333333333333333,
              "#9c179e"
             ],
             [
              0.4444444444444444,
              "#bd3786"
             ],
             [
              0.5555555555555556,
              "#d8576b"
             ],
             [
              0.6666666666666666,
              "#ed7953"
             ],
             [
              0.7777777777777778,
              "#fb9f3a"
             ],
             [
              0.8888888888888888,
              "#fdca26"
             ],
             [
              1,
              "#f0f921"
             ]
            ],
            "type": "heatmapgl"
           }
          ],
          "histogram": [
           {
            "marker": {
             "pattern": {
              "fillmode": "overlay",
              "size": 10,
              "solidity": 0.2
             }
            },
            "type": "histogram"
           }
          ],
          "histogram2d": [
           {
            "colorbar": {
             "outlinewidth": 0,
             "ticks": ""
            },
            "colorscale": [
             [
              0,
              "#0d0887"
             ],
             [
              0.1111111111111111,
              "#46039f"
             ],
             [
              0.2222222222222222,
              "#7201a8"
             ],
             [
              0.3333333333333333,
              "#9c179e"
             ],
             [
              0.4444444444444444,
              "#bd3786"
             ],
             [
              0.5555555555555556,
              "#d8576b"
             ],
             [
              0.6666666666666666,
              "#ed7953"
             ],
             [
              0.7777777777777778,
              "#fb9f3a"
             ],
             [
              0.8888888888888888,
              "#fdca26"
             ],
             [
              1,
              "#f0f921"
             ]
            ],
            "type": "histogram2d"
           }
          ],
          "histogram2dcontour": [
           {
            "colorbar": {
             "outlinewidth": 0,
             "ticks": ""
            },
            "colorscale": [
             [
              0,
              "#0d0887"
             ],
             [
              0.1111111111111111,
              "#46039f"
             ],
             [
              0.2222222222222222,
              "#7201a8"
             ],
             [
              0.3333333333333333,
              "#9c179e"
             ],
             [
              0.4444444444444444,
              "#bd3786"
             ],
             [
              0.5555555555555556,
              "#d8576b"
             ],
             [
              0.6666666666666666,
              "#ed7953"
             ],
             [
              0.7777777777777778,
              "#fb9f3a"
             ],
             [
              0.8888888888888888,
              "#fdca26"
             ],
             [
              1,
              "#f0f921"
             ]
            ],
            "type": "histogram2dcontour"
           }
          ],
          "mesh3d": [
           {
            "colorbar": {
             "outlinewidth": 0,
             "ticks": ""
            },
            "type": "mesh3d"
           }
          ],
          "parcoords": [
           {
            "line": {
             "colorbar": {
              "outlinewidth": 0,
              "ticks": ""
             }
            },
            "type": "parcoords"
           }
          ],
          "pie": [
           {
            "automargin": true,
            "type": "pie"
           }
          ],
          "scatter": [
           {
            "fillpattern": {
             "fillmode": "overlay",
             "size": 10,
             "solidity": 0.2
            },
            "type": "scatter"
           }
          ],
          "scatter3d": [
           {
            "line": {
             "colorbar": {
              "outlinewidth": 0,
              "ticks": ""
             }
            },
            "marker": {
             "colorbar": {
              "outlinewidth": 0,
              "ticks": ""
             }
            },
            "type": "scatter3d"
           }
          ],
          "scattercarpet": [
           {
            "marker": {
             "colorbar": {
              "outlinewidth": 0,
              "ticks": ""
             }
            },
            "type": "scattercarpet"
           }
          ],
          "scattergeo": [
           {
            "marker": {
             "colorbar": {
              "outlinewidth": 0,
              "ticks": ""
             }
            },
            "type": "scattergeo"
           }
          ],
          "scattergl": [
           {
            "marker": {
             "colorbar": {
              "outlinewidth": 0,
              "ticks": ""
             }
            },
            "type": "scattergl"
           }
          ],
          "scattermapbox": [
           {
            "marker": {
             "colorbar": {
              "outlinewidth": 0,
              "ticks": ""
             }
            },
            "type": "scattermapbox"
           }
          ],
          "scatterpolar": [
           {
            "marker": {
             "colorbar": {
              "outlinewidth": 0,
              "ticks": ""
             }
            },
            "type": "scatterpolar"
           }
          ],
          "scatterpolargl": [
           {
            "marker": {
             "colorbar": {
              "outlinewidth": 0,
              "ticks": ""
             }
            },
            "type": "scatterpolargl"
           }
          ],
          "scatterternary": [
           {
            "marker": {
             "colorbar": {
              "outlinewidth": 0,
              "ticks": ""
             }
            },
            "type": "scatterternary"
           }
          ],
          "surface": [
           {
            "colorbar": {
             "outlinewidth": 0,
             "ticks": ""
            },
            "colorscale": [
             [
              0,
              "#0d0887"
             ],
             [
              0.1111111111111111,
              "#46039f"
             ],
             [
              0.2222222222222222,
              "#7201a8"
             ],
             [
              0.3333333333333333,
              "#9c179e"
             ],
             [
              0.4444444444444444,
              "#bd3786"
             ],
             [
              0.5555555555555556,
              "#d8576b"
             ],
             [
              0.6666666666666666,
              "#ed7953"
             ],
             [
              0.7777777777777778,
              "#fb9f3a"
             ],
             [
              0.8888888888888888,
              "#fdca26"
             ],
             [
              1,
              "#f0f921"
             ]
            ],
            "type": "surface"
           }
          ],
          "table": [
           {
            "cells": {
             "fill": {
              "color": "#EBF0F8"
             },
             "line": {
              "color": "white"
             }
            },
            "header": {
             "fill": {
              "color": "#C8D4E3"
             },
             "line": {
              "color": "white"
             }
            },
            "type": "table"
           }
          ]
         },
         "layout": {
          "annotationdefaults": {
           "arrowcolor": "#2a3f5f",
           "arrowhead": 0,
           "arrowwidth": 1
          },
          "autotypenumbers": "strict",
          "coloraxis": {
           "colorbar": {
            "outlinewidth": 0,
            "ticks": ""
           }
          },
          "colorscale": {
           "diverging": [
            [
             0,
             "#8e0152"
            ],
            [
             0.1,
             "#c51b7d"
            ],
            [
             0.2,
             "#de77ae"
            ],
            [
             0.3,
             "#f1b6da"
            ],
            [
             0.4,
             "#fde0ef"
            ],
            [
             0.5,
             "#f7f7f7"
            ],
            [
             0.6,
             "#e6f5d0"
            ],
            [
             0.7,
             "#b8e186"
            ],
            [
             0.8,
             "#7fbc41"
            ],
            [
             0.9,
             "#4d9221"
            ],
            [
             1,
             "#276419"
            ]
           ],
           "sequential": [
            [
             0,
             "#0d0887"
            ],
            [
             0.1111111111111111,
             "#46039f"
            ],
            [
             0.2222222222222222,
             "#7201a8"
            ],
            [
             0.3333333333333333,
             "#9c179e"
            ],
            [
             0.4444444444444444,
             "#bd3786"
            ],
            [
             0.5555555555555556,
             "#d8576b"
            ],
            [
             0.6666666666666666,
             "#ed7953"
            ],
            [
             0.7777777777777778,
             "#fb9f3a"
            ],
            [
             0.8888888888888888,
             "#fdca26"
            ],
            [
             1,
             "#f0f921"
            ]
           ],
           "sequentialminus": [
            [
             0,
             "#0d0887"
            ],
            [
             0.1111111111111111,
             "#46039f"
            ],
            [
             0.2222222222222222,
             "#7201a8"
            ],
            [
             0.3333333333333333,
             "#9c179e"
            ],
            [
             0.4444444444444444,
             "#bd3786"
            ],
            [
             0.5555555555555556,
             "#d8576b"
            ],
            [
             0.6666666666666666,
             "#ed7953"
            ],
            [
             0.7777777777777778,
             "#fb9f3a"
            ],
            [
             0.8888888888888888,
             "#fdca26"
            ],
            [
             1,
             "#f0f921"
            ]
           ]
          },
          "colorway": [
           "#636efa",
           "#EF553B",
           "#00cc96",
           "#ab63fa",
           "#FFA15A",
           "#19d3f3",
           "#FF6692",
           "#B6E880",
           "#FF97FF",
           "#FECB52"
          ],
          "font": {
           "color": "#2a3f5f"
          },
          "geo": {
           "bgcolor": "white",
           "lakecolor": "white",
           "landcolor": "#E5ECF6",
           "showlakes": true,
           "showland": true,
           "subunitcolor": "white"
          },
          "hoverlabel": {
           "align": "left"
          },
          "hovermode": "closest",
          "mapbox": {
           "style": "light"
          },
          "paper_bgcolor": "white",
          "plot_bgcolor": "#E5ECF6",
          "polar": {
           "angularaxis": {
            "gridcolor": "white",
            "linecolor": "white",
            "ticks": ""
           },
           "bgcolor": "#E5ECF6",
           "radialaxis": {
            "gridcolor": "white",
            "linecolor": "white",
            "ticks": ""
           }
          },
          "scene": {
           "xaxis": {
            "backgroundcolor": "#E5ECF6",
            "gridcolor": "white",
            "gridwidth": 2,
            "linecolor": "white",
            "showbackground": true,
            "ticks": "",
            "zerolinecolor": "white"
           },
           "yaxis": {
            "backgroundcolor": "#E5ECF6",
            "gridcolor": "white",
            "gridwidth": 2,
            "linecolor": "white",
            "showbackground": true,
            "ticks": "",
            "zerolinecolor": "white"
           },
           "zaxis": {
            "backgroundcolor": "#E5ECF6",
            "gridcolor": "white",
            "gridwidth": 2,
            "linecolor": "white",
            "showbackground": true,
            "ticks": "",
            "zerolinecolor": "white"
           }
          },
          "shapedefaults": {
           "line": {
            "color": "#2a3f5f"
           }
          },
          "ternary": {
           "aaxis": {
            "gridcolor": "white",
            "linecolor": "white",
            "ticks": ""
           },
           "baxis": {
            "gridcolor": "white",
            "linecolor": "white",
            "ticks": ""
           },
           "bgcolor": "#E5ECF6",
           "caxis": {
            "gridcolor": "white",
            "linecolor": "white",
            "ticks": ""
           }
          },
          "title": {
           "x": 0.05
          },
          "xaxis": {
           "automargin": true,
           "gridcolor": "white",
           "linecolor": "white",
           "ticks": "",
           "title": {
            "standoff": 15
           },
           "zerolinecolor": "white",
           "zerolinewidth": 2
          },
          "yaxis": {
           "automargin": true,
           "gridcolor": "white",
           "linecolor": "white",
           "ticks": "",
           "title": {
            "standoff": 15
           },
           "zerolinecolor": "white",
           "zerolinewidth": 2
          }
         }
        },
        "xaxis": {
         "anchor": "y",
         "domain": [
          0,
          1
         ],
         "title": {
          "text": "pos_sec"
         }
        },
        "yaxis": {
         "anchor": "x",
         "domain": [
          0,
          1
         ],
         "title": {
          "text": "probability"
         }
        }
       }
      }
     },
     "metadata": {},
     "output_type": "display_data"
    }
   ],
   "source": [
    "fig = px.area(df_plotting, x=\"pos_sec\", y=\"probability\", color=\"emotion\")\n",
    "fig.show()"
   ]
  },
  {
   "cell_type": "code",
   "execution_count": 14,
   "metadata": {},
   "outputs": [],
   "source": [
    "df = df_plotting\n",
    "df['moving_avg'] = df['probability'].rolling(window=10, center=True).mean()"
   ]
  },
  {
   "cell_type": "code",
   "execution_count": 15,
   "metadata": {},
   "outputs": [
    {
     "data": {
      "application/vnd.plotly.v1+json": {
       "config": {
        "plotlyServerURL": "https://plot.ly"
       },
       "data": [
        {
         "fillpattern": {
          "shape": ""
         },
         "hovertemplate": "emotion=Angry<br>pos_sec=%{x}<br>moving_avg=%{y}<extra></extra>",
         "legendgroup": "Angry",
         "line": {
          "color": "#636efa"
         },
         "marker": {
          "symbol": "circle"
         },
         "mode": "lines",
         "name": "Angry",
         "orientation": "v",
         "showlegend": true,
         "stackgroup": "1",
         "type": "scatter",
         "x": [
          0,
          0.04,
          0.08,
          0.12,
          0.17,
          0.21,
          0.25,
          0.29,
          0.33,
          0.38,
          0.42,
          0.46,
          0.5,
          0.54,
          0.58,
          0.62,
          0.67,
          0.71,
          0.75,
          0.79,
          0.83,
          0.88,
          0.92,
          0.96,
          1,
          1.04,
          1.08,
          1.12,
          1.17,
          1.21,
          1.25,
          1.29,
          1.33,
          1.38,
          1.42,
          1.46,
          1.5,
          1.54,
          1.58,
          1.62,
          1.67,
          1.71,
          1.75,
          1.79,
          1.83,
          1.88,
          1.92,
          1.96,
          2,
          2.04,
          2.08,
          2.12,
          2.17,
          2.21,
          2.25,
          2.29,
          2.33,
          2.38,
          2.42,
          2.46,
          2.5,
          2.54,
          2.58,
          2.62,
          2.67,
          2.71,
          2.75,
          2.79,
          2.83,
          2.88,
          2.92,
          2.96,
          3,
          3.04,
          3.08,
          3.12,
          3.17,
          3.21,
          3.25,
          3.29,
          3.33,
          3.38,
          3.42,
          3.46,
          3.5,
          3.54,
          3.58,
          3.62,
          3.67,
          3.71,
          3.75,
          3.79,
          3.83,
          3.88,
          3.92,
          3.96,
          4,
          4.04,
          4.08,
          4.12,
          4.17
         ],
         "xaxis": "x",
         "y": [
          null,
          null,
          null,
          null,
          null,
          0.0024324012803845106,
          0.0024154797312803565,
          0.002493448636960238,
          0.0031391046708449722,
          0.0037187116337008773,
          0.0036690183100290597,
          0.0035047286772169174,
          0.0029798567586112766,
          0.0029315943422261624,
          0.002754750591702759,
          0.0026446415460668503,
          0.0026654400513507425,
          0.002450122672598809,
          0.0016950968973105773,
          0.00120379553118255,
          0.0010984712949721142,
          0.001359870468149893,
          0.0013385824975557625,
          0.001255607933853753,
          0.0012114744109567254,
          0.001116039982298389,
          0.0010290248901583254,
          0.0010506311082281172,
          0.0011482437170343474,
          0.0010129947244422511,
          0.0009730677789775655,
          0.0006354917160933838,
          0.0006674950709566474,
          0.0006974167976295575,
          0.0008692489936947823,
          0.001170736295171082,
          0.0013338569493498652,
          0.0013492174970451743,
          0.0012614794570254162,
          0.0012035517283948138,
          0.0011948595609283074,
          0.0011856989789521323,
          0.001139980132575147,
          0.001167035978869535,
          0.0010797025432111695,
          0.0008786013844655826,
          0.0008539087633835152,
          0.0012061016081133858,
          0.002033625222975388,
          0.0026312867703381926,
          0.003258972353069112,
          0.005038041021907702,
          0.006965623440919444,
          0.007981825328897685,
          0.008232329040765762,
          0.008320587291382252,
          0.008502702694386244,
          0.008478117361664771,
          0.007836915901862085,
          0.0076807373436167834,
          0.007279000990092754,
          0.006403180304914713,
          0.004765084572136402,
          0.003970340173691511,
          0.004107107943855226,
          0.004158337600529194,
          0.004100054502487183,
          0.004171861847862601,
          0.004136379552073776,
          0.0038162188022397457,
          0.003602526639588177,
          0.002807364135514945,
          0.0025755891983862966,
          0.0027279474248643964,
          0.002478324150433764,
          0.002504062041407451,
          0.0023574122053105382,
          0.002462572819786146,
          0.002367040159879252,
          0.0025024093280080705,
          0.003527366271009669,
          0.004646497621433809,
          0.008849700330756605,
          0.016113530448637902,
          0.028412481886334717,
          0.03231217779684812,
          0.056584035546984525,
          0.07458493587328122,
          0.1015047041233629,
          0.11670962385833264,
          0.137351768091321,
          0.14811882488429545,
          0.16298268511891364,
          0.17057856917381287,
          0.19032350182533264,
          0.2110145404934883,
          0.198884791880846,
          0.18027717743748325,
          0.15325931145375762,
          0.1377602199322155,
          0.11601432743877922
         ],
         "yaxis": "y"
        },
        {
         "fillpattern": {
          "shape": ""
         },
         "hovertemplate": "emotion=Disgust<br>pos_sec=%{x}<br>moving_avg=%{y}<extra></extra>",
         "legendgroup": "Disgust",
         "line": {
          "color": "#EF553B"
         },
         "marker": {
          "symbol": "circle"
         },
         "mode": "lines",
         "name": "Disgust",
         "orientation": "v",
         "showlegend": true,
         "stackgroup": "1",
         "type": "scatter",
         "x": [
          0,
          0.04,
          0.08,
          0.12,
          0.17,
          0.21,
          0.25,
          0.29,
          0.33,
          0.38,
          0.42,
          0.46,
          0.5,
          0.54,
          0.58,
          0.62,
          0.67,
          0.71,
          0.75,
          0.79,
          0.83,
          0.88,
          0.92,
          0.96,
          1,
          1.04,
          1.08,
          1.12,
          1.17,
          1.21,
          1.25,
          1.29,
          1.33,
          1.38,
          1.42,
          1.46,
          1.5,
          1.54,
          1.58,
          1.62,
          1.67,
          1.71,
          1.75,
          1.79,
          1.83,
          1.88,
          1.92,
          1.96,
          2,
          2.04,
          2.08,
          2.12,
          2.17,
          2.21,
          2.25,
          2.29,
          2.33,
          2.38,
          2.42,
          2.46,
          2.5,
          2.54,
          2.58,
          2.62,
          2.67,
          2.71,
          2.75,
          2.79,
          2.83,
          2.88,
          2.92,
          2.96,
          3,
          3.04,
          3.08,
          3.12,
          3.17,
          3.21,
          3.25,
          3.29,
          3.33,
          3.38,
          3.42,
          3.46,
          3.5,
          3.54,
          3.58,
          3.62,
          3.67,
          3.71,
          3.75,
          3.79,
          3.83,
          3.88,
          3.92,
          3.96,
          4,
          4.04,
          4.08,
          4.12,
          4.17
         ],
         "xaxis": "x",
         "y": [
          0.10396370875891989,
          0.08480873126959523,
          0.06949356803693263,
          0.03719697636197452,
          0.01230780792840278,
          0.0000057146090853166244,
          0.00000541840778396363,
          0.0000049772299121286775,
          0.000006649639965417009,
          0.000006807233069139329,
          0.00000788000317015758,
          0.000007641356990006899,
          0.000005654595440773846,
          0.000005870278221209446,
          0.000005738973455038376,
          0.000005571617678867824,
          0.000005556166637177284,
          0.00000509231619929551,
          0.000002838088950340989,
          0.000002675650604544444,
          0.0000014062154335192644,
          0.0000013007550890620222,
          0.000001194344923050039,
          8.88096986528808e-7,
          8.952108323967422e-7,
          8.899170786946797e-7,
          9.075013856829628e-7,
          9.649363740038552e-7,
          0.0000014692866308507746,
          0.0000014993708511212843,
          0.0000015639824290758498,
          0.0000012746714936895387,
          0.000001427507021389829,
          0.000001686795995681223,
          0.0000023308987323389373,
          0.0000034012726246146484,
          0.000003634237214100722,
          0.00000356015451075109,
          0.000003035145850560639,
          0.000002860656915970594,
          0.00000295209792255946,
          0.0000029175479099308177,
          0.000002794537566330746,
          0.0000025611912136014327,
          0.000001950417744467359,
          0.0000010891803086110485,
          0.0000031182213334091104,
          0.00002219581594573583,
          0.000028948321548227797,
          0.00003132170723745276,
          0.000036157880103360185,
          0.00007848486321790916,
          0.00009534956626850999,
          0.00010395511835099569,
          0.00010401929814634059,
          0.0001041726708990609,
          0.00010201156374023412,
          0.00008330686223416706,
          0.0000771151242133783,
          0.00007556256073257828,
          0.00007065115223667818,
          0.0000358277722625644,
          0.000019203486499463906,
          0.000010749419948297145,
          0.000011116353721263295,
          0.000011304113536425575,
          0.000011434102384555445,
          0.000011263355077062442,
          0.00001118976567795471,
          0.000011773495748457207,
          0.000012196351258353389,
          0.000006556202083629614,
          0.00000687807303165755,
          0.000014288545344243175,
          0.000017329596084891817,
          0.000017892723417389788,
          0.000018205622473033146,
          0.000022855814177091815,
          0.000022571641738977633,
          0.000022542144097315032,
          0.000025003972177728427,
          0.0000611425411534583,
          0.0004199951486953069,
          0.002753669776575407,
          0.006797774950246094,
          0.00827218561871632,
          0.013521995595101543,
          0.0180998530245688,
          0.02073324465090991,
          0.024180307985807302,
          0.024643269059015437,
          0.02495399615727365,
          0.024792922707274557,
          0.022696019825525583,
          0.020227080513723194,
          0.021357788261957465,
          0.01613162778521655,
          0.011742184734612238,
          0.00943232223362429,
          0.006209382535598706,
          0.005956230619631242
         ],
         "yaxis": "y"
        },
        {
         "fillpattern": {
          "shape": ""
         },
         "hovertemplate": "emotion=Fear<br>pos_sec=%{x}<br>moving_avg=%{y}<extra></extra>",
         "legendgroup": "Fear",
         "line": {
          "color": "#00cc96"
         },
         "marker": {
          "symbol": "circle"
         },
         "mode": "lines",
         "name": "Fear",
         "orientation": "v",
         "showlegend": true,
         "stackgroup": "1",
         "type": "scatter",
         "x": [
          0,
          0.04,
          0.08,
          0.12,
          0.17,
          0.21,
          0.25,
          0.29,
          0.33,
          0.38,
          0.42,
          0.46,
          0.5,
          0.54,
          0.58,
          0.62,
          0.67,
          0.71,
          0.75,
          0.79,
          0.83,
          0.88,
          0.92,
          0.96,
          1,
          1.04,
          1.08,
          1.12,
          1.17,
          1.21,
          1.25,
          1.29,
          1.33,
          1.38,
          1.42,
          1.46,
          1.5,
          1.54,
          1.58,
          1.62,
          1.67,
          1.71,
          1.75,
          1.79,
          1.83,
          1.88,
          1.92,
          1.96,
          2,
          2.04,
          2.08,
          2.12,
          2.17,
          2.21,
          2.25,
          2.29,
          2.33,
          2.38,
          2.42,
          2.46,
          2.5,
          2.54,
          2.58,
          2.62,
          2.67,
          2.71,
          2.75,
          2.79,
          2.83,
          2.88,
          2.92,
          2.96,
          3,
          3.04,
          3.08,
          3.12,
          3.17,
          3.21,
          3.25,
          3.29,
          3.33,
          3.38,
          3.42,
          3.46,
          3.5,
          3.54,
          3.58,
          3.62,
          3.67,
          3.71,
          3.75,
          3.79,
          3.83,
          3.88,
          3.92,
          3.96,
          4,
          4.04,
          4.08,
          4.12,
          4.17
         ],
         "xaxis": "x",
         "y": [
          0.006313120973936747,
          0.006621117405302357,
          0.007210503243550192,
          0.005908931214071345,
          0.004123356640047859,
          0.005374654161278159,
          0.00562433828599751,
          0.005856047268025577,
          0.006822982360608876,
          0.006995311146602035,
          0.00721997618675232,
          0.007103701308369637,
          0.006409993371926248,
          0.006846962962299585,
          0.0061889447388239205,
          0.005119018733967096,
          0.005430186924058944,
          0.005027026520110667,
          0.00391510312911123,
          0.003912875894457102,
          0.0030863792286254465,
          0.003143154375720769,
          0.0030832838907372206,
          0.0024430943944025786,
          0.0024355974572245033,
          0.0024660327995661645,
          0.0020228544308338314,
          0.002180814178427681,
          0.002378286322345957,
          0.0023148978769313546,
          0.002580158045748249,
          0.002312669943785295,
          0.00260778235970065,
          0.002989948797039688,
          0.0033266004058532415,
          0.003950377355795354,
          0.004257579881232232,
          0.004242463421542197,
          0.00411100888159126,
          0.0039483282249420885,
          0.00385636230930686,
          0.003846989048179239,
          0.0035587803344242276,
          0.0032410807558335363,
          0.0029924533679150044,
          0.002672386623453349,
          0.0026569209410808982,
          0.00802555332193151,
          0.013092861277982593,
          0.014379984652623534,
          0.015241017565131187,
          0.01985607969108969,
          0.02477093581110239,
          0.02647676959168166,
          0.02741925767622888,
          0.027560081658884884,
          0.02773205921985209,
          0.023227617098018526,
          0.018790988950058818,
          0.018446101760491728,
          0.018330190842971206,
          0.01641902602277696,
          0.012741536600515246,
          0.011522729881107807,
          0.011580753978341818,
          0.011891015758737921,
          0.011740206880494953,
          0.011275830399245023,
          0.010843304707668722,
          0.010007356642745435,
          0.009152193157933652,
          0.0064857856836169955,
          0.005565434508025646,
          0.005513134365901351,
          0.004623519629240036,
          0.0038101042620837687,
          0.0033135924371890725,
          0.003624101949390024,
          0.0034752479172311724,
          0.003653625340666622,
          0.004954265186097473,
          0.008232925611082464,
          0.019113552861381323,
          0.03925265345023945,
          0.05065082177752629,
          0.06363353567430749,
          0.08138234873767942,
          0.09341020889114589,
          0.10751561913639307,
          0.11817193049937487,
          0.12281634956598282,
          0.12727344036102295,
          0.12095559537410736,
          0.1049711361527443,
          0.11071740686893464,
          0.11177505552768707,
          0.09804733172059059,
          0.18422369435429573,
          0.26863105073571203,
          0.35619589388370515,
          0.4486486457288265
         ],
         "yaxis": "y"
        },
        {
         "fillpattern": {
          "shape": ""
         },
         "hovertemplate": "emotion=Happy<br>pos_sec=%{x}<br>moving_avg=%{y}<extra></extra>",
         "legendgroup": "Happy",
         "line": {
          "color": "#ab63fa"
         },
         "marker": {
          "symbol": "circle"
         },
         "mode": "lines",
         "name": "Happy",
         "orientation": "v",
         "showlegend": true,
         "stackgroup": "1",
         "type": "scatter",
         "x": [
          0,
          0.04,
          0.08,
          0.12,
          0.17,
          0.21,
          0.25,
          0.29,
          0.33,
          0.38,
          0.42,
          0.46,
          0.5,
          0.54,
          0.58,
          0.62,
          0.67,
          0.71,
          0.75,
          0.79,
          0.83,
          0.88,
          0.92,
          0.96,
          1,
          1.04,
          1.08,
          1.12,
          1.17,
          1.21,
          1.25,
          1.29,
          1.33,
          1.38,
          1.42,
          1.46,
          1.5,
          1.54,
          1.58,
          1.62,
          1.67,
          1.71,
          1.75,
          1.79,
          1.83,
          1.88,
          1.92,
          1.96,
          2,
          2.04,
          2.08,
          2.12,
          2.17,
          2.21,
          2.25,
          2.29,
          2.33,
          2.38,
          2.42,
          2.46,
          2.5,
          2.54,
          2.58,
          2.62,
          2.67,
          2.71,
          2.75,
          2.79,
          2.83,
          2.88,
          2.92,
          2.96,
          3,
          3.04,
          3.08,
          3.12,
          3.17,
          3.21,
          3.25,
          3.29,
          3.33,
          3.38,
          3.42,
          3.46,
          3.5,
          3.54,
          3.58,
          3.62,
          3.67,
          3.71,
          3.75,
          3.79,
          3.83,
          3.88,
          3.92,
          3.96,
          4,
          4.04,
          4.08,
          4.12,
          4.17
         ],
         "xaxis": "x",
         "y": [
          0.5382471874356269,
          0.6316668845713138,
          0.7235379092395305,
          0.8049257420003414,
          0.8873040147125721,
          0.9803985595703125,
          0.980228590965271,
          0.9795842409133911,
          0.9782311797142029,
          0.9773320555686951,
          0.9755955934524536,
          0.9760935664176941,
          0.9788855135440826,
          0.9786669194698334,
          0.9814900398254395,
          0.9835315644741058,
          0.9827055692672729,
          0.9840957283973694,
          0.9861926972866059,
          0.9874244391918182,
          0.991120970249176,
          0.9908601939678192,
          0.991043895483017,
          0.9920853674411774,
          0.9922744452953338,
          0.9925238966941834,
          0.9937214970588684,
          0.9934314787387848,
          0.9931884706020355,
          0.9934369027614594,
          0.9931316494941711,
          0.9939646005630494,
          0.9935767650604248,
          0.9929638564586639,
          0.9915546834468841,
          0.9868755638599396,
          0.982992148399353,
          0.9817268073558807,
          0.9814873337745667,
          0.9814518094062805,
          0.9805613398551941,
          0.9795131683349609,
          0.9794606447219849,
          0.978373122215271,
          0.9774615824222564,
          0.979544073343277,
          0.9803902208805084,
          0.9651354610919952,
          0.9526566684246063,
          0.9466707527637481,
          0.9433766901493073,
          0.93401979804039,
          0.924472451210022,
          0.9214672684669495,
          0.9195660293102265,
          0.9205224752426148,
          0.9206029891967773,
          0.934763377904892,
          0.9457886576652527,
          0.9491040170192718,
          0.9508734166622161,
          0.9546964824199676,
          0.9616332232952118,
          0.9647162973880767,
          0.9665220260620118,
          0.966036593914032,
          0.9676176846027374,
          0.9684739172458648,
          0.9695337533950805,
          0.9722264587879181,
          0.9749346256256104,
          0.9812329471111297,
          0.9832235515117645,
          0.9831593811511994,
          0.9845893919467926,
          0.9864083826541901,
          0.9875720858573913,
          0.9856091380119324,
          0.9863132953643798,
          0.9852884471416473,
          0.9806384086608887,
          0.9694362163543702,
          0.9285578668117523,
          0.8743920028209686,
          0.8304244220256806,
          0.7808833152055741,
          0.7179286241531372,
          0.6730203270912171,
          0.611718162894249,
          0.5609144777059555,
          0.5012919485569001,
          0.46847572922706604,
          0.4535507559776306,
          0.44275504946708677,
          0.41558721363544465,
          0.4135887324810028,
          0.43599591553211214,
          0.38525936654768883,
          0.34742912886431443,
          0.30018223282531836,
          0.26500436994829213
         ],
         "yaxis": "y"
        },
        {
         "fillpattern": {
          "shape": ""
         },
         "hovertemplate": "emotion=Sad<br>pos_sec=%{x}<br>moving_avg=%{y}<extra></extra>",
         "legendgroup": "Sad",
         "line": {
          "color": "#FFA15A"
         },
         "marker": {
          "symbol": "circle"
         },
         "mode": "lines",
         "name": "Sad",
         "orientation": "v",
         "showlegend": true,
         "stackgroup": "1",
         "type": "scatter",
         "x": [
          0,
          0.04,
          0.08,
          0.12,
          0.17,
          0.21,
          0.25,
          0.29,
          0.33,
          0.38,
          0.42,
          0.46,
          0.5,
          0.54,
          0.58,
          0.62,
          0.67,
          0.71,
          0.75,
          0.79,
          0.83,
          0.88,
          0.92,
          0.96,
          1,
          1.04,
          1.08,
          1.12,
          1.17,
          1.21,
          1.25,
          1.29,
          1.33,
          1.38,
          1.42,
          1.46,
          1.5,
          1.54,
          1.58,
          1.62,
          1.67,
          1.71,
          1.75,
          1.79,
          1.83,
          1.88,
          1.92,
          1.96,
          2,
          2.04,
          2.08,
          2.12,
          2.17,
          2.21,
          2.25,
          2.29,
          2.33,
          2.38,
          2.42,
          2.46,
          2.5,
          2.54,
          2.58,
          2.62,
          2.67,
          2.71,
          2.75,
          2.79,
          2.83,
          2.88,
          2.92,
          2.96,
          3,
          3.04,
          3.08,
          3.12,
          3.17,
          3.21,
          3.25,
          3.29,
          3.33,
          3.38,
          3.42,
          3.46,
          3.5,
          3.54,
          3.58,
          3.62,
          3.67,
          3.71,
          3.75,
          3.79,
          3.83,
          3.88,
          3.92,
          3.96,
          4,
          4.04,
          4.08,
          4.12,
          4.17
         ],
         "xaxis": "x",
         "y": [
          0.20994965151767248,
          0.1673690274648834,
          0.1346008682914544,
          0.10717010703519918,
          0.0595572987862397,
          0.0010259248141665013,
          0.0010017016902565956,
          0.0010091068921610712,
          0.0011081451491918414,
          0.0011153957835631444,
          0.0013777010986814275,
          0.0013338589604245498,
          0.0010708660149248317,
          0.001163260012981482,
          0.001102236405131407,
          0.001009336649440229,
          0.001078038616105914,
          0.0010101756284711882,
          0.0008787708124145865,
          0.0009955408197129146,
          0.0006791114545194432,
          0.0007025111204711721,
          0.0006902990440721624,
          0.0005565130079048686,
          0.0005634546265355312,
          0.0005641384093905799,
          0.0005157682331628166,
          0.0005881870645680464,
          0.0007007086867815814,
          0.0006683354600681924,
          0.0007299983568373136,
          0.0006604387788684107,
          0.0007305507955607027,
          0.0008249735052231699,
          0.0011868174187839031,
          0.00253133503429126,
          0.0032419009454315527,
          0.003287392979837023,
          0.0032108459941809996,
          0.0031741564016556367,
          0.0032773004815680904,
          0.0033093720267061144,
          0.00326930787996389,
          0.003262681682826951,
          0.003062420425703749,
          0.002014448115369305,
          0.0014826395025011152,
          0.0022987161588389426,
          0.0030461709655355664,
          0.0030585050291847436,
          0.0030376793176401405,
          0.004231282859109342,
          0.004858888231683523,
          0.005277540360111743,
          0.005287446908187121,
          0.0050828349660150705,
          0.00499342599650845,
          0.004287088301498443,
          0.003662560658995062,
          0.003871144587174058,
          0.003876077476888895,
          0.0036413505673408507,
          0.003332324791699648,
          0.002953378716483712,
          0.002914317382965237,
          0.0029895189800299704,
          0.0030121086281724276,
          0.0028694137698039414,
          0.0028647076222114267,
          0.0026299080171156676,
          0.0025058448314666747,
          0.00162301289383322,
          0.001610055030323565,
          0.0018767186673358082,
          0.0019713079556822775,
          0.0018608400074299424,
          0.001874649670207873,
          0.0027574208739679306,
          0.002698976261308417,
          0.002901451522484422,
          0.0033676463353913277,
          0.006462901545455679,
          0.02317921681678854,
          0.03962554428144358,
          0.049849858920788394,
          0.06346548749133944,
          0.07407057279488072,
          0.08208522604545579,
          0.09621240692213177,
          0.11261205500923097,
          0.14304186664521695,
          0.16044263690710067,
          0.17181350886821747,
          0.19807784855365754,
          0.20416341498494148,
          0.19725414142012596,
          0.20859492048621178,
          0.1995888632023707,
          0.18536734212830197,
          0.16871158514113632,
          0.1377865542366635
         ],
         "yaxis": "y"
        },
        {
         "fillpattern": {
          "shape": ""
         },
         "hovertemplate": "emotion=Surprise<br>pos_sec=%{x}<br>moving_avg=%{y}<extra></extra>",
         "legendgroup": "Surprise",
         "line": {
          "color": "#19d3f3"
         },
         "marker": {
          "symbol": "circle"
         },
         "mode": "lines",
         "name": "Surprise",
         "orientation": "v",
         "showlegend": true,
         "stackgroup": "1",
         "type": "scatter",
         "x": [
          0,
          0.04,
          0.08,
          0.12,
          0.17,
          0.21,
          0.25,
          0.29,
          0.33,
          0.38,
          0.42,
          0.46,
          0.5,
          0.54,
          0.58,
          0.62,
          0.67,
          0.71,
          0.75,
          0.79,
          0.83,
          0.88,
          0.92,
          0.96,
          1,
          1.04,
          1.08,
          1.12,
          1.17,
          1.21,
          1.25,
          1.29,
          1.33,
          1.38,
          1.42,
          1.46,
          1.5,
          1.54,
          1.58,
          1.62,
          1.67,
          1.71,
          1.75,
          1.79,
          1.83,
          1.88,
          1.92,
          1.96,
          2,
          2.04,
          2.08,
          2.12,
          2.17,
          2.21,
          2.25,
          2.29,
          2.33,
          2.38,
          2.42,
          2.46,
          2.5,
          2.54,
          2.58,
          2.62,
          2.67,
          2.71,
          2.75,
          2.79,
          2.83,
          2.88,
          2.92,
          2.96,
          3,
          3.04,
          3.08,
          3.12,
          3.17,
          3.21,
          3.25,
          3.29,
          3.33,
          3.38,
          3.42,
          3.46,
          3.5,
          3.54,
          3.58,
          3.62,
          3.67,
          3.71,
          3.75,
          3.79,
          3.83,
          3.88,
          3.92,
          3.96,
          4,
          4.04,
          4.08,
          4.12,
          4.17
         ],
         "xaxis": "x",
         "y": [
          0.11721983302268199,
          0.08881582274916582,
          0.045755757309962064,
          0.029273237707093357,
          0.022805060376413167,
          0.0007893423782661558,
          0.0008842614595778286,
          0.0008837782836053521,
          0.0009246484318282455,
          0.0009249689086573198,
          0.001002925229840912,
          0.0012608427932718769,
          0.0013107342267176137,
          0.0013601796788861975,
          0.001114398569916375,
          0.0011572419927688316,
          0.001314101173193194,
          0.001362686016364023,
          0.001411412184825167,
          0.0014019434136571362,
          0.0012609394805622287,
          0.0010409287831862457,
          0.001025601640867535,
          0.0009744807859533467,
          0.0009775817408808507,
          0.0009002542603411712,
          0.0006965284715988673,
          0.000672694832610432,
          0.0006036777616827748,
          0.0006073003300116397,
          0.0006449604028603062,
          0.0006423265876946971,
          0.0006778452108846978,
          0.000707474458613433,
          0.0007944895973196253,
          0.0008428111294051632,
          0.0008844864525599406,
          0.0009042361431056634,
          0.0008939302642829716,
          0.0008921013330109417,
          0.0009005453146528452,
          0.0008904820948373527,
          0.0008022961323149502,
          0.0008165390463545918,
          0.0008664466557092964,
          0.00090077641652897,
          0.0010495626367628575,
          0.0023101494763977824,
          0.0033549615705851465,
          0.003904791548848152,
          0.00399117858032696,
          0.004132839472731575,
          0.004346628161147237,
          0.00445740477880463,
          0.004578958766069263,
          0.0047128329402767125,
          0.0047336382674984636,
          0.0036927654524333774,
          0.0031826755148358643,
          0.0029256017762236295,
          0.0030144146177917717,
          0.003558544465340674,
          0.003745486098341644,
          0.0036934743518941106,
          0.003729366895277053,
          0.0036344115738756954,
          0.003440742916427553,
          0.0032664014608599244,
          0.002710713288979605,
          0.002395830192108406,
          0.0021649300386343386,
          0.0014313499315903755,
          0.0010278016259690048,
          0.0009067074210179271,
          0.0005731105531594949,
          0.00040282628069689965,
          0.00034321769235248214,
          0.0003115616480499739,
          0.00030779688568145503,
          0.0003154073503537802,
          0.000378880780772306,
          0.0004709766901214607,
          0.0009300326593802311,
          0.0024990072604850868,
          0.0038115668794489466,
          0.005918279610341415,
          0.008296769732260146,
          0.009153831910225563,
          0.011144001210050191,
          0.013353467115666717,
          0.014990619139280171,
          0.01632046848535538,
          0.018114806152880192,
          0.017514696158468724,
          0.018081082496792078,
          0.01821178188547492,
          0.017059918027371168,
          0.016516593331471086,
          0.015149547485634685,
          0.013804377568885685,
          0.013097102427855134
         ],
         "yaxis": "y"
        },
        {
         "fillpattern": {
          "shape": ""
         },
         "hovertemplate": "emotion=Neutral<br>pos_sec=%{x}<br>moving_avg=%{y}<extra></extra>",
         "legendgroup": "Neutral",
         "line": {
          "color": "#FF6692"
         },
         "marker": {
          "symbol": "circle"
         },
         "mode": "lines",
         "name": "Neutral",
         "orientation": "v",
         "showlegend": true,
         "stackgroup": "1",
         "type": "scatter",
         "x": [
          0,
          0.04,
          0.08,
          0.12,
          0.17,
          0.21,
          0.25,
          0.29,
          0.33,
          0.38,
          0.42,
          0.46,
          0.5,
          0.54,
          0.58,
          0.62,
          0.67,
          0.71,
          0.75,
          0.79,
          0.83,
          0.88,
          0.92,
          0.96,
          1,
          1.04,
          1.08,
          1.12,
          1.17,
          1.21,
          1.25,
          1.29,
          1.33,
          1.38,
          1.42,
          1.46,
          1.5,
          1.54,
          1.58,
          1.62,
          1.67,
          1.71,
          1.75,
          1.79,
          1.83,
          1.88,
          1.92,
          1.96,
          2,
          2.04,
          2.08,
          2.12,
          2.17,
          2.21,
          2.25,
          2.29,
          2.33,
          2.38,
          2.42,
          2.46,
          2.5,
          2.54,
          2.58,
          2.62,
          2.67,
          2.71,
          2.75,
          2.79,
          2.83,
          2.88,
          2.92,
          2.96,
          3,
          3.04,
          3.08,
          3.12,
          3.17,
          3.21,
          3.25,
          3.29,
          3.33,
          3.38,
          3.42,
          3.46,
          3.5,
          3.54,
          3.58,
          3.62,
          3.67,
          3.71,
          3.75,
          3.79,
          3.83,
          3.88,
          3.92,
          3.96,
          4,
          4.04,
          4.08,
          4.12,
          4.17
         ],
         "xaxis": "x",
         "y": [
          0.01296572214923799,
          0.011307497555390001,
          0.011906014429405332,
          0.010533110098913312,
          0.010207082750275731,
          0.009973385045304895,
          0.009840194997377694,
          0.010168393258936703,
          0.009767290414310991,
          0.009906740696169435,
          0.011126897134818136,
          0.010695666330866516,
          0.009337392472662031,
          0.009025231609120965,
          0.0073438990395516155,
          0.006532636168412864,
          0.006801117397844792,
          0.006049181986600161,
          0.005904089496470988,
          0.005058735120110213,
          0.002752736606635153,
          0.002892046212218702,
          0.002817141660489142,
          0.0026840533246286213,
          0.002536572574172169,
          0.002428757131565362,
          0.002013421640731394,
          0.00207522923592478,
          0.0019791464321315287,
          0.001958077331073582,
          0.0019386058440431953,
          0.001783204695675522,
          0.0017381405807100237,
          0.0018146416055969893,
          0.0022658165893517435,
          0.004625763243529946,
          0.0072863871231675145,
          0.00848632724955678,
          0.009032357204705476,
          0.00932718685362488,
          0.01020661958027631,
          0.011251353041734547,
          0.011766168067697435,
          0.013136951625347138,
          0.014535423647612334,
          0.01398861212655902,
          0.013563615176826716,
          0.021001800335943697,
          0.025786753091961146,
          0.029323351010680197,
          0.03105830540880561,
          0.032643474731594325,
          0.034490136336535214,
          0.0342352538369596,
          0.03481196900829673,
          0.03369702631607652,
          0.03333318205550313,
          0.025467736180871725,
          0.02066109753213823,
          0.01789683601818979,
          0.016556261712685226,
          0.015245602233335376,
          0.013763152668252588,
          0.013133031874895095,
          0.01113530839793384,
          0.011278822226449848,
          0.010077768797054886,
          0.009931307146325707,
          0.009899939829483628,
          0.008912456315010786,
          0.007627668709028512,
          0.006412970519158989,
          0.005990666022989899,
          0.005801807960961014,
          0.005747020023409277,
          0.004995889810379595,
          0.004520845890510827,
          0.005212368362117558,
          0.0048151092953048645,
          0.005316132947336882,
          0.007108448795042932,
          0.010689356294460595,
          0.018949661427177487,
          0.02536362668033689,
          0.030053103086538614,
          0.04551504836417734,
          0.04821568119805306,
          0.04964564393740147,
          0.051171877328306435,
          0.05405816882848739,
          0.055864212475717066,
          0.05441493485122919,
          0.0477897547185421,
          0.04340670108795166,
          0.04090031962841749,
          0.02679797597229481,
          0.02528550885617733,
          null,
          null,
          null,
          null
         ],
         "yaxis": "y"
        }
       ],
       "layout": {
        "legend": {
         "title": {
          "text": "emotion"
         },
         "tracegroupgap": 0
        },
        "margin": {
         "t": 60
        },
        "template": {
         "data": {
          "bar": [
           {
            "error_x": {
             "color": "#2a3f5f"
            },
            "error_y": {
             "color": "#2a3f5f"
            },
            "marker": {
             "line": {
              "color": "#E5ECF6",
              "width": 0.5
             },
             "pattern": {
              "fillmode": "overlay",
              "size": 10,
              "solidity": 0.2
             }
            },
            "type": "bar"
           }
          ],
          "barpolar": [
           {
            "marker": {
             "line": {
              "color": "#E5ECF6",
              "width": 0.5
             },
             "pattern": {
              "fillmode": "overlay",
              "size": 10,
              "solidity": 0.2
             }
            },
            "type": "barpolar"
           }
          ],
          "carpet": [
           {
            "aaxis": {
             "endlinecolor": "#2a3f5f",
             "gridcolor": "white",
             "linecolor": "white",
             "minorgridcolor": "white",
             "startlinecolor": "#2a3f5f"
            },
            "baxis": {
             "endlinecolor": "#2a3f5f",
             "gridcolor": "white",
             "linecolor": "white",
             "minorgridcolor": "white",
             "startlinecolor": "#2a3f5f"
            },
            "type": "carpet"
           }
          ],
          "choropleth": [
           {
            "colorbar": {
             "outlinewidth": 0,
             "ticks": ""
            },
            "type": "choropleth"
           }
          ],
          "contour": [
           {
            "colorbar": {
             "outlinewidth": 0,
             "ticks": ""
            },
            "colorscale": [
             [
              0,
              "#0d0887"
             ],
             [
              0.1111111111111111,
              "#46039f"
             ],
             [
              0.2222222222222222,
              "#7201a8"
             ],
             [
              0.3333333333333333,
              "#9c179e"
             ],
             [
              0.4444444444444444,
              "#bd3786"
             ],
             [
              0.5555555555555556,
              "#d8576b"
             ],
             [
              0.6666666666666666,
              "#ed7953"
             ],
             [
              0.7777777777777778,
              "#fb9f3a"
             ],
             [
              0.8888888888888888,
              "#fdca26"
             ],
             [
              1,
              "#f0f921"
             ]
            ],
            "type": "contour"
           }
          ],
          "contourcarpet": [
           {
            "colorbar": {
             "outlinewidth": 0,
             "ticks": ""
            },
            "type": "contourcarpet"
           }
          ],
          "heatmap": [
           {
            "colorbar": {
             "outlinewidth": 0,
             "ticks": ""
            },
            "colorscale": [
             [
              0,
              "#0d0887"
             ],
             [
              0.1111111111111111,
              "#46039f"
             ],
             [
              0.2222222222222222,
              "#7201a8"
             ],
             [
              0.3333333333333333,
              "#9c179e"
             ],
             [
              0.4444444444444444,
              "#bd3786"
             ],
             [
              0.5555555555555556,
              "#d8576b"
             ],
             [
              0.6666666666666666,
              "#ed7953"
             ],
             [
              0.7777777777777778,
              "#fb9f3a"
             ],
             [
              0.8888888888888888,
              "#fdca26"
             ],
             [
              1,
              "#f0f921"
             ]
            ],
            "type": "heatmap"
           }
          ],
          "heatmapgl": [
           {
            "colorbar": {
             "outlinewidth": 0,
             "ticks": ""
            },
            "colorscale": [
             [
              0,
              "#0d0887"
             ],
             [
              0.1111111111111111,
              "#46039f"
             ],
             [
              0.2222222222222222,
              "#7201a8"
             ],
             [
              0.3333333333333333,
              "#9c179e"
             ],
             [
              0.4444444444444444,
              "#bd3786"
             ],
             [
              0.5555555555555556,
              "#d8576b"
             ],
             [
              0.6666666666666666,
              "#ed7953"
             ],
             [
              0.7777777777777778,
              "#fb9f3a"
             ],
             [
              0.8888888888888888,
              "#fdca26"
             ],
             [
              1,
              "#f0f921"
             ]
            ],
            "type": "heatmapgl"
           }
          ],
          "histogram": [
           {
            "marker": {
             "pattern": {
              "fillmode": "overlay",
              "size": 10,
              "solidity": 0.2
             }
            },
            "type": "histogram"
           }
          ],
          "histogram2d": [
           {
            "colorbar": {
             "outlinewidth": 0,
             "ticks": ""
            },
            "colorscale": [
             [
              0,
              "#0d0887"
             ],
             [
              0.1111111111111111,
              "#46039f"
             ],
             [
              0.2222222222222222,
              "#7201a8"
             ],
             [
              0.3333333333333333,
              "#9c179e"
             ],
             [
              0.4444444444444444,
              "#bd3786"
             ],
             [
              0.5555555555555556,
              "#d8576b"
             ],
             [
              0.6666666666666666,
              "#ed7953"
             ],
             [
              0.7777777777777778,
              "#fb9f3a"
             ],
             [
              0.8888888888888888,
              "#fdca26"
             ],
             [
              1,
              "#f0f921"
             ]
            ],
            "type": "histogram2d"
           }
          ],
          "histogram2dcontour": [
           {
            "colorbar": {
             "outlinewidth": 0,
             "ticks": ""
            },
            "colorscale": [
             [
              0,
              "#0d0887"
             ],
             [
              0.1111111111111111,
              "#46039f"
             ],
             [
              0.2222222222222222,
              "#7201a8"
             ],
             [
              0.3333333333333333,
              "#9c179e"
             ],
             [
              0.4444444444444444,
              "#bd3786"
             ],
             [
              0.5555555555555556,
              "#d8576b"
             ],
             [
              0.6666666666666666,
              "#ed7953"
             ],
             [
              0.7777777777777778,
              "#fb9f3a"
             ],
             [
              0.8888888888888888,
              "#fdca26"
             ],
             [
              1,
              "#f0f921"
             ]
            ],
            "type": "histogram2dcontour"
           }
          ],
          "mesh3d": [
           {
            "colorbar": {
             "outlinewidth": 0,
             "ticks": ""
            },
            "type": "mesh3d"
           }
          ],
          "parcoords": [
           {
            "line": {
             "colorbar": {
              "outlinewidth": 0,
              "ticks": ""
             }
            },
            "type": "parcoords"
           }
          ],
          "pie": [
           {
            "automargin": true,
            "type": "pie"
           }
          ],
          "scatter": [
           {
            "fillpattern": {
             "fillmode": "overlay",
             "size": 10,
             "solidity": 0.2
            },
            "type": "scatter"
           }
          ],
          "scatter3d": [
           {
            "line": {
             "colorbar": {
              "outlinewidth": 0,
              "ticks": ""
             }
            },
            "marker": {
             "colorbar": {
              "outlinewidth": 0,
              "ticks": ""
             }
            },
            "type": "scatter3d"
           }
          ],
          "scattercarpet": [
           {
            "marker": {
             "colorbar": {
              "outlinewidth": 0,
              "ticks": ""
             }
            },
            "type": "scattercarpet"
           }
          ],
          "scattergeo": [
           {
            "marker": {
             "colorbar": {
              "outlinewidth": 0,
              "ticks": ""
             }
            },
            "type": "scattergeo"
           }
          ],
          "scattergl": [
           {
            "marker": {
             "colorbar": {
              "outlinewidth": 0,
              "ticks": ""
             }
            },
            "type": "scattergl"
           }
          ],
          "scattermapbox": [
           {
            "marker": {
             "colorbar": {
              "outlinewidth": 0,
              "ticks": ""
             }
            },
            "type": "scattermapbox"
           }
          ],
          "scatterpolar": [
           {
            "marker": {
             "colorbar": {
              "outlinewidth": 0,
              "ticks": ""
             }
            },
            "type": "scatterpolar"
           }
          ],
          "scatterpolargl": [
           {
            "marker": {
             "colorbar": {
              "outlinewidth": 0,
              "ticks": ""
             }
            },
            "type": "scatterpolargl"
           }
          ],
          "scatterternary": [
           {
            "marker": {
             "colorbar": {
              "outlinewidth": 0,
              "ticks": ""
             }
            },
            "type": "scatterternary"
           }
          ],
          "surface": [
           {
            "colorbar": {
             "outlinewidth": 0,
             "ticks": ""
            },
            "colorscale": [
             [
              0,
              "#0d0887"
             ],
             [
              0.1111111111111111,
              "#46039f"
             ],
             [
              0.2222222222222222,
              "#7201a8"
             ],
             [
              0.3333333333333333,
              "#9c179e"
             ],
             [
              0.4444444444444444,
              "#bd3786"
             ],
             [
              0.5555555555555556,
              "#d8576b"
             ],
             [
              0.6666666666666666,
              "#ed7953"
             ],
             [
              0.7777777777777778,
              "#fb9f3a"
             ],
             [
              0.8888888888888888,
              "#fdca26"
             ],
             [
              1,
              "#f0f921"
             ]
            ],
            "type": "surface"
           }
          ],
          "table": [
           {
            "cells": {
             "fill": {
              "color": "#EBF0F8"
             },
             "line": {
              "color": "white"
             }
            },
            "header": {
             "fill": {
              "color": "#C8D4E3"
             },
             "line": {
              "color": "white"
             }
            },
            "type": "table"
           }
          ]
         },
         "layout": {
          "annotationdefaults": {
           "arrowcolor": "#2a3f5f",
           "arrowhead": 0,
           "arrowwidth": 1
          },
          "autotypenumbers": "strict",
          "coloraxis": {
           "colorbar": {
            "outlinewidth": 0,
            "ticks": ""
           }
          },
          "colorscale": {
           "diverging": [
            [
             0,
             "#8e0152"
            ],
            [
             0.1,
             "#c51b7d"
            ],
            [
             0.2,
             "#de77ae"
            ],
            [
             0.3,
             "#f1b6da"
            ],
            [
             0.4,
             "#fde0ef"
            ],
            [
             0.5,
             "#f7f7f7"
            ],
            [
             0.6,
             "#e6f5d0"
            ],
            [
             0.7,
             "#b8e186"
            ],
            [
             0.8,
             "#7fbc41"
            ],
            [
             0.9,
             "#4d9221"
            ],
            [
             1,
             "#276419"
            ]
           ],
           "sequential": [
            [
             0,
             "#0d0887"
            ],
            [
             0.1111111111111111,
             "#46039f"
            ],
            [
             0.2222222222222222,
             "#7201a8"
            ],
            [
             0.3333333333333333,
             "#9c179e"
            ],
            [
             0.4444444444444444,
             "#bd3786"
            ],
            [
             0.5555555555555556,
             "#d8576b"
            ],
            [
             0.6666666666666666,
             "#ed7953"
            ],
            [
             0.7777777777777778,
             "#fb9f3a"
            ],
            [
             0.8888888888888888,
             "#fdca26"
            ],
            [
             1,
             "#f0f921"
            ]
           ],
           "sequentialminus": [
            [
             0,
             "#0d0887"
            ],
            [
             0.1111111111111111,
             "#46039f"
            ],
            [
             0.2222222222222222,
             "#7201a8"
            ],
            [
             0.3333333333333333,
             "#9c179e"
            ],
            [
             0.4444444444444444,
             "#bd3786"
            ],
            [
             0.5555555555555556,
             "#d8576b"
            ],
            [
             0.6666666666666666,
             "#ed7953"
            ],
            [
             0.7777777777777778,
             "#fb9f3a"
            ],
            [
             0.8888888888888888,
             "#fdca26"
            ],
            [
             1,
             "#f0f921"
            ]
           ]
          },
          "colorway": [
           "#636efa",
           "#EF553B",
           "#00cc96",
           "#ab63fa",
           "#FFA15A",
           "#19d3f3",
           "#FF6692",
           "#B6E880",
           "#FF97FF",
           "#FECB52"
          ],
          "font": {
           "color": "#2a3f5f"
          },
          "geo": {
           "bgcolor": "white",
           "lakecolor": "white",
           "landcolor": "#E5ECF6",
           "showlakes": true,
           "showland": true,
           "subunitcolor": "white"
          },
          "hoverlabel": {
           "align": "left"
          },
          "hovermode": "closest",
          "mapbox": {
           "style": "light"
          },
          "paper_bgcolor": "white",
          "plot_bgcolor": "#E5ECF6",
          "polar": {
           "angularaxis": {
            "gridcolor": "white",
            "linecolor": "white",
            "ticks": ""
           },
           "bgcolor": "#E5ECF6",
           "radialaxis": {
            "gridcolor": "white",
            "linecolor": "white",
            "ticks": ""
           }
          },
          "scene": {
           "xaxis": {
            "backgroundcolor": "#E5ECF6",
            "gridcolor": "white",
            "gridwidth": 2,
            "linecolor": "white",
            "showbackground": true,
            "ticks": "",
            "zerolinecolor": "white"
           },
           "yaxis": {
            "backgroundcolor": "#E5ECF6",
            "gridcolor": "white",
            "gridwidth": 2,
            "linecolor": "white",
            "showbackground": true,
            "ticks": "",
            "zerolinecolor": "white"
           },
           "zaxis": {
            "backgroundcolor": "#E5ECF6",
            "gridcolor": "white",
            "gridwidth": 2,
            "linecolor": "white",
            "showbackground": true,
            "ticks": "",
            "zerolinecolor": "white"
           }
          },
          "shapedefaults": {
           "line": {
            "color": "#2a3f5f"
           }
          },
          "ternary": {
           "aaxis": {
            "gridcolor": "white",
            "linecolor": "white",
            "ticks": ""
           },
           "baxis": {
            "gridcolor": "white",
            "linecolor": "white",
            "ticks": ""
           },
           "bgcolor": "#E5ECF6",
           "caxis": {
            "gridcolor": "white",
            "linecolor": "white",
            "ticks": ""
           }
          },
          "title": {
           "x": 0.05
          },
          "xaxis": {
           "automargin": true,
           "gridcolor": "white",
           "linecolor": "white",
           "ticks": "",
           "title": {
            "standoff": 15
           },
           "zerolinecolor": "white",
           "zerolinewidth": 2
          },
          "yaxis": {
           "automargin": true,
           "gridcolor": "white",
           "linecolor": "white",
           "ticks": "",
           "title": {
            "standoff": 15
           },
           "zerolinecolor": "white",
           "zerolinewidth": 2
          }
         }
        },
        "xaxis": {
         "anchor": "y",
         "domain": [
          0,
          1
         ],
         "title": {
          "text": "pos_sec"
         }
        },
        "yaxis": {
         "anchor": "x",
         "domain": [
          0,
          1
         ],
         "title": {
          "text": "moving_avg"
         }
        }
       }
      }
     },
     "metadata": {},
     "output_type": "display_data"
    }
   ],
   "source": [
    "fig = px.area(df, x=\"pos_sec\", y=\"moving_avg\", color=\"emotion\")\n",
    "fig.show()"
   ]
  },
  {
   "attachments": {},
   "cell_type": "markdown",
   "metadata": {},
   "source": [
    "# I Adjusted plots until here\n",
    "\n",
    "### Still Open\n",
    "* Periods with no people are by now interlinked - so we have straight in the original data and valleys forming in the rolling mean.\n",
    "* Tha Barcharts show quite well when multiple people com into play - but by now, their values are summed up. If we can get Character Recognition to work, that will be great - if not, at least we can try to reduce it down to one person per frame, but there's no guarantee that we always get the same person.\n",
    "* With objects and classes we could structure the code even better\n",
    "* I have the feeling from my videos that the performance is not super good right - maybe we achieve to get better results somehow.\n",
    "* Much faster on youtube video data looking at Video_seconds analyzed per processing second.\n",
    "\n",
    "#### After Dinner the youtube integration stopped working, I can't see why!"
   ]
  },
  {
   "cell_type": "markdown",
   "metadata": {},
   "source": []
  },
  {
   "cell_type": "code",
   "execution_count": null,
   "metadata": {},
   "outputs": [],
   "source": []
  },
  {
   "cell_type": "code",
   "execution_count": 16,
   "metadata": {},
   "outputs": [
    {
     "ename": "ValueError",
     "evalue": "Could not interpret value `Frame` for parameter `x`",
     "output_type": "error",
     "traceback": [
      "\u001b[0;31m---------------------------------------------------------------------------\u001b[0m",
      "\u001b[0;31mValueError\u001b[0m                                Traceback (most recent call last)",
      "Cell \u001b[0;32mIn[16], line 1\u001b[0m\n\u001b[0;32m----> 1\u001b[0m sns\u001b[39m.\u001b[39;49mlineplot(data \u001b[39m=\u001b[39;49m df_plotting, x \u001b[39m=\u001b[39;49m \u001b[39m'\u001b[39;49m\u001b[39mFrame\u001b[39;49m\u001b[39m'\u001b[39;49m, y\u001b[39m=\u001b[39;49m\u001b[39m'\u001b[39;49m\u001b[39mmoving_avg\u001b[39;49m\u001b[39m'\u001b[39;49m, hue \u001b[39m=\u001b[39;49m \u001b[39m'\u001b[39;49m\u001b[39mfeeling\u001b[39;49m\u001b[39m'\u001b[39;49m)\n",
      "File \u001b[0;32m~/Neue_Fische/NeuralXpresso/.venv/lib/python3.9/site-packages/seaborn/relational.py:618\u001b[0m, in \u001b[0;36mlineplot\u001b[0;34m(data, x, y, hue, size, style, units, palette, hue_order, hue_norm, sizes, size_order, size_norm, dashes, markers, style_order, estimator, errorbar, n_boot, seed, orient, sort, err_style, err_kws, legend, ci, ax, **kwargs)\u001b[0m\n\u001b[1;32m    615\u001b[0m errorbar \u001b[39m=\u001b[39m _deprecate_ci(errorbar, ci)\n\u001b[1;32m    617\u001b[0m variables \u001b[39m=\u001b[39m _LinePlotter\u001b[39m.\u001b[39mget_semantics(\u001b[39mlocals\u001b[39m())\n\u001b[0;32m--> 618\u001b[0m p \u001b[39m=\u001b[39m _LinePlotter(\n\u001b[1;32m    619\u001b[0m     data\u001b[39m=\u001b[39;49mdata, variables\u001b[39m=\u001b[39;49mvariables,\n\u001b[1;32m    620\u001b[0m     estimator\u001b[39m=\u001b[39;49mestimator, n_boot\u001b[39m=\u001b[39;49mn_boot, seed\u001b[39m=\u001b[39;49mseed, errorbar\u001b[39m=\u001b[39;49merrorbar,\n\u001b[1;32m    621\u001b[0m     sort\u001b[39m=\u001b[39;49msort, orient\u001b[39m=\u001b[39;49morient, err_style\u001b[39m=\u001b[39;49merr_style, err_kws\u001b[39m=\u001b[39;49merr_kws,\n\u001b[1;32m    622\u001b[0m     legend\u001b[39m=\u001b[39;49mlegend,\n\u001b[1;32m    623\u001b[0m )\n\u001b[1;32m    625\u001b[0m p\u001b[39m.\u001b[39mmap_hue(palette\u001b[39m=\u001b[39mpalette, order\u001b[39m=\u001b[39mhue_order, norm\u001b[39m=\u001b[39mhue_norm)\n\u001b[1;32m    626\u001b[0m p\u001b[39m.\u001b[39mmap_size(sizes\u001b[39m=\u001b[39msizes, order\u001b[39m=\u001b[39msize_order, norm\u001b[39m=\u001b[39msize_norm)\n",
      "File \u001b[0;32m~/Neue_Fische/NeuralXpresso/.venv/lib/python3.9/site-packages/seaborn/relational.py:365\u001b[0m, in \u001b[0;36m_LinePlotter.__init__\u001b[0;34m(self, data, variables, estimator, n_boot, seed, errorbar, sort, orient, err_style, err_kws, legend)\u001b[0m\n\u001b[1;32m    351\u001b[0m \u001b[39mdef\u001b[39;00m \u001b[39m__init__\u001b[39m(\n\u001b[1;32m    352\u001b[0m     \u001b[39mself\u001b[39m, \u001b[39m*\u001b[39m,\n\u001b[1;32m    353\u001b[0m     data\u001b[39m=\u001b[39m\u001b[39mNone\u001b[39;00m, variables\u001b[39m=\u001b[39m{},\n\u001b[0;32m   (...)\u001b[0m\n\u001b[1;32m    359\u001b[0m     \u001b[39m# the kind of plot to draw, but for the time being we need to set\u001b[39;00m\n\u001b[1;32m    360\u001b[0m     \u001b[39m# this information so the SizeMapping can use it\u001b[39;00m\n\u001b[1;32m    361\u001b[0m     \u001b[39mself\u001b[39m\u001b[39m.\u001b[39m_default_size_range \u001b[39m=\u001b[39m (\n\u001b[1;32m    362\u001b[0m         np\u001b[39m.\u001b[39mr_[\u001b[39m.5\u001b[39m, \u001b[39m2\u001b[39m] \u001b[39m*\u001b[39m mpl\u001b[39m.\u001b[39mrcParams[\u001b[39m\"\u001b[39m\u001b[39mlines.linewidth\u001b[39m\u001b[39m\"\u001b[39m]\n\u001b[1;32m    363\u001b[0m     )\n\u001b[0;32m--> 365\u001b[0m     \u001b[39msuper\u001b[39;49m()\u001b[39m.\u001b[39;49m\u001b[39m__init__\u001b[39;49m(data\u001b[39m=\u001b[39;49mdata, variables\u001b[39m=\u001b[39;49mvariables)\n\u001b[1;32m    367\u001b[0m     \u001b[39mself\u001b[39m\u001b[39m.\u001b[39mestimator \u001b[39m=\u001b[39m estimator\n\u001b[1;32m    368\u001b[0m     \u001b[39mself\u001b[39m\u001b[39m.\u001b[39merrorbar \u001b[39m=\u001b[39m errorbar\n",
      "File \u001b[0;32m~/Neue_Fische/NeuralXpresso/.venv/lib/python3.9/site-packages/seaborn/_oldcore.py:640\u001b[0m, in \u001b[0;36mVectorPlotter.__init__\u001b[0;34m(self, data, variables)\u001b[0m\n\u001b[1;32m    635\u001b[0m \u001b[39m# var_ordered is relevant only for categorical axis variables, and may\u001b[39;00m\n\u001b[1;32m    636\u001b[0m \u001b[39m# be better handled by an internal axis information object that tracks\u001b[39;00m\n\u001b[1;32m    637\u001b[0m \u001b[39m# such information and is set up by the scale_* methods. The analogous\u001b[39;00m\n\u001b[1;32m    638\u001b[0m \u001b[39m# information for numeric axes would be information about log scales.\u001b[39;00m\n\u001b[1;32m    639\u001b[0m \u001b[39mself\u001b[39m\u001b[39m.\u001b[39m_var_ordered \u001b[39m=\u001b[39m {\u001b[39m\"\u001b[39m\u001b[39mx\u001b[39m\u001b[39m\"\u001b[39m: \u001b[39mFalse\u001b[39;00m, \u001b[39m\"\u001b[39m\u001b[39my\u001b[39m\u001b[39m\"\u001b[39m: \u001b[39mFalse\u001b[39;00m}  \u001b[39m# alt., used DefaultDict\u001b[39;00m\n\u001b[0;32m--> 640\u001b[0m \u001b[39mself\u001b[39;49m\u001b[39m.\u001b[39;49massign_variables(data, variables)\n\u001b[1;32m    642\u001b[0m \u001b[39mfor\u001b[39;00m var, \u001b[39mcls\u001b[39m \u001b[39min\u001b[39;00m \u001b[39mself\u001b[39m\u001b[39m.\u001b[39m_semantic_mappings\u001b[39m.\u001b[39mitems():\n\u001b[1;32m    643\u001b[0m \n\u001b[1;32m    644\u001b[0m     \u001b[39m# Create the mapping function\u001b[39;00m\n\u001b[1;32m    645\u001b[0m     map_func \u001b[39m=\u001b[39m partial(\u001b[39mcls\u001b[39m\u001b[39m.\u001b[39mmap, plotter\u001b[39m=\u001b[39m\u001b[39mself\u001b[39m)\n",
      "File \u001b[0;32m~/Neue_Fische/NeuralXpresso/.venv/lib/python3.9/site-packages/seaborn/_oldcore.py:701\u001b[0m, in \u001b[0;36mVectorPlotter.assign_variables\u001b[0;34m(self, data, variables)\u001b[0m\n\u001b[1;32m    699\u001b[0m \u001b[39melse\u001b[39;00m:\n\u001b[1;32m    700\u001b[0m     \u001b[39mself\u001b[39m\u001b[39m.\u001b[39minput_format \u001b[39m=\u001b[39m \u001b[39m\"\u001b[39m\u001b[39mlong\u001b[39m\u001b[39m\"\u001b[39m\n\u001b[0;32m--> 701\u001b[0m     plot_data, variables \u001b[39m=\u001b[39m \u001b[39mself\u001b[39;49m\u001b[39m.\u001b[39;49m_assign_variables_longform(\n\u001b[1;32m    702\u001b[0m         data, \u001b[39m*\u001b[39;49m\u001b[39m*\u001b[39;49mvariables,\n\u001b[1;32m    703\u001b[0m     )\n\u001b[1;32m    705\u001b[0m \u001b[39mself\u001b[39m\u001b[39m.\u001b[39mplot_data \u001b[39m=\u001b[39m plot_data\n\u001b[1;32m    706\u001b[0m \u001b[39mself\u001b[39m\u001b[39m.\u001b[39mvariables \u001b[39m=\u001b[39m variables\n",
      "File \u001b[0;32m~/Neue_Fische/NeuralXpresso/.venv/lib/python3.9/site-packages/seaborn/_oldcore.py:938\u001b[0m, in \u001b[0;36mVectorPlotter._assign_variables_longform\u001b[0;34m(self, data, **kwargs)\u001b[0m\n\u001b[1;32m    933\u001b[0m \u001b[39melif\u001b[39;00m \u001b[39misinstance\u001b[39m(val, (\u001b[39mstr\u001b[39m, \u001b[39mbytes\u001b[39m)):\n\u001b[1;32m    934\u001b[0m \n\u001b[1;32m    935\u001b[0m     \u001b[39m# This looks like a column name but we don't know what it means!\u001b[39;00m\n\u001b[1;32m    937\u001b[0m     err \u001b[39m=\u001b[39m \u001b[39mf\u001b[39m\u001b[39m\"\u001b[39m\u001b[39mCould not interpret value `\u001b[39m\u001b[39m{\u001b[39;00mval\u001b[39m}\u001b[39;00m\u001b[39m` for parameter `\u001b[39m\u001b[39m{\u001b[39;00mkey\u001b[39m}\u001b[39;00m\u001b[39m`\u001b[39m\u001b[39m\"\u001b[39m\n\u001b[0;32m--> 938\u001b[0m     \u001b[39mraise\u001b[39;00m \u001b[39mValueError\u001b[39;00m(err)\n\u001b[1;32m    940\u001b[0m \u001b[39melse\u001b[39;00m:\n\u001b[1;32m    941\u001b[0m \n\u001b[1;32m    942\u001b[0m     \u001b[39m# Otherwise, assume the value is itself data\u001b[39;00m\n\u001b[1;32m    943\u001b[0m \n\u001b[1;32m    944\u001b[0m     \u001b[39m# Raise when data object is present and a vector can't matched\u001b[39;00m\n\u001b[1;32m    945\u001b[0m     \u001b[39mif\u001b[39;00m \u001b[39misinstance\u001b[39m(data, pd\u001b[39m.\u001b[39mDataFrame) \u001b[39mand\u001b[39;00m \u001b[39mnot\u001b[39;00m \u001b[39misinstance\u001b[39m(val, pd\u001b[39m.\u001b[39mSeries):\n",
      "\u001b[0;31mValueError\u001b[0m: Could not interpret value `Frame` for parameter `x`"
     ]
    }
   ],
   "source": [
    "sns.lineplot(data = df_plotting, x = 'Frame', y='moving_avg', hue = 'feeling')"
   ]
  },
  {
   "cell_type": "code",
   "execution_count": null,
   "metadata": {},
   "outputs": [
    {
     "data": {
      "text/html": [
       "<div>\n",
       "<style scoped>\n",
       "    .dataframe tbody tr th:only-of-type {\n",
       "        vertical-align: middle;\n",
       "    }\n",
       "\n",
       "    .dataframe tbody tr th {\n",
       "        vertical-align: top;\n",
       "    }\n",
       "\n",
       "    .dataframe thead th {\n",
       "        text-align: right;\n",
       "    }\n",
       "</style>\n",
       "<table border=\"1\" class=\"dataframe\">\n",
       "  <thead>\n",
       "    <tr style=\"text-align: right;\">\n",
       "      <th></th>\n",
       "      <th>Frame</th>\n",
       "      <th>feeling</th>\n",
       "      <th>probability</th>\n",
       "      <th>moving_avg</th>\n",
       "    </tr>\n",
       "  </thead>\n",
       "  <tbody>\n",
       "    <tr>\n",
       "      <th>0</th>\n",
       "      <td>0</td>\n",
       "      <td>Angry</td>\n",
       "      <td>0.005274</td>\n",
       "      <td>NaN</td>\n",
       "    </tr>\n",
       "    <tr>\n",
       "      <th>1</th>\n",
       "      <td>1</td>\n",
       "      <td>Angry</td>\n",
       "      <td>0.010392</td>\n",
       "      <td>NaN</td>\n",
       "    </tr>\n",
       "    <tr>\n",
       "      <th>2</th>\n",
       "      <td>2</td>\n",
       "      <td>Angry</td>\n",
       "      <td>0.008759</td>\n",
       "      <td>NaN</td>\n",
       "    </tr>\n",
       "    <tr>\n",
       "      <th>3</th>\n",
       "      <td>3</td>\n",
       "      <td>Angry</td>\n",
       "      <td>0.028516</td>\n",
       "      <td>NaN</td>\n",
       "    </tr>\n",
       "    <tr>\n",
       "      <th>4</th>\n",
       "      <td>4</td>\n",
       "      <td>Angry</td>\n",
       "      <td>0.004002</td>\n",
       "      <td>NaN</td>\n",
       "    </tr>\n",
       "    <tr>\n",
       "      <th>...</th>\n",
       "      <td>...</td>\n",
       "      <td>...</td>\n",
       "      <td>...</td>\n",
       "      <td>...</td>\n",
       "    </tr>\n",
       "    <tr>\n",
       "      <th>6197</th>\n",
       "      <td>881</td>\n",
       "      <td>Neutral</td>\n",
       "      <td>0.185039</td>\n",
       "      <td>0.202502</td>\n",
       "    </tr>\n",
       "    <tr>\n",
       "      <th>6198</th>\n",
       "      <td>882</td>\n",
       "      <td>Neutral</td>\n",
       "      <td>0.252427</td>\n",
       "      <td>NaN</td>\n",
       "    </tr>\n",
       "    <tr>\n",
       "      <th>6199</th>\n",
       "      <td>883</td>\n",
       "      <td>Neutral</td>\n",
       "      <td>0.252427</td>\n",
       "      <td>NaN</td>\n",
       "    </tr>\n",
       "    <tr>\n",
       "      <th>6200</th>\n",
       "      <td>884</td>\n",
       "      <td>Neutral</td>\n",
       "      <td>0.240728</td>\n",
       "      <td>NaN</td>\n",
       "    </tr>\n",
       "    <tr>\n",
       "      <th>6201</th>\n",
       "      <td>885</td>\n",
       "      <td>Neutral</td>\n",
       "      <td>0.171030</td>\n",
       "      <td>NaN</td>\n",
       "    </tr>\n",
       "  </tbody>\n",
       "</table>\n",
       "<p>6202 rows × 4 columns</p>\n",
       "</div>"
      ],
      "text/plain": [
       "      Frame  feeling  probability  moving_avg\n",
       "0         0    Angry     0.005274         NaN\n",
       "1         1    Angry     0.010392         NaN\n",
       "2         2    Angry     0.008759         NaN\n",
       "3         3    Angry     0.028516         NaN\n",
       "4         4    Angry     0.004002         NaN\n",
       "...     ...      ...          ...         ...\n",
       "6197    881  Neutral     0.185039    0.202502\n",
       "6198    882  Neutral     0.252427         NaN\n",
       "6199    883  Neutral     0.252427         NaN\n",
       "6200    884  Neutral     0.240728         NaN\n",
       "6201    885  Neutral     0.171030         NaN\n",
       "\n",
       "[6202 rows x 4 columns]"
      ]
     },
     "execution_count": 87,
     "metadata": {},
     "output_type": "execute_result"
    }
   ],
   "source": [
    "df_plotting"
   ]
  },
  {
   "cell_type": "code",
   "execution_count": null,
   "metadata": {},
   "outputs": [
    {
     "data": {
      "text/html": [
       "<div>\n",
       "<style scoped>\n",
       "    .dataframe tbody tr th:only-of-type {\n",
       "        vertical-align: middle;\n",
       "    }\n",
       "\n",
       "    .dataframe tbody tr th {\n",
       "        vertical-align: top;\n",
       "    }\n",
       "\n",
       "    .dataframe thead th {\n",
       "        text-align: right;\n",
       "    }\n",
       "</style>\n",
       "<table border=\"1\" class=\"dataframe\">\n",
       "  <thead>\n",
       "    <tr style=\"text-align: right;\">\n",
       "      <th></th>\n",
       "      <th>Frame</th>\n",
       "      <th>feeling</th>\n",
       "      <th>probability</th>\n",
       "      <th>moving_avg</th>\n",
       "    </tr>\n",
       "  </thead>\n",
       "  <tbody>\n",
       "    <tr>\n",
       "      <th>2658</th>\n",
       "      <td>0</td>\n",
       "      <td>Happy</td>\n",
       "      <td>0.955532</td>\n",
       "      <td>0.505082</td>\n",
       "    </tr>\n",
       "    <tr>\n",
       "      <th>2659</th>\n",
       "      <td>1</td>\n",
       "      <td>Happy</td>\n",
       "      <td>0.935133</td>\n",
       "      <td>0.593292</td>\n",
       "    </tr>\n",
       "    <tr>\n",
       "      <th>2660</th>\n",
       "      <td>2</td>\n",
       "      <td>Happy</td>\n",
       "      <td>0.923429</td>\n",
       "      <td>0.665813</td>\n",
       "    </tr>\n",
       "    <tr>\n",
       "      <th>2661</th>\n",
       "      <td>3</td>\n",
       "      <td>Happy</td>\n",
       "      <td>0.822713</td>\n",
       "      <td>0.738803</td>\n",
       "    </tr>\n",
       "    <tr>\n",
       "      <th>2662</th>\n",
       "      <td>4</td>\n",
       "      <td>Happy</td>\n",
       "      <td>0.938086</td>\n",
       "      <td>0.825939</td>\n",
       "    </tr>\n",
       "    <tr>\n",
       "      <th>...</th>\n",
       "      <td>...</td>\n",
       "      <td>...</td>\n",
       "      <td>...</td>\n",
       "      <td>...</td>\n",
       "    </tr>\n",
       "    <tr>\n",
       "      <th>3539</th>\n",
       "      <td>881</td>\n",
       "      <td>Happy</td>\n",
       "      <td>0.507732</td>\n",
       "      <td>0.446257</td>\n",
       "    </tr>\n",
       "    <tr>\n",
       "      <th>3540</th>\n",
       "      <td>882</td>\n",
       "      <td>Happy</td>\n",
       "      <td>0.367060</td>\n",
       "      <td>0.402680</td>\n",
       "    </tr>\n",
       "    <tr>\n",
       "      <th>3541</th>\n",
       "      <td>883</td>\n",
       "      <td>Happy</td>\n",
       "      <td>0.367060</td>\n",
       "      <td>0.351637</td>\n",
       "    </tr>\n",
       "    <tr>\n",
       "      <th>3542</th>\n",
       "      <td>884</td>\n",
       "      <td>Happy</td>\n",
       "      <td>0.399157</td>\n",
       "      <td>0.299369</td>\n",
       "    </tr>\n",
       "    <tr>\n",
       "      <th>3543</th>\n",
       "      <td>885</td>\n",
       "      <td>Happy</td>\n",
       "      <td>0.368304</td>\n",
       "      <td>0.242884</td>\n",
       "    </tr>\n",
       "  </tbody>\n",
       "</table>\n",
       "<p>886 rows × 4 columns</p>\n",
       "</div>"
      ],
      "text/plain": [
       "      Frame feeling  probability  moving_avg\n",
       "2658      0   Happy     0.955532    0.505082\n",
       "2659      1   Happy     0.935133    0.593292\n",
       "2660      2   Happy     0.923429    0.665813\n",
       "2661      3   Happy     0.822713    0.738803\n",
       "2662      4   Happy     0.938086    0.825939\n",
       "...     ...     ...          ...         ...\n",
       "3539    881   Happy     0.507732    0.446257\n",
       "3540    882   Happy     0.367060    0.402680\n",
       "3541    883   Happy     0.367060    0.351637\n",
       "3542    884   Happy     0.399157    0.299369\n",
       "3543    885   Happy     0.368304    0.242884\n",
       "\n",
       "[886 rows x 4 columns]"
      ]
     },
     "execution_count": 90,
     "metadata": {},
     "output_type": "execute_result"
    }
   ],
   "source": [
    "max_prob_rows = df_plotting.groupby('Frame')['probability'].idxmax().reset_index()\n",
    "max_prob_df = df.loc[max_prob_rows['probability']]\n",
    "feeling_counts = max_prob_df.groupby('feeling')['Frame'].nunique()\n",
    "max_prob_df\n"
   ]
  },
  {
   "cell_type": "code",
   "execution_count": null,
   "metadata": {},
   "outputs": [
    {
     "ename": "NameError",
     "evalue": "name 'max_prob_df' is not defined",
     "output_type": "error",
     "traceback": [
      "\u001b[0;31m---------------------------------------------------------------------------\u001b[0m",
      "\u001b[0;31mNameError\u001b[0m                                 Traceback (most recent call last)",
      "Cell \u001b[0;32mIn[49], line 1\u001b[0m\n\u001b[0;32m----> 1\u001b[0m sns\u001b[39m.\u001b[39mbarplot(data \u001b[39m=\u001b[39m max_prob_df, x \u001b[39m=\u001b[39m \u001b[39m'\u001b[39m\u001b[39mFrame\u001b[39m\u001b[39m'\u001b[39m, y\u001b[39m=\u001b[39m\u001b[39m'\u001b[39m\u001b[39mprobability\u001b[39m\u001b[39m'\u001b[39m, hue\u001b[39m=\u001b[39m\u001b[39m'\u001b[39m\u001b[39memotion\u001b[39m\u001b[39m'\u001b[39m)\n",
      "\u001b[0;31mNameError\u001b[0m: name 'max_prob_df' is not defined"
     ]
    }
   ],
   "source": [
    "sns.barplot(data = max_prob_df, x = 'Frame', y='probability', hue='feeling')"
   ]
  },
  {
   "cell_type": "code",
   "execution_count": null,
   "metadata": {},
   "outputs": [
    {
     "data": {
      "text/plain": [
       "\"\\n# sort dataframe by probability within each frame\\nsorted_df = df.sort_values(['frame', 'probability'], ascending=[True, False])\\n\\n# get the top three probabilities for each frame\\ntop_three_probs = sorted_df.groupby('frame').head(3)\\n\\n# group by feeling and count unique frames\\nfeeling_counts = top_three_probs.groupby('feeling')['frame'].nunique()\\n\\n# print top three probabilities for each frame\\nprint(top_three_probs)\\n\""
      ]
     },
     "execution_count": 145,
     "metadata": {},
     "output_type": "execute_result"
    }
   ],
   "source": [
    "'''\n",
    "# sort dataframe by probability within each frame\n",
    "sorted_df = df.sort_values(['frame', 'probability'], ascending=[True, False])\n",
    "\n",
    "# get the top three probabilities for each frame\n",
    "top_three_probs = sorted_df.groupby('frame').head(3)\n",
    "\n",
    "# group by feeling and count unique frames\n",
    "feeling_counts = top_three_probs.groupby('feeling')['frame'].nunique()\n",
    "\n",
    "# print top three probabilities for each frame\n",
    "print(top_three_probs)\n",
    "'''"
   ]
  },
  {
   "cell_type": "code",
   "execution_count": null,
   "metadata": {},
   "outputs": [
    {
     "data": {
      "application/vnd.plotly.v1+json": {
       "config": {
        "plotlyServerURL": "https://plot.ly"
       },
       "data": [
        {
         "fillpattern": {
          "shape": ""
         },
         "hovertemplate": "Feeling=Fear<br>Frame=%{x}<br>Probability=%{y}<extra></extra>",
         "legendgroup": "Fear",
         "line": {
          "color": "#636EFA"
         },
         "marker": {
          "symbol": "circle"
         },
         "mode": "lines",
         "name": "Fear",
         "orientation": "v",
         "showlegend": true,
         "stackgroup": "1",
         "type": "scatter",
         "x": [
          0,
          1,
          2,
          3,
          4,
          5,
          6,
          7,
          8,
          9,
          10,
          11,
          12,
          13,
          14,
          15,
          16,
          17,
          18,
          19,
          20,
          21,
          22,
          23,
          24,
          25,
          26,
          27,
          28,
          29,
          30,
          31,
          32,
          33,
          34,
          35,
          36,
          37,
          38,
          39,
          40,
          41,
          42,
          43,
          44,
          45,
          46,
          47,
          48,
          49,
          50,
          51,
          52,
          53,
          54,
          55,
          56,
          57,
          58,
          59,
          62,
          63,
          65,
          66,
          67,
          68,
          69,
          70,
          71,
          72,
          73,
          74,
          75,
          76,
          77,
          96,
          97,
          98,
          99,
          100,
          101,
          102,
          103,
          104,
          105,
          106,
          107,
          108,
          109,
          110,
          111,
          112,
          115,
          116,
          117,
          118,
          146,
          176,
          194,
          195,
          196,
          197,
          198,
          199,
          200,
          201,
          202,
          203,
          204,
          205,
          207,
          209,
          212,
          213,
          231,
          232,
          233,
          234,
          235,
          236,
          237,
          239,
          240,
          242,
          244,
          259,
          293,
          307,
          321,
          322,
          324,
          325,
          326,
          327,
          328,
          329,
          330,
          331,
          332,
          333,
          334,
          335,
          336,
          345,
          346,
          347,
          348,
          352,
          358,
          367,
          368,
          369,
          373,
          374,
          375,
          376,
          377,
          378,
          379,
          380,
          381,
          382,
          383,
          384,
          385,
          386,
          387,
          388,
          389,
          390,
          391,
          392,
          393,
          394,
          395,
          396,
          397,
          398,
          399,
          401,
          402,
          403,
          404,
          405,
          406,
          407,
          408,
          409,
          410,
          411,
          412,
          413,
          414,
          415,
          417,
          418,
          419,
          420,
          421,
          422,
          423,
          424,
          425,
          426,
          427,
          428,
          429,
          430,
          431,
          432,
          433,
          434,
          436,
          448,
          449,
          450,
          451,
          452,
          453,
          454,
          455,
          456,
          459,
          460,
          461,
          462,
          463,
          464,
          465,
          466,
          467,
          469,
          470,
          471,
          472,
          473,
          474,
          475,
          476,
          477,
          478,
          479,
          480,
          497,
          498,
          499,
          500,
          501,
          502,
          503,
          504,
          505,
          506,
          507,
          524,
          525,
          531,
          532,
          533,
          534,
          535,
          536,
          537,
          538,
          539,
          540,
          541,
          542,
          543,
          554,
          567,
          568,
          569,
          570,
          571,
          572,
          573,
          574,
          575,
          576,
          577,
          578,
          579,
          580,
          581,
          582,
          583,
          584,
          585,
          586,
          587,
          588,
          589,
          590,
          591,
          592,
          593,
          594,
          595,
          596,
          597,
          598,
          599,
          600,
          601,
          602,
          603,
          604,
          605,
          614,
          615,
          616,
          617,
          618,
          619,
          620,
          621,
          622,
          623,
          624,
          625,
          626,
          627,
          628,
          629,
          630,
          632,
          648,
          650,
          651,
          653,
          654,
          655,
          656,
          657,
          658,
          659,
          660,
          661,
          662,
          664,
          665,
          666,
          667,
          668,
          669,
          670,
          671,
          672,
          673,
          674,
          675,
          676,
          677,
          678,
          679,
          680,
          681,
          682,
          683,
          684,
          685,
          686,
          687,
          688,
          689,
          690,
          691,
          692,
          693,
          694,
          695,
          696,
          697,
          698,
          699,
          700,
          701,
          702,
          703,
          704,
          705,
          706,
          707,
          708,
          709,
          710,
          711,
          712,
          713,
          715,
          716,
          717,
          718,
          719,
          720,
          721,
          722,
          723,
          724,
          725,
          731,
          738,
          739,
          740,
          741,
          742,
          743,
          745,
          746,
          747,
          748,
          749,
          750,
          751,
          752,
          753,
          754,
          755,
          756,
          757,
          758,
          759,
          760,
          761,
          762,
          763,
          764,
          765,
          766,
          767,
          768,
          769,
          770,
          771,
          772,
          773,
          774,
          775,
          776,
          777,
          778,
          779,
          780,
          781,
          782,
          783,
          784,
          785,
          786,
          787,
          788,
          789,
          790,
          791,
          792,
          793,
          794,
          797,
          800,
          801,
          803,
          805,
          806,
          807,
          808,
          809,
          810,
          811,
          812,
          813,
          814,
          815,
          816,
          817,
          818,
          819,
          820,
          821,
          822,
          823,
          824,
          825,
          826,
          827,
          828,
          829,
          830,
          831,
          832,
          833,
          835,
          837,
          838,
          839,
          840,
          841,
          842,
          843,
          844,
          845,
          846,
          847,
          848,
          849,
          850,
          851,
          852,
          853,
          854,
          855,
          856,
          857,
          858,
          859,
          860,
          861,
          862,
          863,
          864,
          865,
          866,
          867,
          868,
          869,
          870,
          871,
          872,
          873,
          874,
          875,
          876,
          877,
          878,
          879,
          880,
          881,
          882,
          883,
          884,
          885,
          886,
          887,
          888,
          889,
          890,
          891,
          892,
          893,
          894,
          895,
          896,
          897,
          898,
          899,
          900,
          901,
          902,
          903,
          904,
          905,
          906,
          907,
          908,
          909,
          910,
          911,
          912,
          913,
          914,
          915,
          916,
          917,
          918,
          919,
          920,
          921,
          922,
          923,
          924,
          925,
          926,
          927,
          928,
          929,
          930,
          931,
          932,
          933,
          934,
          935,
          936,
          937,
          938,
          939,
          940,
          941,
          942,
          943,
          944,
          945,
          946,
          947,
          948,
          949,
          950,
          951,
          952,
          953,
          954,
          955,
          956,
          957,
          958,
          959,
          960,
          961,
          962,
          963,
          964,
          965,
          966,
          967,
          968,
          969,
          970,
          971,
          972,
          973,
          974,
          975,
          976,
          977,
          978,
          979,
          980,
          981,
          982,
          983,
          984,
          985,
          986,
          987,
          988,
          989,
          990,
          991,
          992,
          993,
          994,
          995,
          996,
          997,
          998,
          999,
          1000,
          1001,
          1002,
          1003,
          1004,
          1005,
          1006,
          1007,
          1008,
          1009,
          1010,
          1011,
          1012,
          1013,
          1014,
          1015,
          1016,
          1017,
          1018,
          1019,
          1020,
          1021,
          1022,
          1023,
          1024,
          1025,
          1026,
          1027,
          1028,
          1029,
          1030,
          1031,
          1032,
          1033,
          1034,
          1035,
          1036,
          1037,
          1038,
          1039,
          1040,
          1041,
          1042,
          1043,
          1044,
          1045,
          1046,
          1047,
          1048,
          1049,
          1050,
          1051,
          1052,
          1053,
          1054,
          1055,
          1056,
          1057,
          1058,
          1059,
          1060,
          1061,
          1062,
          1063,
          1064,
          1065,
          1066,
          1067,
          1068,
          1069,
          1070,
          1071,
          1072,
          1073,
          1074,
          1075,
          1076,
          1077,
          1078,
          1079,
          1080,
          1081,
          1082,
          1083,
          1084,
          1085,
          1086,
          1087,
          1088,
          1089,
          1090,
          1091,
          1092,
          1093,
          1094,
          1095,
          1096,
          1097,
          1098,
          1099,
          1100,
          1101,
          1102,
          1103,
          1104,
          1105,
          1106,
          1107,
          1108,
          1109,
          1110,
          1111,
          1112,
          1113,
          1114,
          1115,
          1116,
          1117,
          1118,
          1119,
          1120,
          1121,
          1122,
          1123,
          1124,
          1125,
          1126,
          1127,
          1128,
          1129,
          1130,
          1131,
          1132,
          1133,
          1134,
          1135,
          1136,
          1137,
          1138,
          1139,
          1140
         ],
         "xaxis": "x",
         "y": [
          0.3333333333333333,
          0.3333333333333333,
          0.3333333333333333,
          0.3333333333333333,
          0.3333333333333333,
          0.3333333333333333,
          0.3333333333333333,
          0.3333333333333333,
          0.3333333333333333,
          0.3333333333333333,
          0.3333333333333333,
          0.3333333333333333,
          0.3333333333333333,
          0.3333333333333333,
          0.3333333333333333,
          0.3333333333333333,
          0.3333333333333333,
          0.3333333333333333,
          0.3333333333333333,
          0.3333333333333333,
          0.3333333333333333,
          0.3333333333333333,
          0.3333333333333333,
          0.3333333333333333,
          0.3333333333333333,
          0.3333333333333333,
          0.3333333333333333,
          0.3333333333333333,
          0.3333333333333333,
          0.3333333333333333,
          0.3333333333333333,
          0.3333333333333333,
          0.3333333333333333,
          0.3333333333333333,
          0.3333333333333333,
          0.3333333333333333,
          0.3333333333333333,
          0.3333333333333333,
          0.3333333333333333,
          0.3333333333333333,
          0.3333333333333333,
          0.3333333333333333,
          0.3333333333333333,
          0.3333333333333333,
          0.3333333333333333,
          0.3333333333333333,
          0.3333333333333333,
          0.3333333333333333,
          0.3333333333333333,
          0.3333333333333333,
          0.3333333333333333,
          0.3333333333333333,
          0.3333333333333333,
          0.3333333333333333,
          0.3333333333333333,
          0.3333333333333333,
          0.3333333333333333,
          0.3333333333333333,
          0.3333333333333333,
          0.3333333333333333,
          0.3333333333333333,
          0.3333333333333333,
          0.3333333333333333,
          0.3333333333333333,
          0.3333333333333333,
          0.3333333333333333,
          0.3333333333333333,
          0.3333333333333333,
          0.3333333333333333,
          0.3333333333333333,
          0.3333333333333333,
          0.3333333333333333,
          0.3333333333333333,
          0.3333333333333333,
          0.3333333333333333,
          0.3333333333333333,
          0.3333333333333333,
          0.3333333333333333,
          0.3333333333333333,
          0.3333333333333333,
          0.3333333333333333,
          0.3333333333333333,
          0.3333333333333333,
          0.3333333333333333,
          0.3333333333333333,
          0.3333333333333333,
          0.3333333333333333,
          0.3333333333333333,
          0.3333333333333333,
          0.3333333333333333,
          0.3333333333333333,
          0.3333333333333333,
          0.3333333333333333,
          0.3333333333333333,
          0.3333333333333333,
          0.3333333333333333,
          0.3333333333333333,
          0.3333333333333333,
          0.3333333333333333,
          0.3333333333333333,
          0.3333333333333333,
          0.3333333333333333,
          0.3333333333333333,
          0.3333333333333333,
          0.3333333333333333,
          0.3333333333333333,
          0.3333333333333333,
          0.3333333333333333,
          0.3333333333333333,
          0.3333333333333333,
          0.3333333333333333,
          0.3333333333333333,
          0.3333333333333333,
          0.3333333333333333,
          0.3333333333333333,
          0.3333333333333333,
          0.3333333333333333,
          0.3333333333333333,
          0.3333333333333333,
          0.3333333333333333,
          0.3333333333333333,
          0.3333333333333333,
          0.3333333333333333,
          0.3333333333333333,
          0.3333333333333333,
          0.3333333333333333,
          0.3333333333333333,
          0.3333333333333333,
          0.3333333333333333,
          0.3333333333333333,
          0.3333333333333333,
          0.3333333333333333,
          0.3333333333333333,
          0.3333333333333333,
          0.3333333333333333,
          0.3333333333333333,
          0.3333333333333333,
          0.3333333333333333,
          0.3333333333333333,
          0.3333333333333333,
          0.3333333333333333,
          0.3333333333333333,
          0.3333333333333333,
          0.3333333333333333,
          0.3333333333333333,
          0.3333333333333333,
          0.3333333333333333,
          0.3333333333333333,
          0.3333333333333333,
          0.3333333333333333,
          0.3333333333333333,
          0.3333333333333333,
          0.3333333333333333,
          0.3333333333333333,
          0.3333333333333333,
          0.3333333333333333,
          0.3333333333333333,
          0.3333333333333333,
          0.3333333333333333,
          0.3333333333333333,
          0.3333333333333333,
          0.3333333333333333,
          0.3333333333333333,
          0.3333333333333333,
          0.3333333333333333,
          0.3333333333333333,
          0.3333333333333333,
          0.3333333333333333,
          0.3333333333333333,
          0.3333333333333333,
          0.3333333333333333,
          0.3333333333333333,
          0.3333333333333333,
          0.3333333333333333,
          0.3333333333333333,
          0.3333333333333333,
          0.3333333333333333,
          0.3333333333333333,
          0.3333333333333333,
          0.3333333333333333,
          0.3333333333333333,
          0.3333333333333333,
          0.3333333333333333,
          0.3333333333333333,
          0.3333333333333333,
          0.3333333333333333,
          0.3333333333333333,
          0.3333333333333333,
          0.3333333333333333,
          0.3333333333333333,
          0.3333333333333333,
          0.3333333333333333,
          0.3333333333333333,
          0.3333333333333333,
          0.3333333333333333,
          0.3333333333333333,
          0.3333333333333333,
          0.3333333333333333,
          0.3333333333333333,
          0.3333333333333333,
          0.3333333333333333,
          0.3333333333333333,
          0.3333333333333333,
          0.3333333333333333,
          0.3333333333333333,
          0.3333333333333333,
          0.3333333333333333,
          0.3333333333333333,
          0.3333333333333333,
          0.3333333333333333,
          0.3333333333333333,
          0.3333333333333333,
          0.3333333333333333,
          0.3333333333333333,
          0.3333333333333333,
          0.3333333333333333,
          0.3333333333333333,
          0.3333333333333333,
          0.3333333333333333,
          0.3333333333333333,
          0.3333333333333333,
          0.3333333333333333,
          0.3333333333333333,
          0.3333333333333333,
          0.3333333333333333,
          0.3333333333333333,
          0.3333333333333333,
          0.3333333333333333,
          0.3333333333333333,
          0.3333333333333333,
          0.3333333333333333,
          0.3333333333333333,
          0.3333333333333333,
          0.3333333333333333,
          0.3333333333333333,
          0.3333333333333333,
          0.3333333333333333,
          0.3333333333333333,
          0.3333333333333333,
          0.3333333333333333,
          0.3333333333333333,
          0.3333333333333333,
          0.3333333333333333,
          0.3333333333333333,
          0.3333333333333333,
          0.3333333333333333,
          0.3333333333333333,
          0.3333333333333333,
          0.3333333333333333,
          0.3333333333333333,
          0.3333333333333333,
          0.3333333333333333,
          0.3333333333333333,
          0.3333333333333333,
          0.3333333333333333,
          0.3333333333333333,
          0.3333333333333333,
          0.3333333333333333,
          0.3333333333333333,
          0.3333333333333333,
          0.3333333333333333,
          0.3333333333333333,
          0.3333333333333333,
          0.3333333333333333,
          0.3333333333333333,
          0.3333333333333333,
          0.3333333333333333,
          0.3333333333333333,
          0.3333333333333333,
          0.3333333333333333,
          0.3333333333333333,
          0.3333333333333333,
          0.3333333333333333,
          0.3333333333333333,
          0.3333333333333333,
          0.3333333333333333,
          0.3333333333333333,
          0.3333333333333333,
          0.3333333333333333,
          0.3333333333333333,
          0.3333333333333333,
          0.3333333333333333,
          0.3333333333333333,
          0.3333333333333333,
          0.3333333333333333,
          0.3333333333333333,
          0.3333333333333333,
          0.3333333333333333,
          0.3333333333333333,
          0.3333333333333333,
          0.3333333333333333,
          0.3333333333333333,
          0.3333333333333333,
          0.3333333333333333,
          0.3333333333333333,
          0.3333333333333333,
          0.3333333333333333,
          0.3333333333333333,
          0.3333333333333333,
          0.3333333333333333,
          0.3333333333333333,
          0.3333333333333333,
          0.3333333333333333,
          0.3333333333333333,
          0.3333333333333333,
          0.3333333333333333,
          0.3333333333333333,
          0.3333333333333333,
          0.3333333333333333,
          0.3333333333333333,
          0.3333333333333333,
          0.3333333333333333,
          0.3333333333333333,
          0.3333333333333333,
          0.3333333333333333,
          0.3333333333333333,
          0.3333333333333333,
          0.3333333333333333,
          0.3333333333333333,
          0.3333333333333333,
          0.3333333333333333,
          0.3333333333333333,
          0.3333333333333333,
          0.3333333333333333,
          0.3333333333333333,
          0.3333333333333333,
          0.3333333333333333,
          0.3333333333333333,
          0.3333333333333333,
          0.3333333333333333,
          0.3333333333333333,
          0.3333333333333333,
          0.3333333333333333,
          0.3333333333333333,
          0.3333333333333333,
          0.3333333333333333,
          0.3333333333333333,
          0.3333333333333333,
          0.3333333333333333,
          0.3333333333333333,
          0.3333333333333333,
          0.3333333333333333,
          0.3333333333333333,
          0.3333333333333333,
          0.3333333333333333,
          0.3333333333333333,
          0.3333333333333333,
          0.3333333333333333,
          0.3333333333333333,
          0.3333333333333333,
          0.3333333333333333,
          0.3333333333333333,
          0.3333333333333333,
          0.3333333333333333,
          0.3333333333333333,
          0.3333333333333333,
          0.3333333333333333,
          0.3333333333333333,
          0.3333333333333333,
          0.3333333333333333,
          0.3333333333333333,
          0.3333333333333333,
          0.3333333333333333,
          0.3333333333333333,
          0.3333333333333333,
          0.3333333333333333,
          0.3333333333333333,
          0.3333333333333333,
          0.3333333333333333,
          0.3333333333333333,
          0.3333333333333333,
          0.3333333333333333,
          0.3333333333333333,
          0.3333333333333333,
          0.3333333333333333,
          0.3333333333333333,
          0.3333333333333333,
          0.3333333333333333,
          0.3333333333333333,
          0.3333333333333333,
          0.3333333333333333,
          0.3333333333333333,
          0.3333333333333333,
          0.3333333333333333,
          0.3333333333333333,
          0.3333333333333333,
          0.3333333333333333,
          0.3333333333333333,
          0.3333333333333333,
          0.3333333333333333,
          0.3333333333333333,
          0.3333333333333333,
          0.3333333333333333,
          0.3333333333333333,
          0.3333333333333333,
          0.3333333333333333,
          0.3333333333333333,
          0.3333333333333333,
          0.3333333333333333,
          0.3333333333333333,
          0.3333333333333333,
          0.3333333333333333,
          0.3333333333333333,
          0.3333333333333333,
          0.3333333333333333,
          0.3333333333333333,
          0.3333333333333333,
          0.3333333333333333,
          0.3333333333333333,
          0.3333333333333333,
          0.3333333333333333,
          0.3333333333333333,
          0.3333333333333333,
          0.3333333333333333,
          0.3333333333333333,
          0.3333333333333333,
          0.3333333333333333,
          0.3333333333333333,
          0.3333333333333333,
          0.3333333333333333,
          0.3333333333333333,
          0.3333333333333333,
          0.3333333333333333,
          0.3333333333333333,
          0.3333333333333333,
          0.3333333333333333,
          0.3333333333333333,
          0.3333333333333333,
          0.3333333333333333,
          0.3333333333333333,
          0.3333333333333333,
          0.3333333333333333,
          0.3333333333333333,
          0.3333333333333333,
          0.3333333333333333,
          0.3333333333333333,
          0.3333333333333333,
          0.3333333333333333,
          0.3333333333333333,
          0.3333333333333333,
          0.3333333333333333,
          0.3333333333333333,
          0.3333333333333333,
          0.3333333333333333,
          0.3333333333333333,
          0.3333333333333333,
          0.3333333333333333,
          0.3333333333333333,
          0.3333333333333333,
          0.3333333333333333,
          0.3333333333333333,
          0.3333333333333333,
          0.3333333333333333,
          0.3333333333333333,
          0.3333333333333333,
          0.3333333333333333,
          0.3333333333333333,
          0.3333333333333333,
          0.3333333333333333,
          0.3333333333333333,
          0.3333333333333333,
          0.3333333333333333,
          0.3333333333333333,
          0.3333333333333333,
          0.3333333333333333,
          0.3333333333333333,
          0.3333333333333333,
          0.3333333333333333,
          0.3333333333333333,
          0.3333333333333333,
          0.3333333333333333,
          0.3333333333333333,
          0.3333333333333333,
          0.3333333333333333,
          0.3333333333333333,
          0.3333333333333333,
          0.3333333333333333,
          0.3333333333333333,
          0.3333333333333333,
          0.3333333333333333,
          0.3333333333333333,
          0.3333333333333333,
          0.3333333333333333,
          0.3333333333333333,
          0.3333333333333333,
          0.3333333333333333,
          0.3333333333333333,
          0.3333333333333333,
          0.3333333333333333,
          0.3333333333333333,
          0.3333333333333333,
          0.3333333333333333,
          0.3333333333333333,
          0.3333333333333333,
          0.3333333333333333,
          0.3333333333333333,
          0.3333333333333333,
          0.3333333333333333,
          0.3333333333333333,
          0.3333333333333333,
          0.3333333333333333,
          0.3333333333333333,
          0.3333333333333333,
          0.3333333333333333,
          0.3333333333333333,
          0.3333333333333333,
          0.3333333333333333,
          0.3333333333333333,
          0.3333333333333333,
          0.3333333333333333,
          0.3333333333333333,
          0.3333333333333333,
          0.3333333333333333,
          0.3333333333333333,
          0.3333333333333333,
          0.3333333333333333,
          0.3333333333333333,
          0.3333333333333333,
          0.3333333333333333,
          0.3333333333333333,
          0.3333333333333333,
          0.3333333333333333,
          0.3333333333333333,
          0.3333333333333333,
          0.3333333333333333,
          0.3333333333333333,
          0.3333333333333333,
          0.3333333333333333,
          0.3333333333333333,
          0.3333333333333333,
          0.3333333333333333,
          0.3333333333333333,
          0.3333333333333333,
          0.3333333333333333,
          0.3333333333333333,
          0.3333333333333333,
          0.3333333333333333,
          0.3333333333333333,
          0.3333333333333333,
          0.3333333333333333,
          0.3333333333333333,
          0.3333333333333333,
          0.3333333333333333,
          0.3333333333333333,
          0.3333333333333333,
          0.3333333333333333,
          0.3333333333333333,
          0.3333333333333333,
          0.3333333333333333,
          0.3333333333333333,
          0.3333333333333333,
          0.3333333333333333,
          0.3333333333333333,
          0.3333333333333333,
          0.3333333333333333,
          0.3333333333333333,
          0.3333333333333333,
          0.3333333333333333,
          0.3333333333333333,
          0.3333333333333333,
          0.3333333333333333,
          0.3333333333333333,
          0.3333333333333333,
          0.3333333333333333,
          0.3333333333333333,
          0.3333333333333333,
          0.3333333333333333,
          0.3333333333333333,
          0.3333333333333333,
          0.3333333333333333,
          0.3333333333333333,
          0.3333333333333333,
          0.3333333333333333,
          0.3333333333333333,
          0.3333333333333333,
          0.3333333333333333,
          0.3333333333333333,
          0.3333333333333333,
          0.3333333333333333,
          0.3333333333333333,
          0.3333333333333333,
          0.3333333333333333,
          0.3333333333333333,
          0.3333333333333333,
          0.3333333333333333,
          0.3333333333333333,
          0.3333333333333333,
          0.3333333333333333,
          0.3333333333333333,
          0.3333333333333333,
          0.3333333333333333,
          0.3333333333333333,
          0.3333333333333333,
          0.3333333333333333,
          0.3333333333333333,
          0.3333333333333333,
          0.3333333333333333,
          0.3333333333333333,
          0.3333333333333333,
          0.3333333333333333,
          0.3333333333333333,
          0.3333333333333333,
          0.3333333333333333,
          0.3333333333333333,
          0.3333333333333333,
          0.3333333333333333,
          0.3333333333333333,
          0.3333333333333333,
          0.3333333333333333,
          0.3333333333333333,
          0.3333333333333333,
          0.3333333333333333,
          0.3333333333333333,
          0.3333333333333333,
          0.3333333333333333,
          0.3333333333333333,
          0.3333333333333333,
          0.3333333333333333,
          0.3333333333333333,
          0.3333333333333333,
          0.3333333333333333,
          0.3333333333333333,
          0.3333333333333333,
          0.3333333333333333,
          0.3333333333333333,
          0.3333333333333333,
          0.3333333333333333,
          0.3333333333333333,
          0.3333333333333333,
          0.3333333333333333,
          0.3333333333333333,
          0.3333333333333333,
          0.3333333333333333,
          0.3333333333333333,
          0.3333333333333333,
          0.3333333333333333,
          0.3333333333333333,
          0.3333333333333333,
          0.3333333333333333,
          0.3333333333333333,
          0.3333333333333333,
          0.3333333333333333,
          0.3333333333333333,
          0.3333333333333333,
          0.3333333333333333,
          0.3333333333333333,
          0.3333333333333333,
          0.3333333333333333,
          0.3333333333333333,
          0.3333333333333333,
          0.3333333333333333,
          0.3333333333333333,
          0.3333333333333333,
          0.3333333333333333,
          0.3333333333333333,
          0.3333333333333333,
          0.3333333333333333,
          0.3333333333333333,
          0.3333333333333333,
          0.3333333333333333,
          0.3333333333333333,
          0.3333333333333333,
          0.3333333333333333,
          0.3333333333333333,
          0.3333333333333333,
          0.3333333333333333,
          0.3333333333333333,
          0.3333333333333333,
          0.3333333333333333,
          0.3333333333333333,
          0.3333333333333333,
          0.3333333333333333,
          0.3333333333333333,
          0.3333333333333333,
          0.3333333333333333,
          0.3333333333333333,
          0.3333333333333333,
          0.3333333333333333,
          0.3333333333333333,
          0.3333333333333333,
          0.3333333333333333,
          0.3333333333333333,
          0.3333333333333333,
          0.3333333333333333,
          0.3333333333333333,
          0.3333333333333333,
          0.3333333333333333,
          0.3333333333333333,
          0.3333333333333333,
          0.3333333333333333,
          0.3333333333333333,
          0.3333333333333333,
          0.3333333333333333,
          0.3333333333333333,
          0.3333333333333333,
          0.3333333333333333,
          0.3333333333333333,
          0.3333333333333333,
          0.3333333333333333,
          0.3333333333333333,
          0.3333333333333333,
          0.3333333333333333,
          0.3333333333333333,
          0.3333333333333333,
          0.3333333333333333,
          0.3333333333333333,
          0.3333333333333333,
          0.3333333333333333,
          0.3333333333333333,
          0.3333333333333333,
          0.3333333333333333,
          0.3333333333333333,
          0.3333333333333333,
          0.3333333333333333,
          0.3333333333333333,
          0.3333333333333333,
          0.3333333333333333,
          0.3333333333333333,
          0.3333333333333333,
          0.3333333333333333,
          0.3333333333333333,
          0.3333333333333333,
          0.3333333333333333,
          0.3333333333333333,
          0.3333333333333333,
          0.3333333333333333,
          0.3333333333333333,
          0.3333333333333333,
          0.3333333333333333,
          0.3333333333333333,
          0.3333333333333333,
          0.3333333333333333,
          0.3333333333333333,
          0.3333333333333333,
          0.3333333333333333,
          0.3333333333333333,
          0.3333333333333333,
          0.3333333333333333,
          0.3333333333333333,
          0.3333333333333333,
          0.3333333333333333,
          0.3333333333333333,
          0.3333333333333333,
          0.3333333333333333,
          0.3333333333333333,
          0.3333333333333333,
          0.3333333333333333,
          0.3333333333333333,
          0.3333333333333333,
          0.3333333333333333,
          0.3333333333333333,
          0.3333333333333333,
          0.3333333333333333,
          0.3333333333333333,
          0.3333333333333333,
          0.3333333333333333,
          0.3333333333333333,
          0.3333333333333333,
          0.3333333333333333,
          0.3333333333333333,
          0.3333333333333333,
          0.3333333333333333,
          0.3333333333333333,
          0.3333333333333333,
          0.3333333333333333,
          0.3333333333333333,
          0.3333333333333333,
          0.3333333333333333,
          0.3333333333333333,
          0.3333333333333333,
          0.3333333333333333,
          0.3333333333333333,
          0.3333333333333333,
          0.3333333333333333,
          0.3333333333333333,
          0.3333333333333333,
          0.3333333333333333,
          0.3333333333333333,
          0.3333333333333333,
          0.3333333333333333,
          0.3333333333333333,
          0.3333333333333333,
          0.3333333333333333,
          0.3333333333333333,
          0.3333333333333333,
          0.3333333333333333,
          0.3333333333333333,
          0.3333333333333333,
          0.3333333333333333,
          0.3333333333333333,
          0.3333333333333333,
          0.3333333333333333,
          0.3333333333333333,
          0.3333333333333333,
          0.3333333333333333,
          0.3333333333333333
         ],
         "yaxis": "y"
        },
        {
         "fillpattern": {
          "shape": ""
         },
         "hovertemplate": "Feeling=Happy<br>Frame=%{x}<br>Probability=%{y}<extra></extra>",
         "legendgroup": "Happy",
         "line": {
          "color": "#EF553B"
         },
         "marker": {
          "symbol": "circle"
         },
         "mode": "lines",
         "name": "Happy",
         "orientation": "v",
         "showlegend": true,
         "stackgroup": "1",
         "type": "scatter",
         "x": [
          0,
          1,
          41,
          42,
          43,
          44,
          45,
          46,
          47,
          48,
          49,
          50,
          51,
          52,
          53,
          54,
          55,
          56,
          57,
          58,
          59,
          60,
          61,
          62,
          63,
          64,
          65,
          66,
          67,
          68,
          69,
          70,
          71,
          72,
          73,
          74,
          75,
          76,
          77,
          78,
          79,
          80,
          81,
          82,
          83,
          84,
          85,
          86,
          87,
          88,
          89,
          90,
          91,
          92,
          93,
          94,
          95,
          99,
          100,
          101,
          102,
          103,
          104,
          105,
          106,
          107,
          108,
          109,
          119,
          120,
          121,
          122,
          123,
          124,
          125,
          126,
          127,
          128,
          129,
          130,
          131,
          132,
          133,
          134,
          135,
          136,
          137,
          138,
          139,
          140,
          141,
          142,
          143,
          144,
          145,
          146,
          147,
          148,
          150,
          151,
          152,
          153,
          154,
          155,
          156,
          157,
          158,
          159,
          160,
          161,
          162,
          163,
          164,
          165,
          166,
          167,
          168,
          169,
          170,
          171,
          172,
          173,
          174,
          175,
          176,
          177,
          178,
          179,
          180,
          181,
          182,
          183,
          184,
          185,
          186,
          187,
          188,
          189,
          190,
          191,
          192,
          193,
          194,
          195,
          196,
          197,
          198,
          199,
          200,
          201,
          202,
          203,
          204,
          205,
          206,
          207,
          208,
          209,
          210,
          211,
          212,
          213,
          214,
          215,
          216,
          217,
          218,
          219,
          220,
          221,
          222,
          223,
          224,
          225,
          226,
          227,
          228,
          229,
          230,
          231,
          232,
          233,
          234,
          235,
          236,
          237,
          238,
          239,
          240,
          248,
          254,
          255,
          256,
          257,
          258,
          259,
          260,
          261,
          262,
          263,
          264,
          265,
          266,
          267,
          268,
          269,
          270,
          271,
          272,
          273,
          274,
          275,
          276,
          277,
          278,
          279,
          280,
          281,
          282,
          283,
          284,
          285,
          286,
          287,
          288,
          289,
          290,
          291,
          292,
          293,
          294,
          295,
          296,
          297,
          298,
          299,
          300,
          301,
          302,
          303,
          304,
          305,
          306,
          307,
          308,
          309,
          310,
          311,
          312,
          313,
          314,
          315,
          329,
          335,
          336,
          337,
          338,
          339,
          340,
          341,
          342,
          343,
          344,
          345,
          390,
          391,
          393,
          394,
          400,
          431,
          432,
          433,
          434,
          457,
          458,
          519,
          520,
          521,
          522,
          526,
          527,
          836,
          1122,
          1124,
          1140
         ],
         "xaxis": "x",
         "y": [
          0.3333333333333333,
          0.3333333333333333,
          0.3333333333333333,
          0.3333333333333333,
          0.3333333333333333,
          0.3333333333333333,
          0.3333333333333333,
          0.3333333333333333,
          0.3333333333333333,
          0.3333333333333333,
          0.3333333333333333,
          0.3333333333333333,
          0.3333333333333333,
          0.3333333333333333,
          0.3333333333333333,
          0.3333333333333333,
          0.3333333333333333,
          0.3333333333333333,
          0.3333333333333333,
          0.3333333333333333,
          0.3333333333333333,
          0.3333333333333333,
          0.3333333333333333,
          0.3333333333333333,
          0.3333333333333333,
          0.3333333333333333,
          0.3333333333333333,
          0.3333333333333333,
          0.3333333333333333,
          0.3333333333333333,
          0.3333333333333333,
          0.3333333333333333,
          0.3333333333333333,
          0.3333333333333333,
          0.3333333333333333,
          0.3333333333333333,
          0.3333333333333333,
          0.3333333333333333,
          0.3333333333333333,
          0.3333333333333333,
          0.3333333333333333,
          0.3333333333333333,
          0.3333333333333333,
          0.3333333333333333,
          0.3333333333333333,
          0.3333333333333333,
          0.3333333333333333,
          0.3333333333333333,
          0.3333333333333333,
          0.3333333333333333,
          0.3333333333333333,
          0.3333333333333333,
          0.3333333333333333,
          0.3333333333333333,
          0.3333333333333333,
          0.3333333333333333,
          0.3333333333333333,
          0.3333333333333333,
          0.3333333333333333,
          0.3333333333333333,
          0.3333333333333333,
          0.3333333333333333,
          0.3333333333333333,
          0.3333333333333333,
          0.3333333333333333,
          0.3333333333333333,
          0.3333333333333333,
          0.3333333333333333,
          0.3333333333333333,
          0.3333333333333333,
          0.3333333333333333,
          0.3333333333333333,
          0.3333333333333333,
          0.3333333333333333,
          0.3333333333333333,
          0.3333333333333333,
          0.3333333333333333,
          0.3333333333333333,
          0.3333333333333333,
          0.3333333333333333,
          0.3333333333333333,
          0.3333333333333333,
          0.3333333333333333,
          0.3333333333333333,
          0.3333333333333333,
          0.3333333333333333,
          0.3333333333333333,
          0.3333333333333333,
          0.3333333333333333,
          0.3333333333333333,
          0.3333333333333333,
          0.3333333333333333,
          0.3333333333333333,
          0.3333333333333333,
          0.3333333333333333,
          0.3333333333333333,
          0.3333333333333333,
          0.3333333333333333,
          0.3333333333333333,
          0.3333333333333333,
          0.3333333333333333,
          0.3333333333333333,
          0.3333333333333333,
          0.3333333333333333,
          0.3333333333333333,
          0.3333333333333333,
          0.3333333333333333,
          0.3333333333333333,
          0.3333333333333333,
          0.3333333333333333,
          0.3333333333333333,
          0.3333333333333333,
          0.3333333333333333,
          0.3333333333333333,
          0.3333333333333333,
          0.3333333333333333,
          0.3333333333333333,
          0.3333333333333333,
          0.3333333333333333,
          0.3333333333333333,
          0.3333333333333333,
          0.3333333333333333,
          0.3333333333333333,
          0.3333333333333333,
          0.3333333333333333,
          0.3333333333333333,
          0.3333333333333333,
          0.3333333333333333,
          0.3333333333333333,
          0.3333333333333333,
          0.3333333333333333,
          0.3333333333333333,
          0.3333333333333333,
          0.3333333333333333,
          0.3333333333333333,
          0.3333333333333333,
          0.3333333333333333,
          0.3333333333333333,
          0.3333333333333333,
          0.3333333333333333,
          0.3333333333333333,
          0.3333333333333333,
          0.3333333333333333,
          0.3333333333333333,
          0.3333333333333333,
          0.3333333333333333,
          0.3333333333333333,
          0.3333333333333333,
          0.3333333333333333,
          0.3333333333333333,
          0.3333333333333333,
          0.3333333333333333,
          0.3333333333333333,
          0.3333333333333333,
          0.3333333333333333,
          0.3333333333333333,
          0.3333333333333333,
          0.3333333333333333,
          0.3333333333333333,
          0.3333333333333333,
          0.3333333333333333,
          0.3333333333333333,
          0.3333333333333333,
          0.3333333333333333,
          0.3333333333333333,
          0.3333333333333333,
          0.3333333333333333,
          0.3333333333333333,
          0.3333333333333333,
          0.3333333333333333,
          0.3333333333333333,
          0.3333333333333333,
          0.3333333333333333,
          0.3333333333333333,
          0.3333333333333333,
          0.3333333333333333,
          0.3333333333333333,
          0.3333333333333333,
          0.3333333333333333,
          0.3333333333333333,
          0.3333333333333333,
          0.3333333333333333,
          0.3333333333333333,
          0.3333333333333333,
          0.3333333333333333,
          0.3333333333333333,
          0.3333333333333333,
          0.3333333333333333,
          0.3333333333333333,
          0.3333333333333333,
          0.3333333333333333,
          0.3333333333333333,
          0.3333333333333333,
          0.3333333333333333,
          0.3333333333333333,
          0.3333333333333333,
          0.3333333333333333,
          0.3333333333333333,
          0.3333333333333333,
          0.3333333333333333,
          0.3333333333333333,
          0.3333333333333333,
          0.3333333333333333,
          0.3333333333333333,
          0.3333333333333333,
          0.3333333333333333,
          0.3333333333333333,
          0.3333333333333333,
          0.3333333333333333,
          0.3333333333333333,
          0.3333333333333333,
          0.3333333333333333,
          0.3333333333333333,
          0.3333333333333333,
          0.3333333333333333,
          0.3333333333333333,
          0.3333333333333333,
          0.3333333333333333,
          0.3333333333333333,
          0.3333333333333333,
          0.3333333333333333,
          0.3333333333333333,
          0.3333333333333333,
          0.3333333333333333,
          0.3333333333333333,
          0.3333333333333333,
          0.3333333333333333,
          0.3333333333333333,
          0.3333333333333333,
          0.3333333333333333,
          0.3333333333333333,
          0.3333333333333333,
          0.3333333333333333,
          0.3333333333333333,
          0.3333333333333333,
          0.3333333333333333,
          0.3333333333333333,
          0.3333333333333333,
          0.3333333333333333,
          0.3333333333333333,
          0.3333333333333333,
          0.3333333333333333,
          0.3333333333333333,
          0.3333333333333333,
          0.3333333333333333,
          0.3333333333333333,
          0.3333333333333333,
          0.3333333333333333,
          0.3333333333333333,
          0.3333333333333333,
          0.3333333333333333,
          0.3333333333333333,
          0.3333333333333333,
          0.3333333333333333,
          0.3333333333333333,
          0.3333333333333333,
          0.3333333333333333,
          0.3333333333333333,
          0.3333333333333333,
          0.3333333333333333,
          0.3333333333333333,
          0.3333333333333333,
          0.3333333333333333,
          0.3333333333333333,
          0.3333333333333333,
          0.3333333333333333,
          0.3333333333333333,
          0.3333333333333333,
          0.3333333333333333,
          0.3333333333333333,
          0.3333333333333333,
          0.3333333333333333,
          0.3333333333333333,
          0.3333333333333333,
          0.3333333333333333,
          0.3333333333333333,
          0.3333333333333333,
          0.3333333333333333,
          0.3333333333333333,
          0.3333333333333333,
          0.3333333333333333,
          0.3333333333333333,
          0.3333333333333333,
          0.3333333333333333,
          0.3333333333333333
         ],
         "yaxis": "y"
        },
        {
         "fillpattern": {
          "shape": ""
         },
         "hovertemplate": "Feeling=Neutral<br>Frame=%{x}<br>Probability=%{y}<extra></extra>",
         "legendgroup": "Neutral",
         "line": {
          "color": "#00CC96"
         },
         "marker": {
          "symbol": "circle"
         },
         "mode": "lines",
         "name": "Neutral",
         "orientation": "v",
         "showlegend": true,
         "stackgroup": "1",
         "type": "scatter",
         "x": [
          0,
          1,
          2,
          3,
          4,
          5,
          6,
          7,
          13,
          14,
          15,
          16,
          18,
          20,
          21,
          22,
          23,
          24,
          25,
          26,
          27,
          28,
          29,
          30,
          31,
          32,
          33,
          34,
          35,
          36,
          37,
          38,
          39,
          40,
          41,
          42,
          43,
          44,
          45,
          46,
          47,
          48,
          49,
          50,
          51,
          52,
          53,
          54,
          55,
          56,
          57,
          58,
          59,
          60,
          61,
          62,
          63,
          64,
          65,
          66,
          67,
          68,
          69,
          70,
          71,
          72,
          73,
          74,
          75,
          76,
          77,
          78,
          79,
          80,
          81,
          82,
          83,
          84,
          85,
          86,
          87,
          88,
          89,
          90,
          91,
          92,
          93,
          94,
          95,
          96,
          97,
          98,
          99,
          100,
          101,
          102,
          103,
          104,
          105,
          106,
          107,
          108,
          109,
          110,
          111,
          112,
          113,
          114,
          115,
          116,
          117,
          118,
          119,
          120,
          121,
          122,
          123,
          124,
          125,
          126,
          127,
          128,
          129,
          130,
          131,
          132,
          133,
          134,
          135,
          136,
          137,
          138,
          139,
          140,
          141,
          142,
          143,
          144,
          145,
          146,
          147,
          148,
          149,
          150,
          151,
          152,
          153,
          154,
          155,
          156,
          157,
          158,
          159,
          160,
          161,
          162,
          163,
          164,
          165,
          166,
          167,
          168,
          169,
          170,
          171,
          172,
          173,
          174,
          175,
          176,
          177,
          178,
          179,
          180,
          181,
          182,
          183,
          184,
          185,
          186,
          187,
          188,
          189,
          190,
          191,
          192,
          193,
          194,
          195,
          196,
          197,
          198,
          199,
          200,
          201,
          202,
          204,
          205,
          206,
          207,
          208,
          210,
          211,
          215,
          218,
          219,
          220,
          221,
          222,
          223,
          224,
          225,
          226,
          227,
          228,
          230,
          238,
          243,
          245,
          246,
          247,
          249,
          250,
          251,
          252,
          253,
          254,
          255,
          256,
          257,
          258,
          259,
          260,
          261,
          262,
          263,
          264,
          265,
          266,
          267,
          268,
          269,
          270,
          271,
          272,
          273,
          275,
          276,
          277,
          278,
          280,
          283,
          284,
          285,
          286,
          287,
          288,
          289,
          290,
          291,
          292,
          293,
          294,
          295,
          316,
          317,
          318,
          319,
          320,
          321,
          322,
          323,
          337,
          338,
          339,
          340,
          341,
          342,
          343,
          344,
          346,
          347,
          348,
          349,
          365,
          366,
          367,
          368,
          369,
          370,
          371,
          372,
          373,
          374,
          375,
          376,
          377,
          378,
          379,
          381,
          382,
          383,
          384,
          395,
          396,
          397,
          398,
          399,
          400,
          401,
          402,
          412,
          413,
          414,
          415,
          416,
          417,
          418,
          419,
          420,
          423,
          426,
          429,
          431,
          432,
          433,
          434,
          435,
          436,
          437,
          438,
          439,
          440,
          441,
          442,
          443,
          444,
          445,
          446,
          447,
          448,
          449,
          450,
          451,
          452,
          453,
          454,
          455,
          456,
          457,
          458,
          459,
          460,
          461,
          462,
          463,
          464,
          466,
          467,
          468,
          475,
          480,
          481,
          482,
          483,
          484,
          485,
          486,
          487,
          488,
          489,
          490,
          491,
          492,
          493,
          494,
          495,
          496,
          497,
          498,
          499,
          500,
          501,
          502,
          503,
          504,
          505,
          506,
          512,
          513,
          514,
          515,
          516,
          517,
          518,
          519,
          520,
          521,
          522,
          523,
          524,
          526,
          527,
          528,
          529,
          556,
          557,
          558,
          559,
          560,
          561,
          562,
          563,
          564,
          565,
          566,
          585,
          586,
          587,
          589,
          598,
          599,
          600,
          601,
          602,
          603,
          604,
          605,
          606,
          607,
          608,
          609,
          610,
          611,
          612,
          613,
          623,
          624,
          625,
          630,
          631,
          632,
          633,
          648,
          649,
          652,
          661,
          663,
          665,
          666,
          669,
          714,
          726,
          727,
          728,
          729,
          730,
          731,
          732,
          733,
          734,
          735,
          736,
          737,
          811,
          812,
          813,
          814,
          815,
          816,
          817,
          818,
          819,
          820,
          821,
          822,
          823,
          824,
          825,
          826,
          827,
          828,
          829,
          830,
          831,
          832,
          833,
          834,
          835,
          836,
          837,
          883,
          884,
          885,
          886,
          887,
          888,
          889,
          890,
          891,
          892,
          893,
          894,
          895,
          896,
          897,
          898,
          899,
          900,
          901,
          902,
          903,
          904,
          905,
          906,
          907,
          908,
          909,
          911,
          912,
          913,
          915,
          917,
          918,
          920,
          961,
          962,
          963,
          964,
          965,
          966,
          967,
          968,
          969,
          970,
          971,
          972,
          973,
          974,
          975,
          976,
          977,
          978,
          979,
          980,
          981,
          982,
          983,
          984,
          985,
          986,
          987,
          988,
          989,
          990,
          991,
          992,
          993,
          994,
          995,
          996,
          997,
          998,
          999,
          1035,
          1036,
          1037,
          1038,
          1039,
          1040,
          1041,
          1042,
          1043,
          1044,
          1045,
          1046,
          1047,
          1048,
          1049,
          1050,
          1051,
          1052,
          1053,
          1054,
          1055,
          1056,
          1057,
          1058,
          1059,
          1060,
          1061,
          1062,
          1063,
          1064,
          1065,
          1066,
          1067,
          1068,
          1069,
          1070,
          1071,
          1072,
          1073,
          1074,
          1075,
          1076,
          1077,
          1078,
          1081,
          1082,
          1084,
          1085,
          1086,
          1087,
          1091,
          1093,
          1097,
          1103,
          1104,
          1105,
          1106,
          1107,
          1111,
          1112,
          1113,
          1114,
          1115,
          1117,
          1119,
          1120,
          1121,
          1123,
          1125,
          1126,
          1127,
          1129,
          1130,
          1132,
          1133,
          1137,
          1138,
          1139,
          1140
         ],
         "xaxis": "x",
         "y": [
          0.3333333333333333,
          0.3333333333333333,
          0.3333333333333333,
          0.3333333333333333,
          0.3333333333333333,
          0.3333333333333333,
          0.3333333333333333,
          0.3333333333333333,
          0.3333333333333333,
          0.3333333333333333,
          0.3333333333333333,
          0.3333333333333333,
          0.3333333333333333,
          0.3333333333333333,
          0.3333333333333333,
          0.3333333333333333,
          0.3333333333333333,
          0.3333333333333333,
          0.3333333333333333,
          0.3333333333333333,
          0.3333333333333333,
          0.3333333333333333,
          0.3333333333333333,
          0.3333333333333333,
          0.3333333333333333,
          0.3333333333333333,
          0.3333333333333333,
          0.3333333333333333,
          0.3333333333333333,
          0.3333333333333333,
          0.3333333333333333,
          0.3333333333333333,
          0.3333333333333333,
          0.3333333333333333,
          0.3333333333333333,
          0.3333333333333333,
          0.3333333333333333,
          0.3333333333333333,
          0.3333333333333333,
          0.3333333333333333,
          0.3333333333333333,
          0.3333333333333333,
          0.3333333333333333,
          0.3333333333333333,
          0.3333333333333333,
          0.3333333333333333,
          0.3333333333333333,
          0.3333333333333333,
          0.3333333333333333,
          0.3333333333333333,
          0.3333333333333333,
          0.3333333333333333,
          0.3333333333333333,
          0.3333333333333333,
          0.3333333333333333,
          0.3333333333333333,
          0.3333333333333333,
          0.3333333333333333,
          0.3333333333333333,
          0.3333333333333333,
          0.3333333333333333,
          0.3333333333333333,
          0.3333333333333333,
          0.3333333333333333,
          0.3333333333333333,
          0.3333333333333333,
          0.3333333333333333,
          0.3333333333333333,
          0.3333333333333333,
          0.3333333333333333,
          0.3333333333333333,
          0.3333333333333333,
          0.3333333333333333,
          0.3333333333333333,
          0.3333333333333333,
          0.3333333333333333,
          0.3333333333333333,
          0.3333333333333333,
          0.3333333333333333,
          0.3333333333333333,
          0.3333333333333333,
          0.3333333333333333,
          0.3333333333333333,
          0.3333333333333333,
          0.3333333333333333,
          0.3333333333333333,
          0.3333333333333333,
          0.3333333333333333,
          0.3333333333333333,
          0.3333333333333333,
          0.3333333333333333,
          0.3333333333333333,
          0.3333333333333333,
          0.3333333333333333,
          0.3333333333333333,
          0.3333333333333333,
          0.3333333333333333,
          0.3333333333333333,
          0.3333333333333333,
          0.3333333333333333,
          0.3333333333333333,
          0.3333333333333333,
          0.3333333333333333,
          0.3333333333333333,
          0.3333333333333333,
          0.3333333333333333,
          0.3333333333333333,
          0.3333333333333333,
          0.3333333333333333,
          0.3333333333333333,
          0.3333333333333333,
          0.3333333333333333,
          0.3333333333333333,
          0.3333333333333333,
          0.3333333333333333,
          0.3333333333333333,
          0.3333333333333333,
          0.3333333333333333,
          0.3333333333333333,
          0.3333333333333333,
          0.3333333333333333,
          0.3333333333333333,
          0.3333333333333333,
          0.3333333333333333,
          0.3333333333333333,
          0.3333333333333333,
          0.3333333333333333,
          0.3333333333333333,
          0.3333333333333333,
          0.3333333333333333,
          0.3333333333333333,
          0.3333333333333333,
          0.3333333333333333,
          0.3333333333333333,
          0.3333333333333333,
          0.3333333333333333,
          0.3333333333333333,
          0.3333333333333333,
          0.3333333333333333,
          0.3333333333333333,
          0.3333333333333333,
          0.3333333333333333,
          0.3333333333333333,
          0.3333333333333333,
          0.3333333333333333,
          0.3333333333333333,
          0.3333333333333333,
          0.3333333333333333,
          0.3333333333333333,
          0.3333333333333333,
          0.3333333333333333,
          0.3333333333333333,
          0.3333333333333333,
          0.3333333333333333,
          0.3333333333333333,
          0.3333333333333333,
          0.3333333333333333,
          0.3333333333333333,
          0.3333333333333333,
          0.3333333333333333,
          0.3333333333333333,
          0.3333333333333333,
          0.3333333333333333,
          0.3333333333333333,
          0.3333333333333333,
          0.3333333333333333,
          0.3333333333333333,
          0.3333333333333333,
          0.3333333333333333,
          0.3333333333333333,
          0.3333333333333333,
          0.3333333333333333,
          0.3333333333333333,
          0.3333333333333333,
          0.3333333333333333,
          0.3333333333333333,
          0.3333333333333333,
          0.3333333333333333,
          0.3333333333333333,
          0.3333333333333333,
          0.3333333333333333,
          0.3333333333333333,
          0.3333333333333333,
          0.3333333333333333,
          0.3333333333333333,
          0.3333333333333333,
          0.3333333333333333,
          0.3333333333333333,
          0.3333333333333333,
          0.3333333333333333,
          0.3333333333333333,
          0.3333333333333333,
          0.3333333333333333,
          0.3333333333333333,
          0.3333333333333333,
          0.3333333333333333,
          0.3333333333333333,
          0.3333333333333333,
          0.3333333333333333,
          0.3333333333333333,
          0.3333333333333333,
          0.3333333333333333,
          0.3333333333333333,
          0.3333333333333333,
          0.3333333333333333,
          0.3333333333333333,
          0.3333333333333333,
          0.3333333333333333,
          0.3333333333333333,
          0.3333333333333333,
          0.3333333333333333,
          0.3333333333333333,
          0.3333333333333333,
          0.3333333333333333,
          0.3333333333333333,
          0.3333333333333333,
          0.3333333333333333,
          0.3333333333333333,
          0.3333333333333333,
          0.3333333333333333,
          0.3333333333333333,
          0.3333333333333333,
          0.3333333333333333,
          0.3333333333333333,
          0.3333333333333333,
          0.3333333333333333,
          0.3333333333333333,
          0.3333333333333333,
          0.3333333333333333,
          0.3333333333333333,
          0.3333333333333333,
          0.3333333333333333,
          0.3333333333333333,
          0.3333333333333333,
          0.3333333333333333,
          0.3333333333333333,
          0.3333333333333333,
          0.3333333333333333,
          0.3333333333333333,
          0.3333333333333333,
          0.3333333333333333,
          0.3333333333333333,
          0.3333333333333333,
          0.3333333333333333,
          0.3333333333333333,
          0.3333333333333333,
          0.3333333333333333,
          0.3333333333333333,
          0.3333333333333333,
          0.3333333333333333,
          0.3333333333333333,
          0.3333333333333333,
          0.3333333333333333,
          0.3333333333333333,
          0.3333333333333333,
          0.3333333333333333,
          0.3333333333333333,
          0.3333333333333333,
          0.3333333333333333,
          0.3333333333333333,
          0.3333333333333333,
          0.3333333333333333,
          0.3333333333333333,
          0.3333333333333333,
          0.3333333333333333,
          0.3333333333333333,
          0.3333333333333333,
          0.3333333333333333,
          0.3333333333333333,
          0.3333333333333333,
          0.3333333333333333,
          0.3333333333333333,
          0.3333333333333333,
          0.3333333333333333,
          0.3333333333333333,
          0.3333333333333333,
          0.3333333333333333,
          0.3333333333333333,
          0.3333333333333333,
          0.3333333333333333,
          0.3333333333333333,
          0.3333333333333333,
          0.3333333333333333,
          0.3333333333333333,
          0.3333333333333333,
          0.3333333333333333,
          0.3333333333333333,
          0.3333333333333333,
          0.3333333333333333,
          0.3333333333333333,
          0.3333333333333333,
          0.3333333333333333,
          0.3333333333333333,
          0.3333333333333333,
          0.3333333333333333,
          0.3333333333333333,
          0.3333333333333333,
          0.3333333333333333,
          0.3333333333333333,
          0.3333333333333333,
          0.3333333333333333,
          0.3333333333333333,
          0.3333333333333333,
          0.3333333333333333,
          0.3333333333333333,
          0.3333333333333333,
          0.3333333333333333,
          0.3333333333333333,
          0.3333333333333333,
          0.3333333333333333,
          0.3333333333333333,
          0.3333333333333333,
          0.3333333333333333,
          0.3333333333333333,
          0.3333333333333333,
          0.3333333333333333,
          0.3333333333333333,
          0.3333333333333333,
          0.3333333333333333,
          0.3333333333333333,
          0.3333333333333333,
          0.3333333333333333,
          0.3333333333333333,
          0.3333333333333333,
          0.3333333333333333,
          0.3333333333333333,
          0.3333333333333333,
          0.3333333333333333,
          0.3333333333333333,
          0.3333333333333333,
          0.3333333333333333,
          0.3333333333333333,
          0.3333333333333333,
          0.3333333333333333,
          0.3333333333333333,
          0.3333333333333333,
          0.3333333333333333,
          0.3333333333333333,
          0.3333333333333333,
          0.3333333333333333,
          0.3333333333333333,
          0.3333333333333333,
          0.3333333333333333,
          0.3333333333333333,
          0.3333333333333333,
          0.3333333333333333,
          0.3333333333333333,
          0.3333333333333333,
          0.3333333333333333,
          0.3333333333333333,
          0.3333333333333333,
          0.3333333333333333,
          0.3333333333333333,
          0.3333333333333333,
          0.3333333333333333,
          0.3333333333333333,
          0.3333333333333333,
          0.3333333333333333,
          0.3333333333333333,
          0.3333333333333333,
          0.3333333333333333,
          0.3333333333333333,
          0.3333333333333333,
          0.3333333333333333,
          0.3333333333333333,
          0.3333333333333333,
          0.3333333333333333,
          0.3333333333333333,
          0.3333333333333333,
          0.3333333333333333,
          0.3333333333333333,
          0.3333333333333333,
          0.3333333333333333,
          0.3333333333333333,
          0.3333333333333333,
          0.3333333333333333,
          0.3333333333333333,
          0.3333333333333333,
          0.3333333333333333,
          0.3333333333333333,
          0.3333333333333333,
          0.3333333333333333,
          0.3333333333333333,
          0.3333333333333333,
          0.3333333333333333,
          0.3333333333333333,
          0.3333333333333333,
          0.3333333333333333,
          0.3333333333333333,
          0.3333333333333333,
          0.3333333333333333,
          0.3333333333333333,
          0.3333333333333333,
          0.3333333333333333,
          0.3333333333333333,
          0.3333333333333333,
          0.3333333333333333,
          0.3333333333333333,
          0.3333333333333333,
          0.3333333333333333,
          0.3333333333333333,
          0.3333333333333333,
          0.3333333333333333,
          0.3333333333333333,
          0.3333333333333333,
          0.3333333333333333,
          0.3333333333333333,
          0.3333333333333333,
          0.3333333333333333,
          0.3333333333333333,
          0.3333333333333333,
          0.3333333333333333,
          0.3333333333333333,
          0.3333333333333333,
          0.3333333333333333,
          0.3333333333333333,
          0.3333333333333333,
          0.3333333333333333,
          0.3333333333333333,
          0.3333333333333333,
          0.3333333333333333,
          0.3333333333333333,
          0.3333333333333333,
          0.3333333333333333,
          0.3333333333333333,
          0.3333333333333333,
          0.3333333333333333,
          0.3333333333333333,
          0.3333333333333333,
          0.3333333333333333,
          0.3333333333333333,
          0.3333333333333333,
          0.3333333333333333,
          0.3333333333333333,
          0.3333333333333333,
          0.3333333333333333,
          0.3333333333333333,
          0.3333333333333333,
          0.3333333333333333,
          0.3333333333333333,
          0.3333333333333333,
          0.3333333333333333,
          0.3333333333333333,
          0.3333333333333333,
          0.3333333333333333,
          0.3333333333333333,
          0.3333333333333333,
          0.3333333333333333,
          0.3333333333333333,
          0.3333333333333333,
          0.3333333333333333,
          0.3333333333333333,
          0.3333333333333333,
          0.3333333333333333,
          0.3333333333333333,
          0.3333333333333333,
          0.3333333333333333,
          0.3333333333333333,
          0.3333333333333333,
          0.3333333333333333,
          0.3333333333333333,
          0.3333333333333333,
          0.3333333333333333,
          0.3333333333333333,
          0.3333333333333333,
          0.3333333333333333,
          0.3333333333333333,
          0.3333333333333333,
          0.3333333333333333,
          0.3333333333333333,
          0.3333333333333333,
          0.3333333333333333,
          0.3333333333333333,
          0.3333333333333333,
          0.3333333333333333,
          0.3333333333333333,
          0.3333333333333333,
          0.3333333333333333,
          0.3333333333333333,
          0.3333333333333333,
          0.3333333333333333,
          0.3333333333333333,
          0.3333333333333333,
          0.3333333333333333,
          0.3333333333333333,
          0.3333333333333333,
          0.3333333333333333,
          0.3333333333333333,
          0.3333333333333333,
          0.3333333333333333,
          0.3333333333333333,
          0.3333333333333333,
          0.3333333333333333,
          0.3333333333333333,
          0.3333333333333333,
          0.3333333333333333,
          0.3333333333333333,
          0.3333333333333333,
          0.3333333333333333,
          0.3333333333333333,
          0.3333333333333333,
          0.3333333333333333,
          0.3333333333333333,
          0.3333333333333333,
          0.3333333333333333,
          0.3333333333333333,
          0.3333333333333333,
          0.3333333333333333,
          0.3333333333333333,
          0.3333333333333333,
          0.3333333333333333,
          0.3333333333333333,
          0.3333333333333333,
          0.3333333333333333,
          0.3333333333333333,
          0.3333333333333333,
          0.3333333333333333,
          0.3333333333333333,
          0.3333333333333333,
          0.3333333333333333,
          0.3333333333333333,
          0.3333333333333333,
          0.3333333333333333,
          0.3333333333333333,
          0.3333333333333333,
          0.3333333333333333,
          0.3333333333333333,
          0.3333333333333333,
          0.3333333333333333,
          0.3333333333333333,
          0.3333333333333333,
          0.3333333333333333,
          0.3333333333333333,
          0.3333333333333333,
          0.3333333333333333,
          0.3333333333333333,
          0.3333333333333333,
          0.3333333333333333,
          0.3333333333333333,
          0.3333333333333333,
          0.3333333333333333,
          0.3333333333333333,
          0.3333333333333333,
          0.3333333333333333,
          0.3333333333333333,
          0.3333333333333333,
          0.3333333333333333,
          0.3333333333333333,
          0.3333333333333333,
          0.3333333333333333,
          0.3333333333333333,
          0.3333333333333333,
          0.3333333333333333,
          0.3333333333333333,
          0.3333333333333333,
          0.3333333333333333,
          0.3333333333333333,
          0.3333333333333333,
          0.3333333333333333,
          0.3333333333333333,
          0.3333333333333333,
          0.3333333333333333,
          0.3333333333333333,
          0.3333333333333333,
          0.3333333333333333,
          0.3333333333333333,
          0.3333333333333333,
          0.3333333333333333,
          0.3333333333333333,
          0.3333333333333333,
          0.3333333333333333,
          0.3333333333333333,
          0.3333333333333333,
          0.3333333333333333,
          0.3333333333333333,
          0.3333333333333333,
          0.3333333333333333,
          0.3333333333333333,
          0.3333333333333333,
          0.3333333333333333,
          0.3333333333333333,
          0.3333333333333333,
          0.3333333333333333,
          0.3333333333333333,
          0.3333333333333333,
          0.3333333333333333,
          0.3333333333333333,
          0.3333333333333333,
          0.3333333333333333,
          0.3333333333333333,
          0.3333333333333333,
          0.3333333333333333,
          0.3333333333333333,
          0.3333333333333333,
          0.3333333333333333,
          0.3333333333333333,
          0.3333333333333333,
          0.3333333333333333,
          0.3333333333333333,
          0.3333333333333333,
          0.3333333333333333,
          0.3333333333333333,
          0.3333333333333333,
          0.3333333333333333,
          0.3333333333333333,
          0.3333333333333333,
          0.3333333333333333,
          0.3333333333333333,
          0.3333333333333333,
          0.3333333333333333,
          0.3333333333333333,
          0.3333333333333333,
          0.3333333333333333,
          0.3333333333333333,
          0.3333333333333333,
          0.3333333333333333,
          0.3333333333333333,
          0.3333333333333333,
          0.3333333333333333,
          0.3333333333333333,
          0.3333333333333333,
          0.3333333333333333,
          0.3333333333333333,
          0.3333333333333333,
          0.3333333333333333,
          0.3333333333333333,
          0.3333333333333333,
          0.3333333333333333,
          0.3333333333333333,
          0.3333333333333333,
          0.3333333333333333,
          0.3333333333333333,
          0.3333333333333333,
          0.3333333333333333,
          0.3333333333333333,
          0.3333333333333333,
          0.3333333333333333,
          0.3333333333333333,
          0.3333333333333333,
          0.3333333333333333,
          0.3333333333333333,
          0.3333333333333333,
          0.3333333333333333
         ],
         "yaxis": "y"
        },
        {
         "fillpattern": {
          "shape": ""
         },
         "hovertemplate": "Feeling=Sad<br>Frame=%{x}<br>Probability=%{y}<extra></extra>",
         "legendgroup": "Sad",
         "line": {
          "color": "#AB63FA"
         },
         "marker": {
          "symbol": "circle"
         },
         "mode": "lines",
         "name": "Sad",
         "orientation": "v",
         "showlegend": true,
         "stackgroup": "1",
         "type": "scatter",
         "x": [
          2,
          3,
          4,
          5,
          6,
          7,
          8,
          9,
          10,
          11,
          12,
          13,
          14,
          15,
          16,
          17,
          18,
          19,
          20,
          21,
          24,
          25,
          27,
          28,
          29,
          30,
          31,
          32,
          33,
          34,
          35,
          36,
          37,
          38,
          39,
          40,
          78,
          79,
          80,
          81,
          82,
          83,
          85,
          86,
          87,
          96,
          97,
          98,
          110,
          111,
          112,
          113,
          114,
          115,
          116,
          117,
          118,
          120,
          121,
          122,
          123,
          124,
          125,
          126,
          127,
          128,
          129,
          130,
          131,
          132,
          133,
          134,
          135,
          136,
          137,
          138,
          139,
          140,
          141,
          142,
          143,
          144,
          145,
          147,
          148,
          149,
          160,
          175,
          177,
          178,
          179,
          181,
          182,
          183,
          185,
          186,
          187,
          188,
          190,
          191,
          211,
          212,
          241,
          242,
          243,
          244,
          245,
          246,
          247,
          248,
          249,
          250,
          251,
          252,
          253,
          316,
          317,
          318,
          319,
          320,
          321,
          322,
          323,
          324,
          325,
          326,
          327,
          328,
          330,
          331,
          332,
          333,
          334,
          335,
          336,
          337,
          338,
          339,
          340,
          341,
          342,
          343,
          344,
          345,
          346,
          347,
          348,
          349,
          350,
          351,
          352,
          353,
          354,
          355,
          356,
          357,
          358,
          359,
          360,
          361,
          362,
          363,
          364,
          365,
          366,
          367,
          368,
          369,
          370,
          371,
          372,
          373,
          374,
          375,
          376,
          377,
          378,
          379,
          380,
          381,
          382,
          383,
          384,
          403,
          404,
          405,
          406,
          407,
          408,
          409,
          410,
          411,
          412,
          413,
          414,
          416,
          420,
          421,
          422,
          423,
          424,
          425,
          427,
          428,
          429,
          430,
          435,
          436,
          437,
          438,
          439,
          440,
          441,
          442,
          443,
          444,
          445,
          446,
          447,
          459,
          460,
          461,
          462,
          463,
          465,
          468,
          469,
          470,
          471,
          472,
          473,
          474,
          475,
          476,
          477,
          478,
          479,
          480,
          481,
          482,
          483,
          484,
          485,
          486,
          487,
          488,
          489,
          490,
          491,
          492,
          493,
          494,
          495,
          496,
          497,
          498,
          507,
          508,
          509,
          510,
          511,
          512,
          513,
          514,
          517,
          518,
          519,
          520,
          521,
          523,
          528,
          529,
          530,
          531,
          532,
          533,
          534,
          535,
          536,
          537,
          538,
          539,
          540,
          541,
          542,
          543,
          544,
          545,
          546,
          547,
          548,
          549,
          550,
          551,
          552,
          553,
          554,
          555,
          556,
          557,
          558,
          559,
          560,
          561,
          562,
          563,
          564,
          565,
          566,
          567,
          568,
          569,
          570,
          571,
          572,
          573,
          574,
          575,
          576,
          577,
          578,
          579,
          580,
          581,
          582,
          583,
          584,
          585,
          586,
          587,
          588,
          589,
          590,
          591,
          592,
          593,
          594,
          595,
          596,
          597,
          598,
          606,
          607,
          608,
          609,
          610,
          611,
          612,
          613,
          614,
          615,
          616,
          617,
          618,
          619,
          620,
          621,
          622,
          623,
          624,
          625,
          626,
          627,
          628,
          629,
          630,
          631,
          632,
          633,
          634,
          635,
          636,
          637,
          638,
          639,
          640,
          641,
          642,
          643,
          644,
          645,
          646,
          647,
          648,
          649,
          650,
          651,
          652,
          653,
          654,
          655,
          656,
          657,
          658,
          659,
          660,
          662,
          663,
          664,
          665,
          666,
          667,
          668,
          669,
          670,
          671,
          672,
          673,
          674,
          675,
          676,
          677,
          678,
          679,
          680,
          681,
          682,
          683,
          684,
          685,
          686,
          687,
          688,
          689,
          690,
          691,
          692,
          693,
          694,
          695,
          696,
          697,
          698,
          699,
          700,
          701,
          702,
          703,
          704,
          705,
          706,
          707,
          708,
          709,
          710,
          711,
          712,
          713,
          714,
          715,
          716,
          717,
          718,
          719,
          720,
          721,
          722,
          723,
          724,
          725,
          726,
          727,
          728,
          729,
          730,
          731,
          732,
          733,
          734,
          735,
          736,
          737,
          738,
          739,
          740,
          741,
          742,
          743,
          744,
          745,
          746,
          747,
          748,
          749,
          750,
          751,
          752,
          753,
          754,
          755,
          756,
          757,
          758,
          759,
          760,
          761,
          762,
          763,
          764,
          765,
          766,
          767,
          768,
          769,
          770,
          771,
          772,
          773,
          774,
          775,
          776,
          777,
          778,
          779,
          780,
          781,
          782,
          783,
          784,
          785,
          786,
          787,
          788,
          789,
          790,
          791,
          792,
          793,
          794,
          795,
          796,
          797,
          798,
          799,
          800,
          801,
          802,
          803,
          804,
          805,
          806,
          807,
          808,
          809,
          810,
          811,
          812,
          813,
          814,
          815,
          816,
          817,
          818,
          819,
          820,
          821,
          822,
          823,
          824,
          825,
          826,
          827,
          828,
          829,
          830,
          831,
          832,
          833,
          834,
          835,
          836,
          837,
          838,
          839,
          840,
          841,
          842,
          843,
          844,
          845,
          846,
          847,
          848,
          849,
          850,
          851,
          852,
          853,
          854,
          855,
          856,
          857,
          858,
          859,
          860,
          861,
          862,
          863,
          864,
          865,
          866,
          867,
          868,
          869,
          870,
          871,
          872,
          873,
          874,
          875,
          876,
          877,
          878,
          879,
          880,
          881,
          882,
          883,
          884,
          885,
          886,
          887,
          888,
          889,
          890,
          891,
          892,
          893,
          894,
          895,
          896,
          897,
          898,
          899,
          900,
          901,
          902,
          903,
          904,
          905,
          906,
          907,
          908,
          909,
          910,
          911,
          912,
          913,
          914,
          915,
          916,
          917,
          918,
          919,
          920,
          921,
          922,
          923,
          924,
          925,
          926,
          927,
          928,
          929,
          930,
          931,
          932,
          933,
          934,
          935,
          936,
          937,
          938,
          939,
          940,
          941,
          942,
          943,
          944,
          945,
          946,
          947,
          948,
          949,
          950,
          951,
          952,
          953,
          954,
          955,
          956,
          957,
          958,
          959,
          960,
          961,
          962,
          963,
          964,
          965,
          966,
          967,
          968,
          969,
          970,
          971,
          972,
          973,
          974,
          975,
          976,
          977,
          978,
          979,
          980,
          981,
          982,
          983,
          984,
          985,
          986,
          987,
          988,
          989,
          990,
          991,
          992,
          993,
          994,
          995,
          996,
          997,
          998,
          999,
          1000,
          1001,
          1002,
          1003,
          1004,
          1005,
          1006,
          1007,
          1008,
          1009,
          1010,
          1011,
          1012,
          1013,
          1014,
          1015,
          1016,
          1017,
          1018,
          1019,
          1020,
          1021,
          1022,
          1023,
          1024,
          1025,
          1026,
          1027,
          1028,
          1029,
          1030,
          1031,
          1032,
          1033,
          1034,
          1035,
          1036,
          1037,
          1045,
          1047,
          1048,
          1049,
          1050,
          1051,
          1052,
          1053,
          1054,
          1055,
          1056,
          1057,
          1058,
          1059,
          1060,
          1061,
          1062,
          1063,
          1064,
          1065,
          1066,
          1067,
          1068,
          1069,
          1070,
          1071,
          1072,
          1073,
          1074,
          1075,
          1076,
          1077,
          1078,
          1079,
          1080,
          1081,
          1082,
          1083,
          1084,
          1085,
          1086,
          1087,
          1088,
          1089,
          1090,
          1091,
          1092,
          1093,
          1094,
          1095,
          1096,
          1097,
          1098,
          1099,
          1100,
          1101,
          1102,
          1103,
          1104,
          1105,
          1106,
          1107,
          1108,
          1109,
          1110,
          1111,
          1112,
          1113,
          1114,
          1115,
          1116,
          1117,
          1118,
          1119,
          1120,
          1121,
          1122,
          1123,
          1124,
          1125,
          1126,
          1127,
          1128,
          1129,
          1130,
          1131,
          1132,
          1133,
          1134,
          1135,
          1136,
          1137,
          1138,
          1139
         ],
         "xaxis": "x",
         "y": [
          0.3333333333333333,
          0.3333333333333333,
          0.3333333333333333,
          0.3333333333333333,
          0.3333333333333333,
          0.3333333333333333,
          0.3333333333333333,
          0.3333333333333333,
          0.3333333333333333,
          0.3333333333333333,
          0.3333333333333333,
          0.3333333333333333,
          0.3333333333333333,
          0.3333333333333333,
          0.3333333333333333,
          0.3333333333333333,
          0.3333333333333333,
          0.3333333333333333,
          0.3333333333333333,
          0.3333333333333333,
          0.3333333333333333,
          0.3333333333333333,
          0.3333333333333333,
          0.3333333333333333,
          0.3333333333333333,
          0.3333333333333333,
          0.3333333333333333,
          0.3333333333333333,
          0.3333333333333333,
          0.3333333333333333,
          0.3333333333333333,
          0.3333333333333333,
          0.3333333333333333,
          0.3333333333333333,
          0.3333333333333333,
          0.3333333333333333,
          0.3333333333333333,
          0.3333333333333333,
          0.3333333333333333,
          0.3333333333333333,
          0.3333333333333333,
          0.3333333333333333,
          0.3333333333333333,
          0.3333333333333333,
          0.3333333333333333,
          0.3333333333333333,
          0.3333333333333333,
          0.3333333333333333,
          0.3333333333333333,
          0.3333333333333333,
          0.3333333333333333,
          0.3333333333333333,
          0.3333333333333333,
          0.3333333333333333,
          0.3333333333333333,
          0.3333333333333333,
          0.3333333333333333,
          0.3333333333333333,
          0.3333333333333333,
          0.3333333333333333,
          0.3333333333333333,
          0.3333333333333333,
          0.3333333333333333,
          0.3333333333333333,
          0.3333333333333333,
          0.3333333333333333,
          0.3333333333333333,
          0.3333333333333333,
          0.3333333333333333,
          0.3333333333333333,
          0.3333333333333333,
          0.3333333333333333,
          0.3333333333333333,
          0.3333333333333333,
          0.3333333333333333,
          0.3333333333333333,
          0.3333333333333333,
          0.3333333333333333,
          0.3333333333333333,
          0.3333333333333333,
          0.3333333333333333,
          0.3333333333333333,
          0.3333333333333333,
          0.3333333333333333,
          0.3333333333333333,
          0.3333333333333333,
          0.3333333333333333,
          0.3333333333333333,
          0.3333333333333333,
          0.3333333333333333,
          0.3333333333333333,
          0.3333333333333333,
          0.3333333333333333,
          0.3333333333333333,
          0.3333333333333333,
          0.3333333333333333,
          0.3333333333333333,
          0.3333333333333333,
          0.3333333333333333,
          0.3333333333333333,
          0.3333333333333333,
          0.3333333333333333,
          0.3333333333333333,
          0.3333333333333333,
          0.3333333333333333,
          0.3333333333333333,
          0.3333333333333333,
          0.3333333333333333,
          0.3333333333333333,
          0.3333333333333333,
          0.3333333333333333,
          0.3333333333333333,
          0.3333333333333333,
          0.3333333333333333,
          0.3333333333333333,
          0.3333333333333333,
          0.3333333333333333,
          0.3333333333333333,
          0.3333333333333333,
          0.3333333333333333,
          0.3333333333333333,
          0.3333333333333333,
          0.3333333333333333,
          0.3333333333333333,
          0.3333333333333333,
          0.3333333333333333,
          0.3333333333333333,
          0.3333333333333333,
          0.3333333333333333,
          0.3333333333333333,
          0.3333333333333333,
          0.3333333333333333,
          0.3333333333333333,
          0.3333333333333333,
          0.3333333333333333,
          0.3333333333333333,
          0.3333333333333333,
          0.3333333333333333,
          0.3333333333333333,
          0.3333333333333333,
          0.3333333333333333,
          0.3333333333333333,
          0.3333333333333333,
          0.3333333333333333,
          0.3333333333333333,
          0.3333333333333333,
          0.3333333333333333,
          0.3333333333333333,
          0.3333333333333333,
          0.3333333333333333,
          0.3333333333333333,
          0.3333333333333333,
          0.3333333333333333,
          0.3333333333333333,
          0.3333333333333333,
          0.3333333333333333,
          0.3333333333333333,
          0.3333333333333333,
          0.3333333333333333,
          0.3333333333333333,
          0.3333333333333333,
          0.3333333333333333,
          0.3333333333333333,
          0.3333333333333333,
          0.3333333333333333,
          0.3333333333333333,
          0.3333333333333333,
          0.3333333333333333,
          0.3333333333333333,
          0.3333333333333333,
          0.3333333333333333,
          0.3333333333333333,
          0.3333333333333333,
          0.3333333333333333,
          0.3333333333333333,
          0.3333333333333333,
          0.3333333333333333,
          0.3333333333333333,
          0.3333333333333333,
          0.3333333333333333,
          0.3333333333333333,
          0.3333333333333333,
          0.3333333333333333,
          0.3333333333333333,
          0.3333333333333333,
          0.3333333333333333,
          0.3333333333333333,
          0.3333333333333333,
          0.3333333333333333,
          0.3333333333333333,
          0.3333333333333333,
          0.3333333333333333,
          0.3333333333333333,
          0.3333333333333333,
          0.3333333333333333,
          0.3333333333333333,
          0.3333333333333333,
          0.3333333333333333,
          0.3333333333333333,
          0.3333333333333333,
          0.3333333333333333,
          0.3333333333333333,
          0.3333333333333333,
          0.3333333333333333,
          0.3333333333333333,
          0.3333333333333333,
          0.3333333333333333,
          0.3333333333333333,
          0.3333333333333333,
          0.3333333333333333,
          0.3333333333333333,
          0.3333333333333333,
          0.3333333333333333,
          0.3333333333333333,
          0.3333333333333333,
          0.3333333333333333,
          0.3333333333333333,
          0.3333333333333333,
          0.3333333333333333,
          0.3333333333333333,
          0.3333333333333333,
          0.3333333333333333,
          0.3333333333333333,
          0.3333333333333333,
          0.3333333333333333,
          0.3333333333333333,
          0.3333333333333333,
          0.3333333333333333,
          0.3333333333333333,
          0.3333333333333333,
          0.3333333333333333,
          0.3333333333333333,
          0.3333333333333333,
          0.3333333333333333,
          0.3333333333333333,
          0.3333333333333333,
          0.3333333333333333,
          0.3333333333333333,
          0.3333333333333333,
          0.3333333333333333,
          0.3333333333333333,
          0.3333333333333333,
          0.3333333333333333,
          0.3333333333333333,
          0.3333333333333333,
          0.3333333333333333,
          0.3333333333333333,
          0.3333333333333333,
          0.3333333333333333,
          0.3333333333333333,
          0.3333333333333333,
          0.3333333333333333,
          0.3333333333333333,
          0.3333333333333333,
          0.3333333333333333,
          0.3333333333333333,
          0.3333333333333333,
          0.3333333333333333,
          0.3333333333333333,
          0.3333333333333333,
          0.3333333333333333,
          0.3333333333333333,
          0.3333333333333333,
          0.3333333333333333,
          0.3333333333333333,
          0.3333333333333333,
          0.3333333333333333,
          0.3333333333333333,
          0.3333333333333333,
          0.3333333333333333,
          0.3333333333333333,
          0.3333333333333333,
          0.3333333333333333,
          0.3333333333333333,
          0.3333333333333333,
          0.3333333333333333,
          0.3333333333333333,
          0.3333333333333333,
          0.3333333333333333,
          0.3333333333333333,
          0.3333333333333333,
          0.3333333333333333,
          0.3333333333333333,
          0.3333333333333333,
          0.3333333333333333,
          0.3333333333333333,
          0.3333333333333333,
          0.3333333333333333,
          0.3333333333333333,
          0.3333333333333333,
          0.3333333333333333,
          0.3333333333333333,
          0.3333333333333333,
          0.3333333333333333,
          0.3333333333333333,
          0.3333333333333333,
          0.3333333333333333,
          0.3333333333333333,
          0.3333333333333333,
          0.3333333333333333,
          0.3333333333333333,
          0.3333333333333333,
          0.3333333333333333,
          0.3333333333333333,
          0.3333333333333333,
          0.3333333333333333,
          0.3333333333333333,
          0.3333333333333333,
          0.3333333333333333,
          0.3333333333333333,
          0.3333333333333333,
          0.3333333333333333,
          0.3333333333333333,
          0.3333333333333333,
          0.3333333333333333,
          0.3333333333333333,
          0.3333333333333333,
          0.3333333333333333,
          0.3333333333333333,
          0.3333333333333333,
          0.3333333333333333,
          0.3333333333333333,
          0.3333333333333333,
          0.3333333333333333,
          0.3333333333333333,
          0.3333333333333333,
          0.3333333333333333,
          0.3333333333333333,
          0.3333333333333333,
          0.3333333333333333,
          0.3333333333333333,
          0.3333333333333333,
          0.3333333333333333,
          0.3333333333333333,
          0.3333333333333333,
          0.3333333333333333,
          0.3333333333333333,
          0.3333333333333333,
          0.3333333333333333,
          0.3333333333333333,
          0.3333333333333333,
          0.3333333333333333,
          0.3333333333333333,
          0.3333333333333333,
          0.3333333333333333,
          0.3333333333333333,
          0.3333333333333333,
          0.3333333333333333,
          0.3333333333333333,
          0.3333333333333333,
          0.3333333333333333,
          0.3333333333333333,
          0.3333333333333333,
          0.3333333333333333,
          0.3333333333333333,
          0.3333333333333333,
          0.3333333333333333,
          0.3333333333333333,
          0.3333333333333333,
          0.3333333333333333,
          0.3333333333333333,
          0.3333333333333333,
          0.3333333333333333,
          0.3333333333333333,
          0.3333333333333333,
          0.3333333333333333,
          0.3333333333333333,
          0.3333333333333333,
          0.3333333333333333,
          0.3333333333333333,
          0.3333333333333333,
          0.3333333333333333,
          0.3333333333333333,
          0.3333333333333333,
          0.3333333333333333,
          0.3333333333333333,
          0.3333333333333333,
          0.3333333333333333,
          0.3333333333333333,
          0.3333333333333333,
          0.3333333333333333,
          0.3333333333333333,
          0.3333333333333333,
          0.3333333333333333,
          0.3333333333333333,
          0.3333333333333333,
          0.3333333333333333,
          0.3333333333333333,
          0.3333333333333333,
          0.3333333333333333,
          0.3333333333333333,
          0.3333333333333333,
          0.3333333333333333,
          0.3333333333333333,
          0.3333333333333333,
          0.3333333333333333,
          0.3333333333333333,
          0.3333333333333333,
          0.3333333333333333,
          0.3333333333333333,
          0.3333333333333333,
          0.3333333333333333,
          0.3333333333333333,
          0.3333333333333333,
          0.3333333333333333,
          0.3333333333333333,
          0.3333333333333333,
          0.3333333333333333,
          0.3333333333333333,
          0.3333333333333333,
          0.3333333333333333,
          0.3333333333333333,
          0.3333333333333333,
          0.3333333333333333,
          0.3333333333333333,
          0.3333333333333333,
          0.3333333333333333,
          0.3333333333333333,
          0.3333333333333333,
          0.3333333333333333,
          0.3333333333333333,
          0.3333333333333333,
          0.3333333333333333,
          0.3333333333333333,
          0.3333333333333333,
          0.3333333333333333,
          0.3333333333333333,
          0.3333333333333333,
          0.3333333333333333,
          0.3333333333333333,
          0.3333333333333333,
          0.3333333333333333,
          0.3333333333333333,
          0.3333333333333333,
          0.3333333333333333,
          0.3333333333333333,
          0.3333333333333333,
          0.3333333333333333,
          0.3333333333333333,
          0.3333333333333333,
          0.3333333333333333,
          0.3333333333333333,
          0.3333333333333333,
          0.3333333333333333,
          0.3333333333333333,
          0.3333333333333333,
          0.3333333333333333,
          0.3333333333333333,
          0.3333333333333333,
          0.3333333333333333,
          0.3333333333333333,
          0.3333333333333333,
          0.3333333333333333,
          0.3333333333333333,
          0.3333333333333333,
          0.3333333333333333,
          0.3333333333333333,
          0.3333333333333333,
          0.3333333333333333,
          0.3333333333333333,
          0.3333333333333333,
          0.3333333333333333,
          0.3333333333333333,
          0.3333333333333333,
          0.3333333333333333,
          0.3333333333333333,
          0.3333333333333333,
          0.3333333333333333,
          0.3333333333333333,
          0.3333333333333333,
          0.3333333333333333,
          0.3333333333333333,
          0.3333333333333333,
          0.3333333333333333,
          0.3333333333333333,
          0.3333333333333333,
          0.3333333333333333,
          0.3333333333333333,
          0.3333333333333333,
          0.3333333333333333,
          0.3333333333333333,
          0.3333333333333333,
          0.3333333333333333,
          0.3333333333333333,
          0.3333333333333333,
          0.3333333333333333,
          0.3333333333333333,
          0.3333333333333333,
          0.3333333333333333,
          0.3333333333333333,
          0.3333333333333333,
          0.3333333333333333,
          0.3333333333333333,
          0.3333333333333333,
          0.3333333333333333,
          0.3333333333333333,
          0.3333333333333333,
          0.3333333333333333,
          0.3333333333333333,
          0.3333333333333333,
          0.3333333333333333,
          0.3333333333333333,
          0.3333333333333333,
          0.3333333333333333,
          0.3333333333333333,
          0.3333333333333333,
          0.3333333333333333,
          0.3333333333333333,
          0.3333333333333333,
          0.3333333333333333,
          0.3333333333333333,
          0.3333333333333333,
          0.3333333333333333,
          0.3333333333333333,
          0.3333333333333333,
          0.3333333333333333,
          0.3333333333333333,
          0.3333333333333333,
          0.3333333333333333,
          0.3333333333333333,
          0.3333333333333333,
          0.3333333333333333,
          0.3333333333333333,
          0.3333333333333333,
          0.3333333333333333,
          0.3333333333333333,
          0.3333333333333333,
          0.3333333333333333,
          0.3333333333333333,
          0.3333333333333333,
          0.3333333333333333,
          0.3333333333333333,
          0.3333333333333333,
          0.3333333333333333,
          0.3333333333333333,
          0.3333333333333333,
          0.3333333333333333,
          0.3333333333333333,
          0.3333333333333333,
          0.3333333333333333,
          0.3333333333333333,
          0.3333333333333333,
          0.3333333333333333,
          0.3333333333333333,
          0.3333333333333333,
          0.3333333333333333,
          0.3333333333333333,
          0.3333333333333333,
          0.3333333333333333,
          0.3333333333333333,
          0.3333333333333333,
          0.3333333333333333,
          0.3333333333333333,
          0.3333333333333333,
          0.3333333333333333,
          0.3333333333333333,
          0.3333333333333333,
          0.3333333333333333,
          0.3333333333333333,
          0.3333333333333333,
          0.3333333333333333,
          0.3333333333333333,
          0.3333333333333333,
          0.3333333333333333,
          0.3333333333333333,
          0.3333333333333333,
          0.3333333333333333,
          0.3333333333333333,
          0.3333333333333333,
          0.3333333333333333,
          0.3333333333333333,
          0.3333333333333333,
          0.3333333333333333,
          0.3333333333333333,
          0.3333333333333333,
          0.3333333333333333,
          0.3333333333333333,
          0.3333333333333333,
          0.3333333333333333,
          0.3333333333333333,
          0.3333333333333333,
          0.3333333333333333,
          0.3333333333333333,
          0.3333333333333333,
          0.3333333333333333,
          0.3333333333333333,
          0.3333333333333333,
          0.3333333333333333,
          0.3333333333333333,
          0.3333333333333333,
          0.3333333333333333,
          0.3333333333333333,
          0.3333333333333333,
          0.3333333333333333,
          0.3333333333333333,
          0.3333333333333333,
          0.3333333333333333,
          0.3333333333333333,
          0.3333333333333333,
          0.3333333333333333,
          0.3333333333333333,
          0.3333333333333333,
          0.3333333333333333,
          0.3333333333333333,
          0.3333333333333333,
          0.3333333333333333,
          0.3333333333333333,
          0.3333333333333333,
          0.3333333333333333,
          0.3333333333333333,
          0.3333333333333333,
          0.3333333333333333,
          0.3333333333333333,
          0.3333333333333333,
          0.3333333333333333,
          0.3333333333333333,
          0.3333333333333333,
          0.3333333333333333,
          0.3333333333333333,
          0.3333333333333333,
          0.3333333333333333,
          0.3333333333333333,
          0.3333333333333333,
          0.3333333333333333,
          0.3333333333333333,
          0.3333333333333333,
          0.3333333333333333,
          0.3333333333333333,
          0.3333333333333333,
          0.3333333333333333,
          0.3333333333333333,
          0.3333333333333333,
          0.3333333333333333,
          0.3333333333333333,
          0.3333333333333333,
          0.3333333333333333,
          0.3333333333333333,
          0.3333333333333333,
          0.3333333333333333,
          0.3333333333333333,
          0.3333333333333333,
          0.3333333333333333,
          0.3333333333333333,
          0.3333333333333333,
          0.3333333333333333,
          0.3333333333333333,
          0.3333333333333333,
          0.3333333333333333,
          0.3333333333333333,
          0.3333333333333333,
          0.3333333333333333,
          0.3333333333333333,
          0.3333333333333333,
          0.3333333333333333,
          0.3333333333333333,
          0.3333333333333333,
          0.3333333333333333,
          0.3333333333333333,
          0.3333333333333333,
          0.3333333333333333,
          0.3333333333333333,
          0.3333333333333333,
          0.3333333333333333,
          0.3333333333333333,
          0.3333333333333333,
          0.3333333333333333,
          0.3333333333333333,
          0.3333333333333333,
          0.3333333333333333,
          0.3333333333333333,
          0.3333333333333333,
          0.3333333333333333,
          0.3333333333333333,
          0.3333333333333333,
          0.3333333333333333,
          0.3333333333333333,
          0.3333333333333333,
          0.3333333333333333,
          0.3333333333333333,
          0.3333333333333333,
          0.3333333333333333,
          0.3333333333333333,
          0.3333333333333333,
          0.3333333333333333,
          0.3333333333333333,
          0.3333333333333333,
          0.3333333333333333,
          0.3333333333333333,
          0.3333333333333333,
          0.3333333333333333,
          0.3333333333333333,
          0.3333333333333333,
          0.3333333333333333,
          0.3333333333333333,
          0.3333333333333333,
          0.3333333333333333,
          0.3333333333333333,
          0.3333333333333333,
          0.3333333333333333,
          0.3333333333333333,
          0.3333333333333333,
          0.3333333333333333,
          0.3333333333333333,
          0.3333333333333333,
          0.3333333333333333,
          0.3333333333333333,
          0.3333333333333333,
          0.3333333333333333,
          0.3333333333333333,
          0.3333333333333333,
          0.3333333333333333,
          0.3333333333333333,
          0.3333333333333333,
          0.3333333333333333,
          0.3333333333333333,
          0.3333333333333333,
          0.3333333333333333,
          0.3333333333333333,
          0.3333333333333333,
          0.3333333333333333,
          0.3333333333333333,
          0.3333333333333333,
          0.3333333333333333,
          0.3333333333333333,
          0.3333333333333333,
          0.3333333333333333,
          0.3333333333333333,
          0.3333333333333333,
          0.3333333333333333,
          0.3333333333333333,
          0.3333333333333333,
          0.3333333333333333,
          0.3333333333333333,
          0.3333333333333333,
          0.3333333333333333,
          0.3333333333333333,
          0.3333333333333333,
          0.3333333333333333,
          0.3333333333333333,
          0.3333333333333333,
          0.3333333333333333,
          0.3333333333333333,
          0.3333333333333333,
          0.3333333333333333,
          0.3333333333333333,
          0.3333333333333333,
          0.3333333333333333,
          0.3333333333333333,
          0.3333333333333333,
          0.3333333333333333,
          0.3333333333333333,
          0.3333333333333333,
          0.3333333333333333,
          0.3333333333333333,
          0.3333333333333333,
          0.3333333333333333,
          0.3333333333333333,
          0.3333333333333333,
          0.3333333333333333,
          0.3333333333333333,
          0.3333333333333333,
          0.3333333333333333,
          0.3333333333333333,
          0.3333333333333333,
          0.3333333333333333,
          0.3333333333333333,
          0.3333333333333333,
          0.3333333333333333,
          0.3333333333333333,
          0.3333333333333333,
          0.3333333333333333,
          0.3333333333333333,
          0.3333333333333333,
          0.3333333333333333,
          0.3333333333333333,
          0.3333333333333333,
          0.3333333333333333,
          0.3333333333333333,
          0.3333333333333333,
          0.3333333333333333,
          0.3333333333333333,
          0.3333333333333333,
          0.3333333333333333,
          0.3333333333333333,
          0.3333333333333333,
          0.3333333333333333,
          0.3333333333333333,
          0.3333333333333333,
          0.3333333333333333,
          0.3333333333333333,
          0.3333333333333333,
          0.3333333333333333,
          0.3333333333333333,
          0.3333333333333333,
          0.3333333333333333,
          0.3333333333333333,
          0.3333333333333333,
          0.3333333333333333,
          0.3333333333333333,
          0.3333333333333333,
          0.3333333333333333,
          0.3333333333333333,
          0.3333333333333333,
          0.3333333333333333,
          0.3333333333333333,
          0.3333333333333333,
          0.3333333333333333,
          0.3333333333333333,
          0.3333333333333333,
          0.3333333333333333,
          0.3333333333333333,
          0.3333333333333333,
          0.3333333333333333,
          0.3333333333333333,
          0.3333333333333333,
          0.3333333333333333,
          0.3333333333333333,
          0.3333333333333333,
          0.3333333333333333,
          0.3333333333333333,
          0.3333333333333333,
          0.3333333333333333,
          0.3333333333333333,
          0.3333333333333333,
          0.3333333333333333,
          0.3333333333333333,
          0.3333333333333333,
          0.3333333333333333,
          0.3333333333333333,
          0.3333333333333333,
          0.3333333333333333,
          0.3333333333333333,
          0.3333333333333333,
          0.3333333333333333,
          0.3333333333333333,
          0.3333333333333333,
          0.3333333333333333,
          0.3333333333333333,
          0.3333333333333333,
          0.3333333333333333,
          0.3333333333333333,
          0.3333333333333333,
          0.3333333333333333,
          0.3333333333333333,
          0.3333333333333333,
          0.3333333333333333,
          0.3333333333333333,
          0.3333333333333333,
          0.3333333333333333,
          0.3333333333333333,
          0.3333333333333333,
          0.3333333333333333,
          0.3333333333333333,
          0.3333333333333333,
          0.3333333333333333,
          0.3333333333333333,
          0.3333333333333333,
          0.3333333333333333,
          0.3333333333333333,
          0.3333333333333333,
          0.3333333333333333,
          0.3333333333333333,
          0.3333333333333333,
          0.3333333333333333,
          0.3333333333333333,
          0.3333333333333333
         ],
         "yaxis": "y"
        },
        {
         "fillpattern": {
          "shape": ""
         },
         "hovertemplate": "Feeling=Angry<br>Frame=%{x}<br>Probability=%{y}<extra></extra>",
         "legendgroup": "Angry",
         "line": {
          "color": "#FFA15A"
         },
         "marker": {
          "symbol": "circle"
         },
         "mode": "lines",
         "name": "Angry",
         "orientation": "v",
         "showlegend": true,
         "stackgroup": "1",
         "type": "scatter",
         "x": [
          8,
          9,
          10,
          11,
          12,
          17,
          19,
          22,
          23,
          26,
          60,
          61,
          84,
          88,
          89,
          90,
          91,
          92,
          93,
          94,
          95,
          113,
          114,
          119,
          149,
          150,
          151,
          152,
          153,
          154,
          155,
          156,
          157,
          158,
          159,
          161,
          162,
          163,
          164,
          165,
          166,
          167,
          168,
          169,
          170,
          171,
          172,
          173,
          174,
          203,
          206,
          208,
          209,
          210,
          213,
          214,
          216,
          217,
          220,
          221,
          222,
          223,
          224,
          225,
          226,
          227,
          229,
          241,
          242,
          243,
          244,
          245,
          246,
          247,
          248,
          249,
          250,
          251,
          252,
          253,
          254,
          255,
          256,
          257,
          258,
          260,
          261,
          262,
          263,
          264,
          265,
          266,
          267,
          268,
          274,
          279,
          281,
          282,
          283,
          284,
          296,
          297,
          298,
          299,
          300,
          301,
          302,
          303,
          304,
          305,
          306,
          307,
          308,
          309,
          310,
          311,
          312,
          313,
          314,
          315,
          316,
          317,
          318,
          319,
          320,
          323,
          324,
          325,
          326,
          327,
          328,
          329,
          330,
          331,
          332,
          333,
          334,
          350,
          351,
          353,
          354,
          355,
          356,
          357,
          359,
          360,
          361,
          362,
          363,
          364,
          365,
          366,
          370,
          371,
          372,
          380,
          385,
          386,
          387,
          388,
          389,
          390,
          391,
          392,
          395,
          396,
          397,
          398,
          399,
          400,
          401,
          402,
          403,
          404,
          405,
          406,
          407,
          408,
          409,
          410,
          411,
          421,
          422,
          424,
          425,
          426,
          427,
          428,
          435,
          437,
          438,
          439,
          440,
          441,
          442,
          443,
          444,
          445,
          446,
          447,
          468,
          469,
          470,
          471,
          472,
          473,
          474,
          476,
          477,
          478,
          479,
          481,
          482,
          483,
          484,
          485,
          486,
          487,
          488,
          489,
          490,
          491,
          492,
          493,
          494,
          495,
          496,
          507,
          508,
          509,
          510,
          511,
          512,
          513,
          514,
          515,
          516,
          517,
          518,
          522,
          523,
          524,
          525,
          526,
          527,
          528,
          529,
          530,
          531,
          532,
          533,
          534,
          535,
          536,
          537,
          538,
          539,
          540,
          541,
          542,
          543,
          544,
          545,
          546,
          547,
          548,
          549,
          550,
          551,
          552,
          553,
          554,
          555,
          556,
          557,
          558,
          559,
          560,
          561,
          562,
          563,
          564,
          565,
          566,
          567,
          568,
          569,
          570,
          571,
          572,
          573,
          574,
          575,
          576,
          577,
          578,
          579,
          580,
          581,
          582,
          584,
          588,
          590,
          591,
          592,
          593,
          594,
          595,
          596,
          597,
          599,
          600,
          601,
          602,
          603,
          604,
          605,
          606,
          607,
          608,
          609,
          610,
          611,
          612,
          613,
          614,
          615,
          616,
          617,
          618,
          619,
          620,
          621,
          622,
          626,
          627,
          628,
          629,
          631,
          634,
          635,
          636,
          637,
          638,
          639,
          640,
          641,
          642,
          643,
          644,
          645,
          646,
          647,
          649,
          650,
          651,
          652,
          653,
          654,
          655,
          656,
          657,
          658,
          659,
          660,
          661,
          662,
          663,
          664,
          667,
          668,
          670,
          672,
          673,
          674,
          675,
          676,
          677,
          678,
          679,
          681,
          683,
          684,
          685,
          686,
          687,
          688,
          689,
          690,
          691,
          692,
          693,
          694,
          695,
          696,
          697,
          698,
          699,
          700,
          701,
          702,
          703,
          704,
          705,
          706,
          707,
          708,
          709,
          710,
          711,
          712,
          713,
          714,
          715,
          716,
          717,
          718,
          719,
          720,
          721,
          722,
          723,
          724,
          725,
          726,
          727,
          728,
          729,
          730,
          732,
          733,
          734,
          735,
          736,
          737,
          738,
          739,
          740,
          741,
          742,
          743,
          744,
          745,
          746,
          747,
          748,
          749,
          750,
          751,
          752,
          753,
          754,
          755,
          756,
          757,
          758,
          759,
          760,
          761,
          762,
          763,
          764,
          765,
          766,
          767,
          768,
          769,
          770,
          771,
          772,
          773,
          774,
          775,
          776,
          777,
          778,
          779,
          780,
          781,
          782,
          783,
          784,
          785,
          786,
          787,
          788,
          789,
          790,
          791,
          792,
          793,
          794,
          795,
          796,
          797,
          798,
          799,
          800,
          801,
          802,
          803,
          804,
          805,
          807,
          834,
          842,
          844,
          845,
          846,
          847,
          848,
          849,
          851,
          852,
          853,
          854,
          855,
          856,
          857,
          868,
          869,
          870,
          874,
          880,
          881,
          882,
          910,
          914,
          916,
          919,
          921,
          922,
          923,
          924,
          925,
          926,
          927,
          928,
          929,
          930,
          931,
          932,
          933,
          934,
          935,
          936,
          937,
          938,
          939,
          940,
          941,
          942,
          943,
          944,
          945,
          946,
          947,
          948,
          949,
          950,
          951,
          952,
          953,
          954,
          955,
          956,
          957,
          958,
          959,
          960,
          1000,
          1004,
          1007,
          1008,
          1009,
          1010,
          1011,
          1012,
          1013,
          1014,
          1015,
          1017,
          1019,
          1020,
          1023,
          1026,
          1028,
          1029,
          1031,
          1032,
          1033,
          1034,
          1079,
          1080,
          1083,
          1088,
          1092,
          1095,
          1096,
          1098,
          1099,
          1100,
          1101,
          1102,
          1108,
          1109,
          1110,
          1116,
          1118,
          1128,
          1131,
          1134,
          1135,
          1136
         ],
         "xaxis": "x",
         "y": [
          0.3333333333333333,
          0.3333333333333333,
          0.3333333333333333,
          0.3333333333333333,
          0.3333333333333333,
          0.3333333333333333,
          0.3333333333333333,
          0.3333333333333333,
          0.3333333333333333,
          0.3333333333333333,
          0.3333333333333333,
          0.3333333333333333,
          0.3333333333333333,
          0.3333333333333333,
          0.3333333333333333,
          0.3333333333333333,
          0.3333333333333333,
          0.3333333333333333,
          0.3333333333333333,
          0.3333333333333333,
          0.3333333333333333,
          0.3333333333333333,
          0.3333333333333333,
          0.3333333333333333,
          0.3333333333333333,
          0.3333333333333333,
          0.3333333333333333,
          0.3333333333333333,
          0.3333333333333333,
          0.3333333333333333,
          0.3333333333333333,
          0.3333333333333333,
          0.3333333333333333,
          0.3333333333333333,
          0.3333333333333333,
          0.3333333333333333,
          0.3333333333333333,
          0.3333333333333333,
          0.3333333333333333,
          0.3333333333333333,
          0.3333333333333333,
          0.3333333333333333,
          0.3333333333333333,
          0.3333333333333333,
          0.3333333333333333,
          0.3333333333333333,
          0.3333333333333333,
          0.3333333333333333,
          0.3333333333333333,
          0.3333333333333333,
          0.3333333333333333,
          0.3333333333333333,
          0.3333333333333333,
          0.3333333333333333,
          0.3333333333333333,
          0.3333333333333333,
          0.3333333333333333,
          0.3333333333333333,
          0.3333333333333333,
          0.3333333333333333,
          0.3333333333333333,
          0.3333333333333333,
          0.3333333333333333,
          0.3333333333333333,
          0.3333333333333333,
          0.3333333333333333,
          0.3333333333333333,
          0.3333333333333333,
          0.3333333333333333,
          0.3333333333333333,
          0.3333333333333333,
          0.3333333333333333,
          0.3333333333333333,
          0.3333333333333333,
          0.3333333333333333,
          0.3333333333333333,
          0.3333333333333333,
          0.3333333333333333,
          0.3333333333333333,
          0.3333333333333333,
          0.3333333333333333,
          0.3333333333333333,
          0.3333333333333333,
          0.3333333333333333,
          0.3333333333333333,
          0.3333333333333333,
          0.3333333333333333,
          0.3333333333333333,
          0.3333333333333333,
          0.3333333333333333,
          0.3333333333333333,
          0.3333333333333333,
          0.3333333333333333,
          0.3333333333333333,
          0.3333333333333333,
          0.3333333333333333,
          0.3333333333333333,
          0.3333333333333333,
          0.3333333333333333,
          0.3333333333333333,
          0.3333333333333333,
          0.3333333333333333,
          0.3333333333333333,
          0.3333333333333333,
          0.3333333333333333,
          0.3333333333333333,
          0.3333333333333333,
          0.3333333333333333,
          0.3333333333333333,
          0.3333333333333333,
          0.3333333333333333,
          0.3333333333333333,
          0.3333333333333333,
          0.3333333333333333,
          0.3333333333333333,
          0.3333333333333333,
          0.3333333333333333,
          0.3333333333333333,
          0.3333333333333333,
          0.3333333333333333,
          0.3333333333333333,
          0.3333333333333333,
          0.3333333333333333,
          0.3333333333333333,
          0.3333333333333333,
          0.3333333333333333,
          0.3333333333333333,
          0.3333333333333333,
          0.3333333333333333,
          0.3333333333333333,
          0.3333333333333333,
          0.3333333333333333,
          0.3333333333333333,
          0.3333333333333333,
          0.3333333333333333,
          0.3333333333333333,
          0.3333333333333333,
          0.3333333333333333,
          0.3333333333333333,
          0.3333333333333333,
          0.3333333333333333,
          0.3333333333333333,
          0.3333333333333333,
          0.3333333333333333,
          0.3333333333333333,
          0.3333333333333333,
          0.3333333333333333,
          0.3333333333333333,
          0.3333333333333333,
          0.3333333333333333,
          0.3333333333333333,
          0.3333333333333333,
          0.3333333333333333,
          0.3333333333333333,
          0.3333333333333333,
          0.3333333333333333,
          0.3333333333333333,
          0.3333333333333333,
          0.3333333333333333,
          0.3333333333333333,
          0.3333333333333333,
          0.3333333333333333,
          0.3333333333333333,
          0.3333333333333333,
          0.3333333333333333,
          0.3333333333333333,
          0.3333333333333333,
          0.3333333333333333,
          0.3333333333333333,
          0.3333333333333333,
          0.3333333333333333,
          0.3333333333333333,
          0.3333333333333333,
          0.3333333333333333,
          0.3333333333333333,
          0.3333333333333333,
          0.3333333333333333,
          0.3333333333333333,
          0.3333333333333333,
          0.3333333333333333,
          0.3333333333333333,
          0.3333333333333333,
          0.3333333333333333,
          0.3333333333333333,
          0.3333333333333333,
          0.3333333333333333,
          0.3333333333333333,
          0.3333333333333333,
          0.3333333333333333,
          0.3333333333333333,
          0.3333333333333333,
          0.3333333333333333,
          0.3333333333333333,
          0.3333333333333333,
          0.3333333333333333,
          0.3333333333333333,
          0.3333333333333333,
          0.3333333333333333,
          0.3333333333333333,
          0.3333333333333333,
          0.3333333333333333,
          0.3333333333333333,
          0.3333333333333333,
          0.3333333333333333,
          0.3333333333333333,
          0.3333333333333333,
          0.3333333333333333,
          0.3333333333333333,
          0.3333333333333333,
          0.3333333333333333,
          0.3333333333333333,
          0.3333333333333333,
          0.3333333333333333,
          0.3333333333333333,
          0.3333333333333333,
          0.3333333333333333,
          0.3333333333333333,
          0.3333333333333333,
          0.3333333333333333,
          0.3333333333333333,
          0.3333333333333333,
          0.3333333333333333,
          0.3333333333333333,
          0.3333333333333333,
          0.3333333333333333,
          0.3333333333333333,
          0.3333333333333333,
          0.3333333333333333,
          0.3333333333333333,
          0.3333333333333333,
          0.3333333333333333,
          0.3333333333333333,
          0.3333333333333333,
          0.3333333333333333,
          0.3333333333333333,
          0.3333333333333333,
          0.3333333333333333,
          0.3333333333333333,
          0.3333333333333333,
          0.3333333333333333,
          0.3333333333333333,
          0.3333333333333333,
          0.3333333333333333,
          0.3333333333333333,
          0.3333333333333333,
          0.3333333333333333,
          0.3333333333333333,
          0.3333333333333333,
          0.3333333333333333,
          0.3333333333333333,
          0.3333333333333333,
          0.3333333333333333,
          0.3333333333333333,
          0.3333333333333333,
          0.3333333333333333,
          0.3333333333333333,
          0.3333333333333333,
          0.3333333333333333,
          0.3333333333333333,
          0.3333333333333333,
          0.3333333333333333,
          0.3333333333333333,
          0.3333333333333333,
          0.3333333333333333,
          0.3333333333333333,
          0.3333333333333333,
          0.3333333333333333,
          0.3333333333333333,
          0.3333333333333333,
          0.3333333333333333,
          0.3333333333333333,
          0.3333333333333333,
          0.3333333333333333,
          0.3333333333333333,
          0.3333333333333333,
          0.3333333333333333,
          0.3333333333333333,
          0.3333333333333333,
          0.3333333333333333,
          0.3333333333333333,
          0.3333333333333333,
          0.3333333333333333,
          0.3333333333333333,
          0.3333333333333333,
          0.3333333333333333,
          0.3333333333333333,
          0.3333333333333333,
          0.3333333333333333,
          0.3333333333333333,
          0.3333333333333333,
          0.3333333333333333,
          0.3333333333333333,
          0.3333333333333333,
          0.3333333333333333,
          0.3333333333333333,
          0.3333333333333333,
          0.3333333333333333,
          0.3333333333333333,
          0.3333333333333333,
          0.3333333333333333,
          0.3333333333333333,
          0.3333333333333333,
          0.3333333333333333,
          0.3333333333333333,
          0.3333333333333333,
          0.3333333333333333,
          0.3333333333333333,
          0.3333333333333333,
          0.3333333333333333,
          0.3333333333333333,
          0.3333333333333333,
          0.3333333333333333,
          0.3333333333333333,
          0.3333333333333333,
          0.3333333333333333,
          0.3333333333333333,
          0.3333333333333333,
          0.3333333333333333,
          0.3333333333333333,
          0.3333333333333333,
          0.3333333333333333,
          0.3333333333333333,
          0.3333333333333333,
          0.3333333333333333,
          0.3333333333333333,
          0.3333333333333333,
          0.3333333333333333,
          0.3333333333333333,
          0.3333333333333333,
          0.3333333333333333,
          0.3333333333333333,
          0.3333333333333333,
          0.3333333333333333,
          0.3333333333333333,
          0.3333333333333333,
          0.3333333333333333,
          0.3333333333333333,
          0.3333333333333333,
          0.3333333333333333,
          0.3333333333333333,
          0.3333333333333333,
          0.3333333333333333,
          0.3333333333333333,
          0.3333333333333333,
          0.3333333333333333,
          0.3333333333333333,
          0.3333333333333333,
          0.3333333333333333,
          0.3333333333333333,
          0.3333333333333333,
          0.3333333333333333,
          0.3333333333333333,
          0.3333333333333333,
          0.3333333333333333,
          0.3333333333333333,
          0.3333333333333333,
          0.3333333333333333,
          0.3333333333333333,
          0.3333333333333333,
          0.3333333333333333,
          0.3333333333333333,
          0.3333333333333333,
          0.3333333333333333,
          0.3333333333333333,
          0.3333333333333333,
          0.3333333333333333,
          0.3333333333333333,
          0.3333333333333333,
          0.3333333333333333,
          0.3333333333333333,
          0.3333333333333333,
          0.3333333333333333,
          0.3333333333333333,
          0.3333333333333333,
          0.3333333333333333,
          0.3333333333333333,
          0.3333333333333333,
          0.3333333333333333,
          0.3333333333333333,
          0.3333333333333333,
          0.3333333333333333,
          0.3333333333333333,
          0.3333333333333333,
          0.3333333333333333,
          0.3333333333333333,
          0.3333333333333333,
          0.3333333333333333,
          0.3333333333333333,
          0.3333333333333333,
          0.3333333333333333,
          0.3333333333333333,
          0.3333333333333333,
          0.3333333333333333,
          0.3333333333333333,
          0.3333333333333333,
          0.3333333333333333,
          0.3333333333333333,
          0.3333333333333333,
          0.3333333333333333,
          0.3333333333333333,
          0.3333333333333333,
          0.3333333333333333,
          0.3333333333333333,
          0.3333333333333333,
          0.3333333333333333,
          0.3333333333333333,
          0.3333333333333333,
          0.3333333333333333,
          0.3333333333333333,
          0.3333333333333333,
          0.3333333333333333,
          0.3333333333333333,
          0.3333333333333333,
          0.3333333333333333,
          0.3333333333333333,
          0.3333333333333333,
          0.3333333333333333,
          0.3333333333333333,
          0.3333333333333333,
          0.3333333333333333,
          0.3333333333333333,
          0.3333333333333333,
          0.3333333333333333,
          0.3333333333333333,
          0.3333333333333333,
          0.3333333333333333,
          0.3333333333333333,
          0.3333333333333333,
          0.3333333333333333,
          0.3333333333333333,
          0.3333333333333333,
          0.3333333333333333,
          0.3333333333333333,
          0.3333333333333333,
          0.3333333333333333,
          0.3333333333333333,
          0.3333333333333333,
          0.3333333333333333,
          0.3333333333333333,
          0.3333333333333333,
          0.3333333333333333,
          0.3333333333333333,
          0.3333333333333333,
          0.3333333333333333,
          0.3333333333333333,
          0.3333333333333333,
          0.3333333333333333,
          0.3333333333333333,
          0.3333333333333333,
          0.3333333333333333,
          0.3333333333333333,
          0.3333333333333333,
          0.3333333333333333,
          0.3333333333333333,
          0.3333333333333333,
          0.3333333333333333,
          0.3333333333333333,
          0.3333333333333333,
          0.3333333333333333,
          0.3333333333333333,
          0.3333333333333333,
          0.3333333333333333,
          0.3333333333333333,
          0.3333333333333333,
          0.3333333333333333,
          0.3333333333333333,
          0.3333333333333333,
          0.3333333333333333,
          0.3333333333333333,
          0.3333333333333333,
          0.3333333333333333,
          0.3333333333333333,
          0.3333333333333333,
          0.3333333333333333,
          0.3333333333333333,
          0.3333333333333333,
          0.3333333333333333,
          0.3333333333333333,
          0.3333333333333333,
          0.3333333333333333,
          0.3333333333333333,
          0.3333333333333333,
          0.3333333333333333,
          0.3333333333333333,
          0.3333333333333333,
          0.3333333333333333,
          0.3333333333333333,
          0.3333333333333333,
          0.3333333333333333,
          0.3333333333333333,
          0.3333333333333333,
          0.3333333333333333,
          0.3333333333333333,
          0.3333333333333333,
          0.3333333333333333,
          0.3333333333333333,
          0.3333333333333333,
          0.3333333333333333,
          0.3333333333333333,
          0.3333333333333333,
          0.3333333333333333,
          0.3333333333333333,
          0.3333333333333333,
          0.3333333333333333,
          0.3333333333333333,
          0.3333333333333333,
          0.3333333333333333,
          0.3333333333333333,
          0.3333333333333333,
          0.3333333333333333,
          0.3333333333333333,
          0.3333333333333333,
          0.3333333333333333,
          0.3333333333333333,
          0.3333333333333333,
          0.3333333333333333,
          0.3333333333333333,
          0.3333333333333333,
          0.3333333333333333,
          0.3333333333333333,
          0.3333333333333333,
          0.3333333333333333,
          0.3333333333333333,
          0.3333333333333333,
          0.3333333333333333,
          0.3333333333333333,
          0.3333333333333333,
          0.3333333333333333,
          0.3333333333333333,
          0.3333333333333333,
          0.3333333333333333,
          0.3333333333333333,
          0.3333333333333333,
          0.3333333333333333,
          0.3333333333333333,
          0.3333333333333333,
          0.3333333333333333,
          0.3333333333333333,
          0.3333333333333333,
          0.3333333333333333,
          0.3333333333333333,
          0.3333333333333333,
          0.3333333333333333,
          0.3333333333333333,
          0.3333333333333333,
          0.3333333333333333,
          0.3333333333333333,
          0.3333333333333333,
          0.3333333333333333,
          0.3333333333333333,
          0.3333333333333333,
          0.3333333333333333,
          0.3333333333333333,
          0.3333333333333333,
          0.3333333333333333,
          0.3333333333333333,
          0.3333333333333333,
          0.3333333333333333,
          0.3333333333333333,
          0.3333333333333333,
          0.3333333333333333,
          0.3333333333333333,
          0.3333333333333333,
          0.3333333333333333,
          0.3333333333333333,
          0.3333333333333333,
          0.3333333333333333,
          0.3333333333333333,
          0.3333333333333333,
          0.3333333333333333,
          0.3333333333333333,
          0.3333333333333333,
          0.3333333333333333,
          0.3333333333333333,
          0.3333333333333333,
          0.3333333333333333,
          0.3333333333333333,
          0.3333333333333333,
          0.3333333333333333,
          0.3333333333333333,
          0.3333333333333333,
          0.3333333333333333,
          0.3333333333333333,
          0.3333333333333333,
          0.3333333333333333,
          0.3333333333333333,
          0.3333333333333333,
          0.3333333333333333,
          0.3333333333333333,
          0.3333333333333333,
          0.3333333333333333,
          0.3333333333333333,
          0.3333333333333333,
          0.3333333333333333,
          0.3333333333333333,
          0.3333333333333333,
          0.3333333333333333,
          0.3333333333333333,
          0.3333333333333333,
          0.3333333333333333,
          0.3333333333333333,
          0.3333333333333333,
          0.3333333333333333,
          0.3333333333333333,
          0.3333333333333333,
          0.3333333333333333,
          0.3333333333333333,
          0.3333333333333333,
          0.3333333333333333,
          0.3333333333333333,
          0.3333333333333333,
          0.3333333333333333,
          0.3333333333333333,
          0.3333333333333333
         ],
         "yaxis": "y"
        },
        {
         "fillpattern": {
          "shape": ""
         },
         "hovertemplate": "Feeling=Surprise<br>Frame=%{x}<br>Probability=%{y}<extra></extra>",
         "legendgroup": "Surprise",
         "line": {
          "color": "#19D3F3"
         },
         "marker": {
          "symbol": "circle"
         },
         "mode": "lines",
         "name": "Surprise",
         "orientation": "v",
         "showlegend": true,
         "stackgroup": "1",
         "type": "scatter",
         "x": [
          64,
          180,
          184,
          189,
          192,
          193,
          214,
          215,
          216,
          217,
          218,
          219,
          228,
          229,
          230,
          231,
          232,
          233,
          234,
          235,
          236,
          237,
          238,
          239,
          240,
          241,
          269,
          270,
          271,
          272,
          273,
          274,
          275,
          276,
          277,
          278,
          279,
          280,
          281,
          282,
          285,
          286,
          287,
          288,
          289,
          290,
          291,
          292,
          294,
          295,
          296,
          297,
          298,
          299,
          300,
          301,
          302,
          303,
          304,
          305,
          306,
          308,
          309,
          310,
          311,
          312,
          313,
          314,
          315,
          349,
          350,
          351,
          352,
          353,
          354,
          355,
          356,
          357,
          358,
          359,
          360,
          361,
          362,
          363,
          364,
          385,
          386,
          387,
          388,
          389,
          392,
          393,
          394,
          415,
          416,
          417,
          418,
          419,
          430,
          448,
          449,
          450,
          451,
          452,
          453,
          454,
          455,
          456,
          457,
          458,
          464,
          465,
          466,
          467,
          499,
          500,
          501,
          502,
          503,
          504,
          505,
          506,
          508,
          509,
          510,
          511,
          515,
          516,
          525,
          548,
          549,
          550,
          552,
          553,
          555,
          671,
          680,
          682,
          795,
          796,
          798,
          799,
          802,
          804,
          806,
          808,
          809,
          810,
          838,
          839,
          840,
          841,
          843,
          850,
          858,
          859,
          860,
          861,
          862,
          863,
          864,
          865,
          866,
          867,
          871,
          872,
          873,
          875,
          876,
          877,
          878,
          879,
          1001,
          1002,
          1003,
          1005,
          1006,
          1016,
          1018,
          1021,
          1022,
          1024,
          1025,
          1027,
          1030,
          1038,
          1039,
          1040,
          1041,
          1042,
          1043,
          1044,
          1046,
          1089,
          1090,
          1094
         ],
         "xaxis": "x",
         "y": [
          0.3333333333333333,
          0.3333333333333333,
          0.3333333333333333,
          0.3333333333333333,
          0.3333333333333333,
          0.3333333333333333,
          0.3333333333333333,
          0.3333333333333333,
          0.3333333333333333,
          0.3333333333333333,
          0.3333333333333333,
          0.3333333333333333,
          0.3333333333333333,
          0.3333333333333333,
          0.3333333333333333,
          0.3333333333333333,
          0.3333333333333333,
          0.3333333333333333,
          0.3333333333333333,
          0.3333333333333333,
          0.3333333333333333,
          0.3333333333333333,
          0.3333333333333333,
          0.3333333333333333,
          0.3333333333333333,
          0.3333333333333333,
          0.3333333333333333,
          0.3333333333333333,
          0.3333333333333333,
          0.3333333333333333,
          0.3333333333333333,
          0.3333333333333333,
          0.3333333333333333,
          0.3333333333333333,
          0.3333333333333333,
          0.3333333333333333,
          0.3333333333333333,
          0.3333333333333333,
          0.3333333333333333,
          0.3333333333333333,
          0.3333333333333333,
          0.3333333333333333,
          0.3333333333333333,
          0.3333333333333333,
          0.3333333333333333,
          0.3333333333333333,
          0.3333333333333333,
          0.3333333333333333,
          0.3333333333333333,
          0.3333333333333333,
          0.3333333333333333,
          0.3333333333333333,
          0.3333333333333333,
          0.3333333333333333,
          0.3333333333333333,
          0.3333333333333333,
          0.3333333333333333,
          0.3333333333333333,
          0.3333333333333333,
          0.3333333333333333,
          0.3333333333333333,
          0.3333333333333333,
          0.3333333333333333,
          0.3333333333333333,
          0.3333333333333333,
          0.3333333333333333,
          0.3333333333333333,
          0.3333333333333333,
          0.3333333333333333,
          0.3333333333333333,
          0.3333333333333333,
          0.3333333333333333,
          0.3333333333333333,
          0.3333333333333333,
          0.3333333333333333,
          0.3333333333333333,
          0.3333333333333333,
          0.3333333333333333,
          0.3333333333333333,
          0.3333333333333333,
          0.3333333333333333,
          0.3333333333333333,
          0.3333333333333333,
          0.3333333333333333,
          0.3333333333333333,
          0.3333333333333333,
          0.3333333333333333,
          0.3333333333333333,
          0.3333333333333333,
          0.3333333333333333,
          0.3333333333333333,
          0.3333333333333333,
          0.3333333333333333,
          0.3333333333333333,
          0.3333333333333333,
          0.3333333333333333,
          0.3333333333333333,
          0.3333333333333333,
          0.3333333333333333,
          0.3333333333333333,
          0.3333333333333333,
          0.3333333333333333,
          0.3333333333333333,
          0.3333333333333333,
          0.3333333333333333,
          0.3333333333333333,
          0.3333333333333333,
          0.3333333333333333,
          0.3333333333333333,
          0.3333333333333333,
          0.3333333333333333,
          0.3333333333333333,
          0.3333333333333333,
          0.3333333333333333,
          0.3333333333333333,
          0.3333333333333333,
          0.3333333333333333,
          0.3333333333333333,
          0.3333333333333333,
          0.3333333333333333,
          0.3333333333333333,
          0.3333333333333333,
          0.3333333333333333,
          0.3333333333333333,
          0.3333333333333333,
          0.3333333333333333,
          0.3333333333333333,
          0.3333333333333333,
          0.3333333333333333,
          0.3333333333333333,
          0.3333333333333333,
          0.3333333333333333,
          0.3333333333333333,
          0.3333333333333333,
          0.3333333333333333,
          0.3333333333333333,
          0.3333333333333333,
          0.3333333333333333,
          0.3333333333333333,
          0.3333333333333333,
          0.3333333333333333,
          0.3333333333333333,
          0.3333333333333333,
          0.3333333333333333,
          0.3333333333333333,
          0.3333333333333333,
          0.3333333333333333,
          0.3333333333333333,
          0.3333333333333333,
          0.3333333333333333,
          0.3333333333333333,
          0.3333333333333333,
          0.3333333333333333,
          0.3333333333333333,
          0.3333333333333333,
          0.3333333333333333,
          0.3333333333333333,
          0.3333333333333333,
          0.3333333333333333,
          0.3333333333333333,
          0.3333333333333333,
          0.3333333333333333,
          0.3333333333333333,
          0.3333333333333333,
          0.3333333333333333,
          0.3333333333333333,
          0.3333333333333333,
          0.3333333333333333,
          0.3333333333333333,
          0.3333333333333333,
          0.3333333333333333,
          0.3333333333333333,
          0.3333333333333333,
          0.3333333333333333,
          0.3333333333333333,
          0.3333333333333333,
          0.3333333333333333,
          0.3333333333333333,
          0.3333333333333333,
          0.3333333333333333,
          0.3333333333333333,
          0.3333333333333333,
          0.3333333333333333,
          0.3333333333333333,
          0.3333333333333333,
          0.3333333333333333,
          0.3333333333333333,
          0.3333333333333333,
          0.3333333333333333,
          0.3333333333333333,
          0.3333333333333333,
          0.3333333333333333,
          0.3333333333333333,
          0.3333333333333333,
          0.3333333333333333,
          0.3333333333333333
         ],
         "yaxis": "y"
        },
        {
         "fillpattern": {
          "shape": ""
         },
         "hovertemplate": "Feeling=Disgust<br>Frame=%{x}<br>Probability=%{y}<extra></extra>",
         "legendgroup": "Disgust",
         "line": {
          "color": "#FF6692"
         },
         "marker": {
          "symbol": "circle"
         },
         "mode": "lines",
         "name": "Disgust",
         "orientation": "v",
         "showlegend": true,
         "stackgroup": "1",
         "type": "scatter",
         "x": [
          530,
          544,
          545,
          546,
          547,
          551,
          583,
          633,
          634,
          635,
          636,
          637,
          638,
          639,
          640,
          641,
          642,
          643,
          644,
          645,
          646,
          647,
          744
         ],
         "xaxis": "x",
         "y": [
          0.3333333333333333,
          0.3333333333333333,
          0.3333333333333333,
          0.3333333333333333,
          0.3333333333333333,
          0.3333333333333333,
          0.3333333333333333,
          0.3333333333333333,
          0.3333333333333333,
          0.3333333333333333,
          0.3333333333333333,
          0.3333333333333333,
          0.3333333333333333,
          0.3333333333333333,
          0.3333333333333333,
          0.3333333333333333,
          0.3333333333333333,
          0.3333333333333333,
          0.3333333333333333,
          0.3333333333333333,
          0.3333333333333333,
          0.3333333333333333,
          0.3333333333333333
         ],
         "yaxis": "y"
        }
       ],
       "layout": {
        "legend": {
         "title": {
          "text": "Feeling"
         },
         "tracegroupgap": 0
        },
        "template": {
         "data": {
          "bar": [
           {
            "error_x": {
             "color": "#2a3f5f"
            },
            "error_y": {
             "color": "#2a3f5f"
            },
            "marker": {
             "line": {
              "color": "#E5ECF6",
              "width": 0.5
             },
             "pattern": {
              "fillmode": "overlay",
              "size": 10,
              "solidity": 0.2
             }
            },
            "type": "bar"
           }
          ],
          "barpolar": [
           {
            "marker": {
             "line": {
              "color": "#E5ECF6",
              "width": 0.5
             },
             "pattern": {
              "fillmode": "overlay",
              "size": 10,
              "solidity": 0.2
             }
            },
            "type": "barpolar"
           }
          ],
          "carpet": [
           {
            "aaxis": {
             "endlinecolor": "#2a3f5f",
             "gridcolor": "white",
             "linecolor": "white",
             "minorgridcolor": "white",
             "startlinecolor": "#2a3f5f"
            },
            "baxis": {
             "endlinecolor": "#2a3f5f",
             "gridcolor": "white",
             "linecolor": "white",
             "minorgridcolor": "white",
             "startlinecolor": "#2a3f5f"
            },
            "type": "carpet"
           }
          ],
          "choropleth": [
           {
            "colorbar": {
             "outlinewidth": 0,
             "ticks": ""
            },
            "type": "choropleth"
           }
          ],
          "contour": [
           {
            "colorbar": {
             "outlinewidth": 0,
             "ticks": ""
            },
            "colorscale": [
             [
              0,
              "#0d0887"
             ],
             [
              0.1111111111111111,
              "#46039f"
             ],
             [
              0.2222222222222222,
              "#7201a8"
             ],
             [
              0.3333333333333333,
              "#9c179e"
             ],
             [
              0.4444444444444444,
              "#bd3786"
             ],
             [
              0.5555555555555556,
              "#d8576b"
             ],
             [
              0.6666666666666666,
              "#ed7953"
             ],
             [
              0.7777777777777778,
              "#fb9f3a"
             ],
             [
              0.8888888888888888,
              "#fdca26"
             ],
             [
              1,
              "#f0f921"
             ]
            ],
            "type": "contour"
           }
          ],
          "contourcarpet": [
           {
            "colorbar": {
             "outlinewidth": 0,
             "ticks": ""
            },
            "type": "contourcarpet"
           }
          ],
          "heatmap": [
           {
            "colorbar": {
             "outlinewidth": 0,
             "ticks": ""
            },
            "colorscale": [
             [
              0,
              "#0d0887"
             ],
             [
              0.1111111111111111,
              "#46039f"
             ],
             [
              0.2222222222222222,
              "#7201a8"
             ],
             [
              0.3333333333333333,
              "#9c179e"
             ],
             [
              0.4444444444444444,
              "#bd3786"
             ],
             [
              0.5555555555555556,
              "#d8576b"
             ],
             [
              0.6666666666666666,
              "#ed7953"
             ],
             [
              0.7777777777777778,
              "#fb9f3a"
             ],
             [
              0.8888888888888888,
              "#fdca26"
             ],
             [
              1,
              "#f0f921"
             ]
            ],
            "type": "heatmap"
           }
          ],
          "heatmapgl": [
           {
            "colorbar": {
             "outlinewidth": 0,
             "ticks": ""
            },
            "colorscale": [
             [
              0,
              "#0d0887"
             ],
             [
              0.1111111111111111,
              "#46039f"
             ],
             [
              0.2222222222222222,
              "#7201a8"
             ],
             [
              0.3333333333333333,
              "#9c179e"
             ],
             [
              0.4444444444444444,
              "#bd3786"
             ],
             [
              0.5555555555555556,
              "#d8576b"
             ],
             [
              0.6666666666666666,
              "#ed7953"
             ],
             [
              0.7777777777777778,
              "#fb9f3a"
             ],
             [
              0.8888888888888888,
              "#fdca26"
             ],
             [
              1,
              "#f0f921"
             ]
            ],
            "type": "heatmapgl"
           }
          ],
          "histogram": [
           {
            "marker": {
             "pattern": {
              "fillmode": "overlay",
              "size": 10,
              "solidity": 0.2
             }
            },
            "type": "histogram"
           }
          ],
          "histogram2d": [
           {
            "colorbar": {
             "outlinewidth": 0,
             "ticks": ""
            },
            "colorscale": [
             [
              0,
              "#0d0887"
             ],
             [
              0.1111111111111111,
              "#46039f"
             ],
             [
              0.2222222222222222,
              "#7201a8"
             ],
             [
              0.3333333333333333,
              "#9c179e"
             ],
             [
              0.4444444444444444,
              "#bd3786"
             ],
             [
              0.5555555555555556,
              "#d8576b"
             ],
             [
              0.6666666666666666,
              "#ed7953"
             ],
             [
              0.7777777777777778,
              "#fb9f3a"
             ],
             [
              0.8888888888888888,
              "#fdca26"
             ],
             [
              1,
              "#f0f921"
             ]
            ],
            "type": "histogram2d"
           }
          ],
          "histogram2dcontour": [
           {
            "colorbar": {
             "outlinewidth": 0,
             "ticks": ""
            },
            "colorscale": [
             [
              0,
              "#0d0887"
             ],
             [
              0.1111111111111111,
              "#46039f"
             ],
             [
              0.2222222222222222,
              "#7201a8"
             ],
             [
              0.3333333333333333,
              "#9c179e"
             ],
             [
              0.4444444444444444,
              "#bd3786"
             ],
             [
              0.5555555555555556,
              "#d8576b"
             ],
             [
              0.6666666666666666,
              "#ed7953"
             ],
             [
              0.7777777777777778,
              "#fb9f3a"
             ],
             [
              0.8888888888888888,
              "#fdca26"
             ],
             [
              1,
              "#f0f921"
             ]
            ],
            "type": "histogram2dcontour"
           }
          ],
          "mesh3d": [
           {
            "colorbar": {
             "outlinewidth": 0,
             "ticks": ""
            },
            "type": "mesh3d"
           }
          ],
          "parcoords": [
           {
            "line": {
             "colorbar": {
              "outlinewidth": 0,
              "ticks": ""
             }
            },
            "type": "parcoords"
           }
          ],
          "pie": [
           {
            "automargin": true,
            "type": "pie"
           }
          ],
          "scatter": [
           {
            "fillpattern": {
             "fillmode": "overlay",
             "size": 10,
             "solidity": 0.2
            },
            "type": "scatter"
           }
          ],
          "scatter3d": [
           {
            "line": {
             "colorbar": {
              "outlinewidth": 0,
              "ticks": ""
             }
            },
            "marker": {
             "colorbar": {
              "outlinewidth": 0,
              "ticks": ""
             }
            },
            "type": "scatter3d"
           }
          ],
          "scattercarpet": [
           {
            "marker": {
             "colorbar": {
              "outlinewidth": 0,
              "ticks": ""
             }
            },
            "type": "scattercarpet"
           }
          ],
          "scattergeo": [
           {
            "marker": {
             "colorbar": {
              "outlinewidth": 0,
              "ticks": ""
             }
            },
            "type": "scattergeo"
           }
          ],
          "scattergl": [
           {
            "marker": {
             "colorbar": {
              "outlinewidth": 0,
              "ticks": ""
             }
            },
            "type": "scattergl"
           }
          ],
          "scattermapbox": [
           {
            "marker": {
             "colorbar": {
              "outlinewidth": 0,
              "ticks": ""
             }
            },
            "type": "scattermapbox"
           }
          ],
          "scatterpolar": [
           {
            "marker": {
             "colorbar": {
              "outlinewidth": 0,
              "ticks": ""
             }
            },
            "type": "scatterpolar"
           }
          ],
          "scatterpolargl": [
           {
            "marker": {
             "colorbar": {
              "outlinewidth": 0,
              "ticks": ""
             }
            },
            "type": "scatterpolargl"
           }
          ],
          "scatterternary": [
           {
            "marker": {
             "colorbar": {
              "outlinewidth": 0,
              "ticks": ""
             }
            },
            "type": "scatterternary"
           }
          ],
          "surface": [
           {
            "colorbar": {
             "outlinewidth": 0,
             "ticks": ""
            },
            "colorscale": [
             [
              0,
              "#0d0887"
             ],
             [
              0.1111111111111111,
              "#46039f"
             ],
             [
              0.2222222222222222,
              "#7201a8"
             ],
             [
              0.3333333333333333,
              "#9c179e"
             ],
             [
              0.4444444444444444,
              "#bd3786"
             ],
             [
              0.5555555555555556,
              "#d8576b"
             ],
             [
              0.6666666666666666,
              "#ed7953"
             ],
             [
              0.7777777777777778,
              "#fb9f3a"
             ],
             [
              0.8888888888888888,
              "#fdca26"
             ],
             [
              1,
              "#f0f921"
             ]
            ],
            "type": "surface"
           }
          ],
          "table": [
           {
            "cells": {
             "fill": {
              "color": "#EBF0F8"
             },
             "line": {
              "color": "white"
             }
            },
            "header": {
             "fill": {
              "color": "#C8D4E3"
             },
             "line": {
              "color": "white"
             }
            },
            "type": "table"
           }
          ]
         },
         "layout": {
          "annotationdefaults": {
           "arrowcolor": "#2a3f5f",
           "arrowhead": 0,
           "arrowwidth": 1
          },
          "autotypenumbers": "strict",
          "coloraxis": {
           "colorbar": {
            "outlinewidth": 0,
            "ticks": ""
           }
          },
          "colorscale": {
           "diverging": [
            [
             0,
             "#8e0152"
            ],
            [
             0.1,
             "#c51b7d"
            ],
            [
             0.2,
             "#de77ae"
            ],
            [
             0.3,
             "#f1b6da"
            ],
            [
             0.4,
             "#fde0ef"
            ],
            [
             0.5,
             "#f7f7f7"
            ],
            [
             0.6,
             "#e6f5d0"
            ],
            [
             0.7,
             "#b8e186"
            ],
            [
             0.8,
             "#7fbc41"
            ],
            [
             0.9,
             "#4d9221"
            ],
            [
             1,
             "#276419"
            ]
           ],
           "sequential": [
            [
             0,
             "#0d0887"
            ],
            [
             0.1111111111111111,
             "#46039f"
            ],
            [
             0.2222222222222222,
             "#7201a8"
            ],
            [
             0.3333333333333333,
             "#9c179e"
            ],
            [
             0.4444444444444444,
             "#bd3786"
            ],
            [
             0.5555555555555556,
             "#d8576b"
            ],
            [
             0.6666666666666666,
             "#ed7953"
            ],
            [
             0.7777777777777778,
             "#fb9f3a"
            ],
            [
             0.8888888888888888,
             "#fdca26"
            ],
            [
             1,
             "#f0f921"
            ]
           ],
           "sequentialminus": [
            [
             0,
             "#0d0887"
            ],
            [
             0.1111111111111111,
             "#46039f"
            ],
            [
             0.2222222222222222,
             "#7201a8"
            ],
            [
             0.3333333333333333,
             "#9c179e"
            ],
            [
             0.4444444444444444,
             "#bd3786"
            ],
            [
             0.5555555555555556,
             "#d8576b"
            ],
            [
             0.6666666666666666,
             "#ed7953"
            ],
            [
             0.7777777777777778,
             "#fb9f3a"
            ],
            [
             0.8888888888888888,
             "#fdca26"
            ],
            [
             1,
             "#f0f921"
            ]
           ]
          },
          "colorway": [
           "#636efa",
           "#EF553B",
           "#00cc96",
           "#ab63fa",
           "#FFA15A",
           "#19d3f3",
           "#FF6692",
           "#B6E880",
           "#FF97FF",
           "#FECB52"
          ],
          "font": {
           "color": "#2a3f5f"
          },
          "geo": {
           "bgcolor": "white",
           "lakecolor": "white",
           "landcolor": "#E5ECF6",
           "showlakes": true,
           "showland": true,
           "subunitcolor": "white"
          },
          "hoverlabel": {
           "align": "left"
          },
          "hovermode": "closest",
          "mapbox": {
           "style": "light"
          },
          "paper_bgcolor": "white",
          "plot_bgcolor": "#E5ECF6",
          "polar": {
           "angularaxis": {
            "gridcolor": "white",
            "linecolor": "white",
            "ticks": ""
           },
           "bgcolor": "#E5ECF6",
           "radialaxis": {
            "gridcolor": "white",
            "linecolor": "white",
            "ticks": ""
           }
          },
          "scene": {
           "xaxis": {
            "backgroundcolor": "#E5ECF6",
            "gridcolor": "white",
            "gridwidth": 2,
            "linecolor": "white",
            "showbackground": true,
            "ticks": "",
            "zerolinecolor": "white"
           },
           "yaxis": {
            "backgroundcolor": "#E5ECF6",
            "gridcolor": "white",
            "gridwidth": 2,
            "linecolor": "white",
            "showbackground": true,
            "ticks": "",
            "zerolinecolor": "white"
           },
           "zaxis": {
            "backgroundcolor": "#E5ECF6",
            "gridcolor": "white",
            "gridwidth": 2,
            "linecolor": "white",
            "showbackground": true,
            "ticks": "",
            "zerolinecolor": "white"
           }
          },
          "shapedefaults": {
           "line": {
            "color": "#2a3f5f"
           }
          },
          "ternary": {
           "aaxis": {
            "gridcolor": "white",
            "linecolor": "white",
            "ticks": ""
           },
           "baxis": {
            "gridcolor": "white",
            "linecolor": "white",
            "ticks": ""
           },
           "bgcolor": "#E5ECF6",
           "caxis": {
            "gridcolor": "white",
            "linecolor": "white",
            "ticks": ""
           }
          },
          "title": {
           "x": 0.05
          },
          "xaxis": {
           "automargin": true,
           "gridcolor": "white",
           "linecolor": "white",
           "ticks": "",
           "title": {
            "standoff": 15
           },
           "zerolinecolor": "white",
           "zerolinewidth": 2
          },
          "yaxis": {
           "automargin": true,
           "gridcolor": "white",
           "linecolor": "white",
           "ticks": "",
           "title": {
            "standoff": 15
           },
           "zerolinecolor": "white",
           "zerolinewidth": 2
          }
         }
        },
        "title": {
         "text": "Normalized Feeling Distribution"
        },
        "xaxis": {
         "anchor": "y",
         "domain": [
          0,
          1
         ],
         "title": {
          "text": "Frame"
         }
        },
        "yaxis": {
         "anchor": "x",
         "domain": [
          0,
          1
         ],
         "title": {
          "text": "Probability"
         }
        }
       }
      }
     },
     "metadata": {},
     "output_type": "display_data"
    }
   ],
   "source": [
    "\n",
    "# sort dataframe by probability within each frame\n",
    "sorted_df = df.sort_values(['Frame', 'probability'], ascending=[True, False])\n",
    "\n",
    "# get the top three probabilities for each frame\n",
    "top_three_probs = sorted_df.groupby('Frame').head(3)\n",
    "\n",
    "# count the number of occurrences of each feeling for each frame\n",
    "feeling_counts = top_three_probs.groupby(['Frame', 'feeling'])['probability'].count().reset_index()\n",
    "\n",
    "# calculate the total probability for each frame\n",
    "frame_total = feeling_counts.groupby('Frame')['probability'].sum().reset_index()\n",
    "\n",
    "# merge the feeling counts and frame totals dataframes\n",
    "merged = pd.merge(feeling_counts, frame_total, on='Frame', suffixes=('_count', '_total'))\n",
    "\n",
    "# calculate the normalized distribution of each feeling for each frame\n",
    "merged['probability_normalized'] = merged['probability_count'] / merged['probability_total']\n",
    "\n",
    "# create a stacked area chart using Plotly\n",
    "fig = px.area(\n",
    "    merged, \n",
    "    x='Frame', \n",
    "    y='probability_normalized', \n",
    "    color='feeling', \n",
    "    color_discrete_sequence=px.colors.qualitative.Plotly,\n",
    "    title='Normalized Feeling Distribution',\n",
    "    labels={\n",
    "        'Frame': 'Frame',\n",
    "        'probability_normalized': 'Probability',\n",
    "        'feeling': 'Feeling'\n",
    "    }\n",
    ")\n",
    "\n",
    "fig.show()\n"
   ]
  },
  {
   "cell_type": "code",
   "execution_count": null,
   "metadata": {},
   "outputs": [
    {
     "data": {
      "application/vnd.plotly.v1+json": {
       "config": {
        "plotlyServerURL": "https://plot.ly"
       },
       "data": [
        {
         "type": "bar",
         "x": [
          "Angry",
          "Disgust",
          "Fear",
          "Happy",
          "Neutral",
          "Sad",
          "Surprise"
         ],
         "y": [
          58,
          6,
          233,
          243,
          218,
          365,
          18
         ]
        }
       ],
       "layout": {
        "template": {
         "data": {
          "bar": [
           {
            "error_x": {
             "color": "#2a3f5f"
            },
            "error_y": {
             "color": "#2a3f5f"
            },
            "marker": {
             "line": {
              "color": "#E5ECF6",
              "width": 0.5
             },
             "pattern": {
              "fillmode": "overlay",
              "size": 10,
              "solidity": 0.2
             }
            },
            "type": "bar"
           }
          ],
          "barpolar": [
           {
            "marker": {
             "line": {
              "color": "#E5ECF6",
              "width": 0.5
             },
             "pattern": {
              "fillmode": "overlay",
              "size": 10,
              "solidity": 0.2
             }
            },
            "type": "barpolar"
           }
          ],
          "carpet": [
           {
            "aaxis": {
             "endlinecolor": "#2a3f5f",
             "gridcolor": "white",
             "linecolor": "white",
             "minorgridcolor": "white",
             "startlinecolor": "#2a3f5f"
            },
            "baxis": {
             "endlinecolor": "#2a3f5f",
             "gridcolor": "white",
             "linecolor": "white",
             "minorgridcolor": "white",
             "startlinecolor": "#2a3f5f"
            },
            "type": "carpet"
           }
          ],
          "choropleth": [
           {
            "colorbar": {
             "outlinewidth": 0,
             "ticks": ""
            },
            "type": "choropleth"
           }
          ],
          "contour": [
           {
            "colorbar": {
             "outlinewidth": 0,
             "ticks": ""
            },
            "colorscale": [
             [
              0,
              "#0d0887"
             ],
             [
              0.1111111111111111,
              "#46039f"
             ],
             [
              0.2222222222222222,
              "#7201a8"
             ],
             [
              0.3333333333333333,
              "#9c179e"
             ],
             [
              0.4444444444444444,
              "#bd3786"
             ],
             [
              0.5555555555555556,
              "#d8576b"
             ],
             [
              0.6666666666666666,
              "#ed7953"
             ],
             [
              0.7777777777777778,
              "#fb9f3a"
             ],
             [
              0.8888888888888888,
              "#fdca26"
             ],
             [
              1,
              "#f0f921"
             ]
            ],
            "type": "contour"
           }
          ],
          "contourcarpet": [
           {
            "colorbar": {
             "outlinewidth": 0,
             "ticks": ""
            },
            "type": "contourcarpet"
           }
          ],
          "heatmap": [
           {
            "colorbar": {
             "outlinewidth": 0,
             "ticks": ""
            },
            "colorscale": [
             [
              0,
              "#0d0887"
             ],
             [
              0.1111111111111111,
              "#46039f"
             ],
             [
              0.2222222222222222,
              "#7201a8"
             ],
             [
              0.3333333333333333,
              "#9c179e"
             ],
             [
              0.4444444444444444,
              "#bd3786"
             ],
             [
              0.5555555555555556,
              "#d8576b"
             ],
             [
              0.6666666666666666,
              "#ed7953"
             ],
             [
              0.7777777777777778,
              "#fb9f3a"
             ],
             [
              0.8888888888888888,
              "#fdca26"
             ],
             [
              1,
              "#f0f921"
             ]
            ],
            "type": "heatmap"
           }
          ],
          "heatmapgl": [
           {
            "colorbar": {
             "outlinewidth": 0,
             "ticks": ""
            },
            "colorscale": [
             [
              0,
              "#0d0887"
             ],
             [
              0.1111111111111111,
              "#46039f"
             ],
             [
              0.2222222222222222,
              "#7201a8"
             ],
             [
              0.3333333333333333,
              "#9c179e"
             ],
             [
              0.4444444444444444,
              "#bd3786"
             ],
             [
              0.5555555555555556,
              "#d8576b"
             ],
             [
              0.6666666666666666,
              "#ed7953"
             ],
             [
              0.7777777777777778,
              "#fb9f3a"
             ],
             [
              0.8888888888888888,
              "#fdca26"
             ],
             [
              1,
              "#f0f921"
             ]
            ],
            "type": "heatmapgl"
           }
          ],
          "histogram": [
           {
            "marker": {
             "pattern": {
              "fillmode": "overlay",
              "size": 10,
              "solidity": 0.2
             }
            },
            "type": "histogram"
           }
          ],
          "histogram2d": [
           {
            "colorbar": {
             "outlinewidth": 0,
             "ticks": ""
            },
            "colorscale": [
             [
              0,
              "#0d0887"
             ],
             [
              0.1111111111111111,
              "#46039f"
             ],
             [
              0.2222222222222222,
              "#7201a8"
             ],
             [
              0.3333333333333333,
              "#9c179e"
             ],
             [
              0.4444444444444444,
              "#bd3786"
             ],
             [
              0.5555555555555556,
              "#d8576b"
             ],
             [
              0.6666666666666666,
              "#ed7953"
             ],
             [
              0.7777777777777778,
              "#fb9f3a"
             ],
             [
              0.8888888888888888,
              "#fdca26"
             ],
             [
              1,
              "#f0f921"
             ]
            ],
            "type": "histogram2d"
           }
          ],
          "histogram2dcontour": [
           {
            "colorbar": {
             "outlinewidth": 0,
             "ticks": ""
            },
            "colorscale": [
             [
              0,
              "#0d0887"
             ],
             [
              0.1111111111111111,
              "#46039f"
             ],
             [
              0.2222222222222222,
              "#7201a8"
             ],
             [
              0.3333333333333333,
              "#9c179e"
             ],
             [
              0.4444444444444444,
              "#bd3786"
             ],
             [
              0.5555555555555556,
              "#d8576b"
             ],
             [
              0.6666666666666666,
              "#ed7953"
             ],
             [
              0.7777777777777778,
              "#fb9f3a"
             ],
             [
              0.8888888888888888,
              "#fdca26"
             ],
             [
              1,
              "#f0f921"
             ]
            ],
            "type": "histogram2dcontour"
           }
          ],
          "mesh3d": [
           {
            "colorbar": {
             "outlinewidth": 0,
             "ticks": ""
            },
            "type": "mesh3d"
           }
          ],
          "parcoords": [
           {
            "line": {
             "colorbar": {
              "outlinewidth": 0,
              "ticks": ""
             }
            },
            "type": "parcoords"
           }
          ],
          "pie": [
           {
            "automargin": true,
            "type": "pie"
           }
          ],
          "scatter": [
           {
            "fillpattern": {
             "fillmode": "overlay",
             "size": 10,
             "solidity": 0.2
            },
            "type": "scatter"
           }
          ],
          "scatter3d": [
           {
            "line": {
             "colorbar": {
              "outlinewidth": 0,
              "ticks": ""
             }
            },
            "marker": {
             "colorbar": {
              "outlinewidth": 0,
              "ticks": ""
             }
            },
            "type": "scatter3d"
           }
          ],
          "scattercarpet": [
           {
            "marker": {
             "colorbar": {
              "outlinewidth": 0,
              "ticks": ""
             }
            },
            "type": "scattercarpet"
           }
          ],
          "scattergeo": [
           {
            "marker": {
             "colorbar": {
              "outlinewidth": 0,
              "ticks": ""
             }
            },
            "type": "scattergeo"
           }
          ],
          "scattergl": [
           {
            "marker": {
             "colorbar": {
              "outlinewidth": 0,
              "ticks": ""
             }
            },
            "type": "scattergl"
           }
          ],
          "scattermapbox": [
           {
            "marker": {
             "colorbar": {
              "outlinewidth": 0,
              "ticks": ""
             }
            },
            "type": "scattermapbox"
           }
          ],
          "scatterpolar": [
           {
            "marker": {
             "colorbar": {
              "outlinewidth": 0,
              "ticks": ""
             }
            },
            "type": "scatterpolar"
           }
          ],
          "scatterpolargl": [
           {
            "marker": {
             "colorbar": {
              "outlinewidth": 0,
              "ticks": ""
             }
            },
            "type": "scatterpolargl"
           }
          ],
          "scatterternary": [
           {
            "marker": {
             "colorbar": {
              "outlinewidth": 0,
              "ticks": ""
             }
            },
            "type": "scatterternary"
           }
          ],
          "surface": [
           {
            "colorbar": {
             "outlinewidth": 0,
             "ticks": ""
            },
            "colorscale": [
             [
              0,
              "#0d0887"
             ],
             [
              0.1111111111111111,
              "#46039f"
             ],
             [
              0.2222222222222222,
              "#7201a8"
             ],
             [
              0.3333333333333333,
              "#9c179e"
             ],
             [
              0.4444444444444444,
              "#bd3786"
             ],
             [
              0.5555555555555556,
              "#d8576b"
             ],
             [
              0.6666666666666666,
              "#ed7953"
             ],
             [
              0.7777777777777778,
              "#fb9f3a"
             ],
             [
              0.8888888888888888,
              "#fdca26"
             ],
             [
              1,
              "#f0f921"
             ]
            ],
            "type": "surface"
           }
          ],
          "table": [
           {
            "cells": {
             "fill": {
              "color": "#EBF0F8"
             },
             "line": {
              "color": "white"
             }
            },
            "header": {
             "fill": {
              "color": "#C8D4E3"
             },
             "line": {
              "color": "white"
             }
            },
            "type": "table"
           }
          ]
         },
         "layout": {
          "annotationdefaults": {
           "arrowcolor": "#2a3f5f",
           "arrowhead": 0,
           "arrowwidth": 1
          },
          "autotypenumbers": "strict",
          "coloraxis": {
           "colorbar": {
            "outlinewidth": 0,
            "ticks": ""
           }
          },
          "colorscale": {
           "diverging": [
            [
             0,
             "#8e0152"
            ],
            [
             0.1,
             "#c51b7d"
            ],
            [
             0.2,
             "#de77ae"
            ],
            [
             0.3,
             "#f1b6da"
            ],
            [
             0.4,
             "#fde0ef"
            ],
            [
             0.5,
             "#f7f7f7"
            ],
            [
             0.6,
             "#e6f5d0"
            ],
            [
             0.7,
             "#b8e186"
            ],
            [
             0.8,
             "#7fbc41"
            ],
            [
             0.9,
             "#4d9221"
            ],
            [
             1,
             "#276419"
            ]
           ],
           "sequential": [
            [
             0,
             "#0d0887"
            ],
            [
             0.1111111111111111,
             "#46039f"
            ],
            [
             0.2222222222222222,
             "#7201a8"
            ],
            [
             0.3333333333333333,
             "#9c179e"
            ],
            [
             0.4444444444444444,
             "#bd3786"
            ],
            [
             0.5555555555555556,
             "#d8576b"
            ],
            [
             0.6666666666666666,
             "#ed7953"
            ],
            [
             0.7777777777777778,
             "#fb9f3a"
            ],
            [
             0.8888888888888888,
             "#fdca26"
            ],
            [
             1,
             "#f0f921"
            ]
           ],
           "sequentialminus": [
            [
             0,
             "#0d0887"
            ],
            [
             0.1111111111111111,
             "#46039f"
            ],
            [
             0.2222222222222222,
             "#7201a8"
            ],
            [
             0.3333333333333333,
             "#9c179e"
            ],
            [
             0.4444444444444444,
             "#bd3786"
            ],
            [
             0.5555555555555556,
             "#d8576b"
            ],
            [
             0.6666666666666666,
             "#ed7953"
            ],
            [
             0.7777777777777778,
             "#fb9f3a"
            ],
            [
             0.8888888888888888,
             "#fdca26"
            ],
            [
             1,
             "#f0f921"
            ]
           ]
          },
          "colorway": [
           "#636efa",
           "#EF553B",
           "#00cc96",
           "#ab63fa",
           "#FFA15A",
           "#19d3f3",
           "#FF6692",
           "#B6E880",
           "#FF97FF",
           "#FECB52"
          ],
          "font": {
           "color": "#2a3f5f"
          },
          "geo": {
           "bgcolor": "white",
           "lakecolor": "white",
           "landcolor": "#E5ECF6",
           "showlakes": true,
           "showland": true,
           "subunitcolor": "white"
          },
          "hoverlabel": {
           "align": "left"
          },
          "hovermode": "closest",
          "mapbox": {
           "style": "light"
          },
          "paper_bgcolor": "white",
          "plot_bgcolor": "#E5ECF6",
          "polar": {
           "angularaxis": {
            "gridcolor": "white",
            "linecolor": "white",
            "ticks": ""
           },
           "bgcolor": "#E5ECF6",
           "radialaxis": {
            "gridcolor": "white",
            "linecolor": "white",
            "ticks": ""
           }
          },
          "scene": {
           "xaxis": {
            "backgroundcolor": "#E5ECF6",
            "gridcolor": "white",
            "gridwidth": 2,
            "linecolor": "white",
            "showbackground": true,
            "ticks": "",
            "zerolinecolor": "white"
           },
           "yaxis": {
            "backgroundcolor": "#E5ECF6",
            "gridcolor": "white",
            "gridwidth": 2,
            "linecolor": "white",
            "showbackground": true,
            "ticks": "",
            "zerolinecolor": "white"
           },
           "zaxis": {
            "backgroundcolor": "#E5ECF6",
            "gridcolor": "white",
            "gridwidth": 2,
            "linecolor": "white",
            "showbackground": true,
            "ticks": "",
            "zerolinecolor": "white"
           }
          },
          "shapedefaults": {
           "line": {
            "color": "#2a3f5f"
           }
          },
          "ternary": {
           "aaxis": {
            "gridcolor": "white",
            "linecolor": "white",
            "ticks": ""
           },
           "baxis": {
            "gridcolor": "white",
            "linecolor": "white",
            "ticks": ""
           },
           "bgcolor": "#E5ECF6",
           "caxis": {
            "gridcolor": "white",
            "linecolor": "white",
            "ticks": ""
           }
          },
          "title": {
           "x": 0.05
          },
          "xaxis": {
           "automargin": true,
           "gridcolor": "white",
           "linecolor": "white",
           "ticks": "",
           "title": {
            "standoff": 15
           },
           "zerolinecolor": "white",
           "zerolinewidth": 2
          },
          "yaxis": {
           "automargin": true,
           "gridcolor": "white",
           "linecolor": "white",
           "ticks": "",
           "title": {
            "standoff": 15
           },
           "zerolinecolor": "white",
           "zerolinewidth": 2
          }
         }
        },
        "title": {
         "text": "Prevalence of feelings"
        }
       }
      }
     },
     "metadata": {},
     "output_type": "display_data"
    }
   ],
   "source": [
    "import plotly.graph_objs as go\n",
    "\n",
    "# group the dataframe by feeling and count the number of unique frames for each feeling\n",
    "feeling_counts = max_prob_df.groupby('feeling')['Frame'].nunique()\n",
    "\n",
    "# create a bar chart with the feeling counts\n",
    "data = go.Bar(x=feeling_counts.index, y=feeling_counts.values)\n",
    "\n",
    "# create the layout for the chart\n",
    "layout = go.Layout(title='Prevalence of feelings')\n",
    "\n",
    "# create the figure object and display the chart\n",
    "fig = go.Figure(data=[data], layout=layout)\n",
    "fig.show()"
   ]
  },
  {
   "cell_type": "code",
   "execution_count": null,
   "metadata": {},
   "outputs": [
    {
     "data": {
      "application/vnd.plotly.v1+json": {
       "config": {
        "plotlyServerURL": "https://plot.ly"
       },
       "data": [
        {
         "hole": 0.45,
         "labels": [
          "Angry",
          "Disgust",
          "Fear",
          "Happy",
          "Neutral",
          "Sad",
          "Surprise"
         ],
         "type": "pie",
         "values": [
          58,
          6,
          233,
          243,
          218,
          365,
          18
         ]
        },
        {
         "hole": 1,
         "labels": [
          ""
         ],
         "marker": {
          "colors": [
           "white"
          ]
         },
         "type": "pie",
         "values": [
          1
         ]
        }
       ],
       "layout": {
        "annotations": [
         {
          "font": {
           "size": 20
          },
          "showarrow": false,
          "text": "Total frames: 1141",
          "x": 0.5,
          "y": 0.5
         }
        ],
        "template": {
         "data": {
          "bar": [
           {
            "error_x": {
             "color": "#2a3f5f"
            },
            "error_y": {
             "color": "#2a3f5f"
            },
            "marker": {
             "line": {
              "color": "#E5ECF6",
              "width": 0.5
             },
             "pattern": {
              "fillmode": "overlay",
              "size": 10,
              "solidity": 0.2
             }
            },
            "type": "bar"
           }
          ],
          "barpolar": [
           {
            "marker": {
             "line": {
              "color": "#E5ECF6",
              "width": 0.5
             },
             "pattern": {
              "fillmode": "overlay",
              "size": 10,
              "solidity": 0.2
             }
            },
            "type": "barpolar"
           }
          ],
          "carpet": [
           {
            "aaxis": {
             "endlinecolor": "#2a3f5f",
             "gridcolor": "white",
             "linecolor": "white",
             "minorgridcolor": "white",
             "startlinecolor": "#2a3f5f"
            },
            "baxis": {
             "endlinecolor": "#2a3f5f",
             "gridcolor": "white",
             "linecolor": "white",
             "minorgridcolor": "white",
             "startlinecolor": "#2a3f5f"
            },
            "type": "carpet"
           }
          ],
          "choropleth": [
           {
            "colorbar": {
             "outlinewidth": 0,
             "ticks": ""
            },
            "type": "choropleth"
           }
          ],
          "contour": [
           {
            "colorbar": {
             "outlinewidth": 0,
             "ticks": ""
            },
            "colorscale": [
             [
              0,
              "#0d0887"
             ],
             [
              0.1111111111111111,
              "#46039f"
             ],
             [
              0.2222222222222222,
              "#7201a8"
             ],
             [
              0.3333333333333333,
              "#9c179e"
             ],
             [
              0.4444444444444444,
              "#bd3786"
             ],
             [
              0.5555555555555556,
              "#d8576b"
             ],
             [
              0.6666666666666666,
              "#ed7953"
             ],
             [
              0.7777777777777778,
              "#fb9f3a"
             ],
             [
              0.8888888888888888,
              "#fdca26"
             ],
             [
              1,
              "#f0f921"
             ]
            ],
            "type": "contour"
           }
          ],
          "contourcarpet": [
           {
            "colorbar": {
             "outlinewidth": 0,
             "ticks": ""
            },
            "type": "contourcarpet"
           }
          ],
          "heatmap": [
           {
            "colorbar": {
             "outlinewidth": 0,
             "ticks": ""
            },
            "colorscale": [
             [
              0,
              "#0d0887"
             ],
             [
              0.1111111111111111,
              "#46039f"
             ],
             [
              0.2222222222222222,
              "#7201a8"
             ],
             [
              0.3333333333333333,
              "#9c179e"
             ],
             [
              0.4444444444444444,
              "#bd3786"
             ],
             [
              0.5555555555555556,
              "#d8576b"
             ],
             [
              0.6666666666666666,
              "#ed7953"
             ],
             [
              0.7777777777777778,
              "#fb9f3a"
             ],
             [
              0.8888888888888888,
              "#fdca26"
             ],
             [
              1,
              "#f0f921"
             ]
            ],
            "type": "heatmap"
           }
          ],
          "heatmapgl": [
           {
            "colorbar": {
             "outlinewidth": 0,
             "ticks": ""
            },
            "colorscale": [
             [
              0,
              "#0d0887"
             ],
             [
              0.1111111111111111,
              "#46039f"
             ],
             [
              0.2222222222222222,
              "#7201a8"
             ],
             [
              0.3333333333333333,
              "#9c179e"
             ],
             [
              0.4444444444444444,
              "#bd3786"
             ],
             [
              0.5555555555555556,
              "#d8576b"
             ],
             [
              0.6666666666666666,
              "#ed7953"
             ],
             [
              0.7777777777777778,
              "#fb9f3a"
             ],
             [
              0.8888888888888888,
              "#fdca26"
             ],
             [
              1,
              "#f0f921"
             ]
            ],
            "type": "heatmapgl"
           }
          ],
          "histogram": [
           {
            "marker": {
             "pattern": {
              "fillmode": "overlay",
              "size": 10,
              "solidity": 0.2
             }
            },
            "type": "histogram"
           }
          ],
          "histogram2d": [
           {
            "colorbar": {
             "outlinewidth": 0,
             "ticks": ""
            },
            "colorscale": [
             [
              0,
              "#0d0887"
             ],
             [
              0.1111111111111111,
              "#46039f"
             ],
             [
              0.2222222222222222,
              "#7201a8"
             ],
             [
              0.3333333333333333,
              "#9c179e"
             ],
             [
              0.4444444444444444,
              "#bd3786"
             ],
             [
              0.5555555555555556,
              "#d8576b"
             ],
             [
              0.6666666666666666,
              "#ed7953"
             ],
             [
              0.7777777777777778,
              "#fb9f3a"
             ],
             [
              0.8888888888888888,
              "#fdca26"
             ],
             [
              1,
              "#f0f921"
             ]
            ],
            "type": "histogram2d"
           }
          ],
          "histogram2dcontour": [
           {
            "colorbar": {
             "outlinewidth": 0,
             "ticks": ""
            },
            "colorscale": [
             [
              0,
              "#0d0887"
             ],
             [
              0.1111111111111111,
              "#46039f"
             ],
             [
              0.2222222222222222,
              "#7201a8"
             ],
             [
              0.3333333333333333,
              "#9c179e"
             ],
             [
              0.4444444444444444,
              "#bd3786"
             ],
             [
              0.5555555555555556,
              "#d8576b"
             ],
             [
              0.6666666666666666,
              "#ed7953"
             ],
             [
              0.7777777777777778,
              "#fb9f3a"
             ],
             [
              0.8888888888888888,
              "#fdca26"
             ],
             [
              1,
              "#f0f921"
             ]
            ],
            "type": "histogram2dcontour"
           }
          ],
          "mesh3d": [
           {
            "colorbar": {
             "outlinewidth": 0,
             "ticks": ""
            },
            "type": "mesh3d"
           }
          ],
          "parcoords": [
           {
            "line": {
             "colorbar": {
              "outlinewidth": 0,
              "ticks": ""
             }
            },
            "type": "parcoords"
           }
          ],
          "pie": [
           {
            "automargin": true,
            "type": "pie"
           }
          ],
          "scatter": [
           {
            "fillpattern": {
             "fillmode": "overlay",
             "size": 10,
             "solidity": 0.2
            },
            "type": "scatter"
           }
          ],
          "scatter3d": [
           {
            "line": {
             "colorbar": {
              "outlinewidth": 0,
              "ticks": ""
             }
            },
            "marker": {
             "colorbar": {
              "outlinewidth": 0,
              "ticks": ""
             }
            },
            "type": "scatter3d"
           }
          ],
          "scattercarpet": [
           {
            "marker": {
             "colorbar": {
              "outlinewidth": 0,
              "ticks": ""
             }
            },
            "type": "scattercarpet"
           }
          ],
          "scattergeo": [
           {
            "marker": {
             "colorbar": {
              "outlinewidth": 0,
              "ticks": ""
             }
            },
            "type": "scattergeo"
           }
          ],
          "scattergl": [
           {
            "marker": {
             "colorbar": {
              "outlinewidth": 0,
              "ticks": ""
             }
            },
            "type": "scattergl"
           }
          ],
          "scattermapbox": [
           {
            "marker": {
             "colorbar": {
              "outlinewidth": 0,
              "ticks": ""
             }
            },
            "type": "scattermapbox"
           }
          ],
          "scatterpolar": [
           {
            "marker": {
             "colorbar": {
              "outlinewidth": 0,
              "ticks": ""
             }
            },
            "type": "scatterpolar"
           }
          ],
          "scatterpolargl": [
           {
            "marker": {
             "colorbar": {
              "outlinewidth": 0,
              "ticks": ""
             }
            },
            "type": "scatterpolargl"
           }
          ],
          "scatterternary": [
           {
            "marker": {
             "colorbar": {
              "outlinewidth": 0,
              "ticks": ""
             }
            },
            "type": "scatterternary"
           }
          ],
          "surface": [
           {
            "colorbar": {
             "outlinewidth": 0,
             "ticks": ""
            },
            "colorscale": [
             [
              0,
              "#0d0887"
             ],
             [
              0.1111111111111111,
              "#46039f"
             ],
             [
              0.2222222222222222,
              "#7201a8"
             ],
             [
              0.3333333333333333,
              "#9c179e"
             ],
             [
              0.4444444444444444,
              "#bd3786"
             ],
             [
              0.5555555555555556,
              "#d8576b"
             ],
             [
              0.6666666666666666,
              "#ed7953"
             ],
             [
              0.7777777777777778,
              "#fb9f3a"
             ],
             [
              0.8888888888888888,
              "#fdca26"
             ],
             [
              1,
              "#f0f921"
             ]
            ],
            "type": "surface"
           }
          ],
          "table": [
           {
            "cells": {
             "fill": {
              "color": "#EBF0F8"
             },
             "line": {
              "color": "white"
             }
            },
            "header": {
             "fill": {
              "color": "#C8D4E3"
             },
             "line": {
              "color": "white"
             }
            },
            "type": "table"
           }
          ]
         },
         "layout": {
          "annotationdefaults": {
           "arrowcolor": "#2a3f5f",
           "arrowhead": 0,
           "arrowwidth": 1
          },
          "autotypenumbers": "strict",
          "coloraxis": {
           "colorbar": {
            "outlinewidth": 0,
            "ticks": ""
           }
          },
          "colorscale": {
           "diverging": [
            [
             0,
             "#8e0152"
            ],
            [
             0.1,
             "#c51b7d"
            ],
            [
             0.2,
             "#de77ae"
            ],
            [
             0.3,
             "#f1b6da"
            ],
            [
             0.4,
             "#fde0ef"
            ],
            [
             0.5,
             "#f7f7f7"
            ],
            [
             0.6,
             "#e6f5d0"
            ],
            [
             0.7,
             "#b8e186"
            ],
            [
             0.8,
             "#7fbc41"
            ],
            [
             0.9,
             "#4d9221"
            ],
            [
             1,
             "#276419"
            ]
           ],
           "sequential": [
            [
             0,
             "#0d0887"
            ],
            [
             0.1111111111111111,
             "#46039f"
            ],
            [
             0.2222222222222222,
             "#7201a8"
            ],
            [
             0.3333333333333333,
             "#9c179e"
            ],
            [
             0.4444444444444444,
             "#bd3786"
            ],
            [
             0.5555555555555556,
             "#d8576b"
            ],
            [
             0.6666666666666666,
             "#ed7953"
            ],
            [
             0.7777777777777778,
             "#fb9f3a"
            ],
            [
             0.8888888888888888,
             "#fdca26"
            ],
            [
             1,
             "#f0f921"
            ]
           ],
           "sequentialminus": [
            [
             0,
             "#0d0887"
            ],
            [
             0.1111111111111111,
             "#46039f"
            ],
            [
             0.2222222222222222,
             "#7201a8"
            ],
            [
             0.3333333333333333,
             "#9c179e"
            ],
            [
             0.4444444444444444,
             "#bd3786"
            ],
            [
             0.5555555555555556,
             "#d8576b"
            ],
            [
             0.6666666666666666,
             "#ed7953"
            ],
            [
             0.7777777777777778,
             "#fb9f3a"
            ],
            [
             0.8888888888888888,
             "#fdca26"
            ],
            [
             1,
             "#f0f921"
            ]
           ]
          },
          "colorway": [
           "#636efa",
           "#EF553B",
           "#00cc96",
           "#ab63fa",
           "#FFA15A",
           "#19d3f3",
           "#FF6692",
           "#B6E880",
           "#FF97FF",
           "#FECB52"
          ],
          "font": {
           "color": "#2a3f5f"
          },
          "geo": {
           "bgcolor": "white",
           "lakecolor": "white",
           "landcolor": "#E5ECF6",
           "showlakes": true,
           "showland": true,
           "subunitcolor": "white"
          },
          "hoverlabel": {
           "align": "left"
          },
          "hovermode": "closest",
          "mapbox": {
           "style": "light"
          },
          "paper_bgcolor": "white",
          "plot_bgcolor": "#E5ECF6",
          "polar": {
           "angularaxis": {
            "gridcolor": "white",
            "linecolor": "white",
            "ticks": ""
           },
           "bgcolor": "#E5ECF6",
           "radialaxis": {
            "gridcolor": "white",
            "linecolor": "white",
            "ticks": ""
           }
          },
          "scene": {
           "xaxis": {
            "backgroundcolor": "#E5ECF6",
            "gridcolor": "white",
            "gridwidth": 2,
            "linecolor": "white",
            "showbackground": true,
            "ticks": "",
            "zerolinecolor": "white"
           },
           "yaxis": {
            "backgroundcolor": "#E5ECF6",
            "gridcolor": "white",
            "gridwidth": 2,
            "linecolor": "white",
            "showbackground": true,
            "ticks": "",
            "zerolinecolor": "white"
           },
           "zaxis": {
            "backgroundcolor": "#E5ECF6",
            "gridcolor": "white",
            "gridwidth": 2,
            "linecolor": "white",
            "showbackground": true,
            "ticks": "",
            "zerolinecolor": "white"
           }
          },
          "shapedefaults": {
           "line": {
            "color": "#2a3f5f"
           }
          },
          "ternary": {
           "aaxis": {
            "gridcolor": "white",
            "linecolor": "white",
            "ticks": ""
           },
           "baxis": {
            "gridcolor": "white",
            "linecolor": "white",
            "ticks": ""
           },
           "bgcolor": "#E5ECF6",
           "caxis": {
            "gridcolor": "white",
            "linecolor": "white",
            "ticks": ""
           }
          },
          "title": {
           "x": 0.05
          },
          "xaxis": {
           "automargin": true,
           "gridcolor": "white",
           "linecolor": "white",
           "ticks": "",
           "title": {
            "standoff": 15
           },
           "zerolinecolor": "white",
           "zerolinewidth": 2
          },
          "yaxis": {
           "automargin": true,
           "gridcolor": "white",
           "linecolor": "white",
           "ticks": "",
           "title": {
            "standoff": 15
           },
           "zerolinecolor": "white",
           "zerolinewidth": 2
          }
         }
        },
        "title": {
         "text": "Prevalence of feelings"
        }
       }
      }
     },
     "metadata": {},
     "output_type": "display_data"
    }
   ],
   "source": [
    "# create the data for the outer and inner rings\n",
    "outer_data = go.Pie(labels=feeling_counts.index, values=feeling_counts.values, hole=0.45)\n",
    "inner_data = go.Pie(labels=[''], values=[1], hole=1, marker=dict(colors=['white']))\n",
    "\n",
    "# create the layout for the chart\n",
    "layout = go.Layout(title='Prevalence of feelings', annotations=[{\n",
    "            'text': 'Total frames: {}'.format(len(max_prob_df)),\n",
    "            'font': {'size': 20},\n",
    "            'showarrow': False,\n",
    "            'x': 0.5,\n",
    "            'y': 0.5\n",
    "        }])\n",
    "\n",
    "# create the figure object and display the chart\n",
    "fig = go.Figure(data=[outer_data, inner_data], layout=layout)\n",
    "fig.show()"
   ]
  },
  {
   "cell_type": "code",
   "execution_count": null,
   "metadata": {},
   "outputs": [
    {
     "data": {
      "application/vnd.plotly.v1+json": {
       "config": {
        "plotlyServerURL": "https://plot.ly"
       },
       "data": [
        {
         "fill": "toself",
         "name": "Prevalence of feelings",
         "r": [
          58,
          6,
          233,
          243,
          218,
          365,
          18
         ],
         "theta": [
          "angry",
          "disgust",
          "fear",
          "happy",
          "sad",
          "surprise",
          "neutral"
         ],
         "type": "scatterpolar"
        }
       ],
       "layout": {
        "polar": {
         "radialaxis": {
          "range": [
           0,
           365
          ],
          "visible": false
         }
        },
        "showlegend": false,
        "template": {
         "data": {
          "bar": [
           {
            "error_x": {
             "color": "#2a3f5f"
            },
            "error_y": {
             "color": "#2a3f5f"
            },
            "marker": {
             "line": {
              "color": "#E5ECF6",
              "width": 0.5
             },
             "pattern": {
              "fillmode": "overlay",
              "size": 10,
              "solidity": 0.2
             }
            },
            "type": "bar"
           }
          ],
          "barpolar": [
           {
            "marker": {
             "line": {
              "color": "#E5ECF6",
              "width": 0.5
             },
             "pattern": {
              "fillmode": "overlay",
              "size": 10,
              "solidity": 0.2
             }
            },
            "type": "barpolar"
           }
          ],
          "carpet": [
           {
            "aaxis": {
             "endlinecolor": "#2a3f5f",
             "gridcolor": "white",
             "linecolor": "white",
             "minorgridcolor": "white",
             "startlinecolor": "#2a3f5f"
            },
            "baxis": {
             "endlinecolor": "#2a3f5f",
             "gridcolor": "white",
             "linecolor": "white",
             "minorgridcolor": "white",
             "startlinecolor": "#2a3f5f"
            },
            "type": "carpet"
           }
          ],
          "choropleth": [
           {
            "colorbar": {
             "outlinewidth": 0,
             "ticks": ""
            },
            "type": "choropleth"
           }
          ],
          "contour": [
           {
            "colorbar": {
             "outlinewidth": 0,
             "ticks": ""
            },
            "colorscale": [
             [
              0,
              "#0d0887"
             ],
             [
              0.1111111111111111,
              "#46039f"
             ],
             [
              0.2222222222222222,
              "#7201a8"
             ],
             [
              0.3333333333333333,
              "#9c179e"
             ],
             [
              0.4444444444444444,
              "#bd3786"
             ],
             [
              0.5555555555555556,
              "#d8576b"
             ],
             [
              0.6666666666666666,
              "#ed7953"
             ],
             [
              0.7777777777777778,
              "#fb9f3a"
             ],
             [
              0.8888888888888888,
              "#fdca26"
             ],
             [
              1,
              "#f0f921"
             ]
            ],
            "type": "contour"
           }
          ],
          "contourcarpet": [
           {
            "colorbar": {
             "outlinewidth": 0,
             "ticks": ""
            },
            "type": "contourcarpet"
           }
          ],
          "heatmap": [
           {
            "colorbar": {
             "outlinewidth": 0,
             "ticks": ""
            },
            "colorscale": [
             [
              0,
              "#0d0887"
             ],
             [
              0.1111111111111111,
              "#46039f"
             ],
             [
              0.2222222222222222,
              "#7201a8"
             ],
             [
              0.3333333333333333,
              "#9c179e"
             ],
             [
              0.4444444444444444,
              "#bd3786"
             ],
             [
              0.5555555555555556,
              "#d8576b"
             ],
             [
              0.6666666666666666,
              "#ed7953"
             ],
             [
              0.7777777777777778,
              "#fb9f3a"
             ],
             [
              0.8888888888888888,
              "#fdca26"
             ],
             [
              1,
              "#f0f921"
             ]
            ],
            "type": "heatmap"
           }
          ],
          "heatmapgl": [
           {
            "colorbar": {
             "outlinewidth": 0,
             "ticks": ""
            },
            "colorscale": [
             [
              0,
              "#0d0887"
             ],
             [
              0.1111111111111111,
              "#46039f"
             ],
             [
              0.2222222222222222,
              "#7201a8"
             ],
             [
              0.3333333333333333,
              "#9c179e"
             ],
             [
              0.4444444444444444,
              "#bd3786"
             ],
             [
              0.5555555555555556,
              "#d8576b"
             ],
             [
              0.6666666666666666,
              "#ed7953"
             ],
             [
              0.7777777777777778,
              "#fb9f3a"
             ],
             [
              0.8888888888888888,
              "#fdca26"
             ],
             [
              1,
              "#f0f921"
             ]
            ],
            "type": "heatmapgl"
           }
          ],
          "histogram": [
           {
            "marker": {
             "pattern": {
              "fillmode": "overlay",
              "size": 10,
              "solidity": 0.2
             }
            },
            "type": "histogram"
           }
          ],
          "histogram2d": [
           {
            "colorbar": {
             "outlinewidth": 0,
             "ticks": ""
            },
            "colorscale": [
             [
              0,
              "#0d0887"
             ],
             [
              0.1111111111111111,
              "#46039f"
             ],
             [
              0.2222222222222222,
              "#7201a8"
             ],
             [
              0.3333333333333333,
              "#9c179e"
             ],
             [
              0.4444444444444444,
              "#bd3786"
             ],
             [
              0.5555555555555556,
              "#d8576b"
             ],
             [
              0.6666666666666666,
              "#ed7953"
             ],
             [
              0.7777777777777778,
              "#fb9f3a"
             ],
             [
              0.8888888888888888,
              "#fdca26"
             ],
             [
              1,
              "#f0f921"
             ]
            ],
            "type": "histogram2d"
           }
          ],
          "histogram2dcontour": [
           {
            "colorbar": {
             "outlinewidth": 0,
             "ticks": ""
            },
            "colorscale": [
             [
              0,
              "#0d0887"
             ],
             [
              0.1111111111111111,
              "#46039f"
             ],
             [
              0.2222222222222222,
              "#7201a8"
             ],
             [
              0.3333333333333333,
              "#9c179e"
             ],
             [
              0.4444444444444444,
              "#bd3786"
             ],
             [
              0.5555555555555556,
              "#d8576b"
             ],
             [
              0.6666666666666666,
              "#ed7953"
             ],
             [
              0.7777777777777778,
              "#fb9f3a"
             ],
             [
              0.8888888888888888,
              "#fdca26"
             ],
             [
              1,
              "#f0f921"
             ]
            ],
            "type": "histogram2dcontour"
           }
          ],
          "mesh3d": [
           {
            "colorbar": {
             "outlinewidth": 0,
             "ticks": ""
            },
            "type": "mesh3d"
           }
          ],
          "parcoords": [
           {
            "line": {
             "colorbar": {
              "outlinewidth": 0,
              "ticks": ""
             }
            },
            "type": "parcoords"
           }
          ],
          "pie": [
           {
            "automargin": true,
            "type": "pie"
           }
          ],
          "scatter": [
           {
            "fillpattern": {
             "fillmode": "overlay",
             "size": 10,
             "solidity": 0.2
            },
            "type": "scatter"
           }
          ],
          "scatter3d": [
           {
            "line": {
             "colorbar": {
              "outlinewidth": 0,
              "ticks": ""
             }
            },
            "marker": {
             "colorbar": {
              "outlinewidth": 0,
              "ticks": ""
             }
            },
            "type": "scatter3d"
           }
          ],
          "scattercarpet": [
           {
            "marker": {
             "colorbar": {
              "outlinewidth": 0,
              "ticks": ""
             }
            },
            "type": "scattercarpet"
           }
          ],
          "scattergeo": [
           {
            "marker": {
             "colorbar": {
              "outlinewidth": 0,
              "ticks": ""
             }
            },
            "type": "scattergeo"
           }
          ],
          "scattergl": [
           {
            "marker": {
             "colorbar": {
              "outlinewidth": 0,
              "ticks": ""
             }
            },
            "type": "scattergl"
           }
          ],
          "scattermapbox": [
           {
            "marker": {
             "colorbar": {
              "outlinewidth": 0,
              "ticks": ""
             }
            },
            "type": "scattermapbox"
           }
          ],
          "scatterpolar": [
           {
            "marker": {
             "colorbar": {
              "outlinewidth": 0,
              "ticks": ""
             }
            },
            "type": "scatterpolar"
           }
          ],
          "scatterpolargl": [
           {
            "marker": {
             "colorbar": {
              "outlinewidth": 0,
              "ticks": ""
             }
            },
            "type": "scatterpolargl"
           }
          ],
          "scatterternary": [
           {
            "marker": {
             "colorbar": {
              "outlinewidth": 0,
              "ticks": ""
             }
            },
            "type": "scatterternary"
           }
          ],
          "surface": [
           {
            "colorbar": {
             "outlinewidth": 0,
             "ticks": ""
            },
            "colorscale": [
             [
              0,
              "#0d0887"
             ],
             [
              0.1111111111111111,
              "#46039f"
             ],
             [
              0.2222222222222222,
              "#7201a8"
             ],
             [
              0.3333333333333333,
              "#9c179e"
             ],
             [
              0.4444444444444444,
              "#bd3786"
             ],
             [
              0.5555555555555556,
              "#d8576b"
             ],
             [
              0.6666666666666666,
              "#ed7953"
             ],
             [
              0.7777777777777778,
              "#fb9f3a"
             ],
             [
              0.8888888888888888,
              "#fdca26"
             ],
             [
              1,
              "#f0f921"
             ]
            ],
            "type": "surface"
           }
          ],
          "table": [
           {
            "cells": {
             "fill": {
              "color": "#EBF0F8"
             },
             "line": {
              "color": "white"
             }
            },
            "header": {
             "fill": {
              "color": "#C8D4E3"
             },
             "line": {
              "color": "white"
             }
            },
            "type": "table"
           }
          ]
         },
         "layout": {
          "annotationdefaults": {
           "arrowcolor": "#2a3f5f",
           "arrowhead": 0,
           "arrowwidth": 1
          },
          "autotypenumbers": "strict",
          "coloraxis": {
           "colorbar": {
            "outlinewidth": 0,
            "ticks": ""
           }
          },
          "colorscale": {
           "diverging": [
            [
             0,
             "#8e0152"
            ],
            [
             0.1,
             "#c51b7d"
            ],
            [
             0.2,
             "#de77ae"
            ],
            [
             0.3,
             "#f1b6da"
            ],
            [
             0.4,
             "#fde0ef"
            ],
            [
             0.5,
             "#f7f7f7"
            ],
            [
             0.6,
             "#e6f5d0"
            ],
            [
             0.7,
             "#b8e186"
            ],
            [
             0.8,
             "#7fbc41"
            ],
            [
             0.9,
             "#4d9221"
            ],
            [
             1,
             "#276419"
            ]
           ],
           "sequential": [
            [
             0,
             "#0d0887"
            ],
            [
             0.1111111111111111,
             "#46039f"
            ],
            [
             0.2222222222222222,
             "#7201a8"
            ],
            [
             0.3333333333333333,
             "#9c179e"
            ],
            [
             0.4444444444444444,
             "#bd3786"
            ],
            [
             0.5555555555555556,
             "#d8576b"
            ],
            [
             0.6666666666666666,
             "#ed7953"
            ],
            [
             0.7777777777777778,
             "#fb9f3a"
            ],
            [
             0.8888888888888888,
             "#fdca26"
            ],
            [
             1,
             "#f0f921"
            ]
           ],
           "sequentialminus": [
            [
             0,
             "#0d0887"
            ],
            [
             0.1111111111111111,
             "#46039f"
            ],
            [
             0.2222222222222222,
             "#7201a8"
            ],
            [
             0.3333333333333333,
             "#9c179e"
            ],
            [
             0.4444444444444444,
             "#bd3786"
            ],
            [
             0.5555555555555556,
             "#d8576b"
            ],
            [
             0.6666666666666666,
             "#ed7953"
            ],
            [
             0.7777777777777778,
             "#fb9f3a"
            ],
            [
             0.8888888888888888,
             "#fdca26"
            ],
            [
             1,
             "#f0f921"
            ]
           ]
          },
          "colorway": [
           "#636efa",
           "#EF553B",
           "#00cc96",
           "#ab63fa",
           "#FFA15A",
           "#19d3f3",
           "#FF6692",
           "#B6E880",
           "#FF97FF",
           "#FECB52"
          ],
          "font": {
           "color": "#2a3f5f"
          },
          "geo": {
           "bgcolor": "white",
           "lakecolor": "white",
           "landcolor": "#E5ECF6",
           "showlakes": true,
           "showland": true,
           "subunitcolor": "white"
          },
          "hoverlabel": {
           "align": "left"
          },
          "hovermode": "closest",
          "mapbox": {
           "style": "light"
          },
          "paper_bgcolor": "white",
          "plot_bgcolor": "#E5ECF6",
          "polar": {
           "angularaxis": {
            "gridcolor": "white",
            "linecolor": "white",
            "ticks": ""
           },
           "bgcolor": "#E5ECF6",
           "radialaxis": {
            "gridcolor": "white",
            "linecolor": "white",
            "ticks": ""
           }
          },
          "scene": {
           "xaxis": {
            "backgroundcolor": "#E5ECF6",
            "gridcolor": "white",
            "gridwidth": 2,
            "linecolor": "white",
            "showbackground": true,
            "ticks": "",
            "zerolinecolor": "white"
           },
           "yaxis": {
            "backgroundcolor": "#E5ECF6",
            "gridcolor": "white",
            "gridwidth": 2,
            "linecolor": "white",
            "showbackground": true,
            "ticks": "",
            "zerolinecolor": "white"
           },
           "zaxis": {
            "backgroundcolor": "#E5ECF6",
            "gridcolor": "white",
            "gridwidth": 2,
            "linecolor": "white",
            "showbackground": true,
            "ticks": "",
            "zerolinecolor": "white"
           }
          },
          "shapedefaults": {
           "line": {
            "color": "#2a3f5f"
           }
          },
          "ternary": {
           "aaxis": {
            "gridcolor": "white",
            "linecolor": "white",
            "ticks": ""
           },
           "baxis": {
            "gridcolor": "white",
            "linecolor": "white",
            "ticks": ""
           },
           "bgcolor": "#E5ECF6",
           "caxis": {
            "gridcolor": "white",
            "linecolor": "white",
            "ticks": ""
           }
          },
          "title": {
           "x": 0.05
          },
          "xaxis": {
           "automargin": true,
           "gridcolor": "white",
           "linecolor": "white",
           "ticks": "",
           "title": {
            "standoff": 15
           },
           "zerolinecolor": "white",
           "zerolinewidth": 2
          },
          "yaxis": {
           "automargin": true,
           "gridcolor": "white",
           "linecolor": "white",
           "ticks": "",
           "title": {
            "standoff": 15
           },
           "zerolinecolor": "white",
           "zerolinewidth": 2
          }
         }
        },
        "title": {
         "text": "Prevalence of feelings"
        }
       }
      }
     },
     "metadata": {},
     "output_type": "display_data"
    }
   ],
   "source": [
    "categories = [\"angry\",\n",
    "            \"disgust\",\n",
    "            \"fear\",\n",
    "            \"happy\",\n",
    "            \"sad\",\n",
    "            \"surprise\",\n",
    "            \"neutral\"]\n",
    "#values = [max_prob_df[max_prob_df['feeling'] == category]['frame'].nunique() for category in categories]\n",
    "\n",
    "# Define the categories and values\n",
    "#categories = feeling_counts.index\n",
    "values = feeling_counts.values\n",
    "\n",
    "# Create the radar chart\n",
    "data = go.Scatterpolar(\n",
    "    r = values,\n",
    "    theta = categories,\n",
    "    fill = 'toself',\n",
    "    name = 'Prevalence of feelings'\n",
    ")\n",
    "\n",
    "# Set the layout for the chart\n",
    "layout = go.Layout(\n",
    "    polar = dict(\n",
    "        radialaxis = dict(\n",
    "            visible = False,\n",
    "            range = [0, max(values)]\n",
    "        )\n",
    "    ),\n",
    "    showlegend = False,\n",
    "    title = 'Prevalence of feelings'\n",
    ")\n",
    "\n",
    "# Create the figure object and display the chart\n",
    "fig = go.Figure(data=[data], layout=layout)\n",
    "fig.show()"
   ]
  },
  {
   "cell_type": "code",
   "execution_count": null,
   "metadata": {},
   "outputs": [
    {
     "name": "stdout",
     "output_type": "stream",
     "text": [
      "WARNING:tensorflow:Error in loading the saved optimizer state. As a result, your model is starting with a freshly initialized optimizer.\n"
     ]
    }
   ],
   "source": [
    "from paz.pipelines import MiniXceptionFER\n",
    "\n",
    "classify = MiniXceptionFER()"
   ]
  },
  {
   "cell_type": "code",
   "execution_count": null,
   "metadata": {},
   "outputs": [],
   "source": [
    "emotion_categories= {\n",
    "            0: \"angry\",\n",
    "            1: \"disgust\",\n",
    "            2: \"fear\",\n",
    "            3: \"happy\",\n",
    "            4: \"sad\",\n",
    "            5: \"surprise\",\n",
    "            6: \"neutral\",\n",
    "        }"
   ]
  },
  {
   "cell_type": "code",
   "execution_count": null,
   "metadata": {},
   "outputs": [
    {
     "ename": "NameError",
     "evalue": "name 'results' is not defined",
     "output_type": "error",
     "traceback": [
      "\u001b[0;31m---------------------------------------------------------------------------\u001b[0m",
      "\u001b[0;31mNameError\u001b[0m                                 Traceback (most recent call last)",
      "Cell \u001b[0;32mIn[152], line 2\u001b[0m\n\u001b[1;32m      1\u001b[0m \u001b[39m# Display the first image in the results list\u001b[39;00m\n\u001b[0;32m----> 2\u001b[0m plt\u001b[39m.\u001b[39mimshow(results[\u001b[39m66\u001b[39m], cmap\u001b[39m=\u001b[39m\u001b[39m'\u001b[39m\u001b[39mgray\u001b[39m\u001b[39m'\u001b[39m)\n\u001b[1;32m      3\u001b[0m plt\u001b[39m.\u001b[39mshow()\n",
      "\u001b[0;31mNameError\u001b[0m: name 'results' is not defined"
     ]
    }
   ],
   "source": [
    "# Display the first image in the results list\n",
    "plt.imshow(results[66], cmap='gray')\n",
    "plt.show()"
   ]
  },
  {
   "attachments": {},
   "cell_type": "markdown",
   "metadata": {},
   "source": [
    "Old / not yet used"
   ]
  },
  {
   "cell_type": "code",
   "execution_count": null,
   "metadata": {},
   "outputs": [
    {
     "ename": "ValueError",
     "evalue": "Face could not be detected. Please confirm that the picture is a face photo or consider to set enforce_detection param to False.",
     "output_type": "error",
     "traceback": [
      "\u001b[0;31m---------------------------------------------------------------------------\u001b[0m",
      "\u001b[0;31mValueError\u001b[0m                                Traceback (most recent call last)",
      "Cell \u001b[0;32mIn[19], line 24\u001b[0m\n\u001b[1;32m     22\u001b[0m \u001b[39mfor\u001b[39;00m (x, y, w, h) \u001b[39min\u001b[39;00m faces:\n\u001b[1;32m     23\u001b[0m     face_img \u001b[39m=\u001b[39m frame[y:y\u001b[39m+\u001b[39mh, x:x\u001b[39m+\u001b[39mw]\n\u001b[0;32m---> 24\u001b[0m     emotion_preds \u001b[39m=\u001b[39m DeepFace\u001b[39m.\u001b[39;49manalyze(face_img, actions\u001b[39m=\u001b[39;49m[\u001b[39m\"\u001b[39;49m\u001b[39memotion\u001b[39;49m\u001b[39m\"\u001b[39;49m])\n\u001b[1;32m     25\u001b[0m     emotion_dict \u001b[39m=\u001b[39m emotion_preds[\u001b[39m\"\u001b[39m\u001b[39memotion\u001b[39m\u001b[39m\"\u001b[39m]\n\u001b[1;32m     27\u001b[0m     \u001b[39m# Add the timestamp and emotion probabilities to the dataframe\u001b[39;00m\n",
      "File \u001b[0;32m~/Neue_Fische/NeuralXpresso/.venv/lib/python3.9/site-packages/deepface/DeepFace.py:313\u001b[0m, in \u001b[0;36manalyze\u001b[0;34m(img_path, actions, enforce_detection, detector_backend, align, silent)\u001b[0m\n\u001b[1;32m    310\u001b[0m \u001b[39m# ---------------------------------\u001b[39;00m\n\u001b[1;32m    311\u001b[0m resp_objects \u001b[39m=\u001b[39m []\n\u001b[0;32m--> 313\u001b[0m img_objs \u001b[39m=\u001b[39m functions\u001b[39m.\u001b[39;49mextract_faces(\n\u001b[1;32m    314\u001b[0m     img\u001b[39m=\u001b[39;49mimg_path,\n\u001b[1;32m    315\u001b[0m     target_size\u001b[39m=\u001b[39;49m(\u001b[39m224\u001b[39;49m, \u001b[39m224\u001b[39;49m),\n\u001b[1;32m    316\u001b[0m     detector_backend\u001b[39m=\u001b[39;49mdetector_backend,\n\u001b[1;32m    317\u001b[0m     grayscale\u001b[39m=\u001b[39;49m\u001b[39mFalse\u001b[39;49;00m,\n\u001b[1;32m    318\u001b[0m     enforce_detection\u001b[39m=\u001b[39;49menforce_detection,\n\u001b[1;32m    319\u001b[0m     align\u001b[39m=\u001b[39;49malign,\n\u001b[1;32m    320\u001b[0m )\n\u001b[1;32m    322\u001b[0m \u001b[39mfor\u001b[39;00m img_content, img_region, _ \u001b[39min\u001b[39;00m img_objs:\n\u001b[1;32m    323\u001b[0m     \u001b[39mif\u001b[39;00m img_content\u001b[39m.\u001b[39mshape[\u001b[39m0\u001b[39m] \u001b[39m>\u001b[39m \u001b[39m0\u001b[39m \u001b[39mand\u001b[39;00m img_content\u001b[39m.\u001b[39mshape[\u001b[39m1\u001b[39m] \u001b[39m>\u001b[39m \u001b[39m0\u001b[39m:\n",
      "File \u001b[0;32m~/Neue_Fische/NeuralXpresso/.venv/lib/python3.9/site-packages/deepface/commons/functions.py:115\u001b[0m, in \u001b[0;36mextract_faces\u001b[0;34m(img, target_size, detector_backend, grayscale, enforce_detection, align)\u001b[0m\n\u001b[1;32m    113\u001b[0m \u001b[39m# in case of no face found\u001b[39;00m\n\u001b[1;32m    114\u001b[0m \u001b[39mif\u001b[39;00m \u001b[39mlen\u001b[39m(face_objs) \u001b[39m==\u001b[39m \u001b[39m0\u001b[39m \u001b[39mand\u001b[39;00m enforce_detection \u001b[39mis\u001b[39;00m \u001b[39mTrue\u001b[39;00m:\n\u001b[0;32m--> 115\u001b[0m     \u001b[39mraise\u001b[39;00m \u001b[39mValueError\u001b[39;00m(\n\u001b[1;32m    116\u001b[0m         \u001b[39m\"\u001b[39m\u001b[39mFace could not be detected. Please confirm that the picture is a face photo \u001b[39m\u001b[39m\"\u001b[39m\n\u001b[1;32m    117\u001b[0m         \u001b[39m+\u001b[39m \u001b[39m\"\u001b[39m\u001b[39mor consider to set enforce_detection param to False.\u001b[39m\u001b[39m\"\u001b[39m\n\u001b[1;32m    118\u001b[0m     )\n\u001b[1;32m    120\u001b[0m \u001b[39mif\u001b[39;00m \u001b[39mlen\u001b[39m(face_objs) \u001b[39m==\u001b[39m \u001b[39m0\u001b[39m \u001b[39mand\u001b[39;00m enforce_detection \u001b[39mis\u001b[39;00m \u001b[39mFalse\u001b[39;00m:\n\u001b[1;32m    121\u001b[0m     face_objs \u001b[39m=\u001b[39m [(img, img_region, \u001b[39m0\u001b[39m)]\n",
      "\u001b[0;31mValueError\u001b[0m: Face could not be detected. Please confirm that the picture is a face photo or consider to set enforce_detection param to False."
     ]
    }
   ],
   "source": [
    "\n",
    "    \n",
    "    # Loop through each detected face and perform emotion detection\n",
    "    for (x, y, w, h) in faces:\n",
    "        face_img = frame[y:y+h, x:x+w]\n",
    "        emotion_preds = DeepFace.analyze(face_img, actions=[\"emotion\"])\n",
    "        emotion_dict = emotion_preds[\"emotion\"]\n",
    "\n",
    "        #labels for plotting on video\n",
    "        emotion_label = max(emotion_preds[\"emotion\"].items(), key=lambda x: x[1])  # get the label with the highest probability\n",
    "        cv2.putText(frame, emotion_label[0], (x, y-10), cv2.FONT_HERSHEY_SIMPLEX, 0.9, (0, 255, 0), 2)\n",
    "        cv2.rectangle(frame, (x, y), (x+w, y+h), (0, 255, 0), 2)\n",
    "        \n",
    "        # Add the timestamp and emotion probabilities to the dataframe\n",
    "        timestamp = frame_count / video.get(cv2.CAP_PROP_FPS)\n",
    "        row = {'timestamp': timestamp, 'emotion': emotion_dict}\n",
    "        df = df.append(row, ignore_index=True)\n",
    "        \n",
    "        # Draw a rectangle around the face and display the dominant emotion\n",
    "        emotion_label = max(emotion_dict.items(), key=lambda x: x[1])[0]\n",
    "        cv2.putText(frame, emotion_label, (x, y-10), cv2.FONT_HERSHEY_SIMPLEX, 0.9, (0, 255, 0), 2)\n",
    "        cv2.rectangle(frame, (x, y), (x+w, y+h), (0, 255, 0), 2)\n",
    "    \n",
    "    # Show the frame with the detected faces and emotions\n",
    "    cv2.imshow(\"Emotion Detection\", frame)\n",
    "    if cv2.waitKey(1) == ord(\"q\"):\n",
    "        break\n",
    "\n",
    "# Release the video and close the window\n",
    "video.release()\n",
    "cv2.destroyAllWindows()\n",
    "\n",
    "# Print the dataframe\n",
    "print(df)"
   ]
  }
 ],
 "metadata": {
  "kernelspec": {
   "display_name": ".venv",
   "language": "python",
   "name": "python3"
  },
  "language_info": {
   "codemirror_mode": {
    "name": "ipython",
    "version": 3
   },
   "file_extension": ".py",
   "mimetype": "text/x-python",
   "name": "python",
   "nbconvert_exporter": "python",
   "pygments_lexer": "ipython3",
   "version": "3.9.8"
  },
  "orig_nbformat": 4,
  "vscode": {
   "interpreter": {
    "hash": "292d9171ab7c5408b6324c6043caf24aa9a11213294e6785916c17bd69f18dee"
   }
  }
 },
 "nbformat": 4,
 "nbformat_minor": 2
}
